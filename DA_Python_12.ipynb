{
  "nbformat": 4,
  "nbformat_minor": 0,
  "metadata": {
    "colab": {
      "provenance": [],
      "authorship_tag": "ABX9TyNmR2YUOOICnCdVcFVf2EzF",
      "include_colab_link": true
    },
    "kernelspec": {
      "name": "python3",
      "display_name": "Python 3"
    },
    "language_info": {
      "name": "python"
    }
  },
  "cells": [
    {
      "cell_type": "markdown",
      "metadata": {
        "id": "view-in-github",
        "colab_type": "text"
      },
      "source": [
        "<a href=\"https://colab.research.google.com/github/Praneeth9630/Data-Science-and-AI/blob/main/DA_Python_12.ipynb\" target=\"_parent\"><img src=\"https://colab.research.google.com/assets/colab-badge.svg\" alt=\"Open In Colab\"/></a>"
      ]
    },
    {
      "cell_type": "code",
      "execution_count": 1,
      "metadata": {
        "colab": {
          "base_uri": "https://localhost:8080/"
        },
        "id": "fwcCjriXUu_9",
        "outputId": "9507cc14-72ac-4a8f-f3c3-ae9159ce0921"
      },
      "outputs": [
        {
          "output_type": "stream",
          "name": "stdout",
          "text": [
            "enter the item value500\n",
            "sum: 500\n",
            "enter the item value480\n",
            "sum: 980\n",
            "enter the item value#\n",
            "the final value is: 980\n"
          ]
        }
      ],
      "source": [
        "s=0\n",
        "while True:\n",
        "  n=input(\"enter the item value\")\n",
        "  if n==\"#\":\n",
        "    break\n",
        "  s= s+eval(n)\n",
        "  print(\"sum:\",s)\n",
        "print(\"the final value is:\",s)"
      ]
    },
    {
      "cell_type": "code",
      "source": [
        "x = 1\n",
        "\n",
        "while x<=5:\n",
        "  print(\"Python\")\n",
        "  if x == 10:\n",
        "    break\n",
        "  x += 1\n",
        "else:\n",
        "  print(\"DS\")"
      ],
      "metadata": {
        "colab": {
          "base_uri": "https://localhost:8080/"
        },
        "id": "wnXCbiacbJvB",
        "outputId": "49e75146-f5a8-4ffc-8b7a-73ca98d9593e"
      },
      "execution_count": 2,
      "outputs": [
        {
          "output_type": "stream",
          "name": "stdout",
          "text": [
            "Python\n",
            "Python\n",
            "Python\n",
            "Python\n",
            "Python\n",
            "DS\n"
          ]
        }
      ]
    },
    {
      "cell_type": "code",
      "source": [
        "x = 1\n",
        "\n",
        "while x<=5:\n",
        "  print(\"Python\")\n",
        "  if x == 3:\n",
        "    break\n",
        "  x += 1\n",
        "else:\n",
        "  print(\"DS\")"
      ],
      "metadata": {
        "colab": {
          "base_uri": "https://localhost:8080/"
        },
        "id": "DqH3bIlKdCv0",
        "outputId": "25fc12ac-ddab-429c-c4da-2f43e94e3d4c"
      },
      "execution_count": 3,
      "outputs": [
        {
          "output_type": "stream",
          "name": "stdout",
          "text": [
            "Python\n",
            "Python\n",
            "Python\n"
          ]
        }
      ]
    },
    {
      "cell_type": "markdown",
      "source": [
        "**loop:** repeating the code\n",
        "\n",
        "**while:** till condition satisfies\n",
        "\n",
        "**for:** for each value in sequence\n",
        "\n",
        "**for loop:** for each value in sequence, repeating the\n",
        "\n",
        "**sequence:** str, list, tuple, set, range\n",
        "\n",
        "**Syntax of for loop:**\n",
        "\n",
        "for variable_name in sequence:\n",
        "\n",
        "    block of code\n",
        "\n",
        "\n",
        "\n",
        "**while loop**"
      ],
      "metadata": {
        "id": "E6vFRmZwi2eN"
      }
    },
    {
      "cell_type": "code",
      "source": [
        "l = [1,2,3,4]\n",
        "\n",
        "i = 1\n",
        "while i in l:\n",
        "  print(i)\n",
        "  i = i + 1\n",
        ""
      ],
      "metadata": {
        "colab": {
          "base_uri": "https://localhost:8080/"
        },
        "id": "p6RpA165dIuu",
        "outputId": "68376adc-0482-4dc5-cb8b-529bf26b7e66"
      },
      "execution_count": 4,
      "outputs": [
        {
          "output_type": "stream",
          "name": "stdout",
          "text": [
            "1\n",
            "2\n",
            "3\n",
            "4\n"
          ]
        }
      ]
    },
    {
      "cell_type": "markdown",
      "source": [
        "**For loop**"
      ],
      "metadata": {
        "id": "SzyXH99xjtbt"
      }
    },
    {
      "cell_type": "code",
      "source": [
        "l = [1,2,3,4]\n",
        "\n",
        "i = 1\n",
        "for i in l:\n",
        "  print(i)"
      ],
      "metadata": {
        "colab": {
          "base_uri": "https://localhost:8080/"
        },
        "id": "8vlA6miSjmRz",
        "outputId": "e5398b1f-19e5-406c-91e2-271ba5f37c04"
      },
      "execution_count": 5,
      "outputs": [
        {
          "output_type": "stream",
          "name": "stdout",
          "text": [
            "1\n",
            "2\n",
            "3\n",
            "4\n"
          ]
        }
      ]
    },
    {
      "cell_type": "code",
      "source": [
        "for i in \"abc\":\n",
        "  print(i, \"Python\")"
      ],
      "metadata": {
        "colab": {
          "base_uri": "https://localhost:8080/"
        },
        "id": "_86Bnd2YjsJB",
        "outputId": "d92b013e-2b60-42bf-9315-9d3aa90300d8"
      },
      "execution_count": 6,
      "outputs": [
        {
          "output_type": "stream",
          "name": "stdout",
          "text": [
            "a Python\n",
            "b Python\n",
            "c Python\n"
          ]
        }
      ]
    },
    {
      "cell_type": "code",
      "source": [
        "for i in 100:\n",
        "  print(i, \"Python\")"
      ],
      "metadata": {
        "colab": {
          "base_uri": "https://localhost:8080/",
          "height": 158
        },
        "id": "VOIPs4OIkLZh",
        "outputId": "d566c198-88bd-4309-9594-f22654add05e"
      },
      "execution_count": 7,
      "outputs": [
        {
          "output_type": "error",
          "ename": "TypeError",
          "evalue": "'int' object is not iterable",
          "traceback": [
            "\u001b[0;31m---------------------------------------------------------------------------\u001b[0m",
            "\u001b[0;31mTypeError\u001b[0m                                 Traceback (most recent call last)",
            "\u001b[0;32m<ipython-input-7-0faf8a3f6ea9>\u001b[0m in \u001b[0;36m<cell line: 1>\u001b[0;34m()\u001b[0m\n\u001b[0;32m----> 1\u001b[0;31m \u001b[0;32mfor\u001b[0m \u001b[0mi\u001b[0m \u001b[0;32min\u001b[0m \u001b[0;36m100\u001b[0m\u001b[0;34m:\u001b[0m\u001b[0;34m\u001b[0m\u001b[0;34m\u001b[0m\u001b[0m\n\u001b[0m\u001b[1;32m      2\u001b[0m   \u001b[0mprint\u001b[0m\u001b[0;34m(\u001b[0m\u001b[0mi\u001b[0m\u001b[0;34m,\u001b[0m \u001b[0;34m\"Python\"\u001b[0m\u001b[0;34m)\u001b[0m\u001b[0;34m\u001b[0m\u001b[0;34m\u001b[0m\u001b[0m\n",
            "\u001b[0;31mTypeError\u001b[0m: 'int' object is not iterable"
          ]
        }
      ]
    },
    {
      "cell_type": "code",
      "source": [
        "for i in 11.5:\n",
        "  print(i, \"Python\")"
      ],
      "metadata": {
        "colab": {
          "base_uri": "https://localhost:8080/",
          "height": 158
        },
        "id": "m0-TPZhukOi4",
        "outputId": "c26704d7-9c50-486e-b5be-8c57bd39aed3"
      },
      "execution_count": 8,
      "outputs": [
        {
          "output_type": "error",
          "ename": "TypeError",
          "evalue": "'float' object is not iterable",
          "traceback": [
            "\u001b[0;31m---------------------------------------------------------------------------\u001b[0m",
            "\u001b[0;31mTypeError\u001b[0m                                 Traceback (most recent call last)",
            "\u001b[0;32m<ipython-input-8-77f2d1b66a47>\u001b[0m in \u001b[0;36m<cell line: 1>\u001b[0;34m()\u001b[0m\n\u001b[0;32m----> 1\u001b[0;31m \u001b[0;32mfor\u001b[0m \u001b[0mi\u001b[0m \u001b[0;32min\u001b[0m \u001b[0;36m11.5\u001b[0m\u001b[0;34m:\u001b[0m\u001b[0;34m\u001b[0m\u001b[0;34m\u001b[0m\u001b[0m\n\u001b[0m\u001b[1;32m      2\u001b[0m   \u001b[0mprint\u001b[0m\u001b[0;34m(\u001b[0m\u001b[0mi\u001b[0m\u001b[0;34m,\u001b[0m \u001b[0;34m\"Python\"\u001b[0m\u001b[0;34m)\u001b[0m\u001b[0;34m\u001b[0m\u001b[0;34m\u001b[0m\u001b[0m\n",
            "\u001b[0;31mTypeError\u001b[0m: 'float' object is not iterable"
          ]
        }
      ]
    },
    {
      "cell_type": "code",
      "source": [
        "l = [\"srk\", 1,23.4, True, 23, 46,57, [1,2,3]]\n",
        "s=0\n",
        "for i in l:\n",
        "  if type(i) in [int, float]:\n",
        "    s=s+i\n",
        "print(s)"
      ],
      "metadata": {
        "colab": {
          "base_uri": "https://localhost:8080/"
        },
        "id": "stGDUK5ckRie",
        "outputId": "1bdb1bb2-2dab-4b04-f685-1ccb2bd2a0ea"
      },
      "execution_count": 12,
      "outputs": [
        {
          "output_type": "stream",
          "name": "stdout",
          "text": [
            "150.4\n"
          ]
        }
      ]
    },
    {
      "cell_type": "code",
      "source": [
        "l = [\"srk\", 1,23.4, True, 23, 46,57, [1,2,3]]\n",
        "n = []\n",
        "\n",
        "for i in l:\n",
        "  if type(i) == int or type(i) == float:\n",
        "    n.append(i)\n",
        "\n",
        "print(n)"
      ],
      "metadata": {
        "colab": {
          "base_uri": "https://localhost:8080/"
        },
        "id": "ucA4swTHn8qc",
        "outputId": "57722f62-293b-47d2-e116-4c7b1ca0ef56"
      },
      "execution_count": 13,
      "outputs": [
        {
          "output_type": "stream",
          "name": "stdout",
          "text": [
            "[1, 23.4, 23, 46, 57]\n"
          ]
        }
      ]
    },
    {
      "cell_type": "code",
      "source": [
        "l = [\"srk\",1,23.4, True, 23,46,57, [1,2,3]]\n",
        "i=[]\n",
        "f=[]\n",
        "b=[]\n",
        "s=[]\n",
        "li=[]\n",
        "t=[]\n",
        "s=[]\n",
        "d= []\n",
        "\n",
        "for z in l:\n",
        "  if type(z) == int:\n",
        "    i.append(z)\n",
        "  elif type(z) == float:\n",
        "    f.append(z)\n",
        "  elif type(z) == bool:\n",
        "    b.append(z)\n",
        "  elif type(z) == str:\n",
        "    s.append(z)\n",
        "  elif type(z) == list:\n",
        "    li.append(z)\n",
        "\n",
        "\n",
        "print(i)\n",
        "print(f)\n",
        "print(b)\n",
        "print(s)\n",
        "print(li)\n",
        "\n",
        "print(i, f, b, s, li)"
      ],
      "metadata": {
        "colab": {
          "base_uri": "https://localhost:8080/"
        },
        "id": "TOiQDvwZoZLq",
        "outputId": "91931a59-4376-47e6-e4fc-3043cd15787f"
      },
      "execution_count": 17,
      "outputs": [
        {
          "output_type": "stream",
          "name": "stdout",
          "text": [
            "[1, 23, 46, 57]\n",
            "[23.4]\n",
            "[True]\n",
            "['srk']\n",
            "[[1, 2, 3]]\n",
            "[1, 23, 46, 57] [23.4] [True] ['srk'] [[1, 2, 3]]\n"
          ]
        }
      ]
    },
    {
      "cell_type": "code",
      "source": [],
      "metadata": {
        "id": "gvOHJb8_pHPQ"
      },
      "execution_count": null,
      "outputs": []
    }
  ]
}