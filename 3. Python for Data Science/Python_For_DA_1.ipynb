{
  "nbformat": 4,
  "nbformat_minor": 0,
  "metadata": {
    "colab": {
      "provenance": []
    },
    "kernelspec": {
      "name": "python3",
      "display_name": "Python 3"
    },
    "language_info": {
      "name": "python"
    }
  },
  "cells": [
    {
      "cell_type": "markdown",
      "source": [
        "# **NumPy**\n",
        "**(Numerical Python)**\n",
        "- Used for working with arrays.\n",
        "- In Python we have lists that serve the purpose of arrays, but they are slow to process.\n",
        "- NumPy is incredible library to perform mathematical and statistical operations due to it's fast and memory efficient as it is optimized to work with latest CPU architectures.\n",
        "- NumPy aims to provide an array object that is up to 50x faster than traditional Python lists. So processes can access and manipulate them very efficiently."
      ],
      "metadata": {
        "id": "2RluwyCE-hqd"
      }
    },
    {
      "cell_type": "code",
      "execution_count": null,
      "metadata": {
        "colab": {
          "base_uri": "https://localhost:8080/"
        },
        "id": "IK_xP3rjrNYJ",
        "outputId": "0a585c36-4454-4944-e31a-a13c1ab6a825"
      },
      "outputs": [
        {
          "output_type": "stream",
          "name": "stdout",
          "text": [
            "[11, 12, 13, 14, 15, 16, 17, 18, 19, 20]\n"
          ]
        }
      ],
      "source": [
        "# If we want to add each element in a list with 10\n",
        "\n",
        "l = [1,2,3,4,5,6,7,8,9,10]\n",
        "\n",
        "n = []\n",
        "for i in l:\n",
        "  n.append(i+10)\n",
        "print(n)"
      ]
    },
    {
      "cell_type": "code",
      "source": [
        "import numpy as np"
      ],
      "metadata": {
        "id": "sV7Wk-AAGzUp"
      },
      "execution_count": 2,
      "outputs": []
    },
    {
      "cell_type": "code",
      "source": [
        "l = [1,2,3,4,5,6,7,8,9,10]\n",
        "\n",
        "np.array(l)+10"
      ],
      "metadata": {
        "colab": {
          "base_uri": "https://localhost:8080/"
        },
        "id": "LhTJY8DwE_5F",
        "outputId": "8eb76d9d-c0ac-4f6a-efbe-1d7af515e781"
      },
      "execution_count": null,
      "outputs": [
        {
          "output_type": "execute_result",
          "data": {
            "text/plain": [
              "array([11, 12, 13, 14, 15, 16, 17, 18, 19, 20])"
            ]
          },
          "metadata": {},
          "execution_count": 4
        }
      ]
    },
    {
      "cell_type": "code",
      "source": [
        "np.array([1,2,3,4])+10\n"
      ],
      "metadata": {
        "colab": {
          "base_uri": "https://localhost:8080/"
        },
        "id": "qtsYJ1dQFemg",
        "outputId": "dbba4b6a-5680-4f29-ceb5-98b2d3055164"
      },
      "execution_count": null,
      "outputs": [
        {
          "output_type": "execute_result",
          "data": {
            "text/plain": [
              "array([11, 12, 13, 14])"
            ]
          },
          "metadata": {},
          "execution_count": 5
        }
      ]
    },
    {
      "cell_type": "code",
      "source": [
        "l = [1,2,3,4,5,6,7,8,9,10]\n",
        "a = np.array(l)+10\n",
        "a.tolist()\n"
      ],
      "metadata": {
        "colab": {
          "base_uri": "https://localhost:8080/"
        },
        "id": "nRtQNcsQHLoy",
        "outputId": "496fe52c-f6e1-42ac-a970-ee72c9ed6e16"
      },
      "execution_count": null,
      "outputs": [
        {
          "output_type": "execute_result",
          "data": {
            "text/plain": [
              "[11, 12, 13, 14, 15, 16, 17, 18, 19, 20]"
            ]
          },
          "metadata": {},
          "execution_count": 6
        }
      ]
    },
    {
      "cell_type": "code",
      "source": [
        "import numpy as np"
      ],
      "metadata": {
        "id": "IpaThPqr-iVl"
      },
      "execution_count": null,
      "outputs": []
    },
    {
      "cell_type": "code",
      "source": [
        "# Define the two lists\n",
        "list1 = [1, 2, 3, 4, 5]\n",
        "list2 = [6, 7, 8, 9, 10]\n",
        "\n",
        "result = []\n",
        "# Use a for loop to add corresponding elements of list1 and list2\n",
        "for i in range(len(list1)):\n",
        "    result.append(list1[i] + list2[i])\n",
        "\n",
        "# Print the result\n",
        "print(\"Result:\", result)"
      ],
      "metadata": {
        "colab": {
          "base_uri": "https://localhost:8080/"
        },
        "id": "9FePP3deHWDc",
        "outputId": "1db288cd-3ed3-4f9f-8be7-ba341857f335"
      },
      "execution_count": null,
      "outputs": [
        {
          "output_type": "stream",
          "name": "stdout",
          "text": [
            "Result: [7, 9, 11, 13, 15]\n"
          ]
        }
      ]
    },
    {
      "cell_type": "code",
      "source": [
        "# Same result can be done by arrays easily\n",
        "l1 = [1,2,3,4]\n",
        "l2 = [5,6,7,8]\n",
        "\n",
        "a = np.array(l1) + np.array(l2)\n",
        "print(a)\n",
        "\n",
        "print(a.tolist())"
      ],
      "metadata": {
        "colab": {
          "base_uri": "https://localhost:8080/"
        },
        "id": "flHkHZsa96_d",
        "outputId": "7424b62c-9635-47e6-b455-e4f4d93041d5"
      },
      "execution_count": null,
      "outputs": [
        {
          "output_type": "stream",
          "name": "stdout",
          "text": [
            "[ 6  8 10 12]\n",
            "[6, 8, 10, 12]\n"
          ]
        }
      ]
    },
    {
      "cell_type": "code",
      "source": [
        "# If you want specific items in list we use their index number to get them in list\n",
        "\n",
        "l = [11,45,33,54,66,12,10]\n",
        "index = [1,2,4]\n",
        "n = []\n",
        "\n",
        "for i in index:\n",
        "  n.append(l[i])\n",
        "print(n)"
      ],
      "metadata": {
        "colab": {
          "base_uri": "https://localhost:8080/"
        },
        "id": "64245J4y-Phb",
        "outputId": "4acd4baf-5b2b-4f4a-e5bb-c9a449b88710"
      },
      "execution_count": null,
      "outputs": [
        {
          "output_type": "stream",
          "name": "stdout",
          "text": [
            "[45, 33, 66]\n"
          ]
        }
      ]
    },
    {
      "cell_type": "code",
      "source": [
        "a = np.array(l)\n",
        "a[[1,2,4]]"
      ],
      "metadata": {
        "colab": {
          "base_uri": "https://localhost:8080/"
        },
        "id": "PQ3zAmvgCFu6",
        "outputId": "78a05b8d-653f-4afc-8d51-f5652b8eb886"
      },
      "execution_count": null,
      "outputs": [
        {
          "output_type": "execute_result",
          "data": {
            "text/plain": [
              "array([45, 33, 66])"
            ]
          },
          "metadata": {},
          "execution_count": 17
        }
      ]
    },
    {
      "cell_type": "code",
      "source": [
        "# If you want specific items in list that are even we use this program\n",
        "\n",
        "l = [11,45,33,54,66,12,10]\n",
        "n = []\n",
        "\n",
        "for i in l:\n",
        "  if i%2 == 0:\n",
        "    n.append(i)\n",
        "print(n)"
      ],
      "metadata": {
        "colab": {
          "base_uri": "https://localhost:8080/"
        },
        "id": "QOq2Br56CNbb",
        "outputId": "1a6e0d89-49d1-4fbf-9579-8ac59120e68f"
      },
      "execution_count": null,
      "outputs": [
        {
          "output_type": "stream",
          "name": "stdout",
          "text": [
            "[54, 66, 12, 10]\n"
          ]
        }
      ]
    },
    {
      "cell_type": "code",
      "source": [
        "a = np.array(l)\n",
        "a[a%2==0]"
      ],
      "metadata": {
        "colab": {
          "base_uri": "https://localhost:8080/"
        },
        "id": "vwL1qV5BCkw_",
        "outputId": "536b6547-5c77-4c63-db0b-6e7dda6928d0"
      },
      "execution_count": null,
      "outputs": [
        {
          "output_type": "execute_result",
          "data": {
            "text/plain": [
              "array([54, 66, 12, 10])"
            ]
          },
          "metadata": {},
          "execution_count": 20
        }
      ]
    },
    {
      "cell_type": "markdown",
      "source": [
        "# **NumPy Arrays**\n",
        "\n",
        "**0-D**"
      ],
      "metadata": {
        "id": "eg2OxmUNEqGh"
      }
    },
    {
      "cell_type": "code",
      "source": [
        "# When you convert a fundamental data type as array that is called 0-D Array\n",
        "a = 45.5\n",
        "b = 40\n",
        "c = True\n",
        "d = \"Praneeth\"\n",
        "arr_0 = np.array(a)\n",
        "arr_1 = np.array(b)\n",
        "arr_2 = np.array(c)\n",
        "arr_3 = np.array(d)\n",
        "\n",
        "print(arr_0)\n",
        "print(type(arr_0))\n",
        "\n",
        "print(arr_1)\n",
        "print(type(arr_1))\n",
        "\n",
        "print(arr_2)\n",
        "print(type(arr_2))\n",
        "\n",
        "print(arr_3)\n",
        "print(type(arr_3))"
      ],
      "metadata": {
        "colab": {
          "base_uri": "https://localhost:8080/"
        },
        "id": "LM995ksPC1Bm",
        "outputId": "6a60397f-9558-4314-cc4f-255dd8679af2"
      },
      "execution_count": null,
      "outputs": [
        {
          "output_type": "stream",
          "name": "stdout",
          "text": [
            "45.5\n",
            "<class 'numpy.ndarray'>\n",
            "40\n",
            "<class 'numpy.ndarray'>\n",
            "True\n",
            "<class 'numpy.ndarray'>\n",
            "Praneeth\n",
            "<class 'numpy.ndarray'>\n"
          ]
        }
      ]
    },
    {
      "cell_type": "code",
      "source": [
        "print(arr_0.ndim)\n",
        "print(arr_1.ndim)\n",
        "print(arr_2.ndim)\n",
        "print(arr_3.ndim)"
      ],
      "metadata": {
        "colab": {
          "base_uri": "https://localhost:8080/"
        },
        "id": "vhdIJTuJFuAB",
        "outputId": "b1bddb21-cad2-4223-c085-36841f8954bc"
      },
      "execution_count": null,
      "outputs": [
        {
          "output_type": "stream",
          "name": "stdout",
          "text": [
            "0\n",
            "0\n",
            "0\n",
            "0\n"
          ]
        }
      ]
    },
    {
      "cell_type": "code",
      "source": [
        "print(arr_0.shape)\n",
        "print(arr_1.shape)\n",
        "print(arr_2.shape)\n",
        "print(arr_3.shape)"
      ],
      "metadata": {
        "colab": {
          "base_uri": "https://localhost:8080/"
        },
        "id": "bsLg2DZWJ6Tm",
        "outputId": "75f95907-d8b0-4f49-e46a-25980a64ffb0"
      },
      "execution_count": null,
      "outputs": [
        {
          "output_type": "stream",
          "name": "stdout",
          "text": [
            "()\n",
            "()\n",
            "()\n",
            "()\n"
          ]
        }
      ]
    },
    {
      "cell_type": "code",
      "source": [
        "# But for list,tuple,set,dictionary is considered as a 1-D Array\n",
        "a = [12]\n",
        "arr_0 = np.array(a)\n",
        "\n",
        "print(arr_0)\n",
        "print(type(arr_0))\n"
      ],
      "metadata": {
        "colab": {
          "base_uri": "https://localhost:8080/"
        },
        "id": "4Sv-AmiCF4Hn",
        "outputId": "d3e23265-c8c9-4be0-91a4-eddaaefdf6dd"
      },
      "execution_count": null,
      "outputs": [
        {
          "output_type": "stream",
          "name": "stdout",
          "text": [
            "[12]\n",
            "<class 'numpy.ndarray'>\n"
          ]
        }
      ]
    },
    {
      "cell_type": "code",
      "source": [
        "arr_0.ndim"
      ],
      "metadata": {
        "colab": {
          "base_uri": "https://localhost:8080/"
        },
        "id": "Q8dhnTYaGitf",
        "outputId": "d2b2fd5f-75e3-462f-b845-10f8bef3a34f"
      },
      "execution_count": null,
      "outputs": [
        {
          "output_type": "execute_result",
          "data": {
            "text/plain": [
              "1"
            ]
          },
          "metadata": {},
          "execution_count": 38
        }
      ]
    },
    {
      "cell_type": "code",
      "source": [
        "# This give the ouput of (number of items, )\n",
        "arr_0.shape"
      ],
      "metadata": {
        "colab": {
          "base_uri": "https://localhost:8080/"
        },
        "id": "rW8fR0VaKePH",
        "outputId": "13cb8597-58b5-40e4-dffd-cffd8a350b81"
      },
      "execution_count": null,
      "outputs": [
        {
          "output_type": "execute_result",
          "data": {
            "text/plain": [
              "(1,)"
            ]
          },
          "metadata": {},
          "execution_count": 40
        }
      ]
    },
    {
      "cell_type": "code",
      "source": [
        "b = [1,2,3]\n",
        "arr_b = np.array(b)\n",
        "\n",
        "print(arr_b)\n",
        "print(arr_b.ndim)\n",
        "print(arr_b.shape)"
      ],
      "metadata": {
        "colab": {
          "base_uri": "https://localhost:8080/"
        },
        "id": "ltP0WO1EKzXi",
        "outputId": "04636827-10a9-403a-b91d-21465a4b2542"
      },
      "execution_count": null,
      "outputs": [
        {
          "output_type": "stream",
          "name": "stdout",
          "text": [
            "[1 2 3]\n",
            "1\n",
            "(3,)\n"
          ]
        }
      ]
    },
    {
      "cell_type": "code",
      "source": [
        "# The nested list is considered as two dimensional\n",
        "## Remeber when trying to list into array the first row of elements number should be the same as second\n",
        "\n",
        "a = [[1,2], [3,4]]\n",
        "arr_0 = np.array(a)\n",
        "\n",
        "print(arr_0)\n",
        "print(type(arr_0))\n",
        "\n"
      ],
      "metadata": {
        "colab": {
          "base_uri": "https://localhost:8080/"
        },
        "id": "YtI-2x2KGlCI",
        "outputId": "b3775a9c-7b02-481d-9fa6-e2f75d37bd2d"
      },
      "execution_count": null,
      "outputs": [
        {
          "output_type": "stream",
          "name": "stdout",
          "text": [
            "[[1 2]\n",
            " [3 4]]\n",
            "<class 'numpy.ndarray'>\n"
          ]
        }
      ]
    },
    {
      "cell_type": "code",
      "source": [
        "arr_0.ndim"
      ],
      "metadata": {
        "colab": {
          "base_uri": "https://localhost:8080/"
        },
        "id": "VexVHNYkJYMy",
        "outputId": "14af5581-c281-4be7-c263-97256a0107d5"
      },
      "execution_count": null,
      "outputs": [
        {
          "output_type": "execute_result",
          "data": {
            "text/plain": [
              "2"
            ]
          },
          "metadata": {},
          "execution_count": 49
        }
      ]
    },
    {
      "cell_type": "code",
      "source": [
        "# This gives the output of (no od rows, no of columns)\n",
        "arr_0.shape"
      ],
      "metadata": {
        "colab": {
          "base_uri": "https://localhost:8080/"
        },
        "id": "ui-eber_Ja0N",
        "outputId": "889488ad-84cc-42f6-ca0a-ff906af56e7d"
      },
      "execution_count": null,
      "outputs": [
        {
          "output_type": "execute_result",
          "data": {
            "text/plain": [
              "(2, 2)"
            ]
          },
          "metadata": {},
          "execution_count": 50
        }
      ]
    },
    {
      "cell_type": "markdown",
      "source": [
        "# **Functions for creating 1-D Arrays**\n",
        "\n",
        "**arange**\n",
        "\n",
        "- arange is an array-valued version of the built-in python range function.\n",
        "- **Syntax:** np.arange(start,end,step).\n"
      ],
      "metadata": {
        "id": "6ktA1-0INexs"
      }
    },
    {
      "cell_type": "code",
      "source": [
        "a = np.arange(1,10)\n",
        "print(a)"
      ],
      "metadata": {
        "colab": {
          "base_uri": "https://localhost:8080/"
        },
        "id": "sjfXIHT1LXzp",
        "outputId": "69150054-f65c-4475-c86c-e064595615b6"
      },
      "execution_count": null,
      "outputs": [
        {
          "output_type": "stream",
          "name": "stdout",
          "text": [
            "[1 2 3 4 5 6 7 8 9]\n"
          ]
        }
      ]
    },
    {
      "cell_type": "code",
      "source": [
        "a = np.arange(10)\n",
        "print(a)"
      ],
      "metadata": {
        "colab": {
          "base_uri": "https://localhost:8080/"
        },
        "id": "8LG7M78_MGZ2",
        "outputId": "a5c06222-3d3a-4b63-b083-31869fae2132"
      },
      "execution_count": null,
      "outputs": [
        {
          "output_type": "stream",
          "name": "stdout",
          "text": [
            "[0 1 2 3 4 5 6 7 8 9]\n"
          ]
        }
      ]
    },
    {
      "cell_type": "code",
      "source": [
        "a = np.arange(1,10,2)\n",
        "print(a)"
      ],
      "metadata": {
        "colab": {
          "base_uri": "https://localhost:8080/"
        },
        "id": "Ysnu2nlCMK4k",
        "outputId": "fc34c732-e2e9-4e07-f43b-643d3b369ed0"
      },
      "execution_count": null,
      "outputs": [
        {
          "output_type": "stream",
          "name": "stdout",
          "text": [
            "[1 3 5 7 9]\n"
          ]
        }
      ]
    },
    {
      "cell_type": "markdown",
      "source": [
        "# **LinSpace**\n",
        "\n",
        "- Return evenly spaced numbers over a specified interval\n",
        "- **Syntex:** np.linspace(Start, End, num_of_samples)"
      ],
      "metadata": {
        "id": "pAwx9V66MdfB"
      }
    },
    {
      "cell_type": "code",
      "source": [
        "np.linspace(1,5,5)"
      ],
      "metadata": {
        "colab": {
          "base_uri": "https://localhost:8080/"
        },
        "id": "Kq5AzBhTMSko",
        "outputId": "fccf9751-55ef-493a-c036-55a93b4620b1"
      },
      "execution_count": null,
      "outputs": [
        {
          "output_type": "execute_result",
          "data": {
            "text/plain": [
              "array([1., 2., 3., 4., 5.])"
            ]
          },
          "metadata": {},
          "execution_count": 39
        }
      ]
    },
    {
      "cell_type": "markdown",
      "source": [
        "# **Zeros**\n",
        "\n",
        "- Generate arrays of zeros\n",
        "- **Syntax:**  np.zeros(shape)"
      ],
      "metadata": {
        "id": "VYHUUiptu3Q3"
      }
    },
    {
      "cell_type": "code",
      "source": [
        "# By default it takes float value\n",
        "np.zeros((5,))"
      ],
      "metadata": {
        "colab": {
          "base_uri": "https://localhost:8080/"
        },
        "id": "xsyKUwrqvGb9",
        "outputId": "30eb8ab2-f1d3-4aba-fbad-4cef930e1195"
      },
      "execution_count": null,
      "outputs": [
        {
          "output_type": "execute_result",
          "data": {
            "text/plain": [
              "array([0., 0., 0., 0., 0.])"
            ]
          },
          "metadata": {},
          "execution_count": 5
        }
      ]
    },
    {
      "cell_type": "code",
      "source": [
        "np.zeros((2,), dtype = int)"
      ],
      "metadata": {
        "colab": {
          "base_uri": "https://localhost:8080/"
        },
        "id": "d2NO7ElCv0Zb",
        "outputId": "50627e2f-470b-468c-9612-b7c1c68f9a77"
      },
      "execution_count": null,
      "outputs": [
        {
          "output_type": "execute_result",
          "data": {
            "text/plain": [
              "array([0, 0])"
            ]
          },
          "metadata": {},
          "execution_count": 7
        }
      ]
    },
    {
      "cell_type": "code",
      "source": [
        "np.zeros((5,2), dtype = int)"
      ],
      "metadata": {
        "colab": {
          "base_uri": "https://localhost:8080/"
        },
        "id": "j7GksARxwEWC",
        "outputId": "9b931f85-1076-4b00-f210-558ff581618b"
      },
      "execution_count": null,
      "outputs": [
        {
          "output_type": "execute_result",
          "data": {
            "text/plain": [
              "array([[0, 0],\n",
              "       [0, 0],\n",
              "       [0, 0],\n",
              "       [0, 0],\n",
              "       [0, 0]])"
            ]
          },
          "metadata": {},
          "execution_count": 8
        }
      ]
    },
    {
      "cell_type": "markdown",
      "source": [
        "# **Ones**\n",
        "\n",
        "- Generate arrays of Ones\n",
        "- **Syntax:** np.ones(shape)"
      ],
      "metadata": {
        "id": "hwRVEvebvjhU"
      }
    },
    {
      "cell_type": "code",
      "source": [
        "# By default it takes float value\n",
        "np.ones((5,))"
      ],
      "metadata": {
        "colab": {
          "base_uri": "https://localhost:8080/"
        },
        "id": "C90O5_0QvTsO",
        "outputId": "efac819e-ad4f-4e4b-ea8f-95492c422a44"
      },
      "execution_count": null,
      "outputs": [
        {
          "output_type": "execute_result",
          "data": {
            "text/plain": [
              "array([1., 1., 1., 1., 1.])"
            ]
          },
          "metadata": {},
          "execution_count": 9
        }
      ]
    },
    {
      "cell_type": "code",
      "source": [
        "np.ones((5,), dtype = int)"
      ],
      "metadata": {
        "colab": {
          "base_uri": "https://localhost:8080/"
        },
        "id": "ZNnN3_C4wPwS",
        "outputId": "3cb543da-b0a0-4ca7-9970-66fac0c49a44"
      },
      "execution_count": null,
      "outputs": [
        {
          "output_type": "execute_result",
          "data": {
            "text/plain": [
              "array([1, 1, 1, 1, 1])"
            ]
          },
          "metadata": {},
          "execution_count": 12
        }
      ]
    },
    {
      "cell_type": "code",
      "source": [
        "np.ones((5, 2), dtype = int)"
      ],
      "metadata": {
        "colab": {
          "base_uri": "https://localhost:8080/"
        },
        "id": "fKcu9zVvwWgf",
        "outputId": "c6ae31c0-616f-4140-e2b1-c4aacebcc31a"
      },
      "execution_count": null,
      "outputs": [
        {
          "output_type": "execute_result",
          "data": {
            "text/plain": [
              "array([[1, 1],\n",
              "       [1, 1],\n",
              "       [1, 1],\n",
              "       [1, 1],\n",
              "       [1, 1]])"
            ]
          },
          "metadata": {},
          "execution_count": 13
        }
      ]
    },
    {
      "cell_type": "markdown",
      "source": [
        "- **If we want other number like 2 or 3 we dont have functions for that we use direct method for them**"
      ],
      "metadata": {
        "id": "YRyMK1yAwh5V"
      }
    },
    {
      "cell_type": "code",
      "source": [
        "np.zeros((5,), dtype = int) + 2"
      ],
      "metadata": {
        "colab": {
          "base_uri": "https://localhost:8080/"
        },
        "id": "6KIte20YwYVS",
        "outputId": "1fd26eca-1d82-42f8-b2bf-f28bdb808f1a"
      },
      "execution_count": null,
      "outputs": [
        {
          "output_type": "execute_result",
          "data": {
            "text/plain": [
              "array([2, 2, 2, 2, 2])"
            ]
          },
          "metadata": {},
          "execution_count": 14
        }
      ]
    },
    {
      "cell_type": "code",
      "source": [
        "np.zeros((5,2), dtype = int) + 5"
      ],
      "metadata": {
        "colab": {
          "base_uri": "https://localhost:8080/"
        },
        "id": "EpP-cwRfw0XY",
        "outputId": "fc724334-9c18-4ee0-e3cb-b973fbb6cb44"
      },
      "execution_count": null,
      "outputs": [
        {
          "output_type": "execute_result",
          "data": {
            "text/plain": [
              "array([[5, 5],\n",
              "       [5, 5],\n",
              "       [5, 5],\n",
              "       [5, 5],\n",
              "       [5, 5]])"
            ]
          },
          "metadata": {},
          "execution_count": 15
        }
      ]
    },
    {
      "cell_type": "markdown",
      "source": [
        "# **Identity matrix**\n",
        "\n",
        "- Diagonal elements are 1's and remaining elements are 0's"
      ],
      "metadata": {
        "id": "b6ntgD3hxVqF"
      }
    },
    {
      "cell_type": "code",
      "source": [
        "np.eye(3)"
      ],
      "metadata": {
        "colab": {
          "base_uri": "https://localhost:8080/"
        },
        "id": "2O-P3rCDw3fI",
        "outputId": "4022b3ff-0c22-4dae-98ce-d60761b2a5c3"
      },
      "execution_count": null,
      "outputs": [
        {
          "output_type": "execute_result",
          "data": {
            "text/plain": [
              "array([[1., 0., 0.],\n",
              "       [0., 1., 0.],\n",
              "       [0., 0., 1.]])"
            ]
          },
          "metadata": {},
          "execution_count": 16
        }
      ]
    },
    {
      "cell_type": "code",
      "source": [
        "np.eye(2)"
      ],
      "metadata": {
        "colab": {
          "base_uri": "https://localhost:8080/"
        },
        "id": "Q89_nEqoxtpi",
        "outputId": "74acbe21-a60a-46f7-8d02-d3b29ad70dc9"
      },
      "execution_count": null,
      "outputs": [
        {
          "output_type": "execute_result",
          "data": {
            "text/plain": [
              "array([[1., 0.],\n",
              "       [0., 1.]])"
            ]
          },
          "metadata": {},
          "execution_count": 17
        }
      ]
    },
    {
      "cell_type": "markdown",
      "source": [
        "# **Diaginal Matrix**"
      ],
      "metadata": {
        "id": "vOY-XTRPxz3T"
      }
    },
    {
      "cell_type": "code",
      "source": [
        "np.diag([1,2,3,4])"
      ],
      "metadata": {
        "colab": {
          "base_uri": "https://localhost:8080/"
        },
        "id": "9UKI5cvqxvXu",
        "outputId": "994fe836-1956-45b5-f9e8-177da7e64ff7"
      },
      "execution_count": null,
      "outputs": [
        {
          "output_type": "execute_result",
          "data": {
            "text/plain": [
              "array([[1, 0, 0, 0],\n",
              "       [0, 2, 0, 0],\n",
              "       [0, 0, 3, 0],\n",
              "       [0, 0, 0, 4]])"
            ]
          },
          "metadata": {},
          "execution_count": 21
        }
      ]
    },
    {
      "cell_type": "code",
      "source": [
        "np.diag([1,2])"
      ],
      "metadata": {
        "colab": {
          "base_uri": "https://localhost:8080/"
        },
        "id": "L97WKfxsx5E8",
        "outputId": "c30e1a74-1e00-402e-e4b6-db584daa40f0"
      },
      "execution_count": null,
      "outputs": [
        {
          "output_type": "execute_result",
          "data": {
            "text/plain": [
              "array([[1, 0],\n",
              "       [0, 2]])"
            ]
          },
          "metadata": {},
          "execution_count": 19
        }
      ]
    },
    {
      "cell_type": "code",
      "source": [
        "np.diag([1,2,3,4]).shape"
      ],
      "metadata": {
        "colab": {
          "base_uri": "https://localhost:8080/"
        },
        "id": "0WDhI_rux7g9",
        "outputId": "a6b91380-624f-4200-b60f-2f9f6eaa13db"
      },
      "execution_count": null,
      "outputs": [
        {
          "output_type": "execute_result",
          "data": {
            "text/plain": [
              "(4, 4)"
            ]
          },
          "metadata": {},
          "execution_count": 22
        }
      ]
    },
    {
      "cell_type": "code",
      "source": [
        "np.diag([1,2,3,4]).ndim\n"
      ],
      "metadata": {
        "colab": {
          "base_uri": "https://localhost:8080/"
        },
        "id": "7wZeeVOTyROH",
        "outputId": "be688284-c450-4737-87eb-e9931ee13652"
      },
      "execution_count": null,
      "outputs": [
        {
          "output_type": "execute_result",
          "data": {
            "text/plain": [
              "2"
            ]
          },
          "metadata": {},
          "execution_count": 23
        }
      ]
    },
    {
      "cell_type": "markdown",
      "source": [
        "# **random.randint**\n",
        "\n",
        "- Return random integers from start(inclusive) to end(exclusive)\n",
        "- **Syntax:** np.random.randint(start,end, no_of_samples)"
      ],
      "metadata": {
        "id": "XRZB0qTOyYk0"
      }
    },
    {
      "cell_type": "code",
      "source": [
        "np.random.randint(1, 100, 5)"
      ],
      "metadata": {
        "colab": {
          "base_uri": "https://localhost:8080/"
        },
        "id": "wDQYqBtzyRww",
        "outputId": "96a99109-3e59-4986-e1eb-64ed37e8f7b3"
      },
      "execution_count": null,
      "outputs": [
        {
          "output_type": "execute_result",
          "data": {
            "text/plain": [
              "array([16, 12, 11, 20, 51])"
            ]
          },
          "metadata": {},
          "execution_count": 24
        }
      ]
    },
    {
      "cell_type": "markdown",
      "source": [
        "# **Accessing elements/ Extracting the values**\n",
        "1. Accessing a single value through Indexing\n",
        "2. Accessing a multiple values based on slicing\n",
        "3. Accessing a multiple values based on indexing\n",
        "4. Accessing a multiple values based on condition"
      ],
      "metadata": {
        "id": "5uBaZGUeySTi"
      }
    },
    {
      "cell_type": "code",
      "source": [
        "a = np.array([11,55,66,23,54,87,28,31])\n",
        "print(a)"
      ],
      "metadata": {
        "colab": {
          "base_uri": "https://localhost:8080/"
        },
        "id": "VIEgNRyjyUQG",
        "outputId": "15087cc9-ca12-482c-e366-8e181022566d"
      },
      "execution_count": null,
      "outputs": [
        {
          "output_type": "stream",
          "name": "stdout",
          "text": [
            "[11 55 66 23 54 87 28 31]\n"
          ]
        }
      ]
    },
    {
      "cell_type": "markdown",
      "source": [
        "**1.Accessing a single value through Indexing**"
      ],
      "metadata": {
        "id": "u4nJqYNj0l9q"
      }
    },
    {
      "cell_type": "code",
      "source": [
        "# Positive indexing\n",
        "a[3]"
      ],
      "metadata": {
        "colab": {
          "base_uri": "https://localhost:8080/"
        },
        "id": "XFXT-omp0lRU",
        "outputId": "bef64dd9-3423-4e02-cd79-d1fc909659e1"
      },
      "execution_count": null,
      "outputs": [
        {
          "output_type": "execute_result",
          "data": {
            "text/plain": [
              "23"
            ]
          },
          "metadata": {},
          "execution_count": 27
        }
      ]
    },
    {
      "cell_type": "code",
      "source": [
        "# Negative indexing\n",
        "a[-1]"
      ],
      "metadata": {
        "colab": {
          "base_uri": "https://localhost:8080/"
        },
        "id": "NRMC_ews0lNk",
        "outputId": "eb1ee4a2-ec11-408d-99d7-e829be5def79"
      },
      "execution_count": null,
      "outputs": [
        {
          "output_type": "execute_result",
          "data": {
            "text/plain": [
              "31"
            ]
          },
          "metadata": {},
          "execution_count": 26
        }
      ]
    },
    {
      "cell_type": "markdown",
      "source": [
        "**2. Accessing a multiple values based on slicing**"
      ],
      "metadata": {
        "id": "mGC9xftX1AX5"
      }
    },
    {
      "cell_type": "code",
      "source": [
        "a[::-2]"
      ],
      "metadata": {
        "colab": {
          "base_uri": "https://localhost:8080/"
        },
        "id": "DblYGl7Z0lH5",
        "outputId": "0e956406-51d9-433a-ef61-5c1e8fd0cd89"
      },
      "execution_count": null,
      "outputs": [
        {
          "output_type": "execute_result",
          "data": {
            "text/plain": [
              "array([31, 87, 23, 55])"
            ]
          },
          "metadata": {},
          "execution_count": 28
        }
      ]
    },
    {
      "cell_type": "code",
      "source": [
        "a[[2,4,6]]"
      ],
      "metadata": {
        "colab": {
          "base_uri": "https://localhost:8080/"
        },
        "id": "TW47FJRX0k-g",
        "outputId": "161c7a3d-521f-4d9f-b8a5-fd406312dff1"
      },
      "execution_count": null,
      "outputs": [
        {
          "output_type": "execute_result",
          "data": {
            "text/plain": [
              "array([66, 54, 28])"
            ]
          },
          "metadata": {},
          "execution_count": 29
        }
      ]
    },
    {
      "cell_type": "markdown",
      "source": [
        "**3. Accessing a multiple values based on indexing**\n",
        "\n",
        "- **Syntax:** array[list of index numbers]"
      ],
      "metadata": {
        "id": "onNltYbc1C2T"
      }
    },
    {
      "cell_type": "code",
      "source": [
        "a[[0,1,4,5]]"
      ],
      "metadata": {
        "colab": {
          "base_uri": "https://localhost:8080/"
        },
        "id": "U_RNpH6E1Dek",
        "outputId": "7043e636-809b-4033-dc18-d8a28e79e475"
      },
      "execution_count": null,
      "outputs": [
        {
          "output_type": "execute_result",
          "data": {
            "text/plain": [
              "array([11, 55, 54, 87])"
            ]
          },
          "metadata": {},
          "execution_count": 30
        }
      ]
    },
    {
      "cell_type": "markdown",
      "source": [
        "**4. Accessing a multiple values based on condition(Mask indexing or Fancy indexing)**\n",
        "\n",
        "- **Syntax:** array[condition]\n",
        "- First, it will check the condition, the item which satisfies the condition( means the item which gives True for the condition), that item will be selected."
      ],
      "metadata": {
        "id": "ADNDK9H01Elh"
      }
    },
    {
      "cell_type": "code",
      "source": [
        "print(a)"
      ],
      "metadata": {
        "colab": {
          "base_uri": "https://localhost:8080/"
        },
        "id": "wFE7J2xa1LeD",
        "outputId": "a06f9383-1974-4ff8-a9d0-189fb64d9696"
      },
      "execution_count": null,
      "outputs": [
        {
          "output_type": "stream",
          "name": "stdout",
          "text": [
            "[11 55 66 23 54 87 28 31]\n"
          ]
        }
      ]
    },
    {
      "cell_type": "code",
      "source": [
        "a>15"
      ],
      "metadata": {
        "colab": {
          "base_uri": "https://localhost:8080/"
        },
        "id": "kX98L8bj1Mbf",
        "outputId": "03270154-4251-4656-deae-7070065fc700"
      },
      "execution_count": null,
      "outputs": [
        {
          "output_type": "execute_result",
          "data": {
            "text/plain": [
              "array([False,  True,  True,  True,  True,  True,  True,  True])"
            ]
          },
          "metadata": {},
          "execution_count": 32
        }
      ]
    },
    {
      "cell_type": "code",
      "source": [
        "a[a>15]"
      ],
      "metadata": {
        "colab": {
          "base_uri": "https://localhost:8080/"
        },
        "id": "vm9-kH2r2yO0",
        "outputId": "788f23d1-87a5-469e-9676-5b3b5925c115"
      },
      "execution_count": null,
      "outputs": [
        {
          "output_type": "execute_result",
          "data": {
            "text/plain": [
              "array([55, 66, 23, 54, 87, 28, 31])"
            ]
          },
          "metadata": {},
          "execution_count": 33
        }
      ]
    },
    {
      "cell_type": "code",
      "source": [
        "a[a>=50]"
      ],
      "metadata": {
        "colab": {
          "base_uri": "https://localhost:8080/"
        },
        "id": "yT7hwtGz3wSs",
        "outputId": "ce47b187-aa6c-4ed6-cb15-5f9e218c9e45"
      },
      "execution_count": null,
      "outputs": [
        {
          "output_type": "execute_result",
          "data": {
            "text/plain": [
              "array([55, 66, 54, 87])"
            ]
          },
          "metadata": {},
          "execution_count": 36
        }
      ]
    },
    {
      "cell_type": "markdown",
      "source": [
        "# **Modify the values in NumPy**\n",
        "- **Add single value in the array**\n",
        "- **Syntax:** np.append(array,value)"
      ],
      "metadata": {
        "id": "o-vcPqhf29oY"
      }
    },
    {
      "cell_type": "code",
      "source": [
        "a = np.array([1,2,3,4,5])\n",
        "\n",
        "b = np.append(a,6)\n",
        "print(b)"
      ],
      "metadata": {
        "colab": {
          "base_uri": "https://localhost:8080/"
        },
        "id": "GLj9wGb323HH",
        "outputId": "62bfbc40-b4f0-47ca-c264-2ba09b4721b7"
      },
      "execution_count": null,
      "outputs": [
        {
          "output_type": "stream",
          "name": "stdout",
          "text": [
            "[1 2 3 4 5 6]\n"
          ]
        }
      ]
    },
    {
      "cell_type": "markdown",
      "source": [
        "**Add multiple values in a array**"
      ],
      "metadata": {
        "id": "ThU6FAb94Bm2"
      }
    },
    {
      "cell_type": "code",
      "source": [
        "a = np.array([1,2,3,4,5])\n",
        "\n",
        "b = np.append(a,[6,7,8,9])\n",
        "print(b)"
      ],
      "metadata": {
        "colab": {
          "base_uri": "https://localhost:8080/"
        },
        "id": "WtfRJlRT38ZY",
        "outputId": "70818b97-0ff9-43de-b69d-785a9c0d3eed"
      },
      "execution_count": null,
      "outputs": [
        {
          "output_type": "stream",
          "name": "stdout",
          "text": [
            "[1 2 3 4 5 6 7 8 9]\n"
          ]
        }
      ]
    },
    {
      "cell_type": "markdown",
      "source": [
        "**Replacing a single value in a 1-D Array**"
      ],
      "metadata": {
        "id": "FFj3nADd4Mab"
      }
    },
    {
      "cell_type": "code",
      "source": [
        "a = np.array([19,11,25,1,50])\n",
        "\n",
        "a[0] = 15\n",
        "\n",
        "print(a)"
      ],
      "metadata": {
        "colab": {
          "base_uri": "https://localhost:8080/"
        },
        "id": "U6gAzZOJ4J6F",
        "outputId": "f8eb04b7-a216-47aa-bfc3-3abd4d165aa3"
      },
      "execution_count": null,
      "outputs": [
        {
          "output_type": "stream",
          "name": "stdout",
          "text": [
            "[15 11 25  1 50]\n"
          ]
        }
      ]
    },
    {
      "cell_type": "markdown",
      "source": [
        "**Replacing multiple values with a single value in 1-D array**"
      ],
      "metadata": {
        "id": "92lM8NX64bpT"
      }
    },
    {
      "cell_type": "code",
      "source": [
        "a = np.array([19,11,25,1,50])\n",
        "a[[1,2]] = 19\n",
        "print(a)"
      ],
      "metadata": {
        "colab": {
          "base_uri": "https://localhost:8080/"
        },
        "id": "ic7CyrQI4iCJ",
        "outputId": "620f9702-2846-438a-c5d4-734378166af8"
      },
      "execution_count": null,
      "outputs": [
        {
          "output_type": "stream",
          "name": "stdout",
          "text": [
            "[19 19 19  1 50]\n"
          ]
        }
      ]
    },
    {
      "cell_type": "markdown",
      "source": [
        "**Replacing multiple values with a multiple values in 1-D array**"
      ],
      "metadata": {
        "id": "OgoVIqPc5gyY"
      }
    },
    {
      "cell_type": "code",
      "source": [
        "a = np.array([19,11,25,1,50])\n",
        "a[[1,2]] = 20,21\n",
        "print(a)"
      ],
      "metadata": {
        "colab": {
          "base_uri": "https://localhost:8080/"
        },
        "id": "9YDANrpR5YQm",
        "outputId": "c2c898c2-0ce1-4135-9171-dc34fd20cc32"
      },
      "execution_count": null,
      "outputs": [
        {
          "output_type": "stream",
          "name": "stdout",
          "text": [
            "[19 20 21  1 50]\n"
          ]
        }
      ]
    },
    {
      "cell_type": "markdown",
      "source": [
        "**Delete a single value in the array**"
      ],
      "metadata": {
        "id": "WS8ShIBZ5zjQ"
      }
    },
    {
      "cell_type": "code",
      "source": [
        "a = np.array([19,11,25,1,50])\n",
        "np.delete(a,0)"
      ],
      "metadata": {
        "colab": {
          "base_uri": "https://localhost:8080/"
        },
        "id": "K88QD3ud5iuY",
        "outputId": "a683d649-6d71-479b-e3d1-807888b12a2a"
      },
      "execution_count": null,
      "outputs": [
        {
          "output_type": "execute_result",
          "data": {
            "text/plain": [
              "array([11, 25,  1, 50])"
            ]
          },
          "metadata": {},
          "execution_count": 47
        }
      ]
    },
    {
      "cell_type": "markdown",
      "source": [
        "**Delete a multiple values in the array**"
      ],
      "metadata": {
        "id": "vhQvph9O6DFp"
      }
    },
    {
      "cell_type": "code",
      "source": [
        "a = np.array([19,11,25,1,50])\n",
        "np.delete(a,[0,1])"
      ],
      "metadata": {
        "colab": {
          "base_uri": "https://localhost:8080/"
        },
        "id": "d1YMNJwe5_EA",
        "outputId": "4b9a6ddb-c411-404b-d2ce-63cec61892ee"
      },
      "execution_count": null,
      "outputs": [
        {
          "output_type": "execute_result",
          "data": {
            "text/plain": [
              "array([25,  1, 50])"
            ]
          },
          "metadata": {},
          "execution_count": 46
        }
      ]
    },
    {
      "cell_type": "markdown",
      "source": [
        "**Copy a Array**"
      ],
      "metadata": {
        "id": "dWBmzJPu6wXw"
      }
    },
    {
      "cell_type": "code",
      "source": [
        "a = np.array([19,11,25,1,50])\n",
        "b = a.copy()\n",
        "b[0] = 100\n",
        "print(a)\n",
        "print(b)"
      ],
      "metadata": {
        "colab": {
          "base_uri": "https://localhost:8080/"
        },
        "id": "qOEpbB8f6LKH",
        "outputId": "eb8a7d5c-af1a-40a4-b264-ffecf9c22251"
      },
      "execution_count": null,
      "outputs": [
        {
          "output_type": "stream",
          "name": "stdout",
          "text": [
            "[19 11 25  1 50]\n",
            "[100  11  25   1  50]\n"
          ]
        }
      ]
    },
    {
      "cell_type": "markdown",
      "source": [
        "**Sorting a Array**"
      ],
      "metadata": {
        "id": "ybd2RwRy6yvQ"
      }
    },
    {
      "cell_type": "code",
      "source": [
        "a = np.array([19,11,25,1,50])\n",
        "b = np.sort(a)\n",
        "print(b)"
      ],
      "metadata": {
        "colab": {
          "base_uri": "https://localhost:8080/"
        },
        "id": "emxVhukd6312",
        "outputId": "d50af6b8-30a5-49ab-ed9d-d722102c1166"
      },
      "execution_count": null,
      "outputs": [
        {
          "output_type": "stream",
          "name": "stdout",
          "text": [
            "[ 1 11 19 25 50]\n"
          ]
        }
      ]
    },
    {
      "cell_type": "markdown",
      "source": [
        "# **Operators**\n",
        "\n",
        "- **Arthematic Operations**"
      ],
      "metadata": {
        "id": "up9UWjv17N6h"
      }
    },
    {
      "cell_type": "code",
      "source": [
        "a = np.array([1,2,3,4,5])\n",
        "print(a)"
      ],
      "metadata": {
        "colab": {
          "base_uri": "https://localhost:8080/"
        },
        "id": "EW6dMmCq7FS4",
        "outputId": "83aef5a4-91a7-4335-e9a7-36f82c16dd28"
      },
      "execution_count": null,
      "outputs": [
        {
          "output_type": "stream",
          "name": "stdout",
          "text": [
            "[1 2 3 4 5]\n"
          ]
        }
      ]
    },
    {
      "cell_type": "code",
      "source": [
        "b = np.array([2,3,4,5,6])\n",
        "print(b)"
      ],
      "metadata": {
        "colab": {
          "base_uri": "https://localhost:8080/"
        },
        "id": "rJbHrGId8M8h",
        "outputId": "0df62abb-eead-4ac6-a6ae-3823453e226a"
      },
      "execution_count": null,
      "outputs": [
        {
          "output_type": "stream",
          "name": "stdout",
          "text": [
            "[2 3 4 5 6]\n"
          ]
        }
      ]
    },
    {
      "cell_type": "code",
      "source": [
        "c = a**2\n",
        "print(c)"
      ],
      "metadata": {
        "colab": {
          "base_uri": "https://localhost:8080/"
        },
        "id": "h5JpPzK48R6c",
        "outputId": "7c96ffc1-c1a3-4152-d48b-41c03d748c41"
      },
      "execution_count": null,
      "outputs": [
        {
          "output_type": "stream",
          "name": "stdout",
          "text": [
            "[ 1  4  9 16 25]\n"
          ]
        }
      ]
    },
    {
      "cell_type": "code",
      "source": [
        "print(a+b)"
      ],
      "metadata": {
        "colab": {
          "base_uri": "https://localhost:8080/"
        },
        "id": "k4ojL65e8VGQ",
        "outputId": "135a8cb2-7a31-4c5c-b13e-ebefdea61aea"
      },
      "execution_count": null,
      "outputs": [
        {
          "output_type": "stream",
          "name": "stdout",
          "text": [
            "[ 3  5  7  9 11]\n"
          ]
        }
      ]
    },
    {
      "cell_type": "code",
      "source": [
        "print(a-b)"
      ],
      "metadata": {
        "colab": {
          "base_uri": "https://localhost:8080/"
        },
        "id": "xABivNWl8X-3",
        "outputId": "11491c3e-ba2a-4845-bd08-4e5d3e9315ac"
      },
      "execution_count": null,
      "outputs": [
        {
          "output_type": "stream",
          "name": "stdout",
          "text": [
            "[-1 -1 -1 -1 -1]\n"
          ]
        }
      ]
    },
    {
      "cell_type": "code",
      "source": [
        "print(a*b)"
      ],
      "metadata": {
        "colab": {
          "base_uri": "https://localhost:8080/"
        },
        "id": "HRr93Zlt8a-T",
        "outputId": "f535b033-6257-4a53-8c8a-63e057cb41b3"
      },
      "execution_count": null,
      "outputs": [
        {
          "output_type": "stream",
          "name": "stdout",
          "text": [
            "[ 2  6 12 20 30]\n"
          ]
        }
      ]
    },
    {
      "cell_type": "markdown",
      "source": [
        "**Comparision Operators**"
      ],
      "metadata": {
        "id": "BS8iFo5T8ljH"
      }
    },
    {
      "cell_type": "code",
      "source": [
        "a = np.array([1,2,3,4])\n",
        "b = np.array([1,2,3,5])\n",
        "c = np.array([1,2,3,4])"
      ],
      "metadata": {
        "id": "WVbKvMfM8cxs"
      },
      "execution_count": null,
      "outputs": []
    },
    {
      "cell_type": "code",
      "source": [
        "a == b"
      ],
      "metadata": {
        "colab": {
          "base_uri": "https://localhost:8080/"
        },
        "id": "uaGUDToT8yTh",
        "outputId": "9cd4832c-4bfc-4082-f597-807b612a5a2d"
      },
      "execution_count": null,
      "outputs": [
        {
          "output_type": "execute_result",
          "data": {
            "text/plain": [
              "array([ True,  True,  True, False])"
            ]
          },
          "metadata": {},
          "execution_count": 58
        }
      ]
    },
    {
      "cell_type": "code",
      "source": [
        "np.array_equal(a, b)"
      ],
      "metadata": {
        "colab": {
          "base_uri": "https://localhost:8080/"
        },
        "id": "ikNZeE2z8z2N",
        "outputId": "1f0030f2-a3a2-43f5-ffea-348dc44316c1"
      },
      "execution_count": null,
      "outputs": [
        {
          "output_type": "execute_result",
          "data": {
            "text/plain": [
              "False"
            ]
          },
          "metadata": {},
          "execution_count": 59
        }
      ]
    },
    {
      "cell_type": "code",
      "source": [
        "np.array_equal(a, c)"
      ],
      "metadata": {
        "colab": {
          "base_uri": "https://localhost:8080/"
        },
        "id": "mBop0QWj86oy",
        "outputId": "b99446ee-427c-4a90-9061-88e0ff2890bd"
      },
      "execution_count": null,
      "outputs": [
        {
          "output_type": "execute_result",
          "data": {
            "text/plain": [
              "True"
            ]
          },
          "metadata": {},
          "execution_count": 60
        }
      ]
    },
    {
      "cell_type": "code",
      "source": [
        "a == c"
      ],
      "metadata": {
        "colab": {
          "base_uri": "https://localhost:8080/"
        },
        "id": "G-A-dUAo88Ty",
        "outputId": "2eab6d52-b24f-4dad-f49e-2bf2513c28a4"
      },
      "execution_count": null,
      "outputs": [
        {
          "output_type": "execute_result",
          "data": {
            "text/plain": [
              "array([ True,  True,  True,  True])"
            ]
          },
          "metadata": {},
          "execution_count": 61
        }
      ]
    },
    {
      "cell_type": "markdown",
      "source": [
        "**Mathematical Operations**"
      ],
      "metadata": {
        "id": "2fqG7hYJ9FW9"
      }
    },
    {
      "cell_type": "code",
      "source": [
        "a = np.array([0,1,2,3,4])\n",
        "print(a)"
      ],
      "metadata": {
        "colab": {
          "base_uri": "https://localhost:8080/"
        },
        "id": "Q87D_FHX9EgH",
        "outputId": "8da3742a-334f-494d-f173-ad9db06bda82"
      },
      "execution_count": null,
      "outputs": [
        {
          "output_type": "stream",
          "name": "stdout",
          "text": [
            "[0 1 2 3 4]\n"
          ]
        }
      ]
    },
    {
      "cell_type": "code",
      "source": [
        "np.log(a)"
      ],
      "metadata": {
        "colab": {
          "base_uri": "https://localhost:8080/"
        },
        "id": "0n-6KESl9N8m",
        "outputId": "001a6390-c997-45d0-ee65-b230c9d525ac"
      },
      "execution_count": null,
      "outputs": [
        {
          "output_type": "stream",
          "name": "stderr",
          "text": [
            "<ipython-input-66-89b6b8e53c58>:1: RuntimeWarning: divide by zero encountered in log\n",
            "  np.log(a)\n"
          ]
        },
        {
          "output_type": "execute_result",
          "data": {
            "text/plain": [
              "array([      -inf, 0.        , 0.69314718, 1.09861229, 1.38629436])"
            ]
          },
          "metadata": {},
          "execution_count": 66
        }
      ]
    },
    {
      "cell_type": "code",
      "source": [
        "# If you dont want to see warnings the use this\n",
        "\n",
        "import warnings\n",
        "warnings.simplefilter(\"ignore\")"
      ],
      "metadata": {
        "id": "IAxc77Xi9wfH"
      },
      "execution_count": null,
      "outputs": []
    },
    {
      "cell_type": "code",
      "source": [
        "np.log(a)"
      ],
      "metadata": {
        "colab": {
          "base_uri": "https://localhost:8080/"
        },
        "id": "101Orp6B91ti",
        "outputId": "6aae018d-b1be-4b39-aac9-0664a64f11f1"
      },
      "execution_count": null,
      "outputs": [
        {
          "output_type": "execute_result",
          "data": {
            "text/plain": [
              "array([      -inf, 0.        , 0.69314718, 1.09861229, 1.38629436])"
            ]
          },
          "metadata": {},
          "execution_count": 69
        }
      ]
    },
    {
      "cell_type": "code",
      "source": [
        "np.exp(a)"
      ],
      "metadata": {
        "colab": {
          "base_uri": "https://localhost:8080/"
        },
        "id": "-uth99h39PAt",
        "outputId": "107b7567-c85c-4fba-bdea-d1729605c509"
      },
      "execution_count": null,
      "outputs": [
        {
          "output_type": "execute_result",
          "data": {
            "text/plain": [
              "array([ 1.        ,  2.71828183,  7.3890561 , 20.08553692, 54.59815003])"
            ]
          },
          "metadata": {},
          "execution_count": 67
        }
      ]
    },
    {
      "cell_type": "code",
      "source": [
        "# When the non homogenous 1-D  it will take priority as string and cinvert remaining all to string\n",
        "# The priority order is String > Float > int\n",
        "l = [1,True,2.3,\"Praneeth\"]\n",
        "a = np.array(l)\n",
        "print(a)"
      ],
      "metadata": {
        "id": "n9seF2kw9Q_Z",
        "colab": {
          "base_uri": "https://localhost:8080/"
        },
        "outputId": "04785668-9265-4122-c697-6b0d17321dc3"
      },
      "execution_count": 3,
      "outputs": [
        {
          "output_type": "stream",
          "name": "stdout",
          "text": [
            "['1' 'True' '2.3' 'Praneeth']\n"
          ]
        }
      ]
    },
    {
      "cell_type": "code",
      "source": [
        "l = [1,True,2.3]\n",
        "a = np.array(l)\n",
        "print(a)"
      ],
      "metadata": {
        "colab": {
          "base_uri": "https://localhost:8080/"
        },
        "id": "SZkFgMtWasCt",
        "outputId": "67ac41c2-ec43-4502-f61b-9834fddadf2b"
      },
      "execution_count": 4,
      "outputs": [
        {
          "output_type": "stream",
          "name": "stdout",
          "text": [
            "[1.  1.  2.3]\n"
          ]
        }
      ]
    },
    {
      "cell_type": "markdown",
      "source": [
        "# **2-D NumPy Array**"
      ],
      "metadata": {
        "id": "mrJrGwKh98Nw"
      }
    },
    {
      "cell_type": "code",
      "source": [
        "# Here np.nan means filling the missing value and it will take priority as float\n",
        "n1 = [[1,2,np.nan], [3,4,5]]\n",
        "a = np.array(n1)\n",
        "print(a)"
      ],
      "metadata": {
        "id": "CsxQs1YU-Dlq",
        "colab": {
          "base_uri": "https://localhost:8080/"
        },
        "outputId": "81281af3-d99e-43c4-ce0f-7790f9711ba6"
      },
      "execution_count": 5,
      "outputs": [
        {
          "output_type": "stream",
          "name": "stdout",
          "text": [
            "[[ 1.  2. nan]\n",
            " [ 3.  4.  5.]]\n"
          ]
        }
      ]
    },
    {
      "cell_type": "code",
      "source": [
        "# Here it will take string as priority\n",
        "n1 = [[1,np.nan,\"2\"], [3,4,5]]\n",
        "a = np.array(n1)\n",
        "print(a)"
      ],
      "metadata": {
        "id": "S-71mBMh-DVr",
        "colab": {
          "base_uri": "https://localhost:8080/"
        },
        "outputId": "bcb2dde7-40c3-452a-f818-df1594a3deb7"
      },
      "execution_count": 9,
      "outputs": [
        {
          "output_type": "stream",
          "name": "stdout",
          "text": [
            "[['1' 'nan' '2']\n",
            " ['3' '4' '5']]\n"
          ]
        }
      ]
    },
    {
      "cell_type": "code",
      "source": [
        "n = [[12,23,34,35], [21,np.nan,45,55], [50,18,20,25]]\n",
        "a = np.array(n)\n",
        "print(a)"
      ],
      "metadata": {
        "colab": {
          "base_uri": "https://localhost:8080/"
        },
        "id": "OW7Doa56dvxQ",
        "outputId": "d8b12ef5-4d9a-423b-992a-30c8c6d9b917"
      },
      "execution_count": 12,
      "outputs": [
        {
          "output_type": "stream",
          "name": "stdout",
          "text": [
            "[[12. 23. 34. 35.]\n",
            " [21. nan 45. 55.]\n",
            " [50. 18. 20. 25.]]\n"
          ]
        }
      ]
    },
    {
      "cell_type": "code",
      "source": [
        "a.ndim"
      ],
      "metadata": {
        "colab": {
          "base_uri": "https://localhost:8080/"
        },
        "id": "MEPUZSBeflDX",
        "outputId": "271572b6-75a6-404d-f983-2ca96b886ab1"
      },
      "execution_count": 13,
      "outputs": [
        {
          "output_type": "execute_result",
          "data": {
            "text/plain": [
              "2"
            ]
          },
          "metadata": {},
          "execution_count": 13
        }
      ]
    },
    {
      "cell_type": "code",
      "source": [
        "a.shape"
      ],
      "metadata": {
        "colab": {
          "base_uri": "https://localhost:8080/"
        },
        "id": "67o8jmGcfxfj",
        "outputId": "3705d44a-4508-40fe-a714-8e1bc58f4398"
      },
      "execution_count": 14,
      "outputs": [
        {
          "output_type": "execute_result",
          "data": {
            "text/plain": [
              "(3, 4)"
            ]
          },
          "metadata": {},
          "execution_count": 14
        }
      ]
    },
    {
      "cell_type": "code",
      "source": [
        "c = [1,2,3,4]\n",
        "b = np.array(c)\n",
        "print(b)\n",
        "print(b.ndim)\n",
        "c = [[1,2,3,4]]\n",
        "b = np.array(c)\n",
        "print(b)\n",
        "print(b.ndim)"
      ],
      "metadata": {
        "colab": {
          "base_uri": "https://localhost:8080/"
        },
        "id": "XujlQOxrfyMJ",
        "outputId": "9ca879d6-1037-40e7-a3cf-e18d30a95c80"
      },
      "execution_count": 18,
      "outputs": [
        {
          "output_type": "stream",
          "name": "stdout",
          "text": [
            "[1 2 3 4]\n",
            "1\n",
            "[[1 2 3 4]]\n",
            "2\n"
          ]
        }
      ]
    },
    {
      "cell_type": "code",
      "source": [
        "np.zeros(3)"
      ],
      "metadata": {
        "colab": {
          "base_uri": "https://localhost:8080/"
        },
        "id": "kmNzmOAFg22y",
        "outputId": "7e39020b-3371-4988-fcc6-d2d9e5aeae9f"
      },
      "execution_count": 20,
      "outputs": [
        {
          "output_type": "execute_result",
          "data": {
            "text/plain": [
              "array([0., 0., 0.])"
            ]
          },
          "metadata": {},
          "execution_count": 20
        }
      ]
    },
    {
      "cell_type": "code",
      "source": [
        "np.zeros((3,3))"
      ],
      "metadata": {
        "colab": {
          "base_uri": "https://localhost:8080/"
        },
        "id": "v4t5OXm6hhD0",
        "outputId": "b7e58aed-66b4-4115-9b11-f1f4f09166f2"
      },
      "execution_count": 22,
      "outputs": [
        {
          "output_type": "execute_result",
          "data": {
            "text/plain": [
              "array([[0., 0., 0.],\n",
              "       [0., 0., 0.],\n",
              "       [0., 0., 0.]])"
            ]
          },
          "metadata": {},
          "execution_count": 22
        }
      ]
    },
    {
      "cell_type": "code",
      "source": [
        "np.zeros((3,3,3))"
      ],
      "metadata": {
        "colab": {
          "base_uri": "https://localhost:8080/"
        },
        "id": "VxbcNAmKhjvi",
        "outputId": "9887f7d8-0fac-4528-a083-324db616b2d4"
      },
      "execution_count": 23,
      "outputs": [
        {
          "output_type": "execute_result",
          "data": {
            "text/plain": [
              "array([[[0., 0., 0.],\n",
              "        [0., 0., 0.],\n",
              "        [0., 0., 0.]],\n",
              "\n",
              "       [[0., 0., 0.],\n",
              "        [0., 0., 0.],\n",
              "        [0., 0., 0.]],\n",
              "\n",
              "       [[0., 0., 0.],\n",
              "        [0., 0., 0.],\n",
              "        [0., 0., 0.]]])"
            ]
          },
          "metadata": {},
          "execution_count": 23
        }
      ]
    },
    {
      "cell_type": "code",
      "source": [
        "np.zeros((3,3), dtype = int)+1"
      ],
      "metadata": {
        "colab": {
          "base_uri": "https://localhost:8080/"
        },
        "id": "kw36GaRshro0",
        "outputId": "6f787b92-8463-49c7-8fe9-f5d4690b591f"
      },
      "execution_count": 24,
      "outputs": [
        {
          "output_type": "execute_result",
          "data": {
            "text/plain": [
              "array([[1, 1, 1],\n",
              "       [1, 1, 1],\n",
              "       [1, 1, 1]])"
            ]
          },
          "metadata": {},
          "execution_count": 24
        }
      ]
    },
    {
      "cell_type": "code",
      "source": [
        "np.ones((3,3), dtype = int)"
      ],
      "metadata": {
        "colab": {
          "base_uri": "https://localhost:8080/"
        },
        "id": "R99kcXptisyC",
        "outputId": "c9c64905-a82c-4622-a88a-354aad9bb542"
      },
      "execution_count": 25,
      "outputs": [
        {
          "output_type": "execute_result",
          "data": {
            "text/plain": [
              "array([[1, 1, 1],\n",
              "       [1, 1, 1],\n",
              "       [1, 1, 1]])"
            ]
          },
          "metadata": {},
          "execution_count": 25
        }
      ]
    },
    {
      "cell_type": "code",
      "source": [
        "# identity matrix\n",
        "np.eye(3,3)"
      ],
      "metadata": {
        "colab": {
          "base_uri": "https://localhost:8080/"
        },
        "id": "3PAcnguNiypj",
        "outputId": "c0fd739d-68cb-465e-cd29-5906bb7cbd67"
      },
      "execution_count": 26,
      "outputs": [
        {
          "output_type": "execute_result",
          "data": {
            "text/plain": [
              "array([[1., 0., 0.],\n",
              "       [0., 1., 0.],\n",
              "       [0., 0., 1.]])"
            ]
          },
          "metadata": {},
          "execution_count": 26
        }
      ]
    },
    {
      "cell_type": "code",
      "source": [
        "#Diagonal matrix\n",
        "np.diag([12,13,14,15])"
      ],
      "metadata": {
        "colab": {
          "base_uri": "https://localhost:8080/"
        },
        "id": "awdk3Awii37A",
        "outputId": "3c574b67-b3be-4753-d062-35a990ad6b58"
      },
      "execution_count": 28,
      "outputs": [
        {
          "output_type": "execute_result",
          "data": {
            "text/plain": [
              "array([[12,  0,  0,  0],\n",
              "       [ 0, 13,  0,  0],\n",
              "       [ 0,  0, 14,  0],\n",
              "       [ 0,  0,  0, 15]])"
            ]
          },
          "metadata": {},
          "execution_count": 28
        }
      ]
    },
    {
      "cell_type": "code",
      "source": [
        "# When the input is given as 1-D it will give 2-D, when input is given 2-D it will give 1-D\n",
        "a = np.array([[1,2,3],[4,5,6]])\n",
        "np.diag(a)"
      ],
      "metadata": {
        "colab": {
          "base_uri": "https://localhost:8080/"
        },
        "id": "73NUwCmmjNnC",
        "outputId": "dcae8cd8-7bb4-4b57-dd93-2fbe3788bed6"
      },
      "execution_count": 32,
      "outputs": [
        {
          "output_type": "execute_result",
          "data": {
            "text/plain": [
              "array([1, 5])"
            ]
          },
          "metadata": {},
          "execution_count": 32
        }
      ]
    },
    {
      "cell_type": "markdown",
      "source": [
        "# **Indexing of 2-D array**"
      ],
      "metadata": {
        "id": "mqeUZhaujB2b"
      }
    },
    {
      "cell_type": "code",
      "source": [
        "n = [[10,20,30], [40,50,60], [70,80,90], [100,110,120]]\n",
        "a = np.array(n)\n",
        "print(a)"
      ],
      "metadata": {
        "colab": {
          "base_uri": "https://localhost:8080/"
        },
        "id": "RH4fqKGoi9MD",
        "outputId": "c7cf1c4d-1187-412f-925a-b9ed1bab01bb"
      },
      "execution_count": 34,
      "outputs": [
        {
          "output_type": "stream",
          "name": "stdout",
          "text": [
            "[[ 10  20  30]\n",
            " [ 40  50  60]\n",
            " [ 70  80  90]\n",
            " [100 110 120]]\n"
          ]
        }
      ]
    },
    {
      "cell_type": "code",
      "source": [
        "# a[row_index_number, Column_index_number]\n",
        "a[1,2]"
      ],
      "metadata": {
        "colab": {
          "base_uri": "https://localhost:8080/"
        },
        "id": "Sf31ALPKklOl",
        "outputId": "494ff600-f245-4df0-9ec6-1da2d99abe31"
      },
      "execution_count": 36,
      "outputs": [
        {
          "output_type": "execute_result",
          "data": {
            "text/plain": [
              "60"
            ]
          },
          "metadata": {},
          "execution_count": 36
        }
      ]
    },
    {
      "cell_type": "code",
      "source": [
        "a[2,:]"
      ],
      "metadata": {
        "colab": {
          "base_uri": "https://localhost:8080/"
        },
        "id": "zxEIQ8GrkuOH",
        "outputId": "35248094-f1d0-4424-ff01-f655691e1d16"
      },
      "execution_count": 37,
      "outputs": [
        {
          "output_type": "execute_result",
          "data": {
            "text/plain": [
              "array([70, 80, 90])"
            ]
          },
          "metadata": {},
          "execution_count": 37
        }
      ]
    },
    {
      "cell_type": "code",
      "source": [
        "a[:,0]"
      ],
      "metadata": {
        "colab": {
          "base_uri": "https://localhost:8080/"
        },
        "id": "AsRCaEJ9lAiH",
        "outputId": "1a02fcdc-2009-446b-bb0b-b2508a60f04e"
      },
      "execution_count": 38,
      "outputs": [
        {
          "output_type": "execute_result",
          "data": {
            "text/plain": [
              "array([ 10,  40,  70, 100])"
            ]
          },
          "metadata": {},
          "execution_count": 38
        }
      ]
    },
    {
      "cell_type": "code",
      "source": [
        "a[:,:]"
      ],
      "metadata": {
        "colab": {
          "base_uri": "https://localhost:8080/"
        },
        "id": "tKP-gF07lDiJ",
        "outputId": "315517f6-dd92-4dd1-e063-0caa0adddde7"
      },
      "execution_count": 39,
      "outputs": [
        {
          "output_type": "execute_result",
          "data": {
            "text/plain": [
              "array([[ 10,  20,  30],\n",
              "       [ 40,  50,  60],\n",
              "       [ 70,  80,  90],\n",
              "       [100, 110, 120]])"
            ]
          },
          "metadata": {},
          "execution_count": 39
        }
      ]
    },
    {
      "cell_type": "code",
      "source": [
        "a[0::2,:]"
      ],
      "metadata": {
        "colab": {
          "base_uri": "https://localhost:8080/"
        },
        "id": "hA3xaXKzlIxc",
        "outputId": "580ed6a8-7710-4d2c-c58a-27f16ae9a79c"
      },
      "execution_count": 40,
      "outputs": [
        {
          "output_type": "execute_result",
          "data": {
            "text/plain": [
              "array([[10, 20, 30],\n",
              "       [70, 80, 90]])"
            ]
          },
          "metadata": {},
          "execution_count": 40
        }
      ]
    },
    {
      "cell_type": "code",
      "source": [
        "a[[0,1,3],:]"
      ],
      "metadata": {
        "colab": {
          "base_uri": "https://localhost:8080/"
        },
        "id": "ZupeXfGCldmg",
        "outputId": "b58be31a-bfbb-41fc-a0db-a919e0e5877b"
      },
      "execution_count": 41,
      "outputs": [
        {
          "output_type": "execute_result",
          "data": {
            "text/plain": [
              "array([[ 10,  20,  30],\n",
              "       [ 40,  50,  60],\n",
              "       [100, 110, 120]])"
            ]
          },
          "metadata": {},
          "execution_count": 41
        }
      ]
    },
    {
      "cell_type": "code",
      "source": [
        "a[:,2]"
      ],
      "metadata": {
        "colab": {
          "base_uri": "https://localhost:8080/"
        },
        "id": "MLlFbPzolrgU",
        "outputId": "a57b913c-430b-49a2-ae0d-c9b9b493a705"
      },
      "execution_count": 42,
      "outputs": [
        {
          "output_type": "execute_result",
          "data": {
            "text/plain": [
              "array([ 30,  60,  90, 120])"
            ]
          },
          "metadata": {},
          "execution_count": 42
        }
      ]
    },
    {
      "cell_type": "code",
      "source": [
        "a[:,[0,2]]"
      ],
      "metadata": {
        "colab": {
          "base_uri": "https://localhost:8080/"
        },
        "id": "9Hxxz4dtmC9S",
        "outputId": "7209bbf0-9ca6-4088-c78f-61f0a011ad07"
      },
      "execution_count": 43,
      "outputs": [
        {
          "output_type": "execute_result",
          "data": {
            "text/plain": [
              "array([[ 10,  30],\n",
              "       [ 40,  60],\n",
              "       [ 70,  90],\n",
              "       [100, 120]])"
            ]
          },
          "metadata": {},
          "execution_count": 43
        }
      ]
    },
    {
      "cell_type": "markdown",
      "source": [
        "**Replace a single value in 2-D array**"
      ],
      "metadata": {
        "id": "itcYki-_mx62"
      }
    },
    {
      "cell_type": "code",
      "source": [
        "a"
      ],
      "metadata": {
        "colab": {
          "base_uri": "https://localhost:8080/"
        },
        "id": "rWlNfHgDmGxA",
        "outputId": "f0893343-ae1b-42ca-fdba-749e7089085e"
      },
      "execution_count": 44,
      "outputs": [
        {
          "output_type": "execute_result",
          "data": {
            "text/plain": [
              "array([[ 10,  20,  30],\n",
              "       [ 40,  50,  60],\n",
              "       [ 70,  80,  90],\n",
              "       [100, 110, 120]])"
            ]
          },
          "metadata": {},
          "execution_count": 44
        }
      ]
    },
    {
      "cell_type": "code",
      "source": [
        "a[1,2] = 55\n",
        "print(a)"
      ],
      "metadata": {
        "colab": {
          "base_uri": "https://localhost:8080/"
        },
        "id": "iev_01jOnEtP",
        "outputId": "7e5d6ef3-b9a9-443b-f8dd-8c4c05e76d5e"
      },
      "execution_count": 45,
      "outputs": [
        {
          "output_type": "stream",
          "name": "stdout",
          "text": [
            "[[ 10  20  30]\n",
            " [ 40  50  55]\n",
            " [ 70  80  90]\n",
            " [100 110 120]]\n"
          ]
        }
      ]
    },
    {
      "cell_type": "markdown",
      "source": [
        "**Replace a single row in 2-D array**"
      ],
      "metadata": {
        "id": "JRg8mdAdnTJA"
      }
    },
    {
      "cell_type": "code",
      "source": [
        "a[3, :] = [200,250,300]\n",
        "print(a)"
      ],
      "metadata": {
        "colab": {
          "base_uri": "https://localhost:8080/"
        },
        "id": "wKRLaIWFnMQV",
        "outputId": "91673730-7345-4e78-82dc-99191eb81dcf"
      },
      "execution_count": 48,
      "outputs": [
        {
          "output_type": "stream",
          "name": "stdout",
          "text": [
            "[[ 10  20  30]\n",
            " [ 40  50  55]\n",
            " [ 70  80  90]\n",
            " [200 250 300]]\n"
          ]
        }
      ]
    },
    {
      "cell_type": "code",
      "source": [
        "a[:,1] = [1,2,3,4]\n",
        "print(a)"
      ],
      "metadata": {
        "colab": {
          "base_uri": "https://localhost:8080/"
        },
        "id": "VA4krmmNnqE9",
        "outputId": "6c75a5ba-f3ab-4a91-bf24-7a731bcc6cd9"
      },
      "execution_count": 51,
      "outputs": [
        {
          "output_type": "stream",
          "name": "stdout",
          "text": [
            "[[ 10   1  30]\n",
            " [ 40   2  55]\n",
            " [ 70   3  90]\n",
            " [200   4 300]]\n"
          ]
        }
      ]
    },
    {
      "cell_type": "code",
      "source": [
        "a[0, [0,2]] = [100,500]\n",
        "print(a)"
      ],
      "metadata": {
        "colab": {
          "base_uri": "https://localhost:8080/"
        },
        "id": "V2oUr2eSn6BE",
        "outputId": "5d3d1228-8ba5-442b-f385-59a9695b0f24"
      },
      "execution_count": 52,
      "outputs": [
        {
          "output_type": "stream",
          "name": "stdout",
          "text": [
            "[[100   1 500]\n",
            " [ 40   2  55]\n",
            " [ 70   3  90]\n",
            " [200   4 300]]\n"
          ]
        }
      ]
    },
    {
      "cell_type": "code",
      "source": [
        "a[:,1] = 2\n",
        "print(a)"
      ],
      "metadata": {
        "colab": {
          "base_uri": "https://localhost:8080/"
        },
        "id": "9RXn3Jl9oUXU",
        "outputId": "5a84aaba-d288-4fb4-b305-3357ff9299c4"
      },
      "execution_count": 54,
      "outputs": [
        {
          "output_type": "stream",
          "name": "stdout",
          "text": [
            "[[100   2 500]\n",
            " [ 40   2  55]\n",
            " [ 70   2  90]\n",
            " [200   2 300]]\n"
          ]
        }
      ]
    },
    {
      "cell_type": "markdown",
      "source": [
        "**Flattening:** Converting nd array to 1-D array"
      ],
      "metadata": {
        "id": "rLm03oHwo0rD"
      }
    },
    {
      "cell_type": "code",
      "source": [
        "a = np.array([[1,2,3], [4,5,6],[7,8,9]])\n",
        "print(a)\n",
        "\n",
        "b = np.ravel(a)\n",
        "print(b)"
      ],
      "metadata": {
        "colab": {
          "base_uri": "https://localhost:8080/"
        },
        "id": "9vvXZ6VBojbK",
        "outputId": "b9f684a3-35e8-44bd-d4e5-a52001109657"
      },
      "execution_count": 55,
      "outputs": [
        {
          "output_type": "stream",
          "name": "stdout",
          "text": [
            "[[1 2 3]\n",
            " [4 5 6]\n",
            " [7 8 9]]\n",
            "[1 2 3 4 5 6 7 8 9]\n"
          ]
        }
      ]
    },
    {
      "cell_type": "markdown",
      "source": [
        "**Reshape array:** Convert a 1-D array to 2-D array"
      ],
      "metadata": {
        "id": "v4xa5WoOpa_z"
      }
    },
    {
      "cell_type": "code",
      "source": [
        "a = np.array([1,2,3,4,5,6])\n",
        "print(a)\n",
        "print(a.shape)"
      ],
      "metadata": {
        "colab": {
          "base_uri": "https://localhost:8080/"
        },
        "id": "vX5vZdaRpVFe",
        "outputId": "fa4abe9d-d19b-4fbf-9657-ef8e5efc99b1"
      },
      "execution_count": 56,
      "outputs": [
        {
          "output_type": "stream",
          "name": "stdout",
          "text": [
            "[1 2 3 4 5 6]\n",
            "(6,)\n"
          ]
        }
      ]
    },
    {
      "cell_type": "code",
      "source": [
        "a.reshape(1,6)"
      ],
      "metadata": {
        "colab": {
          "base_uri": "https://localhost:8080/"
        },
        "id": "ufDjhfe_pxTI",
        "outputId": "ebbd4e95-e135-4be4-c463-2f39b0c62c3c"
      },
      "execution_count": 57,
      "outputs": [
        {
          "output_type": "execute_result",
          "data": {
            "text/plain": [
              "array([[1, 2, 3, 4, 5, 6]])"
            ]
          },
          "metadata": {},
          "execution_count": 57
        }
      ]
    },
    {
      "cell_type": "code",
      "source": [
        "a.reshape(6,1)"
      ],
      "metadata": {
        "colab": {
          "base_uri": "https://localhost:8080/"
        },
        "id": "lMv2o085qV4D",
        "outputId": "51341d8a-f8f2-47d8-867a-7be8a29f9e63"
      },
      "execution_count": 61,
      "outputs": [
        {
          "output_type": "execute_result",
          "data": {
            "text/plain": [
              "array([[1],\n",
              "       [2],\n",
              "       [3],\n",
              "       [4],\n",
              "       [5],\n",
              "       [6]])"
            ]
          },
          "metadata": {},
          "execution_count": 61
        }
      ]
    },
    {
      "cell_type": "code",
      "source": [
        "a.reshape(3,2)"
      ],
      "metadata": {
        "colab": {
          "base_uri": "https://localhost:8080/"
        },
        "id": "hH1jSJ5Wp5-C",
        "outputId": "ea09d013-6179-4141-f8ec-b13598583ef5"
      },
      "execution_count": 60,
      "outputs": [
        {
          "output_type": "execute_result",
          "data": {
            "text/plain": [
              "array([[1, 2],\n",
              "       [3, 4],\n",
              "       [5, 6]])"
            ]
          },
          "metadata": {},
          "execution_count": 60
        }
      ]
    },
    {
      "cell_type": "code",
      "source": [
        "b = a.reshape(2,3)\n",
        "print(b)"
      ],
      "metadata": {
        "colab": {
          "base_uri": "https://localhost:8080/"
        },
        "id": "8l7qsnx2p3wn",
        "outputId": "74541637-c319-4b3e-f3c7-9c3f88c8baab"
      },
      "execution_count": 66,
      "outputs": [
        {
          "output_type": "stream",
          "name": "stdout",
          "text": [
            "[[1 2 3]\n",
            " [4 5 6]]\n"
          ]
        }
      ]
    },
    {
      "cell_type": "code",
      "source": [
        "c = b.T\n",
        "print(c)"
      ],
      "metadata": {
        "colab": {
          "base_uri": "https://localhost:8080/"
        },
        "id": "vhnLHRSnqW-N",
        "outputId": "642511d0-32b6-4013-859b-b2e9d360bd5c"
      },
      "execution_count": 67,
      "outputs": [
        {
          "output_type": "stream",
          "name": "stdout",
          "text": [
            "[[1 4]\n",
            " [2 5]\n",
            " [3 6]]\n"
          ]
        }
      ]
    },
    {
      "cell_type": "markdown",
      "source": [
        "# **Sort**"
      ],
      "metadata": {
        "id": "aZScwsWergl1"
      }
    },
    {
      "cell_type": "code",
      "source": [
        "# Sorting along the axis: axis=1 --> row and axis=0 --> column\n",
        "a = np.array([[5,4,2], [2,8,2], [8,9,20]])\n",
        "b = np.sort(a, axis = 0)\n",
        "print(b)"
      ],
      "metadata": {
        "colab": {
          "base_uri": "https://localhost:8080/"
        },
        "id": "mGr_sCPsrHug",
        "outputId": "03cc417b-7691-40f0-9fba-53e6a9116de8"
      },
      "execution_count": 71,
      "outputs": [
        {
          "output_type": "stream",
          "name": "stdout",
          "text": [
            "[[ 2  4  2]\n",
            " [ 5  8  2]\n",
            " [ 8  9 20]]\n"
          ]
        }
      ]
    },
    {
      "cell_type": "markdown",
      "source": [
        "![Screenshot 2024-07-25 171352.png](data:image/png;base64,iVBORw0KGgoAAAANSUhEUgAABygAAAMyCAYAAAA2YJaOAAAAAXNSR0IArs4c6QAAAARnQU1BAACxjwv8YQUAAAAJcEhZcwAAEnQAABJ0Ad5mH3gAAP+lSURBVHhe7N0HuFTluejxL+fmJAEENTGao2nGXlDBDgqogAUVxS722HuNLfbeey+xK3aaYEVQUVSavcaSk8R4zIlK0dzrvefm/7nfcTFuYG/cZcr/9zzrmTVr1syetWbN7O/93q9873/+JUmSJEmSJEmSJElSG/i3hltJkiRJkiRJkiRJanUmKCVJkiRJkiRJkiS1GROUkiRJkiRJkiRJktqMCUpJkiRJkiRJkiRJbcYEpSRJkiRJkiRJkqQ2Y4JSkiRJkiRJkiRJUpsxQSlJkiRJkiRJkiSpzZiglCRJkiRJkiRJktRmTFBKkiRJkiRJkiRJajMmKCVJkiRJkiRJkiS1GROUkiRJkiRJkiRJktqMCUpJkiRJkiRJkiRJbcYEpSRJkiRJkiRJkqQ2Y4JSkiRJkiRJkiRJUpsxQSlJkiRJkiRJkiSpzZiglCRJkiRJkiRJktRmTFBKkiRJkiRJkiRJajMmKCVJkiRJkiRJkiS1GROUkiRJkiRJkqRv+Z//+Z+GNUmSWpYJSkmSJEmSJEmSJEltxgSlJEmSJEmSpIpEDz578bWf4vn3c5AktSQTlJIkSZIkSZIqzv/7f/8vfe9738sL62pdxUQk55uFdc5/+L//9/+aqJQktQgTlJIkSZIkSZIqzr/927+VEmWs16ti4rA1Ff8OSUmSkdx+8cUX6Z///Gf6P//n/+TPgW2sS5L0XXzvX/9wbPIiSZIkSZIkqaJMmTIldevWLa9Pnjw5rbLKKnm93kTCMG5by6233ppvhw8fnm/x4IMP5kTlv//7v+ckZefOndNnn32WH2vN9yJJqn0mKCXVpWh9SSH7q6++Sj/84Q8bHpEkSZIkSe0hqilJhL377rtppZVWyvH7//pf/ys9//zzqXv37vnxekJPRY4/epNSj/H9739/loTlnBKXPId6j7/97W/pj3/8Y+4NOWbMmDRz5sw0adKkNH78+Lxfhw4d8mPxd7gtrzb+wQ9+kP73//7f6ZZbbknbbrttvi9J0rwyQSlJkiRJkiSpopxzzjnpmGOOyes0Kv7yyy/zej2h2rZYdcs6iUgSjiQpSSIGEo4kHp9++uk0bty49KMf/SgnHEnsktTkHJL4LSLxGb0jY/jWSE7GbdGAAQNSp06d0p133tmwRZKkeWeCUlLdiQJ9oNBNIZ3WgpIkSZIkqX1NnTo1rbrqqjl5Bnr6xVCv9YyEY9RdXHfddenee+9NTz31VE5YIkaIItlI3Qf1HSQquc+5bKyXJclJttM7dZFFFklbbLFFTkwOHDgwzTfffA17fY3Xp9ckr8fzJEn6LkxQSqpLFKavvPLK3MKwY8eOaf/99y8NmSJJkiRJktrHJZdcko466qhS0u3CCy9Mhx566LcaG9cLeo7edtttacSIETlB+dhjj+Xek5GABHUZJCDjPjhXcc647dGjR37eGmuskZOLa665Zk529u/fv5Rw5PnRo7KoWH3MunUnqgRxfUuqXiYoJdWc8gIK95kjgVaEzzzzTDrkkEPSxIkTSwVqWv8de+yx6fe//31+noUbSZIkSZJaH8kwGgtHHH/WWWel4447Lj/G/c022yzdf//9eZ9aUF5f0ZjY54orrkijR49OI0eOzNtiOFbqMkgksg/bqetgvW/fvmnFFVdMa621VuratWve5+c//3nev3w42O+Cv4m5HYe+jc8kPof4nMtvK1l89nEcJM9jHtL4jsZ3mluOJ443nlM8XjT3mON5RcXXiL8T70NSZTNBKakmRYEHtAR86aWX0r777ptefPHF3BKQbRRU2I/7TzzxRG5NKEmSJEmS2gbJBOLySCREHE+cznrMmRjVl81NZlSaxo4jEinDhg1LV199dU5KgqQidRckW6J3I/ex4YYb5m0kJQ866KC8DyNEMZzrjBkzUufOnfN+5UmilhDHgGr/PNpD9FYNXON81qj0hFox6cd1wHXF/di+1FJLpbXXXjv9+te/Tsstt1xaeuml07LLLpsfZ1+uz0gggvWi2E4ng/gNKD9fRbyH6JAgqTqZoJRUk/hpoyBDwZ7Wl1OmTMkFGgouFHgovBx//PFp/fXXz4WolVdeOW+jYGjBRpIkSZKktkOiYrHFFksfffRRjt032WSTdOaZZ6bll19+loRGrYjq2Icffjide+65acyYMfk+vdGotwB1FRw7dRQkJPv165cOOOCAUjKoeF54Tkv2kmyqqHtR0xQ/M4bs3XzzzfN9Pj8+19kl4ipF8f2TUGee0sB1UEwzxLUc20lecnyrr756foyhhueff/5cD/fZZ5/l2//6r//K1zY9f7nluQz1/J//+Z/5/Dz//PMNr/41pmxacskl8/y0SyyxROrZs2f+m9GrU1LlM0EpqWrNqSA8atSotOeee+b1v/zlL7lgQ2FmhRVWSNtuu206+uijc8EqJpeP1yoWtiRJkiRJUus7+OCD0z333JP+9re/5STG5MmT0zLLLJNj+VrCkJjjxo3Lydennnoqb4uekiRVoofkxhtvnAYMGJD222+/fB+ReIl6i2KdCM/jXBXrM4r1G02t/p1dHYtaBvVSJCZPOeWU9MYbb+Q5RfmMHnzwwbTppptW/PnnmuJaI2nO7ZAhQ9Lee++dj4tEIo9zDFxvcY029dqbk8bOS2Ov+5vf/CZ/n84444w0aNCgWb4PkiqTCUpJVSsK2xTwGSaCwvrdd9+dbrjhhlzg5/GwyCKL5B6TFJwIdijcWPCWJEmSJKntFZNnjHy05ZZb5oQH8fpJJ52UjjnmmPxYrSCB89xzz6V11lkn3486iai3oPE0c0cecsghuVdd8TFE9e3cEi7Wc1QWPrf4LFk/9NBD0+WXX54fix6G6623Xp52qJrRMYChhUm+fvzxx+mVV17Jt3/961/Tn/70p3x9k4ydnbiuOUcsJNv5LaBXJfd5PB7jfBZvoxED3zH2I0HJeeV7xG9J9+7d8+OSKpMJSklViZ8uCngURFinpRaFD4ZFIaihoBKFE+Zw2HnnnXMSs4jnsUQBPm4lSZIkSVLLi2pIbonXGeJ0o402yuvE+GeddVY66qij8j610nuS46K+Yb755sv1FdRVgHPAcJcnn3xy7jEZ2xqrm4jzNjfWa7S/SEbGOtcx84TecssteZ5Q7lOHRbL6yCOPzInphRdeOO9fK+I6jvPAOglLzgfJzEmTJpWSmvTGZKhXbklkco4++OCDvD/rr7/+en4dbiOpyznke1S83tmH3xGGfWUfFva//vrr80hqTuckVSYTlJKqGgWSG2+8Me277765MFIskFxwwQVpt912Kw2TwnYWFH/6okBjQV5SLYrfO3/jJEmSVElIIJCYiIQD8ywOHz48x/ncpxxbK2XYXXbZJd111125bgIMQcnUMxwrdRblGjv2Yj3G7Fjmb38xyte0adNyz8iLL744jR07Nn9+1EnRw2+11VZLv/vd72aZw5HkXdRZVarv8p2MxDzHOKfXYL/Yh3XOC70puSVx+eGHH+btrDMUNL8V77//fnrvvffSyy+/nN8j3yluY9jZ6667Lg0ePLg0zZOkymGCUlLVYqiHrbbaKo0cObLUiopC4DXXXJMLHhRSED9zFG4omJSLgtG8FrIkqZLxG8hS6cGuJEmSal8kYYjft9566xzPE4tvsskmeQ7K6OVUjONRfr+aRIIljoEkbP/+/fM2kLSkfoMeluXiOU09fus12lfUOT366KP5c77qqqvyfeqnSJaB+VbPPffcUmK6mq5t3mtj7zOOIZTvM7vnzQnfi/iOzA6vy3nl/PK7wvnnPr0tTz/99PTQQw+VEsbPP/98WmGFFRqeKalSmKCUVLWYjHuHHXbIBRIKIr169cpDvM5N/OzFbRSSqqEwKEnNxW8dgVo02ggx5A1o3UuFiL+DkiRJagvMVbfZZpvl8iflVRZ6RZWXWWsB9RTrr79+Xl9zzTVzbzoSsXHcRbNrVBj7WV6vTHw+fDYkmo899tj04osvpqeeeio/xmfN9nXXXTcdccQR+Vpg1C+u9XieWgdTQZEojvV7770392CdHT8Lqe3ZlF5SVbrtttvSjjvumNcpwPfu3TvPXUFA01ghv4gCR2OLJNWS+C0kOcnCOr+R8VgkJ2mZSoAc+7NIkiRJrYHy6Lhx4/KccCB5Ew2NazE5WW7ppZf+Vi/RprDeojIRZ0WMNX78+Jx8vOiii3JykuuZnnvsc9999+XENMMYd+7c2eRkGxk2bFjuhclCr9Y77rgjb6eXpedeqgwmKCVVnenTp6ddd901F/Jo+UTPydGjR+d1CnlNLbg3dT9Jqkb8vpF85LeS30Z6TLLOEDcEwzw2c+bMhr1tLSpJkqSWV56EI0lDEoeyKY2N11tvvTwfX2NqseFccRhXyt+1eIz1hGuY3pJrrLFG7iH53HPPlbZzf4899khffPFFGjRoUP68SVhGw3rjr7Zx5ZVX5oQkn8P999+fzzufD71aJbU/E5SSqg7zVETLyr59++bWliQnKWBIkr5BL0l+H0lGXnvttWnAgAFpwQUXzC1IabndpUuX0j6nnXZaDtYMlCVJktRaLr300hy7E9PTm4w54jp16vStRF2tJu4ol4PjMzlZ/a644oqcZJ88eXJuDBr233//9Pjjj+fHo/4qmBxrW7vvvnupvpDhXvmciHmJg419pfZnbb6kikaBncJDDJlxyy235OFgAhPqs4+FisYVzx0tVCMIIihimdeAKF5TUuXi+3/++eenDh065EqfQw45JD322GN5Owvf/+J3+aSTTspB2jnnnJPv83jsN6+/FZIkSVJgDjimZqE3E+VL5qGM8mZ5TM9943xVAq7RQL0K8/c/++yzuZHngQcemHvmRVy1zjrr5OTjZZddNtsYiuuanpRqfXx2JIgZeQ18Jq+99lpej9+X+K3x90ZqHyYoJVU0CgjRuhI33HBDLvix/aqrrsqFDQsSs4phHKMwzLnjfsw3hxiDPwLD5iwkNnnNKICzTVLlYFihfv365e/4UUcdVfqe8ztJIMxvRPwe0Gqd/aJFKfuecMIJuXclc6fE7238rkiSJEnNUYwl6b1E8oZ15oYj0SNVkrhWi4iViIWuvvrq1Lt37zwiDYnIiJV4nO0TJkzICfiItSLGUvuJz45elDGK0OGHH54fK/+cJbWP7/3ry+i3UVLF4icqko9///vf08ILL5wLFxQqmEdNs54jcH4aKwiznf3Y/6OPPkrvv/9+nn+OVn/NQXKSuRRC+d+X1H7oYU5wDH4H+H5ySzDG0ENnnHFGWnLJJVPnzp3zbwIJSX4DXn755XT22Wenu+66q/T7wfd6iy22SPfee2++P7vfFkmSJGluGNWDxq6UKfv3759Gjx6d10G5s5ZjSqalYd5N7Lnnnum6667L5fRYisduebsyxOcyceLEdNhhh6Wnnnoqx1QkJeNz47Naa6210plnnpljMJLv1FVF3GT81P7iM7jjjjvSzjvvnD83GumOGjWqYQ9J7c0EpaSKFwWKu+++O+2www65UNinT588vGv0rKxn/IyXB3NPPvlkGjJkSPr888/TW2+9lc/TCy+8kG8JCqOQzLlt7jlkf3phEVAyEbyfgVQ5aLXL8DX0eMTGG2+cjj/++LT22mvnbXx3Carje8tvAL8fURycMmVKOvbYY3Oik8dIXjJM7H777TdLz0tJkiSpqRjalbkmKYNSFo1EJeXQiGXLY9paYoKyunB93nrrrbnxJlNk8BkRB3HtgtuePXums846K98WP7Py61rtj8+P+jDiZD4fPl8a6lqXJVUGE5SSqgatnB599NFc+Lv55pvT4MGDGx6pT8Wf71inRRgtw2IYx0AhLArUFMLYPwrXzcVrdezYMQ0dOjT17du3YaukSvHqq6/m2xVWWCHfNobfgAiaG1sn2GahlzWuvfbatMcee+R1SZIkaXaKZUvQU2nAgAF5O0jWMSIP+8R+xf1rEfUY9BpF9+7dc6884mrqNrgtMkHZtrguWZ555pn0xBNP5GGIabRJfQm9IekVyfVJQ3l6S1IPteuuu+bPiW3l1zsa29ZeSMbR6JT3w7GUNzit9e9eUadOnUrxLZ/xMsss41ygUgUwQSmpKvBTRQEwCk8UsiLRVlRPhavAOXj88cfTJptsks8L5yDOC4VPWoYVE5SrrrpqTjD+5Cc/ycPsNDcAogBHQW6XXXZJCy20UMNWSZUigi6+503B70Xxt5P706dPT9ttt1165JFH8u8H23hdfjMkSZKkOYnyJeXIQYMG5catxKOMhESvtPnnn3+W8metx/Eff/xxWmSRRfJxLrfccrlBYSQm49gjhjdB2TLifIbiNUaijvM8adKkHO+88sor6Z577ml49Bs8h4TyPvvsk29/9atf5XoUxOtX4rVLvc8XX3yRp/Wh/odjffbZZ9Mqq6wyx/NSq+KYGV2IOUJx/fXXp9/+9rd5XVL7MkEpqSpQMU5rJwpP/fr1y4UKegjSYq2oHgpX5fgZp2UfhVCOn1uSiBdccEHuQcU29mE4Vm4jaVHeUhNNOX+xD69Vj+dbqnTx3Z6Xyg3m9i0OA7vlllvmVsSs04t92LBhDXtKkiRJjSMBxMIIP1F+JEFJWbMYR9ZLPEnZOuouqNdgKhZw/JwPxK0JysY1t/6h/LyGp59+Oi8M+cm1Se9CGnoX9+PvMH8/c0tSjxJ/l31Y2J/PiRiJx5rzvtoC1xsLjQMYWpn6InqIkmQtPx+V9t5bQxzzbbfdVur9yvRRDOMrqf2ZoJRUFWjNRm8ebLbZZrkFJvgJo0AVP2X1ULgqR8GKVqgUjkELQFrJde7cOfeepMBNASxaCRaTus39F1A816jH8y3VOr7jLPxekOykUQP3aRTS3N8MSZIk1RfKj5QjmbuPBm6UH4kbuU8PyqJ6iidJTNKrjfg8ytXFOd6jnM2507fFddRcJOreeOON3OiS27vvvju/FvUjMTUO+5DEYyjijTbaKO21116lpCWfT/xt9gtR/1Jp4j0yFG0cK3PA3nvvvaUhaYvq4TsYn9/UqVNzXRnfQXpTDhkypPT9k9R+/K8nqSowJEoUnFZbbbVciERs47YeClaNIXlLEMNCopLzE0PmUPACQSKFUQrRFM5imRfFcy6p9vDdjooRbmllSoBO8EYQF2gBL0mSJBVFOZLeScShxJ077rhjnr+v3LzGpNWIoV1Bufqdd97Jx05SjLJ3lL/j3GlWnCvO2+zwONcaC9j37LPPzslG6kS6du2ajj322HTHHXfkJHFclyTzNt1003ThhRfm2Oa+++7LyUlQfxLJq6j7iB6TlZqcBNcQ7zHqiVjfYostZmmoHuK4al0c58orr5y/czTkf/PNN01OShXC/3ySqkYUKqJQWK+KhXMK0BSq2cYclPQu7dKlS36Mc1QMcLg/L+dtXp8nqfrRGGSdddbJ6/zuMDRQBP6VHJhLkiSpfRCbstxyyy0NW1K66aabSo1n6xUjHIEYnSFeuY1yteaM88T1E9dWY+eN3nE333xz7hlH4omEZMw3GImoqEdZf/310+WXX56mTZuWexkeeuihTf4sinUslYjkG0O7IhKwjLrltfa1mB6JThDR8UFS+zJBKamqUBilYBoV43NqRVeLokAerd/ozUQBmW277LJLqdBexOMskWhs7iKpfvF7Qq9sbvl9Yb6WCMorPTiXJElS26PcyAgcIG7faaed8npjPbjqyaKLLppvSRTRiw+Wp+cs6ja4jlj/9NNP89yR1157bdp+++1z8o2EE1NSrL322mmfffbJU96ApCTP47Zfv37p/PPPT0888UQ+/8zLeMABB+THWKq97iPOE7imSMxGQnLrrbfOQ9myD71E672Oh+8hv0XTp09Pr776asNWSe3J/4SSqg6FzCjI12srsJhXgHkEOAcUsOg9SWGzWDhtSSYrpfrDb8uyyy6bA3cahBDEEdjyOxMNRSRJkqRAD65XXnkllx8pMzKvn+XGlOabb758S1xNog2tFbvXCs7VVVddlROS1Hf85Cc/yaO7HHzwwXkI01GjRuXrjZ5w3AYScuutt1464YQTcjKY+SePOOKI1KtXr1K9BvUonP/4DGqlvoOEZNQXMbQrDdk5B3wHOS/gWGvleJtrqaWWyueH2Pbvf/97w1ZJ7ckEpaSqUwxu6mmYmGLwQgGcSd1JHlCwpHAVLVK539qBTr0WZqV6RcDP957fHgJb1uu1gYgkSZJmjxidBCUx6gorrJB7r81OPcWVCy64YCkh9o9//CNvM67+NmKMl19+OSckuZYOOeSQdOCBB+ZkJCK5xH4Rk3DLlDfMJfnYY4/lIXRHjx6dTjzxxPxYnHcausd6nPta+Aw4HuqHuH3wwQfzOaF+iF6mrNPLVF/j+qFOkfNiwwmpMpiglKQqEQXnKEwPHTq0dJ+WcailQrak9sPvSvzWUAHQvXv3hke+RmDn74wkSZLKMacfjdtILjESB73e9PWQo5SfWWLuO8rbmtWUKVPSKquskkaOHPmtZCTzePbp0yf3yr3gggvy9BPsw/l84IEH8hCvvXv3nqXxdmNqKY6Ja4kkJL1NwTmhjijmonQo4W9wnrieUEvXgVTN/IWSpCpDKy8KVRQyKayHWLeQJem74nckfkuoTKGCKSpQ3n777fw7ZIWKJEmSytHTjXIi8em2227bsFWdOnXK54U4fubMmXkbiRLL1LN67rnn8jlhIR7ZeOON05VXXpm3f/bZZ+nxxx9PI0aMyD0rV1111Vn2JUbh/NKbkHMbiahaFsdMUpKhb8F9krj1cPzNRZLb8yJVFhOUklRFImHALUN3RDCz5ZZb5kJWPC5JLanYg5LKpmipK0mSJBXdeuut+bZDhw5p8803z+uBeLW41BMa/QXL0rO3//775zknL7744pxofOihh9Lee++dVl999fx4DGVKYo6ekiTjIknHNcXjNOgmYVcPOHZcffXV+Zg5D/Se3HXXXXMjU+7rGzHcbb39/kiVzF8pSVUjClZ//vOf8y2iMFZvKJDPmDEjr3NeCP5iGBNJamkRwBHQTZo0qfTbGy2Wo7GEJEmS6k8kgxiWE8Smyy+//CxJuXpGWblLly6ldZJoqKWeXBEPMPcj80B+l2Pbc889cw/JYh1HMR6ZXXKJ7ZGA4rnl+3G/fKkFXE80YAdxWgztylDLmtX888+fr1Xq0eiRK6n9maCUVBUWW2yxUuHqgw8+qJvWcI2hMEVB+kc/+lG+T8GfFnIUsOr5vEhqefze0GOS4ZPA+tSpU2dppVxLwb0kSZKahxiUsiG311xzTd5GmZGecJqzaIRdzSIxye27776bNtlkk7TRRhulRx55pPSYWhe9J0kKg/O/zTbb5PVI1uobHTt2LNWdRaN/Se3LBKWkqsDk+gxPARJy9dhzsljwR3FI1zg3tRDgSKpc/O6sttpqVjZIkiQpi0ayxKJffPFFHt2HOJVyI4lKzaqWytEcSxwP18FvfvObfJ91e8+2Dc73Aw88UKob2mqrrfK557sXPXX1Dc4Xv038Xll/JlUGv4mSqkL0oKTQ9d577+UCBSIYqjcUNu+9995SIdTAT1JrYXikiRMn5t+bCOLit0eSJEn1LYbhpHw4duzY0hyAO++88yxDdKq2RGKSz536mfismV/z6aefTv369cuxw5NPPpm3t5Y5xSU8VlxqEd83vnd8Hhzj4MGD8zY+D3tQflunTp1yhweuWXtQSpXBBKWkqkDBKgrAFCQoeH355Zf5vr6ZcL9WC92S2lcxMUmP7fg9liRJUn2LGHTEiBH5lsp/RkAyOVLbinUPsc4tn//06dNLjcqvuOKKfKvWsfnmm5eSkQz1Spzmd2/2iGXp6EB8a0N/qTKYoJRU8ShgkYCLQu+bb76Ze1MyB2M9DvXaGJMFklpD/O7OnDkz/84QzC2++OKlOYElSZKkGEqSpBRlxq5du+b7qn3ECxEzgMTPkCFDGu59Mw9iJCz13RTrfuit+uijj+ZEG+u77rqrdWRzEdMjoV5HZJMqjQlKSVWBgsMyyyyT1+k5+Ze//CWvW6D4GgGBSUpJLS0qG/74xz/mWwJeGow4XJckSZICSajrr7++1DNpww03zAkT4/VvKybzqt3sjuWWW27J1wGP07CR5GSMyKKWwTmld2qcZ75zxmhzx28V54v6M+folCqD/x0kVQUqxaOlEz0n33333Rzs2DospYEDB+bbWgp0JFUGfmepXGIh+OU3lxa6LLaCliRJEopDJVLpv+WWW+ZGbcbrc1arMTwxRBzbyJEj861aRpxXvmcPPfRQXmdb//79TQI3QfE3yVGBpMrgL5ekqsHY+vjiiy/SP/7xj7oLdqIgSiGKBG3Hjh1z0nbatGn2npTUKuJ3liFewe/PAgssUAp++e2JRZIkSfWJuPSjjz4qxaz25JoV5+Xvf/97w72U5p9//nwb56vWdOjQoWHt60TahAkTjBdaSMRed911V3riiSfyOjHbYYcd1rCH5oQOD8EelFJlMEEpqSrQUycqyqkYnzx5ct0WcAn2CP7o0URLVYaosLAvqbXQ+r1YoVKcE1iSJEn1jViduJQYPUY9MkE5e8VydK2WqVdeeeWGta8xXQTHar1Fy+Bc3n///fl8EpttttlmDY9IUvUxQSmpKlDwWmmllfI6icrx48fnQKgeC7gURuk1ybApHP/PfvaznLRlnaSlJLUkfmuZ+zd06dKlVJlSj7/BkiRJ+gaxKEkSlhjqNaYCKA79qq/VQ/l51113zcfJwjXwwgsvNDofqbFE8xGHMarYiBEj8n3O7+233+53TVLVMkEpqSoQ9Kywwgp5nYItBTK2RSV5PaEQ37lz55yo5fhpnUoAyHr0MpWklsJvLcNqB3pt1+NvryRJkr4tkkwMl0g82q1bt3wf9qSsT/SgjOuCuIEparg2InGt7+buu+8uNVKn9yTDlkbvZUmqNiYoJVU8egVSqF1uueXyLYXaKVOmNDxafzgHf/rTn/J5oUD64x//uFQ45VaSWkqxYoHf3p/+9Kf5viRJkhSIT+nBRWPi4vyDJqS+KU+TpAuLLbZYvo3Has2qq66aLr300lI9xcMPP5y3k6Qs9qSs1eNvbQ888EA+l5zf7bffPm/ju+b3TVI1siZbUsWjtw6F2ChwURCjspzCrAVaSWo9/NZ++OGHpeGjY/5Jfnu5lSRJksoZp88edRrRsLhWy9P0nN1mm23Suuuum4+R+pxNNtkkT9VDfY7mHedy2LBhuUEA53arrbbK21m3wbqkauQvl6SKR8V4JCVXW221Uqu7119/3RZiktSK+I3l95Zgl9/g+eabL/8Gs537kiRJkpqn1oe+JU6Yf/750xlnnJEbnJOwphdlz54901NPPZX3oZ7HhFrTFBvn33HHHfn8sjC8a5xD56CUVK38TyCp4tFjh8pw5p3s06dP+uqrr3JhlgRlPbe+ayw5YMJAUksi4P3ggw/ybzBBccw/aeMQSZIkae4ai9EpY9daL9NiEg3Mi0hC8qKLLsrbo9F5375909FHH53nTIxRWtR09957b77t0qVL7j3JtcT8r8RpklSNTFBKqgoUuijg0oMyCr0TJkyouUJ9U3366af5lgK+c8KpWhSTWvX63a1GNA4JSy+9dMPa18MLSZIkqb7RgPjnP/95jk1JQpEsCdG7Syn95S9/aVj7ZtqEWsLxNHZM++67b3ruuefS2muvnR8nKXneeeelDTbYIL344os5LozY0BjxG3FeoqFoxNIM78p5nD59etppp53yNpOTkqqZJQVJVYNAp2PHjnmdAhiFWUmVqRhQEYRefvnl6YorrkhXX311mjRpUh6ChsdJcnELW9BWHj4bWudSuUSFE/ephKLFcz33YJckSdLXGK6UhAm3lO0p60cypZ6HnaTcHHEOirHOggsuOEvjzVrGOVhzzTXT2LFjU//+/XNyllhi3Lhxab311kv7779/mjZtWt63sQRnveJcsDSW5Oec1sv1I6n2maCUVPGKhfrll18+35KsLLbMlFRZigFV586d06GHHpp+97vfpf322y+3nu3QoUNaZ5110sSJE0sBFsEquF/83qv98BnOmDGj9HkU56CUJEmSKCcy4kYxARcN2Wp9rsWmiFiHJByxEeVrGl6zXg8xTzFueOihh9L111+ft7FwzVx77bVpk002Mb6YC87PkCFDStfNgAEDGh6RpOpmglJSxYtEJL0mf/3rX+d1Ehn13oOSwEaqBlRQRE9JAioCUVrNjh8/PvXq1SttueWWeXuoh0C9mnz00Uf5M+EzjN6U9naVJEkSooy/6qqrlhop1nPPyXJRjqb8zLnh/gILLFC6X+tiFJYwePDgHAeutdZa+T6Jt2effTbX8dxwww15m75RPHe33357vmXbZpttlm+tF5JU7UxQSqp4zD0Jgh4Kt6uvvnoOeFjqtTBWbF0YBdZiwVVqb1yPcZ0yZ+pVV12VzjzzzLz06dMnDxMKGiDEPBrPPPNM3sZzvZ4rB59R/NZGZQo9YMH2WCRJklSfaEzMqCnE7JTjGb4TJObqVZSROSc0ziQ2ivOx0EIL5W31JOI7zsEaa6yRk5RHHHFE7mUbceM+++yTr6ULL7ywVOcTj9VrfEjczDXEeSqeg9133z3fj6Ux5Y8X65HKFffjdk77SlJLMkEpqeoUJwB//fXXG9bqS7RCLBYiTRCokkQwDoKpfffdNy877rhjeuCBB3JAuvHGG8+yz7rrrpueeuqpum58UImKw2nTgzKG4rUXpSRJkqI8P3DgwFICjiFfSXBYpv8a5+Hzzz8vnat6FsP/ck7OP//83Huyb9++uV6Dx4gxSFzSUP3qq6/O5yzijnqMPyKRTYz86KOPlup/iJ85N5zH2X3P4rF4Tvn19+WXX+bX5ba4L7d8l+N5ktSa/M8oqeqsttpqDWupLod5JdArtras51apqg4EOGCulV/84hdp/vnnT926dctzkJx77rmpf//+pQDopJNOysFoPEftj8oUENAyByXid8jPSZIkqb5FPEpyKXp5XX755aXkSb2LJM/06dNLybl6U7wOWKcBJOeFmIK48JFHHsmJSkbaYaSWuI4OOeSQ3Djyuuuuy8+LhpL1hOPmPPF9it6UNNpn29xwDmOJRqckOX//+9+n4447Lsfexx57bDrhhBPyZ/DYY4/lv0HSks+glr+/tXxsUrUxQSmp6sSQr3jllVca1uoHAWD0oETcSpWE65KgqXh9RhBF0ENwSQvYww47LD344IP5Mb7bDAdFS1lVDlrUhvhMCYxZJEmSVN+ITYlRt9hii9I0DjNnzsxJDmPVr0VCLs4PuF+v54dYkARRxBSsM5XP6NGjc3J7wIABpQQS19GBBx6YE5cXXXRR3lauls8jx885ilviMRK5TcE5JCF59NFHp0UWWSQ3MKVx8HnnnZfOOuusdMEFF+SFnqyMbrThhhumJZZYIi222GLpP/7jP9J+++3X8Eq1xd8lqbJYsySp6jCpOgUKAqH333+/YWv9oFC54IILNtz7evgcfSMCvUiGWfhsHxFwRmAJ7oNrmM8leuARbB5zzDGlz+7aa68tBfFqX3wG06ZNK60TqEqSJEnlGCmFuQXx/PPPp1tvvXWWWKBeUYYmtomGfosuumg+LyQr6yne4ZjjemjsuojH99hjj3Tvvfemm266KQ8bDBqy0miSoV8322yzdOWVV+bGrsXRpDiXsdSS6E0aowwRU//5z39u9ByCnrqgR+Ryyy2Xttxyy5yE/Oyzz0rDwnLeWKdOjWRx9Mhk+dOf/pT+67/+K3300Ue54TB/94wzzijVr1S7qJOQVDn8VkqqOrToogBFoeq1115r2Fq/6nEehjmh8E5hfbfddks333zzbAvuaj98JrHQEpRg5+STT05LL710DpImT56czjzzTD+7ChHDAfHdKk86S5IkSZThSSD9+Mc/zmXFSBxZbvy6DF28Ddwv31YPmnJNcD3tuOOOOVHJ8K69e/fO22ng+vDDD+dEJcnLG2+8MW8nnuR1Y6k1HBPfKW5JKL7zzjt5PeK0opiSg96Qb775Zm7QTgwXiU7O7a9//eu000475eFdTznllLTNNtvk+927d8/PjSQeyUnOLUPA0kO6mBCuBfX4/ZMqkQlKSVUnWndRaCpWnNcrWshx/LVYEJ8XXBe01r399tvTvvvumxNgqJUWf7WGACsCIOaj5PPiWh4xYoTJ9wpBD8r4jSWwBd8nthnUSZIk1TcSk5QJKdcfdNBBeRv377rrrtxrS5oXJNJY9txzz/TQQw+la665Jo+8Q5KMa45E5d5775022WSTdMMNN5Suw1pDfMxxcS7opUwdGHEyx0vdWCg/9khKss/OO++c7r///hzX8VwSnCR3aSR86KGH5voTEsETJ07McR7n+O23387DwUZPXz6DWhjBLOoeYB2RVBlMUEqqOiQvfvnLX+bbDz/8sGFr/aKAGoXRWiyQzwuGM6EwTqGdgrgqE99hgh+uYQKnDTbYIK266qr5sVdffTU999xzXtMVoNgytxjQBT4jPydJkqT6VBx6knnsoqfWk08+mYYMGdKwl9Q8XEPEitwS15OMJOEdiUq2c80xbyU9KukFeNVVVzU8u3bwfeL7FQ15Saqxje/d7HBuSCjSA5X5YBkul2QjzwuRiGQbrx2vx9/AkksumYYOHZpfC+w7adKkvF7NOD4WjiuOTVL7MkEpqepQiCCZwS0V56+88krDI/WB41522WUb7n1TwIp1pVwID7SspDDtualMtASNlp8ER3379s3XOC07R44cWWrVaPDQPjjvMQcl3yFaxsc6eJx1v1+SJEnC+uuvn2+JwRiSE1GWr8cRUignM6/fp59+mu9HLG980zScv44dOzbcS2mXXXbJ8f61116b40fOI8OYMgLPAQcckLbeeus0derUb53faj7fvHe+SyRhQa/GI488spRkLI+ZOWcM8cp8nRGnRRwH9iO5y0I8Xkxc8hiv99577+Xng4Qw+6688sr5fjWbf/758zFyXj7//POGrZLakwlKSVWJueqiUDF27NhSQSyG86xlFEaZ24NCJIVECo7FHk71jmuB+Si4Fjg/IQrmqmwEQXxuJC2feOKJfL2bpGw/fG/it7ax8+/3SpIkSUWbb755vqWcWD6aTTFJIs0LEnUkKPfaa6+cmBw0aFDeFg1f77vvvrTmmmvm7TRmj1iymvFdYjn99NPzd4ik5OWXX57rPDhu4meOs6mxWewXt8VzRCOCs846K/egZGQq8PdOOumkPMQsMWEs1ah47ByXpPZnglJS1aHwRNBDgSgSGaHY8qtWcYwfffRRLoxyLihAxjmoxxap5ShoRgG9WNBWdejRo0eenJ9hfF588cU8D0ZzAy61LM49n4EkSZI0N/vtt1++pfKfEVHuuOOOfD9Ua2LjuyovT9freWiO8vgvzhn1H1xf3Cch+cknn6QBAwbkOhKeQ/zCEKddu3ZNW2yxRX5OrcSSyy+/fL6lIe+KK66Y10Gicnbmdq3xWtQlXXHFFXmo11NOOSWf4+gAcMwxx6Tjjz9+jsPKVovo1Q0TlFJlsLZJUtWhsLnMMsvkdQr59KAM9ZCQovC44IIL5gIohWxa0HFLodMWqV8rD0JqJRipB3xWzI8RnxlzjBA4cL3Xw/e70sRvSzm2+72SJElSOcruzEXZuXPnfP+2227Lt4iEhzQviD+oAyI2LPYcnG+++fJ8i1x7l156ad6PhBuPDx8+PCelXnvttaqMJ4tJNI5r8uTJeZ2G63/+859zz0bM6bs1pwQlj/Faa6yxRk5C8jd4LXqn9u7dO7388svpxBNPLMV+3MZSjYoNBaxfkCqDCUpJVYfC01prrVUqODG/QBQy6iHgoXD961//OhemOG6Gd6VQWa0FxNbAHAngvPzhD3/I66oeG2ywQSmIoidltAblGmd7PKbWx7n++9//7jmXJElSk5BQ2W677dKMGTNyvMpC7BqNDlFPZXpiGKZliXid6WqCMfzscW6acn6iLihG09pnn31yUi1G3QLXXrdu3dImm2ySXn311bytWvCdKX5fOJa777473ydWPvXUU9Nxxx1X+m6FqBsrfs9Y5/mxPProo7lHJs+lXu2zzz7L+yywwALp9ttvT6NGjUrLLbdcw7NrQ1xTxfMiqX2ZoJRUdaJQRUGUwkUk6FAc7rVeOP/k3Bn4VRdaaoLvON/t2QVXxfuSJEmS2h+j+uy44465YS2JSYbavPbaa/NIQKGpyadaZu+t1kGicokllkhDhw5NN998c9pss81KyTvmVGQ6EZJvqJZ4svh94Vi22WabnJSMEbTOP//8PFUK2x577LG8jfNAvRnP4zhZ5ztIbH3xxRfn4W833HDD9Pbbb+f92Y/XPuGEE9Jf/vKXtP322+chXdkeDQ3iPdQKv4NSZTBBKanqUIigsEVLLwpJb731Vt5Wj8kKjnnatGkN96TawveaeWuiNWytBUTVIM65yWBJkiQ1FeV3EkOgHEliqFaTHN+FZeyWRwxJoo3bnXbaKQ0bNiwnyLn2ON8M/brHHnvkeqRqxnCsBx10UP4+kXScMGFCTlTSS3SVVVZJZ599dnrggQfyvvSEZDnwwAPzaFNHH310+uMf/5ify7nivNCoYObMmen3v/993ofzxevW4neW4/G7J1UOE5SSqg4FJCy77LK50Enh4vXXXy/1sqp15YVDe1DOWa0VpusBnxmtNSOwpLUnWCeQMJiQJEmSKhfldeahjIaGzANYnIuyXhVj06jX0OzNSyzf2HN22223dN111+Ueh1yTJCmpT2JbtWFuSBArn3feeTmhyDFxPRE3Uy/20ksvpWOPPTbtvPPOeZSxbbfdNg95e9NNN+Xzw36cgyWXXDKdddZZ6fPPP0+33nprPj/RKxPx/ZWk1uR/Q0lVh4IUKFhReCL4GTduXF0lLYpJGs7HvBTcaxmFdeY94bxwnuKaQT1dJ9VsmWWWKQVOkydPztv4XAm8ohWn133bYG4TSZIkqTnopbbFFlvkdcrvDLkZDQ/rCTEL5WmOnVh0/vnnb3jEISZbQ8SIccs5Z33w4MH5c2BY09hOD0TmpGTuxdhWvlQaejcWMQclMfMdd9yRk67gfXPMXF88RqN27rNO0pGepQy9TEP/ww8/PHXu3Ll0vmpdnAvOUT1OESVVIhOUkqoOhQgKE3369Cn1Hhw/fnzdFS4iOWsPyrmLc4V6KXjXEuYJkSRJklT5SMRF4i3m+iNBSULkD3/4Q6nxKPEZQ0rWi/J4lHOi1sW5Ll8uuOCCPPwwdQTMyXjSSSel9957b7b7VwOuLRKv9Jzk+/fwww+nAw44IPegpPckt/S2ZLjbTz75JPeW3GijjeryGozvIfwOSpXBb6KkqkRSbo011mi49/X9emp9SEGqS5cueT1a+6lxtBCkEEpwUS/DAEuSJElSe2DUExYQiw0aNCjH6sRiDPUaSR8SldH4uJ5EUoTbOE9qebNLLi6++OI5Ucd1x3V5//33pxdffLHh0eoTdR0LLLBA/o5RN9a/f/902WWX5bk3hwwZkod2PeSQQ9KAAQNSp06dGp5Zn0jgxrXh90+qDCYoJVUl5qfr1q1bw72Upk6d2rBWP2JugOhBWW+BXVPRKvLBBx/Mwcf3v//9hq2qJpMmTWpYU3uJwFeSJElqiohP77vvvnxLQm7kyJG5FyWxGcnJYoKg1uPZOL4oU1u2bh8kzbn+qEPimuRzOfDAAxserT5cRxwDC/VkxSFg4xrjeFnneFliqOV6bMAdxw7OhaT25zdRUtWigBXLBx98UFeFCwqYCy+8cCnI+fDDD/M2fY1C509/+tN8frguCHy5tQdldeBzY8L+cl7j7aNjx475lu8QFUnxOfA5RdArSZIkFRXLifTgijLkvvvum9566630xRdf5Pv1UJ58++23G9ZSWmihhfItMWoxWaLWwTkun1OfuGaJJZbI1x7rNPp+5513Gh6tPhxHY9+j2MYxsoRoGECytt7893//dymOrbdpoqRKZYJSUlUiuKFAseWWW+b7jRXGal30oMSMGTNmKXDWO4KQvn37ltajh209FsCrHd/tTz/9NK97jbc9grdi4EZwX4+/t5IkSZo3DOW6ww475DnvQPlyhRVWyL29yhuQxuhA9SDK1JwPtQzOJXVF1AHEeSUZx7VWRMK4c+fOeT/2J96xMXP98DsnVRZr+iRVHQqQJCriFhQmY+iYekAwE3NQglZgJg2+RpBB8raYzKIAWk/Bbq3h+13e6lVtg9+V+eefP6/zm8tvTfA3R5IkSbMTZUViM9aZ649YjTiN+xtvvHF+/PPPPy/1ppxbj6ZqTiwUE2bgHEQvShMmLYNzyhQvxI/ELuXeeOONdMABB+QEOfuwP9cc8zUus8wyDXtJktqSCUpJVYcCJwV4ApuBAwfmbRQ+77777rxeD6IgHWbOnNmwJgINro9f//rX+Txh/Pjx+XyxPRZVPj4/AnZ6w86tskKtJ8493xt7UEqSJGleMDfeDTfckGN3ljFjxuRy5uDBg9P777/fpBitFuK48rI09RrGpy2Ha+mPf/xjvtb22GOPtOuuu+brjGkrunXrlq688spcZ8DoSpz3Cy+8MO9TbOAsSWo7/vpKqjrRApOgZsEFF8yFSgqTDB1TjwV7zkW0wjSwSXn4Fs4JrSI5HxF4lPegZJvnqzLx+RV7RMf1rfax6KKLloaU/tOf/pRvJUmSpOYiYfTyyy+Xpt4gjh8xYkRafvnl04ABA9Idd9xRGjmFWI2YnwaLLNHLsjEknFAe3/F86gmil2IlxH/lCUo0tk2Ni88afL5cP2effXbq379/6tevX+4JueKKK6b9998/z316yy235H25fqKxJXUGe+21V34+c6J+//vfz+ssqm3MNRq/Bcsuu2zDVkntyQSlpKpDQYIAg2CGYWFIXhDg0LOSRSqKAKa8Bx6BiYFg5SmvNOB7zlIJlQn1auGFF84VO3wOn332WcNWSZIkqflIHk2ZMiWts846OZaPmGz06NFp9913T/PNN1/afPPN0zXXXJPje/ZhiQZzJJHKY4NIeAbqC8DzeV78nUqMKShjq+nis+az/MlPfpKvlRNPPDE9+uijpV65iKQ0nz3ilsTk888/ny6//PJZkp3WD0hS+/C/oKSqFK0gKcxzy/1HHnnkW4GJRCDy3HPP5eAkgg4Dj+rA50RL6kiOqX2QoKRih8qgDz/8sGHrt5PJkiRJUlMst9xy6fHHH08TJkxIffr0ycO/gnI/ZU56xTFXIMnKLbfcMp122mnpzDPPTGeccUYaN25cGjt2bGnh/jPPPJN7xzFqDs+PZFQkNdlOMqrSYgrj0uaLXo7EIjNmzMifKZ8tdUE8xmfN507ycuedd849KSdNmlS6Nq666qrUtWvX/Bx6Tlo/UNu4ToxbpcpmbZ+kqkPhkSE5IrjglsIoBcxoKSmFuCYMPKoT3++oWFD7WGSRRXJlEb+z9qCUJEnSdxUxGomixx57LE2bNi3deuutaf3118/bY8hNYvxhw4blHnIkJ7ldb731Sgv7s/Tu3Tt16dIlderUKScnef7AgQPT1ltvnbbffvt06KGHpqeeeiq/dnsrj0mNU5snzhVx4jnnnJOvA4Z2PfXUU/O1Qu/cmTNnpo8//jhdd9116dJLL80Jca4LnlusR/K8S1L7M0EpqSoVC5LMNRCtokaNGtWwVfWMa4FrhEnwQcCr6sDndtddd+WAkc9xgQUWaHhE7YXPgICeiqS//vWveVtUKsVvL4skSVIloFxCgoIkFWWYP/7xjw2PqFJED0duKfdzu9NOO+VelSQmn3zyyTySCknH6DHHbSSXwDrbKJeysB77cEuyinnt77777nT11VenDTbY4FvTfrQ3E2TNVzxnhx12WB7aldG0jjnmmLTpppumlVdeOV8DLPF5F6+bwDXHa5Uvqg2zi1Efeuih0vXQvXv3fCupfZmglFT1KFjSsjKGIJSKCDLsgVc9CCIIMPku02Nvm222aXhE7YWhtSKI++KLL/Jt3DeYlyRJlYZy5IMPPpiTVsSKL774Yl63QVV14HNae+21c4Lxk08+yfMKPv300+mss85KF154YTrllFPSVlttlbbYYou80HuOuIGENHEf5VJeg/Iq6zwW614DUn0oxqjF7z09bKMhw7LLLtuwVVJ7MkEpqepRsCDoiPkq6g2FrSh46dsIVElgs5jArnx8RnfeeWeuTOI7TctpPju1n8UWWyx/HvzW/OMf/8ifh785kiSpUlFuoUxJeYVyC2VKtsV9Va6IbVkizu/Vq1fq2bNnOuKII9IhhxySh3m999578/LAAw/kxo00omMOys8//zx99dVX+XW4feKJJ3IvSpY999wzDR8+vOEvSao3L7/8cv5dwZprrllal9S+/CZKqlpRQc7E51GwYN6KehbnRN+gEoKWtO+9954F0CpA63YqkbiN65kKJbUfhtaK7w4VP5Ho9/dGkiRVquhRB5JYlC3BdlWuxsqXlENJOEYZlHUWRMKZeCHiPkSis0+fPnnYz8033zxde+21ubelpPpEgjL+F8AGK1JlsKZWUtWLYIQAhFaS9chEwaw4HwSlvXv3zvf/+c9/pv/+7/+2B2UVGDp0aL6lcmHw4MGlygW1n86dO+dhXsF8rgy15TBpkiSpUlFGYSGxFY2sosGbFdLViXggEpWsR3xQTDizHnFgefwQ10HctievQan1xf+B4u8FCcpoxEBdUSX8HkgyQSmpBnTo0KFU4GB4l3pUHoDpa1ERwflh3hLPU+UjYCdQIAFGYhl+bu1vgQUWyAEeGELLYE6SJFWyVVddtVReiZ6UNFa0B2V1a0pcYOwgid8BlpgKimXcuHH5PlZYYQVHapIqhLVLkqrexhtvnAsW0UIqFNdVPxiCEhRG11133dL6448/brBaBRiCKwwaNKjFPzN/F5qPYG7xxRdvuJdyD0q/S5IkqVJRTqESmkZVUTEdjeAkSfUjekxOnTo1jR8/Pv8/oJNDt27d8nZJ7c/SmaSqRwEjKsujx5Xq149+9KN8yzWxxBJLlNbrdfjfajN8+PD8nabRwfbbb9+wVe2JpC49KAOVfZIkSZWKkThiuE9uaQAXPWUoZ0qS6ge///fee29pfZVVVsk9KCVVBhOUkqoeLWEXXXTRUtD57rvvppkzZ+b1ehEJWn2DpMqKK66Y1xnW6bHHHsvrqkxRWUQjA77TLK3V25G/VZwcX3PGb2s0/uDcdezY0fMnSZIqFmWXpZdeOi288MK5TEm5JcqW3Eptievu5z//eV4nbn/11VctS0ttLKb8IZ7t0aOHc8FKFcSSmaSqRwHjV7/6VamQT4GfBGUkPFTffvjDH+YhnpxvpjIRsPNdpbLoiSeeyLcklFsraCAo4W9EgwbNHZ9Pnz598jqf18SJE/19lSRJFYdySpQti2XMKPfFdqktRVKEeNTrT2pbUU/4zDPP5O8i9UMbbLCB9UNSBTFBKanqEXTG+PEEn4wrz60V6MJWW22VC6IUTMeOHduwVZWE7zDf1+eeey7fklDmOx3zRbSkmBQf/C2SoGybPn16w1bNCd8lhlG2gkWSJFUayikslC25XWuttfIoEFFBTYzIdqktUWaeb7758nUpqW3xuz906ND8fyDi/4033rjhUUmVwP+OkmoCk1xT8KDQQdD56aef5gDACnTRG4+CKLdDhgxp2KpKwufD95VheKPSiB6UUZnUGt544420+eabp/nnnz8ttNBC6cMPP8zvQ9/GZ8P3ByQmI8nrsDiSJKlSEQdStiNGxCuvvJJvpbZGmblLly65DN0aDTAlzdmFF15Y6jF52GGHGfdLFcYEpaSawCTXkcygF9Znn31moaPORaJr++23zwkWAsNp06blbTB53b44//EZ8FkRsI8ZMyZv4/MaNGhQqUKpOYqfK78JLLGNa+C1115LG220UZ6fdNSoUemLL77I1wVzUphwm72vvvqq9D2K8+SwOJIkqRJFo9V11103l19Yf/zxxxseldoWDf2Ia4hJKFNLalvjxo0rxbDrrLNOvkVrNoiW1HQmKCXVhOWWW65hLaUPPvggffnll1aeKyMZRbKaionbbrstb4v7aj+c//gMuC1+X79Ly+Li50pFAAuf93XXXZeHJmXo2IcffjhXVrGdOShuvPHGtOeee+Z1NY5zw/mKHskEeFawSJKkShSN3ChfMsQr5ReSQ5RhJEm1i9/8QL3g8OHD8zr/F6grYHhX6gJ4LP5XSGpfJiglVb0YbrCY5GC+ERiEimuAxFTgfiSnir3t1H74Dp966ql5ne8xrRrn9bPhtXguAQfz0RKAMAT0Pvvsk7fz+gQi/fv3z4lJ9hs8ePAsiU19g3MWvSY5b9zy3WHdRiCSJKlSUV6h3EJ5JcovxABSezL+lFpXNDrmu8YUMltttVW+T2/Jww8/vNQYmv8Nfh+lymDpTFLVo6J8ySWXLCUfCD5nzpyZExUmHcT1wXChcX08++yzed0KisrAZ0GQEHMc8hmtttpqeTtLc/FafPf79u2bevXqlR555JFSq3nQo/byyy/PE+Xvvvvu+ffCuWBmj8+D4C2G0eb7xBA5bLcHpSRJqlSU9bt3757Xo/witYfG6iQa2yapZRDjn3DCCWnbbbctxaxM8XLOOefkdeoG/A5KlcPaWUlVj4CTHnK//OUvc2KCIV6pSCfpYBJK2HnnnXNLOgqh9KajwAoLpe2Pz4DvK8Ougs+GxGIkKJsyLwT70BPymWeeST179kydOnXK6yC5RlCy+eabp1deeSXdddddOTEZvWjBbVwL85IUrQdTpkwpfVbrr79+XrcHpSRJqmRdunTJt5TvojGc1B4i7gBz4EtqGXy36KAQuH/UUUelSy65JH/XiPvXXnvt9OKLL36r/qf8vqT2Yc29pKoXiYyOHTvm+yQmP/roo9JQjxLDef7nf/5nGj16dFp55ZVzUpuCazFQVPsgKODzmDhxYr7P93fDDTcsJSZ5jMAivstsj8cmTJiQjjjiiLTuuuvmxDO3L7zwQt43GiiwbdKkSen+++9Pyy67bK6oKs41yd8vNmQwSPk2zuejjz5aOjfRw1WSJKmSRQ9KkpMxL1mUI6W29Jvf/CaXpSlDE5tEY0njUem74btEXQC/7W+88UY67rjjcnJy+vTp+THqBZj6hTqA+N7BuF+qHCYoJdUEChcLLrhgqZBB4YSCSD0VOkwYzB4F0Z/85Ce551ckJ9nGovZF8nHYsGG51SNBw3rrrZev5QjgEUO0PvfcczkBedJJJ6V+/fql3r17pwsvvDD3jEQ8j8/30EMPTTNmzMiJteWWWy5/7kXsx+dfT78R84pzFHNQInojS5IkVRrKg8SCNFZlFA3KkZRjiA1RXiaUWlux3Mw6oz+Ba9R4VPruiP/ffffd3HOSYVy5z2/+mmuume677768TzROMY6VKo//CSVVvUhiRI8pAtGXXnopb5NA8IfywijDgqp9UWkUCUYqj0DFEdu5ff7559Oxxx6bk8skJBme5YwzzsgT3vO58plOmzYtJ814nKFi+Q0gMCm+XiQv1XwEc8zlGecveiNIkiRVGsorlP2iPEnPSW4nT56cH4/eM1Jbogcl0yNwfVK2JjYpjuoiad4Q8997773poIMOyjEr4ntGPcLGG2+ct/E/IeoPYpFUGUxQSqp6kaCkRxUIOqdOnVrzwedf/vKXfEvB6he/+EXpPOjbosV0FELjNlqvqv3QqGDMmDH5lmuYZdSoUalv3775c6LV4wUXXJDGjh07S8IRPGeNNdbIzyfZTG9J5q+Mx2PYZ8Rn7vek+ei5Cs5hBHiSJEmVLHqmRRmQkTWk9hQ9uF5++eV8XbKYMJdmFfE6tzE0N6IuIBL84Ptzxx13pJ133jknJ2moTOL/8MMPzyM0bbbZZnm/EPVCkiqLCUpJVY/gk4LJ4osvPkthJoLSemBBS9WKZGIxOKdn5IABA9ITTzyR7yMSjvG9pnXkk08+mf7617/mZCZJSYIXWiXP6XsfFQFqnqhEiYAP8VsrSZIkac6IdVZaaaVS3EOShfilnuospKbgO0KsyS2xJ98T7hPrI+oG2H7bbbel3XbbLX+nYju9KRlxiZ7zkqqD/wklVb1IOJCki4LJhAkT8rZopVjrunTpYnDTBHGtxK0qw4EHHpi/twQefIcjAIlrevXVV8/Ds9BDkpaT9KhkONf5558/zz3Lfg6R1HpGjBiRb/k9XXfddfO63yFJkiSpaYhXYs5Jlvfffz+Xp230p1pXvMZZn9s1z+Px3eA7Uxwa+Z577skjp/EdYjSs3XffPT+Hx9j++uuvp0033TTXLbCPpOrgt1VSTaDwscQSSzTc+3peO0QrqlpnckbVrH///unuu+9OxxxzTF7fcMMN05FHHpm30TLy2Wefza0gGfY1gnrQKIHAhaRlzDPaHHMLjpTSFltskR5//PGcOCYwJFlcLw0/JEmSpJZA+blr1665TE3C5W9/+1uOZeYlhpFqwexi8fhOEOMzYtKtt96aNt988zx9C0O5MuIScSl1YJGIpJ5g5MiReVQ1vmvR+FlSdfjev76wfmMlVT0KIRRMKLRQoFl66aXTSy+9VNMtpzp16pTH1f/JT36SPvnkk4atUn2I4gvBiVoe55cAkCFy+E2l0cdhhx2WjjvuuNxzVZIkqZLF8P8//vGPc8xEvMg8lFRqW35Uezj55JPTaaedlq+/E088MR1//PF106Ba9SsShiHieG4bS0lcd911+Tf7iCOOyN8VFpL5/KaD53Cf1yQxeeqpp+bEJKOKsW+8pr/zUvUwQSmpJvBTRgFk4YUXTp9++mn66U9/mv785z/nVlcxVn2tiAJe9CRj/csvv8zHT4vMWk3ISkUGHi2rGDjye7LLLruk++67r9RzkkoUKlUkSZKqBY2sGJ5+4sSJ+T7zaUfcKLUlrsVHHnkk9wQjXmcYyiFDhjgSkmpWMd1Q/pvLYyyMlPTUU0+l9957L40ZMyYPfRy/04jhXanXo4E+oy316dMn7bvvvvmx2C9ef05/U1LlMkEpqWbQomrJJZdM//mf/5kWWmih9Kc//SmPS19r+NkmwOHYKHTRKtgelJLmFb8n0SqV2+222y7df//9+beG3xhad59yyiml+5IkSZWsWGbp1q1bmjp1at4WZR2pPTCfPlNZcC1uvfXWeT49qR5MmzYtJxjHjRuXpkyZkl555ZU0duzYXHdHLFqORrL8VpOY3HLLLVOvXr3SxhtvnHtKNtYBIRrbGq9K1ckEpaSaQaGEeR2YGJvCTPQqrEX/9V//lRZbbLFcYFthhRVyAc/ek5KaK4I4bmm1euONN6Y777wzP8ZvCvOCnnXWWd8amkeSJKmSUbaZPn166tevX5owYULe9sc//jFXcEttjbidIYZpXEyChWTLgw8+aAyvmnfVVVflnpL0ZKeujtgzRumJOBRxy/djo402SmuttVa+XWWVVUr7zem7wuPsJ6n6mKCUVBP4KWNZddVVcwtZvPPOO+k3v/lNXq8lEcRQ+KLwtuKKK5aGLbJAJml2yoO2KAKybcSIEemWW27JLbljHx5niB0SkyYoJUlStSFBud9+++XGV5RlGD7wl7/8pTGT2lzUV1CeJpZnfvcvvvgiX4tej6oVEW9yy/W9wAIL5HgyrvNIMJKwjxiT+qzevXunpZZaKnc4WGeddUo93RuLQeNvSKodNtORVPUYEiIKKRRqYsiHv/3tbzmZV2so1HFszFdBwa4Wh7GV1LL4jYzbWI/g8eGHH87z4cQwU2zfZpttclBJQMjvaC3+lkqSpNpCuYYySwwZON988+VyTVRwv/XWW5Zp1C6I24njid3jGmTIYRMtqhURY3J9s96xY8ecnERc59TXEWdeeuml6bHHHsvx5qRJk9Jll12WDjzwwLT++uvPMgy3yUmpPpiglFT1aH1IyyoKKgSh9YDWv1EwY5gYC2qSmovg8YwzzkgDBw7M96NxB9uGDBmSG0Hw29pYy1VJkqRKQzxEEigquImRiBUjYUnZxzKN2tN6662Xr1GuzaeeeirfSrUk6qa4ZZ7J3XbbLT3yyCN5HsqXXnop3XTTTemggw5K6667bk7Y8xuNaBgbWI9FUm0zQSmp6kUBH3/9619z60Qsssgi+bFaxPyatLgEhToDG0lzQpBYXPidvPbaa3MyknV+Q2jhylCvBx98cE5Kso1AkcRl8XdWkiSpElFWYaFCO8o3K6+8ci774O233863UlviOqQ8zXXJvHrRKPCFF14o1V1ItSIagfC7u/rqq6cbb7wx94zs0KFDjimLCUnE7zP1W8X6O9ZjCbGvpNpiglJSTaGQE4FpFHxqHccchTtJKuK3EDRqKNp9993znEwxRPZ2222Xh3rdYIMN8nA88ZsSv6cwIJQkSZUsyio0tIokEEMIRlw4c+ZMe+OozVHe5tokGdmrV6+ciOE6nDBhQt3UWaj2cY3Hb3Dclk9HVNyniG2M3iOpPpmglFT1KNwThILWVVGx/rOf/axUsV7LGivgSVL8/nFLwMftueeem38jb7/99tJjO+ywQ7rrrrtSv379mhxESpIkVSqSk5RxiBFXXXXVUg8celBG3Ci1lRhymOty7bXXzut46KGHSuV1SZLqlQlKSVWPIDOCTsa1jx6FBAL10EI2ErKwRbBU+5pakRHJRVprn3POObmF9gknnJB/J6gg4XeT+SdvueWW0m9H8bWLw+lIkiRVG8oyxIQxdGCUgaS2RHmcMjbXII0GN99881KZe9y4cflWkqR6Zc2TqpqtzQSCzEhGfv755zlhycJQKrVcwR69moq9m/xOSCqix2Tnzp3T8ccfn38jY4gpfiPvueeevPA7GRUn5YskSVI1omxDQ86f/vSnpZjQOSjVHihTR1mbZHnXrl1LjQMvvvjifCtJUr0yQamqVaw4La5T+UrFKz1Ghg4dmnbZZZd0yimnpP79++e5tXr37p2TWRQQWfr06ZMfY5+JEyemSZMm5cJiTKrPa4H14t9RZeGzJPCMzx/FnoW15pNPPmlYS2mBBRbIt1yftXzMUr0o/18T/39YqNSIbfFbF9jG3ErPP/98bpnN7+LRRx+dfxf5v8b/vq222ioNHz48P3fQoEG5VyX7hVjntrhdkiSpGpSXX5ZffvlcDiqWo6S2VCxf04Py1FNPzfcpj8c88XGN1ppaPCZJUsv63r/+WfjfQlWHy5bCHYU4klLc/+qrr3Jy5v777889QkaMGJEraqNnCIU/etqxX/llzz5U0vIYPU0+++yztO666+b5uEhorrPOOqW/w8K6KtMyyyyT3nrrrbzO5xmff6254447cvKd6/rII49M5513XsMjkqpd/I+L23L87wO/b/wGRMOE2267Lf82PPLII6XtvAbzSm622WZp1113zfPe0KiBypDifJPsV1SLv5uSJKk+Rfy+0korpSlTpuR1qb1E+ZxG8R06dEiffvpp3l5rww9HfGFcIUmaE7MsqjpRyInkJCjwjB49Om233XZp2223TXfffXeufGU7iUf2pbBHAZDnxELlbSy8LvtPnz49P/b000+nE088MScoeQ2SQDwef1OVic+Pz6nWcZyRpPjJT36SbyXVhrn9hsX/MJKQDFX2hz/8Ic8lueeee6ZRo0bl7THs9Q477JDuvffedNddd6X111+/1OO6mJwEf7O4SJIk1QrKTcT7TAcS9QlSe6Gs/fvf/z6Xx7/44ot0/vnnlxocVrPy75ZxhSSpKcy0qOpEIScShfvtt18eJoPK2fvuu69UANpyyy1zhewtt9ySh3CN5GTPnj1z70gqbqnEZRuPxZCu4DVYp5AY6xdccEEuQB544IHOXVGh+JwYyjDEtVKLisMTderUqWFNUi2Z3e8X/79o/U/i8YADDkh77bVXGjZs2Cy/C/T8v+aaa3Kvyo033jj/NvK/Ejw//t9xG4skSVItiroDkkGWeVQJqJPiWqRRIXPF0wBZkqR6ZIJSVYMEYqAgd9xxx+VA46abbsqJRrZxn/m2qKSl4hbbb799evTRR/PQGb169Urjxo1L48ePzxW/JCCpqGWuLtbpKclrsO3kk09Offv2zQVGsJ3XveKKK9Kyyy6b1lxzzTRmzJj8d1mcz6J98RnwuTE8LxiqNwLRWsUxS6pN/F8Lxe/666+/ngYPHpy6d++e/7898cQTeV/+p/Gbx/+yG264IT3++OM5cRliyChei/0i+cltLJIkSbVo0UUXzbcff/zxLGUsqb306dMn9ejRI09Lg2effTbfViPqYVAeTxB3FBfEvnwPH3zwwbTTTjulxx57rDTMrSSp/pigVFWgMEOlK0lKKmNXX331dM455+TH6BVCwY7KWAp3p512Wt6XVmhU3oL79CZ56qmn8v1IaJ5++um5IDR06NB0zDHHlHrf8RgJSpYZM2akhx9+OP9NelBGAvPll1/OvVJWW221/Lr0TInCltoHLWLjM4jEsiRVgwjcY+H/VuD/EMO4Mo9k165d0wMPPJD3CVQGbL311un666/Pv4O777576XUkSZLqHQ2RQySEpPa2995753okyuyU86u17B4NwxuLP4qNIXlsxIgRadVVV82NJxn17Pbbb88dBjp27NjwDElSvTFBqaoQ80KeccYZaaONNkoTJ07MBRyGxXjooYdyr0jWQaXuGmuskc4888xcAKLn5OGHH57Gjh1bSl6RaHzhhRdyb8v55psvbzvhhBNywjIKRvw9tpHMpCflM888ky655JKc+OIxkpkskyZNyvNUHnzwwfk9RQ8+tT3mFOEz5nN32FNJ1YjfLyrO+F9Coxx6Q9ITkvklCej5nxQ99vlfttVWW+XEJP/z6FkZPSV5Df4nSZIk1TvKTKCc9eWXX+Z1qb1wHbJsu+22eWQuUO6///7783pT8RrzqinPnds+cRxRB0PsQWPJ6KVMPd7o0aNzHNOtW7fcUICpmahDA/uXP0eSVH9MUKoqMGk4ScFTTjklF2BYP+qoo3JvyvXWWy/vQ6Xsk08+mQt4FHjYj96NJDAvu+yyUoFp0003zb1R6IUSKAzSco1el2uvvXZ+fV6P1ycpyn0Sn7Rwo/D029/+Nj8vXhNXXnllfg69XNQ+isPsxlxrklQN+F8Sy1tvvZVuvPHGtM022+SAfsiQITnwL/aq5P8N/xvPPvvsPDTS4osvXkpOsm+sh/hfJUmSVG8oF0VZyB6Uam/RcB4HHnhgviWJvsMOO+T1ahGxS6xzXH/729/y0K0rrbRSmn/++dOAAQNyXMP8+TT2j+dQx0bSkliHufTpWED9miSp/nzvX/8A/A+gikCLqWLlK0g4bbHFFnn4VlDgYahVxufnsQg0uIxJTjLkasxVGXNEUtBhH/Zdf/3108iRI/PjiOdGISn069cv97iM13rkkUfyNsT7fO6553LPTG55DbZFQZPelPTGjN6Zan18BnxmkbBeZZVV0osvvvita6pWkHTnOsPll1+e9t9//7yO4rUsqXLF/xNa8hOkT548Of/f+v3vf58fYxu/bSyBHpMMg8SQSMy1K0mSpDnbbrvt0t13353Xn3766dSzZ8+8LrWnKONvuOGGuXE89Ulse+WVV9Jyyy1XigWI73mM+0WxjUb01HuFeE65iD3Yn4Ro+T7EJGyP53NbfK3i/q+++mp+z7weCclHH300bycJyUhj8fx4z7xXOgOsuOKKOZah4wDYJ5S/H0lSfbAHpSpGMcEXBaFNNtkkDwlBK0daV40aNSonoVAsMFGZyzCsFIQoANG7cvz48XkOSQpIUejh+TweC68Rt0X8TSYt5z3x/BNPPDFv5/XZRsFurbXWynNPkqTkNaIwiUsvvTSddNJJeV1tKz7LaJ1XDwgwQr0cs1TN+B8C/p/giiuuyEE6jWj4fxaVDdxSScCcNLfddlt6++2307333pt22WUXk5OSJElNRGwIYiVieqmS0Ii+R48epfokknjHHntsbrzItmi4iKh3IpnILUskFaM+LRTvR10WislMxGvGCCzRUJ9tb775ZrruuuvSNddck+MV6uh4L8wjeeSRR6YDDjggJyejXi3q5OI7x6hmjAbDdhpiXnvttaXkZJH1GJJUv+xBqXbHJUhhhEJRFLrolchwq/SKZDtzPNKLMQo5UdDi8VNPPbXUi5EWWfQqGzRoUJ4zslevXnk7C73punfv3qSCDwXAqVOn5teLAOawww7LQ+nxHqJlGXjtCRMmpFtvvTUPXcFzKdBxLCRV+btqfXwOJK+p4GedhDXXTK0WdIs9KJlL9ayzzsrrFuyl6vDOO+/kRjPDhw9Pjz32WN7GbxcYopr1/v37p6233jonJPlu8/8lbqlgiP+ZiP+LPO7vgCRJ0jf222+/dPXVV+cy0tChQ3PjL6m9Rdmf+iV6I1Luj/okUNanty91HEz9AOqnSGCSTIz9IrHYVBFL8PfjNfhuvPbaa3m0MjoIEJ9wS7wSj/O8OWEEMUY8W3755fPoZrzvGLqVWCUSpOA4on5PklTfTFCq3XEJUtiJAgrzR1Koie2/+93v8nCpzBvZpUuX/BwKNyQnSczEfJMM6cp+DPFJwWmdddZJL7zwQp6I+7jjjksnnHBCfi77zk387eeffz73pKSHGu/t4YcfzvdDFOyiYvj222/PLctIjgYSmxdeeGHDPbUWPrNigpK5DkaMGNHwaO0pJigPOuigdMkll+T1plzfktrPH//4x3T//ffnnpIE/fz/4DcrDBw4MP+fWXfddb/VqIb9qEQob6xTxP7xP8zfA0mSpK+nYCF+IuHDUK8MmS9VEsr4JBqpz4opjUjuURfFdUu9FnVm0UCRfdmHHoo8l7iAGIHnMw8kycLf/OY3qVOnTvl57E8ilHqzBRZYIG+jvoy5IUlGEqOAvzl9+vS8HrFEMVYBfyfq7/j7zCO5xhprpKWXXnqWRpQ8j4X7EZ9IklTOBKXaBZcdBahotRUFFRKC9Fqk8MU2hrVgqNTywgxDQ1CJO23atHyfitxx48bldQppDMl6/vnn59ensNbcy5z9WShI0WuS9wFarzFnRYgEZbkjjjgiXXzxxXmd+TOLSU21vPh8SVqToARBJ0Mh1ip6DfNdAT2FSc7yneJ7YsFfqhz8D+J/2meffZZ22mmnPIRTBO18V+P/CP/TNthgg7THHnvM0kOffYr/w8q/38XHYt3fAUmSpG/QsPncc8/NZbBbbrklDR48uOERqfK88cYbabfddsv1Y1GmL5b5wf3oRcl1HQlL1qOuLZKW0SiS14rHojck+/Na5a+PYjxBPMPckSxghJei4vMbi0N43PhEktQYE5Rqd1FQIvHHcHa0xKLARI/HY445Jhe0EMOqMpQlPU8C802SRCyKgg/Pve+++5o9hEt54SkKdRTeuA2zS1CCx2iRxtj8cQxqHfEzRuKaoV25v/3226c777wzb681HN/HH3+c/uM//iMHCrRaZD7UCEK4TiVVDr6zfFe55f8B/+fA/xn+f9Hjm6GQ4v9O/KaF4v+jxpTvj7k9R5IkqV5Qf3DGGWfkOOn6669Pu+++e8MjUuWiJ+SVV16ZR4Z6+eWX8zZifsr+EV/Qw5JyPwt1AWyLpGXUDfAclkhggvoqnkNdV/TA5D7Pj0bfxChgfsxVVlnlW/UNrEc9XWyTJKm5TFCq3USBiIIMPR4ZnpXLkcIQiUl6kkRBC4zJf8opp+ThU3nuWmutlYMMeicWC1kMWTFx4sQ8hxfD4/G86I3SVLwPEpGRWGRIGOasAOP9M6ws+HsU0hpT/GrFMah1xOfA5OwbbrhhPvd77713Hm63FnF8XFMEE6AnJT0oJVWe+L527NgxJyYJ5DfZZJP8P+6QQw7J/7/Yh8f4v1VUrACYk+L/m+D/HUmSpK/FqEiUq5ga48ADD2x4RKpcMdUQMQF1U8xhf8cdd+REY8T/1FtNmDAh14eQXGysFyWxAs//2c9+Vqrjoo6MEcJo7Mx+Xbt2Td26dcvPLY8/eI14D4j6F7ZFzGHsIUmaVyYo1W6iUHPyySfnxCMo8DAkKkO20oqLxykcMZzlkUcemXskUgAj8Xjeeeflce6LrbVGjx6dtthii1zRy6VNcpIx+OdFfDWioMXfoPKYQhiFPswpQam2w2fC5/PII4+kjTbaKG8j6Lz00kvzei2KAIFbEh/M0Sqp8vC/hO/pm2++mf8n0YiC+WD438FjLPx+tdT/E17PCgJJkqRvXHjhhXkaFspc1CMcfvjhDY9IlY04grJ9lO+LZf1Yj/oQ6sH+9Kc/5dGWmINy8cUXz7fFhCL7FZ/Hc6hXiDiEx0L8ncbENBaY036SJM2NffDVLmKib3pAkpwkwcLQnAxTSc9ICkpgHxKY66yzTp4onOQk80cwHCzDTBR7m9CzkuQkBSUcf/zxOTlJAau5Szm2rb766vm1WY+AxuRkZeG6CtG6r1ZxLdJbGBw31//srl9J7YeAnf8VDOFKw4mlllqq9L+Dx/g/h7j9rqwgkCRJmtUCCyzQsJbSp59+2rBWf6KupKUYe7aNYvm+sfWII+htucQSS+QRlugRSXISEXvEfsXn0eC/WK8VjxX/TmOivmVu+0mSNDcmKNUuOnTokMeqHzlyZL7POkOuRMKFghIFntNOOy0P/UqLL5AYZP4IHqO1FgWpKGSNGjUqJzBJbvIYw8ZiXgpMFLR5XrFwRi9OXpe/cfHFF1sYryDFz7hePhe+AyQ8wDFzXRavWUmSJEnS14kbEDfRY6xeNacR79ziautD2obxvSSp1pmgVLthDi7misSpp55amoibRAu4T+/JKPiOGTMmzx1BcpOkZCQmQVLy3HPPzbcU4JiLkOTl9OnTS70xm6uxAjcTg4PHbrrppryuylPrhXiuaa5/EpRxrC+99FK+lVSdrHyQJElqHdGTDNQRtDbqC2KpBFEn0pwelMX3P6fjqJRjrFXtESM09W8av0iSWoIJSrWLk046KY0fPz63Xuzdu3fuPRkmT56ct40bNy4nGRmeggnAe/XqVSoAlReCeSySk/Sw5Pk8txiIzIvi3+G1d95551Lry6uvvjrfSm2tGChyXbK89tpreRsMEiVJkiTpa8Weg23Vg7KSYjIagd9+++3p5z//efrZz36WfvnLX6Z77rknn4umNuhu7HjYZuwpSZK+CxOUajNR8L311lvTOeeck4dtPfTQQ3PPSFA4vvnmm1PPnj3zXJQkGPfZZ588nOrKK6+cC76RoAy8xtZbb52Tnbw++wwYMKDh0W9EEmdelqJtt902/eIXv8jrzz//fJowYUJeV/uKz4lrqPwzq0V8N7jWGfKY42WdJH4Eh/VwDiRJkiSpKTp16pRvaWzM9DKtjbqJ4ohPgXgtYjZQn1G831qIHxmJ6vPPP0+ffPJJ+vjjj9NOO+2U5x/cfPPN0yWXXFJK3PKe/vnPf+Z13hv3ozE427mP2AZ6ZrIvty09z6UkSaptJijV6oqF8CeffDJdccUVuTBLInLQoEG5UEvh/fjjj0977bVX3o/96aFIQXm11VZLXbp0Kb0GoiB8yy23pAcffDC3iORxXrtbt275MbCtJZI1UQj/yU9+knt0UsAHf09qaxEMsqy66qo50H7zzTcNBiVJkiSpTHEOyraMmYjXGFI2knwzZswo1U9MmzYtr9O7sbUTe9RfUPdy3nnn5boXkpH8XdZHjhyZG45T58JIVJdffnn64Q9/mB/jfXPL83n/bI/Gstzy/tnnoosuyvt17tw5PfPMMw1/VZIkae5MUKrVUWillSJDtpKEZAhXCt+DBw9Oa665Zu4tedBBB6ULL7wwF5JJSF5//fVp9913z4XcEAX5eL1PP/00JydBoXjDDTdM++677yzBR0uJQjgF+QMPPLD02i+88EL64osv8rrUVuJ7wXXfo0ePfD0SMBavTUmSJElSSh07diwl02bOnNmwtfVQfxCIz6jzOProo9NKK62U3wfx3Pzzz597MC6//PLp6aefzvUKrRXL8bosxIskTGl0HecDrFPXEe/z+9//ftp0001z4vGzzz7Lj0XPU9aJPemNychYJC1POOGE0mPFOhxJkqS5seSgNkEB95FHHslDsZKEPOaYY3ICcujQobkATCs9CrkkW2jVR/KS+0UUmllAj8kHHnggDR8+PBe02ZfkJ6Lw3ZLi9Qgg1lhjjbTsssvmoINeay+//HJ+TGprXINbbLFFvv75blx33XU5KJQkSZIkfY36A+Il4vq2ipeo/6Deg/qDjTfeOJ1//vnpvffeywm8qNtgeeedd1Lfvn1zXQgJwtZ+fzTofuKJJ9KoUaNyI2+QZCzWo5C45HHqahhFigQvPTAHDhyYbzfZZJO0wAIL5MQkz2F/YlOOg0bokiRJTWWCUq0iWuJFkvHZZ59NZ599di6MM7Tr6aefnu644460ww475MdI/DGfHoV2Ho8hRUIUlAOvu8cee5TWb7rpprTWWmvlAn5riNeN9/Hb3/42HyPbGYZWlSWCvXrAMDyrrLJKqecw3yOTlJIkSZL0NYYeDQyt2lKK9RTF9SOOOCIn8xglikbN9D4kPqWegx6TLEsvvXTel8Qej7366qupf//+eeSp4mtF3cp3EbFxvC7vo1+/fmn06NF52xlnnJF69eqVE7nMM8n+0QiWW94DCVeSlgwJyzrPi2FpOYaHHnoojRgxIr+2JElSU5mgVKuggEpBNpKMFNDpRcl2EpWnnHJK2m233UoFZIYOoVBMa7to3VgUBeNAYpP9eH0mdS/2uCx/bkvjPdO6kWNhueeee0rDvBYL6VJbOfPMM3MgyXeCXpQM3RPXYXzHJEmSJKkeRa9FYqNivcJ3FQ1DSeARf5GQ5G9RvxHxGX+TBtnM8/iPf/wjj8D00ksvpddffz0Ptzp27NhS3QmjTTG0ahF1Di0Z0/Fa5QuNXElWMpwriUYalJMspa6FoWh5D3EOYyHpSw9MkpIc1wYbbJAbzbZEQlWSJNWP7/2rMGLttVochfMoxNLKjiFAwFyTU6ZMyXMsUEinAH7FFVekvfbaKz8OLsnyJGNx2/PPP58TmXGfieY7dOiQ18HfJhlaVP5686L4VSEQYd4GAgu2MxE8PTgpjHPc1SrOc2OfQSWL90uyeLvttsvrhx12WO6RWy/233//dPXVV5c+P3pV8t3iOtWcVdv1LkmSJKnp/va3v6Vf/vKXOY5fbbXV0gsvvNDwyLyLpCL1D0xZw5QzvD51EdwSYyy33HLpqquuyqPegH3ZHqPfcJ8k5pgxY9Jxxx2X6zp4XYZKJWHIeiQ5v2u8wmvMTvG1o04jji8wXQ94nIX3xehX5cqf11KM2SRJqk32oFSroEDKQuGUOfIo4FKAJRB47rnn8mNdu3ZNjz76aNpzzz3zc6KlHUnLcsWCKEOP8HoUUK+88sqc6AxRUG4NvIdY+BvXXntt3s77ICBhsv1qTk7WinoNWrgG99lnn/yd45p84403ck/f7t27p0mTJjXsJUmSJEn1pZgwI176riIJx9CtzMnIXJMkJakn4DFiUnoi0luSBqNR18HjkZxE1F2st956eVQc4jjqFOhVedttt5XqF1oixo26jMaWojhXcct7ArElx7LuuuumPn365ORknEv2iWMsfz1JkqQ5MUGpVkFhlkLqLrvskgvqoHUgiRIKrgz5Su82CrcU6hGF7/Lej0XM48BQKbzGgAEDcs/LYgG4rRKEHB8J1jBx4sQ8cXyliWAigoW4LeL8E1hwXrktBhnVgvfKQoAX75vPI46lHnBNkqSkVy+9J0n0s23y5Mm5lTDznNB6l2ugsc+Wc1XcHuuN7VvL+B4w1FKcp1g4P/FbJkmSJKl6FJOC1Et8F8QGxAyMDLXwwgvnORlBvMB2EnfMc7nxxhvn+gli1Ej2zQkJwN/97nc5DmG54YYbGh75WsQlra08wVi8P7tkJttbIplaPL6oJyqvn4j6i+L5aIvzIkmSWocJSrUKCqX0jrz//vvzOgVXejpS0L7++uvTOeeck5OTbGd41mLhcnYFWubWGzZsWMO9lIdAoRDMa4bi67Q2Jn+Pie3ffffd9Oyzz+b1ShLnMoKFuI1CPgHU0KFDc1I4EnrFIKOa8H6XXHLJvM41QG/dpgSCtSKuexKR9FI+4IAD8v1I2nKNso25QlZYYYV02WWX5cfBd4hzVfzMWed51XYdNFect7jle81vEt8Fjj2GYWL44OHDh+d9JEmSJFWPYkxTrD9oji+++CLfEh8wlQYj1ZCIJFagISNJ0AsuuCA98sgjObaO/fnbTYmpiENohE1cxmuWN4Bu6utUM46Pz4eF83nxxRfnuTqLqFcqj/Nr/bxIklTLTFCqVVCgZEgSWrdFQZpeXddcc03afffd8z4kAJraepHXo2ViFDyZjJ15KNGehdFu3brlvx9BShxPJDvay9z+PsnjLbfcMiditt9++7ytU6dOOZnV1M+kkhCgcI2QaI1jJ/nKtnrBdUgCmoXg9qKLLsrDDjPvK9sImmOfd955Jx188MH5vJGs5Bqg0UD0EOS7Gfu397Xc2jjGWDhWjp25X04//fS0+uqrp/nmmy8HwZyjbbbZJt19990Nz5QkSZJUDYh7YqSmpoyKUoyBYp3YOeJ+ejqynRiC2IshWomnDjvssNKwrezfVBGDr7POOqW/R8xejbH5vCIOA/EqowLxedEonToX4no+Q/aJRZIk1Ybv/avwU9u1z2oXv/3tb9ONN96Y1ylg7r///mmrrbZKa6yxRq7spyBPYBCFd+7PyeDBg9Odd95ZCgIYvpLCOsFAbMPsLue5vX5zxd8cN25c6tevX75PzzUSGxwvheeW/pvNVXyP9JajEM88GNxy7iNI41yyjXPMMDJNHYKm0nC8HAstLTluEkuff/55w6P1hc8zvh945pln0osvvph7Vt51112la5TzRY9KhjTl/HHufvnLX+bAmGFh+d7WuieffDKNGjUqPf3002n8+PH52onvDlgP888/f557dtttt23YIkmSJKnS0XDzZz/7We7xuPjii6c//vGPDY80rrF4IJKTzDfJOvEUibP1118/nXvuuXkKGOIpGmlT59FcxHDEZzTEnjp1at52yy23pJ122imv1wtiUBq2cz6IWznHNLD99a9/ne9LkqTaYoJSLYYCJIV0kl+RGOE+lfkUMLt06TJL4mROlx7BAPsSSDC0CUmzKJwyjx69MCO52ZRLOIKLlhJ/k9elRR/zTyBa9hUfbyqeQ0DCMmHChIats+L1eH3ODQh+CF54TnjzzTfzcJ4Mccprcr6L74Nt3OeW19pss83SHnvskTbffPNZHq82vG9wbXHM4PPgWKrxeJqjuZ8ZCUvmg6URAddu8ZoKfL/YRhJ75ZVXzoE3PZfZTs9Cgm/Oc3wPA+8lXive09w+A/bnPfB5NSXobO7x8vokILnl2OmNTcI2vhu8XnxvOZ7i9wlrr7127mFMwwuTk5IkSVJ1oV5h0UUXTZ999llukPnBBx80PNK4iE+K66+99lpOQsZ9bomhTzrppNxYuZiUbG68wv5hpZVWSq+++mpeZ3ocYvVqF/U6jcV7cT5vvvnmtNtuuzVs/bouiXM6ZsyYfN6b0yNVkiRVDxOUahFRACdhtvPOO6d777033996661zEoTCKAVM9qPynyTAnC49CqkUXCnIMrk8vQAxcODA3MtvwQUXzK+HplzCzQkOmiJ6f/I+d9lll3THHXfkwvP555+f5/mL89EcvNbYsWPzMdKys1y8Hq8dyVrEepwPXqcoAgD2WWihhXJyic9ju+22ywEVCb1PP/00LbDAAnk//ja96qoJiaYYsqdnz555PlCOi+Tbsssum7frm+8Kt1wPcZ+k3dVXX52TlrRO5VqK6y2uM7Cd8xrzqXBtcb1x7pmDJRKWffr0yY+HxRZbLH8/aKTA82m9TIKT64zbX/3qV3k/huXlb0TSs3gtF79PbI/rPq7vMGLEiPTUU0+l9957L/8ePfzww6WEI8fLwt+MbfE32Mb3unfv3qlHjx55vzPOOCPfsp33xneE/eO7JkmSJKnyEb/8x3/8R05Q/uIXv0gffvhhwyONo8wf8RKxzhtvvJGnxgBxCQuxP0O6zmuPyXIRlxx++OHpkksuyevUfdRCgnJ2iLNITJ533nk5DuV8E2txLq677rp87IyKxEg2xXhQkiTVDhOUajFcSo899lie2J3CPAXI6KEU2If7Tbns2O+II45IF154Yb5PQZVegSRCispfq7HXL76HlhABC4kUhk9lPj/+BsOk3nrrrQ17NV2cl5NPPjmdffbZ3+rBRRKGwjsikVJMPPI+4jkEUJx3hjgliCL5Q4/TjTbaKD8e4m+Wr1er+Mzp6UfCjXPAPKjMG8g507e/K+Bzj+2scz2R4LvpppvykKcEioh9OJecW76P7AuuP65HgnMUk4Y8L5ZyvAZ/k+/Tz3/+8/y63HLtsp3X4bb881t66aXz32R/hmdiPxKTge9HfE94PuK2iO8KLZQZprl///7fSqyC98Zz4/2bnJQkSZKqC40NaSRJw1waT/7nf/5nwyOzR/mf/WlwzZyTkUDEBRdckBsm0/iyJfC3eI8kOo888sj8+qiVBCXHV4zHOFZidabbuP3220vxFvHZUkstlYYMGZJWXHHFvC/n3RhMkqTaZYJSLYoEHb0JKUCSGGKdxBkJBJYomJZfdrE9cJ+CKok1CqkkGkh8Dh069FuF0/LXauz1i6/d0vhb8Z4oRL/88st5vTmi0M0t8/9FoieQsJkxY0bugbbIIovkQIhjWmaZZfLjnGOGPCHZApIzkWwhiVRMGCHOd3lhv1oL/xxjvG+CR5LaHDOT6p9wwgnfOn7NikQf54hzGNdLXAsEj/RgpvEB6wyNyvXGY8xpGc8J8Tk0htcMXH/sG8/nMf4u6yQfuc91Wv5dRnyf2Yd1fiOK4ngQ741hWvlbfL8iWd+rV6/82xItnovPK+JvsMT3RpIkSVL1oJxPHP2Pf/wjD/X65z//ueGR2SPWYKhVpnQhpoh4gBiIbS3dCJZYizif6Sg23XTTvK0We1Dec8896cEHH0x33nlnPp8cM8fO+WU0rj/84Q+zxJTGYJIk1TYTlGoxXEpU7sctyUSSikVRuCy/7CI5wS2FUQqsDG1Cy0aCCYZdHD16dIsMndIatthii3y8HBu990iGqO0Uryd61NHqkuuInnEPPfSQAU0zxHe0OV555ZX8PaUFLLd8Fxi+dfr06elvf/tbHjaYBDsL4vOKv1P+ezA7sX/5++N3AzH3y3rrrZd/e+hp+dOf/rT0eHPwN+LvtHTlgyRJkqS2QzxAjP7888+XGkg2BfEA+0c9BVPQtFSvyaJ4fTBNzn333ZfXr7322rTXXnvl9WoSxxPnmbqeqVOnpjPPPDPdfffds8R1xILEjldeeWXacccdS4+FeYlPJUlS9TBBqRZBAfT444/Pw5OSIGAYVhKKVOwXC/Czu9zokUWvqWg1uP/+++fWgiQ7eA16U2611VYVWzjdfvvt0/Dhw/P7Z85M1tW2itdWBHdcK/RGNcHUdPPyHeN7yveXALS8B2LxsWh5TNKSeWA++eSTfPvRRx817P01hl8qWmKJJXJy8+9//3uuFOD1ihjGmKGawO8Pf4drwEBWkiRJEjHOWmut1eQEJY/Ti5E6DRDj33vvvaljx475fmtiZCTqFcAoNkxhUm2I8TgOzju9UM8999ycdCWW4/xH7M5IOEwtQkNTGpfyHGM4SZLqiwlKtQgKmgyXOHny5JwMOuSQQ3KystzsLrdiIfScc85JJ510UmmYj5jXMYKI8gRIJeC4e/TokZNhJFIJXtS2itdWJKdIZJEEo0Wmmobz+F2Cwnh+sRVwuTn9jfgc4zb2m9N7Yt+YgzWSl3P6G5IkSZLqB7HB7BKUjcUNN998c9pvv/1yoo39aXQZsU00wGxp1CVcc8016YgjjsixFA0vP/vss1b5W62N+qH3338/Tw/CkLXDhg3L9TtxrjmXgwYNytOxkJyMOp45xZCSJKk2+Z9fLeKUU05JEydOzOsUPPv27ZvX54bCaTEYYGhXJkRnXji2L7nkkmngwIE5CKCwWh44VArmfoxeWw888EDDVrWl4rVEK9MIJE0Wt51ioF8M4AlEQzQ8KIrHi/vxfJbi5zontL4leC++BxRfU5IkSZLmhuQkCUN6TF533XU5LqGOAq2RMKSugwaXTE9CXEMMc9RRR31rrv1qQb0OyUfmzyQe51wS03HuNttss3TXXXflUbJITnJuI2YrrkuSpPpgglLfCYVHCurMu0jPSQrW9J6kN2FTFAuftE6k8EpvRFAYZ5J05mCIZEWlosXftttum4+Hc3DhhRfmnnusq20R+Oy99945UcU6wwWzHp8FwZFmrynJwNnhe1D+/PIAvrHhdnlO/BawHveLC4rrgfvxN1mP34nia0qSJElSYOjU2cUKhx12WK6bAKNEkWRDa04bQgxDr80xY8aU4taYKof3WSlxDe+D91es54jE7fTp0/MxkICkHuf+++8vvW/iRLYznOs999yTR50iToz4MeI5FNclSVLtM0GpeRIFUnpHUYim9yQFUwrtG264YbPmZogCN0klWtGBwupSSy2VjjzyyPw3KLDHsB+VivfP+6RA/cgjj6SFFloo3y8W3tU2ttxyyxxMcj1yXV599dV5DkOuM4bKUduL78HsAs7GAtPiUtxWVP5Y8fHy+5IkSZJUFEm0wDCr1EcQR9AIuS3QoPaJJ54ojRzFFCUx9yT3KymmoY6DJRBzM0oODcv32muvNGLEiLyd9xzv/c4778zLjjvumPcvP56oE5IkSfXHBKXmSRRIKVw++eSTuSCNbt26pY022iivN8dpp52W7r777rxOS0Fej3komSQ9ggNUUsG83LrrrlsqWJOgjAJ2sfCutsF1ecABB+TekgRFzOPx4YcfznL9GAC1Hc47SyQpJUmSJKk9lceDxCq9e/fOvSepj+jXr1/aaaedGh5tHfEeGEaWuRqpC+F90FCbOTOJoSqhoXa8z7ilYTnvefPNN0+dOnXKjYBJsMZ0GxwDvSQZypX5KLfZZptSPU/gtViMESVJqm9mTvSdUMCkB2UMzTGvvdNuvfXWWeaO22677dKmm26ag4NigbWYYKo0vDcK6JwLCtrjx4/P22lNyDFE4bs9lnpDYpIgKIYXpRclCW+u1wiE1Lb4flTy91eSJElS/Xr66afTs88+W+ohSAPqiCdbG3NPEqvGcKmMShVxayXErryH++67L8fYnBsSt4wgNXz48JyAJM6jPoeGwtTjvPLKK+m2227L9Tpso06CfTif9VpHIUmSGve9fxU0rKnXPOHSefjhh3MBNDCcR//+/RvtNVi81FhnH24Z5oOWdZG82GGHHdKNN95YCgYae61Kdfnll6eDDjooJ2o32GCD0vAmxZaE8yLOQXOeH8+JxFCc33pBgDdkyJC022675fPGtXbVVVfl+ySRWarp2qoV8TtQb9ejJEmSpPZBDEKPxOeffz7HgMxBSW/JYpy93nrrpXHjxuX79P4jQdna8SLva8KECalnz575PVCPQAPnTz/9NA/zitaKm6ijoNcmrz9lypT8d997773c2JdYmuTj3PBcjoFE5IABA3ICs9hoPWK/xhTjQtaLx9laxyxJkiqPCUrNEy4bCq3HH398uuSSS/L6aqutlp577rk5DkFSLIRSIL7ooovSMccck9cp/Hft2jWdddZZaeONN84F9GpIIHFMvFfOwauvvprPA5gE/oEHHsjHwOMs30W8TlPFueNcx1IvuJ7iOuRziEQxXnzxxbTqqquWri8CMYabkSRJkiTVHmL2YoKSeDFiRuJ4EpYDBw5MX331Vd6XGJGef22BRrQHHnhgKda/8MIL06GHHprXWyuG5xiJgWkUHtOicC4iRo46jsbwHM4ZDdUHDx6ctthii1Lj3/K6IF5nXtRT3YUkSfXO7kOaZxQ2mWeAQjyFVAr8FEgp6DcFQ4QcddRReX8Kx8svv3w644wzcs9DhjaJgnEslYzjpqVg9+7d87Hw3pmHkmFeee8UsNnWnIXXjIX7KN9nTkskJeuxcM85C+eee26eP4RtBJnHHXdcwyNfm1tystKvPUmSJEnSnDUWF1MX8f3vfz/HjCTdiP2OPvroWfZtav1Gc/H3aDw7dOjQUjKQmHW//fbL660Zx/Pa/P2YjiaGXqUeoZiYjCQto2TRiJxhW2fMmJHPybBhw9L222+f60F4fjEGlyRJaip7UGqeUGh99NFHc+80UBhlonRa0XFJzSnpw+MUwul9+frrr+f7FITPP//8dNhhh+WCMgVcFNcrGQX0KJAzHAw9JzkHJFwPOeSQvL05OL/lBXzOUwQNTREBTfltveG8TZ48Ofea5Bxwf9CgQTlB3pTek+xfr+dOkiRJkqodMd3aa6+de1AS2xWTjiTattxyyxx/U/8wbdq0HHN37NixYY/WwXtgipjoLcnfJ1HK/abG/POKOJgG1TfddFNaaaWVcp0L20jWcrvQQgvlhR6S9LDs0KFDPoeI2Dji5GK8HPt8V8bfkiTVDxOUmmdHHHFEHn6EBE+3bt3S2LFjcwu7YgF1dnbdddec0CThxv6//e1v02WXXZYL4hSOeX5jSbpqwPwNnA9EIoxjaUvl57/eCvjlP2vcv+OOO9Jee+2VA6w4HxtuuGEaNWpUXp8dPrvYv97OoyRJkiRVO5KB66yzTp7vkfqLL774IicjifX69OmTJk6cmEeG+t3vfpfOPvvsvL21k4TEqLwX3gdxJg2db7311lnmcKxkTan3kSRJmhuHeNU8YQjWMWPG5AQi62uuuWZp+A9a3DWGIAD0KrzrrrtKrRZ33nnnnJykVR4FdAKBak1OgvcdSVZ6mU6dOjUfU1su/O1Y9LWddtopXXDBBaVzQkA1evTofN1effXVeRvXHQsIFCPo8lxKkiRJUnUi+RjoJQhi9ieffDKPtkPdBPHeKaeckh8jpm5NxJpXXnll/rvRyJsRpqolOSlJktRSTFBqnlCQjoI8SUUmRg+zK1STgBw5cmQaMmRITmoSAFAY33bbbb8VAFRrchJdu3bN54PAZ/r06TmR257KE2sEP/WG64vE+f7775+H9WEODa4xzg3B4YEHHpiHK77oootKiXM+Px4vnr/ZnbvYXo/nVpIkSZIqGXUW9JIktosG1cR9p512Wo4HcdRRR+X92gLJ0YMPPjg3juV9kKxcfPHFGx6tDuX1DJIkSfPCBKXmCcO5Rk/BZZZZJvegRPSSnJ177rknvf322zlhFK0E+/btm1+n2kVggx49euTzw3E+/vjj+bG2XAhyoiegvk4cRsvU1VZbLT300EPpqquuKvV05XN67LHH8pA+zKNKgEhyGZxPzCn5yGNzelySJEmS1D4iPmYpNoZ+7rnn8jYap5500kltFtPROJa/yXvhbzLlzfzzz58bcrNIkiTVCxOUmidDhw7NtyRvmGye3pEob3EYBXxub7jhhjwPYMwBuPHGG6cTTjgh97gs70FZjYpJ1lVXXTUfJwHHww8/nIMPjpF9WCIYCTzGfbbHPt9l4bVmd04jcRk9BeO2lnB9zW4Bx8x8lMxBwjyUnBNa0nL+SVTSo3KjjTbKCXXOZ+B6j/NXrvj6geue60CSJEmS1D6KsXf0oKRRKvEaMRwNjIn1yuO5lsbfGDx4cB5Zir/Ncuedd+aYk/WI5yVJkurF9/5VCLLbj5qtZ8+epYnkR40alfr169fwSONIBPEckDhbf/3107Bhw3IAUKsFcJK1tH4kGHrmmWdyL1OSWyTHSIQV8TUsBkOtGRjxHiJ5Wf5360kcO0HiW2+9lQ444IDcMxicn0hErrXWWumII45Im2++ef4sec7skr/g9XjtmJMVcc7r+XxLkiRJUnshBicWJx5j5CcaSlMXQfzGqEc0MqYXY2shMbrjjjumBx98MN/nfdx00005YVnOmFGSJNULE5RqlkiwRIKGAn20QJwdWgcOHDiwlPChZ1q0GJxToqfaMafE1Vdfndc5ZgKRSHwVE1XcFu+jpQISPpsIwgK9XT/++OO08MILN2ypP+Xnm6CUa/nFF19Mt912W/7cSL6HSDCysF/v3r3z7SqrrJJWWGGFHOwOGjQoffLJJzmo5fVIZpKk5rnTpk3L28v/riRJkiSp9RGfEZsRj82YMSN16tQpx2cLLLBA+sc//tGwV+sgPtx+++3T8OHDS7EicSfbaNRMbFlkzChJkuqFCUo1SyRqKDBTiCYxw1x95YnGYiJmvfXWS+PHj8+Jsg022CCdc845qWvXrrlQXqs4/qeeeiofOzhXn376aW6lWRQBEornrCUCkieeeCJP+k+SkuCLoUvBa8dCopghTutN/OwRHEZPx+I2ruuTTz45n59Jkyblc8U2HuOz5Lb8M4rnM3Qx1/pKK62UOnfunJZffvk8zOtOO+2UH5ckSZIkta1igvLcc89Nxx9/fI7xevXqlUeFAnFbeczeHFFfUo5eknfddVfp8dtvvz0nJ+nJSaPW8tiy/L4kSVKtMkGpZiHxQuKtb9++eb179+651xmXUbEgTsGbloDXXXddOvTQQ0vJSJ5LrzOSQrVc6OZ8sHDcHCdJreeffz6tvPLKpUQWiuvF8/Fdzw3zXpIo4/V5rVgCnw+PMWxpzCdaD+J8z+38cm3HNcv5YegdelRyXklOBq5jrnNw/UfAGX+n+PlikUUWyUMdx2vTsxgEp7wnnktCuXwuV0mSJEnSvCFOIybnloQkDUlHjx6d4z5Gu5lvvvka9pw3EcPxesX4m7+3xRZb5L9FHEm8x2g9O+yww7f+ZjF2nFu8KkmSVCtMUKpZKFQznyI9A0nOrLbaavl+iMQOBfHrr78+HXLIIbkVIvtecMEF6cADD2zYs/ZxDkjOXnbZZfk+ycD7778/n59iAqux4KMlApIuXbrk3q2N/Q3mDGX7kUcemdcNgBrH9U6r2uLnBYbmefbZZ9Nrr72WHnnkkZy85PPmPLKwH9c8gSqBMI8TjPL9aAzXRHFIWUmSJElSy4mGpOuvv34ebShi4OjF2BKKDV2JBUmEEieynb9xww035MapsU+IODMYn0uSpHphglLNQm8xhmulUE+hmcI1w5MUURBfZ511cvKGBA+F8QEDBqR77rmn7nqGjRs3LvXp0yefKwITvm6R9JqTlghI+HsEXvwt5kwsitcvBlCa1dzODec3glyWYcOG5d7Eb775Zv6MSThGq9zAeWcp/9klicn3hufxN3ldSZIkSdJ3N2bMmDwKFDFcIO7adNNNcyPieY2/Iq6L1+U1I06kwSpxHg22uWVUHupP4vGi8viwJeoDJEmSqoEJSjVLJCjpQcncDDvuuGNuBRhDmjz55JOpf//+OdECCui77757HuqVgngkaOpBJLg6dOiQgxJMnjw5D3E7t6/ddzlHTQlu2Ce2F9f1jTgvXMsElMVtoKUtny8L23iM9VBMcPIY18CIESPy9niNBx98MN8yHO8uu+yS1yVJkiRJLYepZqjDiBiNuglivJEjR+bE5XdBrMdC0pHXfeutt9Jyyy2X60eIJdlGcnLXXXedJZ5EPDe2FR+TJEmqByYo1SSRXCQpQ8/I1VdfPRe4mYOShOXMmTNzEvKII47IhX5aC1JAp9ckrRLjMquHAnccK7f0ojvhhBPSRRddlIOTDTfcMPeqawtN/WobBH13nGvPoyRJkiRVHhpSk4iMxqLRg5GG1sVGpk1VbMQaIhG5//7759eNv8HfLMbmETeWb2tsH0mSpFrnOIJqEgrXFJI7duyYunXrluc3pNDNkJaPPvpo6tmzZzr88MNzoZoCPom58taI9VbIjuOlpWYgMCoGHq2Jvx/vIdYbWyRJkiRJqmVRp0E8TjKRuormJid5Lkt5cvKVV17Jcf+ee+6Z60mw9dZb5+RkmF38He9JkiSpHpmgVLNQkKcQ37Vr19xLkkQkPSRfeuml0uMrrbRSblFIAZ3CNr0uGyuI16o4Vm4JXBjylvMSJk6c2LDWNurp3EuSJEmSVK4YF5OsPPHEExvuNR/xPdPf3Hzzzal3795p5ZVXTs8991z6/ve/nx8fOHBgGjJkSF6HMbkkSVLjTFCqSUg4Fp166qk5OYlogUji8tJLL00TJkwoFcAZBpY5GOsV54GFeTpBa8pTTjklr6t2GHBKkiRJUnWgIXGPHj2+Vc8xN8X4fvPNN0977LFHTkxGwpLXu/7669ODDz7Y8IzZi9eSJEmqZ85BqSbhMqHwTMGbW5KTY8aMSccff3z68ssvc2/Jc845JyckLWg3jnMSQ8HQq5SEbpxXSZIkSZLUsoi5H3roobTVVlvlBsPE33369ElPPPFEwx7fDN0a80aGmGuSepAZM2aku+++O+2zzz75PvvHY6zfeOONaeedd/7Wa8wJz4N1ApIkqV7Zg1LzJIYuZf7JKVOm5J6TJCeL8zpEYVtfT4w/aNCgHLywfu211+btnKvmttqUJEmSJEmNe+yxx1KnTp3Sj370ozyi02WXXVaaG3K++eZLW265ZW40HIjLi4lF4nYwZOvbb7+dG2QvtNBCab/99svxPPtTJ0Kj46uuuirH9Lxmc5KT4HVYJEmS6pU9KNUk5ZdJJCDLJ5WPSeCjoG1h+2ucq+uuuy63tgSBy8yZM3NSV5IkSZIktYyLL744HXHEEaVEI/E3CUWSlKxvsMEG6YADDkhdunTJj7/22mv5sbFjx+ahWkePHp0TmdOnT8/7R/0HqOPo1atX2n333dOuu+6a60CoF+FvNTdBKUmSVO9MUKpJGrtMGOaVQj6PURiPIUuLTFB+jaCFYIVelCNHjsznih6oQ4cObdhDkiRJkiR9V9RLkKQ8/PDDG7Z8naSMhCV+8IMf5DoN9o3G1dHgOrAPCcvQs2fPdPnll6dVVlklb+fxongtSZIkNY0JSn0nFsDnrPj14jzRArNz5855qBmGgZk8eXJaYYUVbGkpSZIkSVILIdk4bdq0NHXq1HT66afnYV9RTFQSo7MU4/ZYJ2b/8Y9/nIeIpbclw7uybU6sH5EkSWoeE5T6TiyAN10M/XLqqaemU045Jc9nccwxx+R1SZIkSZLUMopDrzJ06/rrr5+39+vXL6277rrpySefzPUZ7Ecj4u7du+d5K7t165b69u2b9426Dm55naj/aKyBsXUjkiRJzWeCUmoD8TUjYGFuizPPPDPf//3vf5+HyZUkSZIkSS2P4Vjp/bjAAgvkRsK/+93vcsKRROPMmTNTx44d8whHxOaxvaixbUUmJyVJkuaNCUp9ZxbGm64Y2DQ2Z4UkSZIkSfruinUV48aNy/fpPUlM3pR6DPaJhZ6Wxu+SJEktywSlJEmSJEmSJEmSpDYz+zEqJEmSJEmSJEmSJKmFmaCUJEmSJEmSJEmS1GZMUEqSJEmSJEmSJElqMyYoJUmSJEmSJEmS5uL//b//l2//z//5P+l//ud/8rqkeWOCUpIkSZIkSZIkqUEx+fh//+//zbckJf/t3/4tP/bv//7v6Xvf+17eLmnemKCUJEmSJEmSJElqEMnHIUOGpK233jqNGDEiJyYjcUlPSntQSt/N9/71JfJbJEmSJEmSJEmS1ICek506dUr//Oc/G7ak3HPyf/2v/5UGDBiQe1Nuv/32adCgQQ2PSmoOE5SSJEmSJEmSJEkN6CFJApKelDGsK8sPfvCDnLgkSRlDvnL/l7/8ZalHZc+ePdOiiy6alllmmVJPzF//+tf5tjHxN+Y0ZOz3v//99OWXX6Z+/frl98a+c9pfqgYmKCVJkiRJkiRJkgr+9//+32nGjBlpzJgx6fbbb08PPPBATkKSnCShiK+++qqUmIxtJBDBfiwkMGMey3nFa0fvTYacvemmm2ZJokrVyASlJEmSJEmSJKlVUP1sAkXVpnjdss4SPSZJFI4aNSoP/XrXXXfl24ceeignK0FvR7B/S13/vE5Rjx490pNPPpnfi1StTFBKkiRJkiRJklpFSyVopLbEdcsSvSJDDO9K70qSg/Ri5H7R+PHj0yuvvJJ++MMfpvfffz+/zrvvvtvw6Lfx/YhldnitL774It1222359Tp06JB22223dOWVVzbsIVUfE5SSJEmSJEmSpBZVnKcvenmxrZiEmVtSRmpPpE7Kr8/GtrWm+HskQvn+XHbZZemEE05IM2fOzN+vKVOmpBVXXLFhb6m6zJr+lyRJkiRJkiTpO4peZdxGHxnWY848hsZ88803S49JlYbrtPz6bMvkJOLv8b1h6Nh99903bbzxxnk7Cctx48bl3pxSNTJBKUmSJEmSJElqESR0YqHXF4mVGTNm5MeYq2/rrbfOicqdd945devWLb322mv5MakSRYKwEhLpvJeOHTumDTfcsPS+hg0blhOVUjUyQSlJkiRJkiRJahEkTiJ5EvP3ffzxx2mrrbZKXbp0SQ8++GDeRvLyyy+/zEslJH+kOYlrur3RW7JHjx6l7xm9KpmPUqpGJiglSZIkSZIkSc3yxRdf5FsSjdFjsojkydSpU3OPya5du6b7778/J1fo7UXikoTliy++mFZYYQUTlGq26DXIXIwhthWvR+ZAjfXi9moT77s8ITly5MiGNan6fO9fF7a//pIkSZIkSZKkZiNBWfT666+nk046KfeUJGH07//+7+mrr77Kj5G0JDF54oknfisxGb0tpebgGirv3chQwmz/0Y9+lO/HPmznOuOarCbxPeG7xvDIccuxcMswyUsuuWTeR6omJiglSZIkSZIkSfOEZAmJkkmTJqWTTz45jRgxYpbEI0gI/eEPf8i9KX/4wx82bJW+EUnE2Sm/ptiXHrk/+MEPGrakNH78+JwUZ1+uSxaS43369Mn7cZ/HSOpVK46P97/pppuWek9OmDAhrbHGGnldqiYmKCVJkiRJkiRJzfLMM8+k008/PQ/1+uyzz+ahNElUFntN0ltyhx12yMkUEkRURbOwH/szXOWcklKqH1wXc7oW6P343HPPpTFjxqQZM2akhx56KL3zzjs5Scn1xnXH9VS8T0KS645rsXv37nmo4d122y0n86J3ZbXg+xLHxXniuzV8+PB8/5prrkl77713w55S9TBBKUmSJEmSJEkVjmpcEi0kKYqierep1byRBGosGcRrlG8nMUQPLeaLpHcknn766Zz8iWQJ74nnkkShh+Rmm22We1My7CT3G3td1a/iNRtJ7bg+YjhgEoskwe+777708MMPpzfffLPUA5LnsE5PQp7LLdvZxuvEEo/F68dzGV54tdVWS2eeeWb66U9/OkuPyvJemZWGY+EYzjrrrHT88cfnbZdddlk68MAD87pUTUxQSpIkSZIkSZIykoyTJ0/OSchRo0alxx57LCcgIyEZySFEIofb/v37515dDOMa6NHG/lI5riGSkXGNcP+pp57KSfBHH300TZ06NV93XI/F5CIJb3rtso3rbqmllsq3LEsvvXTuGcnrMuQwz3377bdz0pH9eT3WwX1e7/HHH0+9evXK2+JvRG/FShTpnAsvvDAdeeSReX3AgAGlxgNSNTFBKUmSJEmSJEkVrrwalwTLP/7xj9zL7MMPP0x/+ctfGh5pmo8//jj3jmS4TJI2n376aU5Mkvzhb8XfK/+79DYjmdS3b980cODAdMABB+Tt0Vst8Dz2433GIoW4Xl555ZU8P+nYsWNzUrH8eiMhyXXK9bPsssumQYMGpbXWWittsMEGqUOHDt+67hC9ICPROHPmzPT888+nW2+9Nd122235OXGNs+yyyy7p5ptvbnh2ZYvz88Ybb6QVV1wx34+hbaVqY4JSkiRJkiRJkqoASchLLrkkD3v57rvvNmxtOdHbMXpIkviJHmWRkNxjjz1Sx44dZ0k+gvvsS/KH/enJRtUzj8djUjjooIPSjTfemK+VSBiSVIxkJPfpHbnRRhvlHoLrr79+ac7SSEpGApJbri+2xbXLPvEYt8Xrddy4cemQQw5JU6ZMyfvyPBKX22+/fem1Kx3vnWFqOU8cWzHNE987qdKZoJQkSZIkSZKkClNMMpBkee+993LPMXo6sp3Ho2q3OcmI8urgeC5JnOiFtd566+Vk5Nprr51WX331/PdJDs0JrxPvK+7HMcStRA9druWuXbuWev4VE+EkJRkqmPkhi9dSc66fpl5ve+65Z7rhhhvyOtf/FVdckbdVy7XK+4zEP72oF1tssXzsJCyjUUCcu2o5JtUXE5SSJEmSJEmSVGEiyRK3m266aRo5cmSpVxi9GFdaaaWcRPzFL36RFllkkYZnNs2Pf/zj/LqRHOrUqVNac8010/Tp0/M68/jxt8B7mF01cjHxUXy/KD8G1S+uAa4prjWSkp07d87XHsuOO+6Ye+b26NEjJzAZ1pX9omdgc3s0zul64zEWekqy0JPy2muvzY/xd/huVcu1uskmm6Qnnngiv2d6VJL05dhMUKpamKCUJEmSJEmSpApDtS1JBZIPH330UVp88cXzNoZOveCCC9Jvf/vbWYaubKryfXk+ikkMEki8dtzn78b7mZ05PabaMLdrYG54fjHxPXXq1DyPIonB4msXr7fWuq5ITnKd04uTJP/EiRPz39ptt93SNddcU3qPlYrzQ4Ly4YcfzonIBx54IPXr1y//PnBcxfPH481N8kptwYG/JUmSJEmSJKlCkVx455138i1Jk2WWWSbttddepcQi2yNJ2ZSlHM9nQbwmyYzivqyzT/F1ype2QNKleKu2813P+bRp0/J1EkMF83orr7xyvtbKk+ysxzXZWnh9emrynXrxxRdL7+0Pf/hDuvLKKxv2qmzMzxmJ1P/+7/8uJSE5juJiclKVygSlJEmSJEmSJFUokgu33357TuL885//zL2k8IMf/CDfkuhpqWROJIkqJaHBsUXSFPS+QzGZpdmjlyC4buL2+eefzz0Xuabuueee9OCDD+bHQG9dcM7juYjts1P8jGaHIV2Lip8h129jCdDW/Jx57eL3ZsyYMTlhiVtvvTXfzu2429uvfvWrUm/J6667rmHr1+eT4/N7okpnglKSJEmSJEmSKhTJnw8++CDfknhYd911Z0ketaRKS2iQIIqkJOgNpqaLRHP0ElxwwQXzcKarrrpq2n333dNOO+2Uttxyy/y59+zZM40fPz7vz3XGcyOxyfNbO+HV3tce54X5Lzl2hnuNYY4rGb2peY8kKFmK34/4vNr7vEpzYoJSkiRJkiRJkipMJBZIRr7//vul3oSLLrroLL0nW0qlJTI+//zzfHwcK4kyEkbRo621ErS1aPLkyWnAgAFprbXWygk4Puc4f5xPEpEsJOU23HDD3EP3ueeey/Oezi5Bx+dx+eWX5+fR63DGjBkNj1QvvlurrbZavuW4Tz/99NJ54tqrRMstt1z+DPieTJgwYZbfAxOTqgbf+9dF64DdkiRJkiRJklShllpqqdyLkoQS81EutthipeEoQ60lJM4///ycfKFXGL0ol19++Zys7NWrV96uuZsyZUruLYlIvJF069u3b97ONfPGG2+k4cOHl3qqRrqABOTee+/9rSQlycmBAwemhx9+OH8OLE8++WTugdgUvH4lXqucH45jgw02yPdJ6D777LN5vZJ17Nix1PPTxL2qjQlKSZIkSZIkSapAkcxh/r7p06fnJATJCJJ25UmeWkhQfvnllzkJWRy2MoYbJYFGUpbebBwrCaWVV145J9q22mqr1KFDh5wkK0/c1ivOE+eCcxVJXhKLJ554Yj5vJLM4z5zHhx56KJ111lmlXnicb57H+Xz00UdL+73wwgs5cQe2sZx55plpn332ST/60Y/y9moW1xvHHtdfJeMzXGedddKkSZPy580wvt26dcvHIFUDr1RJkiRJkiRJqgKRcKpVJLzooRfJoUgUkXDhMRIy8Rjb6CF4ww03pE022SStv/76adttt214JT344IM5aci5ouctt7/4xS/SSiutVDqfgaFdL7rootSjR4/S/iS8xo4dm19jzJgx6eyzz87zn8b1R8KTYVAPOeSQmkhOguPu2rVrPgckaTlutpGcrTS8J95j9+7d82fBZxqNGKRq4dUqSZIkSZIkSVWAnpS1nIDg2Ei6PPbYY2nfffctJdhIlpGcpPfeueeem0477bS0yy67lIZ7jUTmsGHD0kYbbdTwavXtpZdeyj1SOYckI+mZeumll84yDCjJt0hWrrHGGvm8ck7ZFvOcguQvPS/ZPxKUTzzxRPrtb3+b19leCzgP2223XT5GzhNDvrKtEr9z8Tn07NkzX/ssJFSlamKCUpIkSZIkSZKqAD0oSZZEcqIWRHIlkl8MR9q7d+90wQUXpKFDh6Y99tijlDB66qmn0lFHHZXefPPNPKwrSTJ6jY0ePToNGDAgvx5zIzJ/Yr1j3lLOGz1SObf0NOUcknCLHoGsg/ssDBf6yCOPpFVWWSUnhUn+RqKS53LtsR+JOz6jLl26lF6zFnCeOHauR46VhF9cn5UmfgNIQPNeeY8M8SpVE+eglCRJkiRJkqQKRDKI5AOJSZInyyyzTHr99ddzMoIERbFqNxIWtebTTz/NiZdbb701D1tKQpJjJXlGD75Bgwalvn375nPRqVOnUm9Lhr1kH84h+9fq+ZmdV199Nc9HGIlfzgPnptgzshznkP05b/TMY87J2M5CIpJkMD0qUWvnlmTuM888kzbYYIN8nx67zz77bF7n+CvtODn/b7zxRlphhRXyZ8Z8rOPHj8/rUjWwB6UkSZIkSZIkVSCSIkUkKkGipPyxWlF+XAsssEBOQN58881pyJAhab/99islbK+99to8f+Lee++dHn300XTCCSfk5CTnZ9y4cfn53K/VczUnJK0iOUmSm+FeSTByPmaHfUnSMczrhAkTvpWA5PXOOuus/Bq1lJzk+uDY6L0b82lyziZPnpzX45qqJLxnluWWWy7f5/Pg8yU5WY/Xu6qTCUpJkiRJkiRJqkAkRugxGOabb76GtdpVTASRdOEcxNKvX7889Ovdd9+d9tlnn9xjkmTMddddlxOVDAFLkoZtU6ZMya/BfZJN9SISVxg4cGA+n9xnfknO59zOBb0j6YUX1xo9Lkl6Ra885ge97LLLSsnJ+FvVjOMgORnJPRLg3JKsJbFbvCYrBe+J9xufAwufWyUmU6XZMUEpSZIkSZIkSRWKJAlIOkQPynoQiS+SaiHOAfNNXnrppem+++5Lu+++e8OjKc+fGAnJp59+umFrfeL8cX5IvLFwvhjilXPY2LmdNGlSTk6+9NJLOfE1c+bMvJ1hYs8777yc+OK8shx99NE1mQQjGdm1a9c8PHCgF2UlHmt8PnymDO1a7EFZ/FylSmaCUpIkSZIkSZIqDEkkeq/993//dymhVA89KEMkhYo9/oqJIs4JcwXSm+/JJ5/MvStJXpK44bGhQ4emJ554In3xxRcNz2ie6LXJa8X5rxa8X5JsvP/NN988r3Netthii/w4w5kGkln33HNPOuqoo3JSN55HUnPNNdfM5/DAAw/MPVfZlyFQSYpdf/31peR5reD6effdd3OSknNYyQ0COnbsmD8PfiMWXHDBvI3PZezYsXPtJStVCq9USZIkSZIkSapQkQQiYVJviQcSktFrr/zY6S3G4/QY6969exo9enQaPnx43k5yDTynQ4cOeb25eN3ojVZM6FUDzgvngeTVsccem+9zHPQwfeWVV0rnBwyXO3jw4Jzk5Tg5Zvbv0aNHHjKXJB3bDj/88HTRRRflRCePr7TSSvmxakvezgnJ2V/+8pela43zwfeP461EvC/O//LLL9+wJaUxY8Y0rEmVzwSlJEmSqk4tBcGSJEnS7FDunTZtWmmdpBOJJn2DJFznzp1zUqlnz56pd+/e30pmzguSU/QkJDnH36gWJK1YuE54/yRv+/fv3/BoSmussUa+/fzzz9Ndd92Vdtlll3ys7M/zSDqSiCTRxfUWPVB5/NBDD83DoDLXIUO/gnNdC/EZx87xvv/++6WEdCV/1zjnkaDs27dvvk75LNgmVQsTlJIkSZIkSZJUoYrDaJKAIOlUL0i2lC+huB4JMnoGkmBjqEu29enTZ56TZ3//+9/TxIkTc7LuiCOOaNhaPTg/JK04Fwx3S/KNbSQcTzzxxHTOOefknpMk4SIBy7k67bTT8ryecZ3RA5WEXZxvzi/JSV67khN484pkN9dNYIjbSsZvwn/8x3+UrnN7UKqamKCUJElSVSFQJvgiGOZ2XiscJEmSpEoSZdvGlkgEkSSK3oGsF5d6FcfOOWKIzk8//TTPkxiacm4itgC3559/flp//fXTWmutledmvPDCC9PLL79c2qcaksRx3CQfSU5ec801eZ3E4llnnZXOPPPMvM6xRI9BEpf77LNP6tSp0yznLZKbcT3yOtyPfYr7Vrsll1xylkYBzPVYiYrnfNVVVy1dw3ymcZ1Klc4EpSRJkipCY0EU2wi0okKGWwIuKmVi+BqWCKglSZIk1SfiA3r3cRsJxI8//jjfzgmxBM+hp+Hzzz+fVltttXT88cen119/PccjvFbEH4GYpNrQK3LDDTfMCbeIq0g8BubwPOWUU3KPyYi5ZqeYHOMc1VJCbMaMGWm++eZruDdrD+ZqwPC7xseqFiYoJUmSNE9aOggtb3U7c+bMvI05TggSuU+QPGnSpPThhx+W5kKRJEmSJJJuJBNJ0BA3EK/89Kc/nW3cEo0gX3311ZyYW3311VOPHj3SlClTck9MYhFeZ+WVV86vucQSS+T9Ec+tJpwHjiniLM4VsRbHyLCg/fr1azTG4nmxhNmd02rH58r5WXTRRRu2fD1XZzWg13DEzx988EHDVqmymaCUJEnSPGntoJSWvbT8pPUyLX0ZZoiWvAxfc8kll6QJEyak6dOn58Ca7QSTtRooS5IkSZq9SCYSF7AQI8wtNmAfhjplGFfmXXzllVdKiUduSVqSmHzhhRdS9+7dS8Ocgr9VbQ477LD08MMPl84Lx8LCHIu9evXK24tD43K/sXMY5wDxGsVt1YzPlTkoF1pooYYtKfesrQYrrbRSaQ7WP//5zw1bpcpmglKSJEnNEkEqAX1LKyYZR40alVvxXnrppem5557L26LC4LLLLkv9+/fPjz/++ON5G8EkgXEE0rFIkiRJqi8xbGskzuhVFrEEPSSZX5J5FGkMyb4RO6yyyirpvPPOy73ojjnmmNyrksRkMTlZLWJoUo7ryiuvTFdffXXeFuchjvmCCy7It2jKMTZn32rDsZGk/dnPftawJaW//vWvDWuVjWuUnr8kVP/2t781bJUqmwlKSZIkZRGgRsBZjmF/Tj311NySmNsYEogAt6ValVKJwN9nGNeBAwemp556KreAXnvttdO+++6bDjrooLwQeLHQmnmjjTZKw4cPb3iFrxEsxyJJkiSpthVjGRKOxAHEEIGkE4lJGjh269YtPf300znOYH/27du3bzrppJPSM888kw4//PC8PwmfYk/J4jp4biWjJx0JyalTp6ZDDz00x0/xnrklQcuxjxgxIt144435fIQ4L/WIOLcaj33NNdfMsTnXLde6VA1MUEqSJCkjCIsFBKVPPvlkbl1MME4wf/LJJ+dhkAjeO3ToUJrfpTUCuBieKSb4v+KKK9L555+fLrroohx4/e53v8vbeZ9bbLFFevTRR/P9agwmJUmSJM2bYjLt/fffz8Ncsg3cvvnmm2nTTTdNq622Who7dmyppxlxTO/evdPkyZPz0KfEOjHEaa3EFLfffnueV5P4iXNBUnLAgAG5gen1119fOk977713vg31GlNx3Jyr8mR0NSAhHYpD9UqVzASlJEmSSghQSQgSuK+33nq5dyJJSuZ/5DECNYLZCNg22WST3LOypQI4gkGCQuZ42WWXXXIwzX3mm+zTp09+X7w/9jvjjDPSwQcfnINsnHvuufk2RLAtSZIkqfYRI3zxxRc5XqChI40p6RnJsK1MH0F8QGzB4/Q2Y85Jeg+uuOKKudcc23m8KVNZxGtVEt5TMQYibttvv/3y8UTSlvt33XVXTtLuvPPOaeutt87HwWPM9R84F6i0Y2wLXEfViClQiMv57MaNG9ewVapsJiglSZLqWARfMUTryJEj0/bbb597TTLvI8ENwSq3vXr1yj0nSRIS6Af2LQ4HFMFsc/F3CIAjCL7mmmvS0UcfnY466qgcQDPcKwnT3//+97m3JH+T+VL22WefnKQkUcpwTIjAPG4lSZIkVbeYU5FpJlinrF9e3qfHIEjK8RgxAvEJcQ/xw4knnphmzJiRnn322bT00kun+eabL8cfPEbMgWJsUy7+ZqUl7uI9xfsiliP5yHlg4XwRK51zzjmlBp4kcxn6lePmeUyzQfzF+ZrTOah1JHOr0VJLLVW6BojZQ7UmXFUfTFBKkiTVMVpYErAQwG622WZpq622Sg888EDeRhBLYMpQqtOmTUuPPPJIOu6443Ki8qGHHsrPJxAmwD3++OPzfURgPy8ioAavvfHGG6fTTz89DR06tJQIJSlJopRkKvtzv2fPnjnwvuqqq3Lykuei+HqSJEmSqlckjhjKkiWSMcQu9913X25ESWxQHN2Fx4kjiClIvBG3MFUFDTSJGSJuaAr2jb9ZaYrviWM7++yzc8zWuXPnvI2YjhFn2I94jXPGeVhrrbXSDTfckI+NYUHZhzkrW2qEHLWdn/3sZzk257MkNga3EfNLlchfGkmSpDpF4MpcKwMHDsxzr5CAJGgnYCUReMIJJ+TWxbSyJaBhG8ENQQ7rRxxxRH4NlvPOOy+/ZgT4zQ2AItgvivu8nw022CC3dj7wwANz0MWQryRTjzzyyPx+6GXJeyKpyhyZjb2eJEmSVAtqOdkQ8URjKO9HOZ8YYPr06emWW27J89HvuOOOuddYJB6jVyDzStKA8Zhjjml4la/jjGrtJTc3nBfOBclJzgMNTQ866KAcI3HcnEOun0hAsm3w4MFpm222yT1Tsfvuu+dbVZ+VVlqp9B2KGD6SlFIl8sqUJEmqUwTy9FCMnogRzNPCeObMmenUU0/NAQ0iwI+glkRgJCXx1Vdf5SFYCYKKAe93wd9AJETXXXfdnCzdf//983Yev/TSS/OQr/w9kpe8P+bbGD16dN5HkiRJqiX1nGggzqC8//LLL+cegvPPP3/adddd8zySxCOIuRZpeMk2RoAB8QTPBY9HbBPbmqI5+7YH4jkakdKbNIa15X70KuX9cxsxXpxP4i2Gxl1++eXz/bfeequU0I1kVz2JY670z7scnyvvnQa9DF1Mwp7POD5vqRKZoJQkNQuFXFCALUfBZ3aKj5UXcBt7rUABm7khCDiGDx+eDjvssHTssceWEheSmo7vE/gOEpiSxCPo4j7LpptumoOYUaNGleYliccjOIt9eZxttEYO9LhkG0tzv6Px+kUM24QIqHjPJEqpjHjhhRfyULPcv/jii9Npp52Wf0t4b9w+/vjj+Tlg25x+nyRJkiS1P8rt5aIOgt59r776ah5FZZVVVsmjqyDiCGIGRoVhf7bR6DKSccXXLV9v7G9Wk6hPieO47LLLcowEeo8So3Eeyutd2D/OHY+T2OW5bCdupGEosSH7RCKzXhSvCY67S5cuDfcqG5/TOuuskz8/5hf9+9//XjqW4jFJlcQEpSSpWaKgW2yBFRX/FNwo9BQXUBCOAjHBQgQYIV6LXlxMyH7wwQenVVddNT+HBEWPHj3S5ptvnoehJBFx0UUXpTPOOCM/R1LTRdIRzEUSweagQYPy0D933nlnHhKmiH1iaez+aqutlr+rGD9+fPrHP/6RH4vkYmvgOFZeeeXcqjeGH2IOzRtvvDH/7vB+XnzxxbwdvJ94j5IkSZIqU8QYgbI9dRDUExCzEAMwN30kHdmfegLigsmTJzc869uvU34/sH12j1WLqE/hOBimlUQjMR7nhd6TzDMZ56oojr249OnTJyc0QfzEyDXU40Tv1HoRdVnVJura+Cw5BhKrcX1EY2Wp0lhTI0lqFgo1FHSKSUYKrlHgLV8oGD/22GNp2LBhufcjQzSuvfbaeSL2jh075ueysC+9t0g+XnnllWnKlCl5WzweWKdnVrwPSfOG7+SGG26Yv6MMAURCsVOnTmmBBRbIjzf2/eI7WY796dUcvwuXX355wyOtF9jxPqioYHhahpmlxye9KRmWlt8IjonhZul5XeRvhiRJkqpdY2XyWsLxff7557m3JMOz/uhHPyqV+YkBSJiRdNlss83SDTfckB544IHS/IrEANwSD1D3UK4YD9TSeaSO5I477siNvqkr4fwceuiheZjPqG+JepXZHTfnjHPL9BkrrLBCvv/aa6/lxuGt2fi0UhXroaoFnxMNdbnO+fz4/EOtzrmq6meCUpLULA8//HCebP2kk07KQ6owRx3Jie222y4HCAsvvPAsCwVjkgi03iNxMWHChDxfBLcMOUHhuDiUZBSKuQW3zINAyz96VlLgprBFIZnb4iKpafi+MPwR3+X4rvFd5TsY36XmtJKlsQHzvxDERSDH68wu+G1J/H7069cvPfHEE2m99dbLx8PfpaUwravj+NAW70eSJElqTbVepiUpNnjw4LT66qvnqR2KPb+oK6D+gWlgmDOR+SfZxj7UMYA4pBqTS9/FvffemxuEE/sQBxEfMRIV5ybMrZE31xUxIQuNxyO24zwXX0eVK2LfYkwe+FylSvS9f12o1uhKkuaIuR7uv//+tNNOO+X7FFxpfRWBAgUdCqxsj38rtNwiwUEBiW08RiEpCkxR+KXHFUNEsj8BCD24aOlIUpIEZ3FIynnB35HUOuK7PXHixNJQr/3798+tm/lNaOsgiN8qhiG6+eab831aWLNNkiRJqgbl1bRxn7kASTpRxt55551zz8GYfqWSRbxQFHHC9OnTczKN9SuuuCINHz48N4gmpmAbdQcs3KcxNEmzHXbYITeOBOV8eleC/TbZZJM8Pz5/k4WeZEwdU1Q8v7VSV8Cx77fffunaa68tHdMjjzyS+vbtm9ebgzoe6no45z179szTaHDOqAu6/vrrv3XN1XJ9C4nyFVdcMR//9ttvn6dDqQaMWMbnhpdeeinXrfF94rP9rvVrUmswQSlJmiP+TVDwX2ihhfLwiUUUWuPfSPm/EwpAyy67bC7AEnTQeo+J7AkmlllmmVxIaqwwS8KyOGzLnDTlX1gtF5il9hYVBnxvaWTAd5IEJRUL7YH3w+/Uj3/84/ye+A154YUXUrdu3Rr2kCRJkipXeYwb94sJyl122SXPvT63eLm9xXsvj8kpr7/++ut5/npGdInYIfYniUIyhecxJcWZZ56Z6xIo64PtxCBF7L/11lvnJCeYUoZeluWK57dW6gqYIueAAw7I69Sl7L333rNMuzGvSPZutNFG+TyRtKSX5oABAxoe/VqtnMPA9cF1Nm3atNxIf88998zXGudz3333bdircvE9YGQjhvzlWOg0EL8T3K+1z0u1wSFeJUlzReKBJGUUbJiAnuFDbr311nTXXXelm266KbcmozBEoYegiYLQ1KlT06RJk3IwxZwRtLqj1SPzGTRWMOK5FHy5LQ+22Fa+gNeZ0yKp9fBdJ/gBgRvf2yeffDJvJ7CL72lb4T3QCGKrrbbK9zt37px/gyRJkiS1rYjJP/roo/Rf//VfeRuJHnqA0suLKVxIgqEYN/AcRkQhpiCBSf0Bj8frsRTRMJFGiZGcBI0m6wHJXupmAvEYiVqm0/kueP4GG2yQ4yqSntT1VEsPwu+Ca4tzyPXKdCFcd8WYt9JddNFFpXo5esBGvVp8f6RKZIJSkjRXFPhJNlAwo+Ui805eeOGFaccdd0zbbrttbsHJbUy6HT2qKAxRCKJAG4WhKCCBQh6vy75hdoUmtje2SGo/fLdZ+M7z+xAL99vrO8rfXnDBBXPDik8//TQPN/tdA3RJkiRJ84aeaLvvvnuODQ466KD0wAMPlHpDEjtEPQJ1DPSqpAxPHUMkVWLIUUR8wWNxy2NTpkzJt8Qm1DkU6x1q2SGHHJLPYeC8kfyNoW+bi+QWGAWL80kyORqe3nHHHfmxWsf5ZESeuEa55nr37p3XKx0JffCeGeI3kpXcj++MVGlMUEqS5oiCDBX9geFWIjgoYlsECyAwaEwxUOC1eE70mpRaCtdTJMvArddYy+Oc8t3n/DLkFN/7CGCLvwdtib/PHDU0gOD3ZuTIkendd99teFSSJElSW6E8fuCBB5YSJ8QOEauRBKPH19NPP523kWyjtyTJtYgnym+LMQbbwN+g9yT1CtG4unwo0hCvUXydasa8kBwv55WFcxj1LPOifI5CRsBabrnl8uvx+iQsWY9zz22s1wqup/nmmy+NGDEir3O8Sy+9dClhWWni/JOM/Pzzz/M62+gBS3we10Lxc5MqiQlKSdJcMWwIhdHy9e9aQIuCElgvFpykeUWwyzVEMMGCCCzUsjinBDkEspzj+G146qmn2iX44W+yMFcKFR78RpGonDhxosGYJEmS1MaIF6JBMg2fKZ9fe+216aWXXsp1C4ceemhaY401Svt26dKltB5LUbFMX3ycOCQeW3PNNdOqq66a12sVMe8VV1yR4zCOm/Paq1evUjKxpfDaTNdD0pi/8dprrzU8MvvPqBYQQ3JcUbfANCIR61Ya3h+fDUl6plniPu913XXXneWz4bMs3pcqhQlKSdIcUSAjkGCh8PvBBx+UCv4tVUCzkKSWwrVJoozrlkI6S1yvah18fznHAwcOzIEcvwuTJ09ul+81f5PPnNtdd901vy+W0aNHN+whSZIkqa0wNySNB6+77ro0ZsyYHKfttttuqWvXrg17fGN28cOc4grK/hMmTMivTRwS00/UegzIMTJHIr3mOD/cP/HEE+d4ruYFr8tIOcR5IM7jnLOdz7JWUe+FGDIYlXq88Xnccsst+T7vk2uBzyzi4Vr/Pqi6maCUJM0RhTHmb/vVr36Vh0v58ssvc+EHLVFAa+kCtOobhXNwXdGC8MYbb8z3EY+p5XBO+R3gfBd7UDJMU3uJ4aV5TzSs4H0RkEVQLUmSJKltdOvWLQ0bNiztueeepZ6SUV5vDsr25QuIP954442cqIteb8y9F4/XIuIvjvfRRx/NsQ7H+tvf/jZ17969YY+Wt/zyy+e/xRKK67WEeq8XX3wxx5BfffVVnn+S9Uo8Xt4X3wFu+Z5F/EujANalamCCUpI0V4y/36lTp1zooTAciclaLZCqesU1SSF9iy22SHvttVe6+uqrS9vUMvgtiGAozjnnOlpvtlcykGAS/EZtvfXWpVajDz74oAGaJEmSKl4x+QbK1rFEHE6CrxobXxI3tHTikPPwhz/8ofS6nCfiABAH1KqrrroqHyvHz/CrgwcPzrctLa4zzi/XHdcgf7eWcZ1GrMvwxAzvivj+VZK47ocMGZJv6VDA8MarrbZavl/U0t89qaVYUydJmiMq+KMlIiigVWMwpPpA0EAwcf/99+eAgiCKVo9or6RZLeL3oLEAh22c9/YK3ooJalq6cp/fK26L86VIkiRJ1YLybAzlCUY4iiRKvWN41+eee65U5qcX4bLLLpvjkcbilVrBaEEcM0lJ5tzs0aPHPPVMnZtIRnI+I57mb9civk+xcIxcTzSA3XTTTfO1xP1KxchRUf+x5ZZb5vdKslKqBiYoJUlzxLyTJCVXX331XOChgDZq1KiGR6XKQkGc4IEWhAQWBG1cv+BaVuvinBO4PvHEEw1b2ha/UXzmEUAyL2ZsmzJlSsNekiRJUvWgPLvYYovldcq5n3zySd6mlMv4xB8R+2222Wb53HCearWB6syZM0vxFsd9yimn5JiXY24pvG6gDohhdGMbCbtaxPljIRnL+YzReagLK56PSsN1z3C/vHeu/cMPPzxvb40etVJr8L+ZJGmOaKkZLTRBQS16pEmVJgKH6MHHLfOdcB2r9cXvBEFSe4mEJAElnz+tSPn8H3jggYY9JEmSpMoWyZKw+OKLl2Id4vNqVTymlkB5n/J/JCXXW2+90rmrxSkeSLoyvCtIQMVwni19Xov69euX64E4xxtvvHHeFvF2reE7xrmMHpRYeuml820l4nogzuWz4TPp2rVrqWE2vxPxXWjN60P6rkxQSpIaRcGMhcr9mGgbVPq3Z/KhrcTxly/xmCoT1yZDmVBI53PiumWhkF4P1217W3fddfMtwVF7fk8I0Pjt2mqrrXLQxmfPsL+I68DvsSRJkqoB5dboDcV6JBvqOelAmZ5zMWzYsHweWKf8z/CutZyQoW7mww8/zOvEvQznyba4LrhtCbwOjTzpPThu3LjcSJ1zztz+tXx+Oa5o4Mo52GKLLVq8d+p3UV4fR70Hc67G53711VeXksf2oFS1MEEpSWq2lir0VjIKoHfeeWfafPPNZ1kYzmSTTTap2XkXqh2JqUimo2/fvqVgolaDqErSoUOHfMtvxNixY/N6e6IFKQEmC0nqaGFNUOf1IEmSpGpDrPPXv/41r9dqL7Y5oRwfZfrnn38+xxyRsGEO+vnmm6/my/nFHrTlI1x912MvXlM77bRTevHFF/O55nW32WabUu+8Wj3HHP/LL7+cOnXqlGPa8vqF9sZ74T2RnL7rrrvSDjvskD8TtvXp0yctscQSpfdrvKtqYYJSktQkxcJNPSQo77jjjrT77runESNGzLKMHDkyjR49Os9tx31VFq7TYvLYVoNta7vttsu3/EYwT0l7I0FJwE5LU1rBTp06teERSZIkqfqQfJg2bVpOpNRjgpJ4j3PAsVO2p5xP7EHcd8wxx1RUMqm1MAcpDTBBMi2Sht9V1PNwTnfZZZfcWzIaeTIyze23317ah6RwLdYLETuecMIJafr06fn4SMqS/KuUY43k5JAhQ/JnxPeBz4dheB977LE0//zzN+wpVQ8TlJKkJqvFAujsUOCe21ybF110UcOaKgnDnFBQp/BOD0pw7XJfresXv/hFqTFDDKnanvjMGfYoKipee+21/N32WpAkSVI1IhnRuXPnXL6th2RcuYg18OijjzaspbT++uunHj16NNyrbTG3IBjulWQavmt9TcTQO+64Y26wTaKSOpFVVlkl99YjKRp/l2uv+FnUirfffjs9/PDDpQTwtttum2/B+agEJI732muv/FvAZ840KzSej98DtkvVxNoZSVKjKGyyULihcLbMMss0PJLSO++807BWuyiU0zJt/PjxsywXXnhhbkVIQfDvf/97w96qFHwun376aWmYnxVWWCHPQai2QdAWgeqPf/zjfNueeC+rrrpqvi5YXnnllRx0G7RJkiSpWpAkolxLL0HKsiRRiHHqudEdx37fffflMj4Y3pK5GOsBxx7JMnrNfZdhV+P8gdekETbJrri2SHpdf/31Ob6ulARdazr99NNzPRDHSu/J4jllON22Vvx8+AwmTJiQk8XRmJ7P57zzzpulsUI9/y6oOnnFSpIaFRX6IQo8FNAosKH4eK3hODnmtdZaa5ZlxRVXzENFUuiz4Fd5+Nw++uijHDxQgF9sscUaHlFbYGiZMHny5Ia19rXsssuWEtY0ruB3qxjASZIkSZWKsmskhn7zm9/kGJQGxNzWcjw+OxwzC3FfHD/rBx98cF6vB0yrQTL2/7P3HmB2VFfCbfm9mX9IIhiD09hgksmIHAQimCyCiCLnbHJOJoggDCaYnHMGgQQSOYqcETkHe+wZZ0S05/k9ntZW7+vSpbvV3eq+fcNa31df1a2qW3XqxL3PPmefzAM9dfFabXA89thji4MOOiiM3+jTzNR96qmniiWWWCLe1R8GulpBPL7zzjvhBYjvJn4ZtJ7X+gvyNv1PwHqgGCNZ0ob0QMc999xziznmmGOyAbj8R6SRsGdVREQ6JQ095dGIX3zxRZzrT0GtLyh/D0IdQh/76k3qF4R3XNwwonDaaactfvCDH5hmNaSsGNWLEXCdddaJsgwYTckPlPVWGAEsIiIiIo0Nsmvq4hgmMR4hxz799NMVGbeVSN3u5JNPjvhgVun666/fa+swNgJbb711xAN9MuzXXnvt6KPJgeSdkToQ65gSf/z/+OOPjzz2y1/+Mq7RB7T44osXn376aRgn8z0Z980I8XLXXXdFPwJxwzIhQ4cObbvavxD/TzzxRDFixIjijjvuCF2WcxtssEGxxx57hOcidG/ON3MaSfOigVJERNolBVA2BJ00NnDM1qxuM/m2roBA2IoKYb2DYorLI5StOeecs+2s1AriPRXY3/72t21n+xfqrrnnnjuOP/jggzCiEj7CKiIiIiJSz5T1U4wo6KDoPK3qEYT1FzHSHH300WFMwii39957d1mPb3TyO88+++zYo9ewZuKss85aXHnllXGuM1IHYrbgmmuuGflo+PDhkbd4FrBEBsvbJHk+Z/I1I+iuzB7FOEscbbrpppU+r4zzjIdaQrq88sorxamnnlrcd999lXSiHrjmmmtCtyUN0cFbpQxI82HPqoiIdApCDgLPzDPP3HZmkk/7ZlSIuiJwIqzm6Mzpppsu9lI/IKCTZxHcyaMoGGz9oUy0KrhUpY5gFC/0p6LEuymzCyywQEWRw20PynV5tqeIiIiISD2BHMuGDJu6DPonhghk2WY2FnUE8YGXnIsuuqgSP0OGDCkGDx4c8cLW7JAX6I/YZZddis033zx0XnQc8sNee+1VrLjiimG8ZX3O0aNHFzfffHNx7bXXFscdd1zMlFx11VXjGUsttVRx//33R5wxe5INg+UZZ5wRhjDitjo+m3mW6kMPPRTfSz8C/Qcbb7xx5Xuz/NWKzNsYSMePH1/86le/CreuOUOWNL/44ovDFW32y5XrCZFGQwOliIh0Sgo5ZYMkoxbLv5sNhMGOeOGFFyrGr0GDBrWdlXrho48+CsUCpYIZlBinmjmv1iPEeRqKX3311Ypi2x8GwVTUFlxwwYqiR5hQNlXgRERERKReSTm2DO42OYeRDpm71eDb77nnntgSXFyiZ7C1gnxPX0T2V9x4443FeeedF25u0W8wVLJm5EknnRQzADfbbLNiiy22KHbYYYfihBNOCCPlI488EvHEvWyAgffBBx8MF6cHHHBAGL7K1zNeO+snaWQwBGLMzTLFEiHMzu2P/JQzJNnQW4855phi1KhRkRacI62vuOKKYqedduqX8In0BRooRURkiiDsY/BJgfTPf/5z0xp9UhhMqoXwP/zhDyEcYnSZd955285KvUC6kDcR7Emn/sinzaq4dZXFFlus7agoHn/88bpQnDJMpA11GfkkFW4RERERkXoF4wlyK/oNRhNmujFgmBlznGtGOtKn6Je48MILQ54H1l5cb731WspgS9ygX6Uha9dddy0+//zz4oILLoi4yFl/2WeRug+Qd4gnttVXX724/vrrw+sNhskVVlgh7qmmHnS53oY4LOex888/vxg7dmyUL2CNz/7KT6QXMyW//PLLMCrjvpc0ILyZ/wlfhr/6W0QaEXtmRERkiiAIlQ09KETQjMLqlHjuueciPhBYV1pppbazUi+gkGV+rXZ7pOBeG3CnSvkgDT777LOKIbC/jMVptM76ipGoGidFREREpBFAhkWvQb7GeIHBknMffvhhvxlRaknqcOh4G220Ubi65PvZxowZE3GTv9maHfRd8kBZt+K7mVHHTLunn366uOGGG4qjjjqqOOyww4p999039scee2xx9dVXR38Gxi9moeIiFrfBacxMqvXojNdmjF8Mvbh3Bb6POMG9axnO1/LbSY+tttoq8jrpQt4nTOeee26x3XbbxT2Ep5xmIo2MvTMiItJlUihrBUUoqTZqsZg8MLrOGZT1RxrPSbdqg1gtlIpcF6KVlQUM9yhRbM8880yc6y/jMGmOgod7owzDa6+91rSjzUVERESkuUCezVlxAwcODF2cDX20WXUOvhm9Djmeba211oo4SIMNBrTTTz897mulvomEmZDES3vgOQa3rsOHDw9Xr6xfOGLEiHAVivGN6zl4ky0pPy/zWzODbsiG0Q9DN5C3cJ+ax1COo1pA3sY9b64DmmuDHnjggbHGaIaHa7UOm0hfoYFSRESmCCM1cZuSHfzMioJWEogQUPn+HE0444wzxl7qi/nnnz+UK9Lrv/7rv9rOTiLzb19wyy23RDmZddZZ4z0dKYytAB0nqdAxuhfyd38xYcKEtqMiRgz3x2xOEREREZHukjoMe/Rv9FG28ePHN53OUf7WDz74IL6XLY01HPPNJ598cqyVyDHnuJabyJTIvIKO+uijj1Z0wzPPPDNmlDLQttZliwG0hIeBtRjic+A1bnsxNi+//PKR10WaEQ2UIiIyRRDOWCg9jz/66KM4RnBrdlIw5Vs//fTTinH2Rz/6Ub8bXeSblNMkhXroS2WVvHHZZZfFOzB+3XzzzXG+FRVk4p+6IpWn+++/P+KhlgbB9uKd988999xxzBq6tVY4RURERER6AoMgEwYCArMGm9EjCDpErq34k5/8JGYApmyP/I6xZuTIkcURRxwRegeDIVtR55Keg3GfvIR+yHqOo0ePjrzEOWYocsw17svBtn0NeZ53DhkypHjggQfi3DTTTBNuXa+99tpiqaWWin4G8rr5XZoRe2dERGSKIKShBKEopCKAK8taGh36GwRBvhtBlXiYeeaZ265IPYFikQrGu+++23a274yFqcCgSHAMGYZWVB4w1vLtCy20UPzO8lLLuMj3ZXoQJn7jHgfKhmsRERERkXoG3QKQcXHPyR6DBoaLZoR+B2R3DDQHHXRQRZZHhsdrzQYbbBA6Rt4r0h0yz6ArMjOX8kX+Ovvss8O1bZa3sv7Y16Rx8sEHH6zoquuuu24MfKYcADM7U78lbCLNhAZKERHpFIQghLR55pknlCFgvQsEpRSQWgEEWdy6IgyylWdhKSDWL6+//nrsU/HobXjurbfeGoozkE8Y5UxZKeePVskjfD/fPsMMM1TqC9KAuiLjoRbxkfHPe1D4SJOcQcm5UaNGxbGIiIiISKPAsiuLL754HGPIYAYYpMGur2XsWpGyPLpF6lQc59qLuUZiXktS/xCZEhdffHFlTVPYbbfdYg+c6yvjZJbR7D/gN8ZIjKX0s/FeXM1inKyeEMBv8nhnm0gjooFSREQ6BaEf4emLL76oCG+pALUSCHsIi7PNNlsoR7///e/brky61izKYDOAMR1Ik7/+9a9xDNUKbG9Ambj00kvbfk1yz4IrFvJEul1qNWWB+oE0IP6J84cffriiXGVc1Co+8j3ZmUM42FD+sj4TEREREWkU9t9//5CxkWkxsiBzo5+ybyWdtJX0K+k90AN//etfF3vuuWdlxuQ555wTZQjQEfui36AM/WuUXwbNrrPOOsW9994b76X8nnLKKRE2rrdSeZbWRgOliIh0CkIRwhHGuR/+8IdxjrUYWxGUoEUXXTSOJ0yYUIwdOzaMMcQR1xQg+x+MgigUCPgoHLleal/BWhCMdixD3oBUcloJlC3qiiWXXDLqDcBA2Z+koTghf7zyyittv0REREREGodtt922onu+9NJLxc9//vPis88+i3NpWFEvFZlEuSygF2611VbFAQccEGWFJXxY13TXXXdtu6NvBjVXk8ZHBjbff//9bWeLYsyYMcU+++xTmb2pEV5aBQ2UIiLSKSkUYezJ47JRrtXI0Wyw8847h7G2PFNO+hfS5qc//WkcYyxjBmVfKuh33XVXGCJJ+9xYH6L8To77Mgz1BPFPvDODEiNxbtBfcYB7V969yCKLRNgYNfvGG2/URPkUEREREelNkGdx7YqMi+x95ZVXFldccUXIu1xrFVL3LuthItWkLvrBBx8Um2++eSzPQlmhfwsDIb85zvt6i450X2ZLMmsy+wzyPoyTq622WsV4KdJK2DMjIiJdAiFprrnmavtVFH//+997XYhrBBBi11prrTBK/fGPf4zRdjkbqxXjox7ZaKONYk96PPDAA99Il94Q+HkGz73nnnsmW/MFozUGsLKC3GrKMkoVZeQnP/lJKHt3331325XaQnpkWjOIgFmdpAXnPv7442/MrBQRERERqXeQtbfZZpti/fXXD7kWvfzQQw8tRowYUdF71EtFJkF5ef3112OgOWtOAjrh6quvXtxwww1xHWoxePWpp54qhgwZUulDSN307LPPjvMsSwLl/oPUadlEmhUNlCIi0iUwuqD8AALTf//3f7fsDKTlllsu4gMhkXUDmEUn9QF5k9HEKeyzkU97ezQxz+e5119/feX3gAEDig022KDDctEqSgWGPwz4xAPHuM7JdKglmQfYYyidY445KuFgUEEruuAVERERkcYH2ZaZXwzMRL5F5j766KOLLbbYIq4j/4q0Muj/lA2Mk8cee2y4UsVwT9nYcMMNizvuuGMyT0i9Ae8rb6kLP/roo8Xaa69drLrqqhXdNO954oknYpBze4MKuC7SCmigFBGRLsHIMjr4AaHqxRdf7DVBrtE47LDDQqgEhNrjjjsuhF6MlqAg2b/kOqGQazqQf1NJ6S14HmmOwYvnM0OPkcy5ZkQrQvxiIEYZI36IGzYUs/6AOirTPA2kmRfYREREREQaDeRYDBrXXnttrKGXA+9uv/32WNaAdSkhPb2ItAqp+7EUz0UXXVQceOCBxW233Rbn0Q2ZqchvjnPrCfme3EP5eX/5y19C78QYiutWXLtmecTb0Mknn1x89dVXxVJLLRX9B/zPmc/SqmigFBGRKYKxgc79+eefv+1METMoWxWMUuPGjYtj4gaGDx8eRlvpXxDsF1544YoCkvs0luU9PSXTmz3uY/P5bLhW6oypeW+jwDemYrXEEktEvGOwfOSRR+JcrcnwlMNE+cV9zptvvhnnREREREQaifRWMs0004TbyiOOOCJkbnjttdeKyy67LOTgM888M86JtAqp/+G+lXUdH3zwwThPecE4OXLkyPgNGAinlmodn/4B+goYPMCg9ocffjjKJu/n2i9/+cvipptuKg455JAwTFKWMWTynOyvEGk1vjWxcPTeVAIREWkays1DCl3bbrttCFoIUQh8m2yySZxvRYgf3ERi8EjjBwLvMcccE6PgFC77B9KF/LrGGmuEARFQClZeeeU4316+7ikoEqQ9igVGL2YJcq7VwShJPDBKFFc2xDN1xS233NJ2R+0h3dkGDRpUPPfccxHGl19+uVhsscXa7hARERERaVyQbU888cQwWDJTC+NlDjRG9l1ggQVCn19xxRWLL7/8MownuYRLgtyeWxlcUyLf89z0JCRSr5x//vnFPvvsU+mnoQysssoqxRlnnDHV+t/nn39ezDDDDJV+h3wHv3nP008/HbMjx44dG+coh5SzoUOHhicuyuFMM81U0Zk7g/+XqS6XIs2CvaciItIuKfwgcCEYTZgwofjJT34S5zDGfPjhh3HcyiDc/uIXvwglDSMVi53j7rVakJTagyIACP3PPPPMN5TvnpJuWbbZZptIZ9Iexf/UU0/VODkR4oJ4YE/ccMyABn6n8tYfUJ+hMOLyKpXBV199te2qiIiIiEhjM3DgwJiZxawxjtF/kHuRw5HH8R5y1FFHhbERF5Nrrrlmse666062rbPOOpVrufF7uummi7XyNE5KPUI+zyVFLrnkkuKAAw6o5FXyPsfnnnvuZB7Bukv28WCchPzNHj2T2Zibb755DIjFOJmzJldfffUoOzfeeGOxzDLLhHES7DsQ+RcaKEVEpEPo1M8NwY4NEMJadT2LFHxR9IgHlDzW/eAYwfjuu++OEXP9teaeTII0wEhJmuDyCKUklYjuUP0fygBuYZhBzDMpB5zbf//92+5obbKOYE/nB/FPHDGbEgWtv1luueUibISL0a0iIiIiIo0OOgv6KXo7nmSeffbZ4r777itGjBgRxkqu5wDOvA8ZnfNT2hiIy70MUhapF8ibCXomuvmwYcOKPfbYI35joCef//rXv47ygHFyagfMZpngObyDcsH+iiuuKL7zne/EGrDAOQyUlD9mNKODUo44jx4qIpOji1cREekUDG0IUzQXuIw54YQTQiA75ZRTioMPPrjtrtYBhQ5hE2EXiBeOcdkxevToGAlH/DCzktmUeZ/UHpQUFADSgzUQBw8eHOmRok9X0ibTN+FZORqSY67jPra/1lisdygPWSayM6Q/ef7552PkKuHAvdWjjz7adkVEREREpDnAcJKDKVMeRxZnFtnrr78eOv57770X16vBBWUZnrPDDjuELiVSL5T19JdeeqkYPnx4MWrUqDiHrs5SI8wI3nXXXSMPAzop13oDys4777wTA9bvuOOOeAdGfN6/4YYbFrfeemuXdN/OwpT9FklXnifSiGigFBGRKUJTgULD6C9GpSFEsX7FVVdd1XZHa5NGsO222664+eab4xiOP/744vDDD68IxGUhWvqGNKizRynAFSsCP8oJ+Zf4T9GnK2mRacaebbfddisuu+yyOMdzObflllvGqMmcPSj/ArdQ999/f8QXihuzjfuT8ePHF0suuWSUUdaPxWCZaSwiIiIiIiL1Q7WuxsxIZgOjz3GeGZIHHnhgHOc5dM6TTjoplveYWtrTFekbw50r+m32/XAPbpIPPfTQmDHJ7yn1D0xJD+V6mc7uFWlkdPEqIiJTBEEohT35JoxIxVh19dVXhyEswUCJ4JoYf31PGoNRBjbddNPYk3dZH7Qn8Z9KAc/AfS+uXUlrlCKukfYca5xsH+KG+MoRpf3NggsuGGlJ2r3wwgsxuCDrNxRNERERERERqQ9Sh0dfY0OvZDAy+hx9Law3mdfh7LPPLm655ZYwTnLf1FLuQ+B5DFaedtppw3sW76Q/AM4777zitttuK5ZffvkIY1f6B+wfEpmEBkoREZkiCF4aYdqHuMHIkUbKMWPGFEOGDInfCKb8Xn/99WOhdOl7EPJRVkgLZlIyijHPlY3HXYXnAO6NGYmJkY00Rzlhj1HrRz/6Udwj32SXXXaJuCeeLr300jjH7/6iXIdRPt99991IR9LZ+k1ERERERKR+wJVq6mv0u7BnYzDyyJEj4x5+zzDDDMVTTz1V7L333tEPALmfGpixCRdffHG8E49KLPmSfQ64c6WPYM8994x+B3TK1HcJt4hMGQ2UIiIyRXLmEwuLy+QglCYYJRGaMUoee+yxIZDym5l3m2yySYyok74nRyJiRMx1KODhhx+OfXdhrULWE0XZyHVaTj755GK66aaLZ2O8l/bBKEy8ZVmA/jRQYihdeOGFK8dslGHClMqniIiIiIiI9D8MKkVfQ2/DYxX9KjPNNFNl+RZ0zY033rj485//XCy99NJt/5pk2OwNMHKiK+6+++6xdAnkzMxx48aFkZR+IN6H4ZJwAvdkP4SIdI4GShER6RIIWGlgQNBiUX2ZRLr1gDz+xS9+EbOzAOMM8YcwfdNNN4UhpD+NNK1CjpjcaKONQrFBaWBGJelRdjeaSgSQLpnPTz/99Mjrzz77bEX5WXnllYsvv/wynpcGLdyGSvugpBHXxNe9997bdrb/IA1nnHHGilHyueeeiz3pq6FZRERERESkdrTXL8K57EOBc845J/RJvPMw6Purr76K85w75ZRTimuuuSZ0/+yL4b/ofVMDYUg98cUXX6wMTOc3noG4xlqTeV++D/0XCFtX4L8irY4GShERmSIIWwhYZaOOTJkf//jHsf4BrkFTYN1iiy2K7bbbbjKjmPQdKDW33nprGCcR/h988MFYMwIlB0MkW6YNhkcUji+++CIMmUcccUScJ9+jkDAyk9mx/P+dd95RmegCxOcGG2wQ8Zzx1Z/xxrsXWmihUBxRYF966aUIo4iIiIiIiNSWsi6WeiI6PEZB+k64ftBBB8X5vBf9nWt4SNpjjz2+4cq1N/Q7npHPmWeeeYoLLrigWGONNaJfYaeddorz6JN5X3ubiHQNDZQiItIlELBmnnnmtl/SVVingAXUWZsgwWg5bNiwtl/Sl+TIRZSXdA1DXkbJYSbd+eefXzzwwAPFY489Vlx00UVhuJplllmK++67L+5nVh170vDyyy8vpp9++jC25WhOmTIokMQZ8YixmH1/suiii1aUX8IFjLJlExERERERkdqBZyJ0saeffrrYbLPNQh8fNGhQMXbs2DACosOjl+OR6swzz4z7r7322mKZZZaJZVeS1O1620A4YMCAmL2JW1l02Xz2lAbe9mYYRJoZDZQiIjJFUrBCMOvP2U+NzI033lisvfbacYxQi7CNgC19S+bd5ZdfPmZI5qhHQAnCULnmmmsWgwcPLo488sjI32msYmPWJP8j7dKwlq5jZMoQn8ygBOLz5ptvrqQJv2sN7yb9mBWLAssMyqS/DaciIiIiIiKtBDrhM888UwwcOLDYfvvtY0ArBkj0tfRkhNEST0gM9N5///3jHHpmdd9UX+np6JCpKxK2HKyceq2ITB32xIiISJdhMXKEQGaZpZFHpkwaRe6+++5wG4oQzihA1k9gTcM77rgjfueahtL7MIsP1y+sg4hyg7EdxYK0QNnIkZmkFfcdeuihkcevu+66mIXJda6lEsT/8rjapYxMTnnmNcZeIO76yyDIWiG5NgijdD/77LM4FhERERERkdqBNyMGDL/66qvFu+++G+fQvdHfcd86YcKEWGOSAcdlso+l1jCTszf1/86MnFwrbyLNyre+zt41ERGRLpDC0YILLli89tprbWelqzBr64QTTiiOP/74tjOTDL9XXXVVzDRT8KwNGCMfeeSR4qGHHmo7M4kTTzyxouggImV6cJwiE4a1HXbYIdKM6/fcc08oVfJNMg4zHlE0MQyX47KWUP4wkuLel3Tm9wsvvBAjdvvLYCoiIiIiItKK4FmK5XDQDxkEvM8++xS77bZbsdBCC8V1+0dEmh8NlCIi0i0QEOnIx9e/M496BoL3UUcdVZxyyikVowgzusaMGRMuSKVvwUCGoaw9g1TOqEwQk3JL5YjrGii7RsZbxh37Tz75JEae5vqgtQajJOuVvPjii5EPnnzyyWKppZZquyoiIiIiIiK1AP0bD0dfffVVZWmQMuhu/TFTUkRqh0PFRUSk2yBEfvHFF22/pDsgYGPgYgbl7bffHueIT9yJrrXWWsX9999f/O1vf4vz0jdgGOvMCMmedGIjbSANbNV0dF4mkfGz3nrrxZ64feqppyINMm5rCe8kXeeaa67IAxy/8847bVdFRERERESkVqAfrr766tEX0h4YJ1NXF5HmRAOliIh0mzTiuA5l98nRfxhohg4dWowaNSp+J8zEc4Rg31JtVOR39UYa5FZ9DXARy+w7ygHnMHypNHXMCiusUIm7l19+OfZlI3GtIAyUvWmnnbai6LL2a6ZfbiIiIiIiItK3pL7d2bqOXE9dUkSaDw2UIiLSLejcpwMfQZJj6TnE45AhQ4qRI0eGsSs544wzNJLUKTnrL2fCAgv6c6zSNIn2jHzLLrtsJb4effTRfpk9mWBcXnrppdt+FcXzzz8fYbPMiYiIiIiIiIjUDg2UIiLSLeaZZ57ozC+7v5Tuk8YQ4nKjjTYqjj766DiH4Rc3rxq76hPSB5ZbbrlYy5I0KxuX5ZsjXKkniK+E2YtprOwPSC9G6GYYSUfqMxERERERERERqR0aKEVEpFvk2nEYGPrTyNDopIESwwgGkoEDBxYzzTRTxO8MM8wQ16Q+SINb2ehWnkH5yiuvxF4mUT0TkXgi7nJAw8MPPxz7/oK0W2qppdp+FcVzzz0XhucMdzmdRURERERERESkb7BnWUREusU///nP2Dt7chIYNXLrCtX3YRiZZpppijPPPDMMlWys1wfGcf3BeoWAgevf/u3fwpj117/+Nc7JJKoNfORj6g3yOQb4L774Is7jarXWEDbKXBpNKY8ZDs5rnBQRERERERERqQ0aKEVEpFuU151k7bZWB4NGbl0hjSIJxpvBgwcXjzzySBi/MHotvPDCcc0ZqvUHrkFJs+9+97th2OL3Bx98ENcwLss3Ib9PN910xWqrrRZxxm9mMdbaNS7vZSP9FllkkShfhMH0ExERERERERGpPfZ8ioiI1BiMJBhH2K+99trFY489FrO3MP7edNNNxcorr9x2p9QbaWCec845Y49RC6NbGivlm5C3v/rqqzBKEmfsn3jiibartYX0YzYnYcJQmWlHOpp+IiIiIiIiIiK1QwOliIh0i/Labf/7v//bdiRdJY2TY8eOLVZfffXioYceillcGEsOOeSQYsiQIcV3vvOdtrul3sC4hnELd6VprCT9aj0bsJEgb08//fTFKqusUplp3B+zr/PdpBUGyfnnn7/yW+OkiIiIiIiIiEht0UApIiLdAmMD0KGPoUY6h5ljkK4tMZKMHDmy2GSTTYqHH364mHbaaePaqFGjihNPPFFDV52TbnczLdleffXVOCf/gvhhw6Cb8bTQQgtVzvfXDEogLLhSxsicddj48eNjLyIiIiIiIiIitUEDpYiIdAuMDHTqY1R78skn285KR2CABAyPGEZOPvnkYtiwYTGDi3MYMMeMGVOstdZacZ80Bhjq55tvvkhTjlk/FMObTIJ4AQy6HH/++ecV43te608IwzzzzBMGVOoyDZQiIiIiIiIiIrVFA6WIiHQLZh5hkMFI+cEHH7SdlSlx2223Feuss05x0kkntZ0pihVXXLH44osvwq0rM1JzdqrUL5lG5H+Mb/zG2PXRRx/VheGtniA+Mk5w8coaq/1NGpFJu3XXXTeO+3tGp4iIiIiIiIhIK6KBUkREusWCCy4YM6GYdfTUU0+1nf1Xx79MDvEyfPjwYssttyzuvffeiDeMWiuvvHJx9913h8E3SfehUr+UjZDzzjtv7EnDv/71r3Es7cN6tfW2Zi0zKIE0/fLLL+NYRERERERERERqgz2hIiLSLVZZZZW2o6IYMGCAhslOeP3118N16/HHHx+GSWB/3nnnFY888kjMmtQo2VhkepHvv/vd71aOL7rookoayzfBiFsP66uWDcyLLLJI/GZm5yeffOIMZhERERERERGRGmKvqIiIdAuMMXTqsz366KOTdfi3Ygc/8YFhKg21rGmH61vcuS688MLF/fffX7m29tprF5999lmxxx57xO8y3JP3Sf1Dvh86dGgck+YY4HD7Ko0DAywwOFN+KbMOFhARERERERERqR32xIiISLdIIyTGNGYeff755/EbWqWDv2xIxFDFzDDi5W9/+1vxi1/8olhuueXCMJnGW/ZXXHFFMWbMmDBilQ25XNMw2VhkemGEBtKz7KpXvkmWhXpj2mmnjfSsN/ezIiIiIiIiIiLNjgZKERHpFhjjll122dj/4x//KN577z0NbBMZOXJkseOOOxYjRowo/vSnP8U5jDLrrbde8fe//70YNmxYGHCnmWaayky7Vpxx2gyksY2Zkxidd95552KLLbZwBl4DMtNMM4Vx+Te/+U3bGRERERERERERqQX2pImISLdhXUWMaxgpWUsRg029zpDqS5h19fLLLxebbbZZGKjuvPPOMFIRL8zMeuGFF4pbbrklfmOUxJCb8cQx9+a5Vo3DRoV0I02HDBlSXHrppcWqq67adkXag7z9/PPPV/L4oEGDYt/fLLjgglGXUZZ/97vftZ0VEREREREREZG+RgOliIh0i1xvDwMNa7f985//bLvSvPDNZfj2N954I2ZFLrnkksVtt90WcYKhg23fffctJkyYUCy22GIxYxIwUqZxJo2SoFGyMTHdukbOEia+0p0q5+ql3iBchAk+/vjj2IuIiIiIiIiISN+jgVJERLrN8ssvX+nUZ63FZoeZcmmk/PLLL4ubb765WHTRRYtRo0ZVDDAYXA4//PC4/qtf/SpmR2L8wIgLxBeuXkHjlrQKZbe3zz77bKxbyznWac2y0Z8svvjiUYYp460w2EJEREREREREpF7QQCkiIt2Cjvyll146jpkVWG1kSMNls/G3v/2tGD16dDFgwIBiyy23jO/8j//4jzA2rrHGGuHO9cQTT4xZYsQJLiPZmFkJrNfJ/Qn/b9a4EilDOfjss8+K6667Lgz9GATTKNjfEDaMpoTrvvvuazsrIiIiIiIiIiJ9jQZKERHpFhjfMLRhXMPI8Pjjj09maGum2YF811dffVUcccQRxeyzz15stNFGcY4ZYHw7hsmbbrqpGDt2bMzEwuDCdQy3GD3YMj5w9ZrxxJ7zzqSUVoByseeee8YxhkDWbB08ePBksyv7i/XXXz/qNMoibplFRERERERERKQ2aKAUEZFukca11VZbLX7jFrGZDG1pRATWlmTG5CmnnFIxKHKd7YYbbojrG2ywQcUwmXGTYMSEfGYaZJopvkSmxLhx46K8UA4oK/vvv38c50zKLDv9AWWSgQS8/6OPPmo7KyIiIiIiIiIifY0GShER6RbZmY/r0lyX8bHHHot9M4DxcOTIkeGqdZtttqkYTjiPMYVrfPewYcNipiQbsyy5nobHNLzkMfSXAUakP2F24oUXXlhx57rJJpsUyy67bKW8ZJnpL1gzFvfLGCpx9yoiIiIiIiIiIrVBA6WIiHQbjAo5gxJYe/GTTz5p+9XYsM4kxse///3v8TsNKzfeeGMYJjfeeOOKYYXf3JfrTuZWJg0w/W2IEekPzjnnnOLWW2+NckFZ2nvvvSvlp3rrD6affvrY834GG4iIiIiIiIiISG3QQCkiIj1i+eWXj1lHbMygpKOfWYK5NToYLDA+MmPy008/LTbccMOKi9YEg8t0000Xxzmbkq3a6JJ7cCalNDNZ/jHe33zzzcUhhxxSmUW8xRZbFIsssshk5aG/YfYkZZbw6uJVRERERERERKR2aKAUEZFug8FhueWWK9ZYY43KLMJLLrkkXCSWDXONCIZIZnzdfvvtxYQJE4rBgwdXjJA9oTouGjluRDojje/sqQu22mqrOCbPb7bZZsU111xTzDTTTHFPvYDLamZ3MvjgBz/4QdtZERERERERERHpazRQiohIt8HggOEBAyVwfP31139jhmGjsv7664ehcsYZZwyDCjMlu+P+kfjJTaSVSCPlwQcfHPVBGiiZTVkuF/VSNrLOooynu1cREREREREREel7NFCKiEiP+Ld/+7figAMOiA7+GWaYoXjiiSeKxx9/vO1qY8M3MTMU0uAiIp2D0RHDJLMSL7roophp/R//8R/FiBEj2u6oP9L9LOX9888/j2MREREREREREel7NFCKiEi3wRDBjCMMeeutt17xz3/+M34PHz48rje6US+/L49FWhVctQJuUNOYx3EZzr/44ovFoEGDijPPPDN+571HHHFEceihh8ZxPdQLrDlZ5qyzzooyzva9732v7ayIiIiIiIiIiPQ1GihFRGSqGDJkSKxByQykxx57rBg/fnwYLPmdRgoRaUyYDQkMRmDDOFl2d/zMM88USy+9dLHkkksWTz75ZMWgz+9jjjmmOPbYYyv1QD0Y+5n5nYZS3FKPGjUqjqmvcOssIiIiIiIiIiK1QQOliIhMFcyamm666eIYQwRGSgwYzEBMN6ki0hiUZzlyTJmmHFOeOWYwwquvvlocddRRYYRcYYUVipdeeinuz1nVhx12WBguMVAyYxHDJM/qzxmU+e6cLfnmm2+GcZJjjLCzzDJLsemmm8Y9IiIiIiIiIiLS93zr6/7sLRIRkYaHZuTCCy8s9tprrzBOrLjiisVtt91WzDrrrG13iEg9QtnNWY15jBGScpzkb/YffPBBccEFFxQPP/xw8dprr8VsSv7DdQYl/PSnP421JwcOHBhrT0IaN/ub6u/abrvtiltuuSVc2BK+TTbZJGZUZnyIiIiIiIiIiEjf4gxKERGZKujQX3nllWMWEsfjxo2rdPyLSP1SNsZxjMERg2J5jUmMeq+//npxyimnFFtvvXWsMfnyyy9XjJOw+OKLFwcddFDMpMTdK8bKehn/Vq6HMkwYIq+55po4xjiJS2rdu4qIiIiIiIiI1BZnUIqISK/ALMo999wzjtdcc81izJgxYdyoh9lTItI1cMmasx/feOONGGwwevTocInKNYyPGP1yNuLyyy9fnHHGGcUyyywTv3MmZpIzKFPcLF+rJeWZnFtssUVxxx13FF999VX8ZvbkrbfeGsciIiIiIiIiIlIbNFCKiMhUg/tEwHiRBoh11103DBtdNUhUGzZEpPdoz0BYLnMcU44x4rE241VXXVXcfffdYYzM/2KU5J5ll1222GCDDYpVV101jnM2JbOoq8l3tPf+3qT8LQnncksj6Q033FBss802lbqKb3ryySfDLa2IiIiIiIiIiNQODZQiItJrnHXWWcWBBx4YhgA6/ldbbbXi/vvvb7vaOfynr4wXIq1OinvVZQzjIsY6Zhj+7W9/K3bffffigQceKD799NO2OyaBgW///fcvdthhh2KhhRaK5+R/oaO1JrNcd/T+3qJ6jckkz/P+sWPHFkOHDo1z/N5ss82KI488MoyTzKacdtpp2/4lIiIiIiIiIiJ9jQZKERGZKmhGykaHiy++uNhnn30qxosll1yyeOSRRyabXVX9Hyify6YJl5KcS5eTItI5zHjM2YFZBtM1a5avvMZ5jJHMlszZzhjvuJd1Gf/t3/4t9kcccUQY8xZbbLHi73//+zcMefyH/+bzawnfS91CGKBspCyH69133w3Dat5HncKamd///veL6aefvl3jpoiIiIiIiIiI9B0aKEVEpNc577zzwkiZYAy46667ipVXXrkymymNIcA5jtmnMeWxxx4r7rvvvmLEiBGVey6//PJiu+22i98i8k3Khn7ImY0YJClD77zzTvH+++8X559/fvHQQw/F+Zz5iDGS/3MfMw233Xbb2AOGQO6rniWZ5bb6vbWmPIOTY8LCt91+++0xc/Kmm26qfCvb008/XSy++OKV8IuIiIiIiIiISG3RQCkiIr0OhgAMIYsuumgYLtJ4MXjw4GKttdYKQ8hyyy1XMQ4wUwuDAcd33nln8eqrr07mYpL/zjzzzMWpp55a7LLLLm1nRaRMinRZ3tJgyG/K1fXXXx97yidGvHLZZKM8Dhs2rDjmmGOK+eefv2K4S+NfPRnzMux5XA4f+2uvvTa+9dZbb417gHsYLHHFFVcUG220UQyEEBERERERERGR/kEDpYiI9AkYNV544YVi3333LZ599tmKIYR9GhEgjzEcsC+fL894wnXs9ttvH9dEpHOuu+66mDWI+9NRo0ZFeUwwzPGbsrb++utH+cIoucACC8T9afArk0bKeoNvyDrkgw8+iDVwma2dZD3CHje1w4cPL+abb762qyIiIiIiIiIi0l9ooBQRkT7nqKOOKk455ZQ4TkNlZ2BsWHXVVYsVVlihOP744yuGkXo1kojUinIZoJxQnthzjhmDuEEeM2ZMnIeymDfNNNPE/9dZZ51i1113DUPdf/7nf8Z5DHj1SnldzYTvwvD40UcfFY8//ngYYfO7cyAEcULc3HjjjcUmm2wS53kW3ysiIiIiIiIiIv2LBkoREelTMBB8/vnnxYwzzlg8+uijxbhx49qutM8aa6xRLLbYYsW0007bdmYSaXgQaWX+/ve/VwxsGNvefvvtGADwwAMPxPqtlDfKCQZHjJEwYMCAMPjvscceYZycMGFCMdNMM8W1RiJF1jfeeCNmZ99xxx3FyJEj4xykYZJvX3PNNYstttgi1tDkWzFmgm5dRURERERERETqAw2UIiLS53TXuIjhBXA3+dVXX8U+Z41191kizUaWgffeey9mQaYoVzbQsa4rRsnzzjuvmGuuuSrny2DMBP5X72XqrbfeirVpL7vssuKhhx4KgyNuoTHKAkZbvocBDhgmt9lmmzgvIiIiIiIiIiL1iQZKERHpU3IdSQwgGBDS0DgluBeDStm9I01WvRtSRPqSFNsoBxjtWDcyZwWutNJKxc4771xssMEGMQOZ8pPlJctOo5Wha665phg9enS4cCXs1AsYJnNGJHBu4403Lo488shi0UUXDeMs5HfmTNJyfIiIiIiIiIiISP+igVJERPqcNDaKSO+QhsYXX3wxytdSSy3VdqW+6GrZx4jIhrEVt7XHHnts8corr4QRNg2rzKRmwAL7gQMHFuutt16x/vrrxyxSjJYdDX4gDDxD46SIiIiIiIiISP2ggVJERPqcNKaISO+Shj2MdvVKZ0ZK1pN8/fXXi1tuuSX2GCTzfvbAbFBcuWKU3HDDDcMwucQSS8Q1vh3DJNcxUraH9Y+IiIiIiIiISP2hgVJERESkQUnjW70b4TAkMjPy5ZdfLu65557iiSeeKGacccZi/PjxbXdMcsmKURKD5D//+c9w48rM0DXXXLPYdNNNw0DJPWmU5Js///zzimGy2khb73EiIiIiIiIiItLKaKAUERERaQL6wyA3pXfeeuutxb333ls8/fTTxccff1x8+eWXYWAE/lcthuLide655y4WW2yx4vDDDw+jZJmcXZnv5Vn8bi8M/REfIiIiIiIiIiLSNTRQioiIiEiPwGDIbMecvXjjjTcWp512WsyU5BoGR4yIuX5kip3TTDNNXMcYiRFy2LBhxTrrrBP39wYaJ0VERERERERE6hsNlCIiIiLSI3DDmkbFUaNGFZtsskkYH5kpmTMkc4bjD37wg2LZZZcttt122zBMzj///PE/3LXmzEgREREREREREWkNNFCKiIiISI9IMRID5D/+8Y9iwIABccysSdaP/OlPf1qsscYaxZZbbhnXp5tuusrsRvbMvsRAyf29NXtSRERERERERETqHw2UIiIiIk1KGgP7mvJMyjvvvLMYMmRIvDffXQ5H3su58vlahFNEREREREREROoDDZQiIiIi0qekIbJskARcu2qgFBERERERERFpPVzsR0RERERqQrURUuOkiIiIiIiIiEhrooFSRERERERERERERERERGqGLl5FREREREREREREREREpGY4g1JEREREREREREREREREaoYGShERERERERERERERERGpGRooRURERERERERERERERKRmaKAUERERERERERERERERkZqhgVJEREREREREREREREREaoYGShERERERERERERERERGpGRooRURERERERERERERERKRmaKAUERERERERERERERERkZqhgVJEREREREREREREREREaoYGShERERERERERERERERGpGRooRURERERERERERERERKRmaKAUERERERERERERERERkZqhgVJEREREREREREREREREaoYGShERERERERERERERERGpGRooRURERERERERERERERKRmaKAUERERERERERERERERkZqhgVJEREREREREREREREREaoYGShERERERERERERERERGpGRooRURERERERERERERERKRmaKAUERERERERERERERERkZqhgVJEREREREREREREREREaoYGShERERERERERERERERGpGRooRURERERERERERERERKRmaKAUERERERERERERERERkZqhgVJEREREREREREREREREaoYGShERERERERERERERERGpGRooRURERERERERERERERKRmaKAUERERERERERERERERkZqhgVJEREREREREREREREREaoYGShERERERERERERERERGpGRooRURERERERERERERERKRmaKAUERERERERERERERERkZqhgVJEREREREREREREREREaoYGShERERERERERERERERGpGRooRURERERERERERERERKRmaKAUERERERERERERERERkZqhgVJEREREREREREREREREaoYGShERERERERERERERERGpGRooRURERERERERERERERKRmaKAUERERERERERERERERkZqhgVJEREREREREREREREREaoYGShERERERERERERERERGpGRooRURERERERERERERERKRmaKAUERERERERERERERERkZqhgVJERERERERERERERESkl/n666/bjqQaDZQiIiIiIiIiIiIiIiIiPaAzI+S3vvWttiOpRgOliIiIiIiIiIiIiIiISA/AQPn//X//X9sv6SoaKEVERERERERERERERES6CcZJ3bj2DA2UIiIiIiIiIiIiIiIiIj3g//1//9/YpHtooBQRERERERERERERERHpJjmDEgPl//7v/zqbsht8a2JkGVsiIiIiIiIiIiIiIiIi3YC1J//xj38U//znPyvrUP7Hf/xH8X/9X/9X8X//3/937L/1rW/FeZkcDZQiIiIiIiIiIiIiIiIi3SQNlP/P//P/FF9++WUcf/LJJzGTkmvsl1xyyba7pYwGShEREREREREREREREZFOwIXrLbfcUnz66afFfffdF25d2XO+M/7t3/6t2HDDDYv999+/GDRoUJzDNFc9s5LnMeuyVdBAKSIiIiIiIiIiIiIiIjIRZj7ecMMNxbXXXhtGw0cffbSyzmSa1NjjvpV7//3f/z1cvGKIZN8e3MP/+c9FF11UbL/99nHcakbJMhooRURERERERERERERERCbyf/7P/wlDIzMcMSzitjXhXNk4mb9h7bXXbtfYOHbs2HgObmDL/7/ggguKLbfcMv4z3XTTtd3dOmigFBEREREREREREREREZkIMyHLYEbDsLjmmmuGsXKbbbYJo+J2223XdseUufjii4s99thjslmTGDgHDx5cHH300cXKK68cRkzOcU8roIFSREREREREREREREREZCI333xzzHbEiMjakf/xH/8RBsqeghkuDZObb755MWrUqDBElrnjjjuK9ddfv+1Xa6CBUkRERERERERERERERBoSzFwYENPl6tQYE5N8ZtITU1pH/3n++eeL4cOHF/fcc0/8zvt22223cPvaKrTGPFERERERkR7SEyVERERERERERGpHruM4ZsyYtjM9J42T//u//xuzHnsKsybb25ZZZpni+uuvLy688MJi2mmnDZeyhB83sHfeeWfbv5u/P0IDpYiIiIiIiIiIiIiIiDQk11xzTRj4cMt61VVXtZ3tOTkbk2ey5bnubsmXX34Z+3Tryn6GGWYodtlll+LTTz8N1655/wYbbBD7VkADpYiIiIi0BKzxMHr06FBYcgRkKgecgxydyG+O83wZ/uusShEREREREZH+I/V69qzfmPr7xhtvHPupJWc79gbM7IR8XvnZGCZvuummYtNNN60YKXfdddfYN3vfg2tQioiIiEhTkeJtGh9zxGOOfkR5QRHgN8I/i92vuuqqFZcqQ4cOjf33vve9YvXVV4/7uS+Vh/bE51QiRERERERERKRvST0d/vGPfxQzzzxzGCjR29n3lo6O/l8rfX/s2LFhXMWtLH0SfFe5L6IZ0UApIiIiIk1FRwZKKBspgbUeEPrzfPm/KAEYL5dYYoni8MMPL9Zbb724F0NmKijcU0uFRURERERERKTVyYHHGCPxljRs2LDQy3GPyu/eolb6fvZBbLnllhF+votvwnVtMxsom/fLRERERKQlQXlgKxsmUV6YGcm24YYbxp57ctTlNNNMEwoBx7lHEWHk4pNPPhnrQWCsPP744yuKUMK9IiIiIiIiIlIb0PVTf7/vvvtCp2fbeuutK65ee4Na6fvZx7DddtvFO+l3uPHGG6NPIgdSNyPOoBQREZE+ASEKEBYREtsbdZbn2rvWETmqLOnoGWl44l4WI2emXFff0VX4xv/zf/5P26/JyfBkeJ955pnitddeK0499dTi/fffj/C9/PLLxaKLLhr3EcZck0D6j+uvvz7S67rrrit+//vfF+PHj4+0As6TnksttVRx8sknF2ussUacFxEREZH6BbkcelsXEBGpN1qpvsO7Ef0xfCvbv//7v8f57Iuq7iNqFP785z8Xs802W4Qd70233357MWTIkLarzYczKEVERKRPQFBkwzjZkf9/zqXQmIL0lCgbJ/O5GI3Yl0eW5cw5wDjZ1ed3B74vn0sYOM4NXnrppeKcc84pFl544WKFFVYodtlll+K9996L68RL2bipcbL/IV1wocIMyxtuuKF4/vnni88++6x49NFHi0GDBk2WrmuuuWZx0EEHxW8RERERqV/QE9hERJqdVqrvMEjyrQwuZk8fUNmQ14jx8Pnnnxff+c53im233Tb6H/75z3/GLEoGtDcrzqAUkYaEqqtVGlyRRidnEGJMzBFtCSPeMP7gOpN9jnQrGyHLZR2DHgaj6aefvvj+978f5zD0zTXXXPEMjhdaaKE4n1BfsJWf2VukYZRvS2Mj7kBPPPHE4rHHHgshkhFvzMDLGZ2wwAILhLFyv/32i3NsXC8bVaX2tNe2cA6lgLw7bty4Yq211op0z7y6//77F2eeeWYci4iIiEjH9Jcez3uhP94tIiJ9B31KO+20Uxjx0NPZM+i4kaF/6eGHH46+B6CfiO9s1v4iDZQi0pD0l2IjIlNmwoQJxUcffVR88sknxZ133lk899xzMYMRgQoDTxnKcpbn7ook6W4TIS2Ne+w5jzFpySWXjHUDBwwYUOy11159UmcgOD799NPFr371q3jnyJEj4z0YJdnnDE/CRrjmmWeeYt999y223377uJ9z1mf1D2mEkZINI/jhhx9enH766ZH/uHbggQfGbxERERGZnJTxkXf7S+5FL4GZZ5459iIi0hwwcPi73/1u8emnn0b7giekjTfeOPpaGr2fhUHwOViaWaKbbrpp25XmQgOliDQEdPJnBz+kYkNDVHaRKCJ9B8aYNKjlxhqKzHy85557igceeCDuo2xSXrOMVsMzeBbXOeZe7uM3Wz47wSAE+Syu8T+MkQhq1A9QDhvHPCtnLbKNGjUqDJadwX+5N781ScMn1958880wurIOAAZYrgFhQXgshx23rbPOOmu4AsUwyf8zjBkuaSxIb9J5xIgRMVM20x+j5UknnTRZvhERERFpdcpydcrASfl3Wd5uT88vy9jAb+7n+fwXWRzeeeed4u233y7uu+++GEj41ltvxUBJ5LePP/64+NGPfhT3iYg0G/SNZF2YZH1KPUh9yMY9GPGaAer8n/70p5X2Axep2YfU6KyzzjrR1wYsQ3Pbbbc1ZX+DBkoRqWuoonLLxibP57GI9B7tlS2Ufs6zZ+294447LhT8Bx98MK5zDSij2bHAvRges0Mi/w8Ix8wkxCUr27zzzhv3zDfffOG2lf8xA5E977jqqqsqBswM3+67717svffe8TyMgAihb7zxRlx//PHHY4/xlE6JDMsiiywS4a/mq6++CgG2/N28D0Hwb3/7WxghCd8dd9wRQn0ZBHuen50ivIdRbbji4BuXWGKJeC7nM17yPeXvkfqgK+lBGqYh+ogjjijOPvvsSr4fO3Zssfbaa7fdKSIiIiJl+QpZGvkfkKmQnyA71cv3Zqd6XsvfrOf+u9/9LgYN/v73vw99AVkbuZ/ncX/K3DwP+D/XWF+cteFFRJqRcr2asOzMTTfdFAO26dvIevG11177xvI4jQbfe/PNNxdbbrll1PnLLrts8dRTT7VdbXwuvvjiYo899qikGf0O5QE5zYIGShGpa8pVFI0NCg3bjDPOGJUy56obXxHpOZQ5yhVGOzoP6Ai4+uqrY6TW/fffH4IQxhnKX5kshwiIq6++ehgY11xzzWK22WaLToBFF1007slOCf5PR0JHEI4UrulkYLYihqCywZH9zjvvHGsAYuTkmTyb/+Deg3ri1ltvLbbYYot45mabbRbuPsr85S9/Kb797W/HN917771hwLzrrruKF198Md5BPPC8jsQlrg0dOjQWYl9xxRWLOeecs9KBkmFM4ZHvSNevZTLOpf/palqQrtxLGg8aNCg6uwC3wnSS4dJYREREpFWplp3L8tUf//jHYvbZZy/Gjx9f0SmQnTE2IpP/+c9/Lj744IM4RnZGln7hhReKv//97yFzpXyeukLqBqlf5Hl+swdm1xxwwAGhO+Q5EZFmhLrviy++KH77298Wxx57bBgmgXqZOjX7Kp555pnQXxsZ+lgYIM5AYer+a665pth6663brjY+zHZdbLHFKgN0nnzyyWLgwIHRpubWDGigFJGGAcMGRgMqZSpkGlQR6RvoBPj5z39ePPvssxUFH+GH8kdZZI+QxGyxNdZYI4xzCLdZLtsTL/g/5+lsoKMhOyTY8zyusbUnaPEuYBYjbjSZHZkdEcC799lnn2KbbbYJwZQNIZWRdCmAE+7qemP06NExivCKK66I/0D5uUmGl3tYcJ1nHXPMMWF8TYMkwn6O8O5ux0d+t9Q3mb5lyBMzzTRTKIGkI/nEji8RERFpZVKuRyZij7yEjI0cf/TRR8cx57iWx8hY/EZXSJ0DUkYu77k/n83/OeZ+9t/73vfCjevPfvazYvDgwcXKK6/cNO7+RESmBAOzGahNvcfAjjLUnwyuHj58eLH44ou3nW1cXn/99fBalX0+I0eOLDbYYIPJ2olGhgE5W221VWVpoSuvvLLYfvvt41ozfF+igVJEGgZGWqJo0PAw+vG0006LBkhEegeMLwg9KPEYKLPTgA4COgqmn376MEYeeuih4Tqju/Cs7FiYWpjpiLuLSy65ZDJjIgIaI6P5hh133LFiVGRWJG5X+c16NNdee224AuFaQtgII8/A2IjAzmjrddddN0blZedJVyh/Z299c71AHBJHGV/AMcoPStDDDz8cxjr2P/7xjyPe9tprr2/EQ/n/SSPGFeWG/MYIVGbwMqOS2cbQm3leREREpB5pT57jHFsaG5G9d9hhh/AygbtBSDmJPbI3MiZ7ziFfZecr19mnzI8egszJnpklPG+uueaKYzyopJyaMlju+xL6KPjOBGMpOgTyMOF/9dVX23WlWIuwiUjtoLyz/MyAAQPazvwL6oV0cd0bZB2Ku+vjjz8+3Ljymzowr7Mx+GPzzTcv1l9//aiXZphhhriO8avRPf/ceOONMWOS7wQ8ZM0yyyyVuMl9o0LbgkezXXfdNdIR713lfqz8tkb+RtBAKSINA1PZmaVFxbvTTjuFYSKVFhGZOihLzErMWZD8TiEHQfYXv/hFzFxOhb+aKYkT+Z+O7uN6V0USOiyyA4BwMkpuxIgRxSuvvBIdF/msFP5Zw3KjjTYKF66sGcgi6tyDsAd8LxuzIRdYYIGYIck384ycMZfP7GoY83uhfNwsZN2LUoNL0wceeCDW/sSwnRCnxFfmJWazXnfddaGYZZxW06hxhUGSBezJfyh5rF3am8qniIiISKOAPJT6BPIiHcjp5SRlaeQlOsq5ziBkDI4slcB5ZPQf/OAHMTiSjn48VfDM5ZZbLvY5GzLf0x68p1ZyZeoLCS4GMcbyvYAxgIFsCy64YPwWkeamXDdRF1FH8LujvpQp0Z5hk+fiJvuEE04IXZwlbnh2+fnUQZdeemkM3ObdSdZN1fc3Igxa33vvvSOOmRk6ZsyYtiv/opbtQW+RbSWwVugyyywT+QAPZgy+76z9a0Q0UIpIXTClBoPruJu84IIL4j6EeyppEZl6EFApV4w4phMgOf3002O2crlsUhbLLlqrhaKOxIp8RmfXO7qWlMNRhvAjkOL24swzz4zBDNzLCGzWzlxvvfWKX/7yl8Vxxx0XQl2+i426BOMm93C+o3dwb0fXWhGMvbjoIq7JBxk3GYfkC9IERZp2TwoAAP/0SURBVIiNPEMcMrL9ueeei/zTXno3Yhzn92OgZHYuYAg/+eST41hERESkFUGveP/99ytuBJGXkLlxLbjIIouEjIgcn7pF7qsNfsiMeS4HGGZnPedz1mVf0FUdgPvQO1gz/7HHHotvSxmRDvTttttushmWItJcpG5LnVY2TlJvURdgKGTgQneNSuX6MOtLJmxUe4NKnRs23HDD4qijjirmn3/+GCDB+7medVmGFfqq7qwV6OD0TfB955xzTrHHHnu0+01drcvrDdKOjb46+rJoR9g3G047EpGGgIaEEZRAw4JiQiUtIlMPwtyvf/3rcMtJWcOHP+XswAMPjN/VAiwCMjPn2hOuud7elrR3ja2za7mVqQ4TnRTMknziiSdCWMcFBiOV6QRBqMdYlCMPca/ESENckrJmAWsUJOXn8j8oC/5c787WbBx88MHRCcToRGZMEjfEP+f4Xo5zPdDDDjusOPXUU0Mx4jrg3mr33XeP/5XjtZGhHFCGKC/AMUbv7EBLmjE/iIiIiFSTejqzIZGJUo5HVmc2JQPWcvAachMdrtyDjoF8WJaZUr5MIySyfMqVwHH1f2rN4YcfHkYAvIU89dRTcY5vYQkAlqXYdtttK0YKEWlOqJ/Y0A2pkyZMmBDeg/jN+fZm9nWFrDvwVLTnnnvGDPLRo0dHXwXn2aj/qF/xHMW7b7/99mKppZaquHLNsNEfwv9SD+dco/PQQw/F92c70tE3cb4/24meQv4hjVmuCGg7cekL2V/VDGigFJF+g8YhN8hGsiugiLRnHBGR7kMZRJhlT9lipnK1Ap3lNOnvtQrKgmceZ53AovAXXXRRjNZGaGMkMy5P6ADZZJNNwhUsHQllNyntCbIoA8D/OhJ0m5Wsj1FiGJG4/PLLRxycddZZER/kB+KHc4MHD44R4/yH+H766adjjWBmWGKoZCTjT37yk7g38xr3kF78rs5bjQpKw6qrrtr2q4h1QKrLkYiIiEizg6wIdKizJhpw7tZbb61cy077arieMiLkPfk/KPcDcL2jZ00tGQZk3JTpUnZFl2ANTN6NpxauIwcTDvSp888/v3jkkUfCGIvOkeEUkeYnZzKyHiJQZ+DSuj0Y1Jp1TQ5wLeuQHG+xxRZR3zALE3JgORuDs1leBB27vBZjmawfc4BHX9WZtYT6Fhe3GWcMoF999dXjuCMa9Zvpe2OAONAePfvss3HcTH0NGihFpF+g0aQxefHFF6OR4HdZ6WgPOrtFpPdBqGNmG6POcLfEWpPNokBjRHvvvffiGAGOtSUR6qq/j3oot/ZoT9BvRtLImMIusyBxm8JsVOKG81xfaaWVwnDJbzpfUmAmnnID4n+FFVYIV8EoQ9TznMu1KjuL80Zk//33jzhktCqzdrNdy/holXwkIiIirUvKdrfccktF5sblIDoH+gayUme6f3ael+XK9jbo6HxntPef9raEsGJwQO7FMMlvjJIsWwCElW8bNGhQcf3118cxa76JSGtCPYcxEHfP1B3ov8x8bK+PJevEPAb+w+zLoUOHhie5O+64I+5h47kMumaWJL833XTTuIfnUzd1pFtnvdaouneG/8svv4zf9C2w3Ey2F8TLPPPME9eaDfpfcu1lvjMH/uS5ZkADpYj0C1SwLHKP2wHWhUsFJTvFq+F+GutGbUxF6pkzzjijIvChTCPoclxN3tPZVm/wLd///vcrdQzr4FiPdEzG02WXXRYCL65/SVfqX/bMlmT/4IMPFqusskrcCx3FKfHPM1lvg/U+qeOZlZmj/poNFq0njhjVSpxl2RIRERFpJZD5WBseWRBYnzvlSWgkeZxvwEAwyyyzhJeQNDLwLXhsOfbYY8MwyfIHGA4gZ/WISHPTnq6X/SnovdQXGBznmGOOyvkynMs6hSVomAmJ7ky/DAOCqUuoT9HNWZoGoxyusnOZGurS6vqUd5S3ZoHvJB7yuwYMGFA5Lnsyajb4PmbjA/nhnnvuibzSTGigFJGag7GREUQ01nRcn3jiiRUBvr0RRUCFzCL7jaTIiDQClMdcYJ2Nkb85Ci1p5HJHHZPfxjHfkt+T59vbUtBNWqXuQdC94oorikMOOWSyjhUGk3z22WfFww8/HPHSXnyU4ytJgyeKRI4kJ3/dcMMN4Xa32aDjDdcyjOikbOEumfyU+a5V8pGIiIi0LshA2amOfIhcxBrl0JEc2R5l+am9raN7pkR7/+lsQz7eaaedYgBayrsYXOnPeP7554tjjjmmYphMkAlFpDUo68HofujAuOW86667wjhJfYA+nLpxGepK/o/hkfVqMU7SP0M9St3DNdzDfvLJJ3GeQRHVz2nvuc0GdTHktxKvrOtJfDOrEDguU06XRob8M//888cx8cB3pUeqZqH5c7CI1B0YJ6lU11tvvahYUVxOOeWUuNZeA0IjQ4XMPq9/+OGHsReRqQNjUSrQdB7MPffcUUbLNLpghxBPnUMdgltpSOGV8+1tSfW3d3Zvmc6u1TMI/Cy+nwNCWHuSzhdGhJMvqK/Lgn85fvKbyxvXc7/vvvuGYM0z2HBF02ygYB500EHhKplvpq268MIL266KiIiIND/IQMw4zE5jPEwgDwKyZh43ChgZkI2RgXPQ3gknnBC6U8rF1fqTSFlPSto7J41N6r1JGtBYfzLrBfTpnAFXBp34kksuKTbeeOMYKM46vUC9MvvssxfDhg2LgREYJum3yToVOqpHmz2P5SBq+rAmTJgQx5ybddZZm9ZQS5qS9iyrk+lOX0q5X6bR0UApIv0CDchPf/rTtl9FuPvrqCHNRmbGGWeMPfD/bJhEpOdQvl5++eUQdBCcy+Us6Uj4bRQQ5rN++e1vfxv7rtLo395dyooPLlwxTGYc0AnDxj15rivxU75nmWWWqfxmXctmA0WJ+BsxYkT8Rmk477zzYgQsx3ZKiIiISLODPPTGG2+E/AObbbZZ7KErsmO9kWtNwsEHH1yRh9PY2ojfJH1POV+kDmBeaX4yrd99991KHYg71mo9EN1w8803j0G8DOggb1CnUH9eeeWVxR/+8IcY6DrddNPF7EvqnK7Q7HmM+OEbiT+8OwFxi4vXZjLYlcl8RF4A4mD8+PFx3CxooBSRfofGduzYsXHcWWNKY8PsrjwWkd4BYz9CXbpeaib4rjXXXLMyc5vRz3wvwn+5U6GjrSv09H/1CGG/6KKLYoY760wyqpN4Ih6nZJjMb+9sawWIJxQkjLEoD2+++WZx8cUXV/KbiIiISLODgRKdHdlniSWWaDvbmCAPA9+CLlE2FNgv0bpUG5w6Qx2gtaBeQA9kTz5hIDj9nrhs5dzll18e9cioUaOinyLzEue5B1ev1DszzzxznAfu4b9dqXNaIb/RxhCvfCsbRrzulMlGBG8E6dWKvoU0XDYDGihFpF+g4WBWCWSjguvFKVWwNOoJM3tEZOpIl6cIOKl8NxPULWX3S//1X/8V+1rQqAIyCtGdd94ZxwjAXR2t2RnEBRuz5ZNll1227ai54DvJc6xFSZvGjErWoqRDS0RERKTZoYM9QRb/8Y9/3ParMSm7Vcxj5D10J706STWNqgNK70G9h96b607mDMrrr78+6pBddtklzgP1yFprrRX9ottss038l3vzesJ5zrFx3OqwBmXGA7o3LnKbFYzdX375ZfRp0b6SZ7KfoVnQQCkiNYdKldEuVKx0fufMJtxM0rC0Rwp5s8wyS+xFpHeg/CHkUsYogwm/s9wBZbQrW71QDjvfx2w29hiJmNHWlZGHXSXfVR1njQhx1B7dSduMh3Ic5/Fbb71ViaPqvNOdd9Qz+S0nnXRSKBMoD6+//nq4B+vNfCciIiJSj9Ap/7vf/S6OkX3SLV2jkrIdMuxXX30Vx3wXcvO0007bdpe0Esj35IMkB9rnefJHo+uF0nPIAwyMzhmTf/7zn4ull1662HnnnSuDwjk/cODAcFN62223TTYwmH05f/UE/t/e1ix8/PHHle+hLl5ooYW+8X38bpZySP6gvcn+mo8++ijyULOggVJEag4VKkoLHbeMemHUIRXrLbfcUhHsRKQ2zDfffG1Hk0YEl8tgowqwZSE0hTb21D0oBNQ7Kdj1BhlP7Bs1znqTcnwAeYr4L6cLLlBbQWk/6qijKvni6KOPjnyXI+3ttBAREZFmJdcaR/bpTbm7Pyh7E+kNzyLS+GAsAPQcZHoG2ucAfEDnTF2I6wySVfZvLcaNGxd76r/jjjuueOGFF+I3YEzDIxznlltuuegfNX90j0ceeaTtaFK/A2WuWeOQeoY6hiWZsg165513KsbuZkADpYjUHBqNOeecM4wEZQH/3nvvbaoRICKNQLqFYE/Z/PDDDytulxtVwEuDEGSHCIJ/Gl9feeWV2Pc2jz76aNuRxqdyGqCoIzwzixBIE661QgfPAQccEHkBheLJJ58s7rvvvhicIyIiItKsIPsg/6FfNPr6k/D973+/7aiIGZTSmpCvc0vDAHozM+BYO/DKK68sLr300uLII48Mj2ETJkyI/i3yTOo/0vxkOjMoFX23eqDu8OHDY5kdXJJynnvK7kql62S8LrbYYpPFcR6XzzUy1B/kEdrV7NMiX+WAiGZAA6WI1Bwa3vIMSkgjQtnFpIjUBtYCZMQnAhyCdBotm0kBTyUSBQCFsbeF1WOOOaZYc801wxD1xBNPRD2nkvEvyF/EO+Dmizq/FQakUJZw9Zqzdn/5y19GXnQwjoiIiDQr77//fkWvaIYZHrPPPnvbUVF8+umnsVfObz1Sv2M7++yziw033LCYeeaZi5/97GfFXnvtVey5557FrrvuWowYMSIM8+QbXDJuvfXWxWmnndb2FGlGqO9yQ++lH4V+h+xzQCdkyRnO41UHw1Lqg+iI/M57ZcoQx9mXDAsvvHDEd7PWy3wbG/3oCTMomwkNlCJSc7LhRmGhMz87qmlMsgNbRGoH5RAoh7gi+Z//+Z/43dl6MY0kQBPWpZZaKo7zG9n39BuyDkvoeBk5cmSlE+b+++9vu9LaZDwRJzPOOGPED/U9Lo522223Hsd/I4GySQdFfiuzbFEuiJNmVaBERESktaHzGFknZcFG5y9/+Uvb0aSO4laQYeWbkKfXX3/90GcOPPDA4o477ohz/EbPSdKImQaUUaNGhYtPzpXdfIJ5qTnINGfDiIRhesiQIZG+1BmHH354uL0uG5iq4b/SNTD4ZnwRx/Q1EM+UxSTL1hdffBH7Ri9rfNsPf/jDtl+T+rWYwd0saKAUkZpBg8CWM0lWWmmlytpkQANz9dVXx7GI1I5ZZpkl9pRLjJXf/va343dnNIoATZ2DwrjIIotUfvOdCLB8Q9ZLbF2F/5W/n2cxIzxdbOCuutXJ+Mz6HcXg2muvjfPE1fzzzx/x1gqw3iazlIkLOjFOOOGEpnLHIiIiIlLmrbfeqhhu0PkbnbJ7fvovqnUBaW6Q4VmqAT157Nixoc8gy5MvUqfEGDV06NDiggsuKI4//vhim222CX2Ha5QD4H50glyfNZdVkeYiXXCussoqkVeoC1nmA5e/0rsQv5TB7HOA7IdIZphhhraj5iC9nb322muV42ZAA6WI1BwEtOqRHpyjIcnGXERqA+UOhSq57bbbQsjjfHkkaKOC0ocyOHDgwFAkqWuefvrp+D6Uhd6AZ+Hmh/orn5/nWxXiPRVy4nnAgAGxkH3W9T/5yU/a7mxO+MbcyHcYJbMD4oEHHog9tHIeERERkeaE5Q6SZpB1pp9++rajIjyBSOux4oorhh4DyPSrr756GCvp18Jt55gxY8Kjzh577BEuPFmPknUGGaT53HPPFXPNNVfFm8zKK69cPPvss6Gjqgs0HzkQlf4HIL889dRTxemnnx6/q0kdUXoGxskVVlih7de/+iGgXL7KLmEbmXnmmSf2fGPZMNvoaKAUkZqRDQXGj+qRHvym8UB4E5HakgId5ROXTDmaszxauJHJ78oZ2+W6KI/Zegr/XW655WLtA+qxdI2rwjkpbshHN954Y/zG3Q1rdRJHzRw/1flq0KBBle99/PHHo4OitwzkIiIiIvUEMk7OallrrbXazjYuZZ0IGa5azpPm5tJLL419GgMwNmGMxEgJabhMMl/Qx0U5YLmH9957r1hyySVDHyUPsdwF9zWTi0b5F6n3HXPMMZX8cdJJJxXHHntsHFdjv0HPwSBM/NHupH7Nfvfddy922WWXYqeddort5z//eZTlP/3pT3FPo0I9RJ6ibsmlmZoBDZQiUnNoPKhUcXuRMOoMENi4bgMtUjtQjhBwgDXyck3KRqa6DuH7Fl988RDmuDZ+/Pi2K1NHKqo8f4cddohjFE2Uj2pltRUhrlHCs25nFDHxwpZx1wqw3sgyyywTx5Q3OjayzBEv1flVREREpFFBxkHOQ+ZJPb/RSVkNubZZaG+wnDLpN0m3ruRnXL3ipjUH3Kc8PyVS/sfdJMevvPJKGK9ytp00F6QxA3Jx98tg8OyDOOWUU+L3uHHj4hz3QerF7ZVJ+SbMhsw4o05m1j5lMcsjg6Ivv/zy4qqrrorZzOwxTjIw4Lvf/W7E/UILLRTngWc0StyzdBHfThw009JC9pyJSM3JNSirF4imcWbDcEAnNg24ArJI30KZozymixmEutdffz2OG11Azm9AgMNoiDsdjK98L+d7s37hmRig8p2jR49uu9LakL+I8yuuuCJ+czxs2LBIE+KM+OrNdKhXaPeYQcA30xFBvGC0hWz7RERERJoBDDFJyjtSX6CvYGRDB3zssccqM/mUSTsGnSXXj+xJPKEPsNQDz0EnYAmIrho4pXEhnZlFC5Q7+jv333//yYxLmQ/MD10DfRqvTMkLL7zQdjQJ+hrYsp+BeM1j9mzvvvtusfPOO0e/9M0339wwcY+76KQZJhYkGihFpN+YY445Yl/dOYuvfhoTyEZERPqOBRZYIIRmBGZ49dVXY9/IZJ2SgibKd7pn4lpffCNuXhNHw/4LFHDW5aSDCsV8scUWa5m6nTLFxvc++OCDsec3+dI8IiIiIs1IWc5bdNFF246knmDJAdKJfhcMKMx0TV1QJueggw6KmY+AYenhhx8OfZL4686MWmZ14dEn9QFgRqY0N7nmKH0FpDtl7qWXXirWX3/9cPtaXtc29cZyHSrfhH6FsuttlvPJOKNMvvbaazE7ko1+n4suuqi45JJLwuUr/V7o4Twj02PbbbeNmdHNMuO/EdFAKSI1h85qQEDjOA2UudGBnS4z8l4R6VtyHViENMogZbHRR/DxDblHCMUwxrfxjQiteX1qoI5CuEWw5R24CiEuEYR5jxQxI5d4h1VWWaWYb775Knkst2aDskSeoAzxfSildEBkGcO1D8fN+O0iIiLS2uANKVlwwQXbjqReQEbNfpiUTWeaaSb7Xjpg8ODBxYorrhjHzLZi7UnkeuKvbCTpiDRiEtfczzOIa3THMWPGxDVpbtB9yTOHH374ZLOVjz766OLXv/51xUhZ7n8hv0j7UHbKMyiZ5JJ6Ndfmn3/+MDqy0T+z4447hnHy4osvjtmWlElmUGKUpC+HeKd/aL/99otn1DM/+clP2o6aa1C8rY+I9AsIxYwea4/rr78+OvhpYLozIk1Ees7WW29dUVRvuummtrPNA9+22mqrVQR91inoLXCtQbxRr2255ZYh5KJ4MBpZihghilKGMp6upNIg3hd09lzSKOlLpY/8QJ7jHWwon2msHDRoUJzjWERERKTZePPNNysykEav+iQHbZJGgP6ibNoxyPLoMPRPoU+su+66FVfGUxrUm0bMjN/vfOc78R/iHMOwND9pSBoxYkTx6KOPRl9oDuDNdSrvu+++Sr1JXmEr664yOdRfaehnI67Ysk6rJuM2t7nnnjvK8NVXXx39OZRHZlnmc+oV1jble/mGN954o+1s46OkIFIjshKUfwlmHYGwljOPujIirVExP0g9kMIXQlluzSYMp4D/7W9/u1L/UP56awBEPh8BGSNclu2777479q3OddddF3GC6xUMuIAC0FdkGidpMIZad5IRFlxo4eKWMkWbhuG6OowiIiIizQJyHzo9HalSnyCLorcA+l/2u1TrgPZZTGLhhRcOwxKGAfL2l19+GUalc889d7IZkl3RoSkX6U0mjVTSOqy00kqRl5hdnnkBQ9N6661XDB8+vKKvpgHOMtgxOQOSsnT77bd3qutzT3sbsyxZ8oj4pmxjMOY5lOXsl64nCBt5ptxv3gxooBSpEVR8MokpxcUjjzwSjQyd2fXO1AgL5gmpJ8rrw7CuRmfCXaOC4k2ZpezhcrMvBkCwLgkgMKZRLGlV5SIVdeJ9m222iWPip6/rwBTYUfguv/zy4le/+lV0IGQnQi3qYL79yCOPjI4f0h+FlM36X0RERJoZ5J4555yz7ZfUG3Rw0+dCOrFn7TVk5LIO2Kq6S3sw0xFjyP333x/xgp6BPH/ooYcWm222WcW40RUduqx3E/fSerCmKUvCHHzwwcXAgQNDZyQvYKAcOnRocfPNN0cZJa+RzyyL/yLjgrK2/PLLxzHlD1e5PYkv4n2vvfaqGCTx9JRQpuuNH/7whzFQgrD+7ne/azvb+GigFKkhdkhOohwP7TUcVLaM5qMxqMeGmDBluOoxfCLdIZUoRvAhBLOhnLJuYLODUNfbUL8tueSS8ezx48e3nW1tcFdDvJDXsv7vq/Ywlfx777232HXXXeOdpMc+++wTHQiMck5FIw2nfQnuoFhvhPxAWA477LBKmRMREWkm1IukDAMBp5122rZfUm+wrmLqQgwQRz6tHryJvN5XMnsjkXUbcbHccsvFQPp11lmnotugd5x99tlxviv6xTzzzFMZvGj8th4MBkiOO+644pxzzqksf0WeGD16dDFs2LBiq622quQP9raxkyjHySmnnFKJm+eee67S79Ad6H9+7LHHKsuMsVGO61VnJ3z02RG+ZsoT9pCI9AFUErklORpDJkFlWjZAEj+55awjKt1sXLIC5np/kw0WlMNP+vKbRhG3AHRMMwLqmGOOKW688cZvpH89fItIgmD2s5/9LPIwZe2OO+5ou9JcrLXWWrHnO99555047k2IO0ZB5jHlP8n6rBUhvqkDiQOOezMuqEtZ7P6kk06KPEy8r7322uFalvfwXu7hvZtuumlcz3zeW/C8MoyIpePi9NNPj84e2rWzzjqrWGqppdruEBERaT4Y5Mb6agw2zQE60lowyBG5iEFjP/jBD9rONjbk65Rd+8IDS61BBuY72LJPBuNatTwrkyjrLejMbLfeemtxwQUXRFxynfxOvdcV/YL/A/fOO++8cSytQ9n1NXln0KBBxfPPP1/ccMMNxY9+9KPKDL7bbrst8si1114bZZN72Ze3Vob4wNBP/w5xQRnEYxLH5TLbERl/7F9++eXoL+B/2V9Qryy99NIRTja8gmW/cqPnBw2UIr0IFUJWCllhJFRw9TojsL9glEpCXDGDK2EUX464pMLF4HfUUUfVTfzlDJycrQPjxo0LYZMGkpFQdJazP+2002LdtVlnnTVG3L322mtxfz03etI6lOuslVdeOfJ2juhsRrJe5vvKoxd7kx122CEUft7BWghJq3fSbbjhhrEvt43tQTxRt2b9Wh1vn332WfHSSy8VZ555ZtSp1LsY/n7xi1/Eeo+p9NOZRH5mzZj99tuveOKJJ0LpgymFYUqQtmxp+CyfwzCK4nDPPffEecJPWPfYY49i5plnjnMiIiLNyJ/+9KcYWMrAHNZcph0u60vS/Lz11lttR/8yxDQ62QEMzaTD47I05Ww6uqXrYETaZZddQi8ZMWJEccABB0Rdl3pBZ1AuqCfRuauXBJHWoFoXJe9sscUWxccff1zstttu0Xaycd92220XuuXFF18c+YVzU6vLNgMZD3hJmn766aNuZm1PZlJ2B57B4GLqQspkuiav7oOoF3LtYMKXbrmpd6hT6jXMXcHecZE+IBuLP/7xj1FB/PnPf44KI0dktDop4FOB0ugSNzQorBOWsAYecC+GPraTTz65SwJfX8B7cyt3SNM4TJgwoVhttdViy28jnTGwYqSg0UCA5b5nnnmmWGyxxcJXOscsri5SL6yyyioVQYdBAs0I5TTL79NPPx37/N1bMAqSZyIsMiCBsg/Ud60G3088sI0ZMyaUKrasK9uDeCIffvLJJ7Hn95tvvlmceuqp0ZHCYI8llliiOOSQQ2K0abneTQGddR4ZCUleRuFgNOUKK6xQuW9q4Rn5PsDYTRu28cYbhxLJN2bnA+FmbdJm6aQTERFpj7I8RRtJ28g5OvykNSjLd6Q9A8PK+aJRQZ5MmmEGJSBjY/RIOZ20o9w2Q3rVgvJgyj333DPkfLau6BnENffyf+tHgXK9grvgt99+u1hmmWWiH5Hyibeg3XffPQblUnbpX+hKXmsF6MNC96dcUaaIv4S46gjqOq6juwP/32abbSo6e7323ZDu2dZ+8MEH8Q18C/mkkfubNFCK9CJUFFlZUDEyRR+B47vf/W6cT8FPisrIH6AyxVCHsa+6A5dr6SKRRrv6en+R6YjRlBkxzNohfHwTBpATTzyxOPDAA6NDnoWv6ZwuCx0YRpitxnWVAKkXUqghH5MvU+lqJnIGG8L+/fffH8e9CfGGi6Sdd945fhOX6XqjFet/3BYRB2wIz7PPPnusq4HhriO4D4Mk6cMMSf7LDHvcZqOc8d/Mo2y0CyhrXGcUMxuDXPhP1q8prPO/3oS2i2cyU5ZZ/qNGjaq8i/KDi1fqf8JBuyciItLMzDbbbKH/0u499dRT0RZmWyzND2lNx3pCXuht2as/KMvwjdwBXAa9j4F/+W05QFy6Bn072b/DnngsG7I74/333w99hvIx99xzt52VVqW6jaTdJF/Qx3jVVVfF+pTZ14gLbVzEMpi8GftqesrPf/7ziEfq5+uvvz76DKCz+poyyKxU7s/7eE7ZqFmv8sv8888fYaYep6+JvNDobZMGSpE+gIaDioLZHWmUTL/h/G51iB+MAywmTpzwOwW6VGBwjce5/M2ehiI7ePN8rchwsiccbKQvHeJ5nfDjXoBO9cMPPzzWn1x11VVjj6tXwo6rWmZP8ix+s/j1kUceOVkjKFJLymUJY1BZSW10Iac9GCk8wwwzhED6xRdftJ2dRG8J+Qy2oD7IeoP6gONc2yW3ZqT6u1CmcHmag0s+/fTTqPdY22HkyJHF9ttvH7832WSTyrot/AeDI6MZceXKOfIiG3Ul78i6FUMmBklcuVC/0rawcS/v7Iu2IssI4MaMdS+33XbbWLeVd5KPWAPzyiuvjJGuhJ/6nnCJiIg0Iynb0A7SLmd72CwGKumclP+QeZDVSHPkpfISLo1M5m9olvzMd8w444xxzLcxoCDTTroHcZY6TEeU8xDeXTjmfyxFIa1NdZlLvZk8tdlmm4XnNQY/5330MwwdOrQ49thjiw8//LDSR1rWUVuNddZZp1h99dUr/aqDBw+OfVLdz0O/DMuv4JqZeKPssjQXxuByelSnTb3w05/+tJLemf6NjpYSkT6ACoLOfTrAqTRoYFiDMAUSmRwqfTbiKmfGZGXLuo40zMQdjU2ODKEjG4W3twwKnZFhYZ+CJQbHc845J45JXww7jGJi/YFqCCdhJqzMsOGbllxyyYrg8ctf/jLWToN8l4j0DXSUUEdTnzzwwANtZyeRZbKnZB3PfqeddoqyT5lmlh17RjtmfcfWjFR/F79RrC677LK2M5O48847w0jJ4J2bb745ZiCSLsRd1oOkERuGvYEDB8ZgDty2ZtpRn84333xxnf+w1SJeaZNQagg7M/wfeuihyDuEnbChMOJSFgNrrqVMmyUiItKs0IZnG8xgMNpk2kXazGaVeeSbkNbZWUraIws3A+WZcZ0ZoRoJZFlcIwJllT4K5FjpOygf1I0sC0GcY5xMI7FIR1CXnn/++TEwFyNc9lnQ98gg2d/+9reVpaNq0T9ab1CuiKO777674pWPeKCPFihrnMs+BrzZ4T6XQdRc4/877rhjGCvpj+ZZUnuMdZE+gErxlVdeqShjuPzEQGVF1znEFw1EbtnQZIPCMXGbndZcz8a5L8l0Y0860il+xhlnVMKFv3M6qHHZWibDnzN58hs4zzR8XMAmCBeMgBLpb1injzwKTzzxROybCcpjzrLjO7MuyXqnN+A5rJGIgAu48ak2hrYS1HsY7TBEMlOSjp2su9OoSJyV68sNNtgg1nPEjc3nn38ea00ykIM1fFHAyspX/jfr176EDirCtNFGG4UR+r777ot3cn7IkCHhhgf37unattyhJSIi0qygo2U7TDue7TsDi6T5QRbLzl/WEE/DJF5L8nwjU/a6woDDZoBySrrRUQ/I4M1iUK5HUkcZP3586AfEPwMtSQORroB+ibe2Sy65pOKZBy9CGLrxTEQb3Ir5iX4B2hm+nbWvKV+UtxdffLGYfvrpY9DwueeeW5x11lkxUQSPdujzxCH9NcxOZVmW7IeQ/kFriUgfQAWJAYpKkUYiKzk6wnNEoUwOccWWDSp7fj/22GPxm7ij0cGXOA0HYBjsawhHNnbAmpM0XjnTB6Pkgw8+GNcgw53fkv8rd1Ln9VNOOSVcEuYMG9atZDSdSH9D/mxWqJNRxHOk/0cffRR1NsdpUOwpWbZTOdhqq62i/uf5rCHRCvV/1nllqL/puGTG5C233BIjtq+44ori6quvDqMlihWuXLmPNKC+ZEYlihYzXonPMnR2YeRMI2W+sxYdYIT3iCOOiEEpvC/DwAzRk046KRbW51tzdH3uy+2BiIhIs0HbniBn0ebRMchMBWkNUs5B3kV2Q04iDyDfNTplHaFZOrDpU8l+CPQX0o9ZlMqrvU/GKXoD/T0YRjhO7zrNjPlp6kkdN/MKS6RgpMQdada1u+66a3gbasX4pk4mHqjTaH/wbJdGSgyWN910UyzPddBBB8WgqexbwB093uzOPvvs0N+BuDTP9g8aKEX6ACpIKrZsLJhVkXDNCm9yiI/caESyYeE3ndTsOce1RRZZpHJfLcj3sD/hhBNi9mSGZ7/99osRTJAjmIDrGcb8fyoynC+De8B99tknjrmGG0OEVRtG6S/WXHPN2JP/coBAs7HFFltUBFPWu83ymfveACH34IMPrnTK4NI0RyU3c9lur24mrqvPY7zFmIfRktmmzIwkXjrboPw74zOfnWnal+BGZ+zYsaH0kLa8k4EzuIVhsXrIsFbTXtyIiIg0A9m5RxtIe4duhAeECRMmTDZQU5qTsqyHHpudw8jWtZDP+hr0c/R/aLZZhnTcp2w9ZswY5dU+hDjGIEL5oFzsueeeTWHAT/ei7elA5XOUIzbpHtV1KH2l6KTXXHNNxWsTG17ZMMJRByet1v4iezCJhNmTuJunDaKMZZkD4of4I2/SX4P8Uu5/7es6sL1yIhooRfoEKsAUxsszKYBzCn0dQ2VN/DHlHuElZxTS4HKNjmCoZaVOOB599NEwJgLKCcfMeCSs1WEhfctpXL7eXtozk5KGlPvYcDnAO2v5jSIJ6xqQxxHSyrODmwmEVToXKGMo4nSgQW8K8NT1DKhYdNFFoz149dVXK25es6y3QhnvzW+sflZH9WxfkgoMI54vvfTSUMhxq0NYcqBKe/V8e+dERESahezco71juQB0GY6ZydCbA8BE+gNmCKchKWcdNgt4JkFvofzi1SS/U3oP4pY6kX5B+rmIb+rMpZZaqqHjO/WvdHtcrY/lb76Vzbagd8jyiqchvBLhtjS54IILYqkU8huQ56rTpZnhWylT6Of0ZdH/gge88pbenNjT/1Pu062Fzm6/QPtooBTpA+jcp0FgZAt7Kjwqvhx1J51Dg4uQQ2PKlHzijQYDZaA/hBqEqVxHFFg8+bDDDovznCs3MD1tbK699tr4Pr757bffjvUoiQeRWoOAy4AA8l/ZnVGzQH3MTGX2lGHWEMyyXR5M0hsQh2eeeWbbryLqDd7LeeoK3i+NBR031Ne4cWcNStJSZVtERFqdsmyz7LLLhmzFwB30YeUdaXTIz+RxaBb9KA0Ya6+9dpRRyivflnqR9B7ENfoCfVqZl6gnobf1z1rDN7GRh/iu7P/kN97Q8DwDXOOcetPUQxzS3rKxjumVV15ZHHroocWMM84Y51iKZKONNqqU8TS+tQJ8P2WMOKJOW2655Yp99913so3z3MfA43Jc1isdpV+zpau93yJ9RI5iodK44447XHC8GyC4MJolZywizNDIYKzsD4VgnXXWiQaLcGGoPO200yI9uzt6srMGBAECwyeGbL7z1FNPDbcEIrUGgY3yRh5nHZJmIzsXhg4dGntgBB2KVF/AWrmMboTx48fHbGzqErADYOrIOrWWSsW8885bbL311qEMko7ZtjebgiAiItITkLNmm2226BjNWWfKO9LokJeR+8jf6c640aFjPvUfZvLxfazPpkzbuxCf6NdA/BLP1I8sb9HopA7GRtngu957771i3XXXjQkHLKuyySabVNbul96F8kv/4UILLVRsueWWsTYl0OamkTLrLfJhq5Tt9IrFnnqO7y9vZTLv1qovQTpGA6VIH5FCCA0CDQSNh8Je16BxyJEskIIzDUct4jCFRt7LupNPPfVUhIV349YVqhu2Mtzb2dYePI9O78GDB8d76fT++c9/3nZ1Egp1UivIa80+6/u4446LPeX67rvvjm/lOLfeguem21xGyFIH5ECL3nxPvVJd//X2Vmto20k30jPf3wrpKCIi0lXKetLTTz/ddiTSuLAcBPkaHQmXqM1C6noDBgyIPTTrEh/9RVlfYbmirB9zzyzz3qQv9JKciVcm++gI//PPPx9GScoGxrL777+/8l18Z94LlCF1p94h+xcAl6ZMcmBNWfoamPRwzz33FOutt15cJ95bJe6JE76zO7OT+7N/oSP4hkwv0q5MLoXGdcJcfb0R0UAp0kewxlmSMyipOMqNs7QPlSwCDSMVIRvScgXdl/AODKTHH398GDFyBA6/0xVHXzRczMzZf//94xghEBeCRx11VPwGhDsEDZG+hoXFU2HN/N8sUHYp4wjxfCMzoVmHkhnLfCvXe7t8H3300eF2BYWBEcrOumtsyB/Ux5lPeju/iIiINDo5yyw74UUamXLHfjPmafQi+h/Y0iWn9D70MWE8QnfAyw7kxIbeoi/0EsJd3SeAUXKttdYqZppppuj7ZMAvfZ2Uk9SVuD5q1KjoQ8tyk98vvQ8GuZNPPrn41a9+FcekB+ly3nnnRb8HW6vEfTN8J9/ARpmi/KQtgd8ff/xxHNOvRP3NnvONbKhUWhTpI1ZYYYXJhNecMaOBsntQIWNAoLItG337Ehpu3sfsSSp40nHFFVeM9ePKadqb8J00KmussUZx4IEHxjnCcPbZZxdvvvlm/IbeFmBF2oMBAllXPfHEE7EH8mQzkKNAcfP65ZdfRrnGcNgX38czZ5555qhPhg8fHiOUeR/nm0FwbmVSachjERERmUQud4Iu1WyD3aT1KBtecqBhM4FOhBEKHenxxx+Pc82i99UDxCvxSdzSn0M+mmOOOeoujgkPW+Z3SMM1M7bOOeecYtNNN43+Mjx/MVOSa9lHRR5ieaSbb745nnHnnXfGGqfowoAOnLPbpHchTxG/7PHEdsEFF7RdKYrDDz+8oQ1XzUaWs65CulKeKHek42abbRbljt/U3bPOOmtTDIDXQCnSB1BZ0DCw0UizjRw5Mq5xLF0Dv+nEYbVxl3N9QVbmVPojRoyIhiB/MwOqr42DfBe++hnxhMCH8MaMyR122KHtjsm/XcFO+gpmUJLXKAOslZEdS1kWGxnq51SMUJ74TjbO3XLLLW13TaI3yxgCJPHJ+3kuW7k8i4iIiDQLyD1p8CgPtpTWoCxDN4O8W+6HyD6CZmLVVVeN70Ifwg2p9C4YD8g71Ilp/Pvwww+7VTayTJXLVm9DeNiov9kzaPmyyy4rNt9882K55ZYLb18YHXPgCXmGb+OYmXuffPJJcdddd8Xahx2hDlwbWI+SeCbP4aL6uuuu69O8I71LdVqlcXL33XcP718cU5fsvPPOcZxlivsaFQ2UIn0AlQKNNDP+svEGjE02xlMGQYdZkz/+8Y9D4CEOqaDnnHPOyvU0lPRWI4vynPBsXLumIHnuuefGzMZawfsZ5US+QUnA1eu1114b18r5RwFD+gLy1fzzzx95je2dd96JfAjNMMAiv4Fvoy7ZYIMNYo8ChoD3wAMPVMpWb5SxcpkF3p/vFhEREWlGWLoC/Qp96v333287K80Msi2y87e//e22M0UYLJoBPKCkbtTIHcAdwXfhcpT+h9R/6IOBNM5Kz8k4ZTZhDpa99dZbw3DUXTJdpqSntnedc+WNtCU87MePHx9GrH322adYfvnlozzTJ7fXXnuFm1Z0ZQbsp/ESo/aVV14Zrl7p5zziiCPiOuHrTM/lv9L3kAakD32LxPkVV1wRaSj9T7kMZD90lusky29eHzZsWJS9Sy+9tFLGtthii3CjnOWt0cuWvWMifQAVA0LHVlttFY09HdI33nhjNPAKeFOGChfh+K233orKNuOM46x8MSr0JqQRjQANAKON2BMGXFjsuuuubXfVBsKCa4xtt902hD2+GQEW5b6cf7LREultFl100Ur+SkGWvMe58tYMXH/99bFH4KPsMYM5v836WkRERKT74L4Q0OtyrSRpDVJfB3TqZjBIMKswv6O6I7kZQPfJdWP5TgxS+b3NaJCtNeU+LPRN9OvRo0fHTMPMT+zLeSuPUy8lPThHHxU6Kr+5xrn29PI8lwYOyHM33XRTceihh8a25pprxkCSgQMHFttss01x/vnnF88991zcxzvo12RPuFlL8sILL4x+OrydcT/r36WnMZ6fm/QfmZdWWWWVSlqwbE+WcekfSItMGzbKJuUKqCMyrbjGMfXExhtvHOUvPX8lnM9+rGZBA6VIH5AVR1Y2VDxUMqCAN2WIP4Qu/NxnvHEO4SevZdyWK+mphWdRyd9+++1tZ4rimGOOqcweqxVpFNlll11iT7gQYBmVlvmHe8xL0heQ39IoiWD0wQcfxDFCU2+Wt3oBt8oMAOD7WI/y3nvvDYHv73//e6WeEREREZGugwyF3JidcNLcZMcqoKOmzsAMsWbQH+gPIE+jg08//fRtZ5sH0ogZOkBaMrhe+gZmUZKf2B588MEwDpKnMF7mRj/QRRddFLPeXnvttcpMS/Ifkx7QWcve2bKu5dxnn31W2TMrkiVMDjnkkGK11VYLvRedF8MiXsLOOOOM4pFHHom8zZaG1PQkhuFx8cUXD6Mkz3z44YfD3et88803mTEF8nczlPdGh3SkHp5xxhkj3YF0wd16ua6W3qGrcUoakDaZPtmm0O+E0R+vefRHb7nlllEGMSiPHTu2cn++Bxev3NdsM2I1UIr0AVlxLLbYYlGZUBHdc889cU6mTI7Sghx1SQW9wAILVASg3qyMSS+ey3tYTJp3Ioyx4DBG0VpD40MYVlxxxfDxnwZLhEtmUTKiMeMh9yK9CSMos1xkWSNPckw5ya1ZWH/99aN85TcxIABFEeFPRERERLpHLs0BzqBsfsodtPR/AHJ1sxinUw+ijyB182aCb+LbSDP6IrJvhHRtxu+tNeXygZ75s5/9LOI1dU8Mjhgi2Oj/Yd1HXKvutNNO4dkIF8OUqxVWWKFYYokl4tpuu+0WBkwMmc8880wYLDBsYpBCj5155pnDuLjjjjuGhyCMi+Rj0pd3YxTh/TyX9OYayxrtu+++YRTFNSjhYuYdy6BkuS7PtM3n5e98Xn6X9A/kN7ZMD+C4nA+l/6DcMBkHgyRuWul3xnaw3XbbFVtvvXX0S+WsZCDd6K9iIg1llVnPGDebbUbstyZ+qDlUpJehWOWGkenpp5+OCoZZOuutt17bXa0L8UIDefDBBxdnnnlm/M7znfHqq6+GgAYbbrhhcdttt/Wq8IM/bwQ9DKQoIO2FJ8NeS8gz9913XzRkQF4ifKwNyPouIn1BOZ+Xy2it83+t4NvGjRsXrlAAYR6FC0UQRe+oo46qKGCQChn3ZYcF5xAWERxTGRARERFpNRhQiUcKYNmKq666Ko6lOSnLvuecc06x3377xfGIESOKww47LI4bGfp0nnzyydAXmHG28sort11pbFLHA9IQQ1j2g/A7z6vXTB1lHZpjts022yz6s4jbchxnvPeUnJWFnpr9R8Dz892EhbXrMIrQv7bIIosUP/rRj2LGXUdpXf4GaRyYsUtfImlHvjAdex/iFKrjlfimPHGeQQRvv/12MXLkyPjNQAVmQ6fL5qwHKL8MDgD6l4YMGRIDD2iDZphhhjjfrNjKiPQRVDBsuSgxFc/f/va3tqutTVbcCMDdEcDSGFdd8fcWBx54YDQupBWKVVmg60+YxUVDBQiaKA2MlnnqqafqJozSPFAGUsgqKygITn1V9vqbFNQHDx4cI9MoZ3nu0UcfLY4//vgogzm7GyMmQiIdLieddFJxyimnhBGTUacnn3xyuNQRERERaVUWXHDBijyJBxhpbso6AjJzpj16q9QvpFtu9MtgeGVP+jGTj36Rsj4ovQNxyiwp4pm15TBCoH8S9+ibkPvsB+qMcvnjmGehuzPQlnUjDzjggBiMz1qqr7zySvQhMVsTPXarrbYKAyUzLsvPkcaHPgmWryGfZb+raTz1ULYg+2KJ04xj9s8++2zMgsYYyUAtvAEOGjQoZjNTr95xxx1RvnGbnM/ifzxnnXXWibKJUfkvf/lLTHLCyIxxspyOzYgzKEX6mPPOOy/cJFCRIHjoMvBfMIMSv/dJe9VRNqDsX3/99VB2OcY3f2/NoKRhueGGG4pdd901jn/6059W/LPzfNIuBfM8V0t4Pwuo05AB7yccxAEjb0T6guWWWy5GepH3EW5RdBjFVS6ntS4LfUV+E99DHYAQiWDITG2usREP5fuSPKaccsz+2GOPLY477rg4LyIiItJq/OY3vynmmGOOkI1wZ3j//fe3XZFmBln5uuuui1mzgL5/2mmnxXEj06wzKBM6yRlYv8kmm1SWJmLQ5rrrrhs6oEwd5JvUGcvH5X4mwGDxwAMPRH/U888/H25YMSpiKO4MXLGyviQGSZZqYVYkOi3GTfbpCrKzd0+J8n+lvqE8k7bXXHNNsfvuu0c+wisbfYfdSXOZMsQ1xkTqT9wh0048/vjjcY1yR5kmzilvkAMRKE/0reG6lfJN3Yu71xyYUE0rlD8NlCJ9QLnyYJYbs22odBAQpiRctALEARXz9ttvHyNCMk46qo6ISwwFp59+ejHPPPPE7940UPJ+fH3zPNLo7LPPjsW/GUVWHSZ+17pRxz95urbNETaASwAWTFfIkN4EJYZ8juKNe2oEq48++qiYbbbZvlHeeqP81SN8P0ImG8rhQw89VDz44INhsKW+4Ls7q6+4l9mYoFIvIiIirUZ6fEEuYs005ClpfpCPmRk2bNiw+L3PPvuEbt3oNLuBMqGzPL03pYGyWfW9WkK+yXjkOOtH9hgpEn6nx56ekobJ9gyQ9CWhm5bDk3TXYCn1S6YveYx0JU8wo481TWXqwdBLe/Diiy+GUZJyS5mj7yj7a7OcpWESMBJzjr5m5KIFFlggyly5LGYZbQ/6oaoNmO2V5UZFA6VIDWCRakY1wU033RQVUl/TWcXW36Tww2zIt956q+3spMq1I5jhSMWLCwr+f8wxx4Tbxd6A9xIeNo5JKxqYrOjbq/D7shHI+MkGaNVVVw1FqBrCQFgRPER6m7IifvXVV0fZI8+V835floNGAMNlNbjvoPxSh4iIiIi0IsiP6Ch0jP74xz+OwW7S/KDH0mHLQD3kYQYBo0c0Os1uoMz+B1wS0ldFHwTGStyPytRDvkFvZt8VWl3Hlu6R5Td55513Yh1gZvYB3tiYGCLtQ/xlP1fGJTMfKa8MPB83blzMZMarGPvqcsz9nMvzOTgLgyTbTDPNVMw111zFwgsv3K2yzfM6uj/f1Z3n1TsOjxCpAXRY01mNoFduOPoKDFsYJ8uz7eoR4qO6cu8IfHfnSDAqYZRdjnsDXMeSLrh1pNGgQeF3brWu9DOP8L24Y2ANvDxXhvD+8Y9/bPsl0jukcLXzzjtPlvepU9rLh61I1q2sO5kbAwmYLU+5NZ5ERESk1UEeQqasd51Ueg90h7IcTL+E1D+ZZtnHQh8E5yi7Xe2vEZH+IcsvZZcye+SRR4arZvpvcP178sknV67JNyH+st8LDwCHHHJIuKZnohGe/FiW7OGHHw5PEDkIPeOc/xG3uFbea6+9iv333z8GszCRhAEe2223XTyDdV6726/c2f1c6+7z6h170ERqAB39TPdGQL/ooovazvYdafir1xmUZQG4K3A/38OIFcANRhoBuvqM9khhm/XiOCZ9aFRouKsr+/yd/8l9X5CCAw0dPuPTNcMaa6xRvPrqq5UROZxjAWboy/BI60H+WmyxxSJfUdZwbQrkOZlkrG1PwKdOYqvXuldERESkFqRuBeguiTpLc4KOQNqiQzCIFvj96aefxnEz0Ap5l9mTGDSANM1+m0xfEalPsrwyW/Kuu+6Kupj+inPPPbeYb7754pp9Oe2TdRvGSZYhwyDJUm3AtYw3ltiiX3/JJZcsDjzwwOLuu+8OQyT34O71vPPOK84888xi8cUXj/9kvZnH0jkaKEVqwNChQyuz8pgi3leUhcasADFo1RtpVPzwww+jIz+Nfx2x5pprRtx9/PHH8Rsf30yRhxzBMjW8/fbbYdSFPfbYYzLjQjYqQDhTSO9L8p2EA5fAfC/vxtCNn3Jc5nAd5U9XDdLbZHlM9xVlYYr8P6Xy2ipUGyGNFxEREZFJIDPOPvvsoav95je/aTsrzQod4WWdGfiNHttMNLO8T3rxfSyts8EGGxSbbrpp/GZTBxSpbyi/lFtmTtJ/Q3ldZ511ii222KLSn9MbfafNSNZtOYM84wuD5AorrFAcfPDBYfRlwgxtHTMpmZW69tprT7aGbJL9t9l3zD6PpWOMoSaj3JGcAmLupf+gIVhppZXimIqqt12dVKcxleb48eOjslx00UWLyy+/PM6X80d/wqgTKn/igbBPKY+y5gMVesYb95dH4k4N+BbHxSvPxr1rR2Q42UjDbMR6m4wL0oo1O7KR5PywYcPCKMJIHaDhu+222+I46e28Ja0J+WjppZeOY/JeCmMiIiIiIl0hjRrqJ80P/R2kN7rr3HPP3Xa2KP7617+2HTU2AwYMaDualK+bkezjwMgxevTomE1ZTfaHiEj/Q9tKfyDLzWBMGzNmTKXflD5gftMn3Kx1Vm+R/eRbbrlluGW99957o++L2ZGsqXzaaaeFsbc8QD2Nve31CxPnfdVf3MyYS5uE7Dim4snjLBAWjPqAyiwrvjvvvDOO8/fUkmmcwiIjOpZffvlomLhWb0IksxX/53/+J/JqV+Jg/vnnj2957733Ko1rGjh7QsYH+xtvvDEaF2YjMjuR5/YnpBffyELMhI0wEr6rr7667Y5J4eYe7sXYWyYbSpGeQpmkjLJRb7Fn5Dt5rqdlTkRERERaCzpMU+9KHSt/S3OROj06Nca89E7EWobNwIQJE9qOur5MTTNC/0P2PYlI/8JAAoxqrI9I3yqGMSYxXHHFFTHQQLpG9jEjnzA5ZokllojjtK1MDdaXXUcDZZOQlnzWCXvzzTfjOFEJqA+22WabtqOiuOqqq6ISzIpwaiB92VAKqPzIA8stt1wIzjRQzILCNSjUS+VIfv3iiy/afk0ZRqsk/JfvwhCH4tOTRoN4IL6If1zuEldsq6++el0Y+PhGRjxl2vL9uFjhGCWPsOL2Nq+/9tpr8T2pGIpMDZQL8hVulClfCLnkOfJedjaIiIiINBrIN1I7vvOd74QMCeW1CE2H5iP1B/Rs9IWZZpopjptlBuWgQYNizzfVS5+KiLQm2YbSL8oxdS4b/cC33357rKM4yyyz9IqBrZWgHZt11lljg7SzSG3QQNkk4KaS9cJWXXXVYuDAgTHTjHOgANW/pKDOyBbgmBmUnM+GZWpIIZnK9Nlnny0OOeSQOAbyAgbLpJ7ywowzzhjh6Uqlz/cwAjcNiRhMfvKTn8S1njYaPJNnpUGf37hQLadLb6RPT7j//vtj7QeEDISOESNGxPcDrm3Z0khLHKaL2vwmkamFfJV5jHLAPvOgiIiISKPRX3J9K1OWHVNHqSd9VHoX0jbLGXoEv5tlBmW5/kBXFxHpL7IdHTJkSPH5558Xt956a/T/33fffcXQoUPjGmhg6xrVEz2o7+lbdQJIbdFA2SQg/P/2t7+NSolREvvvv3+noyUocOWtmildl66RcZfCOrPgkldeeWWqFDSeV64wSe/99tsvDJL5vkcffbRuR82grBDGKYVvvvnmC0Md9/7pT3+KhgK++93vxrmeknH36quvRnzReDPSk2ey5fVMI/a59QUYXZPjjjsuwkMYWLsU17P5rbnfeOONIy74jTETdzpAXIn0BuStmWeeOToY3n///fid+a9Mnu/ouoiIiEhfU5al25NH+lKOl/ZhmQ7kSGAmHbpNR2lQLU/29VbNlK5XU31P9f9rvdULmb54YiG98ZrEUhGNDsvnAHH9xhtvVPow+O0AYZkSWS6yHZrSJtIV6DOk/2/99deP3/XgDa4RyT5moPzxO/dSO4ztJgI3kNmYMXLiySefjOM0tHRGvQm2zUIKGAiwVG5Muc9K7p577ukV42Gm70477VS8+OKLsSYhButRo0ZFmmaeqDcIW/WMrPbCyiL7eZ6Oh8ynOSqzp5AOGPUyDVZZZZU47q9ywPfwbrannnqqsn7oHXfc0XbH5DDbk/jgnsxf5Y4Zkd6CPJl5a2rKnIiIiEhfkYawJOXq9japDeha6CjIjx9++KGGnBaCgb/o+uipDHRsdDbaaKPIx+Rn+tpyZhJ9MTlQWERERHqGBsomAsEIo0UqARdddFGc53dXUWnrG3I2HAbK5IknnqgItj2FdGbDxziz6IARNFdeeWUsiowS2J30ryUzzDBDh99fDvMPf/jD+EbyJWuXsOd3znbsCaQF29NPP/2NzowytSgLvCM33DPgpplj4uaEE05oN3yEnfPcQ7lHScpz7EV6EzoWPvvss7ZfIiIiIv1Dysxl+I38i7ySBjA8tTDYr7wxkwsdgnuqnyF9A3ocHp6IbwyU6Hgckw79DeEob9VUX88tr+U+j/ubDEu9hOlHP/pRZYBjvcTR1EDeZaOuYUA430Sdgz5eD/lZRESkkdFA2UQgHF199dUhICEssTgue6kPEGiXWWaZigHp3nvvnSpjUgrCe+21V6Q78I7NN9+82GSTTUJoHjBgQN2OVGUNSjoLOjJSJuV1K8rrqnZmWJwS/L+sZADhYJuaNOkuZWWNY9bDfPzxxyvhOvTQQ0MBqobrwEhOruc9jkqWvoC8WZ69PCW4r7yJiIiI9CXI9mzI8ui///M//1OcccYZk22s1Y+szGDO1KOkb8kZlIBMqPu51oGyRjkjzXHv2+hQr6y77rqRj/m20aNHV/K2fW4iIiJThwbKJgMlAOMUQhLCEzMqq6mHDuNyGOohPLWCGXK44gW++8wzz4zjnoL7zwsvvDCOEZS33nrr4pJLLqnEKXvyBPvc6gHCQedAjj5knbty+DDOZUdDrqmIApDGTK7zu7vfU34HZYTnE2/l5xBfSV93XpSff8oppxQrrrhiHBOGzBsZD+WN8GIwwi0t8YCx9qqrrlLpl16hXB7mnXfeyHPw5z//ebJrSXX+rN5EmpH2yoKIiPQdn3zySdvR5CBrvP7668V5550XehZy9MILL1wcffTRxVFHHVXZVl999WL66acvfvnLX8ZSKOV63Dq9b1hyySUrgz9Z9594Jr2+/PLLOAeca4T4L8u16LAcM9iWPXoZ38me33wPOibeeh5++OHitNNOKx544IHJtkcffTTuzWd1tEHuG4k55pgj9G3i4Xe/+13b2cYFnfu4446LY3TujTfeOAZSk9ZTGnAtIiIinaOBsolIo862225bEZLuvPPOcIuZ1IvwTzgRWDPMzQxxnjP/MMStvPLKcYwy8thjj1WUtp6AMRoBGYEZBfCyyy6rGPTKEMe5NQp8F3H3l7/8pe1MUfz+97+Pb23vG6cG4oV3kRY5G7Ev4V0otMA7MSoff/zxocBRLnDzuttuu8X19oyOhDfjJ8PMmqb8htyL9IRyPiI/UubIZ6wfMzX1lUizQDnIdkNERPoW6lo2lneoBu8j1MfoQYcddlgse8C6d9WuJXOPTPOLX/yiGDRoUHHqqaeGnJNGJul9vv/970fcEu9lI850001XSddGIuXg1M8whpN/MDYecMAB4f1mhRVWiEGn5EN0up/97GdhLF9rrbUm2zhP3KDXrr/++sXpp58eS8AA8ZLGPe5pRPkbF698G2nf0eCCWjO18bjYYotVJgPwbRyjh5NOCdcaLV+LiIj0Nxoom5D11lsvNmZVISDttNNOcb7eBCWUlOz4hmYW5HKBeITXgw8+OBQNvveuu+6qKNDQnThYfPHFI+545iKLLFKcdNJJcb4Z4pH44bvIHyi2QPwxSpF8g6F3auEdCXFGXPK+8gzKvgSlBiV0yJAh4aY3FRvChbGRPNMZhHn33XePMBM3zKblv/wWmRrIQ+Qvyhrr5mbe7IpLZpFmh7JBGaHNKLcjIiJSG7Lu/fWvf10MHDgwjpFVGBBK/Yy+gGzMbMq111471nRnICBGpdSdeMaRRx4Z8vYjjzwy2ZIS0jvQXs4wwwyV41wDlLThd6OR7X/CAFN0MfpcMDiec845xbnnnhuzJnEnTF5LPZ88x//LG9fJk2xjxoyJPoLVVlut2GabbcLQTjylIZT7G43ZZpstvgHd4a233mo7238QlpTfelLeybt8C7Oxp5lmmkjbBx98sNhxxx1DD094voiIiHQPe7KbBDqOU2BGKEJYRpBFEENgqkehljA///zzxXXXXdd2pjlBmCVNEGgxSpEWuN7lN+fPP//8tju7DkrMO++8U0nX4cOHh0IDqbTnvhHhuzAUEj85g5L4SkMvSgH39OY3jhs3Lva8k+f2Zfzx7BdeeCHSDQWUssu5NFqmQagziA8gvBlmOmbqsaxLY0EeIk9Bup0CZlCKtDqUB8rI/fffH22xiIj0LdS75Q1Y1oIZa+iTgCy92WabFc8880zoCmzU0XfffXcYfpg1iZyM3I28zYasg8yNEfPEE09Uhu5lSCs8ORGvbMiRpAs6THV6NgKEFdfAe++9dxgl99hjj+LKK6+MvIdumt/Ft/KdXYE8iM6bhkj+f/311xcbbLBBsf322xdvvPFGt55XTxBHWcbot+hv/va3v0X63XjjjcXYsWPbznadrB8YJH7FFVdEWlH/8Lwtt9wyvJi9/PLLkZaNlK9FRETqgW9NbGiVxJsQkhVB6aabbgqh+Zprrgk/+QjPCLhpzOwqUytkpTICCHII4gjf2223XRidGG24ww47xHsQYlNIb1ZYX/Cggw6KdNpqq62Kq6++OuKnujiW4x0Bn3TDbe/QoUMrBgT+f9ZZZ8UoxaSz59QDhI/w0zkAuGxCaShDmLmPNWRYswT4fs6xLh5rzfQ0n9BBQVnA+EIYeC7hYcv3VtObcYhr32OOOSZGbJPuvJ/nMwt2v/326/J3UZYo57fddlv85+yzz47BCUm9pbs0DpQB8s8RRxwRLtDIp6y7wmyDvA7mMWlF6HSj/iX/UxYoH7Qf1MPIMMg41OuMrl9iiSXiGFmH9gx3b3SiA20R51mLi2dmWyAiIpNmnZVlYmR/Bocgi+QMKOpbXGPuuuuuIdtXk/JMNb/61a/CHSfX0QXQCZhxycDZGWec0bq4F6BdpA+A9o14xg0vg5M5T3uXsmS9QJpX5zl+P/7442GEeu6554rXXnstziX8h+9bdNFFw6A4zzzzRP7pyaBRZl5iSCdPkx+BsGB0X2CBBeJd5bBVP7/e8uwf//jH4gc/+EHFuIp7VGaHMiBg9tlnn8yLVGfwnfmt5J3UnXnuhx9+GIOZiW/S5uOPPy7+8Ic/FBMmTIjzvAMjOfUF/00o89Qjxx57bNuZ7kM/G2nOOwgPzycvUI8w4GGhhRZqu7NrZLkQERFpSSY29tKETBRwvh4zZszXE4WcrycKq19PFJS+nijofv2///u/levd2XqLiQJc7C+99NIIF1mQ/dVXX92r76l3JiogX08UjL+eqGREHIwbN+7riYLzFOOAeyYK919PVMAj3gYOHPj1ROG87eokyumWW71BmMiP5E+2WWaZJeIhN87l8RJLLFH5T+aZiQpunOPbM093F57HfycqOZV3TVRA4xrPZcv4Y+sNeCZpvcoqq0Ta57s5nqistd3VdQj/ZZddVomXTTbZpBJukamFvHT55ZdH3pqocH+92267tV35Vz0j0mogx1B3UyaybEw77bRxTF2cW7Zv1VteHzx48Ne3337711999VXbky1XIiLVZL1IXTls2LBKXZv7l19+OXSKavJ/uVXD8+65556vhw4dWnkedfuaa67ZdodMLciR6CoZvwsvvHCcz/SoTqP+3qohfyy//PIR9txSd+ebBg0a9PU555zz9cMPPxzfmc9o71ldhWdtttlmk+mn6623XuTzMtV66tS8sy856aST4lsyD9D/wX7AgAFxvjtbylAZL5kWnGefslhZ5spr1RvhuPjii9tCOak+6AnUPdQh+W7Cme9Atz/77LPb7pwE6QbVaceW/WQiIiKtiDMomxSSlW2ikBS/GSXG4u3LLrtsjK7rbrLzn95govAeM75GjRoVo8R4LqPoWIuRMPF7ouBWCXczg5vX22+/Pb6Xkb/7779/25WOYdTwRMU5jicK3DGCk32Z9tK2t9KvtyCMpD/5EphByeL51WHn+pxzzlm8/fbbcX2WWWaJbxk8eHDMPuT7M69Ux0NX4P/MLMbdE3mT9UNwiczIVSjH29TEYeZt1iNZccUVK+Em7aebbrpi6aWXju8BRmEy+nJK8Ew2ws0MHJ5HWcKdVb5PpKdkPsSFEbMSyKusZ3zppZdG3sqyaj6TVoS2GE8IWQ5ozx5++OEoJ0ley32Zf2+bAcH9Sy21VHHIIYcUm266aUUuslyJiPxLfn7xxRdjptO9995bcT2/0UYbFbfeemvIwdSpnGffXp1bhv8ym4rZlsjj/AcPEaxRiSxNPbzuuuvqwrsXIC5p51KvQaf74IMP4himlFZ9RearaggveYB8gfvWyy+/vKJnci11TeThzTffvFh99dXjN5Tb//xPd0H2Jj+iE1588cUVT1i8mzjE2xA6H3Cu+hva+6b+hHhEp8aTF56jmNWYeWJq4DvZMr3YE2/UBfmb65yjnH/729+O/Y9//OPiP//zP4u55porlsZB/+Z+wtPTNAO+kzU28TqTfVq8m/NAfwYb6/oTH/TlcL09+IZ99tknwtOTvg0REZFGRQNlE4NwhgtVXKmSzKusskoodghI3U323hB4WXsAVzoofCk4DhkyJIyVrSaAIQifdtppoRAjiNIxifDekWGK+CKOEK65n/RjQXYUp2raS9veSL/ehDDyTV0xUHINVy24ifne974X37LSSiuFwT3jBcrHUyIVERSH8847rzjwwAPj3ZzDWIxiAOV4m9o4POecc8IITThTGcI4Sec0HduQ4erKdxD2vBdlh/+Sf9LllcjUQP5CeWatFgYEcEx7wpq55Lssq/VWt4j0NVk2cCdG3VvdyURd/NBDD0Vdz72sc8Q5ZCDKCy6+s76mMxKox3EriOtX7ulqWyYi0uzgthFDAvUp9SryBzrUXnvtFfVvysJcm5JMwn+zfuU47+e/Z5xxRnHYYYfFMc/FHTd6s/ScTK9sJ3H3+dvf/rYS7ylL1ppy2lez8847F1ddddVk12mzgTUGuY4eyjmeg67Kd7aXr3pKvu/aa6+NJXCA59OnQ58BeR6q429q39tX0HeBns+AYPqBcPP73//93xUZqKsQL8TDgAEDIt6/+93vhi6NAfInP/lJuMGdb775YikY+gy41hGEqTrtuks5rTnmmRgqTz755Bg8Qb7Pb8SwjNzIu3hne2lVfhb3dtQvJCIi0oxooGxiEH4QlGaeeebYIySxzlFHQm1ndFfgRajCmAb8F+WSkXMIpjDDDDOEb37W22tVSAtmBKJwE0eMlkThAYR40g1IR+7BSJDrdgwcODA6OVPw5v9sHaVpd9OvryGcfEcaKOeYY45YM4Lz7X0D51544YUw5gHrV7BuZ35zT7+PMKBIsC4Y8CxmITJKe5lllgklAmUoy0x3yO/gHRgnDzjggPjNMwkvzyVNTzjhhNhD9bd39l15L3vCl3FR/QyR7kKeBfIq5Y6ywDmU/3fffTfyW+aznpa9VqA/4oh3Vr8vDWrQ3nWpLZkv6LzaZZddii+++CLaA9pD2jW8K4iItCJl+YO68txzzw1dEb3x888/j2vI1D//+c/jmPtp09jyeEpwT0dt4frrrx8zoPJ5N9xwQ9TJtKOEqSf6QCuThjYMk3/+858jXumTyPSFrqRZb0O48r2EBTA+YhBEXiLtSWvCyqy3rbfeuth7773jvqSvw59lAU8myAq8h1nDI0eOjPMd5eFGgsHHv/vd7yJvYIyjL6AMfSHTTz99Meuss1YMkexzFmm9Q18NAx/uvPPO+E2aZd7KslGGvMh19gx0W3nllduuiIiIND8aKJuUFFoRfhhpxyxFQNHaYost4rg7Sd9dAZhns+Fuh4XdGUmWo1A5f9ZZZ1VGvrYqxAPuRTNtfvWrX8VMPqiO73333TdmLqUwy+hDZp/yO40F/Id9e9SbAkM4EcDTQIni+vvf/z7Ol78hw03HwIMPPhguWAHXOpdddlkc94SMNyAcKHzMciE8zEDESEm68DvjtjvwTP7HLE/SDWUy8zpKB9+z/PLLRzoyQzSf39135f3EC8Z/3kFnzm677dZ2h0jPIR+/9957MSKZYwyUuFsmn2U57W7ZkNqSdV22HVnvSf9CerCNHj06BtyU0ydH22faiYi0Einb4uJyzz33jN9syORPPfVUMffcc4eRIuXqlEe6Cs/Od7QHRkrkc+R17mE5Ds519h9pH2RH4gzXmuh5HKeBEvorTglD6njpbYqwprxEmLbaaqvoq8BAmeGFzG+1CDf64iabbBJGc8JFv0EzGSgBvZtvwejI95YhTYCyXk6DRuPTTz+NwfrkLzbqsfa+h+8nPnA/+9Of/jT6CERERFoFDZRNSnZskbwYBtdbb704RsgeN25cpdOrq8nfXQGY5yJksWYISl2OmkQYw2DDmmbc08jCZm/AjMgVVlihkl6fffZZjCDkN2Qaco745DejOK+88sroxMxZqklH6VlvCgzhROlIA+Vss81W/OlPf6qEn305zL/5zW9i/UaUNGA0NUZuntGTPET88t/s3HjiiSdCGUilmXf/+te/rozQ7i6E/+mnn46ZmBhW812kId9MOcSta3XYq7+7q2CUxIjN/ylvrKMpMjVkXqRMUM/wWwPl5PS0vPYFWRcSJo5pKxi0QNoRxkGDBsX17JST/od2iDS55ZZbYm1u0olzdJYyQ4i0M61EpNWgHrzkkkuKI488srL8wwYbbBBuXXHfWC37pzzSVahrO2q/eTft54Ybbhj6M7rW4osvHvpsPbX5jcaCCy5YvPnmmxG3xCl7qHWcoochw2IEYk119Mny+wnP9ttvX1xwwQXfcK+Z3qFqnQfWWWed8LKE/DZ06NCmMlDyDUmzly3yHvUL+Y8B/O3Jd8RHdd+AiIhIq2AL2GQg2KRwk0IfC3FjfIHnnnsujGJ9DUImMycxlqQiQnhYz4zZAlxvZQEM5RpwWUo88Bth9eWXX66kHxuCLPHFNUBJxtUL8ZfKHQJvs1GtpOACBkUxz6dhMfN4d8m4I36BdPjlL38ZxzyT8xj5MDL2hMcffzzWsnzggQcmS0+UkZNOOikUzfyWzAtTw+67716Ji+q4E+kJ5qOu0VEd1NO6qadQvwADkH72s5/F2ojrrrtuuIfiN26yqHey7pT+J9uhzTffPLxb8JuNtShx7UV70Yztu4hIZyB/HHLIIaH70Gbxm3X6MU6W6Yt2NmUfZrdjEILx48fHGpjKRT2nI2NMrUkZaJ999omlZ0hTdD42BpViuMQ4nvphQliZ4VfrPPD666+HoRxZoDf0xXqCOCU+c2tm+FbyHuUAOQ8Zvfzt5ThQ7hMRkVZFA2WT0Z6wQ8clRi5A6GFEKkJuXykGCPW45Vl11VWLv/71r7FmCG4qME6ylllnC5a3CqQLkA4stg8Y4HBbWk47ZvHdeOONcR2GDx9e6YhOJQsht9Fh9iTkd1fzwQcfRAdBfvsPf/jDyL/ZwdsTiD/+TxoQ9yiruEPOcsHsI9zuoqy2B/eVy1AqsyiTq6yySoxw5TrKCGnEO2677bbi4IMPnuw785ugvW/vCnxLjvTNdS5EegPyL/mYvMlM5upOm1aFeCiX44S4qu5EKtcTkJ0P3Jf35r76XtYAbY/yM+DUU0+NNneNNdaItpbwUb9RL3Avs/NxC44HA35Xh7HeqY6XZiHzD94BGEjGd7JddNFFcT7beRGRVgGvP+iOGCiZ/c9A1xlnnLHt6qR6s9wmZFvc1S3/0x6cz2fTTvKb/auvvlocdthhTdsW9TWkZcb5Rx991G8yyP333x9rGqJvY4AmPRkkNGHChOKoo44KfQ29DGNkdR7rD/7rv/4rwkGY2I444ohKuPorTL1Fhr8VyhTfmukIHfVfcF25T0REWhUNlC3CQgstVFEGWBevrCj0poCLMYf1AVkzJDtwMU7iRmXJJZcMJVMmKWpA/OC6BYg7OpZJpy+//DLiihHEqSDj9o0O6KRZFJT2aO+byE8I7nS4/+d//mfl+6dWyS0rC7jaw0jJOcLALEoW5GeNStYnKcP7uQeXRZdffnnMFub3EkssEdd5BhvpuNlmm4WxfvXVV+8TRYw4oHzxDTz/t7/9bdsVkakHg3vS3ij4VoSyTZ3EBtm2UQewZR0PeZxln84HyizPeOWVV4rDDz88jFMrrrhiDODJZ7Axu7ujQSiPPfZY/IfrdJwyQxIwQFIXUBcxKIhj0o12hYEYrIOTBs6OBmDUE1nXNjPkh+OPP77SMYVr8Ow8FRFpBXChefXVV8cAwZRnWXuvXA/Wok4stzcMOsRYRRvPQCBmVmZ7n+2/dEym17zzzhsyD79p5/K4Vm07awCiy6299tohC+W7WWuU2bkDBgyI37XIX92BAd+AzMb6k+h6GWdTq/+KiIiI1BMaKFsEBFo6QBFqUaiuvfbatis9U/aq/8NvBH6ei6uyvM6aZXSGLr/88vHbUWGTQ3owUnieeeaJ4zfeeCNmwGGEW3TRRSsd0xyfd9550clM+rUX/9XnmomPP/448k52qr/77ruh3ELupwbijo4RYMYqHSTA+zhPmrAeJelBOq211lqx0YHCuiq77LJLcffdd8d/SJ9UGklb1q2hXBBO0jUVy6Q30o1nY8wmf2hAEul7KLeUfzoqMfJRrulUpa448cQTi+OOO64YMWJErGPFwJLBgwdH/cF/KK/s6fRcdtllY10tBg6xzm66lCtDfYLLdGCU/1NPPRVGY9y3vvTSS5PVhdRZZ5xxRrTHuJpmrVueSX2V3gsIS1K9jnE9whpk0MxtHO0bxuSVVlop0hujdtl7gohIs0LdTjv13nvvxfp//KYexINArsXbX/X/AgssEHpttrPMtkOWJzx5TjomdR5kntSPkFPY92b8dZY/WG6DwdOjRo2K36Qfg1ExNrMMDmHMrT/StBz2PGZPfBHGjMOtt966csw16Oy7pb7ItBMREZH2UbJuIXAhRicYAtLNN98c51AQ2KYWOml32223Yo899gihGQEft7J0nqKUAHuFs0lUz4ihA5u4we0Ms/bOPPPMUNRR4jhPhzcKFfGa8dnsccn35Teyf+edd+KYOGEGZW/k2zLZUU/8ogReeeWVMbs1w0AnOXmb+1B26fiHamWWezBKMDMKxZJ1Q6G99EKxbO98d6FjZ+jQoTEKGCPHj370o7YrIlNP2WiWs/RanSz3GA6pt6mfMQJSDo855phwD407dQyWGBSZ7ZjtbQ7UoS6jvsi6LOt7noVbOzbaBso0hkxgwM8KK6wQ60nzHIyjtCe8i7RhQMUBBxxQaeupzwgr7QpGSyA9r7rqqnhvI3RuUZdmHiS8uTUbpH+64wdm7ZfLnohIM0K7xUxFXGzSbtF+MdONwZtAO8n53pb726M9mRyZnoG2DPKhnj766KPjfHv3SvswgxKIM5btQC7pzXa8o2fdc8894eGGmZJAHtpggw1iABDnCQf5LfNWf8gW5XdmniI8uHon7xM+DKqEO69xH2E3D4qIiEizoIGyRUCY3X333WNUPoIwC64/8cQT0XmZBi/ormBO5xnK2nLLLRcjTBGkYcstt4z1HXLGBs9VkP4X1fGAC1DSiDVX6MjGXR8QbyeddFJ0VKOgtCpvv/125DXijc74dBXUW/Dc6jTBpS6upUgXOooZNU0aZIdxdphQflByb7rppnD3+sUXX8QAAEZdt0d7iujUkrMmGYSw2GKLxbFIb7H00ktX8i35WybBLEmMktQRQHkmnthTT2S5zM6k/E3dQZuJe9b9998/njNu3Lj4L4N9MCTSDjAD8qGHHgo3rzyP69RBPIt2F2gfSBP2zL7Ld3BP1pHpji5nYfKs7KyrRzKvEW+sw4yRltmmGc9J3tcskLasIQq0c6Rx9WAmEZFmg/odV+djx46Nep16kME91H/8Tj2Vdq3WZPu53377Vdy1094yALHZ2qC+IGWVGWaYoSK/MMAKMv7Y59ZdUicDZITyMzDoMdAUmYv7eDe6HF5yqnXI3tQpu0M5zPktDDxDn8NzD3B9hx12qIQx9z2Jr3qkP8q1iIiI1B/fmijcNId0I52CgsWsjJ/97Gcx8wvhls5MXNKhMEwpG1QLjwjUPOOCCy4ozj///JjVkZxzzjkxmzI7SoHnK4B2DPE533zzxWL42RENuKS58MILI406o7vp198QXr65nEc6gntxZ/j9738/DIX859VXX434qhWZf1EacS9LZ8pcc80VZSDLQpL3tkemk2VBGgkGTDAjkLz+i1/8ohg+fHhL52U63KgLvvOd70THV5Z52lfcqdPWYlSkXuD67LPPHuf5X0d1eXbAdlR/0C5k5x6uY6kHDzrooA7vL6cPs1NyBn7WVVxnTSbWXapXiDuMuE8//XSEmxmiDNap/t72vr+R4Vv5JtI4XY+LiDQjtIus/44BJn9jQNp2220nk6+zTaumFvU/76YNXnfddWPQEO9kkBGu2aekn8kkGMS5xRZbxDFeJpiFWt3/MDVpibyQchTHrNeI5wjaUdIO7zfMmmRQGfIQ8D7eX70vMzVh6ipl2ZDBaWeddVZx2223xW/ej6E13dP2R/hEREREasG/etWlqUlhPDuWUfpQrBDi2aZEtUDMKNLLL7+82GeffcL1Jgok601ecsklMVMzR70mCtCdQxqwLljZOAnMQk3lvJnhm3NrDwzsKJ4omsRVzsyFruTfqYX8S5lBwWXNyVwzNEG5BO4pny9/V0ffJlLvYHgjb9OBkrMJWhni4eyzz452kHhhtgezGFmH9uSTT47OtyFDhkRHGOvQsrYg9Vd1XU5dwcY1nkMd0V79Qf1C3Qfcd8QRR4RxMuubrH+q4b/ck+0/aYd3A+B5W221VRzXG1lXpqGODZmiVTqC+U7SDSN4Ldo3EZH+gvZv5513jnaMDWMMxkmO+1r/ybZmStDWUy8zUIs94Xr++eeL448/vu0O6QjaMmBgZ8o7LGFCPE5N+5byDRvPSTmK44022iiMk3kfsyYxTjKbsto4CdX7/oDBSMzMZUAuxknCR1gxiuOhKr81w5iykYiIiEizoIGyxWD2AZ2pCLgoWIxaRajvLjvuuGOx1157RachysAiiywSbi132WWXOJcdi9I1UNQY7ck+O6JxHwQ9SZ9mg/Uff/Ob38QxcVQ2kvR1PqOssOV7Mj3K7+Vc3pP3s4k0Axjmydt00qVrrlaHdi/XrcUNF/USZLmnIwnKxkPqifJGO8mGIQo6qj94Ns/jOvdD+Xr5mHDxO+/NLZ+dsy5JSzwolP9bLxDWJL+FeGwV4zgDAoB0z7WXRUSakbKbdDj22GPjd7ap/Q1hob2GhRdeODwEoefSJp1yyinF+++/H9ekY2i7U4ZBRmEwLucyXjlfbve7AvenPMRzeD5rW7JWI8tzAPo0g8VY2xlDH3kq35WyRXff29sQjhdeeCFml2Kg5Dffw541WUeOHBnGXSjLcyIiIiLNhgbKFgJhFxDUAcH9iiuuiONqUnBnnxvKGJ1lc889d7jaRLlA2MdY+fLLL4dLO2g0wTkV4wMPPDCUAZSnMuUO5r6CMLz11lvRaVzu+J4S1WFtZDJ/5r4Mrghzdin7WWedte1K31NWYLMslLfy9Y7Ie7pyr0i9gSuz7BRpFSPRlKAeor4mXl588cU4LpNlnY5MoK7g3ur6g41R8tzLcXtwPq/nBpyDHNQCnXVecd8SSywR7XZ2DNJ21yt8B/Ga354dnNVbs5Fu8JA96LgUEWlGaDsfeOCBqOuoy3Htijeertbr3an/s90st6Fdodym0m7uu+++scY859HBWNZEOoa4RubAXTsQl7Tr5ZmMPQEZDEgHZAOW/mCwGGuX8hujHsZvZh+uvfbaIYuV35XH3ckLvUW+k2+gjcfzBuFmFiXXyGennXZaLKlAuPsjjCIiIiK1RgNli1AWbrfbbrvYIwg//vjjxRNPPBG/yyC4I+CjfKVy9vrrrxdDhw4tPv7447gH5QJXPBdddFH8bhSqBf1x48bFN7LmA6Nhc/ZCUotRvMQz63hmnDOjhvUmUgHriOxkbgblpTNlkbU5uZ7G4plmmin2tYYwVG95PimfF2kGqGeolyibzqCc1HamUZF4qQey3uys7slrq622WtSltC90EEt9QectxmTkEgaDiYg0EznQ6c0334x2ifaUNgzXrjPPPHOvy9A8O5+JnrX33nsX1157bRx3Bf6bujCDdFk/Mf/761//uvI9KQ+0p8e0KsiPxN23v/3tiBfato8++iiuTc2At9TNkWMYaLX44ouHsZs04Brpcvvtt1fe39t5qje44IILQh679957K3mUsnDmmWcW++23X3wL58r5V0RERKRZ0UDZIqSyhCBPxySjChF2EX4xPJbJexHoEfK5n1Gtyy+/fPH222/HddbhO/fcc2MdSu5rVL788ssYWck35Xc//fTT4QoXt6K1ojoOSRuMx6RPhgv4TXqwh3K4e5u+em578L2s1ZYKWH5XhoEZpTnalnPcx54OgvyPiPQNlDPKIGUuBwm0MozMx4jUXly0Vx9lPdYX8Ox8fmfvIVwZts022yz2wEAYqS9YsxRZjZkT1TNzRUQaHdoqBmLi0SePmUnGvqsyfVfv4/ncy556dcYZZyzOP//8MIbusccebXd1HQxeDM7FswSgJ2Ow5PmNrA/3JciQ2ZZhlCQdSOvU67oD/y2n6SWXXBL9Ezwrjcak76677hrHtKP1NJgX/f2ZZ56J9UxZr/yzzz6Lb0qGDx8e+ZJ8xTeWNxEREZFmRkm6RUjhFoGXjQ7KPL7pppva7poE96UQjwKx4YYbFjvvvHMccx73O9ddd12sN9kT5aK/SSEfRQa3KnwT8cCoTo5Rnp588slQIGrVGU+YWNsE5ZaNcLz77rvFgAEDImxLL710Md9888XaJ7iBYdYr4c90ym9qVAh/fjfkPiHv5SxK4gO4h61W397Re/I8+/I9+bt8TqQRoWwutthi0cmT5a+Vod5pVJfmQHue6ZhrNdUz5U7fVqhPkQVmmGGG6LTMjlURkWaBAU+sCZisscYa4X68s+Utelr35//Q59CpGJgK6HyXXnppHHeVfBYyALMwqZ8xOGFsQndMI1wrtFPdIdvw3CN/dHUpk2pIN+KXNLjsssvC5S5tJRvPZ5Dx1ltvHfeWZYda6oudgf6Ot6ZDDjmk+PzzzyOMfBNxctxxxxUHHHBA3Ed+Mh+JiIhIK6GBskVIITf3dFCiSCEAP/LII8VLL71UGbnKeQRmRrMyu/C+++4LYxjnNtpoo5hFOXDgwHhOI4Myw4L07PnusWPHxihYFAU2FM5adsajZGH0LXdIEucov88//3wYLJmxuskmmxQrr7xy3IeCxx5DMfcuuuiiMaoXQyajRzFm3nHHHeE+9oMPPohnoqSTnmngZKsmz/HunK3ZmxDfb7zxRhy3937I87knf0I5PJmfRaTvoG7Jeon6g7qylSEOyjO6aT9zrclGYc0114w0JfzpRaEv6nrpGXRcAq7fRESaDQaCJqeeemqHusDUgq4DrOeHvpfkANSrrroq9nlfV0BH3GqrrYoVVlih8hvjUl99QzOAvjbXXHPF8SuvvDJZWvQEvDih504//fQho/J8+i0YzJvyKudST+xIX8x7Otp6QuYD8hT5LH8zKBrjZLld5x3IXuQfZlQSds6Rp5KehkNEREQal1aUKzVQtigoBrlgPQL0gQceGG7rKAQY5VgXgdF9jz76aAjOdMYyIpHRihg1mwGUY4R+lIFll122GDx4cCiwfC/n6XROI15fwbPz+SgjrOc5cuTISAPCxfvZ54YSlooYcI5jwswx67kQbgyZbBtvvHEYlTFczjvvvNGJjlFz9dVXj431NtlwkVPeeCbhyvf2NoT3hBNOmOIM3HLcp4EyKceDiPQdDFpZddVVo/6g3DFgopWhrl5llVXafk0a6U68ZIdnvUM411lnnaiHqWMffvjhON8Xdb10H9r9lAFoIxslX4mIdAVmTKYuibvURRZZpNvyfFk/6AzaZupU1vWj7aZuZTBovo8ZbTwr7+sq/J8ZmPyXOpo1D2s5qLVRId6QJUmLrqZhNaw5efDBB4c+Sz6irfzrX/8a+QjvA/09YKw8kzbzBIOecd+KcTL12cxvJ554YnHkkUfGcXU5qP4tIiIirUErygAaKFsUhHeUteSxxx4Ll6ZZCHBdw8xKfrOheLEO5cwzz1xMN910cU+jg1LDt9FJi7EWBYd4WWmlleIayg5KRq06BwkHMLNl9tlnD8WFc7feemuEB6PybbfdVuywww7FjjvuGC4X2TA+5r1shJffKH78TsWbfZ4nbcvb7rvvPtlGGmPs7KnyOCUID9/VVUinTz/99BvhyfwqIn0HHSwMaKAeog5h38oQB7QXWR899NBDUdeWR7zXM6Qng3LSIPnAAw/Enm9oVTIt+6rN6w60j6QF6UNZ+9vf/tbSaSMizQPt57hx40J+p44bPXp0pS3iWmf0ROZHJ8JDDXt0Oo4vvPDCSl2PkTENSl2h3EYwWw84h9HphhtuiN/yTWjXEtqznsqR5JEll1wydGI2dGb2rC1KPkrjZH+15bwXGSvzMt/JsjqHH354hJPz5bjAaMk18mf1QFwRERHpH/pLjqimt8LR3nPq5RvLaKBsYVjvg1kgKUjjGgUBmdGsQIZl9D6KHC5D+xLeVcsCwhokjz/+eBzzjXw/ig3KLx23Ce5WatXpzLsJB+EhXTI+cL+HMsdv1gNlFisbI0iZBcqMybz+1VdfhUte3Lri3hX3N6TdoEGDYqQp9/B89rmVIQxsnGcdD47JE71B+V35TJSx6jB0BEoe4RGR2kL9Qp2UdWSrz6Ckc4kOzVxDiU4n4qa36spaQPvPdxBuBqlIfYFHB9pGOltpJ1t9UICIND7UaegvaRBcbbXVYp90V8bviv5AG4dnGEDH+uUvfxnnaP9ydhsg5/REx9hvv/1CT+S/5513XttZ6QjSjHT4/e9/36P4xisQ/yf98ASBrgukXz1A2IBvQxcfNmxYeEbiu8uGSZbQefDBByszJwl/ypQiIiIifU1P5LC+5lsTBaauWQekqchkx6Up6zAChkmOMdDlKD46ohdffPG4vx4z8NTAmidHHHFEKBO4XsmF6Z966qlQmulsxv3p/fffH+e7Cv8rK71dpRzHKDWbbrppPAvXiszQAdIFRbis5HSHzz77LNb+qIbOAtwcZacBcULeQImfGjKf0bmarup45vHHHx8ubfgOlDLOrbfeevHd1VVSxgl7wvWf//mfxW9/+9s4JyK1gXLJDHrWxuM464qe1kXNAHUzbtAh6+bq+gvqte2kzmU9UcKHkXL55ZfvUdvVV9BebLfddtG5R35jUBGG1antxMs2B1599dVwC5ed0+W06s90w6X+TTfdFOHi+3HXLiLSiKRBiT3tDANiqdvuuuuuMDJ1h450hCT1jJRN1lprrfASwLvR+VL3YNAV3oOAJU1YG7Ar8H7emXv0lqFDh8Yx78gBSxmu6vA1G5ke1d/JeTb0P5aQgU022SQ8ARH/yBx4LOoOGCcxSBLPvI98hCehhHMdhaev4b2EC8iDzKbdaaed4lsZaES+4Bg5Ea9UhBvZA49F/C/za3+FX0RERP5FdXtMnw+TgZg8RLtO3wSy7IsvvhiTn7oL8i+eEJlIVIY+pZxY1BuyQH5HPq/8zLL80RnINR31EfEM4oE99/C8fC7/I654NxteU/Dayf3cO2LEiLan/AsNlC1KZhI655ZZZpnIPPxm7UlGg5JpLr744mLbbbetKFq9UUDqBQrNWWedFUopsHA9BsrsYM7OS/jiiy8qylVn8EygMPKMqYkv4p+F/1HsCBP7LOhleE9XICwZpo7+k+HlOooUv4mHrGymlnL4Ucqo3PPbeE97BsrqOMTIifvbjz/+uO2MiNQC6gQ6+uhUolwys37nnXeOMl1dTpsd4oK6i3W0GAHP9+OyjraUurK6jq3X+GGW/AorrBBCMC58cbvNd9UDKQhjoLzxxhtDCWCgTnntz55C+tExvvnmm0fajB8/vphrrrni29trZ2sN+QdX7tdee238xu2665uJSCNSrlPRbdJrDR0WLKXBmoHdoTvtK+9JfY77eD97zqP/nXHGGRG25ZZbLgZp5mDK7kBn1YABAyJcPBe5iCVUeA7fmOHrLJzNDvFO3Gy55ZbF7bffHvGC3n3QQQe13dExKW9dccUVEbccIw9gAMQwzLPao9bxTfrzTgZ2M9gbGYOwA3kQnR6D7AknnFAMHDiwEj7iJctHOW+3cn4RERHpL6rbYmRD+kpoy1PWA/Ry+it6As/N9+Rz6FdiQDL95PQplWXIlDF6Ssq/yBvlZ2UY2Jdlkep38c08g3tSrkbG+dOf/lS88cYbsf/DH/5QvP/++9FPzz2cY2IUxtt8Hs/ge5HjOPfOO+8Uc889d1xL+rcXRvoVMgUFgJmTZESEfjIULkMZlciaCWSgzKz9SRae3oLnMYoXiId77rknvp9Cw7Vvf/vbcY3KqKvKKvHEiAcKa3Wh7i48a+WVV65UWDfffPNklUZuXaV8L2Gr3vJ6VrJ8M++mculI+esK5bAS/qzcXnvttfhNhV9+fzXl/7Nlp7WI1IYsm9SPuKoC6geMWSnstBpZBzFwJesmRoNxPuOrniHdgE5Z6nfqYWaYICz2VNDuTWhHs90hPNmBRx7sjfB98MEHxVZbbRXPpL3GEJhpWm5n+wvK1JAhQyIMfPvUtsMiIv1Fygh0UGDMo06jbsM7T3eNk90Fj0C8nzqUQThZr1PPI89wLetY2sXuGicBOWCPPfaIZwAj6TFYZnvFOzIOWgniNTfihj1rR7Kn3U05ZEqQZrgFZjYix7TVrDuJl6F60AcJExt5GyMqs3SZIZCyCt+OO1eM4WPGjAnjZMYL/2tP5mjF/CIiIlIPpNyWbfE555wTe+QW2m7gWrbz2Y53B9r8lBtTHsJr45577lmsuOKKsa42A7HwXAY9lQt4D88nrIST8NPfg8yCQZHnsmwcg6uYPIQcg8zFMnF4CsNOhGfJhRZaKLY555wz5F7+h8yMZ0MmMGyzzTbFwQcfHEsdIOswSIuB8ISfd/JuwsE+443zPLN69mn/W56kX0hBmMyFkE9mIbOSMeeff/5wPYKCBWTgeqUs0HcHKoRca5LCQucyhYXzxAXfz7NRojDYTokMBzNQc23LqYH37rLLLhEmno1LolRmegLp3FnFxjcDyh75APL+zv43JfK9GXa+57TTTotzKO8//vGP490dfVemR1L9W0RqA/XkUkstFccYkJjNRrnGbXSrkXUio/mTZ599tu2osaDjDGjn8ZqQwnJ/wsAg4ph2gQ5N8h7Hzz33XK90SGKcTLkm2x/eR7sLHbVHtYLvxSBJOPjeXA8640FEpFGgzqLuQl44+uij4xz1WsoTfQVeDZgdz/upT4866qhKpwjneH/Wp+nqFdmGc+WtK/DcbJsYLY7rdL65JwbPZoE2K9txYE97yzn2XZWZMPhed9118R/kEzrucBPLcyDfU/27VpCveR8u2TGiMtiL3/m966+/fuR7vEFwDjmD7+Ce1LfL+ayWYRcREZHOScMbXhtYDoBjBh3hLYNJTrT7eBjr7nbuuefGrElkAPrFkSORGwBZgOVeZp111sqSL92BZyKfsGF8vPrqq0NGwfCINweMjt/73vfiPXjTQrZi4hr37LbbbmGkJIy41ce1LYO72f77v/+7YjPJfnmewVbuQ0p5GzkYV/a4sWVyGEvI8T2EBwgfz52MiYGXFmJiJvjG9oc//OHriZkrtomZ6OuXXnqp7e76YaIQ33bUu1AE2CZWCF8/+eSTcY53TSy0X08saLE98cQTcX5KrLPOOl9PM8008Z+JlcjXE5WQON+TsJMuPINnET72nMtr3d36i3w33wLEybzzzhvfRH7bcMMNY8/3zT333JXvzW1iZf2NcxMr0XiWiNSWCRMmfL3qqqtGmaSue/HFF+N8uY7Leq/Z4TsnCm6V+mmigBnnqfOo7+qh/u2MTKeLLroo6mC+gbStB8rtxgUXXBBhI4wTlYIex2f+b/jw4ZW2JLdbbrklrpGPM83KW63JtKH9myjsfz1RYYjfeb4/wyYi0l2++uqr2A8cOLBS7959991xridMqQ6k7VhyySUr70q9oXw/96y++urRhtO+9BSeSd3Me9Al2d9xxx1tVyXloS+//PLrBx98sCIzzTHHHG13fJOyTIluTbzyP7bnn38+ntnflNvjtddeO/IQ7TVhHDBgQBxfeumlk33LP/7xj7i/nA+hvXMiIiLS3CBLjBs37uthw4aFHSb7ZFJWmnbaaeN4zTXX/Prll18O+Se39kiZg+u77LJL9CWUn1u9R1bhuLMt5a+UxXjm7LPPHn369H+ttdZaX++2225fn3baaV9fddVVYVN58803K3ISIOMQJsLHxvGhhx4az7v55pvb7pqEU5FajImZILYys802W0zNhYmZJ9y7JhPzSNtR/0K4oDfDM7HQxNRl4gOLPyNocXXHca452dX3MTX5vvvui3DyH0btMgpiYuGL53U33IRpYoUQ6cL/gRGjGQ+NQuY1vgVYb+bdd9+N34ymYKZquq7j3up4yv8zqoT/5G8R6Xsoj1kmGQnFrHrWJQZmGjCijHq0XMdR77UCfCcjzvJ7WYuSuKCOaoR6ivqUNGMkHfUrYWYNrpxJUi/g0SFhJF9P45a2/a233iqOPfbYyZ5B3k1vCj1pq/uCbBMJDzIE6zkgY5TbytxEROoZZAdmxQNeeqjXaHOoa/tCp6Gupz1OXZZ68vjjj4+6tLp+Z01jrhOO4447ru1s98h6GJfpvANwb5Wjx1sdZI1//vOfETfofQnH5fQvpw15BB5++OHi7rvvjraPeGZEP66BU6fsT5D98LDELARmUPAthIsN2RC3Zsya5Dwb35eyFvA7NxEREWktkIuQb5jRiDvX888/P1yqlmWc9PiEnQEX8cccc0zIlx3JQchPXEemvfzyy+Mc/VMpb7FPGYs9z+EcffKLLrpoeJnCo9aTTz5ZvPnmm8VHH31UcdNK31/ucQ/79ttvR7hw53rRRRfFuuIsn7DEEktE/025TxA5EHkHGYh3ss/rhK+MBkoJcHVDhiND33LLLXGunoRmMjCFOAX7juhOmFEUWGeT/1DQWDciOwBzrRLeh1u5KcGCttxP4cOoiAIF/L+78cj9bKQH06yzErn++uun+P31Rn5HKu1UZHwD51hDpKPKNcnvJQ74D7/T9bCI9C2Ut3Kdw/EWW2wR5ZY6mc6jV199tXIty3srkPV0Col0ttGmNApZp9Jm4aKEb+E7TjrppLY7+o/Mc+zLbSluhQkn5L6r0EG+4447xv+ysxPK+bUrMkYtIE1gnXXWiXRCPkk3r939bhGR/gRZgc4H6rE02rFngGhfwPtwIZUceuih8a7siAHqUepTDJScZ8MlbIavJ2CgzPaENXyy40UmMf300xfLLLNM26+i+PDDD9uNb+KQ83TKoU8TjxxjCMTgNyW9sVbQgbf00kvHoC7CyMBmwo1czBrtyIOcZ0u5gnzH97HPLakH2UNERERqA7InbX8OcKff//bbby9+/etfFz/72c8mk1k55h76abBZ4P6+mpSpuHejjTYKeYNn83/+u/DCC8dEA1zHnn766eH6FdmXfgcG9THoioFgLGGEfDPffPMVP/rRj0K+yb78MjyTd/C+fAcuXdmSlHXyW9mSBRZYIPYYQstooGxRMoNkJsGnco5wxc8wlDNQf4NiS+fkz3/+82Lw4MFRaHbffffKiIDM/N2FhWghv5XRApBxAV1RhpjZARRI1jlJynHcVfJ+3osBlWfybcygpAKpp3SZEvn9GWZ8bafSTlqSflSmeb18b+6B+4D/aqAUqT0IFtTDCCnrrbde1LszzDBDzEygownBhXqKctvT+rhRyO9kY6AFUI8h5DUSpCl16vbbbx+/SV9GwtULxDOG3xR8yWPku+7CfxHmc80r0mreeeeN59LWf/e7343zKTz3NzlQin0qBNkGNnO5EpHmhLoMww31LXUaI7U57op+1R7Z/rZXXzPgJut6RnGzXhB1e0egV1Gvsk/9pLvwv5VXXrkySIl2avTo0XEsk+KHtCK955xzzjhHPih3YmVaZp7AGAm01/yfWamdpWOtIG1Zu3vfffethIdvOfXUU0OGYh0nZONy3mwvn4qIdAXlfpHmhLKN14+y7Mi29957F/fee2/MlmQSFHIR57mffpGzzjorrlWTMiwyBwO8MThiyGTPe/DweOWVVxZXXXVVsf/++8eMTAaO8fyUUzIsnON9Wf+U70nom8iwTUnO4b58Rm75rjSsJhooJTIIFvV11103fiNgX3PNNZMZjmoNYUiYsYOwT0cwU5//f/b+A9yq4uz7x9fzf9/39yQWlBhNYjRGiV2sYBe7YkfAjmJBY42KBbEhiF1sqMSGXbEjVUXsDbuCvUSNplpBTJ73l+vH/3xu93c7LPfp+5yz9z7fz3Wta/W1ZmbNmpn7vmfueeqpp8LKf+2114Zwg4u6NJxNqcjTa+gpwP0cw/iJkvmee+4pnM3CGFoKPYNJcjXigfvTHqJCz28qUkbyDeSCCDBSNuc5HQnhVFgJP3EZP358HMPIQW9YhDspYym0UrhOhmIpaSlc5X7XGNO+pJ0l+F9x+YBrq6OOOipcUOYbHmkZUIsQX0a5EUfKbOqmaoQyVW7e+W5M/v71119HeduRkL40ts8555xiw5yGOmi/MWhLnHzyyVFPcw/QO5G8TMOYkRlq0FdKfuUbwP777x9rwoRy1hhjqhHKctr/1CmUt8hJlMcqx8tV9j788MPheh54p8r9Us+mnMUVJ3ANo9TzSpKmwLOJFx19U4MVdYvqHPMDXbp0iTVpRJqXgk6/1NPAd0KphqzYku/TXHiH8ovyJe071rhLQx+B4pBvznE8LjGKkk7TakuA6nGR3wcdK3XOmFoklSu0rf+tPhr673mGdETQ2LOqDcVHesFai58xnRnq/rSjFu1WFm0zLQ02CTpZ077geunbJk+eHIN2GAWZtltAz8AAiaGSNfenzxfs19cG4Xi6CG2nxsxSEKb8vSlp2Z1S+mmm04EQteqqqxaFK9y8zp07t96M0xbMmTOnsPX9SIa99torMvwdd9wRGZwfi4VtLZxHYEBwQYGnH0DnS6FzEhwZTk3PV4ErIDWGuI6evqXgHD118bfM+wnzSSedVLJHKNT3c5ZCQg5rzfnG8/HxXC2oQGIhrShASXOWbt26Fa9RHpPCGPL3CvYRDo0xHQs9sih/KSspl3baaafCmR/g39U/rKWWoEymAwtxpA6othGUKXLtyjei5x7u2IhXJXDsscdG3UDYmI+KOoN6hH3V4/WBQfOyyy6LTkR8Lxr5KJKZCxnjZUMN845GRmOYMWNGu7bHjDGmnLz66quxpsxOp3ig/NXSEnieZDaUOcCzcbmadjAt1QZJ393S8pV7JbPhNguoa5gHU3E0P4D3AuC7Me91Ho7TSYo1S//+/cMNGGmqdG5LeAfflHezpu3AaAN0A4MGDYo8xHdFZqXT9IQJE2KkLm3AxtoTnNP5/NqYWkZlr3Rk7POvUe7yD5Qqn4H/kOs0D1senkfZIGrtf1LakAasFT+2LRMY0zkYOXJkdMY44YQTorxT25KOC6eeemp04qrEsq+lYXLL2QQo/3BNqgyPK55FF100GgbthVx38pPR4MAwmQejpX5MKmdc07FPJc2krPQmaAx+Fu5nUfyYSFbwPJSB+qlkNMuDYCV3rlyLq0NGO5ZqYDUXfQfQPJnEkZGjlVgANQZhHzNmTKQ3C36xAVc4CHUcQ8FAQUv8FMc0HXSsa9eusTbGtB9pucN/yah7Rp8zypnyCffYW2+9dbGXJ8Yf7mmoPEzPsa2lmthggw0KW9/Xm9UKPewYDaoyl29bX93X3iCYk7fITygLzz777DhOWNM6QjCyl2/BOVzWaiQLc5FxL3lM+ZP6vtLyncJC+BndSnsI9yw6Zowx1QTtAslbrKVsLUd5xjN4HmU97RDKdY4xqg35Io/KV6032WSTuIdwtdQLAvcD7u+B93744YfFOJsfoCe/KFXvYtil0xvnWO688844LiN0W5Pmj9133z06azEdjKa/oe3AqEn2maeJdhL5jzzQmMFAz1Z+0dqYzoD+aRbyPuW0dHjsl/ofuIay9OOPP4411+YXylk9txYhDZC1ZdwF0kryizGm9uFfP++888L+wOAooG2NRweMlO3VRio3pcowazpMQOVHxbfzzjtHpYeCD4UYx9uz4p81a1bRpSnvo9FP70lGdDLCkl6MGC4l9F1//fXhBo3rUUKeeeaZTQpn2hOL6zfaaKMYZcH7+MERQBqCyfEZdclzSCMMbUOGDIlnEZZyQcOLHhO/+c1vQghi1Ae0x7doDfnwsc8IStYsp512WhwnrUhvGlk0PBvKb5zjerl9Nca0D/l/UdBBhJ7u/JMYjlDuLb744mHooqzif80vtUAaD7Yps4g/SzVC+KlrmM9AAvC4ceNiXSkwqpN5F1D80hnoj3/8Y+HMj3n22WejLcO1xIt6Hbf19EAE5WfWq6++emxXGoSbuhGFN2vCOm3atGLbxxhjqgXKYnWyoCxTh5NyQXnJiHPkBJ6PwgZkOEpR+Q9sI7+x5t6WekHQO3bZZZd4J89bdtllq1Zh1JbgaUggF+a55ppr4nsussgi2Q477FA4+oNnofaAkbB0DmIeUcJC3pAxgOllGDXZo0ePYicu5TuuaYh829GYzgL5nYX/BOM++jo8t6y33nox0p019YSu08K/hYe3VVZZJbxvUQ6kC9NT0U6+7bbbarZ9jDxGWiBjUrdRJgmOG2NqF8pMoCwEykrKTunSgXIBvUdb017ljQ2UVYIyJ6Tb5WbFFVeMNUrKW2+9NRrb/BBqKJSL+oQ2elZ+8803EUfeN3v27DBO4qZNitN+/fpFr0WB2yCECRoqb7zxRjwjDa9G9KSk8xhyHfFEAares+zTUAIEpFGjRoU713PPPTcmx6c3JSCcYNxkrgzSqdyNI8JBvJknhYYJccFAS5hJo7bMC61BaS9oTL311ltxnBGQxGfAgAHhlhflwDrrrBN5j1G0fEfdzxqXrqQzz9C+Mab94L9LF1DZg4ts5nniH6VjB2U281LiGptr6cwB/L+U+6xZdL+MY3kaU+ylZV9Hl4NSthKXanLzqnSj7qLcJfzMbaBjlQT1LnNJUg8SbnoPopigXma0JPNUovBAUcG1uKhXHrr77rtDcaw4sdY28a4UiBcLcaTuZ8GlHP8H34ZRJZX2XYwxpjlQhrVmLnnJWSrfKTORw3gu9TCuXXv16lXcFypftS1wT69z6ZyIPD+9rqkgp9EGwpAlOdL8AN9P3wWZPZ2TDlkbmZ/zGCiZeylPS74JcJ/anrwz3QfmVqdDNPkGY0faBmWULV6AaOOif0Aup35OSfNaQ3BdU681phpIZTi2MezznyAfYsjnn+KfYc1/g7tkOkQy6uf5558Pz2ms0+eobc7/yX+n/5QylW3+Ida0/5n6AZ0S9Qpt/TfffDOurUYUzxQ6A1NmkX547VHZo7qw1D3GmNqgVHuBsmDEiBHzGSnxIkKZWsruUakQD6AD+nzUFWrGFHnhhRfm/eQnP5lX1zCYt/POO8/7z3/+E0tbUNcQmVdXucYCdRUuNWwsdT9jnJ8zZ06cy1PXWJl3xBFHxHV1mXveGmusMa+ucRLh5v4JEyYUn9sQ6TXanjFjRjEcCgvvYDu/3nbbbed9/fXXTXpXa7jjjjuK4SGeel+ahg0tHU1dwyrC/stf/rIYD5a6xuS8Pn36zFtllVXmde3atXh8iy22iG/5i1/8ItL6//l//p84Th6pE14LTzXGVAL/+te/5r366qvzdtxxx2I5rjJS/y7/M//1uHHj5k2cODHKJcqvuXPn1lteUc5DqfOTJk2aN378+HlTpkyZVyecxvG2qqsa4+yzzy7WE8OHDy8Z3kqmrjEb68033zy+HwvblQTpSDi32WabSGfV9Q0t/fr1i/w1e/bs+fLGX//61zhPPNdff/0ffa/80t6k7yRvE1by1yGHHFI4aowx1QN1PeUt5dgKK6wQxyjPOd5azjrrrKgTePYGG2wQZX1ahqZlOUtebgLKWOoU7idcOq51c0jj1JL7ax3SRO3DpZZaqniM77bqqqvGd+TcyJEjy5I/oL62Ie/dfffdi+1U1mpbsO7bt2+0bf/xj3+EHFsf/s6mM0P+17/KPyQ5goX/iGMLLLBA8b8vtei/Z92jR495a665ZqyRRdJlu+22C91b+h79s9zLOzj31ltvla386AhUptx0000RH5YddtghjgmXO8Z0bmivUi5Q/lEWUk4888wzhbOVzy233BJhP/HEEwtHvsddsc18MNE71FXq2cSJE6MHYV2Gj2Plpq4hUVzowVpX0cbxusZFbLOub7QcPbFGjx4dowvg3XffDZeCuGvjPoY5M5KHeDQE7xba5t0KV12jJ3om6Vi65v30kqWXp+7j2raAeTAEPXwVBuKqsKZLJULvryWXXLLYW4K0Zb4YRp/Si/bLL78sph/uP+gRzXcmnnUFcBznXp5jjKkccPHKiEl6oPN/Uv7WNZLif9W/S11CT9cDDjggynt6ulK3MJp6v/32m29hPmF6iVIGsOY56cJ9jJTr06dPjKJj/Z///CfOtVUZ3BDERfUE815VG6Qn4eb7EAfAW0Bj9Wd7Q51BuwRXrdRzfO8U1X/E58ILL4yRk/TKY2Q+xxQ3RldyHfGjZ3aloTqc8PI/EW+O8U9V2jcxxpjmoJ7SlGv5Mry5PPLIIzF6XmU78/NQ1qdlaB6dy0MbBflK5S3Ud21DpO2Qltxf65A2K6ywQqTzP/7xjzhGOuHBCFkQaFMxZ3Rr8wfwPvIEdSf5gX3apcjVyJiM2GSf+lU6D9qh6BBoQ9C2XWyxxeJ8ffg7m86MyllkCP4l/Wcs/HfIZ3hn4d/in04X4D9k5Ds6Na5/4YUXYqoG5lpjaoOHH364uOBJhOt4Hv/r66+/HlONMLUI7+PdhAH9EvvVDmlGfIgr6WhMZyX/Pzf2f9fC/98YtKMYScm82Iwup4zAjT5xr4b4Y7+B/PRtrW/5mXZBmazcmS19Hts0slH2av/2229vMwWe3o2REVef7NNYefnll+M4pOHLQ1hplOA+gjDiHkJxgMGDB0fF3hyDFteimOUZLGeffXYITcyJwfFLLrkkXNBwDJewapQp7A2Ft7Xg4gE++eSTotsb3l9qqTRISwpR5g8gfKTV9OnTwx1vHq7FjS2KgpVXXjnuS1l66aULW8aYSkLzh+Deh3mMmV8Id5sg9z4qWxG2UPjQOLnlllvmW+68886oB1566aVihwwW7tczpCyijKdMoZyQYNze0LGH9xMmwlZtEGbqOjoE8Q2ZX5n5XkjbSoC8ou9KWIcOHRrKQ+pijN24YaeBzpwM1Cs00DWBfJofyDuC57CQLysNGSEJnzqKAYb/SvkmxhjTEtJOFrQTWgLPwKU3Smk6nMC6664bSm7JYVyTlvn1wfWbb755GE7ZnjlzZhxvaVuCdojoiPZIpUN9hixI/UZa0SGVdD/qqKOiDcU2CrZy1XVp24H6lPZCly5dwviodgDtN9oN119/ffavf/0rGzt27Hx5h21/S2Pqh/92s802C/0Url1x8Tp+/PhokzM/GgZDDJilFnR4GCOZR5j/ESRTUQ7w/2lRe1j/LrLKwQcfnE2ePDnkgZRqbi+TnoC7acnPdPBNUVoZY36M/qH2pL3fSRsKHRQ2CnVgwGX2rrvu2iHxby4qz9WOF/9VF/jKD72JTEbGU0UtAY/5rqiUUQSTSanEqNSp7GlMM/qEe8m8ZFaUj5wHMoW2AeMc91933XVhNMSazeiUUnNAlAPCi4ERRSJhJG4IDyi085Uu10ohnQcl9rBhw6JXFfelQgTKbSaTbQqkGelJA4l3kVb5H6Y+CD/v1rrc8Fx6dNJQgRtvvDHm3dT72uKdbQFCJ/N4IJCWMk4CcSGv/+lPf8pWWmmlmKOS0T18V/LrBx98YCOlMVXGhx9+GL1iqV8wLs2YMSN6yVPuUo4B5S71EmUA/ztrzlEXUe/x/1MuM3pywQUXjLlrKSt69uyZrbXWWsXntHd5SP1EGGWgJU5Q6eUz4aOOY74W6kmFk2N8G9oZHCPtOxKlY367pdBe0rzO1EO0IRqiI74f+Z/wyYBKGMhX9bWDjDGmEpGhUPXINttsEyNgmlqupmU+ZSB1LfIsz2CfdgHLnDlzWlRWc88xxxyTXXXVVfE8Op/iIce0HXvttVd0ROXbku58g0MOOSTyCJ6QqJPZbmp9T7tR7a8U8h66hZtuuinbf//943lC7U+MGugQ0JOk5wXPbGo4jOmstPc/kn8f7XpkQSGdabWheCEDUAZS32mgRSoXuzwynR3V74J2gHTFefiX8naPlpA+Q3YTkJ1C/217w3vffvvt0GkQRtIFPRu6McLTUeFqDNrel156aTZu3LjwnlakrpAzVURdhVuce5HPx8I2S13GKx7LL5yv+3FirgXmUxB1Gbaw9T11P3vM15Tem7+mHBAP5i2r+4Ei3HU/+7y6TFo4+2MIF3Af4cmHiX18MPMcpQ1r4ttU6gqa4jMIU+/eveO43ldqEdpWOMsNz2XuReJF+A499NDCmcr2Qa90qhMCY/+KK66IeepSmFNgmWWWiXkoWfhuzB0A77zzzrwuXbrM23DDDYvf9KOPPopzxpjKRv9/qTJKx+oadTGX5J133jnvnnvumff666/Hf095TLnH+Xy5yjndX+rZHYHqS8ooUV/cKw3Vw7QRmE9TVEPYWwL5ibgS5+7duxe/U31Le0P4qDNXW221yE8sW221Vb3zaBljTCVDOfqTn/wkylwW0ZTyVdcgmyK/Mm99Wt9Slr/xxhvFdoLK7aYutDFuvvnmeBZ1IfMSM0+xy9u2gTQfMGBA5Afk2dGjR89baaWVit/0xhtvnPfVV1/Fd2kKPA/QKVBv6rvRTuTZ5Dc9+7//+7+L+Yb5Jck3XKd70nyhRceNMfXTkf/Id999N2+TTTYp/tu9evWK8kO6p2qEMumRRx6J+BAv6c7ScsmYWqNU/k51Pin5Y+yn7Ta1CZvalmgK+Xfyjscee2zeSSedFP8r7+cajqdhaSt4l8JEPJmjlzKDOX8pMyq9DDz66KOjfBs3blzhyPdUnim1SqlLy8JW20DPUEaRYZ1n1CFgHa9r3EcvGo5DXUM81qBtzhO+uh8lXJowckA+f/NwDyNT+vfvH/s8f9asWbFdTgj7KaecEhZ9FlzzXHTRRYWzP+att96K0ZBffPFF9HjknjTN2cbdD70GdJx44yqwPvLfrK6AidGodYVK3IuLWFy9sF3fIrSdpn854bnEmXRTDxEWSMNRqShdfv7zn2cff/xxbIt33nknXPXRe4KRobiwII9+/vnnMU8J8xDg7hHXIXwzxdsYU9mUKispX/mHOcb/TB2D60rcbvXt2zfr3r17tuyyy8Zxyg2uyZerlIPcX9doLT6nIyFO+P9XmOm1Rp2tcHV0+Eqh76C6hdEHW2yxRXg04JyoxLC3FupQ4qg2VKXBN2FeNdpefBfaZMcff/x838UYY6oF6mna8NQ11CmUwf/3//7gCrUhVAd9+umn4TWBkZNA2c0oOFyy4uYvbWc0B+oBem5T1hI+PD107do1jpvyozYb7TfyAR518IzD8UUXXTS8BeGCtal1s747Ixlod/H9tt5669hHjk/hnYympC7FO9SKK64Y+hO+dS22dYxJqdU8jktD5C5BmUL5odFN1Qjl2s0331zcZoS36kyVeabtaY9/xnXPD5AWtMPI69TXzEF7wQUXhOcNPOrRjtxoo42i7YeXSI5tueWWMc0Lc9RiK6EdAMjSPCOvQ8qTpn9j30L/Hm0I3Fbzfjw/EkbCQVtCupX2aEMSHhbCQ5nHVDfEgTl6mT4PD1lAmKqJtrGmdELaunDBOMfPSQZThmcbv+vHHntsuKRhmOwf/vCHUJTy87JwLUKXfhga4ggEX331VTyDTM3Pm8KxXXbZJdZce8YZZxTOtI58GmGQlGEVYyXvqy8dUVozLxY+7SmUgPjoegoChjGTTmmhwDZzUzYGRs+LL744wgA8m0IQ1wqVAkp8CiDiRPgU1pbO4dIeEEYW8iD8+te/DoNkCudxy8E3Zj5RXEDivpb9r7/+OhQPzPlJ4xMF+pJLLlm40xhTLdDYpD6h/OKfZ19lGGvKWjqEAI0snUuVVJR/PCM9p3qgrevghqC+IUyEjTDiaohjiqvCW0mgxNttt90Ke99/HzroUCcTbqjUsLcW6iPyC3FL57yuFGhzYaAE8hQddnA9n/4LxhhTDahuZn5IoH7Bharkv8agTqXz4qqrrhrPQl6j7KY8fPXVV7Pll18+jgHtgZaCzAG8L2/YMuWlV69eseY7MrULHaiBzqqgNkhz4F46uaG0ZLoW5tQG8gwKRPIQ7Zx99903jvOdaaexhrStwz1ajKklai1f8/+qAzt1CoMVKlkv1hSIC+URMjHbyCyUbcQvLaeMqTWQeZmXFpmXzrmsTzvttJjLFr0FnQ8wDNLmQ37nGNfjpp1rmZpukUUWiTIBWRq7gHRLqusborGykfO0LzBM8j4G0WjgFP/mI488Unxfe/DNN99EmNRmwhZCBy3CQvtm+PDhEb6WtKk6lLpImTJQl+nnzZ07l1wd7mYY7ouLkroMO9/w2+ai+3hunTA276c//WksdT9js4btzpo1a77lf/7nf+J4Gq50+8033yy6FWANikd+aQ66HrcruHchrXDL8Pnnn8dx0hHS5+LSFrcsdT9apMFZZ51VODP/dcD9M2fOLIabd6Qu61LSe6dMmRJhUTqfe+658+p++sLZyoE8VVdIhysb0R5DyFuLvus///nPSOOUX/7yl/Pef//9wt4P4PL3N7/5TTFvkG/5niNHjgx3HsaY6qO5dYbQfawbWzqCiy++OMo2lrpGa5Rb1LOUfR0ZrlL83//7f6MsrWuwRj1J3TpjxozC2dqHb7LCCisU2wlqS3GctEnzUnt8N+UTwEWMwsW6Ttgo1ve6xhhjqgnKLtxpUq6xUEfOmTOncPbHSEYFpurgHuor1bHs4wqU6yizeX6+3G7qInAxpefj5rUaZKtqhW+nvMB3pQ3CdkqpbwR8b30bvvtFF11UdN2qvIEczzM33XTT0AlwD5BfeF59+YXj+XPGVDLkUfK18nZ9pHlaS7XDf73ZZpvFf88/z5RB0g9RRlRrGa46TXUeZZnKMNO2IG+R9kL/CWu1S5rz73Ct6pVSzwVt841ZtN8cPX+1kqYD/6vq8fyitkK68F+w5lx6LXYS1rpmjTXWCN0xz9f79C3y30bfOP+t+S4nnnhiyXBwbN111w3bTEPt2rYkTcdbbrkldDxKD8WtEssQdP2kH9M8pURrsC7wppXUffwYucjQYra322676BVY92MUrmg53bp1yz788MPoLUqPgPHjx2cLLLBA4WzbUffTxUJ80mzCdl1mKuw1H3pHMBqSXgcwZcqUSC/Qe1jrPfR8ZNg26L2EiUXpW1eQFF05cJxRk4wgBUYiDBkyJLZLwXtIW55F2OippN4PxB9aE1/zPXwjen8xApZ0Jd3rCtAYJXnooYdmY8aMKVz5A3y3uoI2hqjTIwZXv7i5OP3007OhQ4fOlweMMaajYHJyRntTl1C/PfTQQ4UzHQ9lbV3DPMrLyy+/PDwWAPuUxXgPOOKII+I6Uct1Xl0jPeoR3MoRZ9zB8N2o/1mn6QDtlRb0Av3973+fvffee8U6kl6jm2++eWy7HWKMqSZUllK2avQH7f7/7//7/0IGXG211eodSUmdeuKJJ4b8h0yG3EtP8N133z3KxIEDB0Y5iQzQ2rKR+3k28iYeW3gurkD79esXdYIpL8iD5APVc8iFl112WTZgwICiLJ+vhyH9zpxHLuS7cZz2DAucd9554a4+lQ/Jc5yXR5+m0tq8ZUw5ybcFac+mZSjnae+T31MXp/n7qhXiobb6JZdcEqPdiRdlydNPP52tt956xeuqOb5pWUVZiec7vjPxNG2P8g//kdI83RZ/+tOfso8++ijkN7bJmym42kyh7qNeYqQ/05vhGY79/HN5P9TCP9sUKMdw54oHR/I+8SYNSB90KngS4nip9hjpx6hKRlfyDL4T8L/wPfQtWfDQRzsDr5SC87QjaIek9gTgnSeddFJ4feQ6PYs13ww9NW5VOVYqf7QXabgIB23XqVOnRrqiX8fjZtoeqhRop5G26Dr41kXqImLKQF0GpiSJpe7nmTdp0qR5X3/99Xy9d+oyTGGrcbhWlm5NHl+X6YvHtQDHGluaC8+uy9zRK5H4DBo0qFXPE4wyffDBB6NHA88mXuloQOD5pCeQflxb99PFwj0LLbTQvJ122mm+nhCQbvOeF198MXpO6lml4BwjMplMVt+P8DV0T0dAeFqb9h0J4ed7MaqIEa3kqfHjx0dPk48//njecsstFxPlluLII4+ct9hii83761//GvuMpKR3DKNwjTGmo1E9r3qEujqt+zsa6g3q9J133jnqU9WpW2211byXX3652OO4muuY5rLaaqsVez4+8cQTxXiTTkqHtkiPUs/jGGFYe+21o41Dz8dVV111Xp2wFefU1lM7wBhjqoG0vKK9P3z48ChzqSd32GGHwpn54R7qJUZZ6lrKataUj8h1peC+liyMUtA2vbh5DwujKPPyqWk9pDPtI74pbRHSmjpPcmIq7+YXUNuKfeUL2l6MnrrkkkuK51JUr3OvntXUxZhKQ/+KSNuG6LAuuOCCeaNGjYr9Wm03Um6jD2ShHMDzmY4rvsS92iDsxAGZgPqOOrB3796Fs6atkbwF+sc++eSTec8888y8008/PTw6SH5k4fuki9oPWvLn03v0jK233nreySefHB7yeCdLNebd1kB8+/btG2lGu4D2YVrGNVSG/c///M9811544YXzNtxww+Kz0DmrrUG6015YZ5115k2bNi3aeDw7fT7PY3/vvfcOfTP3851YL7zwwvM22mij+D/1TtYNha890PuVb66++uqIs9JSdHQ48+Dlgm+Ch5UUGyjLBA0CMjyJvMUWW8QxZQJldGhqxuA6ZXy5IuPnoNJqD3g3Q4RlRDzooIMKZ74PW1PjkYf7jjrqqGIhQSHSUCFMAUC8uX677bYrFhL8cLvttlvc29D9TQmrGjcs22yzTeHoDzT0fNHS9OgsKH34F0hPlBQIpHLtiuvapZdeet7BBx8c+3mOP/74MFJi9If33nsvKg2MnXb3aozpSFRXU3+ovkJRVgmNVnj22Wfn7bLLLkU35oQR5W9n5pBDDol2BGmB4JlHbYdyf79Sz6NdR0c02kR8H9pdIm3zKZ8ZY0w1wvQhUhRR9p5xxhmFMz/wzjvvzOvatWtco4WyEZmPDopAOSr5T0taZjdnAcpWZAmeQ7h4H+Vwe8ncnQ3SG+Uf6Ux+uOqqq0p+m/ySh3YWhskXXnihWD+m9STfE5A9odQzG1uMqTTI4+jHMELus88+89Zcc81iuZWWr6xlnK81MNoh01BOo+QmjpTX6f9frR1MiAsdFPmWLAzKgDRupm2grsBwNXjw4NAP63/i30plaPTRHMsvnG9s4Zm6X/useT4dibEpdBZUNpG30euSFqQLOn+OcV5r6nO2tdai9p/qe7Yp91j4lgMHDoz05bkqF0l/3oV9Y/bs2XGf7sdVK9dyDd+EbdqkGDWZwi8Nc/pOOuHpXEdBmESXLl0iriwcT+1RlYJcdP/tb38rHPkeGyjLBCMmSWAy/kknnTRfBlHmbQ5qTHOvDJT8KDRIRFtkMp7JoozMe1WAtvZ9FBTEh2dRKNCoQCDkXfU9G2Mm72fBmPnKK68U72etHmI8g+en6S54J+dKgUKZ57DwDtM2lPq+fE8qI74pULAzknK//faL/TzkhV//+tfzvvzyy9jXSEr5FSe/lvr+xhjTlqiOv+KKK6KeZqFxrfq0rVF7Qe9ijWBOeXjNNdcUG9jUc4QNYZd7WtI2qRUYsa+2BB1g2rLuSNM5n+bUX3wTfRvmnMSgLJSH0sUYY6oVRrpIhmONohm5mXqJfeoqdRxlm3IR42SqfKYcZUnLxfx+cxbB8/HaovqSTpOc17NNy0nTm3QmTQcMGDBv7Nix8W3Z13XlJH1vSxZj2hv+DxbyH/OSs+DtC2Mko7con2jXs1BOpmvOpcs///nPooxQK9BGRodI/CinX3311cKZ76nm/1dhRt+r+DGyzLQPpLfaHmqj6BhrLYyk+93vfhfLnnvuOW/YsGHzJk6cOO+hhx4quWAoY+Ffxsg1derUef3794/n69m8k22OadRbqr9WHVmLUN5JJ680V9w51xDpv17fP4+OmfSnDOX5qV6ke/fu8T2AbX0L1nyP0047rdjZob62YH3v7Uj69OlTzF833HBDHKu0cPbo0SPCl8/bNlCWCUaEKSMzBDz9UbQ0h/Q+XDXwbBYsze1VQPFuMjc/Me/mx5aRsblh4Fnce9lll8VPz7LBBhsUe6cqrim4adWPxSIDFKPmVHixEMZUuKkPnq9rWCMU6zkIw8TPtA35byvOOeecqOQZEQkYrDFSYowsBaNellpqqWJFowpErj1EqfxkjDFtiTrQsFC3UM9QVrU3lH0XX3xxMSwqJ1kQjKgvO7vrOnlnYDniiCPavM6QoKV3PPXUU+HGVd9FCz03hcKUX4wxppphRD8KZso8uUanzsSzisplFtyQo3ym3KM+TWVQlnzZ2NoFqBvVaQT5hN71klVNy0nTGFk+/Y4p6XXlRM9t7mJMe6K2ImUkZaB0ZiovpRdjm0XHV1555VCu05kDPRmj0ydMmFAsM2sJPNUpbXbcccc4lpYn1RxflTmMoOS7EsdTTjkljrk8anuU5qxlxFp++eXDmDh06NBww4r3N9oE6kQALc1z6AhGjBgR71H7R25FeT+uL/MDMGqxbiL90OeT7iyUc4qjysT6aCw98uf4dthtSGeVpfrm2iftcfPPf1hfBw++iRbeQRwaCkd7QphuuummYtwoJ4l3Y2nV3uA9kTTP/z82UJaJvIFSmTRdWgLP4cdQA4SF3v64xBRtkdEQ0HguFncZ8fbYY48419zGDs/heu7DDUNq8NR5XZPCj6Q0lXsDXaPRd5ynEKd3kRSupQoyPZ+0fOCBB+Ie4sVCeDQSE9JKwJQH0r8+jjvuuMjfuHUCKutll1222CDLc/jhh89bcskl47vRo5BGPEoEjJ18YxblKWOMaU9UL1Fv4XasvoZtuVG5d+WVV4aQQxgoV2mYsjCnNBAehYm6srOWk7QXlD6MWmzLej99NobJVVZZJb4P7yafsOCia8aMGYWrvkf1WH4xxphqBvkOpZzKQcmFkslwc6a5JtNyLy0H22IB6kU6rRAeFjpM6pxpOUpjyWnSJei4zmm73KTvac5iTHuCAQQ5grIwbSNSFlE2ss1xOrhhNGFEltqY6hApPRjlLNRSPmZuNdJAejzFFbmmLcuP9kBhZ6EzqeogjAuKp2lb8IiIRwd0xUpz/V/6NvlvQb4TbNe36P764F9G353q/Fmuu+66OK97G3tOtZHKyIozeox77rkn4kk5RppzXal0bG568AzAvSvlCO+iLGFb0/WhU66v/NT78kul8dZbb82nkyI+HR3W/LsZgUz40jwANlCWCbl4JYNTsCnzQ7rdXPQhhwwZUvxpyWTsp0bKcqP34kZT76XABBUOzYHrGR1H+vAsCgNIC/18Oo0ePbpYcGCQVMOLeyiomHtCQi0LBQqVOGGWP2lBw4Wh9zTmuFYNPO5n6L3er8LItA+kOd+T+dDIXxpJKSPlYYcdFvspVODkC1zjYTTn2911113xXckXyp8sxhjTXlB/yEUJ9QsdX/KNrraC96R1obapc19++eW4Ji/A5+vczgTpRW9zpVVDHZxaC+9C2GH+CimYeCdrjJUopPLoG5VajDGm2qEsY3QkrtEwVuIJhTkqOZ4vhzmGVx1tt8WShzJaMqYpL2p75NO/1HcoN+k7m7IY057QJpWujG28SuEKmQ7ZU6ZMCS8b0nUgc5TSW9Vy/lXasNCuhrS+qOY4E3a+KwvfWfE88cQTO7W81p7ov0nrqHQNOsdaxxuT9fXcdEmfk4JMKCMlZQA6T1yhdwbonCa5nDW6XtKqLdh3332jPFFayzZwwAEHxPfMt0MpazmefvdKIw0XOh8M3ipHGI1L+JX/OoL8e3/zm9/MW2yxxQp7P+BWd5lQT1AyN0JWWtjkC56WQCbDiMM7KKj4gRhJSQ8bzqXk91sDP6OMevzETNyrzN0cuB5DoH4S3LsqXfSj5NNpww03jGsREPE3T0HBdaoECJvc2JEeKtC4njRiDjDcA7Gv83wf4sGa9FTDjme2JF6m5SitWfNtevXqFRP6YmAG8jFGSiaqFvgI51oa6rvvvnsc++yzz+b9/Oc/D3cmykcs/pbGmPZC9RdzPlIPqY5pz3JIdR11HKPKCQuozlTZyL7Cq7UoZ/uhUtE3kYtVvlUpI2FzSNMt/eZ33nlnuN6iFyPtEhbexzxCeNvAMJp+D+D++hZjjOlsdETZx5QSkrfZVicW03r0PVlT96X7xnQm0jx///33R5sUhTn6EP6Npi7pv5Qu1UwaftrJ6ahC5B2QESGNbzXHm2+IbhIvc5JP6MRTLqo9T1QCfKPW0tB34Pny9sf3Jx8wWAeXnZDm+VqDuBNX5X3W2FgkJ7NIp9EUfQXXS9cP7Ovfkl1AuhMdYz8/dZggzash3RVGDNvEiUXeKHVOnf7akzTt2CatMVLm+f/VfQxTBv7X//pfha0sW2eddQpb5aPuW2V1FVS29dZbZ3U/UyyjR4/Ohg8fnj377LPFa6DuY8da+y2l7ifO6grH7H//7/9d3L/55puzukwe+80hDQthVxr9v//v/5vVZdDYTqkrfLMZM2bENu/t2bNnhIVr2QeeM3DgwOyll17K6n66eAdh416eW1e4Z9OnT49tzrHo/vvuuy/OE7f0eS2Jm2kZSmvWCy64YPbkk09m6667brbJJptk7733XuTj999/P6trsGdHHHFEfK8ddtghO+ecc7KZM2dmd9xxR/bpp59mq622WnbYYYdlp556ajxLizHGtBeq4wYNGhRr6ponnngie/3112O/Pbjmmmuy6667LqtrvGezZ88uhkXtE9Vx1Ils6xhwrLNAGvC9Nt1009jmWz344IOtSgPaJ//6179iu05oyu6+++6sT58+2R577JG99dZbxXYJy0knnRT54owzzsj++7//+0d1VrqdUt9xY4wxrUN1uLjwwgujvKZs5xz1aP4a03pcr5nODPmfcoWy5vLLL49yhjbkbbfdVriiPFRj2ZWWDcg1Z511VhyjTO7Vq1e0qyXDED+lZTVDHJALFC/kE/JDueKVplG1p1VHkebLtoDno++fOHFi8V3kgUMOOSR74403Iv9TXrR1ODoC4vTXv/41ykHyPvunn356tt1228U2/zznWMve0RCkE/8TeR19/4EHHhhpSxryPNZ9+/YNewDP1TuQz9ELEIZS8LxSS6VAPGDjjTeOOIKOAWmxwAILFPY6BulMSmEDZZmYO3duZAAycr7QSLdbCj/O+uuvHwZJnq8K65lnnslGjBgRxh3eQ4Yr1w+iH/WEE06INfG7/fbb4/3NhYr2T3/6U2zzrJVXXjmO8Uzek4dCgbhw7XrrrVc0IqbXcm/Xrl2ztddeOwyOZHQKGYVb6cCad6GMxMj13XffZTvvvHOc0/M4zz2mY1hiiSXiOz388MPZmmuuGd+USpjvgiIXZS/GyZEjR2avvvpq5EOMkyuuuGJ2wAEHREWib8l31GKMMW0N9THlj+pfyirqJ+qkRx99tHBV20IY9t1332z//fePxnUpCBvX/eQnP4mwql7lOG0MOjuxreO1DO2YPffcsyiUjB8/PuqblkCaoTyhzsEgSaN/n332ic41HOP5P/3pT6P+euSRR4pKFhbuZWkM12fGmM5Ke5V/1I8s1IF0nKQunTZtWnbVVVdFXdGUsto0jr6n6sF035jOCOULOhDKHv4D5Ij0/2hsAa1L0dC5SqK+MhYjAx3YMUrQ3mYAwsILL5xtueWW0ZkEKLurvYxGtwvIDXwzZMkPP/wwtolfOeBZ1G2uz1pGOf6lhp7BORYMaWPGjIltvtW///3v7PDDD89efPHFwpW1B3Ht0qVLNnXq1Mj7xJtj/O9bbLFF4aofBmM1hoyTX3/9dda9e/fsxhtvjOfCKqusEjaBG264IZswYUIc0z/GepdddinqBapVL7L88stH/FkUR+UvjrU3vBd49+effx7bpbCBskxQkaDwItPTyGgrMFJSMVMhAxUMClAKsccee6yshjb9jBiL9FwJbi2BCha4n0IhNXSmGRYYJQfsn3baaVEQ6RxrwpHeT/hQumLI+vbbb6PwZpQd21zPO0mfbbfdNhSFKWoEmI6DRiaVCDDqiJGUG264Yfbmm2/Gd/znP/85n3Hy448/zlZfffWoqGmY8v3L1XAzxpjmQP1BPUNdAuedd16xPHvooYdi3R4QDpa04U7jWxBGykoEYNaUp/369Ys2C/v0tFt00UWrtiHeHGir0fmJeoS6g1H7+n7NhUY/hmEU2pMmTYpjtM3UrmCUP20TOnuRxkLfg0X7WlLcPjHGmLaFclblMXUBa+pGymyVwSqrjTGmXGB4QAEv/eH2228f7XTKnZYs1U6+DSxOPvnkbKONNoptrkHOomMlekLSDtmLMrqa0wBdJqjeQR4jL6DzLEf9o7RFt4YMWF9am45F/zKeAukgpTYJA5KGDBkScmutfjviiV2DwUeSy4nv008/HXp80qA5cUcP87Of/Sx75513Yp9/6dhjj82ef/75SGPKEYyf559/fpwHbC38d2effXaUz4SjoRF/lQq6CPQ8Al0EVEI5meqn8rilXSY+++yzwtb3vaDKjTKSFnp00jufioyflGWbbbaJgiyFjNlS+Bl5F88mc/NDE7dbb701junZ6u3TGFjKm/IzUAjh3pUCg9F0GGOpoDnOQhh4P2nCcS2EjzBxHIUgo+t4hgpxLabywJCsfMS3fOqpp7IVVlghW2uttcIof+aZZ2bPPfdcuHX9y1/+Ei6CMU5ecMEFxTzFdzfGmPZG9bLql1VXXTXKNKAXIHUT5yjjWNPYBeqmcsH7KTuBd2ib0Xx698svv5xddtllWf/+/cNA16NHj6ILGfYJD2GlA8icOXOK8alFiDOGXIyUxJOlvtGu9X0n2mB77bVXuHKVOy6+Lc+i/bT77rtnd911V9RdeHDgOXwXrmHhm2hdauFbICQpfMYYY9oP6gnJFmwbY0w5oW1Hx/m//e1v0eajnME7mDo5tgSeoaXaaCjctKsx5DLFFVM7oeBG76d29ymnnBI6QvShs2bNqsp2s8JMXJElYcqUKSE7tCQ++XuQQy655JIYBMBggCuvvLIq06kzwH+AbH7QQQfFd9IxZFWmXCPf1zKMIsdTpPIneRf9MPn3pptuin3SgHKzPvCwR4cPoGxgFCX/E94nNWCJf4tzGC3p7ECbj2djY8G9rMqj/AAnUHmlpdJAz4H+AShT1IkaWmMjai180y+//DK2l1pqqVinWKNfJiTASAGVUo4MW+oZVM4oxTjHz8mC8XC//fYrXNH0IdANwfN79+4djSXegUKT+JLRoamNKOaKbAiloXqGoKDDOMl7CENjC9dRwKQLx/Rc4DpTedAjhkpYUGgyClajdxlViTIYN8GMeDn00EOjEiGf5CsmN7SMMR2B6iIazNdee22UXSzyAMCa8+ohm9ZNLSFta6gO1DbnKDfpUYzrc0apY4w75phjssmTJ0d4KHMxgKlxvttuu0U9vdxyy8X1nOvIBmx7gBERaMcwp00p9J1IM+oc2kAYJum4NW7cuEhv4Bzu4zFK4/afc6Q937slC/lF9aLeYYwxxhhjagPajniKAtqZdM429YMOiNFVr7zySuiP0vYx8gxTKayxxhphmLj++usLZ6pDP5SGERlAei4MNS2Rx1L5BOiketxxx8U2acXoMq7J69JMZcC3IU8wnRWGeb4j+eL3v/99SYNZrYERnfhrCje277333vBaxMhSZGXJydgN0v+HjgqMgOQYMj4Gf6YNYz5L2TRAMj5pO3To0GzXXXeNNJYBGLew1QpxZ+5S4H8nLqQT26nevdJonXbMFOEjU4iQuVHqtQe8DyMl79xxxx2LhRhGSn5iRkmgSKOHkUZzpKQ/cWNQMPIz8xNjfeedvIMMztLYs/jJUYASRilRU3geMDJULjsZ+YFhlG0t3J/uN7RwbUp+31QO/D9pRUEeYc3IE0bR4sKDYek9e/aMhinuXrmHa9K815w8bYwxbQF1JY1n1cmq95hfhpGJUKpObirUl5SXX3zxRTyfxiYgwF500UUx6hzBBcGdxjadO7ie+1RuUh8zv8KoUaNC6KWdcOedd4ZQT1h5LtfSSK9l6FlIXBHSiXcpBYDSGKFo7733jnSjHUTbB0hLjJW4ekVpQrulnOnmtosxxhhjTO1Bm/zXv/51cZt2KAttT/NjaBOzMBrqgQceCL0rLks1UgrZBXmH0ZaHHXZYTCvF+WoYcab2Pt+ekXPaT6cOaQ6SX+g0iV548ODBRVlHeQ35UPKMqTwkk2OUBMnzf/zjH2Ofc7VeVhBX3LCSZ2GhhRYKT3rYPAT/Cnl99uzZcR2uYOWFiNGY6JJBeZ5yQnAv6YzuBH2zOolwL0ZN1rJVVBPEi7iiSwfS5e233464qmypRGygLBN8cD40GZhCvj0+Ou/Sj4diDOUi2ywwfvz46M3PiMr333+/eLwl8FMyObV4991345gyeGPxpYcD7+e6tBJMw8RoD/zLA8/FELXVVlvFPihupZb0POFKz7G0x/cwLQdf46p0hCoC3BJusMEGMbqHPMjISSAfUclIEcx3Bn9rY0xHQ3mmhrM659Cbb5FFFok5llszyT1lHcI2PYOZM2GzzTaLOpM5S44//viYVwF4J9emvSxp4DPvCI143I8effTRcS/QiM1DGVuL5OPK6FLqnFKGRdIRQWbAgAGRZqSpDMx0DmNeCuZGpsMY6cpz2qujmjHGGGOMqU5oMzINkrYxRFW6ArmjoO2OfCX9p44xtdM999wTx5GxkHvYpk3+1ltvRRsfxbx0S5UK35wwYkw98MADi8dw69kSIyL3ol/9+c9/HnphkMwHDz74YKQjetpSMqDpWCSDI5vy3eggy5qFDrG1jvLkoosuGt6Jxo4dG3kagzvlwMEHHxwjHvk3kNNfe+210LNwjv+INW5e8WgkgyRpqU4MPIsF+A84RprTIYB/QuVwWt5UG+igcOmsDg5MowctKU/KjdI+jw2UZQJ3aPoRWjMyojnwUcls+mEY/szPSw9/0I9HT38MPChHGV3BcRRqrHVdUyCD69pTTz014gr1Za48NBL4GbieJd9zgZ4Q9FIA3Hiee+65sQ28t6GF52pbBYy2TeVDPuZ7kQ/0/VIY3QJUELqW/JPmSWOMqQRUx+2xxx5RPjFKL20YM08KhkKu4RwuSOgFjMcD1gjXZ511Vix03sD1KG0M6lzuodxjHt6TTjopFtyy8h7KTr2bbepFOnVcfvnl0dGDYzxf85oAz1Rdnq+ToZTBrhZI4wrUK0qHUpAepLHqHtpZCDF0DkOA0fN4jr4R6c1ijDHGGGMMqH2oNrsU8WxLV2Z+jNrWanOzjZxC21xGHKayYH4zeWQD2utMG4RbWOC+SlDQl4IwY2BFnmCgBnkB/RcdIolnnvrigd6VjpN4dSF/6brhw4fHmjQgPYFrtW0qh7wMzrcjLwBek9588834jrUK/3n6v6NXYR5KRlDyX2DPwPBO3mUgCzoVjvPv8M/juYp5JLk/L+OXkvm5l2ehO8GmcsMNN4RbZL2/WiDNlC+IEzoj/nEYM2ZMrCkrOwqFj+VXv/pV0RAv6tfGmGaB8pAPTcUhF27thX4wMiCV0C233JJ988032T777BMfngxJTxx8smNYpNK7+OKLI6yc51xjlTTPRqmaVvQ8l2dwringekE/A89RZmTNqA8KWQoUCgEMqRTAqoi5Xgvva85iKh8qFPIG+RG0zn8/KmqdI28oP4K/tTGmEqGHKg1oRjpKCFRdhgsSRoXjfgSPByx4EqCu5jguip5++ulwwSpBhfvSsk+KDXoI9+jRI3r+cQ/voucsLtpx70HZyeKysvmQZp9++mm4fqHNxOhY2ipOS2OMMcYY01RoO7r92HzyaaZ91tIPAaOfMFSiS8Qwic6INjse5dA7cn1HKuibyoknnhjhJm7IdYygw4UleltkP+IigxUgnzBdFp1gu3TpUpyWi/uRIdnHc47gGZxH/5qmn6lMmIYFozN5lwFR6Alq/bul/zz5lGls+AcwtDEdHHAN07DwL5AepBHrjTbaaL77oaH04hwL/wW66T333LOoY6nUDg2lIM6KN7ogbEKkHTAYDJ1SpUA489/EBsoygbKQjCsjZUeQ/oD8sAyDpuJCMaqPT08DwkiBRkZ97LHH4lrC3tCPx734cFcGooKTkrUpcB9h0DuYE0vKPSpcRnhwDT8Mk7kyYoTw8Xx+LL0XuKepi6kOyJPkDb63vrW+H2uOs9Bjhv9L31f5yhhjKhUat0zKjoseyi9GPWJMVFnHmgXhUQ1h0HEJl9SFlJWUeRyjhx+uSzBCco75FXDdcdRRR8XzBfealqN2y+KLLx6uZEh/dbBy2hpjjDHGmHJh3UbzkWwE6DvRG2Gw+MMf/hDnkK/QM6J/hIb0npUCIygZAQa4tUT/igtL9LhM58EoOjq6MgjlkksuyRZccMFs2223DXlTcgpxxxsPaYIsCnSGRX5BpnzhhRdim/QylQ15mMFI5Gu+F56XpBfQ9651yKukw6BBg+J/IB2wSXCc/x9dCl4ZuaZUnm6sbCU9eQbXsahzuNbVBOlBZw3isfzyyxePffjhh7Hd0fDNCJvKbeGSqEzI/RqVXXuPoAQ+cFrRss2PxE/GyEUKMtzGsY8iE8gQVHy4fn3jjTfinlKVtZ6tZxFPjjHsualwPZWiegFRiZIZqUCpNClECM9KK60UoztB75HFH7imJYupbPhGfG/yBP+Svln6DVnI01yTL8iE7jPGmEpBwjBQRo0YMSI65tBWoD7GlSv189ChQ8PgiMtXRlGyIIRSJ2J8xBCp3rLUjewPGzYsehOqMU3ZyLYa5VxnWgdtH6F0laDiOscYY4wxxpi2h3a3lvy+2ujSHSJ/oXPkHB7kaM/rvrRtX8kgGyLrpbovZMaNN944RkpibEQ/e+yxx8a5VO5jJBlTUUyePLmYPqQJMgxr9Ls8V2liKh/05nw7vhv6AKZ5QTeAka7WIc78t8SfuH/yySexTz5WHiYt+C8Y/Zj+46VsHCLN//w/2teaY7KfVDJ5nY/KQ1h33XUjPThGp4ZK0A+l3y3FBsoygf9cJfA//vGPWLcHZC79SOlPyI8rNNIRN6r8zOopA6xxBcAw5iuuuCJ+/HyG5dk8g2cy7xLXULHRa6Ghnz2F9zMPZpoRcTlHAcIxzuOCAUNpGnZdy1rbpvbg26rQpIeYUP4mz5FPqHTIH8oPyhO6Lp93jTGmo6FcKwUjwinPED6HDBkSxkmEUPY1ByXGTNwUMSKSEZM8K18XpnVm/nz+2vy+aT6NpSHn08UYY4wxxpg8aidqXaqdb0pTn94HfRG6o1mzZmWvvfZaUUfUv3//OI9OSce0VCrkBeRDwpgaXVhzjJGR6HeVb/CMx6AQphe58847Y+7KvJzI9QwOAVw+muqAb/e73/0u9OfA96dTszomV3pebi3EEfi/b7zxxvC6CPzreDgi7qQF+9gp2MY4D7pXlEorlbvpcW3zrJRKLKPTMCl+HOP/X3311eO/55jKx46A97J89dVXsdZ8oik1a6Bs70SnkJehrT3fzQdt6AchPPnz8sV+wQUXFCss/FgzxyQVd6nncYxnMcKRH5SMjZvW1CjaGFyLL3Xg/RgjGXYMGCtxVdDe381UBvw/v/3tb+P75ysAoDAlr8rXeB79B6XyrjHGGGOMMcYYY0ylgE6tZ8+ehb0se+WVVwpbpjHq0/ugMxo9enQo5WVgYCCG9EjoJFPdUbXoj26//fbwPjd8+PAYNYnxkRGUuP2kg+vUqVOzzz77LJsyZUp4yJOeFdI4MvqSfdLp8ccfjzxoKh/p3RkwJL7++utiHq+mvNwS0BMzkvGuu+4K4yT5FqNbnz594t/g3KWXXhrpwXEW/pHVVlste+ihh4r5HJsNlEorpSVrbeep1DTOh1f76Nlx/6w4vfPOO82y4bQlpGXeeFyzBkoiqo+S/1htQfqRv/jii8JW5cCPSBhZ66dknip+5FGjRkUa0QPngQceCLdxebiOa9Zaa62oBKnQSONXX321SenLj8H76eVxwgknRGbE/QIFBX6iX3zxxbgun0FN54D8hGES9xv1DaGnUlpmmWUKe8YYY4wxxhhjjDHVB/qPdDoj9Gr16UJMw/z73/8OPSduXXF5KkMC+st99923qAOtZvCmw7yU99xzT7hvZcAIIyU5hvvPRRddtHDl97ozdLDkJ9IG2O/Ro0dxm/xWanCAqVx233330Jny3TAwv/zyy4UztQ12AkYRDxgwIPIt/zcjJ+++++7w9siy//77xzQ6HFe+ZlAU9gvuI72wSaRGxtSWkR4vRWPnKwXCKbsK6bLRRhvFNsc7ctR0mtaEjyWfpjVtDVIClDK4lRus0mR2KoIvv/yycLRy4OPLSMmiY0AFPnLkyMgcLMx5lYeGE+eIX9++fYuGTnrr5DNVKbhPjQLeRYWI6wHcy9KjCRQe0zkhT2AkTwuuFCoZ/jNoSp4zxhjzfXmpxRhjjDHGGNPxoP9YZ511Cnvfj6BEoWyaD7qiyy+/PAZDoE9C/4hxkumtNLhCcK5aQadKfCTX5T2MSefKeU3TJSM4emANPBE2iFcPfDe+KSNkGejDPgZKffNa5uqrr84mTpwYeZg8jU1i3Lhxkc8ZLcmaMgADPEbLk08+uWj34HpGXmLE53iaXvXpnvNUuh6lvvBR7q288spxnoX/vRLyi8KTtwHVtEWIn5ZIb7755tnAgQMLR9sGhtCnlUGlQZj0g6bwQ7LIlzUZdpFFFontFMWNypxMpB+5qXGlUkwLCJ7Rq1ev4nuNSVG+1AIYL0tRif+bMcYYY4wxxhhjTClSnRrbKNpL6ezMj0kNbW+99VaMrmLefo6ha1x33XWz2267ragryuuMuC5dqoXG8ofOK76kRZoGm222WWzDvffeO98IXlP58D1x8wvkWwb91GqZgf539uzZ2bXXXpsddthhEV/ij2vjm2++OewKdPJQ/DmnkZOMKn744YdjKjl1SODa888/P9w/M1CqIfhX0qXaIW1IBzrBdFR+4f0qb/lOXbt2LZz5gZo2UFLYEnESgAxMJUambAv44OIvf/lLYauyIcz8bKxVwbMv/8wpHMc1ANfusssuxZ5dFIidoceGMcYYY4wxxhhjjDGtBZ0aOjgUxugu//SnP8XxUvo4Mz/oedFR4sKRUZOMkFpooYXiHIrwG2+8MevWrVvspzpgGSs6I8prMuKw/u6776zPrQLIwzKUyaiMbp5ODbVaXuDKltGQRx55ZPG/3WmnnWLOSc5xTAOhlDYpDIhihClzUK6yyipxDXmdDg08Z5999ilcWfsQf+go42RTqWkDJRkQf+MyxDHXIVZ2V/jfk/7E+GMmbai06hvVyChR7ll44YWjMCBdMVp+8MEHhSsaJ32nMS3F+cgYY4wxxhhjjDHVBjpJGR2WXnrp4mAKFOgyIJkfRpmWAuPkSSedlE2ePDl0mRjbmG+OedZWWmmlOAYaXNHZjJP16cxwdQnkNebsq3SjhZkf9PDA98P4VovlBf895eGgQYPCCEuc+/TpE8ZJ8itxVzrUB8/gn2cORsqKoUOHRlqxUN4ywnrvvffuFLpl0oyl0m1hNW2ghCuvvDIyJR9j7Nix2fPPPx/bDVV0LeHXv/51YesHd6jVxDnnnBMFAD0QNIlqnjRejKIkDTFa4tfdGGOMMcYYY4wxxhhTPxjPZDiTop1j6CpNaVId7qhRo7Lu3btnkyZNin10mdttt13oNVddddWigYM1riI7m3EyD2lBPkOnu/HGG8cxtmfOnBnbprKRsR1WWGGFwtb337Aa7Q+NwX/bv3//2Obf1chJykfyclPLSa7DxkHnhWHDhmXffvtt2DKUnnfeeWcYPtOypRYhzUhHjLFvv/124WjlUbMGSjKYMhlDglUgH3jggbHOV1CtzZC/+93vwlgHL730UqwFP0GlQSEmt674Z2YbNtxww1jykJFJN/UuwO81PQ+4f4011ohjxrQU8pHyYEP87Gc/K2wZY4wxxhhjjDHGVBfoI2UwWnbZZYvbuB+sRYNDY6CvLUWqpyXNWJiTbsiQIXFOekqMDvfff38YJ6W3xAjBeoEFFohj6cLxdKl1ZNAhzdZaa61inJmTzlQflBl8Q/6bp556qnC0drj++uuzCRMmxD/M/3rPPfeE/UEGx6bAfYIygPt53h133JGdffbZcZz/gXLj6quvLpZBtVge4OKVuJImjz32WOFo5VHTIyjJWGTgiy66KCoqMuS7776b3XLLLXE8rQRbmwmpKHF3CmnvBpAv9EqC+BNO0oAJYuW+9YADDihc8WOURmTs1VZbLZsxY0aMnmTbmNZAnjLGGGOMMcYYY4ypZdAf0kEbvdwmm2xSNL5BqljvLKQ6VHRDef0QRlvSZ/fdd88OOeSQYlqho0ThzkioVF/J9a1Zag3SBt0vxp3NN9889knzW2+9tXCFqSbI/+RzRmEr39cKuCE99thjw0ZBnsV4SDlZqlxoiIbShedTlqizwnHHHRf2IrZrcUrA1EtmagerNGq65lOlxU87ePDgaADwMS6//PIY4ltOyNjMzUiGpkLj+Xp/pUKY6THz3HPPRdpQQdXng1nHWGubkZO4VTDGGGOMMcYYY4wxxjQMOkN5YJOSnPXEiRObpYSvFVKj4Ny5c2PwBwvzz11zzTUxQhIDAqOqSB/Si2PoXTHwossk/ZSWGDRas9QapImMwBqJhm68M+a1WgC3pOR1viEjAGsB5UXKwDlz5sT/Txm55557xnEoV34l/zOSEpsGz+RdTA8Icr1dS6y55poRZ8pZj6DsACiAVcnDvvvuGxMl81GYh3LgwIFlr3jw5U1hTwb/y1/+UhxRWanMnj073N8CYaYXAWlmTEeif1dLnnJVSsYYY4wxxhhjjDHtCYr3dBQgOg6NipIOszOhOBP/L7/8Mrzebb/99uGN7qijjsomT55cNKrBVVddFQYG6Yu0LreOt1ZgHs6U3XbbLdbkQ4y+prqgrGAhv5fSmVYb/PfS8w4YMCDKA0b7MrgM96yC4+WaQg97DVP1yYajsqUWy1+8X2KcJK506KhUOk3NR4YbOnRoZDYWfBgr45VrpCOWdkYi8i5cDFS65f2NN97IZs2aFdtk1HPPPbfYONJiTHtAXvv000+L/2R9eXDJJZesiQrYGGOMMcYYY4ypj1LysKkd0H3wfRkhJMMaxiIpymsZdLDoZNGbstx7773Z6aefHtNHLbPMMtmhhx6aPfroozGCkgV9JQr23r17hwe4ffbZJwwYSjf/Jw3z05/+NNZKpz322CP0auivSX9TXVB28P3UqaFaIewsuFUlTv369Yvyj3jttNNO801BJz1wuabQe/vtt7O77ror3k0YZL+pxvJX6ZguqZ0LAyVQhlayPr3TGCip0KjEdt555/ggZD4aAnw0CuXWwnO23HLLGDbP8+mJQmVJZicTkEEqBYWFodMa5dmzZ89YE3Z+SNaVnHFNbcG/wsJ/pMrWGGOMMcYYY4zpbKT6o0rSJZnWwbdkkfIYvceyyy5b1IdAqliuVdCbop9FJ4uxjPngzjzzzOzNN98s6oJID/S4W2+9dfb000+H3nbq1Kmhu9SoKqWZaRpKW/TiGHrIi7Xo0rLWSedJrHTPjQ1BfmShs8Hdd98dNgoNWhk2bFjRWNkWnH322bHm/ZRHmqdRrpCrCaWjFunVVdeQjuxjm6rk+NWsgbK+RtwJJ5wQH4VeOPwA48aNi58B6runKXAvvtJ5Lhni8ccfL1aoyiSVAmHEgn7++ecXjmTZRRddFGsyLmE2pj2hgtV/SAHamn/RGGOMMcYYY4xpK9paXtXIMS2mtpASWdsa2PDiiy8W9SK1DP+PRi5BmhYrr7xyGCWZexLjC0bJHj16FBXrKNpTA41pGbjRHT9+fHbDDTcUjphqAQMz8P/UQv1APG6//fawR7D07ds3W3XVVcM2wX5LaKiOZto/Rk/KTrPNNttkyy23XGzXAuq4QfxYHnrooShjKUMruezsNCMoBZODMlQY6CkyfPjwooW+tTCCUgZJKlIWfopyPb8cMO8kjR56B6gRcMwxx2Trrrtu/PhkWBpGxrQnH3/8cUyEzL/TUEVijDHGGGOMMcbUMowYW3DBBWNh29Qe6D5Sw5zQsVrmtddey0466aTsxBNPzIYMGRLbuBpFh/r6669nDzzwQDZw4MD5dEOkETpLjqUjJxlZmaafaRroxWXoMtWFXPbCtGnTClvVy3333RdunoF/G/fPMla2RYeNUaNGFUcY4v0S99JA2Vsr+mjiQXnK1H6kI2UkxmyPoOwASPx00TEyN37dV1lllfhI7733Xnb11VfHeWDy4JYY6Hj26quvXpyDUpUmxyupgbHwwgtngwcPjrARRgyVF198cZxTRtU5Y9qLmTNnFraMMcaYjsftIGOMMa3B9UhtkP+O6HukL0rPNVexyfUoDz/88MPs/vvvD89e/fv3D7eXXbp0yTbffPO4Bp0V15naQPpJFtBghl69esWa7/3WW2/Fdi3TvXv3cLF43nnnZeeee252zjnnZLvttlsM+EiNj3nQWZJ26TWdYcRpW5DmQ1NdpDaGShoQ1VSoQ9P68vrrr481+ZGOCsSPAWWtMaYpjVin23iP1LyrlCMXXnhhjNqmM1At/RPEA+MrRkm2SW+WZ599tnBF5VGzBsrGoJcOmZMMj/Vc0BOhoQqxPigU1IuB5z7yyCPFodaVUmB8++232cknnxyTSpMxyaSXXnppjKrMUys/pakOXnrppcKWMcYY0/G4HWSMMaY1uB6pfqQzScGAopEX6TmO5a+VUhSXasytxwiRAw88MNtwww3Dsxf6o9/97nfZXnvtFQujRpiGCM9CwP3M0bfpppvGvqldGM2GMpl8pZFExhhTitSt62abbVbYqh7y9eXkyZOLA6Xk8bK1dhTqT57Hc+j4gc557bXXzo477rg4hgGUTkGHH354zGlbqg6vdog/o9HTQXi4y65UOqWBko+09957h09jMur7778fDUJgvyXog5OpMXryDgoN1iwdDeHDv7jmmoShQ4dm66yzTvTQM6YjwcUH/04l/CvGGGOMMcYYYyqftpIfeS7KStbpXHkcY0F2TfnTn/6UPf744zEq7Pe//33oWTBCovhkQffUr1+/GCnCCAZ5EOK5ePHC8MlIMN6FPonRZIzsuPXWW3/0rtbSVmlmWg7KeUbKsp4+fXrhqDHG1B4yBGJEnDhxYtRJ1HOypzRW56V1WH31mewycPnll2cbbLBB6J2B9++6667huQAodxWmWqof586dG20L0kJU8ojzTmWgVIYDMjyTAbPmp2CILz3WWjJ6EnTfVlttFUZOrPG4j6WBmb63o8CP+yGHHFI0wPbs2TMbOXJkbBvT0fD/pBVBJfwzxhhjjDHGGGM6H5JH0Z+g5HvsscdiahxcUTKqEZdwyyyzTEyhgyzbrVu3cMt6yimnxBRCL7/8chghcQlbCp6P0XK99daLURzcg36K+aK4B/3UUUcdFfoqu7CsTVKdx9Zbbx2KZCC/GeuEjKmPhRZaKNb8Iy21YVQChJ8p+DCgMcCLOVHT0X6tAVvMVVddle2+++7hSZK6XIbPyy67rGicrFXQr5NPHn300fkG4mELqlT+qy7QtWMebgKKrtxt9O3bN34IMuqyyy4bRkrmkmxJZciPROOSkYo0Lp588sls3XXXLZxtf4ijfkB6CzCkmZ9+k002icY1w5uNqQSWWGKJ7PPPP2+0twqukxH8jDHGmGqkoXrOihhjjGkZlK0uQ2uXVK/Bt0bxiNEO/QvH9e0bywc8h/MsbKO0w/UqnbnffvvtMA5+9NFHMZLtgw8+KOqMAP2OFJxSoHKMsHAsvRYIH9dzDW5cGVHJcxlF2adPn/lGNKQorqyJj5TPvLM+RfTTTz8d54kX93733Xeh92Ff6x122CHCo1ElHBP+fzoevg0uXvnGbPNNOjvOl8aU5plnnsk22mij+D8GDRoUHVyqFf3jrBlNSV3VECobteY+6jnqNtXD1Ol0Kjr22GPjPAvnVlpppfBiQAejRRZZpNiGAIWjVsodpQ9G32nTphU7S82YMaND7FSq1x588MFsjz32yP7whz9kZ5111nztmk5noARlOEWdxuKrr74aox5/+9vfRmamcaDGYXPA8IdPY56PSw5+iI5AYeeHY6L1u+66K+LLfAeXXHJJRfsdNp0PubNpDBsojTHGVBNqcxpjjDEtoT51TWeoW/JGuVL6GY6RFqy5lnv+/ve/x8IIxnfffTfWyJp//vOfY3oftnUPsC3difZZSHsdZx/QGaFow20rhkDeyUhKdEpci1vXNdZYI2RWdErAcxQ+GQlB8UFxmI6S/OSTT7J33nkn3kknc9ZPPPFEnEMRi0FSo+zS/MHzF1xwwTCEch3PZzof4vuzn/0s++Mf/xjXM8cXz+Q84fEIzY6HPLbNNttkTz31VHyTm266KRswYEDxXPofdBbIq/rvjDE/gPGNOob647DDDgsXptUEdQ/1EnUkcVA9RlnHfmOkZaK2VV689dZb2S677BKdjDimZ1MvX3vttZ3GFkI9QjqrHULa0PZAp45xu70hPHwLGyhLoMYgPwWNVjLwhx9+GB9txx13zO6///64hv2m/CBAAxXjH249gNGZjMjsCNTIJV70QtBPP3bs2GzgwIGFq4ypDJra8LSB0hhjTFtAG0l1kZrGTa2bGoPnaSnVptR7OqsCyhhjWkJabtciqosaQmlQi+mgepO6kTUjEdHPMMIR4yMjSDDiMeqRa3CpSh0qxadGPMqgKJRWPJM6WefZ536OYdxDl4JRT8a7jTfeOFtxxRVjf7XVVottDJNczxyS//znP8Mw+MUXX4Tx8Msvv4znsY0MK/0M16J/4n2EEyUqa0CRyDN4pvRV0klxjnsbg2u5jzQBPUNwnndPmjQpRqroPaZj4Tucf/752dChQ+N7rL/++mGIBuVnY4wBGSipYw499NCqM1AC9RB1LWUb9RJr6j/VSZxXfd0UmK8Zt63Ubar3VKeTPgcffHDxebUmc9eXVoyW3GyzzaKNQ3xZa7u9UTvLBsoG4AegsccISlyekhxYlZ977rloeLLd1J+CTE5DmQzAz4Drjvvuu69wtv3hJzz66KOj0U28mC+BEZ1ugJpKo6n/mA2Uxhhj2gLaSaqL2GYpZ3vpxRdfjOdNnjy5cOR7aDvSDsX9Pj06pQiFNEzGGNPZoAyE+srBzlJGKh3ypMdrRb6fM2dOGBr/+te/hpIRAyTxxKD37bffFuOMQott1uhdqEtJA/bZlmJSSkid5zhzRuLajboXd28cX2GFFbLu3bvHPvqftdZaK0Za/uMf/4h78bD17LPPFg2Jr732Wrwfo+Nnn30W1wjypIyebKfh5Nl6hlC4hAyrwP2c03OAZ3A+vS89z3H2FSb2dU7P5j6O0ybp3bt3nDMdC98IZTIez/g26CL5F/SdWRtjDGDcGT16dNQtDz30ULbFFlsUzlQH1EPUZYR9++23j/KNEeTYTzgOlInUZQ0xa9asqJ/vuOOObOrUqWHwVP1LfUf9dvzxx0cHI54lN6e8oxbLVNX1xJW2Bmkjd66co1MSg/HIN+0N34QwYKBkXlBsVTZQloAk4APiQgGrO9scY068xRZbrHBV49AIpPHw05/+NLaZkJRGdlvAe3iHfl5QQ5Wfkp+cyVA5z3WHHHJIjO7kJzWmkqBzAEJgQ6hiwkBJBwBjjDGmHKRu1dQkps6h7aQGMw18hB21D0FCDW2t559/Pp6BEZJruRchiTVts5T0HarbWNOu49xuu+0Wnjz222+/+cJgjDFmfigzWSiPKWspp1NUxjYFntOc69uC+sLAca1VX4DWoDopvV/b6f0p+Wvz54UUffnzzVXuvffee+Fi9cknn4w1blcZZQh/+ctfos4jTqo3FT69h/drKYXiwPXa5nm4OKWO7tatWxzjPazxfsXoRkY+NjYysb704V28gzXndQ3Xp/ewDek1Iv/s/H1s56/Jo+cD24SJdXoc1KbgPK5gURSut956P7rOdBwbbLBBtCv53tOnT4/O2cpjxpjOSVrPQM+ePaMDA+0evAgsv/zycbzaoD5edNFFowMSZR36XpGWe2mdCJwbPnx4dsEFFxTrbzodSWan0+/ZZ58dHYAhLT9L1aW1UAfm40WcTj/99DACkl7ACP2RI0d2SH2idvrNN98c9ik8j7KkYbGBsgDJwEejoUbCsc/cjSQe203NsIzIxEAp2ip5CSPGR2U0fmz2GerNj4o7CK7hJ91qq61iDkoapLqnIzKkMSlSvNLrhR6rDaH/zwZKY4wxbQVtNi20leh1+PDDD0dvdgQcHacNRb1EnURvT+ozoE7TtuBa3VNqnd6DAhWDKW216667Lttzzz2LhlFjjOlMUN5S9qm8zKPzKRxLaWnZSZnMvVrKhcKXX6dGo1JxTeEeLYRTaxbuT3nzzTcLW9+DgTCFUYkpuE5NmT17dsQf5d+f/vSnYngFdRVGPhn48mml/fS+NE2Jt+ZJhFLXC86VOg56JudZVL+iB6EOZZ+worjkfaw5r+cRDt2jZwiFCUod5150Lqxx9wp6H6T3aDRonlJxyx8rdU2KwsM1GiWJToo1cdZ5IKzMxXXhhRdG26axPGfaB74d3+nkk0+Ob0P+ZdDBbbfdFuf9nYzpvMjwRjmArIjdgjqLYxj3qnEgkup+yjrqKpAcTFnIeZV72Fk4zuCWESNGZBMmTIjjguup87bccsts2LBh2SqrrDKfXSaPyttaIm0jsE3aYQDEk6b0CXhNwD7UERAmvuk111wToydPPfVUGygb495778369esXDTcSj1GVTFDdEEpoGn8ol/jwrDnOCEr9YOUm/WEBn/VYw+kJyLtZzj333Bj+TYZU4zsdLWBMR4Iwff3114c/8IbQ/2MDpTHGGEE7p6XtK91LW4q6iLYailaUrA888EAohxCCaDdxDndzCINqS3EvdRKCEMeA5+ThOq6X+xqez/XbbbddrHkmxxC0MIYioMlQedVVV2WDBg2K+4wxpjNA2SwkX1MGooBDiQUo4ig/v/766+h5L7kX0jqhufUDoxGuvfbaKMtRhjX3/jyEOeWbb74pbH2PjHOU+6yZu1D7qk/YZwHFk4VjXMNaz9E1Qgo/0Vh80nsFCj4ZH0udBz03XSucLOyn96fP4Tjfkzgozqpj82vdR1zZVpzzcafOXmCBBbIllliiaJTV/XoeC5CPqHPRlZCX0vNM/5PCNdTNGG5Z4wKWcDMfJs/mWYqDwpKSHuM95SRNH0aMkvdIB/IARkjc/2277bZhmOQ44SSOhLk5KA1N+VHa8s1+9atfFUcX46lj0003je1KxfnCmPbjww8/jLIcvT+GOAZ8VCOUG9TfeA5C9qY+ol5iJOVGG20U9Sv1Lm2ziRMnRt3FebV5VI/RhsDYRR3HwBfqdMpRns+5zlI+EU+hbdKR6QuhV69e2eOPP96h6cF3u+iii7KTTjopBtZhoEyxgTIHPRNQEuETFxCEGEWJ0bIUSr60gczIS41YRHmFmwZ+pnLDu/ghUaDR0wp3YuwrLKNGjcqOOuqoeDfxYk14ucaYSoD8iIHyoIMOKhwpjQpQGyiNMcYI6pCWNrB1r9pMCDkff/xxNJifeOKJcPMPXMOCgkijKHUcaOjj2hVXOygsqaMQpiRU6XqRv1/PFyjHDz300KLQxYiWpZZaKs6l1xljTC2SlpGUqRiakKkpU9dZZ51s8cUXj3J2zTXXDIMSaymg8jS3zGzLMjb/bPYJM2sZiVQfpXFhu1TcUnhG+nxt67788yB/PYt0BGxzHeFhTfqiS0ifA+kzIL/P/SgK5WJ16aWXjuN6DmvmfgTqS4WBbda8FxQunkFaodNgzVySrGVg5Djb6XM4hrGO/EMdj3Hx008/jU7kHGdhnknWnCNMCl/ewMtxxZHnc5614kl+Ba7RdXoW+9oGnS8nO+20U4QBvRX6p1VXXbWYp9LwKB5K1+aQpoEpP+Qp8iwGyaeeeiq+H2UghohKxvnCmLaFf4zygDrv7bffDsMkxzBU4hJa9WU1gtxNu474AGUenYYpCykT0/pK8jHgxQg7CHMscm1ap5FWLanjqh3irbKY7fXXXz/0FKQFxkBGn3YEqtv4xgys47udeeaZsU6xgbIeNB+loLHHT09vSvXeFCQhCx+dHwZjy4033hiFBwYVFFptUWGT4bCG01uABozeQVgYSXnccccVf2bClf7YxnQkKqDIl4cddlgM824I5W0bKI0xpvMhIYP2DT0oUTQyApH2WEvaV2r6ci/brOmMxryPUjLqffTqpLMXdQ/tOr1Pa91fThjpgEEU+vfvH53ejDGmM5CWz4zcY5Q5x9KymXMYn9inXO7du3fUC6xXX331uJZe9Biw6oNn8FwWycrI+tQ3Ot9c9Cw9F/QcvU/beo/ikyrdhK7XujF4TvoMxSt9DtdoSeFawlTqXRxjoc5FF0L6/vKXv4x7SP/f/va32ZJLLhkGMZSmpL2MkSmEBflPsM/9KXxTRpryHgyKrL/66qvIC4yGZJ+Rs+zTgYfRixgYeRak4edZDZFPAz0jf7wU5BXlP+4jLfRurfPPYV9pWQrOp/fkr0vP6528X4ZS6apA/4veCYyewNDMsb59+8b35jm4sWeNwZ9vp2+Utr30XrZ5Bs83bQtpLOU8gyduv/32wpkf/km+D+hbdQRp/iesyivGmPKRlsN4eBw4cGBsUzbccccdsV3NIPcysm7KlClRr9GmUxmn9hJtEEZXYnQ77bTT4hi4zMmi0xVtXtJK5XBaV7NGl0593xEo/7LGQMlcmAxUUj4WNlA2AD+GEnLffffNbrjhhjhOJZw2pnWN2GOPPbI777wzrmlLAyXhoCGqxijv4wfm5+an5Z1qLLB0VKPFmPqgAKWQnDFjRuFIafT/2EBpjDGdD9o4CCx77bVXUWC57777YrRAS9s2KO5orPMsnjt+/PiiMlPC0A477BBzJDBXg+ohroe2aNcByigWRpwQBhSFCB209YwxptbJl7HnnXde9PpG7hUq96XESuE+KbMgLasZaZCCMYb3URdgvOG5kjW479e//nXhyqZBeDCa4X6N+zGiERYW3vOXv/wltjGwEW4McIwSoO6hrNfIfaG00Lop8F6lT5pmwDkWwqltHQeMjLh0/dnPfhbr1VZbLVtkkUXCAMka4y/hpj7iHp6P8VDh/uyzz2KfOuxvf/tb1F2kAXNUMgKMuDNKkePA/Rxnn3MKN89mGyM0x3kna5ST3IPSLYVrdQ+wTZpxT0Npp3gLvgH3EP70Pl3HMb2DNOQ61oSJa9Ln5d/Lvgy8jA5ZbLHF5jPWAufJkzyXETIffPBB4cz38HzuJwxcS77hW/B+0oo14WfN+xSGUuHnOo5zjDiwD+wzGoV/gjYQ3iHICz169Ijw8myewfV6FqRxN+WBsg8lLpC+zEs+duzYosK5kiDfOA8Y0z5g1FGHBcoEjJS1ICfSXkAvTHnCmjKF+gl7Ci7XqeeANoHqz3xd1Nmhjla75MknnyzON0k6kb6kG+na3uV1Wkfg2pXFBspmQMPwwQcfzHbeeedITH54eu2nSqr0o6Y/BpOQMlSVjNFWBkreR7hooJDJaKwyXFfv5TzvzL83zRjGdBRpPtx4442zp59+OrbrQ9faQGmMMZ0H6gpGNSKE0dBGqUfjmuMcw41ZXsHXGGq4wyuvvBJtNlz7027iHMIPys9bbrklDJcck1JO97VlW0rtSebReOihh+LYxRdfnB1zzDGxbYwxtQzlq9YslL2UgbjfptxF9lXHXM7ly2LuocyWrKxjebiP46xZVMbrGPsYgZqLynB0BxjjeBb70hOkRq08ukY0FP6G0Ds1pyILdOvWLRR7Srf8cxm5iMEUI6OMpnn0PM4rvVizEDelO+/PP5990oU11wL3AWHSPbpP3zH9lsB1hCFNQ8UR0u30vjzpdcC1PJsw0hbAeJqGR3AfxlxG92LE5jxr8uYvfvGLcDvMCFOM3qDwsybMPJ/3sC8UFoVB16dwzWuvvZa99NJL4V4et7RcR1uBNf9FHsLEt1KaKe8pDxBPvgXbPEPfXO/mOt0zffr08PDAdXkUflM+SPP999+/aIhgn6mkyF908NZIGL5fqX+1rVE+4P3kaWNM24OMSt2iAR7Mz7jWWmvFdi1AuUL9QzzpHJOiMkf1leudH1C6qb5mTacy5iflHPUFOveOqi9SBg8enF1yySU2ULYElFPjxo0rfsSHH344CoT8D0EDcaGFFort/AhKNU7LDRlw9OjR2bRp06KH/9Zbb13yR1UG1af2j2wqAeVVeuQiwDeE8qwNlMYYU/ugZDv77LOj8YpiLR0tgZLt3nvvzXbZZZfCkZZB24g5fp599tmiIo62Hu7pDj/88OyQQw6J96K8452g9lRbQ/zVAY13MlL0nnvuKb5b4THGmFojlVcpmynvWHMc5QplMuU25SFlJbKBykauwwCH8aax8lrlKNdQ1svwmcrJCovWjYGSPq2vpD9Q+BWfNI7ps9N3Q3PfD+kztM17BcdY0mMpOt/Yu0kvxVXP0zHuIe58ixSlj56pa0q9Q9+Hc6XO806RP5+ea4j8dUsssUTWtWvXGDHKKNLll18+XKYxDzRr4qd7iAd5h3iTJ8lvrHWeNcZelIFcy3UcY5+4qX7PQ8crPUNpIIinnqG8lYLxkjAxaoJ/gLk2eYYU2dzPOwmL8iEL93CcZ3M8DRf7yivEnw78tJ0gTXeF2ZQHpS1pj1Hy7rvvLn4voPMEeYU5yxndyrfpCGbOnBnzm6233nrRfjbGtA20TyiPqUdV3rKNHrWj/v9yQ3lHm4B4UdYRT9VXguNck9a35of2Ae0NvC8MGjQopgNU+mHHkneQfJq2FwrjEUcckY0ZM8YGypZAA5CeS/SuR0m22267xdyUfFSSrpTgg0/dIUOGxEdHucbcRW2BPnBKeix/Xp86f48x7Q2Cj/6dpuRHXVOtBkr9e8L/oDGmM4OQlY5Moa0FKL6uuOKK6KXPMSnNEFRwtd+nT5+YEJ99SOuS+ijVVnr//fezXXfdNXvjjTfiPM9goY33hz/8IUaZoKSkHZfeX+pZ5YJns2ibdiZuXml7InjSQ3bllVcungfXJcaYWqbcZS51Bu5XVeegWOcdyBesMfqg3PnTn/4U13zxxRdRFnOMe5nvMIW6iDIaqC+4FlQvqawGnUtpatzS5zSH/PObm5Z6b1Pfz/NRGip924tU0dbStKoUaBth2CwFcWvt/8DoSwz8fCPmt+Z7yfDPMdKSvJ6mqaAtMmnSpKIsXuoaUz70vfkeV199dXSe4xtQlqTGf77DBRdcECNkOMdUT5DmFT0rXefhOGUdyEBAnnjrrbci36APJW9iAKcdD5R1XMd7GanDPLSQDt4wxrSc9F9lG9fwyy23XOyvtNJK8d81JgvXEqRBWoal5ZzJon4//fTTwyAp/cZxxx0X9ikGBlUC2Mcuv/zy6HzNfNgpNlA2gcmTJ2c77rhjYS+LXvVXXnllsSCgIicZ1ZNNk37SWOhIA2UefWr/xKYSkBCEQNQYyrO1YqAU/heNMSaLEZH0osNNGUoXFB20qagnDjrooGz77bePUYSlRgw0BZ5Dm41nv/7669Fb78033yyc/X4UByMyhw0blq244orzvacj2k68kzTAiMrcm2zjivbYY48tGmeNMabWaUiubQ0YFXHPCcgiGACA96Vt9vy703PAeYWReoPn5K8BHSt1f0OUelZzyD+/sfflqS/coLiXQoar5oY/f30a3vrO8S69D+r7BqXIp0dzw1tueD/5CIWdjISbb7559vvf/76Y3vkwtxTFlefRRkIeR7FJZygdy4MyvHfv3oU909bwjfTNaQeic2TEJFMQpOeZ/gDDofII7V3WjPpVPvrNb34Tyumll146e+edd2LN+RRGDdPGZOQtI3AwSoKeSR6h7OR5HGOf5xM2oF297LLLtsg1tjGmafCfqSMA8zLqP+0sUPaklKtOrBWYIgbjJOlE2mywwQbZmWeeGW2JjkbfjjYNc6cyheJ2220Xx4QNlPWgDwpUuvRK0gT9HH/00UdjbkkqaI7JWEmlzXBVlEics4HSmB+D0IMA9vbbb4c7kMaKIeXZWjNQCv+TxpjOBEoW2laMmLz22muzqVOnRlsKULRQR2AwPPDAA2PEJGUk51PDYXOQ8oTn4LqfUQMoYQgHCjc6lXGcthzXpm279m476b2sMahK0cPo0fvuuy+2jTGm2mlIZm0PGInE+ylnCYvqieZAXaF6Q3WY4sQzpchXPZKHa+s7Vw7y6dvc9C4VtqaGl7g3l/yz8/ulwp9ew3neqzq82sDgQ7uE9gntIOJGnF544YWse/fu0QZq7jfMQ17lGaWewzsZGZc3XOVRGE3bou+vtWAE4zPPPJM9//zz2f333180HNaXN/SPqDzSdToO+XcIjpPvUoM1zyEfMYCDOeJw+duzZ89Y0mfXFx5jTMsZMGBAyLGUw7h/psNCZ/rf0nILXM58D3XAbbfdFroTzd35r3/9K0ZOMm1OS9pkbQHfD50LbsvxmMV0iOk3tIGyHkgWFn1Itg844IDspptuig9OBsC3PxUxDTQ1ghFSULTtsMMOkdBtaaBsLvrU/olNR0NepFLFQMlE742hPGsDpTHGVDeUh/Tko8cnrsJQcqD80Jp5CSjnUXzkXcFyr5RrzWloU9/wbEYl0FuPbY4xMhO3rvvtt1/hyvnhfR1VPuvdKNFpY9LW/Prrr60UNMbUBB1ZvqJsR8E3atSoqGOYw4k1dQP1DmsUO4xKoq6h3GX961//uvCEH9ruyP5z587N5syZk33zzTex1tz66Auos4ir4D7tp9ulSNOnoevqI5+++f3GyL+TfeqkxRZbLPQhqZtJII0wliy55JKRhs2FtEohXVNSIwmQvoRJ933++efxzfiGzY1rpZA3rJKmuCJGXm6rOJGG1ZpenYH89yHf85+pMxue3WhT4y4P16r8m5Rf/IP8M9yr0Y7qUKF/m7W283Afz2BEDustttgilMkYy0V9eae+48aYlkG9RlsE+8Mrr7wS/xidV5iDtrPicuYHbrzxxvD0Ceg4YPDgwdHOzetTOhK+mfQxDPrbeOON5/uGNlDmUHKQSGnSUJGz0EsBgQYoIJibAv/qnNM9miia/b333ju7+eabK+LHIWyVEA5jgPzIaGMM+BIs60P59s4778z69+8f29UEwgFCPELBu+++m62++upxHGFirbXWim1jjKkFVJ6jCEGhQVlPGUibacSIEdkZZ5wRx2goo2QBFJ7Mj3DiiSfGcRQpzTFANgYNc+bQYV4eymLCuNpqq2UzZ84sXFG5YETF9S3pges1wm2MMZVAY7JlqfNSkufPsV8fDb2D+iU1hlG+U16ioKHeYZ9n8848uDGkfvjoo49iPX78+KLBEjeI1Bc8B6Mj7/nqq6/ieYSHeopjor64cLyhuDUVnoML8hTcu3Fc9SWGCbY5xqLwKQ00pybHWTcX7vvb3/4WzyJt2MdVLkYR5udM0wMU78bir/DmKXUf18nIAvlr2G/sfcBz8tcpHGqDyACa5tfUyPPb3/62cOf3cGyZZZYpGm65jm3cayq81OEKI3mLb8g1vI817wa2mXd68cUXz5ZYYok4zvtFum1qF+W7lsB8u7hrJc+yJo/xvF/84heRN1k4B5z75JNPYk1+XWqppbJf/epXUYZynTGmY+HfZXDHGmusEf8tdQejqCkf1N7pbJAm0JnrQ9qut956azZo0KDQp5AXSJd11103ph7EAFhfGd5R6YdXKAyUeNKi4wv1jrCBsonQ4Eb4wZ8vFl969PEh2cZoQjKyzxpL8JZbbhn7lWKgVPiMqRSoWDFOXnXVVY0Kycq71WqgFCg8+vXrF8PZKU9QNsuHvDGmNknbB52lHlZcKeefeOKJaIDSSMZtGIpepQfLySefnJ122mnROJVijvPlTivciaOsoeFOOSyPGJUO6Ub6EO6zzjor0ssYYyqNhuo45GjKeBaUKZS9uh4ZgOOUcXk4j6Hmtddei2fk5QX2Ubwwdx71B9dy7Lnnnov1Z599Fs+m3vn444+LBjTenYfrIP+Ohij1HEjTob5rmgLPKZWu7LMoTXU+vwbu16J96mbFU8ebg97JM1KDWh6FI31Hus35lrwf0jgKZCuOayFvaM1Cp3KFnQUX7yko9IgPSj6up0Npt27dwqBDXGUIZ81oWeb0qw/O653cS77nPuJLfmQUKgZj1hhCeSej3hQ2FlDYjWku/OfoHihvNaqbdjh5kf+APEeHDPId5S/5mbzIQl6thjayMZ0JBkrtscce8X+us8464eoZqGP4pzsb1KeqKzsjxP+aa66J0fPTpk2LtKBcpz3GlIPnnHNOReUL5VPmnaTzNTqijTbaqHD2e2ygbAZU8nz0Sy+9NIbLChRvTDqqRifGh6233jqutYHSmNJQQOEmBKUC2+TP+ooj5d1qNFDq32P96quvhhsG4ovAioBqjDG1CJP402imzaQyUGV87969syOPPDLc4ae0lYBFO0xuXFdYYYUIG+/Kj0ioRKg3EEIJL262HnjggcIZY4zpWCjTKZugVFmKkQZFCdOiIEfjjox9ZGY8DgFGw/fff7+kgZIRi6oTuEcGRpG+m/Jc52XQ4Z1ss+Z+1ilpvZTC89LrdU3++lJxLvW8ppA+K7+dPrPUNmnEdQov26Wel55vLtyj96Xv1TdgG9euKYzESvnd735X2PoeeUxAoUZ651l22WULW9/zs5/9rBg3lvw9jCgBwsLC6E4Z+NI45/e1TR4kPMo/pSDuXE+8eUceHScvqo2R/2al7hNKT1C40rAa0xrIX+QnFvI7o660TvNpSqn8V9+1Kc63xpQP6m9k2XHjxkXdcv3112d77rlng/WJqV1wZ//6669np5xySrSxKcPpbALMC8w0OhoB31Cbpr2hbaRO44zax0NE2pazgbKJpBU3le3AgQND4cU+jWoygEZNMoKSoapsV5KLV2MqjQ033DCbMWNGsbFcX3Gk/6faDJSKj8KPS9vDDz88GhLbbLNNlBtsu3wwxtQKTMZ+++23F3tg/+UvfwlBCqX0LrvsEi5I6MRFmyoFwautGtC4VMMtDu9gzkmEu2oR6KgfSSspOiV8GGNMJUBZzxxoKMtkABPvvfdeKCMob1PFuIwwlPm0lbUItYu1zp8X6Xlgn7JS7+Q4x1jyYQNkeBmlZNxUWHV/+l6uJ8zUbbqOY3Q6pJymnsPoxkgkjudHIHXt2rWw9T15g14eFDegeGoNbKfxIzwLLLBAbKsuJQw6B4SRbYWfcyLdrg/uU130y1/+Mlyc8hzCIcNzS8ins8gf03fh/VoaQvks/5z8/aXOp3A+PdZQe0VhTMnf3xDcn4bNmLYgnyel6xSpgT1P/n+pD+dhY8oH8t9mm20WHiX4X5Frl19++Tjnf63zgQ791FNPzZ588sloh6NbZlQiXHzxxdkxxxwT25WC2mOAK3z0Q//4xz+KHc+EDZQthAICIQBooDKCcsqUKdEwJ5MwMozGKR9CDU1jzA9QkNKzlSJIxVBDxRH/0GWXXRajbqoJ4kQZQDmBYv6GG24IwZaOCwMGDChcZYypZSgHKMPya8oGKbJ0rNpQHOiAwei+CRMmFM58r+ilwxbX4HqEfcp+lKZaA3EHxb9UWuSvaQyuZ2EEYs+ePYvlMIJdtbnWRknNiHvcchEP0iCvTDLGmI7gtttuK7Zn07JbcjCo/Ia0nE/huI6VKuc5xkK5J4MgsjiyBPP0YQxkv0uXLjF/Gmvkda7DrSFr1Tl6Pq47U7gmfT5KFNNy1L4p9T3bC9WZeToyTMYYY0xzoC6jXYIekWnmbrnlFrth7sTgjQrdCu3mXXfdNWxR5I2ddtop2uVq71YKhFMd2ejIRycY9vNtMRsoWwHzUTIKQGhuoEceeSRGU5IpSF4USm4EG/NjVMmqGGLNv1KqWOJ4tRooCTuFMBUGLqGBHi5p+WGM6RxQJmhOAOY72mSTTYq9lCknWjoCoa1QGQYaNaC5lODCCy8M9yIITmnZTfzozXffffdFe0jPgPSZoP10XR/pfQ2hZ+28885R7mLQozE/derUwhXVAenKKBtcHdKQx6WL2pdNTQtjjGkLvv322+zTTz/NNthgg+zrr78uGiWpH6jPUEKgQPv5z38ehkRcflJ+YTzkHAZC9jEgspZhkGslI2B05H7WjNoDyr60/FOd0doysVzPMZWDv6kxxphagPYUbavTTz89FtM5wSA5fvz4aCejG6DdDXgaxDiJrkYdxCoFwigZQXqvuXPnhiyQYgNlCyHZSNTRo0dnxx13XAhQJDbz6QGCGhmDY5xzo9iY+eG/QIHBv0TBhPKY/4V/pVSxxPFqNFCmoCifOHFibP/973+PUTEqrI0xtQv/OYpc5mOkM5Mak5RrpSYI7wjUrslvg8LKojLriiuuiPYPZbfKbMp02j4YLY844ogwprFPA1rPS0dOppQq9xsiDV8Kz2EhjAhxKLypb1hwPct8HdUEccA1LoZV0hdjKy5+6ou/Mca0ByprKVv/+c9/Zu+8806x3KWs6tatW4xk5BrVIZBfg54FHM+Xb7yDZ1Cf5M9zn/b1DMHxxp5tapv02xtjjDHVCO2gYcOGRVuLaa9cp3Uu1Ja9+uqrs8MOOyza2zqGXoV5J88888zo/M6xSssfChOerNZaa604Rrs+j7XiLUQf/Kijjsq23XbbSHCEJpSMKOSAY1YiGVOajz/+OP4RoDcQyoz6qJV/iF7mQvPKGGNqH8qwffbZJ3o7YpxEyFC7AWVuJaPG46xZs8I19Y477hidSugsojKc8puRoOeee242e/bs7MADD4z7OJ4aJyEt63W/1uWAd6nTB3OCk97sE+Zqc+0K5BE15Mk3L7zwQsSRNCtnuhljTHOgHGKhTGeUN9OdoCDBrTdrjJO6jnKMcphF95WivuPcz3tK3VvqHl2nMlL7pa41tY2/uzHGmGqHdhAei+666y7XaZ0QOngz3/vhhx8eunP0K7RxaVcziIcOzN27d5+vQ2ClQRwwsCvs6DXy2EBZBhgRhdAkIeiCCy6INTB81RjzY1B2C1w7UWBR2JZSJnCM5a9//Wucq0aIXxp+Rh0ZY2qfs88+OxqPkyZNijXtgt122y1GTlIurLnmmoUrKw/CxyTs2223Xbb66qtn+++/f4zkU/mFcXX77bfPnnvuueyxxx7Ljj766BCgKMuJqxTKjZGW901dVFfkkcGX89ddd12EByMlrver0UBJOsrdIaSd4PKLMca0J5TFeSizmkpadulZpZ4pGjoHPCu9hu10McYYY4ypRpCvTechbSPjunXo0KGxzfzqTLdD5+sxY8ZkAwcODN2MXKdWIoSL8N1www3Fzu8eQdmGzJkzJxKY5YEHHogPQGZCMVYq4Y3p7FCwqgDVnDI6pv9Hi64DFdLVBgoblQWp0j6NmzGmNlCPMFydnnrqqbFNGUD5haESV6OMOOT/X3TRReN8R6KyNt2mh2afPn2yDTfcMObMBZVhxIU5dZ9//vnopLX22mvHPbR5mqOcbg31lZ2Ur6Q/5wkbBktcn+AmtVo7hhAf4kH6K305xjbx1AL6jsYYU+mk5ZfKsNZQjmcYY4wxxhjTUSDPY4SkXfv0009nEyZMCF25wKMV0+0cdNBBRcNkJRsopScijIL9vN7CBsoyQeJOnz49lGAojKRAQrFnZZExP+aLL74o/ieMDklJC1aUzbUAhbGMFvR+KlUgG2NqA/51Rk4yV4TKMOagffjhh8MNHv8/pA3NjoJyiAXj3b333pvtsMMOMVqPuRqnTZsW1xAH5nLs3bt3uBdhRCIN5R49ekR5TQNacRKkAQa1jijnVLfwbsLHSFBc8OcnYq8GiMP6668f34A2JqNVSVf2ZTA2xphaoLWKlbZSzHREPWaMMcYYYzon6Iwff/zx7Kyzzsruv//+kPtp59JJnA7wjJxE/4LOJTX8VSKEGx0Gg/nodN2lS5fQ1+Tb1zZQlgkSd+ONN475pcg4yjxMUppX2hljvlfM89/wn8ydO7dwdH5QwC6wwAKFveqGeMpASbyIu8oJY0xtQSNx5MiRYbjDmMecERj/mJca1BiT286OhPANHz48DJJ77713NBxlXGRNGwbX9RhXce/KxOwgV6oaoUhcuV5LR8NcDISDMhaj68orr1w4U12o7sCAzDfhe8gAq3WK6xRjjCkvLleNMcYYY0x7QLuTkZPnnXde0ZMVx5ha57jjjst69uwZx9APoFvmXCW3VdEX0Xlf+iM8iUFel2EDZZkgY6BoPPbYY2PEwTnnnJM98sgj2VZbbRUKJfe8NOYHKJg++OCDooFuiSWWiONpoco21y2++OLF41999VXV/kv/+Mc/sm+++Sa2NWLUZYMxtQf/9UUXXRSj9tju379/GAD1v1OesWYpZWBqT/r16xfGxTPPPDN65ik8hJFzjJL8+uuvY27J9dZbL84JGsPpWh4kuFdldin0DqVFW8CzMbyqEVzNEBeMkuohaYwxxhhjjDHGmOpFOiEtIP0Fxkl1uEbfgnGSDvCbbrpp8dpKduuqeLBGDzZlypRiWM8999xY57GBskygmAPch2ENHjJkSGQc9XSv1ExjTEdAAfvRRx8VC+Kllloq/h3tU4BpmDpGPRXArKv1X/r222+LcVp44YVjbYypPajzP/7446j/YdCgQXFMRiagHNPS3sjIxbuZD5OwqYxlFCS98jCu3n333THykFHslMkysJZaUhSvxto+HRF3Y4wxxhhjjDHGmI5EehMWGfTQlTM1EMZJ9C/oVLbccsvwxrXGGmvENcA9nKtUpPsmPu+//35sYzdjf7XVVov9PDZQlhkyCYmOwg4loBR6xpj5UU8K/hkU4FKay9ivffxTA4WvjlUblAHfffddxJkCmRGUxIVt4m+MqS30v2OQxLtCJf3navzKvSzlE3MZ0KuNcmnEiBFFQyrlbroQj3RpCpUUd2OMMcYYY4wxxphKAd0M+vGjjjoqmzx5ctFLJx3G77vvvvAOJdsS+hV0M9UA8ejevXvomQj/TTfdVDjzY2ygbAMYeZBmGBsojZkf/gkU4FJy889Iac4aIyWFM9cwuhK4jvuq8X8i7HPmzIn4UDBjoOSYMab2UGOSDgigMovRiaByr6NgtDrl7M0335wNHjw45gPGleu2224b4WJCdtovXMNCmVXfYowxxhhjjDHGGGNaxmGHHRYDd6688sriyEn0M7feemvoltS5HCrdOImeCL0SejCmDUIvRpi32WabbM899yxc9WNsoCwDqcGEbY0A44PwESo98xjTEbz33ntRyPJ/SGGvQkxGfqBwTv+xakXz0QEVj+JqjKktaIBhpFQvN5VlGAYrBcK4++67x3zZaWNXYLTkGlxzUEbTuaLUkkfleLp0BDSKSX+FferUqR0WltZCHuJbqKFvjDHGGFMOLIsaY4wxHcfMmTOzgw8+OLvqqqtCZ6x6ecyYMdGJfKGFFor9jtStNBWFHf0LHd133XXXcFXLcZazzjqrwXaHLWdlIM0kVh4Z0zj8JyhbUeJDqrjnnIyWXIMxDyjIdH01kxbILi+MMR2NyqS0jKVsokMFDUvgXFp2VTKEE4PeZpttVowDdcmbb75ZuKK6oD7UdyEe6TcxxhhjjGkplkWNMcaY9ufVV1/NDjzwwGy99dbLrrvuuqiP1UH8iiuuyPbee+/Cld+DTqDSkcew1157LcKPgZU4ob+4/fbbY+7JhtodNlAaYzqE2bNnh4IVhavmmaSwYuE4imW2l1122TjHsblz51ZFwdwUGiqYjTG1Q6X/6zSCWXbZZZdibze5gWV0ZUPh51y6VAIKx8ILLxxr8frrrxe2qg++A945iNuGG24YxzQi3xhjjDGmNbjTkzHGGNP2zJo1K0ZMrrXWWtn1118fnquog1kOOOCAMPIdfvjhMXJSIyorXQcuwyS6pPPPPz9bc801s7vvvjt0F3i1wnPXHnvs0ai+yAZKY0yH8N1330UBhZKVOc8EBTDKcm2n52phBKUxxnQklKspGsGOG1TK2+nTp8ecuZTDdCDJX18tUL/06dMneu2x0DiuVl566aVi+PkmYAOlMcYYY4wxxhhT2dD5+9hjj8169uwZIyYmrEM+AACBcklEQVTRTwA6i0MOOST76quvws2rjHjI/HRQriTjZH16IcJ47rnnZksssUR2xhlnxD4L+orevXtnd9xxR1zXmD7fBkpjTLtDwZbOM5mHwphzLD//+c/jGPegNDfGmEqGcuuNN96IMouRb127do3jMijVV+51BI888kjR8EW4aDjvsMMO0WuP3nwaUanyuJJRg5d0J60J71ZbbRXhZxk/fnycr0bSOYyXW265WPNtjDHGGGNaS6W38YwxxphKJm+8Q/8AHB87dmx0BL/00ktDpsd4x3mmpMFL4OWXXx7en/QM1sj6+Wd2FGlc0jU6L+LUv3//bOjQodk333wTOiTi+Otf/zo77bTTijoY7pFRtj5soDTGtDsffPBBFLgUXCjwG0JzUAJKWmOMqWToYIHffRpglFkaoVgpDUyg7GXZdNNN52tw0lhmfeutt0YjecCAATGikmOVFP5SUJcQl9SYSqNf26+88kqDdQjfjYV0qbS4PvXUUxEPwrX66qvHsWoeEWqMMcaYjod2D9D2McYYY0zzkQ4C0DfQcZo1hkf0EQcddFDUt9IxMGXLmDFjsgcffDAMl3iu0v2VSqoPevvtt7MLL7wwO/nkk8MwOXny5NAjaXogDJP3339/NmLEiPl0K43F8b/qLqxsjZMxpuaYOXNm+KVW8YOf6hNPPHG+Akvnbr755lCSc27llVeOXhrVyGOPPZZtscUWES9GKE2aNKlwxhhTS9BAxShJYwwj5aeffhruLvj3K6XhqfKV8NCgHDhwYPbFF18UjxF+er8RfoyYlF3HHHPMfC63Kw3i9OWXX2aLLbZY7ONGnA4uTMauegNDX34uSr4Tc0Csuuqq2SKLLFIcOUrcK+F7MYH+uuuuGwZJBBxGvQL5jHAiDBhjjDHGNAfNe0VbqZLaqMYYY0w1gfERuRyjJHUrnb0ZOfj4449H3Uodi+y+0047ZTvvvHM2aNCg+ToG5evfSqyPv/322+yTTz6JOD3wwAPZxIkTI17Em/ijOyFO6PYHDx4c97DPuaYaYK3VMMa0O5999lkUVhRUGB3zUNCJBRdcsFiYafJdY4ypVJ588sko3zAcMdpNRr1KamgSFoWHDhOff/55tt9++8U+x1XW0pB++OGHs1NOOSXbcccdK7ZjBXUGy1133RUuVHAzsvfee8c3oIcfDWd69G2++ebZkUceGcsRRxwRy1FHHZVttNFG4Yp3+eWXz5577rniiIJKACGA/ET4WYOEARsnjTHGGNMSMEwiZxtjjDGm5ciz0YQJE7I99tgjdA1PPPFEHEOfgg7i6quvjvMYJwF5HlmeRbqZVEdTSWCcvOGGG7Ljjz8+pgLCQCmdvfQRG2+8cRgnmWcTXYr0FopfU7BmwxjT7uCbmkKKgos1ilYpmDVqRQUeBbq2WVeS4rg5MDJH7mxTN4OKmzGmNkjnyqVsE2qkVSo33nhjlEcY93Dvmhq/OM4ocHr8Mc/A1KlTS5bF7V0+Ey4tpDXCAC5U7rnnnnArwnE6whAuthEeWPMtqGt0rxrO77//fowWZURpUxvSbQXhAgQZtnEVs+eee8YxSOtJY4wxxpiGkPxJe2LYsGGxDcOHD+/wNo8xxhhTLSCDS7eDvhpdQu/evbPdd989Onenx3Hziu7k4IMPjuPUwSBZvtRSKRAHOn/37ds3RkUSD3QoxIHwo3/57//+74g7Ll/xuEX40zZFqlNqDBsojTHtzj/+8Y9iwUWBxTB4FdCp8Q5QlKuAo4BMC7tqQvGDdO6wao2PMaY0uOQUm2yySWGrev71O+64I/v73/8ebklkEJMBD2PfCSecEI3UUaNGRZmmcg1Sg2x7QJhYCB8jVVMDqc7RgGZkJOfYJ7wXXHBBdt5552WXXXZZdvHFF8foUDqQ4NqWZ+H2FkNtR4Cww0JYqQ8ZkYsgQPgOOeSQ7y8yxhhjjGkG6ijLOm2rGmOMMaZ5oDNAv4BeZKGFFor5JJHZxbbbbhteqRhxyLXoILhenaSR9SsRwoje/corr4y4HXroodm0adPiGMZI1rD11ltHx3Wm0MHLFlPmEM/U66H0MU3FBkpjTLszd+7cwlYWiuOPP/64WHDlCzCGk6MUp7DDkMm62qACoiKiMCf8acVV6aOqjDHNY/r06fGP82/TMK3UxmdDYKhjjoTrr78+4kNPe+JE5wrKMRqeQ4YMybbffvsw9KWGwY7imWeeCdcpjAR95ZVXIqxa3n333axbt27xTSiDmccR164Y/Ojpx2hL6hpGiALxYxRmR0D4WAgr8SG92d5qq63qrSeNMcYYYxpCbQfk0jXXXDO2jTHGGNM8kM/RH2CwwzinASjUs1tuuWXs09mbjtIyTHJOngMrDemk0bczZQ6GSXQkxC3VvxMvdBKMCmUOSqbLWWONNSJexI/n4D4e2Fe7o6nYQGmMaXf++c9/xprCjkKLEZUUZijAKeRVQMLf/va3YsGmgr/aoBIirqyJSxqPtMA3xlQ/jHqj0UoP9U033bRwtLqgDKa8wlC52WabZUOHDg0D3siRI4sNUOLH/AOcY7Thd999N1/Z3d6gbBswYEC2zz77xLbKVtZ8k9dffz1GWRJGwo0bEuobQbwYPYrRVfHQ3BHtjeqM1EUMac9xFuAbsGjfGGOMMaYxaDe0t8cLY4wxplaYMmVKGPFUn6I7YJqYW265Jdygcgw9A/oS5PW0zq2Ejt15CBNxOeCAA0KfQvykz+I4evptttkmPGjdd999YZjkHKT6H+KK3kV6iuZizbgxpt3RHG0UZl27ds3eeOON2AcKNApwFWqzZ8+OEZQUjJVYmDcFwk4FRXzYTueoM8bUBiqfnn/++Wiw0WOOsgv477Wm3GOtY5UIxjE1KtmmUUq5fPLJJ0cHizPPPDPixzkWXKIuuOCCMZpScL69wQCZCgCEDSh/v/7662zMmDFxjLQ/44wzsueeey7Op+ibAe5a2hv1sGREKPNPEgYM3RhdSXt9F5HfN8YYY4zJk8rRajuwRvY2xhhjTNOgEzf6HvQ61K0Y7RhRuMsuuxR1EaX0PeynuoZKgnDRWRtkdCRudFZ/6aWXIn5HH3106FsUL9bStwBtCum9W4INlMaYdkcCkgpoRlACBWGpwkyFeCpYVRPEiUrMGFObUJbRGKWnGWCck/ssGcRqAcXjlFNOiY4WGCTTMvu0007LzjnnnNjGqNkRRso81Cssv/jFL7L99tuvaETFjWuvXr3CEIg7Exauo/FNnPhuHeECTULNiBEjYk245CpFPRWNMcYYY5oD7QspE1mrrYNbfGOMMcY0DYx2GPPQG6Cj7tOnT8jrMlqqjk31JJDfrxTQYSm86HCIBx2733rrrZhbs3v37sW40ZZI40FcpSNqLTZQGmPaHbnVoyBbbLHFsm+++SYKQimSKeS1j/ES4x7XVoKyu6UsuuiiZS28jTGVgRp0lFePPfZYbNOAo5HKdi0ZKFMY2UcvOkZPMtcCZTbxZGQi7lOVDh2NvoG2jz/++GLvRvYRMPbcc89s5syZ2V577RXfEXD1qvvaE0YyXHLJJTEZPeGjvsRYqXAZY4wxxrQE2hVph1/abix0hjLGGGNM4yCf77zzzqEvgFTPi/6AuraaoB1w4403ZjvssEN2zTXXhD7iwAMPzJZffvmiDoL4tbVuxAZKY0y78/e//72wlWVfffVVrNN5GVFqY4ykoFx22WVjBCUFYrUqaKVkBlVcxpjaQAZI1pRjrCm/1lprrThfS/+8GtvEj3hh5GOidOZa2GmnneI8acAIS42k7GgIE2FloQ5hwQ0L4SUeGJiZAH699daLyezFSSed1CF1zh//+MfsuOOOi3dTF5599tlZjx49Il9Vax1ojDHGmI5HbTc6ltE+wlhJOwiXbcYYY4xpHOlEWKfb1Qr6djpq33///bEG9BC0GeqLH+dSpG/JH28ONlAaY9odemlSwFF4pb0wVJhpRBJC07fffls07tUKxMkYUxtQVqnBxghKlWM/+9nPiscxLGm7FtBoSSBebN96663Ri5C4UnYPHz48znc0hC39RtQ5bI8bNy7bY489YluGP66lgX7RRRdl66+/flzLsXRpK3g2c2IOHjw4tlEWMhk9vRcBl7RpRx5jjDGm2qBj0E033RS989ORfG1Zv3Z21H5hUVtI7l75BtOnT3cHKGOMMaaZqE7VuilwbWNLR6B3p/r5UmFJ2xP1LS3FBkpjTLuT9tL8+OOPC1ulC0DcCKLoFxgvawEKdWNM9ZOObEsbZsxvqMZb2tCrBRQnLezjivuuu+7Ktt1221B4oYTETWlHQ9i0Tr8DylFcmTAH5RVXXJHttttuMRr0ySefzA444IBQ3gH3pUtb8cQTT2QbbLBBsW7YYostYqTnwgsvHPmLjjqV4DLXGGOMaQnUZbfffns2cODAkAWpZ2kvqK1k2oZ8G4Y0pzOW09wYY4wxzSFtT5QbGyiNMe3O3Llzi4Xa+++/H+s8Os+1CLDsI8DOmjUrjhtjTCWAIQ7DFwqf559/vqhsY7SbGnAqz2R8qlVIh0022aQ4wvLll18unKksUJJ26dIljH64dv39738fIypx8co+xtb2gk43r7zySozaBNKNdGQuT+o+Rk6mecgYY4ypRlSXUcex4MWA+tj1W/tC2wLX8cYYY4wxDdGebTQbKI0x7U6q/P3oo48KWz8o71Ml/l/+8peaHEFpjKkNNNIOZZuUb7DpppvGujMp3jBM9uzZs1hOP/LII7GuNPhWgrBqFIdGKGK4ZL89wIjLfJcTJ06MfcJy7rnnZquuumrsK18ZY4wx1Qx1GXUcch51LFN+0G6QFwrTPpDepL1w+htjjDGmo7GB0hjT7jAiRKTbAuUwQiwCLKNcFlhggeKokq+//rpwVfXy7rvvRnxSQ6wxpjpB2aYRAG+//XYo24COGCjgZMBUGSZjU60anRZffPFi3Kph/mAZJfXdhL5buZHxlrxB/Xf55ZeHK1zyB+m19dZbZ4ccckjRFbrduhpjTOVho07L2HvvvaO+o50wefLkOJZ2GjJtD+lNGwM3r+Rjlnfeeadw1hhjjDFNpRZ0OsQhXToKtwaNMRVP165dC1tZ9vrrrxe2jDGmMkDZg4Jnzpw54fJ1scUWCwUcRq7UKAkd3fBra5hXWJ0vVllllVibH5AhFEPl/vvvn916663FvHL11Vdn99xzT3TMsfLbGGMqEzqYPPTQQ9mECROi/FadZxqHuq1///6RZmzj3tz1XcfAnOG0UdUGMcYYY4zpKGygNMZUFKUU94zIYRQJAuz//M//FI4aY0zlgMISAyUstNBCxREBMkjWslEyhfkUgfiutdZasW1+QCMnBwwYkN1xxx1FxeCVV16Z7bfffjGiAaS81bYxxpjK4Iknnsi23377bJdddsmGDx8e3l0o203jUN9ts802sU074eGHHy62l0z7QhtD7YzHH3881sYYY4wxHYFbg8aYigfBlVFJCLLpnJXGGNPRUDYBSjcZIku5rq4VGjOWjRw5MtakwzLLLBPb5gfwAsDISUZKkka4dR07dmy4dQW5dCU/WWlrjDGVBaPfN99882JZjYHyxRdfzP7zn//EvmkY0m+fffYJN/jUgRgooZbbTZXK7rvvXhw5aQOlMcYYYzoSaz6MMRXBcsstF2uE1RSUuemclNU4gpKwSwAsB5rDLIV0oResR9oY077gspN/j5GDKqfWX3/9MFyqZ3otkS+jZaAlrnvttVcxzowuIR3M91BGv/zyy9m5554bIycxPjJaEvd2++67b1xTX/mdT3NjjDEdg9x0r7feerGGs846K2QVt8FLk6YLdd8CCyyQ7bjjjnGcNsOzzz4bBsu25l//+ldh63uQp2jDsCYchCddah3irpG/jAIGxdsei4wxxhjTnthAaYzpcBBW1RO5FCussELR7d17770X62oBQQ/hT0bFlhoqJUSDlCMgwRLFCL23O4NAbUwlgfGI/xDjk/4/yivKtFoaAZeWLek28WS/X79+MSqQfdJk4sSJnb48Iv4yVM+cOTNbZ511sjvvvLNwNsuuvfba7LDDDisqAm2INMaYyob6nnL9hBNOiDKbev6ll17KJk2aVLhi/jrSzF+3aXvrrbeONZx33nmFrbblpz/9aWHr++9IW23EiBHRbmH7ww8/LJztHPUxRnbl4UceeSSOKd7IlcYYY4wx7YUNlMaYigGhSIJRKtwvvPDCYaDj3OzZswtHqwPCjFESo+IWW2xRHF3UHEgLBGfmt7v44ouzSy+9NLviiiuix7EMn4CAne4bY9oH/m/+UZVbWtfi/5hXvGJc22mnncIgqc4YJ598cpxTed4Z0WiM999/P0aWbrLJJnEcRSDLVVddle25556RRu0xcsQYY0zroU1Pe5sRgL169Ypy/ttvv81GjRqVzZ071+3wBqC9QP1HmvXo0aPYbuJ4e6Yb7+Q7brbZZjH6lXqYsHQ2unfvHmlBe0UjSY0xxhhjOgIbKI0xHQ7uXX/5y1+GwK8RgXkQJBGiqhHCrZ66xLEppHFlZCRGycUXXzwbPHhwdswxx2RHHXVUtuGGG0Zv4AEDBhSudI9XY9oblVn8pxrdzPxUkI52hmotw0DGRhRYbM+YMSMUe3QgmTx5cpyDE088MTvppJMKe50X8sNxxx2Xrb766tndd99dzCfUZddff3223377RX2Q5on66j9jjDGVQdrRcOjQoVGGU9c/99xz2TPPPFOsI1vSIbHWkYxC+qy99tqRVqTTQw891C4ecuSJ5u2338569+6dPfHEE7FPuP7whz8UpxuBam6vNRUZJDEa0/7485//HMZ2Y4wxxpj2xgZKY0yHs9pqq8V8JPSglSFSgiFCLOcRnFDmovStNogD8WKUjIRBRj/WJ/xqjhTi/PDDD4cQj9I/NT6m944bNy6U4ChGQO4CuUbvM8a0Dfzf/GcY6aSQ3HjjjWOdh2urHcph5lBkfslTTz21cPR7pe3RRx8doycXWmih7LvvviucqT1U/qqsVTmL8vO1116LMpvy+pJLLolynLRBgd23b98op1mrs0qaJ6gnjDHGVC4YcwRuSlmQTf79739np512WtQD9bXvzfzssssuUTdSR8rFKLRV+lHv3nrrrWGMfPDBB4vHbrjhhuzCCy+M/c4EbQ7yL+nP9mOPPVaUQdWeNcYYY4xpD2ygNMZ0OMxdhoJXPThT4R8ltwyXCP3vvvtu4UztInd/zz//fLb99ttnH3zwQaQP8UeYR+l99tlnZ7vttltchyA/a9ascFWE69fUkJkfwWWMKT8ocpiDSvzud78rbNUelNG4LKWcUqcLypkbb7wx5pHq0qVLXJfO9VRrSHlKWcu3p/wdO3ZsGG3XXHPN7JVXXonzQH22++67Z9OmTYs5OjFeYsC18s8YY6obOpjQMYf6jm3KfrwLsI27V9MwjGKkDUF6yWAIaced1kJdqzob7w777rtvdP4E6uzbbrst22OPPWK/s0H7hLgjY9O2I90XXHDB4jljjDHGmPbCLQ9jTLuDoJj2jkVhu9Zaa4ULVASidC63L7/8MltmmWU61cgShGlGJm266aYhuGOgXX755bNHH300u/POO8O9K26l2H788cezFVZYIdILwfLII4/M+vTpk33++efzpbExpm2gzMJQRS98FDygEQG1COUMZQujRSibGHlAj3uUfsRbIyfLqWCsNPSdX3755SiLDzzwwOyggw7KXn311ThOfUW9dvzxx0c6MeIUl9zqiEPe0NoYY0x1Qj2HS/f11lsv6j9GUp577rlxDvfnpmEOPfTQYpti0qRJUbeynS6tgTYKdS1175lnnhmdqHgmbTZkLNyt77DDDvHezlgfE2e1XUmne++9NzwaQWvT3hhjjDGmOdhAaYzpcBhthEIXAVKKW0EPZIRXhKdaVninYIi84IILIj1Il1VXXTUU4fT0ZZ90IJ1YcCX5+uuvh8tApdGUKVOy6667zgpwY9oB/lOtUfTQmQDFTlqO1RKUMZQ5jBKhfGEuxbQDSS2PnBT33XdfdsIJJ4TRkbJahkkp9A455JAYAY9CNM0HdL6hnJZrWGOMMdUNxq4hQ4aEcZI6gHkNWbv93ThKI9pOcM0118Qx2hlaWoM8ytx1113z1cd0ip06dWp08MQTBG2Yam2ztcaQSJz79+8f6U/7hDw8Z86cONfatDfGGGOMaQ61qT0zxlQ0eWEKwWiVVVaJ4whLCEgIRmxzjPNSgFerAKneqQ0pLIgr839ss802cT3suOOO2XPPPRcuAemdrfiz1sJx5lS5+OKL4xm8g1E93KfrjTFtA0od+Oyzz8INs5SUtayc7N69e7buuuvGdl6JVStKLYyI6jRDeYzB8fDDD4/5fhktynxVMk6LY445JnvhhRfCDTf3yV13CmVyepy8YowxpjpBPtlqq62yLbfcMuo/yv5hw4ZFWU/5ni5mfkivXXfdtViXpnN5lwumv8DLAc/lfXwr5rvEeJmXkaqp/ZLPV7Q/aauwf//990dckJ8bmxqFa7iXb/DQQw9FfnZeNcYYY0x7Y821MaZDYbRRHglHrHGRhOC03HLLxTH1hpUBr1ogLiylDIbECxeJCM+4ipJgiHESN6642+G8BOdSAjQK70GDBsUclbofgfzJJ5+MbWNM28EIOjoKwBprrBH/ejUpuswPqPzke7JQBp944olRNo8ZMyabOXNm1El8Y8psrmeUO3OQ4pqbbRR+HFc9pWfmUR7hfH3XGGOMqUxUzlMf0DGQfdr5dGDhOGV8upgf06tXr6LnBTp8yUDZGkMl34F6GuMkU2FgfON7nHzyyWGEQ2YqJY9VE+SntO2gzrx4eGDea84rD+ZJ7+P8zjvvXDxG5yznVWOMMca0NzZQGmPanQ8++CDWCEDdunWL7RQJVKxxNYPQhdCKQIng9P777xeurB6+/fbbbOmlly4pcBNX4oibVsAIu9NOO2UTJ04MBTn3SHhvSGjkmsGDB2crrbRSXPfWW29lF110UeGsMaYtQKGDIkxKHRRE/M8N/avVTK3GS9AZhLoHd3Dbbbddttdee2WXXnppHAeUmpTRK6+8cnbEEUdkzz77bDZr1qyYc7JLly7F0ZFKp1pPL2OM6axQ/1Pn0wZgTkMMYrTZqS9ow5uGoX7cYIMNwvMEjB8/Pnv77bdjuzUGRNzQU0dTP/MOZMjjjjsuO+WUU2JfxrlqhzQi/9FmAfJcv379Ij8ST2RJdQTmWB7JpLofpk+fXtgyxhhjjGk/bKA0xrQ7qdDJ/JN56OmKYQ6B6W9/+1scQ3j997//HcLUa6+9FgJZNUF8iHd9ymp6+E6YMCHOE9c//OEPRYMH96lna2PQE5n5z0gflOi4+RG1IpAbU2kwR6zKtQUXXND/WgeTT//mfA/czXXt2jUbPnx40d0ZdRHPWG211aITCOX1iy++mF1++eUxN7CQso81ZT7ld31lvjHGmOpG9T71BNuMttcxdxBsHOpW5oPEkCbwRtBSqHu5n3kVkaVUdyNTjRw5suiFR9+o2pHRkfyHDMlISLHJJpuEwRdIAzrO5VEbJb3vjjvuKLZljDHGGGPai9ponRljKpZUMYzBDT788MNYc26jjTaK7RQESgRLBEhGHiIooRiWse7TTz8tXlctIBQvssgiEWfiQVqkaYNrKMWPuWsYjSNBGiRENoWjjz465ofD0Ms70jktjTHlh/9WCh2UQvpXreTpWPLprzqI4ywPP/xwNnr06JgDWeXvtGnTsu+++y7KTnWU6dGjR3b77bfHqIzzzjsvyte0fAaulwJQ31/ldlP2dcwYY0x1oU6TjLqnLKfuYN5iQX2TtvnN95BuLLhGB9Lu7rvvju2mkE9TOothJMbTzp///Oeop3HTjstd1c+NfYdqqpOJE22UqVOnZn369IljxBmZGXe2Ih8XxY+0QFY8+OCD4zhtIIyerMsJ70GeN8YYY4ypDxsojTHthhS6EpTYL2U4Q5BnJCBr9UrGPQ8CDscYSYlAxTkpnKuN5557LuICjz32WIwK1ShL4t4aSNPDDz+8mHYo3FvTI9kYUz+UZ3SoULnGfyfKreQxjUM9IQWkRhewT13ByEfm6V1hhRWivN16661jZAXusHWdFoyWZ511VnzbZ555Jtttt93iON9U37oUnNP5hq4zxhhTW9Cu1+g96pwrr7wyjjVWb3RmSJsNN9wwtqlj6TiEMaspHSvTNMU4Sech6mvg3NixY4ujM1W319p3wNMDxkniBngmuvjii8PdcGOQ9pKvMXay/cADD0TaS0YtB6T5QgstVNgzxhhjjPkx1pwZY9oFCYa33nrrfEIPc3flQXGMm0QEGoSkr776KoROscACC4QQBflRLNUAcUIQJJ5w0kknFXusnnHGGRHXRRddtChsNgfu4Tl77LFHCPxSjNCj2BjTNqDQURmHy0/mzjUdA/UG5SnKYTqyMH/kvvvuG3ND9u7dO9ygMQ8yZSNlMIuMyhguMUSiIH3jjTdizirgvDp81AfvrTXFpzHGmKZDB8qDDjqoWFfIxSYwMr+WaYnMIjCmLbzwwrGNjEQnzobq2/RdyIjXXXddtL2QHan/t9hii+iYiSykeaGpw1tbR6udVykQ1xNOOCHaOsQTmbhv377ZVlttVRwx2hDERW2X7bffPtpNPPOee+5pMP0bAwPzN998E89SelVSuhljjDGm8rCB0hjTLqAMnj17djZu3LjYRxhCEEIJnEcGTK5BQMKIibsaKZFTt0nVCEIjQhsgiNPrVwIixsqf/vSnca4lwhzPIP1Iq6uvvjqU7+wzcsjCoTHlh38uHUG58sorh6LN/1vHQLqjqPvkk0+yxRZbLJR3t912W9Ql6tjCNoq8pZZaKgySEydOjLJ45syZUUdtvvnmcR1wrb6tMcYYUx90oMQ4RF1D3YEHE9a0w9W2r1Va0ubRPchF6623XmyTVsh5kgVLofuQI3EJO2jQoDDSaVoQXLHjBQGo22sVOp/S4QowjjPFx6mnnhr7TYH0U/uGjlzkVcAtbksh/d99992Yx3v69OnF7+h2lDHGGGMawgZKY0ybgkCCcMKCsWzSpElxHOGdc6UEFgTPuXPnxpoFAYresBJIcRPDfdUidCrcMrBKACRNNt5442I8mHsSQwdwTvFvLno+o4EQ2NknzV555ZU4bowpL8z/YyoDKcMmT54c5anKQxTHyy67bNavX7/4XijzmA+ZUf2aN0z1Ukp99ZQxxhiTQv1DfYHLTbX5cfNKPcRxtetb0ravVKhLS8UJ2Q0YSYecQ9qofta16qzJetttt41tePbZZ4vpVx88c8iQIdkhhxxSvJYpMr788suYN1ojCNUGaA35+PFu5CsW4vSvf/2rcKbt0ajEY445JjxEEBb2MU6OGDGi2AlWad0QGl1K3mTkpeJIh+KmIhkWV/l8D77FOuusE25mcal///33F68xxhhjjKkPGyiNMW0OAg+KYgkoCIsITwhE9QktTz75ZNyne7n+ggsuyAYOHJjtuuuuIXg1Jrx2NGn4JcgSZoR2XD2RDoyeBOKDYIcRl3tIm9YI1TyDZzLHGtCr2AZKY9oG/mv+uWp0OV1r8C0o+5iHF5fZLI888kj2+eefZ2+++WZ21113Zdtss02Ux6CyEqRENsYYY5qL2u3MQ6k65sEHH4w1UL9oqQXU7kFG0z7yBp1RDz744HCrPmDAgGyHHXaIEXUyWhJ/0kdeDdjHqAjU4XQi0rV59C4MdGPGjAm5CVmSkat4i+natWucB8JTjrTWN9OzCCPvZeGbYxTkXW0NbRXehUH0j3/8Y4SDdMTL0I477lhsg3K8JTKk4kCbqSmQ7ryLb7H22mtn559/fqSJkIzPNcYYY4wxDfFfdQ2Rtm9NGWM6JWnxglCHy5i99tor9hGwED4RThE2GcWCECuBKr0X4X6TTTaJnp4ShrhHAmE5hM/2AFdPKMYJL6MlcfeEURLOOuus7OSTT47tfLHcmviR5szBQlptueWW2ZQpUwpnjDHlgnKMson5Y2fMmBHHqqlsqkVIf5WlqaJOxzlGPcK3a4oiT8/yNzXGGNMQGJIYta/OmYwyrMUOTNSLqhORcQYPHhwdgZDX6IiJvEYdixGNNMF4hXcDdZ4UnCOdlEbcg7yC0TEPsqPmmGSb+ps5LLmesCDvQFvV2TyX70rcMMZ26dKlcKbt4d2kFa7rr7jiimjDEH9cqZIG7BOulhoEGfHIPN2kIXI5hvaGePHFF7P9998/Rk8SNsLCvRpRyvck70OaV4wxxhhj8jS/a5UxxjQTBBIEkxtuuKG4jcDCNkJeKbhGINDKDQ2CGYKuBNBqgDCzEFfizEJ8ENIRIhHgmHtSQhzoOpbWsOKKK0b6kWYoCwiHMaZ8MNcOirXW/qumPGjUhZRlLHwfFHdSkKneoR7hvDHGGNNaqGu0ZtSgwGhHO7wWOeigg6JexVU6hirkDOQNYJu6N5U95DkmhfuRVZj/WR2+MECWYqeddoqOYNT1yFIHHnhgyFPU56lsyDPL3S575plnwjB4wAEHRIfbP/zhD3EslVnbEuLz9NNPh9tg0hWOPfbYbNNNN400J+1knFRebA7MQwk8+/bbb4/thmDe0DfeeKPY3jrssMNibm+1rW655ZbCld+H3RhjjDGmPqyVMca0GalwyBphScpgrRFqEDJXXXXV4n4ejuk4AiyLqAaBR+lAuBUX5vd44oknIk0Q3EkPBG3OlTNOa6yxRihFeO5TTz1VTHdjTHmQMoj/lhETpmPRCIy0rOMboTBT2ZoqMZuKynFjjDGmFKojaHcz97vqIVxg1kr7G7mF+OHdBrll7NixETfqVc5RBzOqEMMlLlcffvjh7KGHHspGjRoVcyQeddRRhSf9GDpr8mzkpccee6xw9HswSjLykuO8h/cxem/06NERjnLWz8hlkjvh+eefz7p37x7efDBKMroQDzU33nhjttFGG4V7Wq4R3F9Og7SexXrQoEGxTRoh4+FWlbir7aNwt2QUJSMmlU/vvffeWNfHTTfdVDQ8837ij7H4vffei++DXI8xGdg3xhhjjGkIa6qNMW0OwhJCFQY51uxvu+22IVwhCCFUIfgh5NL7MxUKaxHih7EQ4ZH4I/CKtlCAK50tIBpTfuRiDEVNOgraGGOMMZ0H2vAy0vXt27fY7n722Werug0uzwTIcI8++miMnNMIUbV/cOvJyMKJEydm33zzTXbttdeGfIM7VgyLGGkx7jXUkUuuX3nfAw88EO/TSMHTTz89DJ4cI50vvvji7KKLLgoZp9zwrXgH72KaDOI7a9asokEO+U0yHAtz/K+//voxulIgz5YLxZHRk++//37RAHrhhRcW5TuFpbVyJMZe3tfYcxgtSxpw3dVXXx1zUO63335xL8ZjRnbKaNoSY6kxxhhjOhc2UBpj2hyEFwQWCZm4AcLFngyRuPvhGuagxL1PZ+DJJ5+MNQLsqaeeGtttxTrrrFPY+qEXrjGmPPAPoyxCAeMRlMYYY0znBFlGxivm86NtgLGG9UcffVS4qvJBPmORURVDE9sYIBkV9+qrr8ZxWH311cNoiYvRq666Kua751rinHY4xXjWlDaSjFmkJe5DMf5h5OQdMk5ed9114U6UufzZLxeEl3Ajs/KuNddcMxs/fnzRQAjE95JLLglj6eWXXx7HCAPxY25IDJrIu+UIF+FJ5bYjjjii+F2YK5I5OufMmVPWNOjdu3c8j/dcf/31xW/IWgtppJGs7JNOwPcCjNV77713Mf8YY4wxxjSGDZTGmHYBYUU9KffZZ59spZVWKgo9zOGGMIQASM9NyAtburYaycdFgp8Eu169ehXOtA2kO8IkQv/MmTMLR40x5aBbt27xT/M/WxljjDHGdG7UFmCUHx0y2cclarUguYU18gPTUuBOlXkJ8RSB7ELbZ+rUqTE6lJGSmv8QQx1r7tVzSpG2l3Qdxjh1VOUd48aNy0477bQYOcj1GHsxChKW/LPL0f7inYSfEZwYmN9+++1i51q+JcdfeOGFMI5usMEG2aGHHhph7tevX7wfWffuu++ODrekW2shjoSH5+KF6MMPP4zjK6ywQtF96oILLhjXNJTWTYW4Mg+lnscoWM3Zzb4W4kwayJh81113ZTfffHNscw6vSKRlGqZypIcxxhhjahcbKI0x7QK9XBkp+frrr2d77rln9KKVMPnMM88UhZhlllkm1im41UHQqVbyQppAAOzZs2esy0nqZjJNN5QHdkFpTHlBQaP/TG6sO5JqLiuNMcaYaoY6WO16eVhgn3kYZewqFzKKiXIagWSMIuyDBw/ObrnlluLzBw4cmL3zzjsxspGOpbSD6GSayjql5J4UGbdSeAauQoH7L7jggmz69OmRpryHkYsYBTmnto7e01pZSt8NIyRyKsZXwsgx5nnEPS3fMzXE0t5jzXyU11xzTRwnje65555s1113LT63NWAgRIY++OCDi/kH46lobbxTMAD36dMn4kC6Mu9nqe9Ex9e11lqrGDfc+vKtlIY33HBDMY1EOcNpjDHGmNrDLQVjTJuDwIKww6jJVVZZJQQ6BFCOS5gR6667bmFrfsopdHcExFkugiTQAe55GhPim4tGofIe5gihdzPHSEN6/BpjygtKOpQx/Mv6z8v9XzeHtIwxxhhjTPuh+p+RfkD7e9KkSWEAEuWQa2h3YLwC5Aw6guLyE1rSDsjfQzxwK3rHHXfEPrIEBsJLL720ZGescrR7cBELhIX2FGuee/bZZ2eHHHJInIP8u1r7bt3PCEjcugIGYOaVJA2QVbkmfY/CB4MGDYpRlnxjrpk2bVp26623xnZLDdPkEYyBuFN977334hjhUBq1BXxXjZok/siRyqtp/vjFL34RMj3hefPNN2MhPQgvIyjVFjbGGGOMaQo2UBpj2hyEMwQYBBuEaQRcXAOxzyKXNdCjR4/CVu2AYIqgttBCC82nnADcIpUbjUxFoKTHLfuMnKTncSpYG2PKA+Wa/rv333+/6AKtLSj13LZ6lzHGGGOaTtrOxliz7bbbRhsBOQCPMOWEup8Rf9tvv324+sQrS5cuXeKdpQyIzeX+++/P/vjHP2bffvttyC+77757GCcXWWSRGElYbmhHbbzxxpFeQNyI4+jRo7MjjzwyjqedWqEcco3aUDfeeGPITZLVRo0alR100EFxnrDl38U+shbnWAjjRRddFGGkHcg+5GW/piLDJqNveSbvwvi39dZbx/G2gHfsvPPOseaduHlV+zZliSWWyIYOHRrXAdeS54466igbJ40xxhjTbGygNMa0ORJsEOQkMDOCUoLeAw88EGtYfvnlC1u1AwoKhNvlllvuR71oGUFZbiS80wOYuVJIf46ts846cdwYUz5QzvAf84/xn+MKjX++HEozY4wxxlQnGGq22267ohHn+eefjzWord4acMHZtWvXkKN4ngx7uJvXyMrW0Ldv32jLEI+VV1453JiKtmjjEH7mQASej2Hv8MMPj5GTnCtlKCsHigsjXvlW7ONGFbeuxJ13K21LofPIeIy2XHPNNeM44WUUpb5/c6FDL8/EUMyzeAeuVNsSDM9yT0tb9sknn4w0yMuv0L9//8h3LIy6JHx77bVXi+NrjDHGmM6LDZTGmDYnFeoQclDiI/zR0xcQatR7lWtToZ3rqxHig4DGwjYLvZoF8UcIVLzLCc+m1zE9nWUQ5hjzhRhjygtKI/Vm53/+4osv2lQ5w7+cR+UIa863RblijDHGmKZD+2D11VcPQxvbzOPY2vqZ5wDt+0033TRkKOQm2v3rrbde8RztEEZWAsal5ryXe2VY5X3IKyNHjox1S0cDliJv9GJuy3vvvbcoO3GeuCnsqTxZDiQjsb788suL8tP666+f3XXXXUV5NJVL86TnMOgR5nPOOSfk1++++y7bb7/9Gry/IQjX3Llzi+5TSX+5d1U+KCfEHTASKy1eeumlSP9S351jTz/99Hzy7Omnnx7xVTuY44wmNcYYY4xpiJa1lowxphVIaEndm06YMKGwNb/QJeGx2kCwQ0Bj0TbzwkhIRdBEsdBWTJw4sbD1/bvofYwAqbQ3xpQH/i+M/1LOMKJh7NixbaI8EryLspGF9+jd9LLHJZnmoDLGGGNMx0Cbn7a+DISPP/54Ua5paRsBIx3zG/785z+PZ/IcjFYYKjEW/etf/4rjyB64BuV9aiM0BvdwPc/iXsAIdcMNN0Q8JMOUCxm9CN91112X3XzzzbEvCM+f//znWLcFtN+0HjduXGwTR4xsOgcNvT9/jjgxLzlea5C5WGgXtgTkNuaA5JvzTXbYYYcIH88st7EW5P2DBcO6eOqpp35kTBbMj6lz5EXkT8KoPMeasNpIaYwxxpiGsIHSGNPuIPggqFx44YUhxCCA0XNVyDUOQk1ThepKB2GSeMtAiDBXbmFNafX111/H6Em9EyEbowXCLfvGmPLCv5a6a2Yeo5b8a00p7yg7VJbMnj07lIlnn312KIBwy3XiiSdmBx54YFzblkZSY4wxxtQPdTUL8yqyxgCEAYv6uyXGPu5jVN6ZZ55Z7IjEfJNTp04tGqxo89MBlPYE1x933HFxvCntC67hOVdeeWXhSBaGSdoWzKPfVvBe3KmyJo1owyitpk+fHtfIsFsOeI/Sg/VXX30Vxl22if/mm29ePN8U9DzkOn1b5qIU559/fnw3aM5zAUOx2nIYPUmH1ABYbpQvjz322IgL32DYsGFFY3IKYXjwwQfjWwlcC3Oc6zHI8zzSNL3GGGOMMSaPDZTGmA5BAhACO4azL7/8Mnr9InghgHEcJHBXO8SXOCH0siZem222WeFsecE1j9KXNfOBIDDyXqWrMaZ88J+dccYZsUaR9Nxzz8X8ryh3yo169U+ePDnmOlpwwQVDWYlCiHKFDh+DBg2Kd9dK+WmMMcZUI2p3s0bOwaAjmaAlYCxkXkCegcyE5wS26bxE+4N6/5RTTinW/6NHjy4azRqDdgTXMYe96NGjR6zbUn7g2TLg4eZ1zJgx2aqrrhouRr/99tuIWzqisVyQLiz9+vUrps+IESPiWEvii1GO+1iQZUlPDHOk53vvvVe4qunwHI2g5FkbbbRRtPF0ri3RXKDkMUZJ8i0IQwph0DnS79FHHy26iSUNmcdTRsq2Dq8xxhhjqhsbKI0x7Q5CioStFVZYIfZfffXVYu/KtJdlXhiqZhDQpDBg+yc/+UnZBbY777wzmzRpUigpeD5rlBNQS2lpTKWBm1dGMvBv898xaqG+UdL8i1pAIwNK/aMcQ9GD0gcXZCh8+LdRqN1xxx1xDjiGcoxjKLEIhzHGGGM6BtXpp512WrGuPu+882Jdqr7PQ1sCdC2uNuV6FYMdIydlsGKNTME9vXr1Crevuu+SSy6JdX1wXbqsssoqhTNZ9swzzxSfQ1tF15QTws0zkQWvuuqqiBvtGJ3DbX654X08m7bSE088Edu0ofBCIRRXLY3BMwRxkDcbvs0jjzxSONO0by/oxNsR7TniInmcbb4N4ZYBEshXivMFF1wQHW+Vlix4+cDd7UknnRTXGGOMMcbUh7VXxph2B6FF7kaXWGKJouCH8IZA17t378KVzRPiqgXijbBJ79pyQQ9juP3228MIipCNkoL5SuRuR8ZRY0z5UBnFf4YSEoUO//jrr7+ebbPNNkWlJKisS0HhR7mHMVPn+HdRAqH82XnnncO1Gs/fb7/9YvRFqiAC3jdkyJAYgYCRdOGFFy6cMcYYY0xHQN1MfY7hBiMV7XBcidJm51xjcD33q20wcuTIYlseow/GH70DuUILMgDnaFtw/uGHH457mgLXL7PMMsV3MgJOcwzqeU0Je0tg3kN12JKMJONevu3UWogDz9SaNMQoOnfu3EjDlrxP6cK9jCa866674rnEafDgwbEtyh2fckNccO9LXiLP4RmE8NPGVdjx5EFacS1ujJWGGNK33377+Ha0gS+++OIwmvMdJa9WevyNMcYY077YQGmMaXcQYCSYHH/88bFGuGGeEQmmIKGxVkCIA4Q1DAxpXFsLbh4xTk6YMCH2Sbe+fftm9913XzG99X5jTNuwwQYbxLxD/G8oYVBEothhdOPaa6+dHXTQQdn+++8/38JcSwcffHB26KGHhgKH/7RLly5hkBw6dGiMiFY5SJmBopBrUBphvLznnnvCbdzpp58e17TFyGxjjDHGNA3qbHVOog2AYY+OmRxn3Ry4nzofN/IYeGjTb7fddtEpCQOQrgHOSXaizaFt7st3bCoF1/MMnq12B0yZMiXWqVeI9Hw5Ia60c3D1qrYMI0Xb4n08P50rcuutt442FO9v7nfiWXxz1owilEcNws0x2mwffPBBMR6KW1NIO7q1J7gKJt/wftzUEgfFkXhg+GafNOvZs2fkQ9Juww03zCZOnJitu+66YdDkGCNxGdV76qmnxr2NycBt8b2NMcYYU7n8V13l79rfGNPuUPQg/Kk3LkIc85zMmDEjBBmN+mO57LLLQnnPtdUMo5s0HweC2QMPPBDCMHFvDUpLBEdAQER5ce+994byojlCsDGm+aCg0X/M/4iLMnrLo9iRclH/aF5JqHtTpQ9rKR4FZUafPn1CCbTSSitlO+20U9zDdVJOGmOMMaZywODHPPv9+/ePualpC9CZMPUW0xDU/XR4WmyxxYrtA0auyQAmOAdq89M+4B3Tpk0LrwoYOGmXNJXDDz885oIEDFCMpjv22GNjzT7hagsZg3iwEDeerfYQsmFbgLxJXEgvGXiF0lQ0Ja6k94477lgML/HASEdHspdffjlbY4014jm8U3JbQ+DOH+Mg4WO+RzqyNSUczUV5Kw9hJ12QwYkDbViO4fKVqQ2A0boYK/P3E0cMkqNGjYpnAO3VBRZYIEaXkofro77wGGOMMaY28XAaY0yHgNCRNzi++OKLsUZgqzXBREIuAisCG5RrpBPPZCRVaqRAmLVx0pj2IVUS8s/RoeLZZ58NQyXz7KLQQTmDcgclU7qA1pQTlIsofVZbbbVs2LBhocjkH+caOh0wqpLR0VyHkij971XOGGOMMabjoX2AgfCcc86JtgAyQGNzQqZQ119++eVFuQgDIZ0Q03ZHCtexcF4GoDlz5sSINlHf/NgpV155ZchjPIf2B+7lMXgib9x///3F43l4tuSc5qI2jOJGp062MeoSnnLD90jd6zcVpbGWFFz702bju5FepBHv4NutueaaxeubYpyE7t27F7aycBvbVnJdfc/FPTHfgLSigy3tTjjhhBNiTRuUkZGl8gJpwJyrGoELtIXpsIsLWJ6dTz8oNVK31HXGGGOMqR1soDTGdDi4ghGMKkR4wVVirYwKQmhDsCJeTz75ZOFo61BPVIRgRlXRYxcBUiO0SDsLc8Z0HMylNGjQoGzWrFmhjMFFGf9pYwuKGVxh0dMe91oouPiXpTzKK5E4p8UYY4wxlQUdEnG5ijxAW53OSk2B9jzQWQljDx0PjznmmCYZAGkTbLLJJoW9LNyOAsebahxj5CZzC2IgBNofzC+I3IGhinBJHgHCS1wJa0vIt2/kKYIw46a23Dz//PMhL/GOrbbaqnC0cQhnPqykA/Mv6vgqq6wSnUXxlKM2Gp3WuI5rShn0SsHoRF1Lxze+vZ4n0u1yw7fm/eQ9RuECsqdkdN7NfKj1yeyEF6M6c1gqP3IPz6Sty/8gY6cgD+XjlE9vY4wxxtQWNlAaYzoc5qhAEEH4QFBByFlnnXXmE8A5Xq0QdhaEsXIJWKTRrbfeGr2yMWrwfNLrlltuKb6rmtPMmGon/ddxIYahEQUYC73N61sAxR//MEpMKf+k1BKUmXkFjjHGGGMqB9XbGF1YMPRgaKqPtG7HkMhIM6CNj4FHowqbAiP2ZCykTfHSSy81Wz7ArShtkc033zz2ZVylTXLWWWdFfAgjrjwxIqbtEt7F0pr2imRDRoGKlj4rjwzAwGi+lkD4MNgxchKDm9IbgxzbtOuU3kcccUTRONzUb5AamadPnz7fKEqla9o2LDcHHHBAfEPynzrZIoMyopb40V6tLy6EjXu5Zr311gsjOR2RSQOeIcM3LmAZ7ct5yf76xm0ZN2OMMcZUDk1vnRpjTBuhEZQIOLggQpjhGEKJBJNqFlAQXBGCF1lkkbLEA+XArrvumg0cODCeLcPFnXfeGa4f2W6q4GuMaRukZOEfzcM/Wt+if5c1hk0dR5mTKvuMMcYYUz1gMFS7vSFUx2OMeuihh2IbcPGOoY72QJ60HcECGIIwnGmbEYO0LZrahsAAxbO4lzkG8QZx+umnxzPUVuEaPERgrGTuReYXHDJkSMyT+eGHH0Z80zA1RnodxrGFFloo2j2l4txaXn/99cJWy6bd4HrChoGNbwXEF0MiaUYanXjiieEWF0j3K664otHvL7iO5+2www6RzuwzglXkw1vOtiHPYiEeMq7r+Ri6gfilBlShe4Fwp9BJ75tvvolRl1zDMzBgkr8YaUm7l/XTTz9duMMYY4wxnQFrsI0xFQOCF0IPwsqee+4ZPU2PPPLIcC9TbeSFM4RIjJQ61hgIvCkIqLh+ZA46hHXmfyG9eC69qb/66qtwhdQWArwxpvlIKYNypzWkCijKRpb64Nq07DHGGGNMZaB2AW18DHh58nW3XGoCI8xwHY/nlJT66ny1HX75y1/GGjnipptuiu20XdFUaHtgpBo+fHg2d+7cbNKkSeEZQs/iPOFA1jn//PNDNllxxRVjBOHYsWOzmTNnRhjSsGq7VPiBZ86ePTvewci7cqMwQ6kw8N58WqWjLrlnxIgR8Z3Y5lqMk7hlVVuNY7jCBa457rjjijJeKuvRqS0fBmQ6jHfcI/lu5MiRsc6Hi7TNH2sNPIuFePTq1asow1566aVFAyzHMICrQ57QvaB0EMSDe4kHz8NQiXxLWnAta0ZSYqRkqoM0jYwxxhhTu9hAaYzpcLbbbrsQUhBC6JkrQWf06NEhwCy99NJlFbrag1Q4Y40whhukpkA65HvXYphk1GS/fv0irVByIMjddttt2X333Rc9lhFijTGdm7TsMcYYY0xlgIzDCDG44IILYp1C3Z0aqRgth0GHNj8dNpdYYonCmR9orM7/3e9+F2uuoRNoOdoHGCqZm3LKlCnZn//851gz16KezRpZhrjgzvaggw6KqTvWX3/97IYbbohrQNdwfRrvFIygMuxCfde1BFyMKsyNyVBch0FOcWMbYy1yKsZBOOecc8KwBqnRrlu3biG/AdcyFyUgx0neI45KBy2SB5m/lPQFjmPU47jSD1rbGa4UPB8wsBJW3kUHWaYWIX6EmW+afp/mwDMYeYvBmzhh2CUeMmqm8dPaGGOMMbWJDZTGmA6HEYEIHix5QbRLly6xlgBZrSBkffvttyHQN4YEMwQ3XNwwt8vBBx9c7D2MoZN0wtUrI01BQrMFOGNqi1JlH8dKLcYYY4ypTDCI0XannV9fna12vKa6wBCF7KC5KJsL8gLoWZpDsjlIRkthJCfHfv7zn0dHU6boYCTcuHHjwo0n53gnBifkOt6NS9UDDzwwjq211lrZNddcEy5rkXfqSw/kJ40OvPHGG+u9riWsttpqRZkrneMyj96JEZOwExdGEmKQZBvOO++8bPDgwcWRjpJlSYcFF1wwO/7444tpdtRRR2VXX311nOf61JgpeKfyCUbtY489tvjsCy+8MN6nbyJDnvbLhdJm5ZVXLr4bV7YsvIv0wEApA22exr4V8ix5hk62GHuVhzBqM0qzR48eEQbeVc7vbowxxpjKwwZKY0yHg+CBwIxQIjgmoa8WQMDC2CphrzHo5Ywygp64Dz74YBg3BS6amG9SvWURTNXz1wKcMcYYY4wxlQWj4JADaL/jxrIUtOnh1VdfjW0MQyeccEKT5Yc8GkEJGITefPPNwl7TQbaQfCFjGnIaYVK4MMixMFJwwoQJ0XGSOS+vvPLKGD3J9Yobz3j77bezww47LPvVr36VbbDBBtmLL74Y5wTXA8ZPnqv384xyyToYxkRT5zwk7BdffHF22mmnFQ1zGAuZa5JwKn1YKw7IsxjyTjnllGLYMVi+9957sZ3ep/Pcy4JRm/zSs2fP8KQDPO/MM88MV7p6B/eVK13yYCBVB1tkWRkrkU3ZljzaXAgvo3GBZ2iey3XXXTdGU4q2ipcxxhhjKgcbKI0xHQ6CB8KPhBTgWEuF8UpAAmOezTbbLNYIo4suumhR6MJAizBPz2MUCAjr9B5FCEUYRyC89tprw4iL8M/9QoKiMcYYY4wxpvKgvU4bH8MWbXs6I+blBdr3zL1Pe5/Oh8zxJ/eeLYFnbLLJJrHNe3HJ2hpS+UOkcSCOyHMYnHBNuv/++2cPPfRQ9sorr4RhD2MlyPMLhrlZs2aFAQ7Zh5GJyD565hprrBFpxf6tt95aPC6DXmtgbkU9hzlBZVgtBWHgHEbCoUOHRjjwAITchgEZOMb31Vro2JAhQ+J+0pARm4xMTN2lCr695EPu5d3IyXfccUeMQOWbcg1GUjqtpvJymj5scy+w1sJxXdcUyDfElfcgr/J92N5nn33ieey3hFJhULx1TvvGGGOMqW1soDTGmBZSn3CHUJgaHiX8coz5Z0aMGBECJffffffd4X5pkUUWCYF+r732CqEPQVXPHzt2bPbll18W3SJxrpqNt8YYY4wxxnQ2GEmHUYd2PIY5IcMYIwtxdYnMgPxw6KGHtspIg8yA8U/kRyq2JYSbeOLaFEPj0UcfnT3zzDMhG1122WXh5pW0IO5ch8H2mGOOidF6GL2I/+abbx7yEIY6rsEAyj2pQa+l8FxGaAJhHTNmTBjjCA/nZHhjpODMmTOzrl27RudRzhEWOo7i7Ubfp7HvxLPvuuuubJVVVol9nr/zzjtHx9OHH344joFGEkL6bBZGpMpIyf1s33LLLXEN+1zDe0gfthmBqXjoGVqaCt9vwIAB8Q34JuoYu+OOOzbrOQ1BfBVnY4wxxnQ+/quuIeCWgDHGNAMpFuDrr7+OXq15MCQigOM+iOvfeOON7N13383ef//9cCOk+SRlvESQRIhkjQCIQD5o0KAQXLlGvWU1ypRnggTDcgmIxhhjjDHGmPJz2223xcgz5AhG091+++3R9seIhOHn+uuvD6MT7foll1wy++STT+JaZIGWGOWQF3jHvvvuGwYgPLkwh2A54bkNySGKWx4dxzDIvIzEk4UwE1+MgYz+RKbiOPFHFioXGPKYRoMRq7yT5zNKE8Mbsh3he+2112JuSeZF5HrCy3Guo1NpPt6NqdaIF/FhJClGT+7neRzr1q1bdsUVV8TITsg/izDyfgyohx9+eMzJCVyHfEi+YmoQZEfkT55Nuuk5DX2j+iC9CZuexQLIpd99911sl4PWhNEYY4wx1Y8NlMYY0wIQEik+n3zyydhOYR8j46hRo4ruf1gj2LJIuAMJmwjFCJw77bRTCJj06F1wwQXnuxa4n2enSJizUGeMMcYYY0xlwqhJjFO055lnTyPy2GeNYUxt/ylTpmRbbbVVyAnIC6lMwLWNtft1DXMdrrjiirHPCE6MbeWkKWEBGVnpwEmcMHylYJw77rjjQh7iHNfgPvXCCy8MY5g6a7bUWFsK0n2xxRYrzvWPHIZbWkZH4ppW8h5hwZAIuFrdZZddIjyC5zQWpnwaMSoRGVFyJOfZxmiKW1/2ebdgnzCQDzh+8MEHh5cd4JieAwcddFC29NJLR3xwtdtaeC/x4718G/Lu1KlTC2dbj+LZlHxkjDHGmNrDBkpjjGkiKi4RAFlweSO3RKXIC1ncL+ER4Y4Rk/Ta3X333WON4TEVLnkuS6nn5LFAZ4wxxhhjTGWDDICRjbY7sgDbGLuYpxF3rDJCffHFFzFffSmQBRpr+6fX8DzJD00xprUVCkOpsBMuvMwwx+OMGTNiVCAGSTptYizESIjclXqUKQf33ntvNnDgwKKRMkWGSda4cx02bFgY/AhHOcKAy1tGkDIiE8gHuHtlPk6lUZpWpJ/SkG/KiFwMquQhwfUy5sLJJ5+cnXXWWbHdGpBVmaeT999www2RZsYYY4wx5cAGSmOMaSEIhjI0QlqcYmhEOESAlXDLtbjewX0rPW+Zg0RCr0CYRGlQyjApShXb9V1rjDHGGGOM6XgwgiED4GaV9j6jCWnDs2CI0xQQ1113Xbh6rQ9kgcba/sgiyBPIGvK+guvPuXPnxnZHIBmmobAjOzFCDyMlYcflKR5ruIf1hhtuWLiy9fB8jHuMVt1zzz2Lhj7JboxgZaQixjnkOI41JKO1FL4VIyd5NnHPG5BJt7z8p29LWG+66aYIJ0ZewsbCMwnzkUceGV59ygHzZZJG48ePj/cbY4wxxpQDGyiNMaaZIPxRdNLrFRdA7IOKU9YyUB566KExh8xSSy0VPW1TYVLXcYxt9aBuDL1HlFtINsYYY4wxxpQX2vrMETht2rRoz1999dXZfvvtV+ycyDGMSrg0TTsw5uG6prb/58yZk3Xt2jWeh8yCARB4T3sjGaahsCMnjR49OuZ+xOUtBkoZbkeMGJGddtppsV0uJJeRTo888kgYjfkezEWJXEaYJa/x/dhvirzWGOk3VBgE30jvUJppncIx7lO47r///ujsyohT5E+mGGEEZUN5qbmk4TbGGGOMKQc2UBpjTAtAEMz3bi1FWsTWJ8w1V9DLF9sWEo0xxhhjjKlc1N4//vjjs4suuii2TznllDC64eKTOQmBEZaMUGuIpsoOug63pLiQxcj21ltvZSussELhivZFMkypsKeuW6+88srsiCOOiO1jjz025qfEuDp8+PDs9NNPj+OtBSMwI0pTeIcMt+m2kKGyLZCREuMk70DOJL2UZqUgHZWWhI1ncF9T5dSW0tbPN8YYY0znwn4ZjDGmBTRVKJPgWEoQFw2dK0X6zObea4wxxrQ3KE4FCtSGFK7GGFOLqM1+wAEHFA1PL7/8chikbrnlljgHe+21V2Grfpra/td16Qg6Rgh2VBnckOyiegLjF0ZJXctIRoyFbD/++ONxTTnIGychNUhK1lNasZZxsi3ST9+IkZNyyQtKh1ILEBYW9rmPba3TpZzYOGmMMcaYcmIDpTHGGGOMMabJSOHZFGNjfsQJ2xwrt8LUGGOqgW7duhVHCmJwoxxl/kEMTJSPK6644nydOloKzxU8l4V3fPTRR0XjViWBO1eMtcz7iEESmLdfczLKaCd3pm1NmkZ6H+v2fDfrci3GGGOMMZWKDZTGGGOMMcaYZoPCG2UtivB0kQESJTPX6Dgu/DjOsXIo4I0xptrAOCkj17fffpvdfvvtsS9D0pprrhllZGtJR01i5OMdlLuUy5THlciYMWOyp556KrZJixNPPDG2MUqyCBvcjDHGGGNqBxsojTHGGGOMMU1GivRPP/00++CDD7IXXnghe/LJJ7P77rsvu+aaa2KOtYEDB2Z9+/bN+vTpE3OqnXrqqdlrr71WdNWXKs+NMaYzsemmm8aoQMrCO++8s1geDhs2LNapMQ5k0GwudArBCJp2CNF7K40ZM2ZkN954Y2wTvg022CBGUEKXLl3CaPvII4/EvjHGGGOMqR3+q66x2/Y+KowxxhhjjDEVyaWXXhoK7Py8Um+//Xas33///eKa+cu++uqrWKegUEas4Bk8i7m8cNeXKsaZW6tXr15Fd4aAIj7/XmOMqWVOP/307KyzzooyE9elMkgyF+U+++wT2+WA51MG33333TG3JeXukCFDspEjR5ZllGY56dGjR/bSSy8VjZPnn39+ttFGG8Voz3RORjq5uM4wxhhjjKkdbKA0xhhjjDGmE4Lid6GFFopRNozgSY2JKY2JC9wrZTeKdgyRGCc5zr0snJcifptttskmT54cx/ROtvUeGS+NMabWoMy7+eabswMPPDDKPJWLlJvfffddlIUY4ejk0Vp4vgyUe+65ZzwbAyXG0UoqZ0ePHp0dffTREV7iTXipJ0gTwFD57LPPxrbqFuJijDHGGGOqH7fqjDHGGGOM6aSgCEfZi7ES5XCpBUV2fcviiy8eyuOdd945FMwXXnhhNnbs2Gz69Onh9hWXfIyY3HXXXbP//Oc/8c4HHnggO+OMM0LRzPNB60qiEsNkjKlO0vJkww03LGz9AO5MZXRLRwzWOtOmTYu5JmWQPffcc7Mdd9yxmBakG+eob9jGUGnjpDHGGGNM7eARlMYYY4wxxpSJtGmNQrWSYeTkT37ykzAqPvXUU9mkSZMKZ77nV7/6VbbUUkuFEZL1iiuumC255JLZ2muvHWtGt9SnKMbgqRGUSodHH3006927d9Eo+vTTT2drrrlmcZRMpZGG3RhjysWcOXOyRRddNMoYylDKS4x0J598crbIIouUrezhOZU8gnLMmDExZzGdVUiDddddN+oJ6iXCx0IcTjnllOy8886LezhPpxjqEGOMMcYYU/2465kxxhhjjDFlAEVqNYESGFAQjx8/PkY4psuf//znGK0yYcKE7Morr4wRkrvttlvWrVu37Kc//WmDo1ikPE6V4Jtuumk2aNCgOIbSnGfqGSinqxGMrel3f/zxx2P+NOKI4fWcc84pnmedLsaYzsnCCy9cLBvl5nrgwIHFzhppudlavvzyy+yjjz4q7GXR4aScz28phx9+eHbkkUeGW1vK/0022SRG2y+wwAJRLyiMGC9ZgLRiaajuMcYYY4wx1YVbdsYYY4wxxpg2B6XyqFGjwn0hBjrmYWMbhTPK6Eow3On9rAmTDKesCWc+fLNmzcquuOKKbOONNw7jwhZbbJE9//zzEVeuHTZsWHb//fcXrjbGmO9ZY401iuUJLkxXWmml7P/8n/8T++UEg2RbPLc19OrVK7vqqquyBRdcMPYPPvjg7IknnohRpUJpQ0caXQf///buBMiq8sz/+Juqf9VERM0ko84aq8wYFEVBWVUWN0BARQFXjHss93U07olxibvibty3ERw2FRQwAqKIAiqLGrdxrExmiaZcAjg1k0r95/vYz/XQ06Ag3X27/X6qTp1zzzn33LNxuzm/ft638XewJEmS2jYDSkmSJEktgofN3bt3j2keND/++OMrVcu0Jpq8zWqm5cuXx/RHH30U1Tvz58+PatLbbrstHq7zIJ193mGHHcrJJ58czdVSTcl7MnDNStSxY8fGMklKP/zhD2PM92Dnzp3je7A5KgP544p6CPVo1nb69Olljz32KHPnzo3vSeaNHj06vlf/53/+J/azcTU9353Lli1reCVJkqT2xoBSkiRJUovhwXw2AUvfaASAGeq1ZlBJeMp+8aD8ySefjKZaqT6iOVumqZKkWcI5c+aUTz75JN5DZRIP1fN4dtxxx+gjjQfv2YTu+++/XxcBgaT6QVOmqAaTzfH91xyh59qgQnLPPfcsTz/9dO37kMrJ++67L34G8F3Kz4HcX9Zh4LuU72BJkiS1TwaUkiRJ+sbigahaRvYjdu+990aVDA/j33rrrWjmlYCvHkI8wslHH320HHjggWXBggWxXxkgVB/0M02TrjTTeN1110Vl0GeffRaVlAMGDIjlvJdjpDKzNYNXSfWH7wi+F/gZtNVWWzXMXff4XgKfxXdsc1VzZ6BY/R7PasjDDz+87LPPPrEs94Omr6+//vr4ziWAbPxHKpwfKtD5HqUvX5azHst5jyRJktoHA0pJkiR9Y/EAVC2DQA88nO7YsWMEk4sWLYoHzhkUVx9ut4asiGRfGecD9q5du0YV5Y033lheffXVmE/wSNOvp556avQ9mRWT4P0cU24rKywlCdmkKd9/J5xwQsPcdYttU6nJmIHP47u3OeRnMCS+9/hufPDBB+M7k8/v1atXNKE9bNiw2Df630zV97IuPyNoTptpvl8JW/kDkOp7JEmS1LYZUEqSJOkbiYeePOhknEGUmg/nmYGH0F26dIkH9FTz0MxrtTqxtR1yyCHl448/jgrK7EeSaZooPPHEE6NqkuPIUDXl8XEvcWy5nAfsBpSSqo444ojaH0SsK01t6/e//325/fbba+Ehf2ixJvJ77avuJ3+4wXflwIED448zaPKa70KOlSay6cuXsJF94bsyQ8kcVzGP97KNSy+9tMyYMaNhiSRJktoLA0pJkiR9I7377rtl7NixZeLEiU0+HNW6xTlm4EE3IR/TG220UXnuuedWWl4PCK67desW+9NUeM0xNA5Vc/8JI3kYnw/fq5WVkoS+fftGf4wEdt27d2+Y+/VUvz/zDySoUuT7iO80xnz3rk0TqdVtN4XPo6nrgw46KKomCROzOVm+L4866qgyZsyYeF39rszv15yHDENzTKh6+umnx3aRxyZJkqS2z4BSkiRJ7Ub2c9gYDzR5EMoDT0LJAw44oHTq1Cn6GhwxYkR57bXXGtZsXk2FXU3NWxfy4W5jzF/VsuaUn8nD8eyPjErFZcuWxfx6U32IXn14jup04h6r9u/Ga5oo3GSTTRrmSNLn+AOHfv36ld69e0dwuK7lH1DwXcXPN37O8P3EmO+lryKboUU1FGSa+TkmjNxzzz3LoEGDyqRJk1baPkHsY489Fv1N8l1KhWVVU9Xl+X2b37OcHz4nj6meKu4lSZL09fibnSRJktqNat9UPNDMwIgHtAcffHA0OXfooYdGs6I8GGV9hhUrVsR6aysf4q4OD4b5zOq6TDOvOUJKHu7yAJmBB8Q81OVYp0yZUnvw25KyaofjpdlU9ocH2UuWLIn5bR3HxPnNcw6OuXpPSlJr4Gdh586d1+j7iGAwf1bkzyjGfHfTjOvw4cNjevDgwVE9mevyvXfkkUfGzzfW22uvveJnL9b0+5DtM7TGzyxJkiQ1PwNKSZIktQs8DOUhZlaJMD1u3LgYd+3aNaaZz8NTAiSm999///LSSy+tsyb2VifDSfaHz859zJCyOeTn7bvvvvE6Q7TWkFU17M+wYcPiGrA/X7Wap95lOJkP1Dn3jLnOktTa+I7KnwlfhvXAugzPP/98GTJkSHxf8702YMCA8vjjj6/0Rzc0Z00YSVX8HXfcEfMSlZP5/eh3oiRJkpIBpSRJktoFHqJSCXnVVVeVnXfeOR6W0u8VsqKNh6tUfdx7772x7gMPPFDrD3Ft5cPZr4LP4eHszJkzY8iQcl2q7g/b5oFxhoAs23333WvVjC2JB9PVMQ+22a+lS5eu0TlsSdVrs6rppixYsCDGXF9CAR/IS2pthxxyyFf+eZPr/f73v49wkv4fp02bVgs5849qqLLkZ8qsWbPiZ+r48eP/zx+d8P3Hz+MMJ5vrD3IkSZLU9hhQSpIkqc3IICvHBI9UTBJyXXTRReV73/tejF988cXoj5JlPGhloFqSeRMnToxmXrPJuXWFz2C/GHIaNK9Kn4s8nOXhLg9vaRKPoUOHDrEuyxjzEHfkyJExzJkzJ95fDbdym6vDOhnITp06tTz55JO1bVPFwmc1R59na4q+1whKP/vss690XG1Bhq95zbjem222mQ/kJbUKvlv5efj++++X008/Peblz4evgp+pfH/x3ZY/b0Gfk7Nnz47vb5p37d+/f8zn51sGlPk5+b3IvuS0JEmSBH87lCRJUptB0EbIyJhw64Ybbig77bRT6dKlS/n5z38e83gImoEXQd/ixYujCuTmm2+OeRlaItfN118XwRQPYOfNm1dGjRpV/vzP/zwqNqk8AfvHZ7EeA02cEhbmPrBvEyZMiGGXXXaJAJMHwRxnHndjeaxV7MNTTz1VRowYUXuo/Mgjj6zzUPbr6NSpU+wn+0+I2tZlKMm55rqCeevq3pKkNcF3K2Fhz549y6abblr7vl2T7yR+fmy77bYRRj7zzDPxnfbhhx+WSZMmxc/d6s8fpnNITc2TJEmS0rf+9xdFf1OUJElSi+PX0FU9KF3dskWLFkVV4pQpU6L/yPx1loevPEzt06dP6du3b7niiisi1GscyuW2q78Gf50QKbfDNvg89m/QoEHl008/jflZRQLWof/F/HzCSR74Tp48uWGN/4vjohKP6kfCyjPPPDOa22O7LEtsj4F5rNuxY8eGJSU+kwfK9YSKVpoDZJ/Zt7333rthSdu3cOHCCAU4NsLlk046Kaarvs49J0lfhp8RfM/kd01TPw+/CrbDz6n8GcP2+JnEH2NQXZk/z1b3nVZdtrr1JEmS9M1iBaUkSZLaBEI3qiR79OhRLr300pXCSZxzzjmxzty5cyOcRLUvrFyXh6PZByPT6+phKQ9x+TzCwKzS5DOpoBw7dmxMsw7hKoEkoRxVjYxZRtUdA69Hjx4dTbLyEJj3cFyg0nC33XaLgX7BWJbYBuEkn03laD5U5oE0n1Ndtx5stNFGDVOfh7DtCU0qJh/GS2pp/DxgqP68W9Omvfn5AbaRfyjDzxPGYJzfb6v7nvM7UJIkSatiQClJkqRWwcNTKjqqCNeQDzR5QEpTpVtvvXXZcMMNy89+9rN42Mr7eGBK864EfqzHMgLCahBXDb7YJp8JHtQ2x0NT9uODDz4oK1asiM9iX+jzkmrBxti36gNjKlEY6K/ygQceiCb1CDfXW2+9WtVLPiRmWb9+/cohhxxSXnjhhdr5wNVXXx3VpRwfA9V8hJ3Vc1EP/uZv/ibG7GP2t5kP1du66j24ySabxDivRw6S1Fz4jsm+b/PnzJp+7+T7V/edxc+VLxvy/avbjiRJkr6ZDCglSZLUKgiiMnjLCo9qxeN5551XunbtWoYOHVpef/31WCcrOi688MII4egTa6+99orKQx588kCVB6Ktgc/NypJ8CEu4uraVi/T7ReXlzJkzo2lXcM6q54G+Kvv3719uvPHG+BwqR3/605/GMl4TdP7gBz+orV9PBgwYUAsj17SyR5LUcgwWJUmS1BwMKCVJktQqCBMzvCNgpHry5ZdfLgceeGAElZdffnl55513Yjm23377csEFF8S6hHD081htaq61gsmUIeCPfvSjWvBGsJjh65qi6hG9evUq48aNi0rJESNGxLapquSBcW77rLPOiirNc889tzave/fu5aCDDopz6cPllpf3gOdeUlvn95gkSZKagwGlJEmSWgUBToaKv/71ryOA3H333aNqMMM++l7ccssto5lU+py8+OKLI9isx4eluU+33XZbbZrxHnvssdZVlIkKQ87Po48+WubPnx/BJ/MYOFd8DucoQzEqU2+++eaYz0CoW2+yOV/MmjWrYUqSJEmSJH0TGFBKkiSpWWRY1rifycRymibt0aNHhG+vvfZaWbZsWa3Z1x122CECOebTF2P2h7UmMihMjV+vC7lNgkKOiepGAjfm8/r5558vHTt2jHCV14SuaU2Cy6wWpTJy/Pjx5cUXXyyjRo2KeWynQ4cOsX3O07XXXls6d+5c27d8bz2hT9HUnpp45Rp88sknDa+a556TpDXld5EkSZLqjQGlJEmSmgVBDTIcI8Cj+VEq5wgmd9lll3L++eeXBQsWRKiHLl26lCOOOCLmEcCNHDky5tc7HvxSDZrH3K9fvzJ58uSYJjwklKRZ2p133rnMmTOnFtp+nWZp6Z/znnvuiYpKEO4STlJxeuyxx0YoWs/YX5qf5fysWLGiYW77lPeFJEmSJEn6nAGlJElSO9da4UgGdoR3hFCEZwsXLozKyFNPPTUqCz/99NNY97PPPivXXXddhHc33XRTVFTyfoK9bO613rG/1QqVIUOGxP4TxOb8efPmlYEDB5bddtut1lck66xtP5VUHh555JFxbumzknP10EMPrbQf9er73/9+HDf73hb2d21xbO35+CRJkiRJWhsGlJIkSapZkyZHv0yGk4Rmd999d+nTp0/ZaaedytKlS2vLq84888zyk5/8JILLDHSoviTAagsaB1FM01zt008/Xc4666w4fs4v8+bOnRvjyy+/PNZd2yZO999//zifGfLRtOt222231oFnS/rrv/7r2G/uj1deeaVhbvtSvR8kSZIkSdIXDCglSZLaEYKpDBmz8pAgkGkGljEwLweaXEU1nMx5X6b6fuRnsq3nnnuuHHroodGM54knnhhNkeZnEMhloJfhHBWIt912W+nfv39UU+a8to5jIIikOnT33XeP85XHnM2+nnvuufF6TYLFl19+Ofro5JyyTZrDPe644+J19uNZz9Zff/0Ys68c91e959oCmtfNpo35NyJJkiRJklZmQClJktROEIQQBmaoR3VahiP08Td79uxy8cUXRyh23nnnlXPOOafMnDmzFnDxvlyfcOWrBCsEjLke23nqqafK3nvvHZ89YMCAaG4U9LlIeJmVfvl5NOXauXPnmEdIxbYIrM4444zys5/9LN5L868ZfLZFHBMDxzhjxowyffr00r1795jHeaDZ2yuuuKL06tWr/OpXv2p41+caH3cGvEuWLCnHHHNMbJNrjhNOOCGaeW1LaO4379ff/OY3MW7ruCbVf3vZ36gkSZIkSfrCt/73P85f/uRJkiRJbQa/3jFQwUjzooRir776avR1iAy1CASp5KNikSZI6ReRsIhQjHVyWBXCtQwcaWp0ypQptVCGbbMsAzW2y3QuZ5rl2267bXnxxRdjmvccffTRZfz48bEe+ztt2rTos5HXq9uXepbHzDjDOKapqNx1111XCiFZ3q1bt3LZZZdFwJuVppxrxrwm8DrwwAPL5MmTYzuEkldddVX58Y9/HOtwbdvKuSKgzuZdOZY8V23xWmcADyqBqRpm3u233x7XRpIkSZIkfcEKSkmSpHbi4Ycfjr4e99tvv7LBBhtE8HjppZeWefPm1cLJ9Mc//jHGhIJUVhICvvTSSxEQZchCSJSBUVOoBDzggAOi2vLJJ5+MbRGeMc5gkvGWW25ZRowYEdsiYNt8883LNttsE+EN1ZOsQzBH5eT9998f+58VlkOGDInlbbkKjfOYA+cm5/Xr168sX768XHDBBfGa4yVcJLAbNGhQ6dmzZwRdXDvOcTYL+8Ybb9QqLXnP4MGDIwzjvRlotgVc/9xf7rn/+I//aFjSNlWDZo4n/+1wL0uSJEmSpJUZUEqSJLUh1RAEhHfjxo2LcO+QQw6JSq2pU6dGEEb4k2EjMggiOMnwhIAr1yUEzGCRAJPpxmEX8xgIHPfaa69atSPrsw3msz3mEczMmjWr3HfffbVqv6233rq89tprZccdd4zt0QQsfSmyTd7H591zzz1lu+22i3kcL029toU+FVeler45R1UcF83ucqynnnpq7bxzXRYvXlyOP/74aA72pptuinPBdi655JJaYMv5IuAE72lL2N+ddtopjoljJngljGW6Lco+J1G9FoTQkiRJkiRpZQaUkiRJbQgBY1bhEe5ttNFGZfTo0bWKSAIwgkHWIdAi7KFvw969e0eToTvvvHM5++yzo49H+qIk3KIZ1cceeyxCwQwkCVuqIQvbIUgigGQfJk2aFJ+VoeewYcPKxx9/XB588MFayMb6VAHSxCX7RIXfjTfeGNs76KCDYsz7FyxYEJ+VwRTr3XnnnWW99daL1wRyGfC1RRxjntfVueaaa+LcXXTRRXG8DJzbt956q5xyyillww03LPvss0+EwqzHNeI9VKO2RVxvrjv3EWPuV46JY27r1l9//do9Sx+qkiRJkiRpZfZBKUmS1Ibwq9tdd90VlXWEkIQ5BDxUnhHy7L777uWII44o++67b1TnEQwS+rAu6/F+wrIcZ0iU6+U48Zr3jRo1KkJMplesWFELFPfee+/y6KOPRqiYMpDjM2helio5XlPdOWbMmJjPZ3Tq1Km888475eCDDy733ntvvJftsi6osnzhhRdi+rzzzoug8psgr8kNN9wQ1ac0+Zrnu4pQ+PHHH2941TYRmD///PMx/fbbb5e///u/j+m2KP9NgX5faaaXeSeccEJUwEqSJEmSpC9YQSlJklSnCDeqqJikWdWTTz65FmKBkOeXv/xlhJRPPPFEOfDAAyOcZJ2sRstwMkOuDFJSvs4wE1S0UV3JNiZMmBDzCSdBOMZnMZ/3sC77U30v26QPxewb8eabb451MgBlv1mHpj2pMst9zeMeOnRoLOdY6OPymyCvK+ePqsm5c+eW+fPnl27dusW5yHPENP1Qcq2XLFkS89qiDNhB36TtBRWUiXu78b9lSZIkSZK+6QwoJUmS6kg1yMjp6dOnRz+Ehx56aJkyZUqtycitttoqKuiYd/TRR0fQQ+BDuEXQxfszxGSaUIvX1c/I5RkSIbexxx57RCUm72M5weLAgQOjOow+JYcMGVLbXlZQEiZmkMY+jB07Npoj7devX6zLsrTZZpvFegsXLiyvv/56zGM576Nyk7Dz29/+dvS3+Oqrr8ZyVPe/vcnrwXnhODl+rj1VhlwDrgtjzjfnhf5Ht91227L99ttHhWtbw/FwnTne9iT7WOV+/vd///eV7ntJkiRJkmRAKUmSVFcyfKMakumuXbuWwYMHR5Uhrwmwtt566wgmFy1aVPbcc89aoMgAXrMeY4KR3CbjDEqYbjxkdeXDDz9cOnToUGbOnBnbZDsEjISSDDQjC7ZVHRp76aWXInxiGf0qNrbLLrvEMgI3KiQzmMz9polMQjiwLJsCre5re0YQncfJucrmdgksacY3rxsWL14c/VNy3girU7Witd6wb1SIoh73b001/jfAteL6vPvuuw1zJEmSJElSMqCUJEmqI1mReNlll0WVXFYWElZRwUiQt3Tp0qhkJNRhXQI9gqwMJhsjOMmB9RsHKYlKRwJBKjXZNuuxzQEDBkQwSVCaoQsYV4fGqLTMfevZs2fD3C/07ds3gk8+l6CKfc/mX/mcPn36xDrpmWeeiW2xXlPH2d4QEnOcVMjSFyfThHqzZs0qt956a0yfccYZtWuS15g+ShnTDG+qp/OV9wrBXU5Tcbiq+7KtWm+99aKi+D//8z8jXJYkSZIkSV8woJQkSaozBE9jxoyJwCaDQoIowkPCQuYR/BHm5TqEVE1pHByyfjXMqg5sLwNCAq3ddtutTJo0KUJRwjLwuayLxu9vjEpL5hPSvPnmmw1zV5b9UNKMLRWhHHtWTXJc7EOiz8WmPqe9e/rpp+O8E1hTHZnngPHVV19dli9fXsaPH1969OgR88H9MHXq1AjJqKysNpFbD7gHMzRl/Ic//CGm25NNN9007mWqofPflSRJkiRJ+pwBpSRJUh0hoLviiitqgU23bt0i4LjkkkviNUFV42o45q1KU4He6kI+lr3//vvllVdeiT4N6WeS7VO5yNA48Fwd+kXMviTpJ3H27Nmx77kN5hNQEqbxGfRXyTICTTCPfjBzf3n/6va9PeKcE1YT1nIumc4wmnPBcl4PHz48zg+Bcu/evaMqlXNNqMl1pFlYziXnHLyvpXEMyICc0JTgjtcdO3Zsd9e2S5cucUyElEuWLGmYK0mSJEmSYEApSZJURzJspGKxGkBlaNecMjj8/ve/X7baaquVqr4IuxjWJERin2malGPgfQRk559/fgSu4Lh23XXXqApl24Q4GegkQq38XEKsDNi+KaieTDR3m2Ex5yOvF6/zPhk6dGh57rnnylNPPRX9VjKf97Ds2WefLRtuuGG55ppr4jzm+1tK3tvpyiuvjNCV/dhvv/1afH+aG9Wr3Lv46KOPYixJkiRJkj5nQClJklQnCGgINM4+++x4TQhFJSNVcS0hQy9CLfaDcPDrhkZU851zzjmxTUKxSy+9NMIo+pxMVPcRXtHXIpV/BJusD/qhTCtWrIigrbH2FmxVXXzxxVEFybU566yzIjTmHK0qYGQ9ziV9lD7xxBPRX2X//v0j9OV9hMPnnntuuf7661v8vPF5DNxbjLnO7C8IqpHrMLR177zzTu0+/ou/+IsYS5IkSZKkzxlQSpIk1YkMZQjhTjzxxHhN2EQwRaUZCHQy1GkOGU7y2YRhjave1gahJEFZmjFjRjTtSt+I8+bNi+MlOCOIo9nPrKrLfenVq1ctpFuwYEHDVr5cWw+5CCE5PxwHxz5s2LCYz3XhnFXvA6a5VpyvRABIv5Sc75dffrkMGjQo5hM8Exr/y7/8S7xuCRxDHgfjDz74oCxevDhes880B9zeLF26NI6Va7XFFls0zJUkSZIkSTCglCRJqhPVcOmyyy6LcIOQ7u23347mOVtCBpLV8OvryFCKKj6mR44cWeuLkL4Rd9ttt2iSlBCHCr/p06fHNOeCgfcQyBHW8fqzzz6L92dlWlN4TxXvpfoyEYBmM7P1hP2u7jvNtOa56tq1a4xTBns5vSp5PTt16hQVlTT7yjZ5z+TJk2NZht/NqbqPTM+cObMsX748rmPPnj0blrRtea2437i3OT5wzqv/tiVJkiRJkgGlJElS3SHAYTjjjDMa5nzRF2FbCzqqwRQeeeSRMn/+/OiPkmUEjoRVhDq8ptqSYKdaMZphJGOGxpWC1VCP4DE/k3UPOOCAqCRcf/31I+hkXQJQ5jUOMlsb+815SDTvCo73F7/4RUw3xnngfXnMjbGc46RPUwJgzivT+Pa3vx1jqlNbQvV8v/nmm7XXWRna1mUYzPjuu++undc999zTgFKSJEmSpEb8n7IkSVKdItjIEGfq1KkxbusIb7p161amTZtWnn/++Qgks8lSjpVQcYMNNijDhw8vCxcujEBtr732iveyPJt4ZT0q1hgIf3jNuryHas311lsvAqLx48fH+iCgmzBhQi3QW1Wo15rY5wxnORYQuhLorinODYEn55xtXnfddXHO6Y+Sc37cccc1rNky8nxzrR5//PGYJiSlT9JqMFvPqiFrYxxDhuJUq3K/fe973yt77713Xd5rkiRJkiS1JgNKSZKkOtWnT58I3wjvlixZ0jC37SMwIzzj+Ohf85NPPinnnXdehD9ZafbMM89E/4nf+c53ypNPPhmBGjIgYj22k9u6/fbboynNXXfdNUK4bMKVZbyH9R599NEIPgmSVhc0taYMTgm48nW/fv1i+qtofFzcO4STI0aMKD/5yU9iHufuggsuiGnkOW9u1ZCOZovz2m211Vaxn23B6u4b7lPC1okTJ8b9SthMKLz55ps3rCFJkiRJkpIBpSRJUp2iCnDLLbdsM9Vlq9M42CGcyuCQcOqiiy4q8+bNiz4pQfUZyxlmzZoVIRvTNAmb1ZOXX355VEsSBB1//PFl7ty5tfXY5j777BOhJK/ZHiEdn5dNb9az+++/P/azcZgIjmdVqiEg54mK04EDB5Zf/epXsYzzwjk+55xzGtZqOblv77//fq0v0e222y7mtSWcf/YdnGMQKHO/0fcky6lSveaaa6KaMq3uukmSJEmS9E1jQClJklTHsmlPgqrWCJXWlWpwlqrzCG+23377qEJjmlCSCksCxwzWMGPGjHL11VeXjh07lnPPPbc8++yzMT/17NmzjBkzJt734IMPRkUb2GYObK+p/akH7Bf7yHERTBNSZmhblceyKgRoS5cujXDzhRdeiECQ9Ql1aS64NY//oIMOql3XfffdN+Zl4FfPquecoBs0VUx/ptkMMXg9adKkctRRR0UlJdeRwLJe7zlJkiRJklrDt/73P9n+Ka8kSVKdIgChL0rCDZrCpKlXpqncaqmmOZsbv46uKrxZtmxZ9OFHYMcx57EnXhPi9e7dO8K3nXbaKeYTyFGBinwfVvU59YSw7q/+6q/Kxx9/HPtLuFWVv75Xz1uOeS/TBLlDhgxZ6Vxde+215dhjj43leW5a2s9//vOoliW422GHHcrMmTP/T/O9yOOpVwTpnE8qU5HXgj8oIJykb00wj2VU8LaVZmwlSZIkSWoJVlBKkiTVMUINQg6Cptdee60W3LSncLIpHC9hWx5ztcKO14Raffv2LZdeemlZvnx5BJiEk7m9agDHueI9ee7qFaEqqvvZq1evJqsLOc4c8jVVidOnT4/3UNGX4ST30HPPPVdOO+20mM7qv5aS+zhu3Lhy4YUXxvVg3wieuY6NA9h6xjmm6nPo0KERrnKfcXxcM5p3feqppyKcrN5vjNtCs8KSJEmSJLWkb/3pT39q+qmQJEmSWk2GOr/73e+imo6Qg2Dnt7/9bfnud78bgUcGIG1dBjyJ13fddVe59dZby6JFi1aqAmQ9ltN34YsvvhivCdwYt/XzUT0PP/zhD8s///M/RzhJcJl9dTZG86FvvvlmeeCBB6KqjwrbtMUWW8T23njjjXjdGqE2+8/nUml45plnll//+tcR8m2zzTbRZyhN9RJQsk493NPsC6Ep1yKDVMa8Hjx4cOwzVb1Vl112WTS/zLqsx7g9/fuUJEmSJKk5WEEpSZJUhwg3CEa+853v1AITwp733nuvVlXZHjSuDiSY3HXXXcvxxx8f1ZO5nONvLM8R4/ZwPggbUzYJSjD57rvv1o4/qyxBH5OnnHJK6d69e7nyyivLW2+9VTsPVPaxjPCSc8TQGrJac/z48WXx4sURAHJcAwYMiHAS9NnYVPjaGtgXZChJmEp17vDhw6M6leuSaHqZ6t2zzz47rkuGse3p36ckSZIkSc3FgFKSJKkVfVmQQXORm2++ecOrzyu8mgrr2orG+06A9emnn5YXXnihnHjiiRFMPv/887GMY2X59ttvH6+R72fMsgwo24NqM6CDBg2KwIvjnD17doTUvCZwvOeee8rOO+8cfTjecccdEZpxHhizjdNPP7188skn5YQTToht8b5qFWpzq15jpmfNmlXuv//+2jUD4V71Xm7J/fsyH374Yfmnf/qnMnDgwAh6+/fvX6ZMmRLLOJfDhg0r8+fPj3kdOnSIc896TQWT1XMhSZIkSZK+YEApSZJUpwhtGP7u7/4ugg/CnWnTpsV0ewg+CHtA85j0J3nLLbdEFSEDx818wkv6/OPYM/zJY+d140CoLSPoSoRgnAcCxzPOOKOcfPLJpVOnTqVbt27lyCOPjBCX6j7OYZ7Hk046qbz00kvloosuWqkikXNU3XZzy+uT1YfnnnturZla/PjHPy677757LVzmWq9YsaLVryXn8R/+4R+i/85Ro0aVZ555prZPXAf6zPzFL35RJk+eHOEw8tyvSnu6PyVJkiRJWpcMKCVJklrRlwWNhDidO3duePV5IMJ76qnibFXy2HJ/GXIex0G1JKEVfU0yn4Fgjfn0L0nfflSo0edfLgfVhDfeeGO7DX84zo033rhsueWWcZ6oNOR4aeqV+yGDPs4DfVWeddZZEQBeffXV0TfnhhtuGMtTS4aTVezfgw8+WObNmxfHxH4TTl5//fUxTejH8VH5yXVuDnnPgMAU1XlMP/zww2XHHXcsG2ywQbnhhhvKggULYv8YuB8JLH/6059GVeVpp51WC1bBdHV7kiRJkiTpqzGglCRJqlOENwzZjGTOayvBHPtJeEMlIPufxzB37tzSs2fPct9990VomcfTp0+faM702muvjQq1DGHp+y+xLlWEBErtDdc2z0ePHj0i3CNw5Bwyj4HAjCZ/jznmmKiipMnXK664IsJAArU8l60pAzuqfWmONq87123IkCGxj8zjWDlmgspcZ13K/WDMwDnKeY899lg588wz43yOHj06mhgm5M1+QGlCl2ZoOcfjxo2LKlbWzfOb25EkSZIkSWvnW3/605/837UkSVIdIgQhEKGvO5qXJMShmc+lS5fGsuYIdZoTzX2ef/75EfoQSlHRRmjUtWvXcvTRR0fTpRwTx8zxUVlHKNS7d++oqGQ+rwmTCO4I5NojgjvOA2EZAR7Xm6o+QrNtttkm1uHcVQOzesK1Gz9+fASnL7/8ci10Pe644yJ8/rM/+7NYj2NY23Ay/22sDutUUQH5yiuvxH3IPci9xz3G/iWCb/rwHD58eOxX3oPgeuT0f/3Xf0X/sPkZ9XgdJEmSJEmqZwaUkiRJdaZx2PGv//qv0Q8lgdwWW2xR3njjjVqIVW+aCo6oTKMa8Nhjj43l7DchFU2X3nzzzVENmJjHMtZhOzStSb9/zOc14RFNmbZH1dCxen05Z7zm+hNYVoPZxq9bU3Wf999//zJp0qTYPxBCUznLcvY375Ncf001dZ81RqA4c+bMGOhPkv458xzyubm/hN2Ev7vuumsZOnRovJfrwGdkQJlhOnI+26ruw5ftjyRJkiRJ+oIBpSRJUp3KwON3v/td2XTTTSMQ+cu//Mvym9/8JuZX1Us4QnjDQPDDeOHCheWUU06JcCoRQB5xxBERWBJcgRBzvfXWi2neQ5UkTcBS8UaglMeX09VqNtUPQj/6dDzssMPiOvGaMU2qDhw4MNbJQLV6z1anv4oMZquhaKJqk6pTwu9FixZFmIgMS/kswkaaET711FPLqFGj4n7ifmUZ213b4FSSJEmSJH01BpSSJEl1onFIk2HfH/7wh/Ld7343lvOaMC8r7aoyYGktfD7YB4Kju+++u5xwwgkRDGVQ1atXr2jmk2CSJjKrARPTBEY33nhjrEuIlMER6MNw/vz5hkd1bOzYsVHx+uqrr9auE00UDx48eKWAcG2uIfcBA+/NgDorG996660ya9asMmPGjGjKlXW4n6r3EOsTgh9//PHRlOuwYcNiX1hGhS7rem9JkiRJktQyDCglSZLqBGFJFQELoQ793RHovf/++xGirFixIkKVxus3Na8l5edPnjy53HTTTdFvIvtOiMSxUNF21FFHRQUlx8XA+lRJ0nQrVZMgSMomXZGhEX1Rzp49O1635nGqaVwzmkrlulOFyP2Q4STTDPi6ISD3EtsgeLz33nvLE088UaZNmxafz/xcnpWa22+/fenbt2/p0aNHGTly5EqfzzZgNa4kSZIkSS3LgFKSJKlOZQhH4NKpU6fy3nvvxevf/va30eRrvaGvzGuuuaY89NBDUfVJOEmgSlOa9BtJQJQB0pIlS8oDDzxQrr/++lp/lCBUIrjs3r17GTJkSIRbhEvM69mzZzQVyzTbVX054IADyvjx4+P6cJ1pwveWW26JZVxz7ud1ESy//fbb5ZJLLin3339/bI/gM+8rUJlLc7KbbbZZ3Dt77713LCeEZJ1qQClJkiRJklqHAaUkSVKdqYY4BCr0obfPPvuU6dOnRxjzzDPPlP79+6+TsGdtsA8ZDGUIuWzZsjJo0KDy4osvNqz1eVBEc67HHXdcrUlOjofmP6mGZJqhccBEaEm/laCy8oYbbojPu/DCC2NoCXmMWj3OE9ctw0lwLQmfqVbk3iB8JoReF+eUz+K+4n7KKs28b/jcAw88sJxzzjll6623jvl8XgaSrAuvqyRJkiRJrc8/H5YkSaozGaTUo8YhE3363X777WWLLbaIpj0TAeqcOXPK0UcfHa/zmAiLCKwImai0Yz5NcB5++OFl8eLFsWz06NGxLhYuXBjrEDbttttuEYTyvuZUz+e/tVXPPX2hEkput912ZeLEiTGP6ztixIiy77771qpc12XzqdXAkX3hvhg1alQ0E/zhhx9G9e4222wT8wkwWT/vHxhOSpIkSZJUHwwoJUmS9JUQ9GTgk/1KHnnkkeWkk04qH3zwQQRGhFI//elPI7iimdYMhv7f//t/MUafPn2iL8lbb701KjDnz59f7rrrrtKlS5dY3rFjx9r7sulXQimGDh061PoWbA6Gk6uX554KRkJlwsHXXnstQkjuDcLJ++67LwJorh3XkeuW987XxTa4X6jQpBJ3+fLlEUrSRythOfvFvZmfldeTfVgXny9JkiRJktYNm3iVJEmqUwQqBDzZxOu0adNiPk28DhgwIKZbAwEQwRB9Qr7zzju1PiS32mqrctlll5WhQ4fWquYIiAghCY+qIRXrsw6BEuFlhliMwWcQdrIsw8ps1rO5ZJiVDLSaduedd5Zf/vKXZdGiRXGdOG9UUZ511lnl4IMPrp3Haki4Ls4lAXhef7bJvwvul7xnGn9G4/2QJEmSJEn141v/+x93A0pJkqQ6RlOaVKpNnTo1wpann3667LLLLg1LWxYh0cUXX1zGjBlTPvnkk1oIdOihh5YLLrig/O3f/m2EkVk592Wqv4o2DpL+7d/+rWy++eYRZnbu3Dkq9dR8MgDk2nEtGl+PCRMmRGXso48+GmExqGilOde77747wuSm3idJkiRJktSYTbxKkiTVMUIjAj8CyQzzsm+/1kCV3FVXXVU+/vjjqJzcdNNNo5rujjvuKD/4wQ+iaU9kReSX/S1cBlqNQy3e9+mnn0aFHjbeeOMYq/lUq1Or1+Oxxx4rI0eOjJD8H//xH6NyMRFM3nPPPXFPZiD9Va67JEmSJEn6ZjOglCRJqjPVgIegKJt5zdcvvPBCTLe0OXPmlFtuuSWabGU/Ntlkk6imO+qoo1YKTdnfVVXhrYkrr7yytt2dd945xmo+ed0yXP7oo49q4SSVkywjlM57k2X7779/NNVbvWclSZIkSZK+jAGlJElSnclgL8Mipnv16hVjmtGcPXt2rNfSgRBVjISTBFL0M/nGG2/U9gs5Zp+zmm5tsa1HHnkkKiiZPuywwxqWqDlwL+V1Y/qDDz4oxxxzTNlvv/1qzblSyUtfqJMmTYpmd/faa6+Yz7QkSZIkSdKasA9KSZKkOpW/pi1fvry8/vrrEQbSDCfVhDNmzIigcF0iaKJCDnx2Bo5V7733XjQ7u9lmm8VrAtPGmnrf2iAQY5+22GKLCEO/buj5TUfgzXXlHqJfU84v1xILFy4sS5cujfBx2bJlEYJzbVmfdRhPnDgxmhreYIMN4j3V65z3atW6ug8kSZIkSVL7Y0ApSZLUBlDFRqBEyESzp1Qy1pPqr5TrKph6+OGHy3333VfOOOOM0q9fv1r/llq9vBZ5HbISFxlM4pVXXolgcsKECWXWrFmxrIrzTQUrzbjS92Ri+42vcVP/pTCglCRJkiRJq2JAKUmSVOcyYBo4cGB5+umnIwwaM2ZMOeKIIyJsoiKuKdUgqTr9Zb7quo23n9ZlMFUN17Rmmjp3BJKLFi0q06dPL+PGjYsqScLvvIeyohI/+tGPyp133lnrY5LryvKm7rfq9U/r8j6QJEmSJEntiwGlJElSncomVzMcotlNmtjkNVWUV199dYSUHTt2jPXz17pqaNjU9KpU1xk/fny8HjlyZLwG1XR8bk5Xm5j9sm1/XQaVa4frdP/995fJkyeXqVOnxnUiZKQ6kmAyA0nmc37pW/Tiiy8uXbp0idd5T1QrL70WkiRJkiTp6zKglCRJakOuv/76cuaZZ9aCJV6fcsoptQApwyN+xWPIICnnZwVcvibAynCRIOuhhx4qc+fOjff+8Y9/LGPHjo2QMgPJahDJOtXXqi9USnbt2jWud94vIPTm2nIPYNiwYWXIkCHl8MMPrzWjy/qNQ0ivtSRJkiRJWlcMKCVJktqYW265pZx88skRIBE0ESpdcsklEUb1798/AimqL7PCkfWolqtWPLL8wQcfLBMnTozKupShJiEWzX9OmTKl9O3bt2Hpygwo69utt95aTj311AiXM6Ts0KFD2XXXXeP677fffuWoo46q3Rdcz+p/DRpfW6+1JEmSJElaVwwoJUmS2pCsfKRy8rTTTmuY+3l4xK91LCNQpCKud+/eZenSpRFgTpgwIULKZ599NrbBurwG76kimOzTp0+57rrrynbbbddkwAm2YWhVvwgmR48eHePBgweXnj17xvXkWhJAc+3yXqj2K7mq/x54rSVJkiRJ0rpiQClJktRGzZkzJ/oLJHSkOq76ax3TBIvZtGdW0OWYZazDQFhFIHnIIYeUQw89NILI3Bbr53oEVIZUbVdeU0JJrivNAmeTrlRU0r9ohtW5bpXXXpIkSZIkrSsGlJIkSW0YYdP06dOj2pFxyjCRICorJQkesxKSZj5xwAEHlMMOO2ylKsqmfj1kXlPhlaFV28a1XNU19DpLkiRJkqTmYkApSZLUhhFQUhG5bNmyCCNfeeWVmMd45syZZfjw4REs0lfltttuW3r06BGvP/300wgqed/GG28cwSVNu4IwqqlfERvPN7Rq+7ieTV3Hxtffay1JkiRJktYlA0pJkqR2In+tyzCpGj5l866r0nh5UwFVU/MkSZIkSZKkNfVFW16SJElqcwgNq8FkNTRk/n//93/HNOFj44CxqnHYmNvK+at7ryRJkiRJkrQmrKCUJEn6BuFXv8ZhJFY1X5IkSZIkSVrXrKCUJEn6BjGElCRJkiRJUmszoJQkSZLBpSRJkiRJklqMAaUkSZIkSZIkSZKkFmNAKUmSJEmSJEmSJKnFGFBKkiRJkiRJkiRJajEGlJIkSZIkSZIkSZJajAGlJEmSJEmSJEmSpBZjQClJkiRJkiRJkiSpxRhQSpIkSZIkSZIkSWoxBpSSJEmSJEmSJEmSWowBpSRJkiRJkiRJkqQWY0ApSZIkSZIkSZIkqcUYUEqSJEmSJEmSJElqMQaUkiRJkiRJkiRJklqMAaUkSZIkSZIkSZKkFmNAKUmSJEmSJEmSJKmFlPL/AZ1qo9bRptx6AAAAAElFTkSuQmCC)"
      ],
      "metadata": {
        "id": "wFaLoBlItMSK"
      }
    },
    {
      "cell_type": "markdown",
      "source": [
        "**Mathematical Operations:**"
      ],
      "metadata": {
        "id": "xLk71zQ3tO3h"
      }
    },
    {
      "cell_type": "code",
      "source": [
        "a = np.array([[1,2],[3,4]])\n",
        "b = np.array([[5,6],[7,8]])\n",
        "\n",
        "# Matrix Multiplication\n",
        "np.matmul(a,b)"
      ],
      "metadata": {
        "colab": {
          "base_uri": "https://localhost:8080/"
        },
        "id": "J9coVDzXsPys",
        "outputId": "39d8f4aa-2136-4db6-9557-81fd37d61172"
      },
      "execution_count": 74,
      "outputs": [
        {
          "output_type": "execute_result",
          "data": {
            "text/plain": [
              "array([[19, 22],\n",
              "       [43, 50]])"
            ]
          },
          "metadata": {},
          "execution_count": 74
        }
      ]
    },
    {
      "cell_type": "code",
      "source": [
        "a = np.array([[1,2],[3,4]])\n",
        "b = np.array([[5,6],[7,8]])\n",
        "\n",
        "# dot product\n",
        "print(a*b)"
      ],
      "metadata": {
        "colab": {
          "base_uri": "https://localhost:8080/"
        },
        "id": "uGsRaqJju9ae",
        "outputId": "a57a87d0-8a13-496a-f3b9-53e7a0c904c5"
      },
      "execution_count": 79,
      "outputs": [
        {
          "output_type": "stream",
          "name": "stdout",
          "text": [
            "[[ 5 12]\n",
            " [21 32]]\n"
          ]
        }
      ]
    },
    {
      "cell_type": "markdown",
      "source": [
        "**Join multiple 2-D arrays**"
      ],
      "metadata": {
        "id": "qLtPw5Ywtqgk"
      }
    },
    {
      "cell_type": "code",
      "source": [
        "np.concatenate((a,b), axis = 0)"
      ],
      "metadata": {
        "colab": {
          "base_uri": "https://localhost:8080/"
        },
        "id": "0X0bqBL_vI9L",
        "outputId": "004e6cbc-c9e6-4498-bc13-2922bca93a9d"
      },
      "execution_count": 81,
      "outputs": [
        {
          "output_type": "execute_result",
          "data": {
            "text/plain": [
              "array([[1, 2],\n",
              "       [3, 4],\n",
              "       [5, 6],\n",
              "       [7, 8]])"
            ]
          },
          "metadata": {},
          "execution_count": 81
        }
      ]
    },
    {
      "cell_type": "code",
      "source": [
        "# Vertial stack\n",
        "c = np.vstack((a,b))                                  # Equal to np.concatenate((a,b), axis = 0)\n",
        "print(c)"
      ],
      "metadata": {
        "colab": {
          "base_uri": "https://localhost:8080/"
        },
        "id": "eP2NxWWFtgXZ",
        "outputId": "b92c8c4a-2391-4dd4-cbc0-b24107a69e49"
      },
      "execution_count": 77,
      "outputs": [
        {
          "output_type": "stream",
          "name": "stdout",
          "text": [
            "[[1 2]\n",
            " [3 4]\n",
            " [5 6]\n",
            " [7 8]]\n"
          ]
        }
      ]
    },
    {
      "cell_type": "code",
      "source": [
        "np.concatenate((a,b), axis = 1)"
      ],
      "metadata": {
        "colab": {
          "base_uri": "https://localhost:8080/"
        },
        "id": "ghs83fDXvMVX",
        "outputId": "580a821c-3224-492d-9f58-58eca4e97956"
      },
      "execution_count": 82,
      "outputs": [
        {
          "output_type": "execute_result",
          "data": {
            "text/plain": [
              "array([[1, 2, 5, 6],\n",
              "       [3, 4, 7, 8]])"
            ]
          },
          "metadata": {},
          "execution_count": 82
        }
      ]
    },
    {
      "cell_type": "code",
      "source": [
        "# Horizontal stack\n",
        "d = np.hstack((a,b))                                  # Equal to np.concatenate((a,b), axis = 1)\n",
        "print(d)"
      ],
      "metadata": {
        "colab": {
          "base_uri": "https://localhost:8080/"
        },
        "id": "1T36qQ_Gt2H1",
        "outputId": "9e01937c-854a-4fe6-8549-07e55fd71639"
      },
      "execution_count": 78,
      "outputs": [
        {
          "output_type": "stream",
          "name": "stdout",
          "text": [
            "[[1 2 5 6]\n",
            " [3 4 7 8]]\n"
          ]
        }
      ]
    },
    {
      "cell_type": "code",
      "source": [
        "d = d[[1,0],:]\n",
        "print(d)"
      ],
      "metadata": {
        "colab": {
          "base_uri": "https://localhost:8080/"
        },
        "id": "0jn2LrJNt8lP",
        "outputId": "8f2bf983-4029-43be-eace-1d380675c5a5"
      },
      "execution_count": 84,
      "outputs": [
        {
          "output_type": "stream",
          "name": "stdout",
          "text": [
            "[[3 4 7 8]\n",
            " [1 2 5 6]]\n"
          ]
        }
      ]
    },
    {
      "cell_type": "code",
      "source": [
        "d = d[:, [3,2,1,0]]\n",
        "print(d)"
      ],
      "metadata": {
        "colab": {
          "base_uri": "https://localhost:8080/"
        },
        "id": "_Oy6UJ2NvTGu",
        "outputId": "c90bc6ec-98df-415a-bdf6-8bffc980f2a6"
      },
      "execution_count": 85,
      "outputs": [
        {
          "output_type": "stream",
          "name": "stdout",
          "text": [
            "[[8 7 4 3]\n",
            " [6 5 2 1]]\n"
          ]
        }
      ]
    }
  ]
}