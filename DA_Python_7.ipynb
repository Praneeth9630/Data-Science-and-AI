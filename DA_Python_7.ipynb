{
  "nbformat": 4,
  "nbformat_minor": 0,
  "metadata": {
    "colab": {
      "provenance": [],
      "authorship_tag": "ABX9TyM2MHMfxDQbtNMArGBAyFEi",
      "include_colab_link": true
    },
    "kernelspec": {
      "name": "python3",
      "display_name": "Python 3"
    },
    "language_info": {
      "name": "python"
    }
  },
  "cells": [
    {
      "cell_type": "markdown",
      "metadata": {
        "id": "view-in-github",
        "colab_type": "text"
      },
      "source": [
        "<a href=\"https://colab.research.google.com/github/Praneeth9630/Data-Science-and-AI/blob/main/DA_Python_7.ipynb\" target=\"_parent\"><img src=\"https://colab.research.google.com/assets/colab-badge.svg\" alt=\"Open In Colab\"/></a>"
      ]
    },
    {
      "cell_type": "markdown",
      "source": [
        "# **Sets**\n",
        "- sets can be used to perform mathematical sets operations like uninon, intersection, symmetric difference etc\n",
        "\n",
        "**Empty set**"
      ],
      "metadata": {
        "id": "7pVDXBzUoLe2"
      }
    },
    {
      "cell_type": "code",
      "execution_count": 1,
      "metadata": {
        "colab": {
          "base_uri": "https://localhost:8080/"
        },
        "id": "2TXR1TvkoIO0",
        "outputId": "b75c5e43-5d6e-4ce1-f11d-091f4ec2c328"
      },
      "outputs": [
        {
          "output_type": "execute_result",
          "data": {
            "text/plain": [
              "set"
            ]
          },
          "metadata": {},
          "execution_count": 1
        }
      ],
      "source": [
        "s = set()\n",
        "type(s)"
      ]
    },
    {
      "cell_type": "markdown",
      "source": [
        "# **set()**\n",
        "- set is unordered collection of items\n",
        "- set is defined by values seperated by comma inside braces {}"
      ],
      "metadata": {
        "id": "HlKm5s5RoxYn"
      }
    },
    {
      "cell_type": "code",
      "source": [
        "s = {10,20,30,40,50}\n",
        "print(s)"
      ],
      "metadata": {
        "colab": {
          "base_uri": "https://localhost:8080/"
        },
        "id": "Y-FC8PVGowUu",
        "outputId": "9bd47302-cd65-461a-a54c-7fdd82119b49"
      },
      "execution_count": 2,
      "outputs": [
        {
          "output_type": "stream",
          "name": "stdout",
          "text": [
            "{50, 20, 40, 10, 30}\n"
          ]
        }
      ]
    },
    {
      "cell_type": "markdown",
      "source": [
        "- Every item is unique(no duplicates)."
      ],
      "metadata": {
        "id": "nX-OWC4MpKwy"
      }
    },
    {
      "cell_type": "code",
      "source": [
        "s = {10,20,30,20,20,40,30}\n",
        "print(s)"
      ],
      "metadata": {
        "colab": {
          "base_uri": "https://localhost:8080/"
        },
        "id": "lMcSIIL6pITg",
        "outputId": "cb06e149-be17-44b2-925e-6da00d012c87"
      },
      "execution_count": 3,
      "outputs": [
        {
          "output_type": "stream",
          "name": "stdout",
          "text": [
            "{40, 10, 20, 30}\n"
          ]
        }
      ]
    },
    {
      "cell_type": "code",
      "source": [
        "len(s)"
      ],
      "metadata": {
        "colab": {
          "base_uri": "https://localhost:8080/"
        },
        "id": "x-mc-JtwpZ5W",
        "outputId": "5122fce7-e107-4403-8edd-737d0c78c45e"
      },
      "execution_count": 4,
      "outputs": [
        {
          "output_type": "execute_result",
          "data": {
            "text/plain": [
              "4"
            ]
          },
          "metadata": {},
          "execution_count": 4
        }
      ]
    },
    {
      "cell_type": "markdown",
      "source": [
        "- Set doesn't support indexing as it is unordered collection of items"
      ],
      "metadata": {
        "id": "NubKyleSp8te"
      }
    },
    {
      "cell_type": "code",
      "source": [
        "s[1]"
      ],
      "metadata": {
        "colab": {
          "base_uri": "https://localhost:8080/",
          "height": 141
        },
        "id": "WhxOqgkJp5sY",
        "outputId": "73dfa49e-4a4b-4cba-9dc8-3923b702f23c"
      },
      "execution_count": 5,
      "outputs": [
        {
          "output_type": "error",
          "ename": "TypeError",
          "evalue": "'set' object is not subscriptable",
          "traceback": [
            "\u001b[0;31m---------------------------------------------------------------------------\u001b[0m",
            "\u001b[0;31mTypeError\u001b[0m                                 Traceback (most recent call last)",
            "\u001b[0;32m<ipython-input-5-f8bb2b116405>\u001b[0m in \u001b[0;36m<cell line: 1>\u001b[0;34m()\u001b[0m\n\u001b[0;32m----> 1\u001b[0;31m \u001b[0ms\u001b[0m\u001b[0;34m[\u001b[0m\u001b[0;36m1\u001b[0m\u001b[0;34m]\u001b[0m\u001b[0;34m\u001b[0m\u001b[0;34m\u001b[0m\u001b[0m\n\u001b[0m",
            "\u001b[0;31mTypeError\u001b[0m: 'set' object is not subscriptable"
          ]
        }
      ]
    },
    {
      "cell_type": "markdown",
      "source": [
        "# **Set Methods**\n",
        "\n",
        "**set.add()**\n",
        "- add method adds a element to the set. if the element already exists in the set nothing will happen\n"
      ],
      "metadata": {
        "id": "ndnWt1MmqIQn"
      }
    },
    {
      "cell_type": "code",
      "source": [],
      "metadata": {
        "id": "iL-yEFWgqGcu"
      },
      "execution_count": null,
      "outputs": []
    }
  ]
}