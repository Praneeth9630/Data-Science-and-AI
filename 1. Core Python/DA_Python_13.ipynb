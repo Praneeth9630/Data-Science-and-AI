{
  "nbformat": 4,
  "nbformat_minor": 0,
  "metadata": {
    "colab": {
      "provenance": []
    },
    "kernelspec": {
      "name": "python3",
      "display_name": "Python 3"
    },
    "language_info": {
      "name": "python"
    }
  },
  "cells": [
    {
      "cell_type": "markdown",
      "source": [
        "# **Functions**\n",
        "- Function is a group of related statements that perform a specific task.\n",
        "- A function is a set of statements that take inputs, do some specific computation and produces output.\n",
        "- It avoids repetition and makes code reusable.\n",
        "- If we use functions written by others in the form of library, it can be termed as library functions.\n",
        "\n",
        "**Types Of Functions**\n",
        "1. InBuilt Functions\n",
        "2. User-defined Functions\n",
        "3. Module Functions\n"
      ],
      "metadata": {
        "id": "GH9uN2pEmxML"
      }
    },
    {
      "cell_type": "markdown",
      "source": [
        "# **Inbuilt Functions**"
      ],
      "metadata": {
        "id": "ejNNXIfvMvqo"
      }
    },
    {
      "cell_type": "code",
      "execution_count": null,
      "metadata": {
        "colab": {
          "base_uri": "https://localhost:8080/"
        },
        "id": "k3-aS6wTmfZe",
        "outputId": "739f35ef-c732-4204-e845-476475d907d4"
      },
      "outputs": [
        {
          "output_type": "stream",
          "name": "stdout",
          "text": [
            "\n"
          ]
        }
      ],
      "source": [
        "print()"
      ]
    },
    {
      "cell_type": "code",
      "source": [
        "type()"
      ],
      "metadata": {
        "id": "8IZjMsI5NuP1"
      },
      "execution_count": null,
      "outputs": []
    },
    {
      "cell_type": "code",
      "source": [
        "abs(-5)"
      ],
      "metadata": {
        "colab": {
          "base_uri": "https://localhost:8080/"
        },
        "id": "EQDW1IKnNyPY",
        "outputId": "11d37d13-9e38-41ac-f7f5-dff014212475"
      },
      "execution_count": null,
      "outputs": [
        {
          "output_type": "execute_result",
          "data": {
            "text/plain": [
              "5"
            ]
          },
          "metadata": {},
          "execution_count": 4
        }
      ]
    },
    {
      "cell_type": "code",
      "source": [
        "pow(2,3)"
      ],
      "metadata": {
        "colab": {
          "base_uri": "https://localhost:8080/"
        },
        "id": "xvLXsNS4NzNV",
        "outputId": "ac2a46e5-de16-4e01-a514-183ad1821daa"
      },
      "execution_count": null,
      "outputs": [
        {
          "output_type": "execute_result",
          "data": {
            "text/plain": [
              "8"
            ]
          },
          "metadata": {},
          "execution_count": 5
        }
      ]
    },
    {
      "cell_type": "code",
      "source": [
        "pow(3,2)"
      ],
      "metadata": {
        "colab": {
          "base_uri": "https://localhost:8080/"
        },
        "id": "DD5sMM1LPUoi",
        "outputId": "136fa2ce-5f33-496e-c39b-7787dfdf4b95"
      },
      "execution_count": null,
      "outputs": [
        {
          "output_type": "execute_result",
          "data": {
            "text/plain": [
              "9"
            ]
          },
          "metadata": {},
          "execution_count": 6
        }
      ]
    },
    {
      "cell_type": "markdown",
      "source": [
        "# **User-defined Functions**\n",
        "- Functions that we define ourselves to do certain specific task are referred as user-defined functions\n",
        "- User-defined functions help to decompose a large program into small segments which makes program easy to understand, maintain and debug.\n",
        "- If repeated code occurs in a program. Function can be used to include those codes and execute when needed by calling that function.\n",
        "- Programmars working on large project can divide the workload by making different functions.\n",
        "\n",
        "**Syntax:**\n",
        "\n",
        "\n",
        "       def function_name(parameters):\n",
        "\n",
        "                 '''\n",
        "                 Doc String\n",
        "                 '''\n",
        "                 function body (statements)\n",
        "                 return [expression]\n",
        "\n",
        "1. keyword \"def\" marks the start of function header\n",
        "2. Parameters (arguments) through which we pass values to a function. These are optional\n",
        "3. A colon(:) to mark the end of funciton header\n",
        "4. Doc string describe what the function does. This is optional\n",
        "5. \"return\" statement to return a value from the function. This is optional\n",
        "\n",
        "**return**\n",
        "\n",
        "-  The return statement is used to exit a function and go back to the place from where it was called.\n",
        "- return statement can contain an expression which gets evaluated and the value is returned.\n",
        "-  if there is no expression in the statement or the return statement itself is not present inside a function, then the function will return None Object"
      ],
      "metadata": {
        "id": "vH3uuIXEPlIs"
      }
    },
    {
      "cell_type": "code",
      "source": [
        "def add(a,b):\n",
        "  '''\n",
        "  returns the value which is sum of 2 given values\n",
        "  '''\n",
        "  c = a + b\n",
        "  return c"
      ],
      "metadata": {
        "id": "56kFLtK2PVhL"
      },
      "execution_count": null,
      "outputs": []
    },
    {
      "cell_type": "code",
      "source": [
        "add(2,3)"
      ],
      "metadata": {
        "colab": {
          "base_uri": "https://localhost:8080/"
        },
        "id": "_z-Zn8iMRpRi",
        "outputId": "b7bb37c7-8d94-4536-e527-03ce1bc33c1b"
      },
      "execution_count": null,
      "outputs": [
        {
          "output_type": "execute_result",
          "data": {
            "text/plain": [
              "5"
            ]
          },
          "metadata": {},
          "execution_count": 13
        }
      ]
    },
    {
      "cell_type": "markdown",
      "source": [
        "**Write a program to ask the user to provide start and end numbers, make a list of those numbers**"
      ],
      "metadata": {
        "id": "f9J4dMjrRsNE"
      }
    },
    {
      "cell_type": "code",
      "source": [
        "s = int(input(\"Enter the starting number: \"))\n",
        "e = int(input(\"Enter the ending number: \"))\n",
        "\n",
        "list(range(s,e))"
      ],
      "metadata": {
        "colab": {
          "base_uri": "https://localhost:8080/"
        },
        "id": "WLW1PYchRpkS",
        "outputId": "e71d742f-eaae-433a-c2c0-72a9d37ff469"
      },
      "execution_count": null,
      "outputs": [
        {
          "name": "stdout",
          "output_type": "stream",
          "text": [
            "Enter the starting number: 1\n",
            "Enter the ending number: 11\n"
          ]
        },
        {
          "output_type": "execute_result",
          "data": {
            "text/plain": [
              "[1, 2, 3, 4, 5, 6, 7, 8, 9, 10]"
            ]
          },
          "metadata": {},
          "execution_count": 8
        }
      ]
    },
    {
      "cell_type": "markdown",
      "source": [
        "**Write a function to ask the user to provide start and end numbers, make a list of those numbers**"
      ],
      "metadata": {
        "id": "MfsYtYY1SLVp"
      }
    },
    {
      "cell_type": "code",
      "source": [
        "def ls(s,e):\n",
        "  '''\n",
        "  return the numbers from the starting(s) to ending(e) [Inclusive]\n",
        "  '''\n",
        "  return list(range(s,e))"
      ],
      "metadata": {
        "id": "iNPj4UQjRp41"
      },
      "execution_count": null,
      "outputs": []
    },
    {
      "cell_type": "code",
      "source": [
        "ls(s,e)"
      ],
      "metadata": {
        "colab": {
          "base_uri": "https://localhost:8080/"
        },
        "id": "OJrmNClRSiX3",
        "outputId": "d3baee59-9589-4e8a-ee58-2dc8863c661c"
      },
      "execution_count": null,
      "outputs": [
        {
          "output_type": "execute_result",
          "data": {
            "text/plain": [
              "[1, 2, 3, 4, 5, 6, 7, 8, 9, 10]"
            ]
          },
          "metadata": {},
          "execution_count": 10
        }
      ]
    },
    {
      "cell_type": "code",
      "source": [
        "# write a function to add sum of numbers in the give list\n",
        "def sum_list_p(l):\n",
        "  s=0\n",
        "  for i in l:\n",
        "    s=s+i\n",
        "  print(s)"
      ],
      "metadata": {
        "id": "ZwAlHkOHU7aF"
      },
      "execution_count": null,
      "outputs": []
    },
    {
      "cell_type": "code",
      "source": [
        "sum_list_p([1,55,2,19,4])"
      ],
      "metadata": {
        "colab": {
          "base_uri": "https://localhost:8080/"
        },
        "id": "ygPcmdvcU8kl",
        "outputId": "05bf3c45-d62d-4d00-ffca-96bd2a171ea4"
      },
      "execution_count": null,
      "outputs": [
        {
          "output_type": "stream",
          "name": "stdout",
          "text": [
            "81\n"
          ]
        }
      ]
    },
    {
      "cell_type": "code",
      "source": [
        "def sum_list_r(l):\n",
        "  s=0\n",
        "  for i in l:\n",
        "    s=s+i\n",
        "  return s\n",
        "\n"
      ],
      "metadata": {
        "id": "M_Go6I0sUeAp"
      },
      "execution_count": null,
      "outputs": []
    },
    {
      "cell_type": "code",
      "source": [
        "sum_list_r([1,55,2,19,4])"
      ],
      "metadata": {
        "colab": {
          "base_uri": "https://localhost:8080/"
        },
        "id": "cAk1kIuIVElF",
        "outputId": "0e7428b0-e83d-4283-9021-a9c362d467e3"
      },
      "execution_count": null,
      "outputs": [
        {
          "output_type": "execute_result",
          "data": {
            "text/plain": [
              "81"
            ]
          },
          "metadata": {},
          "execution_count": 21
        }
      ]
    },
    {
      "cell_type": "code",
      "source": [
        "# write a function to add sum of numbers in the give list\n",
        "def sum_list_p(l):\n",
        "  s=0\n",
        "  for i in l:\n",
        "    s=s+i\n",
        "  print(s)\n",
        "\n",
        "\n",
        "a = sum_list_p([1,55,2,19,4])\n",
        "print(a)"
      ],
      "metadata": {
        "colab": {
          "base_uri": "https://localhost:8080/"
        },
        "id": "4Kl-RvrHSjeZ",
        "outputId": "9cfb15d8-cb3f-4e8e-8b49-fc4f0778afb7"
      },
      "execution_count": null,
      "outputs": [
        {
          "output_type": "stream",
          "name": "stdout",
          "text": [
            "81\n",
            "None\n"
          ]
        }
      ]
    },
    {
      "cell_type": "code",
      "source": [
        "def sum_list_r(l):\n",
        "  s=0\n",
        "  for i in l:\n",
        "    s=s+i\n",
        "  return s\n",
        "\n",
        "a = sum_list_r([1,55,2,19,4])\n",
        "print(a)"
      ],
      "metadata": {
        "colab": {
          "base_uri": "https://localhost:8080/"
        },
        "id": "Tfu9JtHKVIUH",
        "outputId": "c262e1f7-78fb-426a-f808-79941a48a6c2"
      },
      "execution_count": null,
      "outputs": [
        {
          "output_type": "stream",
          "name": "stdout",
          "text": [
            "81\n"
          ]
        }
      ]
    },
    {
      "cell_type": "code",
      "source": [
        "# Write a function to get unique values in the list\n",
        "def l_unique(l):\n",
        "  n= []\n",
        "  for i in l:\n",
        "    if i not in n:\n",
        "      n.append(i)\n",
        "  print(n)\n"
      ],
      "metadata": {
        "id": "YTURpLq1VdpB"
      },
      "execution_count": null,
      "outputs": []
    },
    {
      "cell_type": "code",
      "source": [
        "l = [\"M\",\"F\",\"F\", \"F\", \"M\", \"M\", \"M\"]\n",
        "l_unique(l)"
      ],
      "metadata": {
        "colab": {
          "base_uri": "https://localhost:8080/"
        },
        "id": "GNzi7D7QXRxz",
        "outputId": "076c446a-1ac6-49cc-bbab-ba7b5a99501f"
      },
      "execution_count": null,
      "outputs": [
        {
          "output_type": "stream",
          "name": "stdout",
          "text": [
            "['M', 'F']\n"
          ]
        }
      ]
    },
    {
      "cell_type": "code",
      "source": [
        "# Example of function with no arguments\n",
        "def eval_marks():\n",
        "  marks= eval(input(\"your marks :\"))\n",
        "  if marks>=90:\n",
        "    print(\"Grade A\")\n",
        "  elif marks>=70:\n",
        "    print(\"Grade B\")\n",
        "  elif marks<70:\n",
        "    print(\"Failed\")\n"
      ],
      "metadata": {
        "id": "aZzcq0AeXgEy"
      },
      "execution_count": null,
      "outputs": []
    },
    {
      "cell_type": "code",
      "source": [
        "eval_marks()"
      ],
      "metadata": {
        "colab": {
          "base_uri": "https://localhost:8080/"
        },
        "id": "fr8b0HTsZTt5",
        "outputId": "08b8d5e6-37a5-4797-8647-39e4ca03918e"
      },
      "execution_count": null,
      "outputs": [
        {
          "output_type": "stream",
          "name": "stdout",
          "text": [
            "your marks :70\n",
            "Grade B\n"
          ]
        }
      ]
    },
    {
      "cell_type": "markdown",
      "source": [
        "# **Different types of Arguments**\n",
        "\n",
        "**Function with no Arguments**"
      ],
      "metadata": {
        "id": "dBvAlfsjAXUo"
      }
    },
    {
      "cell_type": "code",
      "source": [
        "#Defining the Function\n",
        "def green():\n",
        "  print(\"Hi\",\"Praneeth\",\"Good Morning\")\n",
        "\n",
        "#Call the function\n",
        "green()"
      ],
      "metadata": {
        "colab": {
          "base_uri": "https://localhost:8080/"
        },
        "id": "S8g5OfJ8A1oq",
        "outputId": "69361bcc-6fff-4716-c428-ae1fb2dfe292"
      },
      "execution_count": null,
      "outputs": [
        {
          "output_type": "stream",
          "name": "stdout",
          "text": [
            "Hi Praneeth Good Morning\n"
          ]
        }
      ]
    },
    {
      "cell_type": "code",
      "source": [
        "def greet():\n",
        "  a = 45\n",
        "  b = 55\n",
        "  c = a + b\n",
        "  return c\n",
        "\n",
        "# Call the function greet\n",
        "greet()"
      ],
      "metadata": {
        "colab": {
          "base_uri": "https://localhost:8080/"
        },
        "id": "wnSKOODDZWJV",
        "outputId": "98461772-ce18-4f64-e057-a818f19855e1"
      },
      "execution_count": null,
      "outputs": [
        {
          "output_type": "execute_result",
          "data": {
            "text/plain": [
              "100"
            ]
          },
          "metadata": {},
          "execution_count": 1
        }
      ]
    },
    {
      "cell_type": "markdown",
      "source": [
        "# **1. Positional Arguments**\n",
        "- the number of arguments while defining a function & calling a function should be same. Otherwise, it throws error\n",
        "- order is preserved\n",
        "- its executes in the same order"
      ],
      "metadata": {
        "id": "Zv6xd6nVAP29"
      }
    },
    {
      "cell_type": "code",
      "source": [
        "def add(a,b):\n",
        "  # Here c is a local variable\n",
        "  c = a - b\n",
        "  return c"
      ],
      "metadata": {
        "id": "4RQafFsnA1Ju"
      },
      "execution_count": null,
      "outputs": []
    },
    {
      "cell_type": "code",
      "source": [
        "add(2,3)"
      ],
      "metadata": {
        "colab": {
          "base_uri": "https://localhost:8080/"
        },
        "id": "WenoBOngN41v",
        "outputId": "88874954-fd13-4b89-b06f-8dfff536b070"
      },
      "execution_count": null,
      "outputs": [
        {
          "output_type": "execute_result",
          "data": {
            "text/plain": [
              "-1"
            ]
          },
          "metadata": {},
          "execution_count": 8
        }
      ]
    },
    {
      "cell_type": "code",
      "source": [
        "print(c)     # Here c is a local variable which is temporary"
      ],
      "metadata": {
        "id": "Fs0uNS6JPG4d"
      },
      "execution_count": null,
      "outputs": []
    },
    {
      "cell_type": "code",
      "source": [
        "add(3) # No of arguments in fucntion and during the calling of function should be same other wise it will give error"
      ],
      "metadata": {
        "id": "kZw4D1B9OprK"
      },
      "execution_count": null,
      "outputs": []
    },
    {
      "cell_type": "code",
      "source": [
        "#Defining a function\n",
        "def greet(name, msg):\n",
        "  print(\"Hello\", name, msg)\n",
        "\n",
        "#call the function\n",
        "greet(\"Praneeth\", \"good morning\")\n",
        "greet(\"morning\",\"Praneeth\")\n",
        "greet(1,2)"
      ],
      "metadata": {
        "colab": {
          "base_uri": "https://localhost:8080/"
        },
        "id": "otDYZM6IPJZS",
        "outputId": "cb6c1642-30df-4a2f-d549-cde57c0aa1bb"
      },
      "execution_count": null,
      "outputs": [
        {
          "output_type": "stream",
          "name": "stdout",
          "text": [
            "Hello Praneeth good morning\n",
            "Hello morning Praneeth\n",
            "Hello 1 2\n"
          ]
        }
      ]
    },
    {
      "cell_type": "markdown",
      "source": [
        "# **2. Default Arguments**\n",
        "While creating a function, we are asssigning a default value to an argument by using the assignment operator (=).\n",
        "\n",
        "- if you don't assign value for default arguments, it will automatically selects the default value\n",
        "- if you assign the value for default argument, it will consider that value which you have assigned"
      ],
      "metadata": {
        "id": "iAGcTZIIQdZr"
      }
    },
    {
      "cell_type": "code",
      "source": [
        "#Defining a function\n",
        "def greet(name, msg = \"Good Morning\"):\n",
        "  print(\"Hello\", name, msg)\n",
        "\n",
        "#call the function\n",
        "greet(\"Praneeth\", \"Good Night\")\n",
        "greet(\"Praneeth\")"
      ],
      "metadata": {
        "colab": {
          "base_uri": "https://localhost:8080/"
        },
        "id": "NCJ4dcbCPwnF",
        "outputId": "eeace4a1-1227-41b4-8ff2-7ed21174cfe3"
      },
      "execution_count": null,
      "outputs": [
        {
          "output_type": "stream",
          "name": "stdout",
          "text": [
            "Hello Praneeth Good Night\n",
            "Hello Praneeth Good Morning\n"
          ]
        }
      ]
    },
    {
      "cell_type": "markdown",
      "source": [
        "# **3. Keyword Arguments**\n",
        "- Keyword arguments allow you to specify arguments by the name of the parameter, rather than just by their position."
      ],
      "metadata": {
        "id": "JYk-2fmcRBGG"
      }
    },
    {
      "cell_type": "code",
      "source": [
        "def add(a,b):\n",
        "  c = a - b\n",
        "  return c\n",
        "\n",
        "# Call the function\n",
        "add(2,3)               # Positional Arguments"
      ],
      "metadata": {
        "colab": {
          "base_uri": "https://localhost:8080/"
        },
        "id": "cheEsWEMQ30n",
        "outputId": "2a8c4c2c-ec20-47f4-9468-b503079455f0"
      },
      "execution_count": null,
      "outputs": [
        {
          "output_type": "execute_result",
          "data": {
            "text/plain": [
              "-1"
            ]
          },
          "metadata": {},
          "execution_count": 15
        }
      ]
    },
    {
      "cell_type": "code",
      "source": [
        "add(b=2,a=3)           # Keyword Argument"
      ],
      "metadata": {
        "colab": {
          "base_uri": "https://localhost:8080/"
        },
        "id": "A1-BYREjRp2m",
        "outputId": "a7f12ec1-72a4-4508-c023-24ffbb8c4a13"
      },
      "execution_count": null,
      "outputs": [
        {
          "output_type": "execute_result",
          "data": {
            "text/plain": [
              "1"
            ]
          },
          "metadata": {},
          "execution_count": 16
        }
      ]
    },
    {
      "cell_type": "markdown",
      "source": [
        "# **4. Arbitary Arguments**\n",
        "- Sometimes, we do not know in advance the number of num f arguments that will be passed into a function.\n",
        "- Python allows us to handle this kind of situation through function calls with arbitrary number of arguments."
      ],
      "metadata": {
        "id": "NT9ArXdLSR5n"
      }
    },
    {
      "cell_type": "code",
      "source": [
        "#Defining a function\n",
        "def greet(*n):\n",
        "  for i in n:\n",
        "    print(\"Hello\", i, sep =\":\")\n",
        "\n",
        "#call the function\n",
        "greet (1,2,3,4)\n",
        "\n",
        "greet(\"Praneeth\", \"Surya\", \"Kishore\")"
      ],
      "metadata": {
        "colab": {
          "base_uri": "https://localhost:8080/"
        },
        "id": "zX8nnVceSGrH",
        "outputId": "78c9b993-9c4f-42f4-c1f3-07b1cb335569"
      },
      "execution_count": null,
      "outputs": [
        {
          "output_type": "stream",
          "name": "stdout",
          "text": [
            "Hello:1\n",
            "Hello:2\n",
            "Hello:3\n",
            "Hello:4\n",
            "Hello:Praneeth\n",
            "Hello:Surya\n",
            "Hello:Kishore\n"
          ]
        }
      ]
    },
    {
      "cell_type": "markdown",
      "source": [
        "# **Recussive Function or Recurison**\n",
        "- A function can call other functions. It is even possible for the function to call itself. These type of construct are termed as recursive functions."
      ],
      "metadata": {
        "id": "nQcpVtmpag2h"
      }
    },
    {
      "cell_type": "code",
      "source": [
        "def factorial(x):\n",
        "  if type(x)== int:\n",
        "    if x==0:\n",
        "      return 1\n",
        "    elif x>0:\n",
        "      return x*factorial(x-1)\n",
        "  else:\n",
        "    print(\"value error\")\n",
        "\n",
        "#call the function\n",
        "factorial(5)"
      ],
      "metadata": {
        "colab": {
          "base_uri": "https://localhost:8080/"
        },
        "id": "18mpFcffT6AY",
        "outputId": "f49a00dd-1fd1-48ff-c5e8-a19887d27e3f"
      },
      "execution_count": null,
      "outputs": [
        {
          "output_type": "execute_result",
          "data": {
            "text/plain": [
              "120"
            ]
          },
          "metadata": {},
          "execution_count": 21
        }
      ]
    },
    {
      "cell_type": "markdown",
      "source": [
        "# **Anonymous(Lambda) Functions:**\n",
        "- Primarily used to temporarily define a function for use by another function"
      ],
      "metadata": {
        "id": "fEUix0IDb3wy"
      }
    },
    {
      "cell_type": "code",
      "source": [
        "# Define a squared function\n",
        "def squared(x):\n",
        "  return x**2"
      ],
      "metadata": {
        "id": "1_vrQPsXbl8p"
      },
      "execution_count": null,
      "outputs": []
    },
    {
      "cell_type": "code",
      "source": [
        "# Define a identical function using lambda\n",
        "squared = lambda x: x**2"
      ],
      "metadata": {
        "id": "rSxuv9g8cacM"
      },
      "execution_count": null,
      "outputs": []
    },
    {
      "cell_type": "code",
      "source": [
        "squared(2)"
      ],
      "metadata": {
        "colab": {
          "base_uri": "https://localhost:8080/"
        },
        "id": "YLz2mPXNclMb",
        "outputId": "fdfe3590-fbc6-4e26-eae5-f05875237501"
      },
      "execution_count": null,
      "outputs": [
        {
          "output_type": "execute_result",
          "data": {
            "text/plain": [
              "4"
            ]
          },
          "metadata": {},
          "execution_count": 24
        }
      ]
    }
  ]
}