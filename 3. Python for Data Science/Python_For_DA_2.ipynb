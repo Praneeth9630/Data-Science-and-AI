{
  "nbformat": 4,
  "nbformat_minor": 0,
  "metadata": {
    "colab": {
      "provenance": []
    },
    "kernelspec": {
      "name": "python3",
      "display_name": "Python 3"
    },
    "language_info": {
      "name": "python"
    }
  },
  "cells": [
    {
      "cell_type": "code",
      "source": [
        "import numpy as np"
      ],
      "metadata": {
        "id": "A4HKweWXoFyS"
      },
      "execution_count": null,
      "outputs": []
    },
    {
      "cell_type": "code",
      "source": [
        "import pandas as pd                     # Import pandas library"
      ],
      "metadata": {
        "id": "6aN_4nz7oCxb"
      },
      "execution_count": null,
      "outputs": []
    },
    {
      "cell_type": "markdown",
      "source": [
        "## **Pandas**\n",
        "\n",
        "- Data Manipulation (Data Modification : Add, Remove, Replace)\n",
        "- Data Analysis\n",
        "- Statistics"
      ],
      "metadata": {
        "id": "dIwCu0q-zx5t"
      }
    },
    {
      "cell_type": "markdown",
      "source": [
        "# **Pandas Series**\n",
        ". It is a one-dimensional (1D) array holding data of any type.\n",
        ". A Pandas Series is like a column in a table.\n",
        "\n",
        "**1. Pandas Series can be created using List**"
      ],
      "metadata": {
        "id": "3fhmPpBRn_ew"
      }
    },
    {
      "cell_type": "code",
      "execution_count": null,
      "metadata": {
        "id": "zSRcbwiMn5BM",
        "colab": {
          "base_uri": "https://localhost:8080/"
        },
        "outputId": "67f6e937-ea25-4452-8cdf-bb94386d50d1"
      },
      "outputs": [
        {
          "output_type": "stream",
          "name": "stdout",
          "text": [
            "['10' '20.0' '30']\n"
          ]
        }
      ],
      "source": [
        "l = [\"10\",20.0,30]\n",
        "\n",
        "n = np.array(l)                # Prints a row\n",
        "print(n)\n"
      ]
    },
    {
      "cell_type": "code",
      "source": [
        "l = [\"10\",20.0,30, True, [1,2,3]]\n",
        "\n",
        "s = pd.Series(l)               # Prints a column\n",
        "print(s)"
      ],
      "metadata": {
        "colab": {
          "base_uri": "https://localhost:8080/"
        },
        "id": "Ou6FrMjA16FQ",
        "outputId": "2a4df6e1-cc29-41bd-8a01-4c0ba4bbba48"
      },
      "execution_count": null,
      "outputs": [
        {
          "output_type": "stream",
          "name": "stdout",
          "text": [
            "0           10\n",
            "1         20.0\n",
            "2           30\n",
            "3         True\n",
            "4    [1, 2, 3]\n",
            "dtype: object\n"
          ]
        }
      ]
    },
    {
      "cell_type": "markdown",
      "source": [
        "- **Here the numbers 0,1,2 before the objects in series is called index name or row name , dont identify is as index number**"
      ],
      "metadata": {
        "id": "8SuxLtbv1_JO"
      }
    },
    {
      "cell_type": "code",
      "source": [
        "l=[1,2.4,True, \"srk\"]\n",
        "\n",
        "S = pd.Series(l, index=[\"a\", \"b\",\"c\",\"d\"])\n",
        "print(S)"
      ],
      "metadata": {
        "colab": {
          "base_uri": "https://localhost:8080/"
        },
        "id": "G9QIPvxQyVFy",
        "outputId": "e40eb171-7371-46ed-d965-0ba21f4f15bc"
      },
      "execution_count": null,
      "outputs": [
        {
          "output_type": "stream",
          "name": "stdout",
          "text": [
            "a       1\n",
            "b     2.4\n",
            "c    True\n",
            "d     srk\n",
            "dtype: object\n"
          ]
        }
      ]
    },
    {
      "cell_type": "markdown",
      "source": [
        "**2. Create Series using 1D Array**\n",
        "\n"
      ],
      "metadata": {
        "id": "kdlMRyLl9RJ1"
      }
    },
    {
      "cell_type": "code",
      "source": [
        "a = np.array([10,20,30])\n",
        "\n",
        "S = pd.Series(a)    #pd.Series(1Darray)\n",
        "print(S)"
      ],
      "metadata": {
        "colab": {
          "base_uri": "https://localhost:8080/"
        },
        "id": "6O_U0Dv3yXQr",
        "outputId": "40f9b315-27cd-4cf9-8711-27910c413084"
      },
      "execution_count": null,
      "outputs": [
        {
          "output_type": "stream",
          "name": "stdout",
          "text": [
            "0    10\n",
            "1    20\n",
            "2    30\n",
            "dtype: int64\n"
          ]
        }
      ]
    },
    {
      "cell_type": "code",
      "source": [
        "S.ndim"
      ],
      "metadata": {
        "colab": {
          "base_uri": "https://localhost:8080/"
        },
        "id": "ZoueCq_09dXY",
        "outputId": "297bc6a9-95c6-4e19-bcfb-5195258da684"
      },
      "execution_count": null,
      "outputs": [
        {
          "output_type": "execute_result",
          "data": {
            "text/plain": [
              "1"
            ]
          },
          "metadata": {},
          "execution_count": 18
        }
      ]
    },
    {
      "cell_type": "code",
      "source": [
        "S.shape"
      ],
      "metadata": {
        "colab": {
          "base_uri": "https://localhost:8080/"
        },
        "id": "6Fs3v4y89jCu",
        "outputId": "dfac8ba8-d33c-4385-c129-7b5635603327"
      },
      "execution_count": null,
      "outputs": [
        {
          "output_type": "execute_result",
          "data": {
            "text/plain": [
              "(3,)"
            ]
          },
          "metadata": {},
          "execution_count": 19
        }
      ]
    },
    {
      "cell_type": "markdown",
      "source": [
        "**3. Create Series using Dictionary**"
      ],
      "metadata": {
        "id": "oQgls1zR9x5a"
      }
    },
    {
      "cell_type": "code",
      "source": [
        "d = {\"a\": [10,20], 'b': (20,30), 'c': 30}\n",
        "\n",
        "s = pd.Series(d)\n",
        "print(s)"
      ],
      "metadata": {
        "colab": {
          "base_uri": "https://localhost:8080/"
        },
        "id": "iGnZzfCo9jxQ",
        "outputId": "10c1aae1-7a02-4a10-e24b-25caf32f8007"
      },
      "execution_count": null,
      "outputs": [
        {
          "output_type": "stream",
          "name": "stdout",
          "text": [
            "a    [10, 20]\n",
            "b    (20, 30)\n",
            "c          30\n",
            "dtype: object\n"
          ]
        }
      ]
    },
    {
      "cell_type": "markdown",
      "source": [
        "# **Pandas DataFrame**\n",
        "\n",
        "-  A Pandas DataFrame is a 2 dimensional data structure, like a 2 dimensional array, or a table with rows and columns.\n",
        "\n",
        "**1. Create DataFrame using Dictionary**"
      ],
      "metadata": {
        "id": "aOouXqaJ97pD"
      }
    },
    {
      "cell_type": "code",
      "source": [
        "l = [[1,2,3], [4,5,6]]\n",
        "\n",
        "a = np.array(l)\n",
        "print(a)"
      ],
      "metadata": {
        "colab": {
          "base_uri": "https://localhost:8080/"
        },
        "id": "gWGR6quV9vwa",
        "outputId": "70b61dfe-55f8-4950-8145-bd4dfe19da49"
      },
      "execution_count": null,
      "outputs": [
        {
          "output_type": "stream",
          "name": "stdout",
          "text": [
            "[[1 2 3]\n",
            " [4 5 6]]\n"
          ]
        }
      ]
    },
    {
      "cell_type": "code",
      "source": [
        "l = [[1,2,3], [4,5,6]]\n",
        "\n",
        "a = pd.Series(l)\n",
        "print(a)"
      ],
      "metadata": {
        "colab": {
          "base_uri": "https://localhost:8080/"
        },
        "id": "U_e0OKDL-WVi",
        "outputId": "7f72b510-c01f-4393-c89e-b171708c52bc"
      },
      "execution_count": null,
      "outputs": [
        {
          "output_type": "stream",
          "name": "stdout",
          "text": [
            "0    [1, 2, 3]\n",
            "1    [4, 5, 6]\n",
            "dtype: object\n"
          ]
        }
      ]
    },
    {
      "cell_type": "code",
      "source": [
        "l=[[1,2,3], [4,5, 6]]\n",
        "\n",
        "a = pd.DataFrame(l, index=[\"a\", \"b\"], columns=[\"c1\",\"c2\",\"c3\"])\n",
        "print(a)"
      ],
      "metadata": {
        "colab": {
          "base_uri": "https://localhost:8080/"
        },
        "id": "jTLZymtp-Fux",
        "outputId": "333c99f2-b6b3-4805-f947-24a025b901fc"
      },
      "execution_count": null,
      "outputs": [
        {
          "output_type": "stream",
          "name": "stdout",
          "text": [
            "   c1  c2  c3\n",
            "a   1   2   3\n",
            "b   4   5   6\n"
          ]
        }
      ]
    },
    {
      "cell_type": "code",
      "source": [
        "a[\"c1\"]"
      ],
      "metadata": {
        "colab": {
          "base_uri": "https://localhost:8080/"
        },
        "id": "kSnLXuwl-SPr",
        "outputId": "fee5a2d7-db77-47cd-c6cf-bce61cd0c9ad"
      },
      "execution_count": null,
      "outputs": [
        {
          "output_type": "execute_result",
          "data": {
            "text/plain": [
              "a    1\n",
              "b    4\n",
              "Name: c1, dtype: int64"
            ]
          },
          "metadata": {},
          "execution_count": 29
        }
      ]
    },
    {
      "cell_type": "markdown",
      "source": [
        "![image.png](data:image/png;base64,iVBORw0KGgoAAAANSUhEUgAABv0AAAPVCAYAAABFlyZ5AAAAAXNSR0IArs4c6QAAAARnQU1BAACxjwv8YQUAAAAJcEhZcwAADsMAAA7DAcdvqGQAAP+lSURBVHhe7J0J/FXj9v/3/V3XFBpkuK45hAaRpERJ0WRIlChkuJQ5wzVnumQuU92UoTJVhqKUomSuKCFThowRKSnd/3Wvv/fqrG13fL/fvsOZ9j6f9+u1X3s4+5yz9zOsZz1rPc96/vTrbwRCCCGEEEIIIYQQQgghhBBCFCC4spYuXWrH1atXt32UP/3pT6mjzMD/8Zs///xzcOmllwYDBw4M/vvf/wb77bdfMGXKlOAvf/lL6s7C4v9SeyGEEEIIIYQQQgghhBBCCCEKDhxwNWrUsC0XuBPxz3/+c9CuXbtgnXXWMUffq6++Gjz//PP2WSEip58QQgghhBBCCCGEEEIIIYQQEf73v/8Fa6+9dtCmTZugV69ewX/+8x9zAl5++eWpOwoPhfcUQgghhBBCCCGEEEIIIYQQBYuH2yzJpZXp0J6Aww/47eisP+AZ/PNCQzP9hBBCCCGEEEIIIYQQQgghRMHijjd3wkW3bPB//7fKfYaDj7X8Vq5cGZx66ql2ztavXz/7vNCQ008IIYQQQgghhBBCCCGEEEKICO5UxAG47rrrBvvss08403DZsmW2xyFYSMjpJ4QQQgghhBBCCCGEEEIIIUSE6GxCnH01a9YMr8+YMcMcfh7ys1CQ008IIYQQQgghhBBCCCGEEEKIMmjevHnqKAh++eUXc/7B//t//8/2hcCffvW5iEIIIYQQQgghhBBCCCGEEEKIEvnb3/4WLFy40I4XL14cVK9evaBm/GmmnxBCCCGEEEIIIYQQQgghhBBrYMcdd7T9//73v+Df//637QspxKecfkIIIYQQQgghhBBCCCGEEEKsgW233dbW98PRN3/+/OD//u//gv/85z+pT/OPnH5CCCGEEEIIIYQQQgghhBBClAFhPFnLz49Zy49trbXWsmuFgJx+QgghhIg1jK5auXKl7VG4hg0bZhvhFdi4riWMhRBCCCGEEEIIIURVYHYfG3amP/3pT+YAXHvtte24UJDTTwghhBCxBsVq3XXXtX2vXr2Ck046KTjllFOCDz74wEIscL2QlC8hhBBCCCGEEEIIIbKBnH5CCCGEiD2MsLr33nuDESNG2Plf/vKX4Oeff7ZjIYQQQgghhBBCCCGKATn9hBBCCBF75s2bZ7P7gNl9HTt2DBo1amTnQgghhBBCCCGEEEIUA3L6CSGEECLWsI7fjTfeaHHUCeNJLPVzzz13tbX8tKafEEIIIYQQQgghhEg6cvoJIYQQIta8/fbbwYQJE0InX/fu3YNmzZqF6/mB1vQTQgghhBBCCCGEEElHTj8hhBBCxBKfvTdr1qzg+++/D/785z/bWn7HHXecZvgJIYQQQgghhBBCiKJDTj8hhBBCxBJ36D388MPB//73Pzs//vjjg/32289m9hH2E+T4E0IIIYQQQgghhBDFgJx+QgghhIglOPU++eST4Nlnn7Vz1vI79dRTw1CeHt6TTY4/IYQQQgghhBBCCFFZ3Lb09ddf2x67U40aNQrO5iSnnxBCCCFiAUqUb864ceNCJ9+BBx4Y7LHHHnacrnD5PUIIIYQQQgghhBBCVBUGo2+22WbBf/7zn9SVwkBOPyGEEELEAp+15w481u977LHHgrXWWstGVx1xxBF23R1+cvQJIYQQQgghhBBCiEwRHWS+zjrrWNQptkJCTj8hhBBCxA7W8Fu2bFnw0ksvmcL15z//OejWrVu4jp8cfkIIIYQQQgghhBAik0TtTdijGIiumX5CCCGEEJUAZcpHVDGz7+WXX7ZjlKuDDjrIFC2cf3L4CSGEEEIIIYQQQohs8PHHH9ueGX7YobBHFRJy+gkhhBAilowfP95m/OHk23///c0RKIQQQgghhBBCCCFEsSLrmBBCCCFiyaeffmoz/3D6NW/ePJwFKIQQQgghhBBCCCFEtijkKFNy+gkhhBAiFrhCxew+WLJkic3uI4wCm8J6CiGEEEIIIYQQQohi5k+/ali8EEIUNJMmTbIY0YQvBJ/ZJESx8t///tccf+uss46dUyekzgghhBBCCCGEEEKIbOE22U022SRYvHhxsP766weff/55UL169YKy1WqmnxBCFDCsWda+ffugU6dOwfPPP2/X/vOf/9heiGKFRZIXLlxoChUK12abbRbO/lP9EEIIIYQQQgghhBCZxgecF/rAczn9hBCigFlvvfWsIVmxYkVw7bXXmmPDnRtCFCvUie+++y6sCw0bNgwVrr/85S+2F0IIIYQQQgghhEgn6rDx4+g1IUrDywkRqDhmyRm2QovIJqefEEIUIP/v//0/27ds2dKcGGyvvPKKNSLrrruufSZEscJsPpQqYNYf9cIVLByBUtaFEEIIIYQQQghRXmRHEJUhao8qJOT0E0KIAsRnMDFyZJ999gl++eWXYOXKlcG0adOkiIiiB4XKR1NRH6IKVvq5EEIIIYQQQgghipPoEiDY2BwG25dkX+NadBMiCvbazz77LFi2bJmVj0033TTYYIMNUp8WDnL6CSFEAeKz+WhMWNOPhgRFhRCfy5cvt8+EEEIIIYQQQgghhBAlQ+QsHHzY1IgU5IPs11577dCxF3UMpiPHn4jiUafAB5xrpp8QQohy4QoHzr8zzjgjbFSmTJlSkCNIhMg3haxsCSGEEEIIIYQQIj9gJ3DnHfa1n376yWb9+Ww/HINudyvJpiDHn0jHywuO5EJETj8hhChAUDic9dZbL2jVqpUpHoxEmjx5cuoTIYQQQgghhBBCCCFESeDcu+mmm4KaNWsG66yzjjlratSoYba2vffeO+jXr58tpwOlhfwEOf5ElEIfeC6nnxBCxIDWrVtbQ8IMwLvuusuuucLx888/214IoZl+QgghhBBCCCFEMYO9DGcf+9122y24+OKLw5l9PkPrl19+CebOnWvL6OAEXGuttYKmTZsG5557bjBmzJhg+vTpwbRp08wOh52B++X4E5SFL774wo4pD7vssosdFxpy+gkhRAw49dRTwynjn3zyie09DjkjlYQoZlDO3dnne5QvKeRCCCGEEEIIIUTxgc1so402Ct555x07//e//21RtXbfffdghx12CKpVqxbaDLiX7c033wxuvfXWoGvXrhZx64ADDghq165tMwGjdgchCr0syOknhBAxoFatWkH9+vXt+O233w7mzJljTkBGKglR7DBaz3FnuBBCCCGEEEIIIYoLHHQ4ZIiStXz58tTVIJg4caLZDmbOnBm8//77wY8//miz984///ygYcOGoQOQZXWA38DRx2+MHj1aDj+xGnL6CSGEqDIoIp06dTKFA0ffk08+adc9LIEQxQxKuDvApYgLIYQQQgghhBDFCQPkGQx8xx132DnRsbChHXTQQTbbz8F2wL3XXXddMGvWLHP6vfrqq8Hll18e9O3b12b57brrrrbcTs+ePVPfEiIe/Om3Aq3YV0IIEQPGjh0bdO7c2RSRffbZJ3jxxRdLDF8op4dIKl7eUeAXLVoUbLHFFna+8cYb2zmj9nxUnhBCCCGEEEIIIYoPZvttsMEGNjh4s802Cz7//HO7zsB5XzpHiMqAPQrnME5hytnhhx8ePProo6lPCwdNERFCiBhAo3LooYea0gIvvfSSOTi4rrEbohjwcu6j8TbddFOb+YrSzsLaIOVdCCGEEEIIIYQobi677DJz+GEv6N27t9kOWM9PNgNRLMjpJ4QQMcDDeHbs2NFCE8BTTz0lhUUUDTj7orNYqRMsvI3je8WKFXZN9UEIIYQQQgghhCheGCDP+n3YDBg8fMEFF5gtgWM+E6IYkNNPCCFiBDHJUVzYBg8ebFPJWe9Ps/1E0qGM+8bMPmLx4/BDefeZfqWh+iGEEEIIIYQQQiQfImO9/fbbZi9o2LBhsN5669l1jxokRDEgp58QQsQI1i77+eef7fi7776zWX8oLT4Lik2IJBIt44TloOzvu+++psjDkiVLbF8SqhdCCCGEEEIIIUTyIIwnMIuPAb/jx4+3c+wGHTp0sGPgM5/9p4HBIlN8+OGHBVme5PQTQogYEG1AGjdubPuPPvoodIIIkSTKqzAxy9VH6i1cuND2rsBHNyGEEEIIIYQQQiQPtwng5MM+NmnSJLuGg4+BwunIjiYySaHaneT0E0KIAscbD/aMYNpmm21sdhMz/kaMGGGKjBBJojwKOHWBxbh9VN9bb71leynvQgghhBBCCCFE8YC9DFvAJ598EsybN8/sBIT13H///cPPQfaC+FMoDjZ/DuyzhfJMUWQpFkKIAgelxDdGKx199NE2gonjsWPHWggDKS4iSZRHYaL8H3bYYaHT+5tvvrE9ROuMEEIIIYQQQgghkgt9f+wI8+fPD9f+32mnnWxZECGySSE6/EBOPyGEiBldunSxsIaMXPr000+DtddeO/WJEMmgvM66XXfdNVTox40bl7q6SunyTY4/IYQQQgghhBAi2WAbeOyxx8wGwCy/9NCesg3Eg6gTjTwFX6/RP4ve49Gf/vOf/5T43UxDOSICm7Ns2bJg0aJFqbPCQU4/IYSIIbvttps1bO+8807qihDJJ6rAQcOGDUPF/cUXX1xNqeO6lHohhBBCCCGEECLZYAsgGtCUKVPMboADqEOHDnY93Y4gCptofr366qvBcccdF7zxxhuh4y89T8l34HrUBpTtpZD8GShrTMwotHImp58QQsQQwhSwntnKlSuDu+++O3V1FYXW0AiRKVyBc+feBhtsEDRp0sSus8bl+++/b9eFEEIIIYQQQgiRfLCB4Xj57rvvggULFtg17GXM9HOHkAYExwfPqxkzZpjjdvjw4UHz5s2DddddN6hWrVpQs2bNYMMNN7SoZ+Qv9+PgO/jgg4OXX345+Pe//x3O/ssFK1asMNssjr9CQk4/IYSIIe3atQsbsYkTJ9peiGIBhQ6l/qeffgp23HFHU/JR9J555hn7XAq9EEIIIYQQQgiRfOj/sw0aNMjsBLDHHntkfaaXyA7Yd7B37rXXXmbzARx85CcOPa4x6Ntn13Gd/XPPPRfss88+5vj1geK5gBmIlDueoZBQ6RdCiBjSq1evcOq6j2TyBqbQGhohssFf/vIXG9V1+OGHWz1A0Zs0aVJOR3QJIYQQQgghCpvp06ebwXidddYJli5dmroqROVxmwszkXA+cB7dRG7BNkYdX7hwYTgAuFWrVuFgYb8m4gH5hq2HfMWhRnSzZs2apT5dRbSused+NuxEV199ddZn3W288cZB9erV7Zj/mjp1qpXBQqr/cvoJIURMadGihTUor7/+eurKKqTQiGKBkB0NGjQwZZC68PTTTwdz585NfSqEEEIIIYQodqZNm2aGfwYHPvTQQxokKDLCI488Euy9997B+uuvH7z22muhHUb2mNxDmlPHWf8NuwB50rp1a7uOE0jEE5x/bCeddFLw7LPPmnONmX6E08TZzsbxRx99FIwdO9ZkO+Vg/Pjx5gAk5GY28HLFf/B8lDlvV+T0E0IIUWWaNm1qexqaBx98sKAaFyFyAYoW4T0J+8AxytfMmTNTnwohhBBCCCHE74waNUpOGVFlGHT6z3/+02ww2GNEfqFOf/DBB8Ebb7yRurJqpp9IDjjX3NnG2n7Rbbvttgs6duwYrvHHjG4chNmsm/z2euutZwPRkQPMSIRCGlQip58QQsQUnH40ejQwI0aMkNNPFCWM5Npyyy1tTx1gtp8QQgghhBBCgIf5Awy1fixEZfnuu++Ct956y8oSDgdsM26PkV0mP3z55ZehQ79OnTqa0ZtQyqpfBxxwgH3O9uSTT5qDMJv10Z2K/Aflzf+7UFBLJ4QQMYQGBUeHd1g+//zzUKnRyEVRTKDIde/e3UZbwvPPP7/augpCCFFMIPcYBFESkolCCCGKkf3228/6Chhop0yZYn0FIarCxIkTrTxRrog6I/LPu+++a7ous7322GMPm4HlyDaQHEqzdzLTjgEens+ffvqp7bNpH91zzz1DOyzreyIPsE8VCnL6CSFEDKHh2n333a1RoVH75JNPpMSIouXAAw8Mlbkff/wxmDBhguqDEKIoQRamdzZdHmaz0yuEEEIUMvXq1bNwbwyaZQaIyB8//fRT6ih+uIH/2muvDY/btWtne5E/GPB23333ma6L8+fUU0+1td98YLBIPjjhN9lkEzumL+ThNrNVBqj/OP2AdmXRokX2DLQzhYKcfkIIEUNoVBjBVLduXTPm+cwmKG2EvxBJZZ111rHZfkDdwOnnnTDVhz8ih6jIJipf+SE93b///nvbIwPl7EsW5aljqodCCLE6++67r7WHyMd0p59kZvYhjX3A8gYbbJC6Gi94dp/dx/pxlKeaNWsGPXv2TN0h8gVOnjlz5oR51LBhw9UGwZFX0oeTDfm+6667htHQXnrpJdtnC/6P9QSRB2wrVqyw65rpJ4QQososW7YsVJhRbmbOnGnHNDLZGs0iRCGC069Nmzam4GHgfvzxx0NDN8qYEEIUC7T/GD0IAc7goHnz5sV6RL0QQgiRCegr0EbSX3j99dftGn1okRuIxvLYY4/FfvYVA0sHDx5s5Yitbdu2GmRaABBa0Z09DIzHPoAdwK+JZOOyfOONN7Y8p05SJriejTLA7yILGjdubDYnbLBEXys0WaDSL4QQMQWHXzR+/KhRo2zvnRkhigWUKxbrpuyjdP3www/B1KlT7TN15kvHQ14IUVVKM95QN6mD0U1kFp/V7OlL+0+oGdKeDcefdIL44qOGve5gLHWi9Yly4GVAiKTi8g5KqwtClIav9YTOwiwtZsTTb3AdxmWoylNm8LSGJUuWBDVq1AiOOuooC7uIXhK3dEbmeHm5/fbbbY9M6tu372prx4n8wIA3HH2w/vrrW16pPleeuKUb+Q3R0Jocr1y5MnWWGbxMuSzAHsue/6JN4TPO/b58ox6gEELEFJTlLl26pM6CcMRilEJoaITINoysImRPjx49QoWPkaSgmX4lM2bMmOCJJ54wpVSIqoIDedy4ccHDDz8ctjsYQlT/sk80jZF/t9xyi6U9OkLHjh2DXXbZxYwfXFN9jw9ej8g78HMMWp6PL7/8ctCnT5/g5JNPtv3EiRPDNlCIJBKVd27cBS/31BPfhEiHGSD169e3wTC0iR76zR1QlCPfRNUhHTGEk7ZPPfWUXaMOc41BSXFLZ/qbOP7ee++94P3337ewfjvuuGPQpEkTlZkCgFldLHlDGWOmn+eJ8qZyeLpFB9jEAeokTnien4Fz6623XuqTzODp4n0t9jj+kA9sDD7nOvcVQtmT008IIWLMPvvskzoKbBSLd1iEKCboOOJ06Nq1a2joGTlypO3FHyHcX7du3cxJiuNPiKqC4eOwww4Ljj766HCdHDn8sg/yzkeTutFy+vTp9hnpv//++9sxcM49Il54HpN3PnP2hRdeMCMj+Tts2LDgnnvuCYYMGRIceuihwfPPP2/3SBcUSYSy7XUCQxt1wgc0cF2IssAhgHGWPgMykoESlJu4GbXjiPfLSHv0RYzjELd6y3O/8sor9ty8y+67727tc6ZnE4mK89Zbb1le0B60aNEidVVUBeQkTjN0zDjRqFEj6/egH7z77rtWJjKN96twMNaqVSsczPDFF18UlDxQz08IIWKId25paLbffnu7Nnv2bGuYo8qzjD6iGKADxojvZs2amfOBekE9eOaZZ1J3iCjvvPOOyRAU0/Hjx6euClE5qGuPPPKIjZyn4/Pggw/adTo81EWRHbytJ4297V+0aFEwduxYk4nU7zPOOMOMmW4Uz0anV2QH19/Yk8fk5/z58y1060EHHRS8+eabdh2jI/mK8QGDQ8uWLe17ENUHhUgC1AN0u0mTJgUTJkywtodR9ZR16kp0EyIdjNfMgEd2orMwW5qyQh9C+krmoW3yGTeE9wTSnRmXTpzqqrfFAwYMsOfm/S699FLb0/8U+YW2AMib3XbbzfZxKl+FBvIRaF/jYC+gr+POtg033NDynv4Q0dAyrQ/z28wi9DJ24IEHhv9BuhWSPFDLJoQQMQSlkwYGIw97v0ZHmHManegmRJJxQ3bt2rWDXr162TnGz8cff9yui9UhbRw630JUBdocOto4H+hwMboWowgdHrU/2cPbfk9jzv/+97+b8ZI63rZtW6vfri+I+ECeUpfYU6+Atm2PPfYI3njjDatf5CkO3TvvvDN47rnnbIant4WO8l0UGl5GS2obKNdRuIf7cRZgZGd2K/KtQ4cOtjFb6Nhjjw0233xzM7JRZ4RYE4cffri1i7STDJ5w0uWnqBpex6mXP/30UzBz5sywTWJtxbjCQANmDuHMJHz6rrvuauWpJJkmsgNpHd2Acvbhhx+G/VoGAscB2r30tq9Q8MghlO/WrVvbcSGDXdSdbegIpCvlgvVbeYdM4+H3+Q8G4yHf2FhippDkgZx+QggRYzAGHXzwwaGyOWvWrNUM+kIUA1HDJiOtGNVFnVCIz5Jp0KBB6mjVrD8hqoqHOKEd8voHcjpkF+9gAu0/oVVxBJEP/fv3tw5vNjq6InuQd+QpdYpjjFg1atQIHnjggXAEM44Pwlkzyrh3794W5rN58+Z2vxCFTFltA20HYECbM2eOObqZmcWsoHPPPTeYO3eufQ+jLnucNOy5/5prrpHTRqwRyggboZApNzB69Gjb+wALkRmom9R36jVhF0l32qg6deqUWP/jAO8wcOBAO0a/IpqCy524vlMcIa2jG3nw9ttv2zH1eIcddoiNPkT98Lav0KBfQR0mfRl0U+h4XYT27duHDmBC4mdDvvN/tCPo66wh6X1h0o2yWCioFyiEEDEFZQYlYd999w0buQULFhSs4iBELujUqZONvKJOMLJ03LhxqU+EENmAtshnGXFcrVo16/g40Y55IXWCkgRpf9VVV6XOguCQQw6x0EZxMXoUO9F8cn0OmMVUv359c+S6bsd6VDh3R4wYYQ6RaJ1S/RKFDmUdIxl7yjplG4cA61J27tw52GijjcypzazWhx56yAYych8bx3yvXbt2VjdYlxgwsi1fvlz9H1FujjnmmDCk55VXXmnXfIaI2s3MQVriHMM+QftEHaVuuwyIG0uXLrXZ9kB5OeWUU2zGn8gPrNFJ20A9njZtWlimsI1JH6o633//fepo9QHDhQrlwEGXQL+gP0oZQd5nGv6P33fH3wEHHGD/hYMRnaZQkNNPCCFiCsoMDQwz/ThG0SFmtY9cFKLYoA5QJxgd7p13ZkeI1alXr17qaNWi50JUFeqdd7ZkeM09hCjDEYQuwHbZZZelPpEjKG5QjzAa4NDw9osZfhhOb775ZgtjyMw+jApc415m/EVRnotChdl6w4cPt1H4f/3rX22QVqNGjYITTzzR1unzsuzGW8ryBhtsYE4a5BzXR40aFQwaNCi4/fbbrfyz8bvq/4jSoNx4mULGMtOP0IyUHUI13n///faZyCzUX+olDnzSnzaLMHjojHFsp1g2wg39hA/k2N+D91Tbm1s8hD1li8g1pD91mpl+cYFoDmyFCDPWSE/SmHa40HEZD4T9dn788cfUUWbB6Qxe75EJDALgOVhyqVCQ008IIWIOBlYaFxpkOr0o1EIUE65s+R5jEqO7GNVFB+2VV16xOiKD0CqQFb73hfUBxV6IikLdWrx4cVi/VM9yzxVXXGF78uKII46wWX4gA1T8mD17tq3HiGPDQxO1bNnS1hHq27evGRvZ+Az9Dznu64oIkS/cAe19kO+++86c1pdccokZ+SmjyCNm+Zxwwgnm4OMevuNyipl8tB81a9a0UO1Dhgyx38Ngx8xWBiwh4zCqMbCrevXqoSFy2bJlFsJLiJKgjEXbQ8rVnnvuafKTvgLhsBcuXJj6VGQKt09gHPe+xzbbbGP7OIB84h2AgTYMvPFrhBz2z4D349zLWrS8ieyALuTOVmZgeprvvvvuts83lAfvW3u5YaMs0TbyvISFZADC+eefb/flGy/TPC8z6IF2NpPl2dMhfasq6c/IObJ+/vz5Gfn9dHyAuUMUAv6P/504caKVTc//fCKnnxBCJICdd97ZGhUal+ii5EIUI4RXOOqoo8zxR7247777TAGjcyBWKfIYy9xwzALXXPMOuRAVgboV7dQo1FFuoc1/6qmn7Jh8uOiii6xuY1TQrMt4gDECQ8GDDz4YNGvWLJg6darJY67hIBk8eLCFPozWMyHyhRvPkDF+jKzBMcdId8LObrLJJlZ2MZJTnn09SnQO5BPlm7YCZyBObmbtvfbaa8Hzzz9vDu4BAwaYAW1NRO9xA6UQpeH6CuX1rrvusmMcUu+//761o5RTyjRlW1Qd0pf0ZI1OlxVNmza1/lkcoLywAbKLcsL5FltsYevo+mdO+rnILpQp2hLKEzN2ASc+fdxC0Je8/PhzcnzxxRebs+j666+3azwvnyOPojP+0P/ygT8vEwmAZ2zcuLEdZwJ+27dofYkeZwofFMRyL9mYTenP7Psdd9zR5AIwEGnGjBk2mAnyOSBW1h0hhEgAjFYEGtBvv/3WjtMbIiGKBQxK3bp1C+O3M2Pihx9+sGOxSoFnJhAdCgwbrtgLURloY7xTwzEGX9oiOShyw9VXXx0aMZnlx2wY6jgGqnwZDUTFIL8Ypd6zZ89w3TKMWIScGzZsmA3s4h42IfLJe++9F3Ts2NFm4hEisUWLFqEjj9Dqzz33XDjzAv0C2USZxsGHAY61lghdy0w/nC046p5++ung9NNPt9kZ++23n4WvpczjOFwTGPOcOIQfE/mFculylDbztNNOs3Nk7p133mnrE3NOeRZVx9ORaBCw/fbbW98sLm1Z1IaCzEKe8exbbrll6urvTgyRezx/cK4QGpr8oT1iRnk07/KJlw8GtuDsY1axPxvXeWb2PjCmEOB53DbgaZppp5XL3eiWaSgHrp9k0w4ULWssu+S6z8CBA20dUMhnm6KegxBCJABCZdB5odFBKRWi2DnkkENM8aJeEMKSMBqQz5FWhcSmm26aOloVUgvlGwVViMpA2fFODx0bOm/uCBTZhRDGGBKQbRgwox1nDO3kS3QThUnr1q3D/GGkMGs0s46ZO25lhBaFAGHIcNJNmTLF1qxhjUnKKOXTyy+yCOce5ffuu++22cgYwdDFCHlF9IU2bdqE95ZGeeRVdNAS/ylEefCyxUCZXXfd1Y6ZjUZ5hai8zYYxulgg7Zjx4sekKwNa4tKeeb8IOeXrEnJ88skn23WVjfxD2+L5QLnadtttrX4XSt7Qv2aNwZtuuimc4Uq5ohzxGc/P83KNmWIO9ot84enncnKjjTbKmI2A3/Tf5T/QJ9g4znSeMXCI9CWt/T+zDesT+38RtYA8hnyWRzn9hBAiATRp0sQ63TQorF/m5KqBE6IQadWqVThybtq0abYXqxRPnASuiH700Udh50OIykCIWG9vWJ+CskTnO5+dnCSDXKPO7r333pbGdMYJa4zM8xnOQJ6kb6Iw8LpBPuIcIU+pNxh6XnrpJZv1xD35NPwIkQ7hOH19Hy/DXMNY2adPH3NWM7KdMJ0jR44MjjvuuKBBgwZ2H21CVM/wdiKddJkV3ZB17P0+d4pzLB1GVBTazMsvvzwsh2PGjAmefPJJk8sYi8HLue9F+aFejh8/3tITmB0cp5l+zscff2wGfKCsoHs5lAuVjdzjaU55euedd+yYcrXPPvuY3lQokS6oA59++mnw2WefheWe9rJ37942eAYoU4WyDqHjzwZ///vfU0dVxx2fDAZg/d4uXbrYIG3khLftmYJZfsDv5ir8d+3atS3MOXoR5RAnIORTRkgzEkKIBECsbRo0DPkoPt6wZGpUjhBxg7LPrBdGpVM3iPV/ww03ZFyhjCOkgYcEpqPx1ltv2Z40U8dVVAbvxIHP8KNzqzYo81BHaevPOeccWwOLc0az3nHHHak7RBzwtojwhA8//LDJYIxUvj4j1+XEEIUGM+seffTR4MUXX7RZezNnzgy+//5763sQyqpRo0bmFCxJl8iEfpFeJ3788Ue7prVkRWVhth/rgDtECmEmlxuMpRdXDZxltG/UU2bjxkkv9AHVhAZEz6XdxsnEbDLpt4UBDmUGm7gOhUONa15/8w3PQbnBAYSjD72dfjdr+Hl7xnMT+rYQoLzzvKyB52Wcekv6ZgLaavqJrPmLI453J42yoe8SCY3n5p1wvGYb0ou0O/PMM60M8m4TJkwwXckHkeQD9SSEECIBEFseIyAjxWlIFyxYYA0cDag6K6LYiBpLfYQVsDYSCpgIgmbNmoWygZBbKKqkmRuihagIGF69PG288cZhxydTnUTxO6QrbTzyzGGAA+GDROHj9YQ9bRVtFPWFtunoo48OWrZsaeeMEhai0KhTp46F5mSmC+v6MYCI/gdEjXbpukSm+iL8Lr/FnnpCn4c9IRp9NpEQ5cXL0qWXXmp7Npw6rKeKURpntspV1fA+Bhx00EGWxnGBssDzEn4QfOaOr10t8oeXI+on0RFwJtHnaNiwYegALAQoOwySwcF122232Zr67pB0hzhbt27d7Fq+IV09JCZk0hnnjvNZs2bZrGrqkMsG9IlMw7PzHuz9f7IJ78b/8C5t27a1c/6fAVGuJ+UDOf2EECIB0IgyupZGDaWHEAL5HFEiRD5hlDmgeJ177rlWJ+i4EYKQ0XXFDko2HVf2KKNvv/12zhRikUzoXLsBhFln3lkU2aFdu3bBzz//bMcsVH/BBRdktGMusocbqnD4MWuKNRlhww03DB544AGTzW6k8HuFKCSisqYkWe+6RNToSlnOZHmm/jD4gf+i7lSvXl2DTESF8TK5884728yWGjVqWJ+acnXvvfcGAwYMCN5//327R/K4csyfP99kBv0wd6LFCQZUE4oQHReZRtngmuRNYYDOhD5MvtAeMdPP+7n5hmdivWYG2vI8Xg+8DjDrj2fmeY888ki7VghQtrGZ8Lw4KHnmTPTr+B3eFacYacAxe9YMzEZ+UV95B/IhFzM/eRf+j/997LHH7Br/zRIzHsUjH6h3KIQQCYBGlBCfNCx0VqZOnRo2rMDej4UoFlC84Morr7R6Accee6ztgfoSNUoVC8gC1g7AuAFfffWVdWhJC+98SGaI8sKakMy2oLPz17/+1cpNIXS2kwoGhPfee8/SmLWyhgwZIuNTjKB+0PZUq1Yt6N+/f2j8ad++ve35nIEqfl2IQsTLZ0myx3WvbLUD1BH+94UXXrD/wgG40047Wb0SorIwi5UZfj4Th7I1dOhQC//5xBNPZMToXWxQVwn/C4Ta8zoal7rK8zNDZ/PNN7cyQbt96qmn2kw/cCM/m9rs/PD5558HCxcutGNmfFPOvE+Sb7wtLI3Zs2eHa78VinzBFkDaEcElSlXac2ww/n5EtPCITNQvcP0307DGPLIGfcHXfcwFpBXbiBEjLC1598MPP9z6yzwPG+8e3bKJnH5CCJEAaDyaNGlihiIaURbQX7Fihc32o7HxTYhihAWo99prL6sbrO334IMPWt3gvBiN5cgClHpCdDE4AEaPHh2mh2SGqAi0P7Q9dFq8sygyD51G1pVhUA+dSWTYnXfeaQN+RHygfiBrly5dGrz66qtWb7jWq1evsOOvOiREyXgdcR3OjWcY4zkXoiocfPDBwciRI4Ott946dSWwGS/du3e3UHxy/FUMZrvQnqEjsg5e3EC+wHnnnRd89913FqYRxxIU46DRQoRBcDiVoo6+qjiocgl9bp6dMsXzFwKknbelPB8zJ6Eyss+jjuEw57dYK5UZb+STt+Xs0X+zAQNReR+enXKSa1grtnnz5iYr2Ajhit4f1VVIi2zr/NKMhBAiAdB4MMqVBgUFlUY2n7GjhSgkatWqZetIUDdQPBm5yx5Fsxg7bSiXyIzDDjvM0gSF+KGHHrJjV+pJG1fIhSgLRtlSjyhThGgR2cU7h7fffnvQtGlTOxbxAlk7Z86cYNGiRXZMvSFkay46/0LEGddf6ONQfzjmGoY16pIQVWWXXXYJ5s2bZ3ox5QwdmXCOrOXms1+kH5cPQntSL3FsxFFfiQ4MZUYWs0CROeR/XBxLSYclKoA8qVevXtgOxKF/730n5Ax2iXxD2mEHwDFF2ef52HM9WhfWhMtH3/P9wYMHm/3FnZueTww+3m+//ew40xDJiHdAR0Cu5xrSzEP4AzM7r7vuOpvpmMs2RE4/IYRIADQczGSicaFhI0b4l19+uVqITyGKFerEVVddFeywww7mECe2Omt1gM90KyZQgFHqGdHM+oekyZQpU8LZfkJUBMqSdwp9VKfIPKRxzZo1bdYBI1YZMSujU/ygnhCJgc4/bRNby5Yt7TOuCyFKx9sYdDcPc8zGuuZxMPKKwgc9mDLFGlusFdaxY0e7hq7jSwWI8jFp0iRr46B+/fq2jyvu9HAngigMaBPcYYbTz/uxzC6NA5QnBrBEy1S+bHc8A+WctHOnHJMKKlve3cbCuqh9+vSxY96XgdjkE5936tQpa7aH7bbbLvxtf59cQpvBOvcMIHHGjx8fHHPMMeb8zFU+y7IjhBAJgMaYRo1OLw0IjQydYfac+yZEMUI9AA8fQV248MILi7bThjGDDhLhsDBmOMOHDy+Y8CIiPtCR8vYl7kadOMDghe233946y8Uqw+IMuhqDLZjpB+Qhs/yAmQRCiD/i/Rg37n777bfBhx9+aPodRl/qVVyMvKKw8XaVPeULgy1ljRlFrO0mSsftDm5gp276gGRv5+KOBlsVDpQ1BlD5YJBWrVrZnutx0I+x2wFrvTn5fHb/Xx/cwDmzEKv6PD6wjd9p1qyZ2R+QEeTbSSed9AeHHGmQCfx3+b1PP/3UjnOJDxQgslLPnj3tnGcZN25ccNttt+Usn+X0E0KIBOCjW1EeXBn95ptvrDGJbkIUIz7K6+KLLw523313O8ZgdPzxx9txsYLy2bdvX0sf5AZrgd5xxx0ZU7ZFccDi6HSscEIxolEIsWbcSEXdwYmbbvQQQvyO92F8ENcXX3xha5y6Q4E12DRoSWQayhe6DTKaGS+ibLw+er8LQzv1snr16mboFyLTvPHGG2G522abbWLVh/UoXTBo0CB79jjqgulpHj1nJt/3339v1xjwxpp+06dPt8+45qHto+/t7X0myORvVRTeD50Fx+mQIUOCDh06hHba888/39b4e/3118P+QJRMlgM5/YQQIgF4A1KjRo3QAfjmm2/aPp+NnRCFgitPxx13XNgZfeKJJyzeezGCIoqS2bBhw6B79+4mJzifOHFi8PHHH9s9kh2iPCxfvtz2tD35WDNBiLiB/PW1oTD4oMN5uySEKBl0EtdL0OmoR7Q71B9mAHpfSIhMQpmjrEWRflw+Fi5caPtNN93U9kJkEtoB+qw4VqiTOP3iRI8ePewdePbTTz/drvngFbfnxQHko2+8D/osz9+lSxcLZ8l1dN2nn37aIlrgBIQNN9zQ9ry/D+hJErwXaeGOP+xO7du3D3WVRx99NNh3332D9dZbz9IJuJf0ymQbo96FEEIkAFcMfKYfDQUzmTLZYAgRV6gHbChSZ511VtCmTRu7zlod11xzjR0XI8gKZAez/dijkE6ePNlG4QlRXphxQf2ik1IIC9ELUYi4QcTx8ElcQ/4m0eAhRKbBgIZRkagNb731lh0zYIk6JMe5yDSUq5UrV6o/XQGokzB27Fg7po1jULLSUGSaBQsWhH38uM3yg7333jto3LixPTfvcNppp4VhquM2iMXzwR1+Q4cODR577LGwX9i/f/9gn332CZ555pnQMdi2bVv7DLL1vvnUCzxfo8+AXLzuuuvsmHTAFsWeGZFHHHGE3cs538sU0oyEECIBYCxiY60BDxPAorlxU36EyBYoT143+vXrZ0oVhiLCabz77rumoEKx1BlXzglbtOuuuwY33XSTGTbobFx++eW2RkIhg7xDKfYNZ6XID59//nnqaNV6c0KIP+Iy149pa9y44+szSmcrfMgjNkaqk2foEhi0MdgQMvySSy4Jhg0bFkydOtX0Cs9T39NeuYNXjt7KQZq7oYx01VqYIpswIE6UH2/LWAPRIayd5F3h8cILL5geQp75QKQ4gaOIssZWs2bN1NX4wPOjK9CmUT+wScyYMcM+KynkYy4gLbGXsIf33nvP2tqSiD4j92BHQO9hQE6fPn3sOjMXr7322uC8886z33z44YfD3z/66KPD/0ki1KvoHqhnLVq0SJ2tgvSgH8DMv1deeSV1NXPI6SeEEAmAUTQ0GNtuu601JjQuS5cutYY0yY2pEJWBRaRZ7BsFCxhx5Q5B8HpTDHUHWUE6MLqQEXco54Sdu/nmm1N3FB7kC/lFJ4kN+XfggQdax0nkHjfkkC/khxBizSDDqDvRdiZqGBCFCXlEO8nAGNoe8m/ZsmUWmun+++8PbrzxxuCkk04KWrduHdSqVctCijN73vPW2y2+54ONRPnx+sI6OKQjRtM6depYfYrWJSEygQ/MEOXHZR0ykmO2LbfccrV+ligM7rrrLssX8mjOnDmpq/Fh0qRJ5mziHRo0aJC6Gi8YtIKDjLaMNq158+b2TvmInOIDaYgc5nqK6ywl4c/o93E+a9asYP/997frcOSRRwb/+Mc/7B7KGTP9vMztt99+qbuKB/IZe4unAboi6c7GABPSMNOyUj1zIYRIAN4YE9pgo402sgaFkTk0GvkaKSREoYKSdcIJJ4R1Y8SIEcHcuXNN4eKzYoN3xvH3wAMPhO//4IMP2nkhjsz19Q7IPzoSgJI8YcIEGVHzwEcffRSWG4yvQog1g35GmyPiB44ADDUMlmF2Afnoxi+Xhex/+ukn0y8OOeQQW7Old+/e1kbxGZtmEFUc0o30xqEK7jj3NBUik6hMVR7W8/M2rmPHjgXZnyh26E/RJmE3iqO9CEcluhRli5DPcQQb3sCBA4OtttrK6gvne+yxh81mzweUCXc+sb366qvWxvoG7HlWNtI+qs9S1xk8zDUiIDCzj3fytvu7776z/6hdu7ZtxSRjmZhxyy232Fr4pNvGG28cTJw40Wbc3nDDDcHzzz8f7LnnnmE6Zwo5/YQQIkGgtPlsP6DR9dlMQohV0MEhbjqGOEAZvfrqq21fzJ3STTbZxJROQJYce+yxNgq00ODZ4KWXXrIZieQZCjIzLPwzkTu8owcaFS9E+aC9KY2ocSUuxO15q4I7mAhZtXjxYousceedd9qIdgynGLtID/ZAXhP2avDgwcFee+1lIcVF5UB/Iz1xKJDGtPmElSY/ill/E6IQwP5AvaQ+MvgYOI4uPyIKB2ahk1/Izn333Td1NT7QHvDstAk4zeIKdeTuu+82Jxh9KnSEs88+O/Vp7iAdcfSRpvXq1QvTlufzDdhzHdzh9/HHHwcHHHBAsGTJkvA3rrnmGitfXsaYmelyACet/142ifZR8w1pcP7554fPxABrdBgiUJ111lmmH0Km00VOPyGESBjM9PPG4quvviqoxk6IQgAFC4X0oosuMqWVOvLkk08G06ZNK/pO6bnnnht06dLF0oSNc4yZPpCgEKDzQEfvvvvuMwWaPDvssMPsM8m77ELaO378xRdf2HH16tWDHXfc0a4JIcpmww03tHYIkFvRuhUnkMEQ1+evLOjZPlMPvZuQnqNGjbL1ZTHeoFuQNszw8zQijBczE1j7r5Da1DjhA3vo35AH6AJEOSE95VQQIr/QptGeMfiBdU+BWbnIQNoIdxT4XuQH8oPwqwxGoR1jRlZc8P4p+LqRlK24h4okesCll15qx9SfIUOGBCNHjgwWLVpk13KJ2xFdr5s3b57taW/9GmXI9Rz2nTt3DqZPn26fM5OPZ995553t2AdDMRDAv8+MQD/OFtGBwIRhzye868UXX5w6C4J27dqFZZY0zLSjL4qkrRBCJAg6vYQEcN555x0p1kKUAMoX8f9ROjHKoZT6LLdih5FnxJsHFPy+ffsG119/vZ0XAq4YE84TUJaZ8UeeZlNpLnainbNoWpP+nOe7QyVEnEA383BabjSJI+5oQQZEZUSx0rJlS2uPmEFB+M+ocw8DK/nMmjfcQ/sqKg4G3w8++CAsb8wwV1QTIfIPdZL6iZOAOokTsGnTpnLIFxjkkTsaaKPcWVvouK7k+hJOPz/3kM9xhgFDRx11lL0PdebEE08MFixYYHmTS/2KclG3bl37T44/++wzu05b6+WE5+NzZiU2adLEbI7+2eOPPx4cc8wxJgNwvHn7jCOQ3+N7rVq1smvZJFqm8yGDeE/vI/Msw4YNs7pGmhAZwtMl6pzMBrIECyFEgqDRYLQWjQsQGzra4AlR7FA3XAljI8yCG+WmTJlisesBpZStGEEhxWDJKDSUZAzT/fr1C6644orVDJj55NRTTw1++OEHO6aD5GshuOwTmcfrBGnsex+9yTkzl4QQ5WO33XZLHQXBW2+9lTqKH8gA1p5BDuDEKnad042R7du3D+644w5LE2bMu4GM9GG7/PLLzUgmKg5pjP4GpCnGSTlQRdxJgv7KO+AYYEYP/QXqKeuecr1Y+1SFCPYi1g5DlpIvDFDxtquQSXfcsIwNZYv1xOPw/GuC+vLQQw8F1apVs/ehXWMgEYNxc1F/XAbxXyyBwjnboEGDwuvkAc/JddK/V69ewRtvvGHPyzZ27Fj7ruuCUZ2Q+/gug63r16+fupo9WHPe3ylfa857Hxm7Cus8k6eE8STig+sx4M+ZDeT0E0KIBEFju8UWW6TONNNPiHRQvNjo8OCkYA2Dgw8+2JQtZvsRf16sUlJR3Amb6TLkqquuKgiDLgrzo48+ap0GnvPMM880xdk7HOSlbyLzUH+AfKDDh4EHR/Ff//rXgigfQhQ6yCbWS6HeAKPV4yqvNt10Uwtbycw13gf5UMxyIF3npm267rrrzAA+ceJEC4HM6G6uM9BIVAyvJ7T9nta0QdkeKS+EWDPUS+T/ww8/bOfIuTZt2hR9u1AopOsZDNp54YUXbE2xOIHzJDpohjY1CX0+6g915uWXX7Zz+rkrVqwITjjhhLBO5YqddtrJ9tTbp59+2o55NqDtxUaAQ//111+3e9iGDx8eOvy4h/vZ019kdj7HyAIG6nCP9yezBXYdh7TNNf5+pMNdd91lx5RTbCvso8+UzbSQJVgIIRJAVNHZddddU0dBsHz58kQoQUJkk9GjR9ueuvLMM8/YSDSxasbfmDFjLE4/BjUMawMGDEh9mjtchtHxAUYQL1261IyojIZs1KiRKc6uMLP3TWQPygR5QqeKvODcjbBCiJLByIZsIioDdYdjjG5xrTs4/jfYYIPgvPPOs/CVyGs3DPGuxQ5ykY026sADD7R0wgBG+yqnX8Xxdn38+PFhOUMHUF9HiMLh66+/Th0F4bpV0g/zT3q/iDxp3rx5OACpUEG+R2U8Ogd9QZ6f67QBSejz4QhDV8CWR4hc+t04NNEZjjvuuODJJ5+0+zjPFp7Ou+++e3DooYdaGqOr4qji+dDriF7QpUuX1fLlkUceCbp3727HXtf5Hp+jA82YMcO+zzlLEbnDK/obmeb999+336Zs5HLNef6Td2VDT6GPTPQ14L379Oljn6WTrXSQ5BVCiARQmqLz2muvJUIJEiKboIzeeuutdowiTSjLbCrUcWPUqFG2+DQK/wUXXJC6mnuYTYJC7GFoUKSZQcFISJE7vFPCoJKvvvrKOjDUoW233TZrHRYhkgD1A+MasouR6hhzMOp88skn9rk7MeIE6+K6I/Puu+822ewGn0I3JGaDNencRBdwwxllQFQMN5RRV0hr6tRmm21m19T+iLhBmWVjwERJRuA4gk6IQ8aN+jVq1EjMu4n8gKx3eY/sp4/OTD9vb2kD4i7/o20bOtT2228fLFy40AYL8Z7oDEcccYQNEqPPlS08TSE6KBqHI2Epcdjddttt9rw8B6HqWdOdNepc9+Md+A46rv/ewIED7ZhrHTp0CN+Xa9H/zCQ8A8/k+1zB+/B/bBzj8HO7EmlYUnQCnjFb6SCnnxBCJBAaZAzhGFzkvBCibFC0MFy64jlhwgRzaIhVoLSynh/OP+/E5xLyhM4BHZ7+/ftb2BPyjNHDrO0ncot3ShhpS9mgjfFOarY6LEIkBWQZG+GlCYnr9YdZ5vmQr1WlR48eVu+p/6xFw7vxHryXvyvyWqxil112SR0FwUsvvZQ6EuWFskZ9YRYE5Wrddde1EGNcV/sj4ggGc8puHOV/OtRNYAY4x4R/JiIHM35oC4SoKtQTyhZljDKF84T1CeNevtCh2Pz9OMaWR8QdIkPgLOM6g28ZJOB1LZOU1Ia644/0ffPNN82hzzHPyYy1OXPm2KBch+fiM9f7PF98z6w3Zmbyftnm008/tf/Np37Aez7++OP2HBx37dp1NYcf6ZRtHVlOPyGESCA0Hj///LMZXXwEuRCiZFDECPtAHHoc5ShlJ510UtaVMFF+yBPyhrX8/Lhnz54y8uUBOnReN+hQMWKR/GCmnxCidNzwQIcfHa1hw4ZWf5BpODHcKBInunXrZgMAkAuvvPJK8PHHH9t7uFGDd5OcXh3CZonKQ/lio1xtt912VoeEiCMjR44MqlevbsZ9wtbHHerkl19+aTohbLXVVqGOKEQm8DDizz33nO2xdbE2fxL0DAa3grdxQN0hdKZHhnj11VctvKZ/nk3Q43A44rQC0hhdr0mTJsHMmTPDJT/Q89wJyTHPRj75OcyePdv2DHjLVX+RQUGUEd7D1yjMB0uWLLF04DnQWXKNnH5CCJFACAXgo2zefffd1FUhRElQV+DMM8+0EWgorpMmTZKhssC4+eabbb1FRgw3btw4OP744+26O6BEbqC+kAfUE88POqobbbRR6o7iAFkB0U66yqJYE96uUH8Ii+Qz4qZOnRrL8sMzYwByCAHlRh61oSUTTRc3lDmSIWVD+nzxxRd2TDqqjIm4Qj/j2GOPNWM+5dp1iTiD7Cdair/L5ptvbu9GG5eE9xP5Jao/sbwA4EjxOhT39tOd49Qj16OAQQGzZs2yOsT7Dh482CLwQGWcf55WfJeN9GP76KOPTCeNwjOxvAf30+djnbwXX3xxtcFLfBbV+zhm9p8/G7MFPW8Y7Eb+Vea5K8rrr79ue/qp+dQV0It5X/qNLVu2zPmzyOknhBAJhMaUjUZ34sSJqatCiJJwo1uzZs1MGYMVK1bY+kT+mcg/hBf1joUvLu6dCJF9SGs2OoQ4/tioH3RAffRiseQH70kHefz48daxpQOHAU/lUZQXZsfR3lCOIK5RGTBkMEueEdXUAzey5MKgE0dcRiAzwQfoOfk0TMUB0ocZUexJtzp16lhaSlcTcQLdoV27dnZMOe7SpYutfZcEWIfM5Vjbtm1tz7lm+4mqgl6BroH+9N1339m1jTfe2MoXbamXuziDPPD3oF1zJxwRia6++urw/Nprr7UQ4fSFffBYeeH32fju008/bd9nY+Yx7WlUJ4nCQDVmzLn+4vjvOXyf52HPOzA70XXdLbfcMoxwkW0IAcuz8iyEGs41vD8zHnH2kT7IeMpvrvVjOf2EECKBREddoxgJIUoHRQyFjJF0dLw5RyFD+c2FUirWDGuezJgxw47pQLCmAaBQ+yayi3fq6EBRL8gHjDvUFeoPHTo+TzreeZs8eXLQuXPn0Nj8r3/9K+yMC7EmfvrpJzOCUp6oT6yTEsf6w7OzvqqH3GIWFnWC68UgDyoKaYLRx/nss89ybgCKM6TfggULbE9522abbey6y2EhCh0GCEXXdcL5x7pd6Yb0OIIsmzt3rtVPthYtWoTOmDjo6epLFDboFeQR8t7bzS222MKuJ2UmKe/F+wB1B7ngfQvCep511lnhPeedd55dr4oTjb4LacpWr149u8bvk55VqQ8uA3gHQrF6frVv396u5wJCiTo8R67hPZkdSR6Slrvuums4QC6XyJIlhBAJhFE4NG40sC+88ELqqhCiJFC+ML5itGRRakYNwvTp04PXXnvNjkV+6devn+3Jq5tuusmO0zsj3mkR2YcOKGuSMSOWzibtDTMuisHw6jP8OnbsGHbE3eBQ2U63KB7c8MGArH322SfYeeedTW5RllgTL27w7D7byg0c1AM5YUqG9Np3330tv0mv+fPnh2VClA/Wx3G8nNEGqf0XcYCwfOhOyEkGTAwdOjQ0sscd6uDXX39tso2NUPxOPozuIllQR6grzz77bCjvcaJwnASnOUT7EdH2DXhX1tHzd2YGHXY+6lpl9QiiTPCf/EbdunXtGv+HXYRrUbzPE21rOU4/dzgmz+g3+XcbNGhg+1zoPQyq4n95P2ZK5oPozGfCHUN6umYb9UyFECKBNGrUKFQQGEUO3gj7uRDFjiuqrnx56AmM+cz6owPRv39/uyZyC/ninZ3vv/8+uPXWW+0YQ7mv5UeMfuSc5x/7XCvSxQp1g/xhbQc3XjHjIslGHW9DCSlEOMOoU4Nyx+dJMTqI7BE16AD6mpctQjXFDd6HrVq1ajYAgFnZyGZRMqQN658iK0gv2jTPf7FmXDfwwSZ77rmnXXddgM99EyLfRB15hJrr1KmTGeqRmRjVL7vsMpMHnFOmkwB6IRRKXURe+DNEHQ04Azgv6/ny/exidcgP2lAiJTg4lhm0mwsnUrbh/bwfy7H3qaJ9W2TKhRdeGJZNnH4+iIhrvpWXd955J/wOyzSUhfdxos/DcfS//ZwNucaeAdTeRlevXt2+lw09MSpvKQ/uaGQ2aEXSJJOwzBLviqO2adOmqau5RU4/IYRIKG6QpDEHGlpwx4YQxY4rpdFjFNTTTz/dZjGhMD711FP2OSShQxEnyAtg3QIgfxgh6CGL6UBEOxgid9C+0HFzwysdKwxXScbLGDPpAXnga/B4ORSiouy1115mSEHexXGmH2C85j3ciPPRRx9lxaCTBJCZjz76qMlM0ojIAqSfKB/I2Y8//tjqS3TgheP6gOSxKASidfvMM8+0KAGA/jBo0CCb9ZukfjlybfHixVY387GGVjouI0jvcePG2dIAhGU/8MADgw4dOtggT66xFq2HqGYgm/f3JEcKC+oK26xZs0IHFG0o15KQV9F3KOl9KJ9sbdq0SV1ZNZjA4Tu+lYc333wzdRRY1AkGb1WWkv6XevThhx/aMX3FWrVqBVtttZWdZ2OQZFTeEjIf0BUYyF3eNMkkyB/0YfbIl7/97W923eVLrpDTTwghEsruu+9uDRwKuI90QVEQQpQOdYaR4yjUXl/uuecem71QkoFJZB6UYe88kAfueOX4mmuusc5d9B6RfdLbDjpR3q7QkeN8/fXXt/OkEX13ZjMuXbrUyh8Ov/vvv9/KIOekgxAVhfaGukQZmjdvnl2Lm1yjbaxdu3bqLDDnZZIM2ZmGtHF5QWjUdPkqSoe0or5gQMuG0VCITOLRdS655JJgxIgRdgz33XdfcOSRR64mJ5Ogz+JEcH2IgSD5hpk/jz32mD3LoYceGtxyyy3BE088EUyZMiV4+eWXbRbOzTffbDNwGLh2/vnnm1xR36JwoQ148cUXwz75HnvsYX2QJOeZvxt7ZAYzHf0aMqayZRaHlIMukuk0RA4gD4C66LZJyPR/pUNUFv6D8rLtttuGz5FL+P+ZM2eaM5J888FwPFMu9T45/YQQIqH4aBcamc8//9wUhFw2MELEGUZ/oqzSqRg7dqyNfpPTLzfQeXNYV/GDDz4weVa/fn1bAws5lu3Ogvgj3n5QD0h/Opk+gpGwJUnFyxoOP47pOOLwY7aJOz6Bz9TGiorSvHlzq0s4zRYsWJC6Gi9oK0888USbxca7PP3002bgUZv5RzD6eDgtD+en9qz8IH8pY4zcF6LQoY6zTABrUVPPN9xww6BHjx5B9+7dTa+lPLMlRa9lTVfXhQphph+D0Ujr2bNn27n3L3i+6IBo8oD2CqcgsuXqq6/+Q/vFfSK/eH1h2Qfn4IMPTh0VD7SBgAyZMWNGOBCmojrX3LlzU0dB0LBhw9RRZqEPD8iFv/71r6Hek2022WQTq7OkFXIgalvIFczCxP5K/uCcZWkIninXTmo5/YQQIqFsueWWtkc5wmnxww8/2LkQomxQzlq2bGl7lDJCwqC0JdmxUUigEHvHhbX8yAMMyIxC9MEMXMulwlzsRNPbZ6iQJ9QL2hjC6yQJ3s3hmHUkv/jiC3PKUAYZOU4n0ssjcK4yKSoK9YmwxehoGAVYnwXiFh6zXr16oeEUhzh1w2WFWJ3ly5dbO8c6M6JiYCz75ptvLAQ7ZQ29QIhC5V//+ldw0UUXmTynzrdr184iBLjuQHnOhzE6W0ybNs3ek41wgfmGdPbBKBB1irjTD3he2i/gnn79+tlSAtF1drlH5Bd0bOrLZ599ZvkR1cGLQf/2MnjbbbfZMVuXLl2sfJMWa0oDyrZ/D5jtSnpyTsjbbIA+CPxHixYt7Dib+Lt5KGVkL//r13PJu+++G5bR3XbbLahZs6bJmWg+cexbtpDTTwghEggNm8f7pjFn5B0zE7LZoAiRFDBUEoKiWbNmYZ259957bS+yD/KLjgnbM888Y3mAHCO0J0iO5R/yxg0k5FeSjFa8D0aiJ5980s5Hjx4djBw50o6RDTj8GBTALHqM98AxazVEnYVClAcMj7Q31CFk22uvvWbXczUaOlMwqhrDE8/N+kjUBZcR4nfIZ9IIOeNrgorKQRoKUUi4I4lZN99++21w+eWX2zmyEL3hgQceSJS+lA7vjZ5E3WS9wnxD+E4GD6LP0Z9gmzx5cqnbZpttZt+jLeZdcBbg+EPnFYUBdcx178aNG9u+WPD+L1FwgLTYe++9rXy6DlkW1E1kEY4w9gxm9LJNNJNswExE4PmI2JMLSJeHHnoodPYz2CIftgPWFeRZkIc77LBD6mrukdNPCCESCI1Lq1atbE/DThgEQoqgJKHECiFKB8UUJY31NlCKUZJHjRplI8tF9kBesblR9K677rI05xrhVnfdddfUnSLf0HmKjrBNUruyePFiq/Os/9KzZ8/ghBNOsE4x73zmmWcG7du3D412zP6lfLqzI5omQpQHyg6z5ChjlCVCY0I+DBRVgVmKyGifocj6hF5PxO8QEtmdoUmbIZ0LqCNCFCqUT+r3hx9+GBx11FGmTyDL2Vg7zvsXScPrJTPVacvQjQphTb/9998/6N27d9C2bVsbDO370jZmJf3jH/+wgVzogbTPrVu3Ds4444zQOSLyC+EiPfIOg4u8PhXLoDscfkSGQJYQYYT1KCmr5YEy7H1s1id///33LS0ZgLTddtul7sosHt4TGUFUCydbbTmylnrLhAfKBmt14mz09VVzCenr8j+fUQmkiQshRAKhQXfl1Bt4Gl3i1CtEoRBrBoXx5JNPNoWaOsTsC5RHN9aJ7EFHgI0wQUDnhDUbstVBEBWHNoXNSVKYuiuvvNI60LSVzPBzJ0bnzp1tXR5/b8qjOzsxNnCfymhmKKZ0pE3ZY489QsPAkiVL7Fqc0oBnpb4cccQR4XNHw6KJ30EXR5dggIAGCVQN6osQhQR1Gn0Ax9HUqVNNX6A/8fzzzweNGjUyPcEN9IRHTxo4I/z9CqV+eptUnufBTnLttdfaDEHCe9L/I88GDRoUvPjii6m7RD6h/fRBuNQtNnQm+opJZ9asWTZjGHhnZhJHHX5rKuPcyz2kIQOz+A3kVbYcUvw+IS4BWRjNo2zpuPznm2++af+HPMaZyftSTnLNnDlzTIbwrgcccEDqau6R008IIRIKM/scRt599913qxlphRAlg3LGVq1atVBJQ2kbOnSoHYvc4Oum0eE+6aSTVuvYiPyCswsjlncwPcQOHau44c9MR5F6f/vtt1t9x6jA+3GddRhwAHob6vcyi55rHNeqVcuui8xAHrBBktOV8oMRxw0DjE5mixPUE7YLL7wwdSUIHnzwwdSRiDJ79mzbY2grhPB3ccTlArjBl7rDJkS+oBz++OOPFiWEGdvorJTVgQMHWl1HRjKDzPUInEqO61Jxw2dXUfcIZQekAyGrCwVvn8oD93mbzACc7t272/uQbwMGDJCMyTPkj+sWHDdv3tyOyTPOk5g/3kfB8ewOP5zT9LuYxeqUV0/mPpxhlG/SjGP6L9mAgQ3kCbKQ2XbudOQa+0zD71IWnnvuOXMwYj/YaaedTE9wuZsN+F/fovnAOvD8L1vdunVTV3OPrL9CCJFQojMvaNAJu+QNLI2SEKJkvBOL4oYRk3rDLAbW9kKBFNmF9MbxAhhMiMVPxyFq6BP5g3pBHpEfdKo4po2BfIykrCr+zHTKhg8fbvtoW8kxIfkw+gDvjxzgPgx8QKeca3JMZwbSnbT09CStkwrvSpuDkdTfl3LFtbjJPOqKj+T2uiFWB4cu+YzcyacRKM64LIYVK1akjlaVPyHyBTrAKaecEowfP97Okd+E9CRqiJ9HDcJJwPtL1D1vpzn2tfHiDjph9erVLd8mTZpkoRWTlodxgrR33ZAt3bmctDaA90VXwOF82mmnhe0dgxJxbBG60kGXjG6l4fV0woQJll6EvWSAczb0TcLlet8IWcHeny2befXUU0+F/8Og4bLSIxPwLr55+pKevD95uPnmm2dtzcTyIKefEEIkFBo4b1BZU4DRxVyLXhdC/BEMStQRlFOOqTPMbEJxK4bwIfnA5ZLLJmb5Ac6U4447zmYukx/qbOcHbzs8n7yOAB0c8iWu6/p5maJDinEuWsZwZlIWmekH3EMaeMeVNOB+0iA6al9UjWinmY20TiqUIcoZo7a9bDGSnbaG47jhs35Z00r8kXfeecfKNG1bw4YNU1dFeYnKWmQvUUyEyDfI7jvvvDN4+OGH7Rgd6eijjw769u0b6hTIetebkoL3iXgvQvKzp93abbfdEtFuI2969epl8pr36devX+oTkQ/Ij1dffTVsQwmNnoRyVto7+Puee+654T1cmzlz5h8cflyvCCxb4v0Xn0GYaZhlB+QVcqGiz1hRXL4SBpUywvsRVpnrLoezDf9DfjDLj/fmnfM9wEtOPyGESDAoQ0Dj89e//tUMlknrcAiRaVDSAMUNAyZhNOCtt94KPxPZ4/XXXw/XgyLEateuXe0YGDFYWudIZJ9o2n/55Ze2p2PFqO7o7Is44Z3QRx55xMoX8J7U+xNOOCE46KCD7BrgnOF+b0cXLVoUdia33HLLnHUqiwHSEmc/G8aJpNOjRw8rd2ysRxJXXa127dq2p61USOw/Qr4ych9ZstVWW6WuiorgM8th+fLl6teIvEE7Rd962LBhwfnnnx8O1DjwwAODBx54wGbkeDSBJJZToqA4zz77rL0jGzNbksIVV1xhMod8RhfJtuNClA3p7/Us6To3M/yaNWtmeiHvjTN9xowZwZ577mmf0/9ic7z+lSVrGKBJJIalS5daueb7f/vb37IyyIzfRP7x/Byzh7Ker6rwXh5pYuONNw4HCeWi3no+wdy5c23P+zNb2N89H0hiCSFEQqHRoZEBGhpCAsTVKCuyS1QRyadSUii4ggrsvcNOCIxoKCmRGUjXKDfddFPYkTvkkENs79BByWZnQZSMdyJpVzz9cc4C11q3bh3rfKGe9+nTx/a8D3X+8MMPD+644w4zakXlQfQ9/TpgEPLOnqga1H/WjCRNOWZ9JIimd9LYe++9rfzwvoxSjuu77r///mbc4T2++OKL1NXixdsyH3U+f/58O956661XM5iL8oN8dsef92vi3P6I+EJdpiwyE8freNu2bYNx48bZ59E6ThnNRjl1GVMevvnmGzP686xs4M9NmxPdyovfu2zZMtsz4GOfffax47jDuzGjyvORtHvhhRfsOEpF0quQQMeKE5RTntnL7rbbbmv7JME7Ymu4+uqrg3POOceuUb7Qq1j6wqMpeL1HpvB5eWULv8NgBHQRn4mWrQFIyEYGAFB/GMzG//lzeh5mmoceesjeiTQhbGkucTnAOzJQHLBx5Duqg3qmQgiRYNwASeNDeICKdAxEcYGi4sqK49dK+izpUGe8/uyyyy62R1H2hepF5ogORkBGTZw4MXS0XnrppeXuyIjsggyItiFfffWV7akXzMaKK7zXiBEjbN1I4H2OP/744J577jEZQPnzMsieDpzLhqgTmuNik5PZgjT95JNPzChAeq+//vp2Pck6DDKPtZeBMvjuu+/acdw48cQTLd+oI6w5w7HPkC/G+uGGLdKDEfrks6eDdPLKwSxsT0MNxBK5JirHqNcMemLGKcfMKhk7dqx9xn2uH2QT/pf/YkOmsAYxzgLWw2bNs0033dSeg42oPzVq1AiOOuooe2YgwgFyyu/xrTxE0+LFF1+0c0J+7rzzzqmr8ST6XsDMTdpl+iu+Thftmt9X3vQqNNBb0d95fl9WoZChrDPgkLxg81lc6flV6PC80Wd2XYA99YgoI1deeaXlC+9MPjHLdN9997X7gO97Xa1I+eN7zITjd4EQnK6jZRpkCw5Fno/88sGiPEO2HM7Muva0vfDCC8O6ioyLpnk2cH2P//n+++/D/9thhx1sny/k9BNCiATijU7z5s2tkaWxZVRPRZQCUVygEGVL6Ys7hMnFUEf6vPHGG6mrIhOkK+CEQ1qyZImlNTNf4m44SBK0H95JBNamAvKqXr16We9MZRNCwADvSDhZZvjRyS4Jd1K7oYw2lnTB+OAdd1F53PjIWsTAsc+2JK2TCmWoVatWdkwaTJ48OdTl4gQRJtjIN9aSJs98EEecZURl8XeH6PtrPb/Kg7z2uqE1/UQuoQ4j22jrGZDSrVu3YOrUqVYeqevMUI/e58e+ZQOM5/PmzQt69uxpgxTZBg4cGEyaNCmYM2dOGIYc2HM/jknk9JFHHmlOuqicqgj8nr+XOxHRkZLWVh9zzDG2J9/RD8lvt6/EGWakusP6/vvvT10tXEh/yq/r2tmqU7mC5/eyxJ6lLU4//XRbboBzPkcvRK7gwHf4jLJXmfJHXafd5Lep+7Vq1bJr2eq/EPKd5wXvP9Fv9KVTMo3baZihS5oxaJD3y0V9jcpR7K7A/zLbMZ+yQk4/IYRIIK5sb7LJJtbQ0pAz009OHVESdBa7dOlio/1Qkl5++WW77gpgZRXLJMB7swCzK9hxnX1RyEQ7GnR0vKwRJi7uHbqkQn1gFKN35AAnWBzbGMpbx44dbbYfG4aPaAeYMhgthz46lXb2hx9+sO9zXJqTUFQODJLuZGZNE5cLSYa1MXlP3pu2xt8/bmB0pv4we5aQTj4bqxjlub87coNBLS4jcfrFNX/zCWUoaizUmn4iH1Du7r333uDRRx+1th8dgH42a25FQ3rmQuYxuxrj9oMPPhh88MEHoYxBvvBc6DOs2cUARkKPcu6625gxY8wQz74yz8rv8D9813Wm+vXr2z7O9dKfnT2b21PQc3lX0jAJcod38Xf0wW+FDCETKdM8d3TWG3h++PsUMtFn5H0oW8OHDzdbjIeF5HPq65QpU2wQLPWa+9j796NbRSD0un+nUaNGq0UwySQ4FdGB0H94dt9nq7/01FNPmRziXUizfMEz0Ef2Y830E0IIkTXoBKCYolB89tln1shWRqkXJVPoaekdMPBjFC6emw3jNiOg6KCNHz8+VMYoKyiAKIR+b6G/azZBWSP9SANXxkXV8TLlBgPK3PTp0+2YsnfBBRcUdbkrZGhT6MyRP7QrtDNscc6vHj162Ghu3o3yl94B5t38fV2O4tDACMT9PoJVVA3SFghvdMMNNwQ33nhjGPYy2qYlBcqRvxdrmHo5o2y5USZuMGADeQDMWMQI7u/o71cs8O7oVcgHwna5LsGsHFE50Fm9DH366afhcTGVK5FbvGzR3sPbb78dnHbaaaYvcG3IkCFmPEdmu9zOdnlkgCYDNUeOHGn/yf+xJ/ICjkDWhiVyBjNO6NcRXpjw+ejanTp1Mh2H+5FNzPg77rjjUr+8Cm+LywPp4RBONBsOhHxCHntfxbckwMAc190pF4UOz+l1MEn64KGHHmp1lvqKXQYHLDNKCbnqZc3rlPdRXM5UFL6Hfgk4EBlshgzIRpnmv4g65mBD8XzLRP6hWzk8/2233RYe06fLF7z3119/bcc8S777h3L6CSFEgiF2Pw0iG6P/oLJKgvidbChG2cAVRJ7XFSNCRGBYRKlk3SqUfFcgUUoII4HyybF/h8+KudwwwtPff+nSpbYXVSdapjgmXCQdUI5btmxp645EFXpROCBTWNOPvPKwJXTgsjV6sxDgHdmi8p/yyXvTcWZUKZ+LqsEsHtKVdunss88OevfuHa7hlcT0jZapBg0a2J7zuXPnhjM24gSGYtaScsMcRiv0DPSRqhqr4ojrYZRpZgeRBjgCt9lmmwoZ1cXvVKtWLXUUWD1xkmQEFoWFyywfzICMo7xRr3Hgu8NsTbItqj9UFn7jjDPOCPbZZx/TmZEptBU4IYk+gAMOJyTOccKO83k6RNXAARgdkIHzkNmCrteUZyCX/zYOReD+JNXDst4/Ce0YOjtlh/ekz1XoMNjQoZwmASKMMPDa84LoQvSHTz755NXe13WnqpY78hpbBnvqOOE3IVvlmShS6EFs6IUuQ103qgrIH5c36FOse0g68i7Ix0LB0zhfyOknhBAFCo1xWcpmeUBZoDGkUWT00Pz586v8m+J3xShbClJViSrCHLPeBA4+FC8WIyf8wcqVK8ORRwcccICFqfn8888tVI0bWMvT4SsGCNcD1CNGy4rMQR2ijLFnRo+XN9ZJQYH3zoEoLMgv2hbfQxwdFGuC9/PN4dg7lW5wo631a6LquCGRPe2RGweSmL7IPN7TDa3MFoG4yj+eeb/99gvlwrfffmt1A/xasUH+snlI5K233tquq32rHAzEAuQBaciesuVyQ4hscuyxxwY//vhj2D7Rf8pl2UM/ZhYQ5Z72Y4sttrBZxFwjLDbXqA/UDdep2UfbT5x99P0w/uPA9N8i2gHtLXIqen9puN5HuECXZ742rSh8WNvN9Vfv6xYyM2fOTB0FQZMmTVJH8YU6xkxc9gyOOvroo21NOmbfUQe9X+H1l7rJnq2yIBuia7LvuOOOdpwN+K+oLZKB5y6TMjWz1PsHy5Ytsz4Z79S4ceNgu+22s+v5IJo/HJOP/t5VybvKIqefEEIkmK222spGjtMgooxjcPBGR2SGQkxPFCtiqPfr188URzp2Dz30kBkRUTzYuIfZVIwIZSHvo446ykb50YEFlBIUJ/a8YzGXG5yjdKSBUbQis7gCzKhjN+CdeuqpVk7p9IjCAlngIYHAZUa+w5fkEtIAGctgGnfW+NpdomqQllGQB74lFcoTbTLv6LPvueazJ+KE6wp16tSx/SeffBLKcTfOFCOsnezvTxplyuBVjBCpwkFPpXwVc9kSuYOZcKzNCZQ5whdH26b09ivTsBboE088kToLbIYhIfOi61eV1F7yrGw8X1Qeo8cx2POggw4K+4a9evUK9TtwmV4Sfh/OGH93wjujIyaNstIhrtAuYRugPYrDTD/Kp+PRBOIOYT1x2jNAm9m2Do556qjX5/Q6XVlIQxyNfkwo0Wz1tXl+n3HHf7DxHtSl6CzGquD1EjsXx6Rb165dwwEJuYT/T5cTyFVP73wh7UgIIbIMylQUYuw//PDDwdixY83Z4kQ7ChzTWJXUeJQH/08aVkZu8Vs0vMxSYi+qhudJdF/ZvIoS/Z3oFi0b6dddqWEB+csvvzw4+OCDzSBC+KOrrrrKHL2UA5QrlLvWrVtbpxUD9dNPP22GOT7zjd/0/yuprPC/xUo0H0RmYfYpDhTKM2WUjgHpLXlVeCBPPvzww1D27LHHHkUnFyibGBwYJQ277LLLaoZoUXkyZdiIC7yvvzN7jLfIP+rUqFGj7HqccFngo8c5Z/3gYsX1Bgx6PmgIAzuGqWIr65kCR4M7lRm45m2REJkCueUbdZiN2TF9+vQJ6/Qpp5yyWkhmNtdZXa6XtFUEfhMWLFhgxnOewcs70THuvvtuG5SY7gAp7X94Pnec+DNz76WXXhoa5X2QqP93Wfg9hNn1Y2ar+2CwuOPp+M0339ie9GvatKkdlyd98s2anvGjjz6yPTLVZ6AXMtElNv72t7+ljn6novWrEKA+su4dM2R5/myXK36fdpM99X2nnXYKZUI2YNYd8oD/Y5Y08pNjl6NVhd9CJjLQHZBdHTp0yOo7lUb0naLLKvH+XjbzYdeQJUUIITIEjU46NEJMZWfBbF/3CKW9e/fuQefOnW3tNK4xco/7HBoEHDA0xt5IVAS+69DAoszRCI4ePfoPTkhRfshjNvLE95mE32NDafBjNspDdFQ4nTtGVeLkoxzxOQrjP//5T3OeeKgI8h3DEnuUIUZe4ujr0qWLKUN8z0d2uhLC98DfL3rOVqxgiCUdSY9iTods4cZt0pdQRZTHbNQxkRnIHzZkh9eLYpq5wvtiwPcyikymvZdsEJWBcuNlp2PHjlangJDbcQO5gO7K2sHAe6GXsOd6McJ7o395e8agLNe5RMVB1qK7AmnqM2IzZUQUIgpljO22226zsJ7AGk0DBgwINtpoo6y2+y4zsBcwaJgyTr/uiCOOsPVuaSui9cGfxb/n+5KIfkYfEmcdcgl95t133019Ujb+f9gdOObZkgbpyxqIvB/pT55DWWlb6NAm4UDGJgC8I1uhE7VheZkXpZMumyi/OPx8Ji7LvviAxfR7MwG/iU0KZ+3ixYvNGYeMoe64nltV+D1ko+tY2FQZiJk+ECIXRHUQT89C0PWkbQohRCVIbxg5d+WPDsHChQttlhXhzhjRO2HCBFvXBMGPUpWuKBKag9ktjFx97LHHTKnh3qjzriJ4A8NzsfGfNK5z5szJWCNbjJBvbG648nxPz8+qgiGd/yA+OWWBDaXplltusZAFKLr77rtvcO211wbPPvts+ByUFz7jmBl/V1xxhY0u57vnn39+6tdXER0B5eUkeuyKS/SzYoW88DyhTn/99derKXaiapCWyEc60sinHj16rFavVAbXTK7Th8XSyTdkkxsKiqltoY0ldDIgE3h3NoXsqzqZbk/jRtu2bcM2x0cKx0n+8azIBsLORUFWFGu7yXtPmjTJ0gY5oTWvKo/ruvXq1bP05JzIFRzHqZ6IeED5Qsf56quvgiFDhoTt05NPPmlG5WyUufTfvOSSS4I333wztB+wZAODeNE9kKvIFGRM9HsVeS7u5ftbbrll6kr5cf2PfhHPUatWLfs9njMJ8p53Yfvyyy9DhyZ2nbiDXSAagrVZs2ZhGMZCJvrMG2ywQepIlEVUFtB3IaqOp139+vVLtU1mAv7bZ/nhYESv5Zj/ij5XVbnuuutCWcSap+jQ+XAKR+22PANU1pabSeT0E0KIDIKAZwFewhrh9KMhjTZuhOBAWT/++OODI4880jZ30sDHH39ss7DozBJjv7KNIsoc8H2cQ0DnhN/3/xIVh7ygE8PIuAsvvNCUT1dASdfK5ldJMPNz6NChFusdhYmY63T8xowZY5+j3PBfdPj4Xzoh//jHP4Lp06fbMxI+lnNmqFEOKWfsIf0ZOfd3Y+/vIlaBkkpHlvpNei9fvjwcQZaelqLiYLB75plnbMAEZR0ZCaWVV/E7+Uob8oZ6gZwgvCckXWa4jHSYvQTIBF8wPh+dTBF/om0uhhGOMcowUAviJgMx/jJ6nPdATuDw4hrHxQayko01e5AfzPJr0qRJ6lNRGUjHmjVr2jF1A30sWoeEqCrR8sSevhj1mLJHBJ299torJ+39/Pnzg/79+4f6Fn06dA/6IzyPP4M/Lxt1gn154D7X5/geG0ZqZsqUBxyPrNtKnxRdCMcYaRR9lrhDGjPQbeXKlXaOc6y86Vuo8E7kuZcrnCaUg0KHMuagU4iy8XoYBdmBHQN81ippGU3bTOH/TzlDLrhjDjLxfz7QkgHuwH+dcMIJoTzLNdG09v/3diOfslBOPyGEyAAu5Fm8mo2GzJVxQmagoKMsMrV94sSJwbBhw2xdP8JFcP2CCy5YrfPATEFCd2AYWLRokTUUNBgQbTBLA6Wb77BxvP3229v3eaZoPHRRMUhPjAuEWbnhhhssZCujL/0z8LLAOYoV+2ie+X1AOeEz7qNTR6hOwhKQT4z2P++882z9PeB7KDf8Pp+3a9fOHMvTpk2z68wm5Xz33Xe3+wGlpySizwic+1YW3B99/mICxxTw/tHwNWtKM7FmmN1MulJekZ/RMlas5S0KZc/lfxTShvJX0mfZhrbM5RtOimKAtEb2Op7u7LfZZhtLj9JkrhDlhXLGWjUMgqC8MQuashUXvE2kXqArISPQURjEVKzt5aBBg0zX4/1ZZ5tBXHHK00IDOevtjhuvQWkqMg1yjDVJp0yZYrIM4ziyjL4gn1Gno1tl4bfZ+E32fo3oLlzjfwm/eccdd9g5bYP/n9/vRJ/Df9e3KJzzW15vMJzzXd6NepV+f0lwD99nz3cZ9MyzcuwyL/o8cYSZUcB7RNfmigOlPSv5u+eee1pYRMIjt2zZ0spCoeN2EMDhnESyWb6ok6+//rrVUWQI4eTdmc21TOPvQhvNFp31Vtn8w3YWlZO33nprOAC/ffv2NkgbfHB2viBaF6DvReV1PpDTTwghMsDVV19twvyFF16wPQ0SHXucfVyjEXKnHp/TUEU3HD6MhD755JOtYaDx4j6UMRQxDyNCw0yj7A1dedl2222tcaWxZyaYqBooGygv5Ml+++1nSgyhMTju27evra2HM+65554zJ+9LL70UvPzyyzZ7kzUgGFF31FFH2WLg5AudCGbxPfHEE8H7779v+ct/RDdCMBDOk7LACC2cfJdddpnN5IwqalHn8ZpIV0A4d8WkrK0YwVlOnpO+bIUQriEpMMuPckU5P/DAA8MyVlE5l1SYMUO9LI2SPvO2JVvMnTs3dbRKHvJf5FsxGF09XRnw4bKXwRb57mCKZED5atGiRVi2mPWfzbqcTQgzjnxANjz++OOmgxYb6O3ogA4DAclP9Ak5qSqPy1v26GeUM+llItPQzp9++ulWVylf9PGQzdTfsvSyioKMZPNyzf/xvz7bG2caA4Zx/Pm94LqXn68J7vf2hO/gRKHufP/999a35L082kZ52h1+g8HJ9Iu4n73LNY7L+1yFCs/fq1evsD0+88wzbZ8UGGjcoEEDO45DXnndA+ncFYf0wx6FLka9B8/38tT3qhC1L1UWnpF38N/ChnbppZeGv8la0l4+Mimfq0JV3jdTyOknhBCVwAU4zr1zzz036Nevn51znQbpxhtvtJFTrNPnjQ4NLMp1tNHzjc9Y42Pw4MHmGHLlmc/ee+89Gy2NA8mVzoqCIZ1nBRp7UTnIO1eYCL1FmqJcoDgR+oPrLPSOE7hNmzY2ggqjF8fkLyM26TBefPHFNsuTzhz57MoX+e75hBJOOcIZjGLLvYQU5TejM834Hr/Bnt/x74vMMnv2bOvIUocJK1UoymQSIGQtZZjtmGOOsWscO8jBYsTTxOs4UMej+D3RYz/PFsgYOlpsyD/CTZFHLg+TjpdHwmW7cQtjIOkhRFWhfG266aZWn6j7r7zySvDdd99ZWctVHc8EtJFHH3206Uw8L7NICtVIl830RCYSEh75wP8wWIs8RpYXg7zMFgyEA+rIZ599FvathMgk9OsoY5QtluhgkC5wno3y5v38H374wWYUIjOQE9gZCLmZ/r+VfQZ+l41Bp/wnYUQ5j8ql8son1rtzXYhZ6kmCQTfjxo2zdCF9iMiTJLmN3PS2KQ4QAcHLqIemFBWDweie3z74PC4g79Aj0Y8ZkMGkCpY0ohyz1ITbEJBH2ZDP5SX6364D5xNZrIQQohIwchcDRu3atW1aOcIdoU6Mf5wC55xzTurO38Gh4w0r95fUINBo4eBj1FzPnj1Xc+7QsOEEAr7L/eVtRHbeeefU0arFtkXlIe3JZ8J9MLPPOwKAksHmIydRTPwa93EtCvkNjRs3tll848ePt3v5PWbS4FAmzCfKrd/rcI8rOjwTe8oR5ayqePksbStGyG/enbzIRBqL36G+OHTi0stYsZY7f2+v47Q7H3zwQTBq1CjbRo8ebZs7TbnH975lA8o/eUany+UbUDf4f7Yk4zKagRjIXNI5GlZZiKrCmkGULZg3b57JRZcD2azbmSD6bOiwDHoC5IXPWikmkIvISzYM7AwQ4Fiz0qoGIby8Tnz00UdhOyREJqEfRl2lzScUvUPZywaU5yFDhgSbbbaZyUz0LfqIhx12mNkQsiX7r7zyyvC3faYfcK2s/yRdeE76uNy3ySabmMxLCvTN3elL5CWiOCVR1qwpnwsF14vIE8qcqBikmy9XQn5H1xfOlkzLNMhjZAyD4nFgAnIIeyyRcSCf5TnaB/bn4Fr0eq6R008IIcpBurMGIwxrqqHouhDH0ffqq6+agu4d0dJIF/5+7HtmkQ0fPjwYMWJEGAsamMLuowzTfyOKNzK+ocD7vb4Gnag83qHxsFuXX355cNBBB1mIT8Jt0jFgwynIHkfu2WefHVxzzTW2fiMhPpm5SSgVvk8Y14suusiMY1Gly/OvJLiOASkT+P+U9X/FDKFa3dDvBkxRNZCppCkhbb0TR1gOx+VVMZVH3pl08bShfbnzzjttwAezxmkXCMVDaODo1q1bN+sEITuQQSNHjgy/7/Db0a0q8H0ckC6rGH3OtagMycT/FCq8NwM62JNXvG+9evUSaQgSuYd6w2Afr0uff/65RXzgOA5GrvR6T7QDZDzXiYJQKLhe72nqz51puUWUAGQxaYCeyO8jr8nPkijt/5G5rNvMWnbooMz+LEY8fXCEc0w+vvPOO6WmpxAVIVr/6KvhoGeAJetN07/LFq4/EBWmd+/e4XOga6wpxHtZeDvim8Pve/1BPjEb2T9nPfnytjV8h1mC/nw+uDlfbRXvlK6LkYfAuow4CXDeMsiWpQVYM5dnjerLfj8hTxngDbwfS3ew14CN/OHlmHyobJ0oZkgzr+dEjnIZ4LjcKVT8+VgnmahZvA+6VYcOHWzWIkTfgeNcvhP/5enLnnPki1/LG789iBBCiHLwm+Jt29ixY3/9rdNNC2Jb8+bNf/1NKUzdVTF+a2hL3X5TWu3/flNEf23ZsuWvvzUY4Xbrrbfa91euXGn78vBbw2jPu8MOO6SuiEzheQbkW6aJ/r7IPUOGDLG6Q93r1atX6qrIBL91On7985//bPLpgQcesGte3oulzCPjo8yZM+fXAw880NJk7bXXDmU36eRpFd0ol37s7dJvnaBfmzVr9uuoUaNSv7qK9P+qDOTLNttsE/4X59mQe4XM8uXLf91xxx0t7UkD3p/t3//+d+oOISoPdWqjjTayskUZW7ZsWeqTeLL++uubfLrjjjtSV/IH9fS1116zdEVOLlmyJKvyq2vXrqGcGDRokMlg/q+87Rv3Pf7447/WrFnz13XWWcfSkXbhhx9+SN1RXJAeyFnen/aQdEUWr1ixotxpKsSaoP+96aabWvlimzlzZuqTzOKyB72P/rnLfP9fttatW9s9PFNVoY5EN36zX79+9j/Upx49etg1r0u+L4uLL7441EVvvPFGu5aJZ60Mnp78vx8fddRRJjOR977xvq4zt2vX7teJEyfau0bbAmS350GjRo1MdufrvcQq+vTpY/lBfo4bNy4sx+Upp2JVvcCGeOihh/76888/r1ZP4sL999//a+3atX9dd911rS5Tj1955ZXUp6tkFu+U7zLh8qV+/fqpK/lD7nEhhCgnvzUewYQJEyzsxm+Kn10jpNezzz5rI/MyyW+Ks22/KeC2MRrt8MMPD0dLE+aTUWoVicPtv8l7iMxCeSBt4TcFykYZRrco5F/6NYfPStqc9HORG5jBC6Q965dFUX5UHB8BTL1hBLWXa2atFQPpZQa5Tpow45eZIKxLQLsC3Esb4MfM+GNd0OhG+ClGoHMfv/VbR8N+j7XAWN+AGcGsIQr+W1UBGceMdv6LNojn4j+LBdpQRt5/8cUXYXozMpw96SJEVUGf2HLLLVNnq8JLx5np06fbrGVmsOQb0vb66683uYWcJPpFukzOJIRgdhl5yimn2N71xdLgfuQMe2R7ly5dbI0vnpfrRJdABhWjPk8aIGdr1KgR6tLM1slm6ENRPDCjFqhvlCtAh6K/nw05gT710ksvWQjPBQsWmI6GjDjttNNCWbHnnnvavZnQ34DfjL4LISzdnnDFFVfY//g95alTy5YtC2UR6x7yPZ49l/j7RP+XiDrVqlUzGUx/A3lBeiNDwN+NMIFE5EHWEtkFWDuO73mas16/63sif5AH5Bt56fkoyg/lmchTRNnxeh4nsMfcc8894TrXlIGbbropnOXn5Pu9aD9cJhGdId9IagkhRDlwwX3XXXeZ4w8DX/PmzS3sQ3TdPXCHYHmgUSppc2jQOKeDi/KJMRiF56uvvrJwovx/eZUeDEj81qeffpq6IjJF1PlKXqFIRbco5EH6NfAyVh64N7qJ7EKIF+/obb311rZXulceZBgGAuoBMow64elZDEbMqIwH1rnC2cdaoQzwIC1IG9ICJ/Pdd98dvP766ybrMU7ccMMNq20MAsFQsXTp0uChhx6y9cC8vNKGYMTq3r27tRkVaZ9Kg/zDcMLG7xWbEYT3JY/cgLT99tub3JdMEJmCsoW+B8gLQkQiD+Jaxho1ahSceOKJBSErSE90ePZspLPLZDf4ZxLPM8Izk4ekgf9fSbDeDp8j27kXh4C3i4RSxph0ySWXmBwuNtkLPrCCdPX1ykmzYkwLkXno01PfcKwDdZFBtyX12zLByy+/bM4mZD4QOhJ5j8zkvynnvs8E6bLn5ptvNj2Gd8axWadOnbCtSb+3NJCnjveHy/vdbMDz46Tr3LmzyXTSlvwj1PSRRx5pgz4IbcgSHDwnsoN3mDlzZnDggQeaPs4gRD7ju8gcD+2az/cSgQ12oe0jX3xtOlFxqCPUCcpzIZbp0uQdy+S88MILdsxzU4dPP/30Et8hn+8VLZtRG2G+kHYkhBClQIPo0HCwhh8GVxoiFI5+/frZiLZ0p5t3SDNBtJPBMzD7Y6uttrLzDz/80Iy4KKvpjSPn0Q0wFgDv9eWXX4bP7R0NER8oC9FNZJZonaD+MFrUFWTWaOSap7vSv3Igt3766adQRtHRjpbn6HFS8HJFWeKd2R922GFmaMFp5++M0Yn1YzDEMEPmuOOOW80wnY6nIaPRmRHCd/gv1g/FgMTv8TmDVh599FH7XzbuYV9R/Hv8Jm1hscH7z5071xyeyATSN4nlVeQH6hXlilm9lCnOX3zxRZOZcS1jvE8hyQpmppCupGl0vaz0QXyVISpTWT+K36Zf0KlTp7ANcFwPjw7GIK8ZuMGMG3CDEevXMCuRGW5QrPLG2x/enzXP/ZrraUJUFeolayMDcuL+++8PjzMFswiJwICu57/Lms0ffPBBUL9+/eCNN96wco38YBZgNqAOXXbZZeH/Dx061PYVbWuia9xtscUWOZVN/uzsqf/IUga5sS4hfQzaHp4HWczsJtIc3fipp54ymUEaX3nllSZn+S7n2Fr4jN/kOrYfURiQpz7YUPK+4lCm2Ug/tkLF67XnMedEiqAeA3WadX05T9ct+SyXMiiKP++iRYvCZ8jXs0SR008IIUrAFT8HQ6krgDSSjz/+eMZDeq4JngfjBLM+3MiIAQDlNjo6uTQlyJVyFGDCknljz/3euAohfne2Uy+oZxgIAadKIYzYijsub1hMH2Wd8/bt21taR42fSQI56+UKWY4c55wQnH6dtBg8eLCNEGRGOTI6KptJn7I2x9sARkQSouiss84KB6PgQMTY4R2+ysh+/su/n9T8KgvyixnzpAPGQUbGVzYthUjH6zLGUy9TzDZX+coMyMe33nrLjpHF1N1M4r/H/xCWlb0795Dxnr/s3ViFfEbPIFwzs0wIYcWgD+5hwAd5jxF7+fLldn8xg/z1NPawhzB58uQwbYWoCu+++244e5T6SJnzEN6ZALlDlAtmk/lAA6I6MKuXaCKUY+q/s+OOO2ZF/vfv3z/8XWwau+22mx1XlGzMkC4vru8CzjpC6eHcc1nQrVs3S0sG1yGHfSMP2Hh/BlQgf5lBDeSzz14kTRjsCdH/EvmBgR7UR/ICvUhUDOpFHNpJr58uc+m70j+mvvL8zPB78sknQ5sM17MhIyuKyw7keiHJi8xquUIIkRDogEdHjnTt2tX2hOd54IEHLCwEwpwtel8m8UbZ9zR+wOjvsWPHWuNGo4JDEuOuU1qj16RJE/uMBolwIihN/Cb7QmgohSgkqBPUbzqPQD3s0KFDxjr9xYzLNBxb3uk+4YQT7Dhb8jSfUI4oN+zppOA8ZsQi11iXgD1pgEH3pJNOsnRg83SqqHz2MkpaMtjjn//8Z9CsWTNz0PEMrOcA/D7nFYXn+eyzz2y/zTbbpK4WFzhTeX/ScNttt7VrlUlLIUrDHRqUM2Z/YLisqCwQfwQ5S/0FnzWXSTyPkMP8F3s2dHCI5iHHrM/NcgFEDhkwYEB4HWgvmPkHfI5BW2Xgd1q0aJE6CoLnn39eaSOqDGWImV/oYLTpRxxxhF3HuJyJNp7fJww76y0Dv4ljiX65G7D5b0K6o8NxP3pcpsq2vwMyCWeXnxNOuLIsXrzYdCHXWXOJ67tARCbSCl0X2wah74cPH25GeJxFpKdvfM7m3yd9r776apPFOAX9fWbMmGGh9yH6XyI/MLuL+kHeeTuej3KXFPJVb0uCOog8ov55HSWvjz32WJt57c/apk0bm4jBQIlonSyE9+B5keMMGuH5CwVJLiGEKIGocs0oPxohGhNGihGODXC4ZUoJLw/RsKGEwmO9Ae+UYChg9gZwLR0UYF+EHMMRM/2A73LNNyHEqvrPRv1gNporbiiaouqQtowMZsY0aQw4wkjnfI4YzhbeKcG4y6hj77A6dHC8neFe2ho6PFWBNOZ3+R82wocyMhK4vsMOO9hxZf7H34d9dDR6sUA+0R5TZqNpEM1TIaqKhy4EzfTLHLNmzQrbnbp169o+k0QNT6yzyn8h88k/PmP7+eefbYmAWrVq2TpTzOzjczYMRuj43MNAI/89bxuiv1+MkEaef8zA8TYMI1tJ/R8hKgIOIh/sR51jIJaTCX3nzDPPDHr27BnKA2awEMqTY3QzrqNLvPPOO/b/nDPTL1Pwm9QfBjPz29QZnGWVneUH6O35kk3+nzj4eB/kANdYH5vZ0RC1n5QE3+MenH44X/1+1+lYY5HfZP1tkV/QiyjDlFvN9EsW1DHylg2QldRFJlu4LKTNpy/NMXKMjeN8yJ6SQGYgx7ERF5I+IqefEEKUgDcejCxBcaSxwcB36623hqE4aGRyaeTj/xyOGaFHnH8aRBRuYtS/9tprdh5tAOmkMPINI69/hlILXOc+30T+iObDmrZc4YYqxw0tSQcnuSuezLAgHaj3jCqDXOZBUsFQ54o9cswNd8jZpKWvy9xDDz3U3o33ZhYP7YfLauR51AEXrXcQPee4rM3h9zj3jhFtGTNF6Cgz8IO1TSqDd7KA2SfFyKhRo8woj2xg9r3LxkLq5Il4Eq3Df/vb32w/b968sD6LqvHRRx+ljrLblpNXtGc48fgfDMq+NitymAgdvrYgecu9Rx55pEXvQL7QTnBvNp8xjpAerjtssskmJnu5xnIHQlQVZnZ5+aK+uiMO3BlUHvheOjjz77jjDjumzKL3/etf/wrruOuEOB7ZKNuNGjWyz1zHqCzRtoNoD6NHj06dBcFFF11kz1DZ/0DGIcPQf6J6bK4grXkH3pE0ZBYQg9zoy3HN09dJf0/ym7Wwr7rqKruX8yFDhtg13offZKOvcu+994Z6Hr9d1XwRFYPoIqQ57SUz6dPzVsSDqDyKwnWcetWqVQtuv/12y2t3oBGOmH6s11H2vvG9Qul/ITN4fqcQBsfK6SeEECXgihyddOD473//+2qLabuiUVrDlU34bxqVgQMHhjP4cE6cfvrp9rl3WID7aHBw+qEY8xnKK3DdG0wh0qGceIeGxbNZb6IY8PpDhwJHOtB5zORo22IHxd2NIh72DEjnJIBDyGHdPgwQPkCjU6dOZtz190d+77PPPuFxptsWfo8yjWHm+uuvt2fDoMRxZfD2AwqhM5NrSMv3338/dRYEDRs2DGUG6SpEVaC+0u6y1atXz+ot+Nqyomr4oDcgfTONy3XysVevXmGbxvp+zBThOsYp8hcZz7pezCxihgrOvrZt21oIM5cpomz23XdfS0/apbfffjt1VYjKQehN171wJFEPK6OL0fdGFlA2ibSAox9dkPrPZxiw05fmcF3Njdd8f/PNNw/7YZWB3+X7/DY8/PDDZkwHrhH+0qNA+D0VJdpXRI4B/1uZdKsM1113XfhfOFaZDcQ5A5uj+DORvn4/z/3CCy/Yd/z6AQccYDM8mf1ICH7aYP+MpQiYnU3ecC45nVvIB8op/RhC4HpdAenf8SFd1lCfiMJAX5gBsvSVcfZRvwi5S34zuQFZwzX/fnQf7ZvmG58gAj/88EPqKH9ISgkhRAnQSWc6+fz588MGhnWRSiK94coW6f/DM+28887BnXfeGSqxhKC48MILQ2OCfwdjM/f7eiAYPXhHOh7ck6t3EIUNZYON8hNVpDt37mxr3+y///62+HzSoV4AIbe8brCmgxtfRdVx+QPRdE1CGlOHGIUKGBPoxFCn2DBCXHHFFUHfvn2tbHEvTkDkM3UuE05PfjO653+8Pp9yyim2p02gvagMX375ZfjbUTlRTCxcuNDStXbt2jagxtPD812IyoLxA3nAhuEAQxbrSWMw5pqoGu+++27qaFW7nmlo15D1fnzfffeZrCAvvc3zgR8YsjC6E97ZQ1tzD2XAdQ9RNj6iHhlcLAPTCh3ywtvEuIHej35E3//www8PbQDlJaoTUZe7dOkStG/f3gZO4hBDB2RGmYeeLInowAScUfy/y441kZ7uDMzi+/z3gw8+GHTv3t3OkS/nnHOOhRqtCq7XIrPg008/tT2/nwsZhtxEpybP2HAA8r+eDv4c0XOPcgSDBg0KWrVqZcdA5IaxY8faMfqcR8dgMAa/QXmYMmWK9YmR7RAd5CeySzSv3nvvveCbb76xfCE/yX9ROKTLIvC64n1d5OUtt9xikZSaNm1qeu76669v+YnNadKkSbYUCKT/ntdhKOm/8gkDt3g+ZC0DyMH1wnygnoMQQpQAhudrr73WGhEENiPjXJHPp9CGaMNGo8LsQ0YRAp8xe4NOiyvgDooqoaJohFB4OS+0RlLkF8qGKymUD8oRHRtGoVNW2KIhC5IOyqfXka233lr1JYNEZ/oR6tLJhNMr32BkoZ2gvJxxxhl2jWPqFk5zDBRe1wDDC8fUuWw4PXkW6rS3XRi6SWeuMbClokSfcaeddkodFQ+ko6+xttlmm6WursLzVIjK4sZddE43cGGw9VnnompEZV7UgJgponoCMpZ1XBkkQMgqDF7IjyeffNJm9SHz3QDt+c4x19wJKMoGByqQ7gyyEaIqvPXWW6ab1qxZ08pUtD6XB+o0UBbpo1PXqcs4kDh/9tlnbXCuQ31P1xtmzpxp15Af/H9F9ML053W5guH8mGOOsedDBjEL+YYbbrDPoCoDDXhO4PtRB1gu9HmcmLwz/8XahLvssoud857p7xM95x4GvqGjkx7cz4yiyZMnh2nEPXyHNHzqqafCcIOkFYNxiADFuqu0KenpLrIDZa1Hjx52TD4Q1tn7kpUtvyJ7pNcLHxjJOqaHHXaYDZxkBh9REKhbOG6Z0MByShMmTAjatGljdief9VcahZb3yGyeiQ15gnzKp4yQ008IIX4DQUxj47CW34IFC+z6pptuauEiGO0FZTU6uaCkho2RgGeddVb4Dqeddlo4i8OVIccVVldqhXCHNuXdj4844ggziNGxocNDuWMEZTZGxhcapAFp4aF4AMeUH+dTcUsCyB3kKTKIssXC7C6DkzBSk3eincCoQoeUY96LEdWULYxAgGGXGTxRp6dDemSqnFFuoxthankm0rsys/0+++wze0fepRjX9IvOJqlbt27qSIjMgnxk1gHGA+oqRmTpbBXH5ainHeHaAAN8LgYtkH+sPceo9fT+A3nscpljh3MPD5XJtiCJMJOeNCaNCKNF/8b12CQMIipkouXSy2mcyyqOeeQE71C/fv3U1dWJli9wJ5d/jzDM1HX6T9zLdep2v379gsWLF1vIyJKgzjvMCgS+y8Be9vxWedLW7/Fn5JwBBscee6ydo3firLr77rvtufic3+d6ZeD7LtdcjvkzZEufJy2Ad2RQqqfdueeeG8pU4Dk49s3hmIGHrNnoz0p7QP7zmX8POGZD58W2gk6Pc5D/ZmPQNesu+gxHkV0oqyeffHJY5libkrwR+cXrCfnjx+D1iOvISuoLUQ5ot59++mkLe06d5XPkBWGPX3zxxXDALHidzMSWKyifTLRwOcG78Z75Qk4/IYT4DRoCBDR7lEkWb6ZxQkgzEiUOhk3Chey66652PG/ePItHDyjy3tAxCs5hFheNrBCuiFAe6AjS+Xn00UfDzi3x1RmdymisYoD0YG0Ywkp43cH46vXFlVhROUhfZq1QtihjyCWfeZYUWJuAwSM+2o+ZojjNGUDi7Q3vzrqx1Ld0+E62yhnp7jz22GOpo/LD+rHkFx3tYpyNwih8h/WkhMgk3uYgH5AfLhsZgJMkGZkrXI6Sdh6enDSOi/6bzbYgCdDv8TZ1xowZ1i65Tpstp4P4XU6xZ4uWU+pWXMqsvwfPHO0vI295B677NfDy5ddwznMP8pqlENDnnn/+efuc3yBkHZEBPJxnur7Hff5bJaUZ5Zrr/G950tTlGs+IrofDj9nGXKc+EG70X//6l/2u/ze/W57fLon075EOlf2t8uJOHl92hf8j/CZrE3ob6e/Fe7NF9V76dszQY9YR9xDRhlCR7NcEzmCcEiNGjLC8d6cvET54d5FdyF/0bvKU+soanDiOyF+vRyJ/uLzyzWEpImQhAyKwL5F/PigHmYgTHnmJY72kZRKivxUneO5FixalzvKHeg5CCBGBRojp5EOHDrWGiwaJUXbgynEhKhU8N40mhnSUUJ6bdUsuvfTSsOHlWtR5SQNb2ZF9InkQPqxr165B7969baQqnUNmY11++eXWaSwG43a0bvuITzacUnT03JAkqg6dY++ck8Y+Uj8pUI94PzoxdEbvv/9+W7fJDUlugDjuuONsn0tw4jtRQ0h5ob0B3m/bbbe142ICgx7ykXzccsstU1eFyAyUK6C9YSYaehrXMGwlSUbmiqiMY7Cbc8ghh6SORJyhbjRo0MDqxo8//pi6KrIN6e6yykE3QG7hlEFexcEJwju4PoqOBhzTnx43bpy9D/dQvqIbsJ87d25w8cUXm6GateC4l+8jtwmficyh78219PTy3ykJvxddoyLlOtpP8TX8HOrJAw88kDpb9R8lPVdV+PDDD0MdMZvgbGP2JOlDOhIylUFo6e/C+/E56UI+u8OPZ+R+QgcyyJOoTuUpr/wW/0GoVJ7hrrvusln4RNBwZ6TIHqQ/G+03di020j/T5VhUDs+f119/PRg8eHDQsGFDy5czzzzT6hl4PuGkxxaJU4wwnkB9jju8v8O7MnM7FzKxLOT0E0KI30BZAIQzM5qizjCU5MoYRnMJz42yiuGckIQot7zTjTfeaKEoHDo03tgy4jnfjZAoDAYOHBhsvvnmYdhByk6zZs0s9AKdKhQYyo0rc8UA6zoA702nGaeoyBwe0iOKy6a4Q0eH2dbeCT3hhBPMMEQoTYwC1CEMRIR/Yt2YXBM1TKTnQXlwecDI5qTkWUUgvCnvTjoQBlmIbID8cBmCDophpBjrW1VBxrmu+9xzz9keiOKRLR1Y+ZRb6tSpE86qHzNmTOqqyAWkORt90CFDhli7iNzCuRKXgaXR57zkkktM3iIbkBEXXXSRhRDEsUAfie3mm2+2GStbbLGFhYikD8U7A3sG3OIQYnafyxjSiEFfFYXvrb/++uX+LvnAf/IMxx9/fPhuhMtjhhrvhrMrW305ntPTIpPylef1Z+Z3XZaji9WqVcuisXhIZPByCa7n4oBlEKfLCvZffPGFheHjN9GN/TulwbuRt34fA/wI9+lkK13FKkhf0p7lE/ycmWNryjeRXUh/NmyQp556qs3qo26wRqpDXlHHcLpjg6SNYIYuRPPP5UZ5nPCFDu+MXHKZmC/k9BNCiN9wJQ2hPGXKlLDBYZQ1M/1cYfRGrVDguf3ZaUjZiC3fp08fayz57KijjrL3YfQMa2f5DAWUfn8v/w2RTMhfL9Pg+f3yyy9b2BfWQWAkkitYhH8h7jpKWzGC0urheXDKUIfKE/ZFlJ/PP/887GTHnfSOCYYvjAIYP1iQnPKDTOZdGZUKfM4s2mi9LI30dsfPK7L598AdVpz781QEZpHzfba99947dTW5RA1k5BcLzpN2jAwXhQEhZzHMej4lCQy+QIi4JL5ftqHOottjJKZd5xhZfPDBB2fFEONyFqLHIjvgxGBdc5fThN2L1hPVmdyAXjF8+HA7Jk9wrsSl/Eef87LLLrNBj8hdrrPGFFFQKGNESTj88MOD888/30LJLly40OQLZQ+ZwmwV9EEGSyJbKHtRGYOTCbju5ZL/YIte87LMdxnswW/7d0uC9OZ/6cch51g3kNCXPBvXzz777ODWW2814zP9fvaZyht+h3WpiQzDMxP+nOcBf59M4OkEpMttt91mx1wrKUx9um7N+5OHvD+6Oborgw9ZVxs8n8rzzCWFH3Qyla6ibHz2LPlVVt0QmYc0974jxwyEYIABNlPW6qMPTD3D3uj1ioHlOAOxLeGk5b6ok97h9/w76fYBlwFV2bINss//Z7vttrP3YaOtyCeZ13SFECKGuHJIOI+oQRPF3z/LRWNRUUprxFBud999d3v2Tz75xEYucrzVVluFowV9BiDvWYjvJjIH+YsSRRlAIaGzSucVpQvli2uUAzpEnBPOE7iWZNLfz88J10JakW4HHHDAauEmvDMrqgZGDdI4HzPdMg0dE96FDaMyM/qob5QfQg516tTJypY7B/mM79C+cMxn0S3beIcK0jtV5QHjHh063jcuI/mrgg+UAWZsAnKAsDWkgcgvOGFZ16tnz562VlHS4N0of5S56HqSomJQd11OY7j3Oi3iDW2QDz6h/SQqA22U62rK5+xDvxIDLo4fcB0njuBAYEDkiSeeaLKCd4lulDH2vDNli2hADOAiTN3EiRNTv1I6pel4/JaX1c0228zu4/8Jlwll9T3Qxwgtyowz+nZEmgB+76yzzrL1pHnmbMFzsiwEkO/+HjwX71HaO1cW0p70dmcPYQKj/4GuHX3fq666ymZdcg/p2L59e8tjvs8zOpl+TpF5vO55fSAPlW/ZI31gKHWL+s269T169Ai22WYbkzkM+HBZRZ2iDaaPdNNNN9kMY2bUYltBRkWdgRDNP5cdccXlCeXTbUekGbbYfCKnnxBC/IYLaZ+GjgJLI3TggQeuphDGBZ6Z2SWAcsRIxenTp1sjSwcFmGlSmVkeIp6Q15RpFprH2UdYBcqDl2+MYFxjT/lHYUH5KgZlmnf0zj3KGeGh/L1x2pAWfC4yh5fHJMyW4j0oI5QfZs36NYxGgwYNsneNGkEoS7QtGCvzUa6i/0n4qopC54X35V0YyZh0op1T3tlHpzJCPPqZyA8+yj9qCEoSyEjkCcbU+fPnp66K8kIdRQY/8sgjYfkgvJRmByQD2lZCLLqTicGbHLtuK7IPdYl8YB0noI0saRZHXEBeMJPshx9+CP7xj3+UuDEAA12KPQNrmzRpkrEyR6hKfos0xWHnhnaeK9rG0S4g14jwc+SRR5qzD2M7z1WvXr1gwoQJtq5gNh2wPBcz3/gPnodnRObyDJxnA5aeAH6ftAL+z//T35dBeIQPvPLKK+06aXr00UfbzCTuFfEEecNMXC9fvlZcEvW/fEP9dl566SXr19atW9eWp2B90G+++cbu8frFIDWWtGCpJGTjOeecYzYnl2cO50mug7zfDjvskDrLP+qpCiFEChofYvajSKBQoLS6g6zQiTakzgUXXGCNs3/297//3UaduDLM+zFCXiQfyjXhaXAy0AlEMcZAyjnOB5zdzPCj3FMPKBuuoPmWRPy92PPOdKyHDh0aKqKMSKtfv76lBZ8Dx6LqeHomYaYY5cc7MBi9XMZyzhoiQIfIZ1/zOc71aLnKJdFQSBiIKgrf4bmRI/6uScYNCxizCCGJ7CTP9913X7su8su4ceMsjyiTOHOSBm005Y32iTCmomJQNmhnfJYkMuvYY48NQzBnA9ctRPYhf9m8LVq+fLntqS8iN6ALMNMLJxmQF/nQbTIBOhp9ZcpUtWrVgmuvvbbEDUcz8K7cn8lBBDjsmDWJ3GLmKhFH6KfxP+iNpPeAAQPsPgb4+sw+nh3Zg8MSRwghVv072ZJJPAvGbeob/8OgMG+P+U/fMgX/x6xt0h1dFGcrRP8PcPgddNBB5nwgXficAdCE/+Uezrnu8MwiHlAGKPtAG+5OP5F5kD8MciCcKnIIR9+nn35qnyFbqIM4+vr27Wt17p133rGIG9hPoLR65YMDIJPyoVBAtnibwPHHH39sx/kinq2xEEJkCBoj32h0CMtGA4cSQWxqDP5xBQWchpcRgMxI+Oijj4IrrrjCRr35OxPeIomNbRxBiS0J8qk00o0a0Q4MChX5y8w+Qp8wshEFiw1FjVGhjNri+pZbbmn/7/XAy4cfFwt0IpnlR1pwzPoc7D09hIgSLRfUKxx8GD3oBGEQuu++++wz6hGjHZHBHFNvWf+A+urf99/KpjymXUMuEL6X/+KZ99prr9Sn5efHH3+0Z+f7tWvXTl1NLp4nyAIcTMC7s/apyC/UKTf4kD9JnHnq7TB7ZjGJ8hGVqRijaNc5pl3nOrNTkjDoRKwaiMKgGq8rOEGQByJ3MPuK9Ad3iMUR2nbgXcojH6L3+z66pbOmz102PfHEE/bb6IsM3MS5Rbg8+nMYk9EpMSRzL+UfGOi7dOlSWzvL5V+24RlxjvIu6IWE7i/pvTIF/8fgOncyMigGvdbTk3cmpD4zkdB5OafPS/kkzTy/wI+5x7+/pk3kH7d1YKNDzjOAh/oStaPkouwnGRzkLL9Ro0aN4Oabb7Z+n8sZ6htpzYADZBOhPhkIwYw+hzoH1BnyIrqB21aSDPKa90de51t3l9NPCFHUuBLnSirxqBHOHBMygoYtWyOBsw2dFZ5/8ODBtrg3StI111xj7wYou3wuCgM6L05UMfL8KgmUJld+ASWM84EDB1oIk/3339/WeSCv+T3KBGsZEMZz5MiRZiQBZrf6SNCkK2El4e/MSFoWmfY0pYPolJUPojihTJRWLugEUY6oVxjALr74YhsJzzWMEdTJqPGhrN/KBPwvnTBCQQHt3G677RbUqVPHzivC999/b3uet1atWnacdJARvK+/+yabbBJsvfXWdixyR3r7REeado3y3bhx49TVZOGGA97d100Sa8ZlKul2/fXXm/zj/OCDDw7b+KgMFvGEPEUXZh008hN5wIA38HwW2YP6hZ7z1VdfhfKZwbMcR43wcYSylWvc5kAkAfpvQLkmLZlFg5Hd4V4cHqeffnrw5ZdfWn8f3Y464PIvF7A+9c4772zHPKs/YzbqH+/EjFL2PvCV+o+zk7XF6M8S0YZr3IO8J408xGBJ5CqdRGYgb5l5hq2DekF5v+yyy6yN55xygYPK5ZEoP9TZN954w/qs1Cnqhtdj9sccc4zZSUhnZhSjnyJzyBMgzdPrU2n1K8n1DjlIurCnPNIm5hNpukII8RusPYDjD8GMEo0CgYKIwGaLGzTGNKY0wowOPO2006zhAWZ2AfdMnjzZjkXhQBnEOcvI9LLwzg75SpnlnNCUhA3EWfX444/bNcoy5btjx47BlClTrBPZsmVLU469A+QjslDWvJxQfopFYUaRxQH+z3/+0855b8JY0HnkM3UcskNSFX7krtcj5CwLnBMW0t+XkEuOd6ayCc9AGaYT3KdPH7uGzLjnnntKNYKUBd/lXXh2lx1Jh/clHDadYGTqtttua+kg2ZA7SGs2yrPDrFVkN+Wwe/fuOalPuQZnJmWOd1u8eHHqqigvL774ohmp3AjYo0eP1CerypRIBt6uUk98zS9vh0X2oG1EJjOY0A2/LCcASZTH2Qabg8slwlMywwanWlRXI72J0oDRnXtvuummYIsttrC8IA9c18wV1DNfw5E893zPRf3j/Vk7mwFs2DdcP6D/y1p+RGcgPZgRKZIBTlzKGAObicpFXhPxgRCTXI/aMbJBkvUG0g5Zwzv6e2JTeuWVVyyd6c9iQwJCEBNJDNaU5lz3zc+TDmGPKY+864IFC1JX84M0ISGE+A0EMgqrd1gQ0syUiivRxpRjOgY04rzXu+++a9dpoDXTr7BAocI4dfXVV1tnr3fv3sGMGTNs1GR0e+aZZ4Jhw4YFt99+u43sJFQno94Y7UnHmzx3RYPQJzj7CH3hMdY9RAMKHfe5U4BjiJafYoC6gNGYDiPpQKebziJ1hs9cmRWiPETlKnWV9Q4YOen1i5CYlDPqe2WcbhWF/2DztUzopDVt2tRm+uG4qgw8fzHVC9KJBet5b+Ql8haZUWyyMp+Q1pQ5rzPUs+nTp4d1CaN/Essk5Ywyx/trTb+Kc8kll4QDFRhQhaHKywllR8Qf8pHIFdQTtiVLlqQ+EdkGvQaZ/PXXX4f6xOabb271zfvUovyQbt7W0cahrzFwgbUqmeHGwCPKO7PcTzrpJGv7fPCVyzXv1+WSG264wfY8O8+HYyYb8pXfJOwge8oXs/sY2EwUBq6RHixrQVlE9oOnqevgIr6QxzhwvawPGTLE9nDrrbdaaFvyOVu6IKFlPeJHUqHPSuQjlqwgLQnvSZ8xvb9KGpMfvonVl91huQHkDrI43zP9/vRbBimHhBAihSuGKBSExOQ4jiDa05+dsG6MhI+KfWYy+aL3In9E84s1igiX4B2mksqg5yGfsXmnmz0zAjbaaKOgX79+wRlnnGH3ibIhPS+66CILAYYSi3JLJztbnYZi580337S1Rim7zEROyjpVjz32mK3z5vXyqquuCo0OHTp0CCZOnGjHzz33nIX4hNLqeCbhPzAeMbAFOUG5pnwzUrwy///Xv/41WLhwoa31gBGqGKAjx2zpZ5991uQsDtT0GUPZzkexOkRnQIcBd6y78TNpePsO1GXOKW/e9os/Qp1k0IXPAMPZh+Me/d7rq+ptMqBOvP/+++b4o07suOOOdq78zR3RdCYPOMfxEsdoOXGD9Pb+CmXey30uyz51kFmJQB80W20x78ZAVgbG+vt520j9Z8Am67ai7+by/UV+oDwQ5ejMM880nZB6gA2FWX/MOMYmQjkorT/P94HB0D5IAScNZYow0ej8DKZ+7733rHx7vcKJU+yyzeWMKB0ve+5IzRdy+gkhRARvzDH609gnqTGj88XaUigu3kFAwcG5pEY7v3hT7Plwyy23mLOATlRpzTTXyUO+4yM6Cblw+eWX2548dmVXlA1pifPJjcYPP/xwcNhhh9n1aEdAZIZ58+ZZp4z0rVevXjB37tzUJ/GE96Ce4cjk3XAQUTcZOOIhjwjPxKxd6qTXa+porgz2RxxxRPDoo4/aczIyGgelG0oq+gybbrppsGjRomDjjTcOvvvuu9TVZIOMpYPvezr8USOClwGRXaL1hjyoVq2ayWxCeDGrPal5QBgrogDwfhihGDTAMeVRTr+SoawQBYEZ/LTjDMhgLWPKi9dX1dv4Qx6yuT6MvsZgAGb70RZLf8s+zLhGJpEP9DPRdZBLkk+5IV2O5UOu0S57FBnqXDb/n/dj4FWvXr3smP4E/WZfL9vhmaLnIrncdddd5vhD5lD+kP0ug5gZuv3229u+fv36VjZZ65E9/TEGBDEok34NM/mQX+lwL7/L/fTriLq05557pj4tTvIhZ+IGfX7vN7Imd770ETn9hBAigjdee++9d6Kcfi7qx4wZE3Tr1s3OUYbYmGWDsVrkn6gChXOWGUGswZfeaUFB3W+//exewswRpo8Zm8zc8Xvp7Hg+i7JBwccpQ5oV0+ylfIExDocRMCI4CenNmgcDBgwIO5lA5xGnJko+jjLW42KWCXU1l8YwQtGw3gudYP7/yy+/tHIelTcVgTzDocmMP36rGCDMDTICMBbgZBK5xfUY5DTllrbO2zknqe0dDk3WYOa9MTax5rQoHWQds/w6depk55SVWbNm2WhrjC+VlX2icCFP69atG8yfP98cu4RBZK98zj4MlCOSDPWsZ8+etl6wy2fvk4jiI5Ny1tv56PIUGNEBvRbjOuUN0Ll9UJDKX7Jhdh9OOPLebVyOO//SoUx62WTPfXyffpmXVy9vLseA/tzOO+9sa6O3bt3arglRFi5/KFeUxXzJI0lBIYQogbjPPEmHxgZF+ZBDDgl22WUXu+ZG53feecfORf5whRIl0zdXLCdMmBA8/fTTq22jRo2y9ftYx+CYY44xRRRHdVQ5Jc/V2SkfZ599dqjgKyRq9sFp5J20JKy9Qyhd1k0FjA9AJ5JZ1B7+xdeA8FF/4GUu2xx//PFhZ+Pwww+3gQKkvXduKwq/VWzy5aWXXrI9+croXjck5CoPxe+DsqhXQBlGr0GPiTrbk4YbotxZhQwRpUMaYfC999577Zx0Y8Yfod9cHldW9onCw2UxeYqRn/znGFmtfM4Nzz//fNj/wNHuuoH6IMVNJusfv+X1GnDoM3iQjf4E5+gBHFPuomu3iuTi5YG8RvYQfYRBCEQ3adCggX1OufDyA95GAN9zexhEdXoGCWEfYAARDmbCM+JYxOGHrIveK0RJ1KlTx8oY5S2f8kiSUAghfoOGm0YfYzQkMeSlK0YsyAt+TqgC3t2Vl6QazuJEtOy5Iloa6YqEH3M9aWU401DWL7744uCVV16x8t+4cWNbh01kF8poixYtrHxSvt2hEidcZt5www1WZryu0cnEsOxOtnR5ioMesl0/6ZDC7bffHjz11FP2rFy777777HplOh98n83Dk7oBvRiIzuxjnRBvP8lDNzpDacciM5DeG2ywgZVfNgx9TvQ4SSAjGdTjuK4mSob0Yc1SwnpSRjj39Tc59k3EG89HnOCen+gV1BeWM8AR5e2gyC7MhHdYXkAUH7mUqa5/Oa7PRvUyURxE+zI4fGvVqmU6+ujRo212P846IpMwWBpnIAN72Rg4zUaUlr///e/BCSecYH0lwqjTftDPYQIAfbwDDjjABpRE4X9VzsSaoJ/sdoA333zT9vmg4j1+IYRIKHQUPT43jTkjhSEpxgE6v7wXa8OgEKGs4Nw89dRTrUHinHtkqBRJx+s0Cj1OcO8otmvXzvYiu5D+bdu2NZmD3GVRfnckudwtdJhhdM0115jTGLnKxsLxLPhOR5IZuoSD5DrwnrwfG++d7c4i/zt8+PDgrLPOsvLN/3EOlf1vvkdn2OtPsTj9CP87c+ZMO6Z9ZBY2acAxe5cftJ9+HL0uRFWgzlH3KFPIEdotr4Pij1AvBw8ebDKaOonDtE2bNvYZ7YxIBtQJ3zxfGcBFfwZHIMZfb39F9iDtiRhDe8fsqk022ST1iSgmqIdC5BrXjdiQ914OXUein4IzkCgnzPgnKkt0u+mmm4I777wzGDRoUNCxY0frtyHL2Pg9/03fhKgIPtDX9fd8IU1ICCF+g5jgCGTWtkM54HjYsGH2WVIaeW9wUIAuvPBC6xhzzv7rr78OnYK8vxBJhvoO1HEMFm4YvPzyy8MRWSJ7IFNZf9IVYEKn+Hoc66+/vl0rdBgdSnlBrvLcnDMilFlIdCLbt28ftituiOS9fV24bLcrLGhPWE9/vqOPPtoGe1S208Hv8Mw//vijHQNhQosBZg25zGjVqpXtPf/c8Qe+B9ZiZU0pIaoKxifKGW0VcoS1QUXpMMOPQRfIOmRU//79LQ2pw+i/1N1sy1+RW3wAypw5c6wfg6GtYcOGdk1kF/Qb5BMzrXfaaafUVVFMRHUfIQqRqEMwitu+/Bg55uU5ej/XVM5FRWHJD8oRZQtbR76Q008IUfTQiOPowqBy0EEHmWEA4Uzc7qTgDj5XbHbbbbfgqKOOsuu8K3v/TOQeVyxliMoN1HecF4zuwxhI3SBEox+L7LPvvvuaMozsee2110z+xCXtWeOBUaHAMzOI4pJLLrFj6rB3DDFE0q5wjffzTmO26/k999xjZZv/4n8JbTdixIgqhT/0d2LWEfAObmhNOuPHjw/bR58xBJ988kkwefLk1fLziSeeCJo2bRp06dLFZprMmzcv9YkQlYOyx3p07NkIEZRtGRJnhg4dGspZBjswoIdZf8Uir4oN+jDwj3/8w/acN2nSxPLfB96IzJGenoTPA9KaNbBE8aH2SOQTL3/Ipqh84vqa5D86FW0Gm+v5fM/bFZVtURVoE70M5dPGIQuvEKKoQRlwYcxME0Jf0uhj/J8+fbpdTwI0NFFliHdkVkrPnj0tDNIWW2xh10X+kYKZfRiVfOWVV4bH++yzjy3MvabOgagaURnEnvXvfMABjj8nn/lQ2n/TAeSz6667Lhg4cKBdo66edtppZmxkPdj0TiJ7l718xjFOIL8PKH9VxZ+ZPYNVTjrpJPsPnNudO3c2ByXnpHVl8Xf66quvbM/vJXUNtSi0k1OnTg3zLBoCuG7dusGhhx4aGpvJ22OPPdbWEeF+8sPzRoiqUKNGDStTbKxP4+VRrMLrGbOsGU3NObPGr7/+eksr9HuXYaqTycDz0Y22Tz/9tJ0Dgxp99pnnu8gMpKfrLewvuuii8LhTp052LIQQuQS5lL759TXh99Om+Obfk74gqgJrQaKfUJ7oG+YLOf2EEEWNN+rsMcgimAnxyahgYBR/UuAd2VBgeE8cfazxxALGGgEtiokPPvgguOWWW8L6f+mll1r991F+IrN4p8llEJDWGOaQPchb1sFDLvm97HPd2Srrv1lrkMXcfUYfXHDBBcGtt95qBnkoqfxwL6FMAafbyy+/HH4fGGBSVTxNH330UVuzwp+9ZcuWwQMPPGDPxeb3VQXvvECSnX6kIUbMyy67LHUlsLwmZByfMeORsssxIc3uvvvuoHnz5sHy5cstfzfeeOPg/vvvD9dzEKIqMDMaKFvfffedHYvfQSYhm/r16xfKv1NOOcXWGINMyD5RmNCuoj+8//77lvd77LFH0KJFC2tbpdNlB9dbWNP4o48+suP69etbCHEhhIgT6Ae+Rc/9WIjK0rhxY9Pb0U3yWZakCQkhRASMeIzcB4QzMzrcgJAUeC86whhIHCk1opgYOXKklXnqNg4ZZvkRmqgqM6FE6ZQmX5hpjPOEWRizZ8+2ayXJ21zLYP6PjfJAeM4zzjjDjMfM+OJZkZ/M7mKtKL/XSS9DXs487BUOTh8l7zI4Kosry6hRo8zgxv8xw49Q1RMnTjTjHBvXS8uH8uDvwbO7A5ERjEmF93MHJ+nZoUOHoE+fPqlPV+kKDB6YO3eu7Rk84w4/QjGOGzfOyne0bAhRWdzIjnzBueH1UfwOYT0ZnAEMxHD5TFqxieSBjD7rrLOC++67z+oG+X3bbbcpv3PADz/8EDz77LPBzz//bOfRATJCCCFEsYPNAN2EfjNrDucLOf2EECKFG1779u1rezqPGE3vuOMOO08aGgFbOLiBQoaK3HDXXXeFs5QwEIE7RkTuqF69ujlSSHfkL+uluUPJt1wS/U8cOMzq4xkpLzhzeDaUd0J6YlDGARb9jiv2UWM8n/HdZs2a2TlOxAkTJtj7ci/n6d+pKMwoI6wkv8HWsWPHYOzYseF/sIE/Z2Xx3/ctyTPEyUve75VXXgmuueaa4KmnnjKZgZxwXWHrrbe28J9sPuuP2aCsqcjoTqhqmgvhEK4SMLYDZYsyJ4JgxowZwamnnmrH1FHC1lOHgXRSPUweyGEG3wwZMsQGD1EXaJsJ1x6V0yLzkNa0iwzWYlCMz/JDnxFCiLhSkq7gOoT0CFFRiDxAHxx9BFtAvpDFVwghUnhjzuwFwrZxjtHgzDPPtPW/WEdFBhYh4ke03o4YMSJYtmyZGYlYw7NJkyZ2XQp9biFPyIOTTz45dHwxky4dnxWXbdnrxirWg0LmE56R9aH4f4xaKOyUFQzuhHkEn33juEKfXo5oR1jrxhV/Zpr6MY4k3s3bm7JwI6bfx75bt25Br1697Pn5DQxvzHjBCeXOvqrC87Hxe4sWLUpdDcLQeUnE85JZe2effbYdO6TDggULbDYleQmU5fbt2wc33nhjsNVWWyXaISpyC/WeMrfffvtZuYq2VcVqZEceIZuZZTR69OigadOmoYwixDFyEfnoacVnjqediC/IW2bg33777aGOwAAizp1MtX/ijyxZssRms9NOIoMuvPBCu+76jBBCCFHsoId4fzKf+rq0ISGE+I30TsrVV18dtG3b1o4xEOD0w5hHR3NNhlkhRGERNZAyawvDKY4c1v9BIZORIrd4ehP2ok6dOuY88ZmWHCNnuYeQq9zD9WwbavnP8847zxw3lBHgGZD3hIw755xzghdeeCHYaKON7LOKwDsQNhonGe/B2nv8thslucZ5WaMAo/dz37333htssMEGweOPP26/j7EN5x/XfY3BbMGzFBPR9+X4jTfeMKfCtGnTws8wODODkxkPSQ57KnKP13tkJA4OyhyyCKj7xQrv/tJLL9nafchQ2vRDDjnE1jHFURptM7Ldfojs4o49eO655ywiC7M5fSDMSSedZH00kX2QP1dddVUwf/580zsaNGgQHHPMMalPVdeEEEIIoL10Hf7DDz+0fT6Q008IISK4AQ/jyqRJk4K9997bzhHYdHKYJeSdTCFEvMBA8eabb5qDB4dSy5Yt7Tr1XoaK3OHpjfMKxxWj830E3JQpU2xGC3I2PV9cPlcEvpP+PQyIOPPYUxZw6NWuXdtm8Pm9fMYzrLfeerZuDSEceV7uL4uSypHPODnxxBPD36dNwclI+Ego6Xv+7KQNz8KsFgzcPCtOJsqwG0NJw2HDhlkIQP7P0y8bZOt3C5WoM3bAgAEWhnbWrFlhmb344ovN4OzpUpbzVojKQH0mZCx7ZAcOZ79erHz77bcml5cuXWp1j/V5x4wZY/KPDT2+2GRVUvH2+pZbbgmOOuooG5hDPeA6M7FZf93PlefZZfr06baGMPULnQQ9hnSnPVTaCyGEEKtAR99xxx3t2Pvr+UBOPyGEKAGENJ0YHH8YoDkGDK4333yzHQsh4oE7ajBI/PLLL3aMM4c129xwj9OlJMeLyDwY5xzSHIUYpxXHyF7WZ2rYsGHw6aefpu5aHfKxvMal9Hs55v8J13zppZfazD0MiF4O+JznwEHcqlWr4Ouvvw5at24dlo/KhG3EOAbMIOf7/gy0JTieKYuEOR0/frzdl/7MkydPDk444YSgZs2awd13323PjsMPmN3CYBTW9APaKn9WNpEZyA9moWLgJLQZ5ZQQsPfdd1/wz3/+02YduWwRItNQ/nbbbTer05Q9D4XssqWYIC2Qf6zfxqwv0oNZ1DjecbizUR/zaWARaybaxq0J2jnWUGVgTjTE9N///ne7Rj1gI+/V7mUXHH5fffWV1Tsc7d27d7frPtiF60IIIYRYFWUKm0I+kdNPCCF+I91AikGWDgwGYUZUM7MCgU0n9fLLLw/69+9v90U7rX7sI02jmxAif7ijhjrOiHBghPK1115rI8ep79RTn92lOpt7evfubWHZnI8++siM3A8++GA46AIqkzd8n3x1I/BZZ51lITBxuqGMs7n8pyxwzEw6DOvVq1df7XpVYBYexmpCQLphjGfiGmE5O3fubMZqQtThTGJtQZ7z4IMPNscezmsMmzzv9ttvH0ycONHKcbt27VYr45mGNPfndWcj/0O7mER4Vy9zHONoxQHMeo9e/kh/HMI9e/a0c/QFlyNCZBLKIOULObDZZpvZtZdfftlmrUdlY1Jxue17nOus50aYZH//hx56yNoLh3qILM2GPBRVg0Er6aTnMdDWvPXWWyZ7yceFCxcGX375pR2zhiN14LbbbrPvZKJ9FqXj7T8DYT2iAHUMp6unvd/DuRBCCCGCYJdddgkHFqPHeD8xl/1FtcpCCBGBjktJHUcM0Izy5zMMDjj+zj///NU6Ov49dXiEKDxQrqirGCkIxwc4SqjLzPij/uJQkfEo95AvpHnXrl2DQYMGWb6gIGPMIyQmBl5CuDnkJZs783zz6yVBSCp+C+M5awG57GYfzW/+C0caswegrN+sLBgycSr6yD9mMfAstC2801NPPWVrFPkMRIzXPAPPyfH9998fzJs3L9h///3te+6Y5BjS36kqlPbumfr9QgQZQDkhPY888sjg9NNPt/IDpAfhYD/44INQVnjeJDlNRP6I6pS0VS4vhgwZkrqabHw2I7IPGCByzz332DEyFJndsWPHcOADaaP6WLgQ0huibQt5TNvH3tsxQikz4//555+3c+C7nLOWI7PMKBPIauV1dnEZ9Mgjj5hOgkOW/GvWrJldh6icEkIIIYoddBN0U/a0kZ999lnqk9yi1lkIIcoBM/6eeOIJm1FBRwdjNEZhHH/Lly8Pli1blrpzdaKd2kInTs8qREWgbKNwscdARDi+Cy64IKzLzPjDqL+m9dpEdiBvMPihEJ966qnBnXfeGRp4MQAysrxHjx42yh/IMzacZH7MhjHKNwfZTFjmAw880GYSuqPNjYQu9zAkf//992ZodCMz8B9+bybhfx577LHg8MMPNwOaO/bAyyrwGc/Qq1ev4Mknn7T2htlldCK4h3Rj74ZuyPTz8nv+m26QTQqezulQ1tq2bWvtPiA3cK5icL7++uutrHqa8Bscy+gpsgX1zp0btFPIhOHDhweLFy+2z0srx0mB9+OdWb+N9oBzZCCDI2666abUXauI1k1RWJBvbJRn8snbatqxd99910Jg48wj/wi/zZ7w18x4P/fcc62NbtGihd0PlAnJ3ezisoWZtSNHjgzrFoOPdthhBzsGrqveCSGEEL9Tp04d26P3EKHA29Rc8qff/jTZvQQhhMggiExCr7H2Esd0cLbYYougW7duwWWXXWYdU7/P93HpCPmzCpFU3NBEWWfr27dvcMcdd5gBqXHjxjZ63GcLiNxB+mPQBpx3ON2YXYXzLx1mAtatWzd1VjL8BvnMqPShQ4faNc9XjIzkPc4/7mPG3TXXXBPKbsfLSi5gZiEDSFasWGH/CzidMKjhsIyGrXNcVpN23sZkWn6TTsDvenpg6Dv++OPtmDbviiuusHviSkntHuG7GRjgzmTKSps2bYKxY8f+oUyQ/lzz38hluRHFQbSMUh433XRTG8xAOSO8IQMlSirHSYL3xsHDuqY4PamTOPxKaiNEPKAtZsY0ziRCJ2MMo0wjQ70sowvQ3hPumhBZtOPc4+U9fS8yj6cta/exnp/rKEQsIFQ5nzvKAyGEEGIVtI9XXXVV2KfE7nTDDTeYzSOXeoucfkIIUQkYccpMP0SoC24gdOCVV15pRhk3xroBkI4S16KzSAoJ3oFndOM7594YRY+FiDtumF+0aFGw9dZbh+uUYXSKhisS+QE5iWEXmYNhl/WaMPJyznWXtw4yFYMw+Gfc63KLPfegcLNnPRpm9hHalVkEXh7iSjbls/+2pxFrD55wwgl2nASnH+/FO3q7x4zQKVOmhOWGjbb+tNNOs7KTntacp5OtvBCC8sYs4fPOO8/KLu3Viy++aJ9RJ9PLZxLwd2K/ySab2GwvQnreeOONGqRTgNB+0x6n5423v2+//XYwevRoC2ON4wgou+7MxRm44YYbWtlmth8hPgnrmWsjmfgdZhWji7me1aFDB8s/QA6RJ8oXIYQQYnWIMkSEHvQXbA8MVqO9zKXtQUNRhRCiEhBO6Omnn7bF5OngIrjpkLJW1GabbWazhggDxmcIecdD1hUKPBvPDjRAbvjEGXLRRRfZ2mfqZIukQZnGsIQBkTCfXu4xpIr8Q36wbhUGQJRlZlYTatFn6QHGQ+Ae5Cy4DMOp5+fc36BBg+Dkk08Onn322WDatGnBkiVLguuuu84cfsyyy5XSnQ2yLZ+TLvtJP8oMIy9r165t7TbX2A4++ODgjTfeCB1+QuQb6iNrStaqVcvK7WuvvWYOFK+nbpRPEv5u7NFNmXGL4xOnEo4kkX+8HwGUS9plriFHCdvJYJEuXbrYUgm0x4x8R7ZSXslDHH7I31atWgVTp04Nfvzxx2DSpEnBvvvua2GV+U1IentUiKB34eAjn8hP6h3RETjmM+WJEEIIUTLMiMfO4Dp7PtBMPyGEqASITh+1SmeVNSZmz55tnVwfqQoI+H/84x82WpXrCH0+y+fo5KjY984a1wixw9pmdNB95hPPe+aZZ9pMByGSCCE9qb9AfWWRZUL2ivyBHI064nDqkTfIKPJn1qxZwdy5c02mMlPAB15wzszNatWqmZwlXwnHzOwtZDXyLv23RfnwdIvjTD/at5IMk5QbQqpijMYZTJtOOeNdCfHJIACueXvNMQN3or9VUjdKRlCRTSiHrGvHiGHqIeWV8rvffvsVTNkrrc5VhnSZ7b9N/eW66lt+8fwgn2h3OcdJRIhqBuwwkIJ8wsFXkrxs3769yVrKbzSfgTzme8hd5XV+uOeee2yWH2lP/h155JG2th86FXnOdeWLEEIIUTI+6YPJItid0JWwWeQKOf2EECJD4PwjXNzAgQPt2DtIdIww0jRv3jw4++yzrcOUb7755ptgxowZNsUcAzrhkjB2pnfMOX/88cfNcC5EknCDIeV97733tlHnnDMC/ZJLLkndJfKBG3nJI+RSFGQT8jQK93OfD8Lgu/4bLoN9IEZ0wEVJvy9KxtMzKU4/2j/qOmtJ8Rnlg3JCSDlm/dExAzdqOt6ul0X6fwmRaZihfMABBwSvvPKKyTDK5JAhQ4Jjjz3WynG+KanOVRZ+i83luepXYcEgQQbhELbziSeeMJlKO0xby977QA752KRJk6Bdu3a2oX+B563rZpwDxyJ/MGhq8uTJlg+0h6yvSKiyaB6pTgohhBAlg55O+7n77rub3TXXeo2cfkIIkQXOP//8YPr06SbY6fDSIaJj7J2kgw46yGYA8tk+++yT+taqEdw0DN4YuKEVg6QbHxkZwrEberjm9zksjv/FF19YR3zx4sXBp59+ajP4OHfjN/f7b0bhnGfabbfdgo4dO1qnXIgkg5OP2azU0UaNGpkDELx+pNcRkV1cronCwduYODj9qMeEhwWMzrSZlCdm9QFr7z744IN2HO0GsUYYM064z0PEpneTVC5FIUC5XLZsWdC6dWtrrzhHJ2StO5zW6JbefrHHSUiZdj2xMjKW3/H/KWuUMvewoc963asq/F5pqE5WDdKWvCVf0+EzL0PeZ2BP3hJm1WfzvfDCCyZr0/OJ77Jxne3www+3yCc77LCDrdvnv+9Ev5/+WfRYZA/PY2AtP9p7HLGkf69evUxXJkwruINWeSOEEEKUzI477hh88skndsxg81wjp58QQmQJOk4//fRT8M9//jO47bbbzEhSksj1a3ScMNRst912drzLLrvY9bp169qIWULW0cFijQt+GyPOxx9/bHtG2EadenS+vRPG7/N7fIdrTDH3cDl03LmGo4OZDUcddVTQsmXLcJRuWYYdIZLCyy+/bPWKukJ5Z71OQkNSH0XuIR9kRCos3BAYB6eflx+fyck5GyHKMGK6AdPvZSYD4TwZgenf8c9KQmVTFAqUUdquV1991dorHN7MnGLGH/U0OrMZuD9a9tdUlku6x+uID1JjH9Urge/w3ZIcSZWF34uiepgZPD/Zg6er9xvY0xfAufziiy9aaCqMV4TWZnAFZY6yR/5zP5BXrJnLzOlOnTrZ4EH6NP57JeH5m57PwDMpv3MHdfq5554LunXrZoMLyDf6hueee66tdQvR/FL+CCGEEKtD24mOtOuuuwYLFiww/Yc21QeW5go5/YQQIkt45xYxS2cYh9ygQYPMaAp0srknKoY5ZkvvPPk5n2FU4XfdMcc+/bf4nPP0YxwabIw42X///W3RfEJERWc1RP+b76kzJ4oBjFOE/KPMX3PNNTb7D8OHHH+5pyQZKPIL9YK2xJ1+5A/hrAvJ6VdSucGB/8ADD9jMPozQ1GnehXYUZ9/1118fDrBJJ/p73raCyqbIJ+6k8TqJDkhZJrqEw3XKeI8ePYJjjjnGdD2uUf4py7RrlOOKyFruZeN3eIbly5cHU6ZMCR3p1DX26KUYOSry2+UlG78pSg91jU5EaEfymbX5gDwA5CmDDilLlCuHvsVxxx1nAwl33nnn1NXV/8P7FiXhvx+Fe5XvucEHe5KHDz/8sJ2T9oMHD7ZZ8hDNI6+Tyh8hhBDid9CFaU/r1asXfPjhh9Zevv/++xbtIJfI6SeEEHkA48zUqVNtpOz8+fNtRiAhOGkY6ERjVKFTzHl09Gy0U4X4prPNZ2zp4px7GzZsGNSvXz/Yc889g8aNG1sn3J2GfIc93+M4vcNPJ5571ZETSYc6QMipa6+91s6ZOTFt2jSrH0KIeDj9/BlZo7Zv377Bk08+aR0ud0A4bdu2NScg4eXSZ0I53K+2T8SJ3r17B3fffbc5Vyi70TJPOL4+ffqYE3CzzTazc/TL8kK4eGbEf/755zarkNCO6KbUN/4vHT7XWtDxwR1yzOZD92E238SJE+269w/82MuV7zt06BC0adPG9Cb6G5Qr7qMMugxlzzWI6lXRMromJI9zA3nCuow4/Vj/HajLrO/u9T2at9wfPRdCCCHEqvaRrX379uEa8iz9tMcee6TuyA1y+gkhRAGAKKZDzIjtefPmBU899VTqk1UQupPPccLRKa9Ro4Ydb7nllub4Y1F82HbbbW3WHiFBq1evbltV4LnUkRPFAIZMZvv5qHWpR0L8jhuF77///uD444+3dqEQnX4MoKlZs2bY0XJ4XhwePL8bpKPGZyGSACHfWZuSWTlAOUdXjM7Ecrbffvtgk002scgPbNRv9jgEqe/vvPOOjUhmpteiRYtMP3WjvzuBOKc+see/Dj300ODII48MOnfuXKpDXWQe19XJZ3QYP0cesjSAwzXPLyAP33zzzWDUqFGWz7Nnz7Z72KLy02Um1xhASB8DZx8hq5jNR157WeA+J3pcGtH/KQ/l+U1RfhgU42vgOl26dLF+KLP8+Ix1G5nBCen5RX542VDeCCGEEKugXWTr3r178MQTT5iOxpJPp59+euqO3CCnnxBC5Jn0jhKd5nSihpUff/wxXEQdIwwdfP+cc++AYejBMFMV0p9NiCSCYYONNUtwqgOzGnACCiF+n0UXdfr5mn6F0kZgwGamPO2jd29wABLCk/X8aB/B20y1bSKJuI5IOHlm/rHmszv9KPPUDdcZ/RyoF9ShdB3U70m/l5l+zOo64ogjgq5duwb77bef/S//JYdfbvD8IM9c3/e8ikK+co18Z5T56NGjg5kzZ1rITncKR/M4mteMSCd87N/+9regefPm5ujDEcR3+M/0/3JKu14S/l9lUZHfE5WDcjRmzJigZ8+eYVhPZvdjsKScOJ4XyhMhhBCidOh70lemL0o7esstt+Tc6achrkIIkWfoNLlBBuiURzfvVHEM7vADD89Eh5nPWWMDMtURU4dOFAMYrjbYYIPg4IMPDusZhg8UNepWeQxSQiQZbwuibQLtViG0Ed5+UndxRhDWc9iwYVZvCfV58sknm4MCQzVbWYZqIeKO64innHJK8PrrrweLFy+2kcWEd2dmH3qiO/GpB9QHdMmo4ye6AXvXM6Fdu3Y2OwwH48iRIy38H1EmuE8Ov9zheeQOPyBvcdgAeUpIqccee8xmYXIvkUGYDcoSA+QV95CvbOTxxhtvbPfeeeedFnmEKAgYrE477bSgQYMGJkP5D2Qt/8P3ka9Vwd+jrE1kB/LSoQwMHTrUnMTg6zMiH7yMsClPhBBCiDWDnsXgKW8zia6QazTTTwghCgA3tPi+orgBx/dCiIqB4Wru3Lk2u49j9sz2i6pJMnKIYsXbpuHDh5sRkOMLLrgg6N+/f+qO/IFz3h0N1F1GUkbrKoZpHyADtJN8rvosigXqLxv149tvv7XQncxqf/bZZ0Od0Q397swhfPx2221nbSGfUcdwGjZq1MjOcTSVR+esrF4rygcho8gDZDPpvGTJEpvBR16TR56vUby/gAOPGZqE7GSPM5f8Iv/Jb89n4Ho66Xnr58rveMJgN9r3FStW2Dnr+DHLE4d+tJ0VQgghxJpBj5ozZ06w5557mm7EwKvXXnst9WlukNNPCCEKkDWJZhoNOfiEyBzUJ+odsyAwllG3MJ5tuOGGfzBsCVGsvPXWW0HDhg2tPhx99NE2yyffROtnaXXV20vVZSEyj+pV2ZSkr5eVZtHPXnrpJTtm1iYhOT/77DNzzOKwjd7HMbhDzx1+fM5nDHzg/PDDDzdn34knnmghzR3/fhT/rv8HSJYmkx9++CFo3bq1GSfh7LPPtjBkymMhhBCi8hBWHWcfuhuD6VgvO5fI6SeEEDFFHW4hMoMbsXD29erVK3jggQesbt16661Bnz59/jBzSIhiJer0Ixzu2LFjU5/kj2hbqHZRiNyjelc1cOgxkwqn3gsvvBB88MEHppd8+OGHFjrTHXjuzHPHHtfAHXp+DtzD7D2MTPvuu685+DgH13n8OAr5mJ6Xbi7iuvI6WbAOLk7gCy+80HRe9N0tttgimDhxYrD99tuH5UQIIYQQFQPdjsFadevWtXPa1Xfffdd0s1whp58QQgghRIr777/fHH+oR23btrX1cGTkEmIVOP0IBYchukWLFsG0adNkFBSiQMlF2+WmBLWRJUP6IC8nTZpkGzOqGOWNg449oRTdqefOPODY88+ddB56les4ahg57oOS3KlHCCnWKOYe/2+cgv4bHu7Yf7siVOY7onDx/Jw9e7bN8iO6Bec33XRT0Ldv39Wcw0IIIYSoOAwq32yzzYKffvrJztHDctm+yuknhBBCiKLHjR+MyKpevbrtMZwtW7ZMhi4hUuD022uvvYKVK1cGAwYMCHr37r3aenlCiMLAu/hqu/IPDjp0Ct+TNxh7MPqk5w/nOAExEkG9evXsfgZb4ORj1t4uu+wS/gaOwOhvuCEJJyK/4/oLRibO2cCdf6L48DLBnnKAw5g1hriG4/i5554Ly2eujJJCCCFEUmEgOWHZgbY1l8jpJ4QQQgjxG24IOeigg2yGHwa60aNHBx07dlzNqCZEMfPtt9/afpNNNrE9qH4IIUTJ1K5d22b4oWOUZHrZeeedg6ZNm9qeGVc48nbffXdzEFY1BBSymc3/V7K6uHE914/vvvvu4JRTTrHzjTbayHRfZou6s0/lRQghhKg4PnCGQVxdu3a1JTFoU3H+tWrVKnVX9tHQHSGEEEKI33DjRs+ePW3PCOinn37ajoUQq9h0001to774JoQQ4o+gRwwdOtTWBz7ttNOCG2+80WZS+Yw/jEKs73LPPffYumrMpN51111tpp47/JCxGI4qs0FJjkYhYPDgwWE5Y+Y+Dj/KZNQ5KIQQQoiKQ1tKG4uTz3WxN954w/a5Qk4/IYQQQogINWrUsD1KGuE9hRB/hM6Lb0IIIf4I4TQPO+yw4Pbbb7eQyOecc44Zf6Lr6rF3Bx3OvnXWWceONahCZBrKE2WMmQfXXXedrefnoWT79+9v5ZAyq3InhBBCVA3aUm9jsSuxeTucK+T0E0IIIYSIQHgtYIT+d999Z8dCiFWwnh8wG4COi4yDQghRMr6GHviaei4z0/cYhtz5x31uKILoIIvybI7kc3ETLQsOZeuuu+4KLrnkEisfnOOUBs4pgyo3QgghROWhLaUNxtHHMTodtiVfczlXyOknhBBCCBFh/fXXtz1Gj6lTp9oeJU0IEdhal5DLDosQQiQdDENRmA2I/lGZLeoAjF4XxctPP/1kYWUvuugim3EKtOcXX3xxuK6fEEIIITKDD7yJDpT95Zdf7FqukNNPCCGEECINDCE4NXxWE8Y3IYQQQohCR44+4WBsZCNs7PXXXx/ceuut5mDm/Lzzzgv69ev3B4ezEEIIIeKPnH5CCCGEEGm0bNnSjCTM+ovO8uOaEEIIIYQQhQxOXw8xNmTIkOCaa66xY8KMtWnTJrjsssvCWfs+I0EIIYQQmSVfbaycfkIIIYQQEXDseQjDFStWBGPHjg2WLFli577ejhBCCCFEJtHMPJFpcPA9/PDDFtKTY9YTatWqVfDUU0+tNsMv1yHHhBBCCJFdZLkSQgghhIiA4aN69ep2zAjoDz/8MKhRo4ade7hPIYQQQgghColodApmFjz00EPBySefbM4+ole0bt06mDRp0mqzDjhWiE8hhBDij3h7yd5DZgPtKltJcK8PFl++fLntGdi11lpr2XGukNNPCCGEECIC6/cxChplDUXujTfesNHR/pkQQgghhBCFBA6/qEHxnnvuCc4444xwwFrz5s2Da6+91vTb6KxSzTAVQgghSsZnwvtseXfmcZ0B4j///LOdR6FdpU3m/tmzZ9s1vteoUSM7zhVy+gkhhBBCpNG5c+dwVNdPP/1ke5BhRAghhBBCFBoMTMOoiGFy+PDhQd++fYNly5aZPrvTTjsF/fv3D/bcc08NYBNCCCHKgNl8tKfYfqpVqxZ069YtePfdd1ebFb/OOutY+1pam+r3jhs3zu7lt7hW2uzAbCCnnxBCCCFEGhtttJEpcSh7r7zySuj4k9NPCCGEEEIUKoT0vOKKK0x3RZetX7++nTdu3Ng+j4YAFUIIIcTqDBw40OxBwECaUaNG2Sw9HIDt27cPhg0bZp9hGyrNPsT14447ztpctjp16gR77723zQ7MFX/6TQn4PZi3EEIIIYQwGA09Z84cG+lF+AYcgFG1SQ5AIYQQQghRCBDG88EHHwzOOeecMNwYuurdd98dHHvssXYuhBBCiDVzxBFHBE888YTNzsPxhx0IuxBOOw/zSUjtPn36mDMvCvfecMMNFtqTdpjfYCAOe59FmAvk9BNCCCGEKIGmTZsGM2bMMOVs8eLFwQYbbGDXXXWS008IIYQQQuQT9FJ0Utbww+H3448/2nWMijgBCUsmhBBCiPKBkw8bEO0rg8BHjx4dPPPMM8Hrr79un7vDjxl8tL+lOfFwDhLa86KLLgr69etnDj/uz5UdSU4/IYQQQog0UPQYscXoLJQ49g0aNLDP5PQTQgghhBD5Bp106dKlweOPPx6cffbZqzn8LrzwwuCyyy6zY63jJ4QQQlQMnHbRcJycz5o1KxgzZkwwbdo0sxHhyEt3reHow57EZ4888kjQtWvX1Ce/D9TJBXL6CSGEEEKk8e9//zs4/fTTg6FDh5qxhNBIxxxzjI34yuXoLCGEEEIIIUqDtYXOO++8YPny5WZkRG+99NJLgyuvvDJ1xx8Nl0IIIYQoHexBOO9Kg1l+DKghBOirr76auroKwm0zgPzII48M217Cbq+33np2nCvk9BNCCCGESAP16N577w1OOukkc/D17t07uPXWW01pw5gihBBCCCFELvG1gDz02IgRI4LTTjvN1goC9NfWrVsHzz77rJ0D1zRYTQghhKgccW1HZbUSQgghhEjjl19+sZFbGFY89jrGFTn8hBBCCCFErnGHH0QdfsuWLQuNkYccckgwYMCA0AnIDD8hhBBCVJ64DpyR5UoIIYQQogR22203G9WF82/mzJk2qppzIYQQQgghcok7/HDkjRw5MnT4bbDBBuYQrFGjRnDNNdfYGtRcAw1WE0IIIYoTaQBCCCGEEGkwgnrnnXc2IwrGFZ/pF9dRXkIIIYQQIr6wfhA89NBDwSmnnGKz+XDqse/SpUvw/PPPm8MvCnqrdFchhBCi+NCafkIIIYQQaeDsg+gafjj/4hrPXQghhBBCxBPXP5nh16dPn2D58uWhrnrWWWfZGtR16tQJ1ltvPbsmhBBCiOJGM/2EEEIIISJEHXuMmMao4oYVOfyEEEIIIUQuWLlyZeooMIffueeeG6xYscL0UgalXXzxxcENN9wQ1K1bVw4/IYQQQoTI6SeEEEIIEQHHngdCYD0/56233kodCSGEEEIIkV3WXXddW1P6rrvusjX8li5dapEnCDl//vnnB1dffbXpqpwLIYQQQjhy+gkhhBBCRIjO9Nttt91sz/mbb75px0IIIYQQQmQT9FG2IUOGBBdccIGt3Qfrr79+8K9//Svo379/qK96RAohhBBCCJDTTwghhBAiDYwobPvvv7+FT8Lo8uqrr4YzAIUQQgghhMg0rmv++9//DgYMGBCceeaZNtuP69WrV7dZf7169bJ73Onn608LIYQQQoA0AyGEEEKICG5AwcBCWKU///nPtoGcfkIIIYQQItMQthM90/XQQYMG2Rp+zOJDJ23RokXw+OOPB507d9bMPiGEEEKUiZx+QgghhBBpuHOP8J4YWjCuzJw5UyOphRBCCCFExkHHxOGHDspafeedd54dM/DsoIMOMidg8+bNg/XWW0/6qBBCCCHKRJqCEEIIIUQEHz291lprBTvuuKMZYP7yl7/YNSGEEEIIITIN4TzhxBNPNKefR5lo06ZNMGbMmKBevXp2LoQQQgixJv70qw9lF0IIIYQQBuoRGyOpcf4RcolQnz///HPqDiGEEEIIITJHt27dglGjRtmAM/TPrl27BiNHjkx9KoQQQghRPjTTTwghhBCiDDbaaCMbbb1y5cow7KcQQgghhBCZ4rXXXgtGjx5tx+ibOPxuv/12OxdCCCGEqAhy+gkhhBBClMEuu+xixhdGXbMJIYQQQgiRaXxw2dFHH20z/GrWrKkBZ0IIIYSoMHL6CSGEEEKUgDv4mOnnTr/Zs2fbNSGEEEIIITJFkyZNgsmTJwdTp05dLaQn+qccf0IIIYSoCHL6CSGEEEKkEZ3R97///S91FAQLFy5MHQkhhBBCCJEZWEe6TZs2QatWrf4QWSL9XAghhBCiLOT0E0IIIYQog3bt2qWOguDLL79MHQkhhBBCCCGEEEIIUVjI6SeEEEIIUQZ/+ctfUkeBhVwSQgghhBBCCCGEEKIQkdNPCCGEEKIEPJRS69atwzX9Fi1aZNeEEEIIIYQQQgghhCg05PQTQgghhCiDtdZay9ZZ+e9//xtMnjx5tTX+hBBCCCGEEEIIIYQoFP70K0PXhRBCCCFEqdSqVStYvny5Of5+/PHHYL311rOZf5z/+c9/Tt0lhBBCCCGEEEIIIUT+0Ew/IYQQQog10KRJk+CXX36x9f0effRRC/cJOP2EEEIIIYQQQgghhCgE5PQTQgghhFgDbdu2tbCe//nPf4IJEyaY049t7bXXTt0hhBBCCCGEEEIIIUR+kdNPCCGEEKIMcPTtt99+Fs6Ttf0WLlxoIT05F0IIIYQQQgghhBCiUNCafkIIIYQQ5YB1/ZYsWWLHK1eutFCfzP7Tmn5CCCGEEEIIIYQQohDQTD8hhBBCiHKw11572Z4Zfk8++aSt8SeHnxBCCCGEEEIIIYQoFOT0E0IIIYQoA8J7EhihU6dOwVprrWXXxowZYzP9hBBCCCGEEEIIIYQoFOT0E0IIIYQoAxx+hPPceuutg6222spCen7++eehM1AIIYQQQgghhBBCiEJAa/oJIYQQQpTBf//7Xwvp+X//93/BDjvsEHz00UfBhhtuGHzzzTfB2muvrRCfQgghhBBCCCGEEKIg0Ew/IYQQQogywOHHBj5Wavny5cHzzz9vx6AxVEIIIYQQQgghhBAi38jpJ4QQQghRBszwI6Qn28CBA+0ax8OGDbPPhBBCCCGEEEIIIcT/Z+8uwO4ozoeNDxpBEhyKFE+B4B7c3Ypri5a2aCmUtmgpWrxIcQhanCJfKO4SJFiDFmjRYvEE7fe/J+c53SznteT1c/+ua691Pbuze+bZmVVnYE6VJElSIwjwgWo+e/bsmbsp+XffffflEn8xHpb4kyRJkiRJUkcx6CdJktSIqNpzqqmmSmussUZae+2187Bhw4alCy64IJf2i2BfTCtJkiRJkiS1N4N+kiRJjYiSfLSnnHLKtO6661aHDRo0KA0fPjx3S5IkSZIkSR3JoJ8kSVIjpphiilyCjxJ9tFdeeeXcpqpPqvh84IEH0jfffFOZWpIkSZIkSeoYBv0kSZKaQMAvrLbaammLLbZIY8eOzf1PP/10DgIWv+dHt9/3kyRJkiRJUnsy6CdJktQCVO256KKL5m6Cgeeff34aNWrUBIE/umkkSZIkSZKk9mLQT5IkqQX4rt/qq6+eA34E+YYNG5YDf5bskyRJkiRJUkcy6CdJktQClOBbe+2108Ybb1ztf+KJJ3IJQAN/kiRJkiRJ6igG/SRJklqAwN4UU0yRVlllldxP0O+OO+5Id955Z+5mfDSSJEmSJElSe5nsv+ZISZIkNdu4ceNSjx49clBvqqmmysPo3n777dO1116b+yVJkiRJkqT2Zkk/SZKkFujZs2cu0fftt9+m9dZbr1q676677kp33313ZSpJkiRJkiSpfRn0kyRJaoGoJIFSfnvssUfq3bt3mnzyydPIkSPTCy+8kMdJkiRJkiRJ7c2gnyRJUgtQsi9st912acCAAdVqPvmuH0FBqgCN4KAkSZIkSZLUHgz6SZIkTYIdd9wxffXVV2nqqadODz/8cLrxxhvzN/+KwUFJkiRJkiSprRn0kyRJmgQ/+clP0oYbblgN/F122WV5ON/8kyRJkiRJktqLQT9JkqRJtM022+Q2gb9BgwalIUOGpG+++SYPkyRJkiRJktqDQT9JkqRJtMcee6SVV145d08++eTpvPPOy1V8WtpPkrofvtsqSZIkSZ2RQT9JkqRJ8N///jd99913uZrPcMstt6Thw4enKaaYojJEktRVkc5HWo+ePXvmtiRJkiR1Ngb9JEmSJgHVeE422WRpr732SquvvnoeNmLEiPTXv/41d0uSujbSeBpcddVV6YUXXsjdkiRJktTZGPSTJEmaBFNNNVU1M3irrbbKVXp+/fXX6Yorrsjf+JMkdQ9XXnllfsFjqaWWSs8880xlqCRJkiR1Hgb9JEmSWslBBx2U+vTpk4OAjz/+eLrooosqY5IBQEnq4u6999705Zdf5qqb33zzzcpQSZIkSeo8DPpJkiS1gijtd/bZZ6cePXqkySefPO2///7p6aefzsOnnnrqXApQktQ19e7dO6f1pOWff/55ZagkSZIkdR4G/SRJklrRbrvtltZcc8303//+N/evuOKK6eKLL87d3333XW5LkrqeFVZYIaftlPS77777KkMlSZIkqfMw6CdJktQKoqQfGcK33HJLWmmllXI/KPHHN/4o/SdJ6pqmmWaa3OYFDkv6SZIkSeqMzHmSJElqRQT/evbsmS688MK03nrr5RIhZBAfeuih6dJLL61MNR5VxEWJQElS57bwwgvnNi9wPPPMM9XS25biliRJktRZGPSTJElqRV9//XVu9+vXL+2yyy65ZMhXX32VPv3007TffvulgQMHVjOICQjCwJ8kdX6LL7549Zt+o0ePTkOHDs3pN0FA03FJkiRJnYFBP0mSpFYUgbypppoq7brrrunMM8/M/eGAAw7IVX1GBnGxWlBJUudFuh5VfNL9wgsvmHZLkiRJ6lQM+kmSJLUiSnxEaT8yg3ffffdc4o/gXgw/5JBD0lVXXVUt8WfgT5I6P9LwVVZZpVqy78svv6x2RzouSZIkSR3JoJ8kSVIrowRI0eWXX5523HHH9IMf/CANHz48DRs2LFf1eckll1SmGB/4M+gnSZ0XafsyyyyTu7/55pv06quv5m6/6SdJkiSpszDoJ0mS1EYI5JEZTJWfP/vZz1KPHj2qpUFGjBiRDjvssHTppZdOUDJQktQ5jR07NvXv3z+n66TXr7/+eh5OGm/gT5IkSVJnMNn//Vkxd0mSJKkNEdQjU/jJJ59Mq666appyyimrgb7pppsunXPOOfn7f7CKOEnqvIYMGZKWW265HPSbeuqpcyBQkiRJkjoLS/pJkiS1oW+//TZXCcd3nwYMGJAuuuiitP766+d+AoGjR49OBx10ULr66qsN+ElSJ7fEEkvkgB/NuHHj0ptvvlkZI0mSJEkdz6CfJElSGyKwV6xYYc8990wnn3xy2mqrrXI/VcJ98cUXOfBHVZ/ByhgkqXOhhDYvbGy00UbVNPqNN97IbUmSJEnqDAz6SZIktbFiCT4yihdbbLF0zTXXpPPPP79aCvCzzz7LAcHzzjuvMuX4UoJMbwBQkjoeaTX69euXu0m/b7/99pxWR3otSZIkSR3JoJ8kSVI7+uabb3KbzOK99947V/dJN/g+1AEHHJB+/vOf536r+5SkjlMO4lFyG5tvvnkupU2g78UXX6wOlyRJkqSOZtBPkiSpHUWAj4AeGco/+clP0gMPPJC/8/fVV1/lYRdeeGHaddddc0kSpjP4J0kdo1bpPb7rF956663cNq2WJEmS1BkY9JMkSeogkUG88sorp9tuuy3tscceufQIpUZuuumm9PDDD+fxkqT2Vw7kjR07Nrcp4Ue6jY8++ii9/PLLuVuSJEmSOppBP0mSpE6gZ8+e+Rt/e+21V64ClEzlf//735WxkqSOFtV4zjzzzGnNNdfMpQB79OiRbr755ur3/iRJkiSpI/nPRJIkqZPgm35U7fn444+ne+65J/34xz+ujJEkdTTS6K+//jp39+/fPwf9eElj8ODBeRhqVQcqSZIkSe1lsv/7U+K/EkmSpA5CBjLf+Rs3blwu7Rf9kqTO64svvkizzDJLLpXdu3fvNGLEiFwSkL/XfttPkiRJUkexpJ8kSVIHigAfAT8Y8JOkzomAXrwz27dv3zRgwIDcPWbMmFzaj2/+xXhe5JAkSZKk9mbQT5IkSZKkFqKEX3zL74477ki9evWqlvLjW3+SJEmS1N4M+kmSJEmS1ExRmm+nnXZK3333XQ78PfHEE7k7gn5W8SlJkiSpIxj0kyRJkiSphZZbbrk03XTT5SDgo48+mt599938XVZJkiRJ6igG/SRJkiRJaqFFF100Lb300rkqz2+//TZdccUVfpdVkiRJUocy6CdJkiRJ0kTYZptt0pdffpmDfg888EBl6P+qAJUkSZKk9jTZ//0Z8d+IJEmSJEmNKP91/uabb9Kbb76Zll122TR27Ng09dRTp48++ijNMMMM1W/9SZIkSVJ78l+IJEmSJEktMNlkk+WqPBdZZJG05ppr5v6vvvoqnX322bnknwE/SZIkSR3BfyKSJEmSJLVAlPqjffrpp1eDfFTxyTf+JEmSJKkjWL2nJEmSJElNKP91pp9v+VHij0AfJf1mmWWW9J///CePo/SfJEmSJLUnS/pJkiRJktRCUcUnVlpppdz+5JNP0iOPPGLAT5IkSVKHMOgnSZIkSVILFQN766yzTu6nOeWUU9J3331XGSNJkiRJ7cegnyRJkiRJLVSs7nPPPfdMU089de5+//33q9/4kyRJkqT25D8RSZIkSZImwZxzzlkN+r388stp6NChuVuSJEmS2pNBP0mSJEmSJkKxtN8OO+yQS/h98803adCgQZWhkiRJktR+DPpJkiRJkjSRCPzRzDrrrLlNib+xY8dWxkqSJElS+zHoJ0mSJEnSJNpoo41y+8svv7SknyRJkqQOYdBPkiRJkqRJNO+886bJJpssV/E5YsSIylBJkiRJaj+T/bf4EQJJkiRJkvQ9Tf11JuDXp0+fNGrUqDTttNOm4cOHV8ZIkiRJUvuwpJ8kSZIkSa1g0UUXze2RI0fmtu/YSpIkSWpPBv0kSZIkSWoFVPEZ7r333kpXSt99912lS5IkSZLajkE/SZIkSZJawWyzzZbblPB77bXXcve3336bv/PHMEv+SZIkSWpLBv0kSZIkSZpEBPT69+9fDey98sor6ZtvvklTTDFF+uqrr/I3/2gkSZIkqa0Y9JMkSZIkqRVQ0i8Cex9//HH68ssvc0m/qaeeOg+TJEmSpLZk0E+SJEmSpElECb/NNtus+v2+9957L7cp6SdJkiRJ7WGy//tj4kcFJEmSJElqREN/nWM4JfzGjRuXevfunftBANAqPSVJkiS1F0v6SZIkSZI0ifh+35RTTpl69uyZpppqqlzC7+uvv87Ve0qSJElSezDoJ0mSJEnSRKIkHw2BPgJ/P/rRj6rBPr7lN/nk/u2WJEmS1D789yFJkiRJ0iSimk9K+UUQEHzXz+o9JUmSJLUXg36SJEmSJE2i+LbfPPPMk7sp5ffWW2/lYXzbT5IkSZLamkE/SZIkSZImEdV4Ur3nRx99lPu/+uqr1KNHj9xtFZ+SJEmS2sNk/43XESVJkiRJUk1N/XWmGs9x48alXr165SAfpfvGjBmTh08xxRT5m3+SJEmS1JZ83VCSJEmSpFZAcI+AHwHCRRddNHcT7GM4w3znVpIkSVJbMugnSZIkSVIr+Pbbb3Ob4F6fPn1yfwQCKfFHI0mSJEltxaCfJEmSJEmTiADfiy++WA3szTfffKl37965O4KBkiRJktSWDPpJkiRJkjSJKM33yiuvVPpSmmWWWdJXX32VuyntJ0mSJEltzaCfJEmSJEmTiBJ+8e0+LLbYYnnY119/nfslSZIkqa0Z9JMkSZIkqRV88sknuU2wb8yYMTngN+WUU+ZhkiRJktTWDPpJkiRJkjSJvvvuuzR06NDcTVWf008/fe6WJEmSpPZi0E+SJEmSpElEtZ5R0o9qPpdeeunUu3fv3C9JkiRJ7cGgnyRJkiRJk4hA35tvvpmDf1999VVadNFF83Cq+pQkSZKk9mDQT5IkSZKkSTRixIj02muv5e6FFlooTT311LlbkiRJktqLQT9JkiRJkibRvffem9uU9Ft22WVztyRJk4r7iqTGcZ14rUjjGfSTJEmSJGkSvf322+m7777L1Xn+6Ec/qgyVJElSezDoJ4032f9dDF4NkiRJkqRuqfiXt6Hv6zFNU9/eq/XXmXm+/fbb/D2/fv365W/6MezZZ59NSy65ZGUqSercmpMGornTadJwX5l88smrxzruP8VjH7/F119/naaccsrK0AnV+q1YNk3M88033+TpWB9NQ2otq6WK99Fay2tqfFFLpm0KL+x8+eWXuZrucePG5WPDMI4tbe7xRQyjmW666dL000+fevbsWRnzfWwn09LmWA8bNiz3F/EdYPaB9dCO/nnnnTePj+eMxn6ficE2xXGkzTqL62A749hGuymxTKZvaJ7i+R3rL2L/qSI9xsdy2B7mnWqqqXI/vw/jozr1WDfLLs4n1SODfpIkSZKkbi3+9kYGUjSRkRcZao0p/3UuZiYVM1DJABw+fHjulqTuhHTQjPT2Vbz3RDe/AQ1BkHIgqKHfiOEEnSJgEppz/2MaAjEExQiOvfPOO5UxtY0ePbo6D22CM6ybeWmznGI/21RcPvtF/6hRo3K7eAzw4YcfVrrGY3qmifZnn31WGTPep59+Wukaj/UxLdtVFIEoxPJC8ZgWt4dlsQ+NYXrm5zmhvM6iWuuIYbQj8Be/eYzr27dvbofZZ5+90jXenHPOWekaL7Z5ttlmy+PGjBmTZp111rTccsvlfe7Vq1eaa6658vKZ7oc//GFlztpi/8oYHr8vCKj26NEjT8t5QdOa3z+O3z/O54a2S6oHBv0kSZIkSd0emUFklNGedtppc+bTzTffnDbZZJNqBlE587So/NeZjCQy78jMeu6559IKK6yQM7BWXHHF9OSTT1amkiSp9cU9jXsTgTHuSdzLagU5PvjggzwtQTQCa88880wOtrz//vs5gMe9i2AbL6zQfuuttypzjsf8rI8GjWUls/7mZDUzXQSDWD/LrnWfRXOXF/fwmL7crqV4vBpaf4jxsa5a21xLTAvmbWi5DS0r9iuWUVReFv3F7QzFbo53eZn083sUg6wMY754qSnm4TyLACTzEMgjUMizFd0zzjhj7u/du3ceHwHEKLnYp0+ftPjii+f555lnnjysqBgMZFuK2x6Kx6o8nn1gvQxvaH6puzPoJ0mSJEnq9iLjhwwuMpPIVFpzzTXT3XffXc14bCxjqPzXmWnjjf3rr78+7bbbbnnYjjvumAYOHGgmkyRporz33ntp7NixuYQabUq20aYEG6WyeGmFYB33M74nyziCdVE9Zbk0GePiHsj9jvsfDQjeMC6alqp1r6u1nOJ0MZ5htYYXxzfHxGw3AadpppkmB7QiqBXLIXAVAS3alOAv4ngS1GI+uuPFoTLmRewnyyPgFcOLWDe/Jw3BWbbhiy++yG2CsQznd6X9+eefV+Yab+TIkZWu8crHI/on5jih+DtEN8tqannl3y+m53ixH/SXpwk/+MEP8u/DsaCbAOLMM8+cjzu/B+2ZZpopD19wwQXzMvk9aC+xxBJ5mtYsRSh1NQb9JEmSJEndHn99achsIxONN8HJHIpquRrLfEL5rzPTkmlKmzfVKTEBSvkts8wy1UCiJGnSFNNvRCnraBeRLjNdpOnFdD2GxTTRXStowz2iqaBBrJ/lEnhjmXyzDS+99FL1XkOAjoDdxx9/nOeJ0nVRgu7f//533gaCPLGvKG47YnhZebqyWuMJkLANNGD9BFAIIMVxDnPMMUela7xVVlklb3ccZ9DNMNa1wAIL5GEhAmQcT6ajRBjri/5YBlVMMozl1BLTMZ7tJrAzwwwzfO93Ytn8LgSNGNfYN/fqwT//+c98HDg3P/nkkzyM34MAMd8gZhzHlvEvv/xyHh/nJ8eQ5yTOX9oEnQkuMw/z08Rvj7guOQ9YB23mYzy/S5xvMV1geVwrgfnK5y3zI9ZVPB/AMlk+62XZjGcZiy22WB7PcLpXXnnl3D9gwIDcXnrppXO7pYrXf+xfZxL7r/pk0E+SJEmS1O0V//qutNJK6fnnn8/dd9xxRy7xR4ZTY8p/nekng+rqq69Ov/zlL/Pb/osuumgaMmRINaNLkroj0r+OSOPIWCfAEAg4EFiLbSETvpz+xgseDIvhtba9mMYTCGGeJ554Ii/v1VdfnaCk3RtvvFENWlDSjnZDAQ262e4YF9MVg2R0Mx37E2I4YtsiuME+g/tOiH1iOQS5uKcRFGPaCKZF/0ILLZQDMVS3SICOwA7fd+PbbQSFKI2G4nEqHne2n21lecVjzrFh3eX7ZWAamuL5Q5v9YPvYJrY/sL9My3JZB9PEdsQxp4ljXVwv3UxLwzT1jHOXwCvHhO8t8tsR4I1zkpKDVMHJdJQq5Xjyu/C9PwK0PNcQGOO5ae65587Leu2119Kyyy6b/vOf/+Trg0Ag1XpyrJmP84DflYD2u+++m9dFCVbaBJbffPPNaqCc35nAJOvl92c4AfI4n4rXBZiG5cT1AM4NrnWWx3i6i+dZKPYXu+NYcH1QcpB9pGQhx4nrhepIWSalCNlv9o31sM1xPTYlzs9YL9sf53NbqLX/qh8G/SRJkiRJdYOMndVWWy099dRTOUOE7/ptueWWlbENq/XXmUyfXXbZJd1+++25/4QTTkgHHXRQ3WcwSuo8WprxG2ldY/O0dJkTi6r9yBQnA76YUU5wiP7I3CfDH0xPUIMAxKOPPpqHkSlPIINAHdtNsIG0myASwQVK3dFfFJnx3C9YTxyTCDKxTrapGLSgzXRsC8uL+0AEEyJzvxioiGWzLJbJuFlmmSUvl0BCVFFIoIHgB0EV2n379s0BOqajjfnmm2+CdlM4Lqyb4xDbFkGXhsRxoM22x29SxD7UGo6YP9YX/Uwfx7CMaRpbH+KYxvJiWTQNzVMv4pigseMXx5hjFt0E2+I8Lp4XMR5x7FH+/Tif4jcoBsc41yNgFtcuitcy1w1N9HNNxTcnCRASOKQkItc6gWpKKZIu0P+vf/0rX/NMM9100+XAY1Ni30Gbdce+RQAzrm2m5RgwnAAhgVHWzQtlzEMJwv79+6cll1wyz1/GvEzns6LakkE/SZIkSVJd4O8vGTZ8x2+rrbbKGTdrr712uueeeypTNCz+OkdGF/00ZFzRsFz/XkvqbEiXIt1qjnJaVwsZ1uUM/klR3kbSUwIOlKyjmwDec889l9NaMtcfeuihvH66CQAQLAhkpLN9LK9WmsxwGuYn6MD0EZgrivkbWg4IAhTXPf/88+fABttFiSi6F1544bzdlBqaffbZ8/qoEprlUiKKfoIHjGebaq2PYa1tUn7D4nGJbYtjXkt5eOxfS/aruK6iYqBIDSse8+b89jFNQ8cdjKNhuoaWGedFeb1cc8WgV62Ac2xzYH7E9pTbLJPlc/2Vl4VXXnklt0k/8Pjjj+f20KFD87oIIlLCsLwf5e0IrIPzj+nZF/ahFgL5RWuttVbeVoKDbCvfgia9mFRsZxwLlPtVXwz6SZIkSZK6vcj8oP3iiy/m6pki04lMl8YU5402mU8777xzuvHGG3PGz2abbZauv/7672VkSVJn0FCmfFlkXEemecxHuhdpIMNI5xpbZqSFlLp566238rDBgwfnNgE8gnqUwImq+/7xj3/kNutluayL+WM5DIvhiIx2xhe3g27EOJYXwb1Iu8sZ4QTripZaaqm8vB/84Ae5TdV+lOhhOpYT8xfbBPiiiXWU1yN1dZEGhOgvD+/qCOZROpi0484778zXPTVEUDKWtIrhfMuZ50e643qP9Ik0gLSH8bWOC8uLtBaRXjEtJQSpVpSgIFXvrrrqqvm7mqRBpC8NqZUORn9DYnu702+n8Qz6SZIkSZLqQmSI8J0Yvl9Em2GU9Ft33XUrUzUP1UnxDb9PP/009z/22GM5g0aSOqvImC9nBUaGb2QU009DJjSZ31Q/iZif0ncE8gjeUV0m3/SiVB4lZWIcaW1kZMdyy5iGcbG+SKNjWK3tLQ4nA55Mdb5NR7WeVLNH2k41mAToyHTnm3WUsCPznG7Gk6Eey6rVRqwDZM6znmIGOuNiPPtZHCd1V8XroruK4BuK1zXDudZDpFcgjaDkIGkiVY2SLjKewOHLL7+cpymmY3THvKSxpFW0I81EjGdamniBYbHFFstpHy8j0M1LbKRtpIOkU5R8jYAi07EvbAvLZRmx3UxDfz38pvXIoJ8kSZIkqe7st99+6dxzz80ZHttvv3268sorK2PGaygThOGUTPnjH/+YTjrppDwN33Ghuii6yUgh48bqxqTupytljpJOxbeoKB0SGdYMp599YRjtaCgFTVV3ZFIzjurwyLQG1d7xogSBNQJs8X0r0jwykSMzmflYPhnKLDPGlzGcaSPdpJtlLrTQQvlbdXyLi5ItfNeO6vEI1pHJHQE82gTv+I4f28Q6WBYN60W0WX5gm8kIR/yW5XZkirNNxUz+5ojtaE2tvbzuhN/Y49N+6uV4F/eTbppiOhJpBBgXaRzDmjo+lBQkXSV9oU1JQuZ54okncjuWV1wmIo0ksBfjYl2kaQxjmkUWWST38y1QXk7jGZX0k+99Fr+PCubhnkA611gpwlqKxwjlfnUsg36SJEmSpLpCpsizzz6bM0L4S0xmNYG6ooYyL8gwJkOc6pYi0+X+++9Pq6yySu4200PqvrrK9U3aRGk7Am988+69995Lr732Wu6nTUYzGb3Dhw+fIDgY+xcBL9DPcIZFKRTaUfIt+mN6hjE9pU7oJjgX36taYYUVcpvqMxnG+LnmmmuClyQi45pxgW2IJrAOpmW6GN7U7xPTN1dDL3CwHpS3h2Aly49t4rg0tj3N1RrL6I5q/Q5qW01dY91F7GeUhmuOxo5NcRzdpEWkD6E8L6WnedbkJQyChLyQQXr07rvv5vSR+UFaE+lapMP0xzaz/TEN6OZFCoKBlBIk7d90002r1RdPisb2X+3PoJ/qTjzQFk99EqXoLydQtYaXh8VDriRJkqSugf8Fs846ay4lwvP9gw8+mFZfffXqf4Nois/5ZIpTfdM666yTpyMT5eCDD06nnXZazf8R5WGSura4rmkjrvHIEygHiUgjyHSNknUxPd3FTFi6aYqZy/QzrogAHvO+/fbbOS2imzbBJkriUQLvP//5TzXjt7ittbB8pontp10cFtOwLNJLStiRZlLijm9MEbjju3d8g4puAn2xjx2heIzL4ji0dPsaWmZxeY0d49bQkcdUUuuY2DSoFr6HyssbBAF5fuXeQ5Wi8WJarTSJ+wv3o+gmXQfTRjPDDDOk/v3751KCBAXXXHPNXHIwsJ6oMpTpi/colhfrpTvWUb6PqX0Y9FPd4FRvLGFlPG+qReIVipdIcbgJlyRJktS1/fKXv0znnXdezuzeaaed0sCBAytj/lfCI/4P0P/CCy+ktdZaK/9vIONkxRVXzBnu9Bcz6yV1L6QDkQdQzlco5jVE0AwxrDgepCVgeQQDP/zww1yqg5J5pCUE9oYMGZK733///bxMgnyI9Ijllbtpx3piW2kXx4NuxpG+UeKDNkE80kECeIyjFPSPfvSjHMxjG4tpHPPTT95JtMvrrxfsN5ra75huYtXbcZXUfJHex8sbPJ9G6W7a3FOeeeaZ9Pnnn+dA4ciRI6t530xL+sR9gHtT3L/Ackn3mY60fplllsmltXkBZOWVV87PwzEv4j5QxPLL+exqHwb91K2VE5w43RnGNzeKSMhGjBiR642negkedkGCyfQ0DV0urZV4FZffWsuUJE2ofG+QJNUnMjPIICGzgmd+7g+UlqE7hkdGCuN4k5oqkPimFf8d+vbtmzPp+f8gqXuL50fakYlJ2kAmKWkGTaQXoMQF3f/6179ySYzHHnssdzM9bUoaf/DBBzmgxnwRCAyxLsazPqYpimdZpok0KvrBN/D43t0Pf/jD3O7Xr19aeOGFcxCPmo/IvA3F52JKiZC+sRz2CbFfpIt0x3D6IxBYzzhW/reQ1F6Kwb0IqBXToUizi2l3Md1mGC+ScG8aNGhQrj6UF0yoQhRxH2F+0ngCfmD5NNxTCBzS3adPn1wqkBdHyEfne9m8TBLLYJrYDrUvg37q1oqJHi666KJ04403pnvuuWeC4cXp6I5+mkhASbz44OlMM82U27zVQDeJ25xzzpnrP47Lqbjsloj5MbHLkCQ1rpjmS5JEVZ0E9Lg37LLLLumCCy7ImRNkdJA5gtdffz1XcxSZ4Yznm4CUhCEjhYxyMucldV9c52SSUo0mpX4J+hOso00gj0xQMmFpM22kH6QRkdFK5idpTfF5tJiPUMwTiPkisEbpCvIiaBO447uizDNgwICcJ8HyCexF5mosP7BtLJ/llcchMmaL2xZqZdrWmr64/aHWuiRJEyfS3GK6zL2Cewb3pLhnlHEPiFJ5cU9iWTTMy3jmfeWVV3ItFs8991z+puCTTz6Z72mIZbPu4jJoRz/56Hy3dbnllkszzzxzOuaYY7wPdACDfup2iqd0JDy8RcebCCCBIyEjgYp+3lqI+cqXRDFhqnW5kDAynIZl8cbvjDPOmD+ASuLGg/hCCy2U67bnLbvA9KyXBJNutod1FddX7I7EF7WmDbW2sdZ0mjQcZ4+r1DUVH46jREcoXtdME9PBa16Supd4viZTY9lll81pPs94ZKDffvvt+bsmfLvquOOOS6eeemoexzR80+rRRx9N8803X5p22mlrPn/D+4bUfDyTEdCK5zQyLuO/O89qXE9xTRX/Gxf/lxWHoziu2B2ZozGM6s4owfvOO+/kYD5VbVILENWisT20+VZeTE+bBrFMFIdFd0OYhhcFKClMm2AdeQhkli6wwAL5JWMCe3wnj3yF4jOpJElxTypraPik4J5MCXZecHn44YfT3XffnV566aVqfjr3KO6X3FvpLuazB56Z11133bT11lvnl+xCcXvL9/Eipov8cNBu7f3sTgz6qdvi1KYhsXnkkUfyR/n500A/QUD+pPPhaf60IxKLSDB4W4/EhISNNh/DBn8QwDASomLgjsQpxHJoMy3rZln8keHBffbZZ8+lA5deeukcFGRY8eOoLJflRbBSktQ6GnuQlCTVF57T8Zvf/CYH9iLTgmf2n//85+nMM8+s/q/AaqutlgOCZFyQscG0xf8QklqGa6ux6ycCdMXnt7geY964Rrl+CR7yH5rqyuinZB7VmFGVJt83Yjj/tfm/z3jE//hIDxBpQSy/OdhOtpf/+jS8EDzPPPPk6s94sYCXgFle8YVg1sHyi0HIstiOzqyzb58kdTcN3TMaGt4WWBcvyBEIpKpQPqVFMBDkg/NSC+PBtJE3zgsv3GepbeP3v/99WnTRRfOLLo1hfprAPnrvaZhBP9WFBx54IK299tq5e4MNNkinnXZarp4ncBkUH/ADCVAxAaE48/Dhw3P7+eefzx9DHTx4cP4TQf3HNPGHhPlimfGHAQxnfSR8LCfaRQT/CEYuv/zy+Q8JRaJ5848/DAQrTdQkadJEuh8Ztoi0tZzGkqaTjjOt1NY4N73PS7W19vURQQTuA2TUH3744em8887L48iQCGRQ8NLg9ttvn6677ro8jG0pbo/XrTRxuI6K4loqPn/FNUo/pfH4H/7000/nwB3/l+n/6KOPcgmEuK5jfpbHvAQCGRbD4/kP0c+6mDaGUeqO5dOm5C/fyaNqTdoE7Wabbbb8uQ8CfJTGo81ymLeIfWQ5xZfOYv3laYvzl6cpH6vOxDRQktpX8Tm0qKHhE6O8rGJ/3G8bQl78vffem6sKpRp9cJ+Nexrzx7II+G2++ebpt7/9bf72bENYPw2Yt7X2szsy6Ke6MGzYsPyQToCNhIT+soYuBR7OQyRMtBtLWKgehCpA+AgqH+ymTn+G8XYhD+4sk/WR2MWfjshMZnxsC23+YDCe4UwL+vl+CG8O8pYgbYKaDKOJ7QwmgpL0P6SlVNnEG2ekl5HOF+8DxW7SYUp0cB8pp69Sa+Pc876trqqtz9/WWn6k8bG8p556Kl1//fU5Y4K3k+PZO5ChQXWeK6ywQu4nIFjMtPCalSYdJQT4jhDXFaXxyCTkOuM57d///ne1pADDCMRTog90E6jjmuVaLQbsuTZZXgTyQlzjVKNJ/sBcc82V2wTweNmW5z5q44lx5CMg0gzWERmdkZ5EetCUmN50Q5LU1XAPi5dY4p4Yw+nm3lq8Hxbvz+TD3HXXXemGG27I7S+++KIy1f/wgs6WW26ZDjnkkLTMMstUhv4P6yneR72XNsygn7q9SHgoLcf3Okh8qO6TOvJDMcEoinlbA38MohgzJQJ5C5EPovK9gPvvvz9v18svv5wTRP7I0I4ELDIdoj+6mS4yHZimfDlPP/306Qc/+EH+00IpQT7uzZ8XSgsSLKREIYkuf2JiuaG47yybbtqsKzANDdsaCXj8+UHsS2xbcV6pq4uSurz5z7kdDzZcK4396S9eFzwskS7ENVa+Dou4hpieZTM/y4llMSyuz+K1S3et6zYUu4vK21+ertxf3u4Y39Q+BQJwpGV8KyXSSPCCBg+Cn3/+ed4mMnd4o5tjTiAOlLQm3eE7LJ999lmeprx9vPndWcS2FY9RtNnH4jGLYYhxzcG0NBwX2pxjRVSlUUQVdpwjHFPasV7mp5vjzfZSAp37Shz7wL2F6Tk/+aYty2N63oKnzTJoZppppjx9ZJwFMtdYR9xLOGeZhnWx7cX7ShyDWGZDWC/LKYv5aMq/AWJ7a2nOdco0HIuJwbpj/bGcxtYVYl+L13ljYr8nRnO2p6njVFx/c5bXlLben/bWnPOsI5WPN9vJsPjz39j215q3FqaL5Ua7iH6uj1rLi2HFZcdyAtUO3XfffemJJ57IQQXuH2x78eW6uKaYl26wjLPPPjtX+Vm8Pkm7mnu9Su2NcziaOEfLbcQzJZg2MA398T8vrvG4TuLejWI/z3M8LxBI5x7Psx1v+bMsAno8R/NtIDA98xW3k+UzDHTXwvbGdRvbGdPyIizLJYjHcKrWpIQeeQI8p/CMwrQso6HllxWPlyRJ9Sju0+XuicF9/pprrknXXnttfkbgeYF8AJ4n+G+x3Xbb5fGNrWNSt6E7M+inuvGXv/wl/0nnwZ6P8VNkOMRlUE4oWjPxKC6LP0FkZJOBSolA/pSQ4QD+HPH9wNdffz03fIOATM+bbropL4M/SbWw7OLlXO4H+06iyh8bElHaTEc39Sczjj9GvE1BsLB///65WDXT1ToWTM+8/KGqNV6qN3HN1boWuF4Y3pyMhfK1W1we6UcxiMODEW8h10JGSFyjKC6nseuV+Z555pm8nuguIvDGdhCsI9OGptzPQxoBOPabcWwHbYYjhjeUdpAWRhoTSMPoLx+f5or1TOz8rY39CcVtaun2NTR9pPFFTBvNxChmjsVvU1xm8TdiuuLv1xDOT84Lpuecizf3G8I07FexQWwXbwcyLI5vfDMnEPRkPNPTUDVX9NPmrf8iXpphmbxAE+tgGwhK8qeE648S/YznW8HloGhRbGtjOO9jW4qK537xuMb13RCuM6ZheczH8idFrC9+8xDb25x9bA2x7vZaX3cR505zf6/yNRzXQBG/RSwnzq84h4vnSFmML28Dy+D65dwt3u9i2ZHOsI5ay6cKftKUv/71r/keST8lhCjBF+viOo0gRgQNQPrA8nfdddf8bZIXXnhhgu3kel9vvfXSLbfckqdnG2J7Y3lSV1G8/rjeOI9rXXvgPOe6Yvr4Rh4lZHkm5NyP7+NRUo/rjWs0lh2iP67bWH809Eeaw7K4nuhnvYyLQF6/fv3y9q200kr5RVYatm/++efPL/muueaaeb7YJ+bh2TTWy7pIA1hHiG2TJEkNi3t3ubslmI97O/dn8pD4H83zw69//etcJSjPFfzPZhpK/Q0cODC/sFNrXRO7DfXAoJ/qBn9K+GMAqsLkDd/i6d/eiQR/PPizwXrZDv6QMKxYAqKhxIvhJH58iByUFmR/CCTyJ4zSMfwRi+n408Py+TPEHyQSUNYdf6D4w8M0sW7+IDG8jIxQ5qdNUJAqjpZaaqk8PceWeegm4WaZ5W1nHUzDtnR17EdbnjNtvXxNmlq/D8NoUMxEKOM6jOuD6blmIi0A7fKyuWYpBUcDqgsmQyWqOSJDk4xIMjfJdOHBiYxLxlOtMNd6ES8UNCb2g2XGfsUw2nEt02ZbY39jWFnsTyyjrLjvIZZNmkM36yCNpF1OQ4rzIdKy8nKjveCCC+Z2R+E4cB7w2/Pb0B3DUe6P370hMb54fDlmLKehYx44JjFNY9NyzFlmrWniuJL2s08oLrc5Glt+iPWE5iyfeWK+8vysDzE8+kMMj/XQH/tIdzRgXs7NciZpLQQLi7ifFrEczmH+/LC8CDbSsD7uu0UMY/3ch+PcKeL7Qhxf0gSCl83ZxlpiX2M7aKvr4lyJ87Yx8bs3hPExDcsrdke7uA7ORdJynlVp00+gn5LavADH/ZBnWdBmGNccz7W0+ZZXXId0F9PH4rZynnNPBOsvbwf9rJvjwHe4+Nb36quvntZdd9202mqr5WVx7W+88ca5ykHWGceMbpp77rkn8f1tlsO0zON1Ud/iPKilsXFtiXM2ngcaSv+pEYHriWuRZ0peZKFNBhz3IJ4neSmV4ZzjLCuuIdr0F8V1EPsb46Mdw2kX/19yXfECanzLZ4011sjLYjht1hfrjO2IZTGMbp6rYtoYDoYZmJckqePxXMHzBXhG4Z7Nsz3PA0OGDMkFdW6++eY8nmG33XZbGjBgwPf+R6P4LKAJGfRT3eCPCyXYeOCnPXjw4Gri0N6JBIkZin86iuuPPyQNbReJIvvBn5qYLqYtTs8w1sWfHTJL2GeCBWSyUJUo1azw544Pn8cfJdCOZYIEmPXRsDzabENgerYjtmfuuefO00T1KVSnQnWqZDjyhy62tauK4zIp+9DUMYg/s+q8uAaixBsNv2f8pmSSFHHtRaYJQTgC9Py+BOfiG6NkXH7yySc5k7L823O+MIyG6yzOH/qLmRlsE8OL52hxmuaK9XE9kx6V54/9DLG+ItINAhfxggHLIohIP2iTPtAmEMH4CHL06dMnT8P3SvmOHlVGsg1MTxrCclgmqK6YbaVhnTSU3OrMOF9iW9sKv0n8duVMvqg+tYjpYnoepjkfo7pU7hnxW0XgtYjv7DAf+8O5zXnOOcL5HOcf20M1rWC5RczD9GQm0rAOMG+cW7Sjm21imdHE/SimiYbhse5JxfYVz/vyMqOfY81xnFjFdbDtiOMd6yivm3mYpnhfLovltsaxiMAh93TasZ2B85vhURKSc6eIa71oYq5Xlh/pRfGYTQyCop1JHF/2j2MVgaswqb8hx4tzlGucdlPLK6cXVE0f4tjTZnk0w4cPz+ciDcv+9NNP8zSB84NzprHrhLSE+WmzjFhPMe1h/lppKPNF2kHDNHF90E1Aj+PKyx877bRTzkCIezjDSX+Yj/tMLO/oo49Op5xySp4/fo/YpjPOOCMdcMAB1f7Y3uJ2q3409LszHO19TvAJiXj2pM1LsHF/p831HGl4nLfRTVNM3+N6pM11wTiuLfqL1zPDeF7g/zbXEy+q8KzG/YD/hgTYec6L9JsmrufiNR5YJ+uiKd8/imKbak0T2xoiPZAkSe2vfF8u4pmAe/kVV1yRdt999/wcQC0bV155Zc3/jYznWULfZ9BPdYU/F/GnhEQGHZU4dMaEiYwdSg+SgUuRav6w8b0T/hQRxIhjFn/2EH/WEMkJ7ZiGhDzmi26mpzv+cJGJz3B+H6pho001LXRTrRrjyJzhTWzG0W7uHzXmbehmUlRMChv7XWK65v52DU0fN7JQXD8Yz752NmxnrX3hXClq6PgwfzQo/47Fcc353YqYL9ZLBh7BA0oIMCxKvnI+xJvK9NNNYIJ9IPBAwzYRUOKtZ85RMkWYJgI1ZFowHdhGlsP+R9oS5znTxrLoD8XxdLOO2GewvdFfHh7HhHasL/aZdmRYxnQhpglkKjOMTHuqGeZco6Gf/aOb4fQzHdUpFS299NJ5PA9dLIvtjCauOY4J42jH+hlOd+xXTNvWiuth/bE9KHar64tzkOsgShKVzzG+qVvENch0UT1tOShZrlaba4+0JUomcS0Xlb8hyTaRfjAt87K+xrANpBtsN/sS10tZ8VyOc5x2WVPneEPLD8X5m5q2MWzfpF5vrL+xbWjJ8ovLmZT9am3sQ63tmdRjVxbXRayrpessT9/UMWxq+5uavyEED7hvRRCa+xLdfGuUwOk666yTAw18U3RijyHXFd8Z2XnnnfN1H9dZtCmNRHCluPx4xlX3Vzx3GzrHmIaG8c05D2NacJ7RTZv/agTqeOmM850XN3mxlekJ7FGFLecd51/cE5g3lsewuPZjOHhW497D9DE+zu8iAnkExAni0abWF2rQYVn8Zys+80mSJNVSfM5pDHnC/HfnJVK+w12u8UaNM+inusEfF94OIJjFaR9/ZEhoyIRr7M3BthCXXmf5YxTHhD+KxW3j2ERwguFkivKmKAlusfqX+JPIcNr0M38sizZ/TmlzrHlTmu7Yf9r8QWUa2vH7hFhO4OPrRcxHCUO2lRsDJQwIFPLnkzYZQHxriSAE21z+vfkGRGjoNylvQ0PTBaZnP2jK64vjFcr7yx9v9qmzZBgVM6/47fijH/vH8PL2l3GsyPTm/KHN/pEZx29BJgXLZxj9tMkcJyDHucZ0ZHBEII82mfmRiR7LIzAX5yrbwzIR28f2xqtv7zcAAP/0SURBVDh+jygpxjkSAbTA9sbvTTfTMw3D4nePbsbRXV4GWB/TxLlNP9vLNtDNuiMoSH9MQwk35mM821/O1Jx11llz0I2GdVOalmXwMBTnP78RJeRoM64W1kHD+OgG28i62ZbiPodIF2J4HEswfYxj/sBwmsD4WG9bK+5DeX3tsX61veK5FedV8fwrKk6LOD9aei6UlxOaWk5D8wXm5xokM5e0jeup6Mknn8z7GGkH05MuMz3t8vrLQUzS1iLWUfThhx9WusYjHS4qTx9iv6LNttFdHj6pYv9ae3kdrdb+sG2tvX38LiieV40dy+K4lh7zWtvOfako7o9RMpSXvriX8YJX3NN4diNoR5ugXoznHkh3eyHTYa+99qp+IoA0hu2PZ4prr702bb/99nkc/dxHO8v5pfZD+s05zbkR13CcB1x/cd6U03YCeW+++WYO7PGyCWkx31TmXCLd5tmr/KzJ8lgObc5D1h39bAPzxjka88b2xDlMUJz5mGbTTTfN7cUXXzx/753rsSjSANqRljC9JElSa4nnpa233jpX7ckzjUG/ljPop7rBqc6buI888kju541dvt3Bn55af7zqFccp/pgWu8Fxij+O5Wn4I8nwSJz588i0d911V24/++yzeRzVyoCMEzJv+H4E45me+eIPZBHLL29LGeP5DVlWtME88ec6umnobmx53FSKyIhCzEObfSYgRYAmxgf2g4woMqlol5fHNpBxRYYVJcnIGCpi+nhbvVZJkoUWWqjS1Ty1Sp5QRR7VbrH8Mqp/LeL3YTsj85f5QT/Dy8sgAFcU0yO6OQZ0F8cFAlUc3/Lv2RLxW7F81sUxZpnRjmPKshlf1NB5yHSM41znd+X3i3lZJttNBiWZkQSZOT+o6oxvbTEf0/Ob0qZKOa4BjmGUpOM4Mx3LQXG/WX/5/GMfiutnu6IN5qcpn1+BY0OGUPH8ZRjLp822RHdR8XwsjovtC8xfHE8/2OaYtrzstsB64zix3lh3eXvVdTV0HrXXb9zYdTAxuG65zkgTitdbKF5DKE5fvN5rneuNXXPN2famrtlykJFAJIFC0sKGAoYtwT7ScN8hvSumkxOjvL0dje3hGJNu0cT+NXXcm4vlkeZzH+JZI9LGhnAvK1pxxRUrXbXF8gnisfw4H4vnVvl8pL88jHsT+x/3pzgmcT3QH8ck5i0uo4jzpfwc1hKxHpbD9tx00005wHfLLbfk4exj/E58E/Cvf/1rvr+zrU0dX/0Px7mh37CziXMCxW7SONI8qibnfOWc4UU1/u+QBvId9vfeey/XrEKbZ/Hid5bjHOd8ijboZlxxXeB8jOfBaBOo47yjzX8USr0ussgi+fuxXJcM50XJ4vXEeuK+EuuJcbUwPrbFc1ySJLUmnp94zthuu+3S7bffnp/jCfpR40AR03SVZ8eOYNBPdYM/MEcddVQ64YQTcv+xxx6bjjjiiA5PIOIS7OjtiD+XJK4RvIs/kBFAKIttjzZ/+vjzSuYH89LPchr6M1jrTyVVi7INBJ2okpF+5qd6UdoMA3+ai1gO6yWTiO0tZhbRpp9jHMeZ6WO7UexuSMxPE9sew2spLrN8DJgn/sijvIxYR3Q3Z/smBssurruxY8I+xLZEQz/Hm9+sKbEumjge/C6xnuJ4NHZ8QnFefmsyWgimMS8BNzLdmIYAHaXjONeYltKfbDPDyRBhHPPE9+NYFvtFpgjLjEAdy4z9ps1vFN1g+XEtgfHl3744PpZV1thwsNzidRNi2TFdQ9h39hFMG/tR3FaWFb/5xGLZsS2xHNpNbV9rY33F9av7Kv7W5XOvKVwHzFPr2iqK66WtzqVIN2JfYj/KmI6G7WX6mK+1FY8pGtqeEONjnmizfWhq/qZMarrU2ZWPd2dV63dsyXZP6vxlcdxqXQeMi2ulpWI7y9vGPfLRRx9NJ510Urrnnntyf2A9l156adptt90qQ9Qc8Rt2JTxP8b1avplO+29/+1v+/fk8Av9LXnjhhbxPDKPNPnKuNLSfnKdxHKId9wOW0b9//7xOPo1AIG/hhRfOw3nhjOAez7fxXyie45iXdlwbDKe7+P+usf97RaybjLfYNkmSpLbAs8q2226bX7LjmYpnK2q44hmkyOeRhhn0U1157rnn8rcHSDxWXnnl/Gc9mFBMnM70py8ChrQJ1FBFDn9iaVOtZLG6yHL1ZbyBW8R0sW/8CWY5oTnJZvHPNfM3VLqB8aElyXFLpi3/Ps2Zt9Y8sa3sVxwX2vST4YCYL9oxDzfponL1rJQkIBMhSh4sueSS1d+KgBzDCFLRT5uScFFSkio/55prrmqgDi05PvWgfDzKv2+5v7Ww3lh3+dzoyN+orfZX9YPzt57Oo+L16vWjziquy/a8PnkGuvPOO9OZZ56Zv+tXxDZQ4wO1M+yxxx5pm222ySWtwDbGs1Nz8SzJs07sH8+8PF/RXdxfxhP4Ac9F7Xk8mottQnm7i/0cW/YxnqVr7QMBLI4jz+lxLMCxiuAU88d0ZbEdiGkDVSYTzKOqTf5X8AIiLx2ybP5bsG1sY1Gso7zchrBfrDM+UUDND3xyYIkllsjnDS+vUXsEz7yML25fR2F/aIq/R63fRpIkqSHxfNTYMwQl/W688cZGg35lPpP8j0E/1Q1OdRr+MPEHi+8XUDy4uW82qjaOaWdIVNmO4put8ac73nKNbeTPOf3FpK+x7Y/qK6O6Ht7ipR2ZKYHvb5QRkGLejz/+OJeALKKfjB/GU/VmQ0HBhhDoaon4ndh3Gt4Ubgwf40fxONFNiTcCb+wbx4Z9ICMiSo0F3jguKh/j5pwz8VvV0lDmDWKbi9veFXBMittc7kcct+bsW3H+8vFuaLnN1dzpy5lhMV9x2zpCS/dXqqUjz+Eiz2epcyD4d8wxx+TvsAWeVWgieEXJrHXWWSf9+Mc/TgMGDMgvMZGWML78LAXuoxHQYv6mrneWUytAxjo6Y1rRUNCuJdsb/+UiKFp+fox1RJCOYOC7776bA3d87oE20/BNParX5eVBlhPP5iybdbBM5me7Iv1nucwLxtPPNDRMQz/fx2PdtOebb75czSb/Q2nz0lr8f4l2cb9jvc357dtbZz2nJElS9xBBP56D+K59c0r6+WzyPwb9VDfiDx9/4ujm1Cfwwh+/8p9DNV9n/cPHdvG78psjMgRCraSvvB+cJzScI/xZZ3xxGY2J40KbdbOMhsS52RK1tr+W8j4V52vJ78b+l/eB7UZLtx2xHc3ZBtZd6012xHHWpGnu+RSac8xZZvw+5d872i1db2vxnFFr6ahzuMjzWeo48R+i+Cx39913p4EDB+bvWvOSFuOYhmmL+E+y2GKLpQ022CCttdZa+XuJVDtexDIb+48SyyQdqJUW8AwVgaS4J3cU1h8N+9TQtsSxLP8/K6a30c34Ysk7XszjTXDmJYAXw2kzHYG9WCbTxHp4ziToxnJ53mUb4jmX48ezPNMyPuZjPC/RMS8l8xZddNH8e1JVPN/No01JvXiGjqAkWE4E+aI/jkexW5IkqV41FPSr9awU/T5D/Y9BP9Ud/lA//fTTOSGIP3DqHvg9SdL4U02JtFpq3RyaEpkPjYmkNNrFTIqm5i8nw83ZvvI8zdHZb37lzJ1if3l/IwOFfWIcDd2dfR/rCb8f4jcK8RuVh7cnzxNJUmuI5w+eS8CzSfl5hu+8XXnllTng9Pzzz+dhzb0HUhKQEmHUsACqfqSWBZ5z+/Tpk4NINAxj3f369cvrZxxBJ+aLcZ0BJex4Th82bFhus10MY5upap9h9PPsTD/tMWPG5AAeL2tSXX8RgTOmIXhGNzj2HBOWRXcE12jHs0lZPBfwmxC4AzVZ8J1oSmdyXGkvs8wyeRxYL8svzjuxzxcEKzkWLI/tZvvZb4LAsVy23f+tkiSpXjQU9KuVx8o0mpBBP9UNTnX+7PEmLUE/uu+777606qqrTlCdjNSe4o/8xJqUJLyx9RaXy3SNrac1rp3WOA6tsR1qG5NynrYFzxVJUmto6fMHL6hRDejJJ5+cvxFHgIdhIe6XxWUyLIJYZWRwRCArSqSVEUyaccYZcwCQQGDfvn3zfx+CgQSVCG5RIo1vKDNNBBEJONIQbCNjhe9hE9xke6ianurr2Sa6yXxhOFVjgm3i+3dsH/MwP+siaBfHjO2NcRFAi32J/WdapmNcBPWKGM++sN/F0nrFZUU3y+RY8K081kl7kUUWSeuuu24OphJcZVqwjNbAOhtbVlPjmxLHqatoreM6sbra8ZIkqZ5F0I/7NzU5UD06zxI81xn0a5pBP9WNeBOAb2384Q9/yAnFsccem4466qjc7Z8AdUWdIQnvLNeO13HnFRlvE6u1f1fPE0lSa5iYZ494dmM+SnidddZZ+dvQL7/8cvrPf/6TA2EE2AhkRaCvoXWwLDI5InDW1P2W6WhYB8uMbSGwxvxgWAxHZKJEBktMV1RcVnF6AojsB90ML24fAbjidjQUtETMW/5mNNvCOhZccMG8PIKUSy+9dF4uw9dff/0JxpePI8c39p12cb9bQ/G4FMXwhsY3pLz9kiRJ3ZVBv0lj0E91hT+Sp512WjriiCPynztK/d1///2VsVLX0xmS8M6SAcGxMDOkc+psjxqeJ5Kk1tDSZw/+f0QmBd3RTxP3Sv6vEKAiQ4PaSShpx7cBqdaIoCAl7F588cXcZpqGAmWNYX3My7bTXVwGw8g4iUAb2wimK24v3WxzrZJ2YDl0x/SMozThqFGjcolCStYRaCOQx7rmm2++XOJwlllmyd/Ho810c8wxR56OQB7rKGKZHKvYrhDbzHYRCKQdQT22i2XFdgWmob8lv2dTyssqH5toN1drbpskSVJnZtBv0hj0U92IP1bPPPNMWn755fOwVVZZJT366KO5W5LUOsqPFq2RSdWajytmmkmSOoNisCruc7RjOIEoSqo1hBKCfCuQ7+Ax/euvv14Z8z8sj+WQQRJVdBJco5QbbarcJCA2fPjw9MEHH3zvHkmQLqq+7N+/f56Pqjr5biABO6ZnHN+/Yzn0E8BjOgJyVBVK8I7tYBsjmBgBudhXhjFNLK+1FJcfy41jHfta/B0kSZLU8Qz6TRqDfqobxT9z8ZYopz/DacefPkmSJElqS/E3vKH/IP4/kSRJUr3aYIMN0t///vcc0CsG/ULxOdmg3/d5RFQ3im8BrL766tW3SR9//HH/UEuSJElqN/7/kCRJkpovnp99jm6aQT/VDb6HEfj+AwkEDdXOSJIkSVJ7aizDwswMSZIkaULlZ2SfmWsz6Ke6UQzurbrqqtWSfg899FBlqCRJkiRJkiRJam9RhWe5rZYx6Ke6USzpt9NOO+UPzZNw3HHHHZWhkiRJkiRJkiSpoxSDfV9//XX+bl+U6qMdjWoz6Ke60aNHj0pXSn379s0JBoG/Z555Jn377beVMZIkSZIkSZIkqSNQQ18t5UCfgb/aDPqpbhDgC3PNNVeadtppcwIyevToNMUUU1TGSJIkSZIkSZKk9lSuztPqPSeOQT/VleJbAksssUT1u35PP/10ZagkSZIkSZIkSVLXY9BPdYX6f8M888xTfVvgxRdfzG1JkiRJkiRJkqSuyKCf6tZ6661XDQLedtttuS1JkiRJkiRJktQVGfRT3dp1113T1FNPnbvHjBmT29YTLEmSJEmSJEmSuiKDfqpbU001VZpyyinTZJNNlh544IHKUEmSJEmSJEmS1J7Ip9ekM+inurbhhhvm0n6U8Hv++ecrQ1P68ssvK12SJEmSJEmSJKk9fPbZZ5WulGacccbcJiBYblSbQT/VteWWW64a4Bs8eLDVe0qSJEmSJEmS1EGKBXKmmWaaSpeay6Cf6lqPHj1Sz549c/f999+f26DqT0mSJEmSJEmS1H5GjhxZ6Rpf0u+7776r9Kk5DPqpri2//PLVNwdGjx6d25h8ci8NSZIkSZIkSZLaQ1TZWSzp17t370qXmsvIhurakksumav0pGQfdQVH9Z5W8ylJkiRJkiRJUvsaN25cbs8000w5EGhefcsY9FPd+vrrr9O0006bE45vv/02vfnmm5Ux48dJkiRJkiRJkqSOEyUA1TwG/VS34rt9vXr1yvUCjxgxIrd5c2DqqafO4yRJkiRJkiRJkroCg36qe8stt1zq0aNHrit47NixlaGSJEmSJEmSJEldh0E/1b3ZZ589ffXVV2nyySdPN910Ux5mPcGSJEmSJEmSJLWvUaNG5fZ8882Xq/a0es+WMeinukZ1nhtuuGHunnLKKavBPr/pJ0mSJEmSJElS+xk3blylSxPLoJ/qGokI1XqCQN9dd92Vu+N7f5IkSZIkSZIkqe19+umnaYoppqj0aWIY9FNd6927d1phhRVyd5T0o7jwN998k4dJkiRJkiRJkqS2N3bs2O8F/fwUV8sY9FPdIZGIhuo9F1tssdz97bffpqFDh+ZpLOknSZIkSZIkSVL7+eCDD9JXX32VC+ZMPrnhq4nhUVPdKX78k4SDgF/0v/baa7ktSZIkSZIkSZI6RgT9KKyj5jPop7oVgT7069ev0iVJkiRJkiRJkjpSVPNJbX1qPoN+qns9evSodI33xhtvVLokSZIkSZIkSVJ7i6AfNfWp+Qz6qW59+eWX1ao9KenHGwMkJE899VRlCkmSJEmSJEmS1N6ipj6Dfi1j0E91ixJ+BPq+/vrrNOWUU6app5461w9MP40kSZIkSZIkSWp/xc9zqfkM+qnuUbrviCOOyG8M9O7dO/3973+vfiRUkiRJkiRJkiSpKzCyobpHsI9SfpT6GzVqVBo6dKhvEUiSJEmSJEmS1EHMo584Bv1U9/i2H1V9UrqPhGTMmDHWEyxJkiRJkiRJkroUg36qa1TtSZWe8847by7pR7CPIKBvEUiSJEmSJEmS1DE6Mo/+22+/TV999VXu/vrrr3O7qzDop7rHBUzwj4Bfr1690scff2zQT5IkSZIkSZKkOvTee++lq6++OndPNdVUud1VGPRT3YoIfQT4CPxR2o8IPm1JkiRJkiRJklQfiAucc845qV+/fmmPPfZI5557bmVM12HQT3UrIvQR9PvBD36QA4GU+HvooYfyMEmSJEmSJEmS1L4i/75nz5653RaoBbBYAIgg3yGHHJI/ATb11FPnBl2pkJBBP9W9CPotueSSOeBHf48ePfIwSZIkSZIkSZLUvRDIo/a/yScfHybbZptt0gEHHJBjBAw75phj0t57753HdaXPgRn0kyp4Y4ALmjcInnrqqcpQSZIkSZIkSZLUUci3b20RyCP4d9ZZZ6Xbb789D6M2wKOOOiqX+Attsf62YtBPqlh99dVzwI9v+o0bN64yVJIkSZIkSZIkdSdRZecGG2yQDjrooOqnv44//vh09NFH56o9qf4TjOsqDPpJFQsssEC+eCm6+8orr1SGSpIkSZIkSZKkrozCPsUSe1TtucUWW6T77rsv9e7dOwf5/vjHP6bf/va31WmJFdCOb/t1BQb9pIrpp58+F9/lIh4xYkRlqCRJkiRJkiRJ6soI3EWVnsQA1ltvvTRo0KDcTYm+I488Mgf8KAHYlYJ8ZQb9pIrpppuuGrm3pJ8kSZIkSZIkSd0Hef80lPB74IEHcjeOOeaY9Pvf/z4HBSkBGMO7IoN+UsVCCy2Ug37o1atXbkuSJEmSJEmSpK6Pajs32mijdPvtt+fAHiX8qNLz8MMPz/1REjDaXZFBP6mCgB9RfHSlD3NKkiRJkiRJklRLsdQa3VRf2RmxXXPMMUfuZjvHjBmTuzEpQbgI7rH8bbfdNt17773V4eecc0763e9+Vz1G0QbrLDZdhUE/qWKqqaZKs802Ww7+/fOf/6wMlSRJkiRJkiSpayBwFQ2KASu6o7a7zobAXJ8+fXI32zh27NgcqJvUIOXo0aPTsGHD0pZbbplL+LEejsOxxx6b9tprr9xdDPZ1dQb9pAou7khEosSfJEmSJEmSJEldBfnc0QRqtisGAztjkIs8eYJ+NGz766+/ntuTmlc/9dRTp1133TXddddduZ/lnXHGGenII4/M/cQDCDKWj1lXZdBPKiAB4MKmbl9JkiRJkiRJkroy8rqnm2661Lt373T00Ufn/s4Y3IoSiNNPP30OxI0cOTKX0vvyyy/z8IlBsHP99ddPgwYNqpbwO+2009KBBx6Yx1P7X2ct+TixDPpJBcsvv3z1In/qqadym8RAkiRJkiRJkqSuhOAZVVsSOKM57rjj0kknnVQZO15Hl/orlj7s0aNH/gQXCNC98MILuaDOxGB5m2yySXr00Udznn+vXr1yCb8DDjggH5eO3u+2YtBPKuBijyAfdQaD4r4G/iRJkiRJkiRJXQnBrllnnTXtscceOchFXvcxxxyTfvvb3+Y8b4aRJ96RCO5FyUPaBP5agn0oBvCiFr8NNtgg3X///Xk/2ccTTzwx7bPPPnkdHJdYZ3dj0E+qIGFYaaWVcsJHsd6XXnqpMkaSJEmSJEmSpM4vgmBRkIWA1yWXXJJ22WWXPJz87z/96U/p17/+dfrmm286TaGXCMJNO+20ud1SUaCHEo0bb7xxNeCHs846K5fwo7Rfd2fQT6ogUYmEgYYPhYJuEj5JkiRJkiRJkjoz8rmjNBsiCHjFFVfkEn/kd5MPfuaZZ6Yjjzwy98e0nUFLS/rF/kY+/qabbpruvvvu6rizzz47l/CrFwb9pIJ+/fpVulIaPnx4bpMwSJIkSZIkSZLUVUS+NoGwCIxdcMEFafPNN8/fyaO2u5NPPjmdeuqpebqoFrMjRQCypYE/gpjsz3LLLZeefPLJPGyGGWbI3y/cd9998/LqJZ/foJ9UwdsOSy21VDUR/OKLL/LwekkMJEmSJEmSJEndE/ncBNVuu+22/L27KN3H9/1OOeWUHDQD+eQdhe3DuHHjcrspsa3sC6UYn3vuuRy8JI//0EMPTQcffHB1v+qFQT+pgrcBZpllltwmsXjrrbdy26CfJEmSJEmSJKkrI6/766+/zs0tt9ySNtxwwxwsY/jhhx+eTjzxxBwwIz+cdgTU2tOUU06ZFllkkUpf09jWjz76KO24447psssuy9vMPlGlZwT8xo4dW5m6Phj0kyr4aGlE/UksPv/882rC1hEJnCRJkiRJkiRJrYE87169euU8cLpvvvnmtNlmm+WqLxnG9/3+/Oc/52kJvkXhmPZEwO5f//pX3r7mOuSQQ9J1111XLbl4zjnn5Co9I6+ffe4MVZe2F4N+UgWJGwnDvPPOmxO0kSNH5kCgJEmSJEmSJEldXQTTaJMXfu211+Zv/MXwww47LFf1yTjyxgn6UeVmewT/Yh1sC0FH+seMGVMzAMg48vB/8pOfpBtuuCH17Nkz5+/vtddeuZrPENPxDcN6YdBPquDixzTTTFNNUOJtAEmSJEmSJEmSuhO+fXf99denLbbYIgfGyCPnG38XX3xxNTDINLUCb60t1jH33HPngCNBvLfffjsPo0pSfPnll7mN888/P1111VXVcaeeemq66KKL8nwMI4+fJkoA1guDflIBiUEkHCRy0d0eiZokSZIkSZIkSe2BvHDywKn68oorrkgDBgyoBv5+8YtfpBtvvDFPR0m/9kKQbqaZZsrd5M2zbbSjcA4BPfrPPffc/M0+trV3795p5513Tj//+c+rBXsI9NVjwA8G/aSKSACWWmqpapDvvffeq74RIEmSJEmSJElSd0AJvgj88d07vvFHVZ90U70m1WTuvffe7VYghjx4AnrUwBfVe7JtBPpiPA2l+aiGNAJ822yzTTrvvPPydpLHz3D2rR4DfjDoJxXwxsDCCy9cfRNgyJAhObGwpJ8kSZIkSZIkqauL4Bl54ATXCJLR36dPn/x9vBVWWCGNHTs2l7K77LLL8nfzogpNpmsr5MHzbT7y6CldSOCOIGCUNKTKT4J7+++/f94Oxu++++7pggsuyMFBxH7VM4N+UsmPfvSjnNCROLz00kuVoZIkSZIkSZIkdW3FQi60I0gWAb0HH3ww/fjHP84BOIZde+21abfddst55UzPsJi2LSy77LK5TR79888/n4N7oOThfvvtl/sJBFKl56WXXlodzzbFftUzg35SRSRUvMFAN28RvP/++3mYJEmSJEmSJEndUQTLCKZRqo9A3xZbbFGtZvO2225LJ5xwQho6dGieri2Ca6x73LhxOX+e0n6sl8Af1X1ecskl6a9//Wt1uv79++dSf2xrBP0M+I1n0E+qIAHBLLPMktugyLAkSZIkSZIkSd0ZQTMCaAT6qC5z4MCBuWE4wbjrr78+LbPMMrkdBWhaE+um1CEBPwrkgG25+uqr00EHHVTNv6ck4DPPPFOtCrTeq/Ms82hIFfEmwEILLZS7aT7//PM8TJIkSZIkSZKkekEQbquttspBNwJrBN0I/lGtJiUB4zt/rYlgYq9evSp9KQf3fvazn6XRo0fnAN8qq6ySnnrqKQN9jfDIqO6RkBTfTOjdu3duE/R74403qh8KlSRJkiRJkiSpHpBnTt749ttvX63WEwT/+MYf39gbO3Zs7o+SeZMi8ugXWWSRHNQjf/7VV1/NwyjxRwm/++67z4BfEzw6UgWJCAnLjDPOWBkyPgFjuCRJkiRJkiRJ9YK8carQ5Bt7P/zhD3MpPwKAIPB2zTXXpD59+qTbb789D2tt5NUTTCTgt/jii6eHHnooVzuqxhn0k0qmmWaaSleqfjBUkiRJkiRJkqR6Qd44BWKo5pNgW48ePdIVV1yRdt9991y1J+NpEwj86U9/WplrQi3JW2ddX3zxRfrxj39cLYxDs8QSS6QHHnggb0cU0GmNkoXdlUE/1b1IPIrND37wgzzu9ddfz4mJJEmSJEmSJEndHfnjRZTqI3hHQ+DvwgsvTHfffXcO+oEA3HXXXZfno8rPTz/9NJcKRFNBv/guIKUJCSjOMccc6ZFHHsnDYp0EAaeffvo8DKyH7VBtBv2kiuKHR0lkwBsFI0aMyN2SJEmSJEmSJNWTCAKSV04Qjvbqq6+eRo4cmYN9BP9oevXqlQN3s846a9p5553T9ddfX52ewCD57xEEpJvvBTLu2WefTTvuuGMuLUgBHIKMLI82wT2CiGo+g35SRfHNBIorRyL2/vvv5+GSJEmSJEmSJNUbAn8033zzTQ7M8a0/bLXVVmnUqFFpr732yqX7yE+nue2229Iuu+ySv8c300wzpe222y5tttlm6fLLL0/PPfdcDghuvPHGuQTfCiuskL8LSJ48gT7y5S+66KK8nAgWqvkm+78D5wfLpJK11lorfxiUhOzxxx/PCU+80SBJkiRJkiRJUr0irEQwLgrPEKx77LHH0mWXXZYuvfTSHOwjQEhBG4KEDVX3SZ57VB/KslZbbbV00003pWmnnTYPpxk0aFBad911zZ9vJkv6SRUUJw4kVCCxeeutt0xQJEmSJEmSJEn6P+SXR8Av8s5XWWWVdP7556dPPvkkXX311Wm99dbLQbuxY8fmfPZiwK+Y305pv4022igHDSkhON100+Xxw4YNy1WIGvBrGUv6SQVcDiQgfHCU+odxyy235EQnqv+UJEmSJEmSJEnjEfyjUA2l+kA3+ekRFKQ9cODAPO6OO+7I/TvssENadNFFU//+/fNwGNybdAb9pBIuib333jsXRab7mmuuyQmQJEmSJEmSJElqPgJ8lPgrdtNGrSCfgb9JY/WeUgmJygILLFAtcvzhhx9WxkiSJEmSJEmSpFr4zl8ZQb74tFYE/2jTRICPNs1XX32V+xH58zRqPoN+UgkJC28aRGLCN/0kSZIkSZIkSVJt5KdPOeWUNYN0Ue1nLcWSfT169Kh0/S8QWByvphn0kwoI9lHX8EILLZT7SVD40KgkSZIkSZIkSaqtGJxri9J5lvhrHoN+UgEJB4nTvPPOm9sUMf7ss8+qdQxLkiRJkiRJkiR1Rgb9pAKKGVO/cNQ9TL8l/SRJkiRJkiRJahwFaaJpbW2xzO7IoJ9UQqBvscUWq5b0++abb6ofGJUkSZIkSZIkSepsqMnQSIZUw3TTTVet0vPtt9/ObUmSJEmSJEmSpM7KoJ9UA6X9KN331VdfpdGjR1eGSpIkSZIkSZIkdU4G/aQGTDnllKlnz56pV69e+Tt/kiRJkiRJkiRJnVH+ZFmlW1LJzDPPnMaOHZvee+89PxIqSZIkSZIkSZI6NYN+kiRJkiRJkiRJUhdn0E+SJEmSJEmSJEnq4gz6SZIkSZIkSZIkSV2cQT+pAQsssEClK6VPP/200iVJkiRJkiRJktT5GPSTGvHf//43TTHFFJU+SZIkSZIkSZKkzsmgn9SAySabLDfffvtteueddypDJUmSJEmSJEldBQU7pHph0E9qQL9+/dJUU02Vg349evSoDJUkSZIkSZIkSep8DPpJDSDQ99VXX6Wpp546DR48uDJUkiRJkiRJktTZFEv0RffXX3+dvvvuu9wNussl/5iGgh9DhgxJF110UTr88MPT+eefXxkrdS2T/d8JbtlWqQYS9v322y93H3jggen000/P3ZIkSZIkSZKkzoWA3uSTjy/nVOyOgh2BAB/BvXvuuSeNHTs2Pf7442ncuHF53JdffpnbeP3119NCCy1U6ZO6Bkv6SQ2YYoop8s2BKj6Lb4NIkiRJkiRJkjoXgnzk40bAb/jw4emSSy5JxxxzTNpss81Sz549U69evdKUU06ZDjjggHTXXXele++9N40cOTIH+2giUBhtqauxpJ/UgEceeSStscYaOYFfe+2109///vfKGEmSJEmSJElSZzNw4MB0yy23pFtvvTX3R/AuCnXQT0gkwiIEASnt17t377T44ounOeaYIy211FJp2223TYsuumieRupKDPpJDfjggw/SnHPOmb/tt/LKK6cHHnigMkaSJEmSJEmSGhclzsiCn2yyySpD1ZBRo0blIBzHjOPFcYtjiDiGVMVJdZ3PP/98Lsn3yiuvpIcffjhPVwzuMT1VeVKT2zfffJP7+/TpkwYMGJCWWWaZtO6666ZZZ501zT///BNU/yl1ZQb9pAa8/fbbacEFF8zds88+e3r//fdztyRJkiRJkiQ1JQJWBJ4IOEXwSrURqqCJ4B2BugjGMXzIkCHprLPOSh9++GGupY1v9cWxZTyfa6IfDKMwx5prrpmDe7SXWGKJvEymY7lMyzIINErdhUE/qQFcGtwYvv766xz042bSVlgXNyJJkiRJkiRJXVM5j498xQcffDAHljbZZJPKUDWEQF8E7QjM8a29Sy+9tPrtvQjuIY4zbZppp502l+Cj5rZddtklf7Ypfg9+B0r7sewIDBJYZLgl/NTdGPSTGsClwUddQTHvtgj6xY0n2pIkSZIkSZK6pnJe36BBg9Kmm26aA0wjRoxIPXv2rEypWuK4HXXUUenmm2/O1XZGqT+CdbSZJmy00UZpvfXWy03//v2rJStBN8uiieER9CuOB23zZ9VdGPSTGsBNgI+3Dh06NPe/8cYbubpP3gAhGNgWN4F4y8QbjCRJkiRJktQ1lLPYydsjn2/VVVdNTz31VB7G9+eWXHLJ3K0JRcDthhtuSNttt10eRn8cVwJ15JluscUWaeGFF05bb711+tGPfpSHMY68WoJ4EdCL5TWkqfFSVxTXi5UIS42gPue4AVDSj5t1fPi1tXBDoqg6pQkpTs7NLS5QSZIkSZIkSZ0b+YfRBAJQTz75ZM7no4TfQgstVBmjIo4Pzeqrr54DfhxDjh3DyCs9/PDD0+DBg3MVqddff306/vjjc/CUfFuOKwE/piXfNpZX/B2kehFpkEE/qQHcXGaaaaZK3/hSeKNHj87dBP64gbQGljP33HOnYcOG5Yvyyiuv9MYkSZIkSZJUJ4p5TK2V3zSxmrP+jt7Gzi6Ozx133JHzF8nnozYxq/Ycr3z+EMxbaqml0iOPPJL7Gb/NNtuksWPH5uYPf/hDWnrppSeYL44roh3Bv+bkq5r3qu7MoJ/UCN4YATcCSuTRT/We5ZtTSzE/yyOQSL3ew4cPz90Mu+qqqypTSZIkSZIkSeoqyPOLfMNbb701t+kn/89A0/e99NJLabnllsttAnk0v/nNb3KhCIKkVN9J4QuUj9+4ceMqXSlP5yeTpPEM+klN4GYRDTcZmuhvCQJ6BAzBvNzwr7vuuvxBX1Bc/ZprrknTTz997pckSZIkSVL9iGARyEMiL4lSUDE8qi8sKs4TGEbD/OUG0Y7pQnQXhxWxfrYHsQxNiDw/Ald466238rEkz2/77bdvcV5idxXnF+fQzjvvnP7xj3/kY0NJvUsvvTQde+yxOf+11jlWPIaWnJRqM+gnNYAby5xzzplvONysebCJoN3EYP64YdGMGDEi7brrrnkcN6xzzz03bbXVVj4ASJIkSZIk1YkIbJQDHOQhUXKJgBF5RYwn4FaerixqqGKeKP1UbL788svcZjqmoYnlRp5UtMvIH2N7WD7LaGpb6hHVUXJcyAd87LHH8jCO5wILLJC76x3nXwT99t9///Taa6/lbhDwIzjKOQbOMUktN9n/XWS1X92QlPbcc898w8ENN9yQNtlkk2qVnxODm37csNZff/1077335hvdFltskW666aZqcDHeCJIkSZIkSVL9IJ8oAnEEP6L90Ucf5ZJjH3/8cRozZkz65JNP0qhRo3JwkEDTZ599lttvvPFGzn+KgFw565dPzPTo0SP169ev2p5tttnS3HPPnfsXXHDB3KYmqgi+hFgWbRrzr76P40JAle/5bbfddrmf6iufeOIJg1gFVOe50kor5XMZEfDr3bt37o9zraEAtKSGGfSTGnHUUUelP/7xj/kGc/HFF+ci5+UHnpaIoN+QIUPSsssum/tZNg9ss8wyS56G+qgtni5JkiRJktT9jRw5Mt1+++25BBSBIvKKCNzxUvjrr7+ea6CK0nvxsjgiGEK7nL1bHFfGtAQKCSbS/uabb6oBQvKsYnkxbLXVVsvtjTbaKLfXWGONtMwyy+S8q8ZeXGcZtdZfL3bYYYd0/fXX52Nw/PHH5+/U1fPxKHr11Vfz8aFaT85tCl1ceOGFEwRFGzqnJTXN1wukBsRDVNxkCMwR8IuHnuZi/mjiBrXCCitUl3PBBRfkgB/9rNOAnyRJkiRJUtfQVD4RQTtKLz3zzDM5wEGg4/TTT0/bbrttmn/++dOss86aXzLfY489cvDvzjvvzEG/qPaQoBz5STSsizaBNtqR1xTd0TBdtKMhz4mG7qhisVxdaEzH8sgDo3n00UfTI488ko488sj0u9/9Lq2yyippmmmmSauuumo6++yz83yx3kA3y6hHHFN8+OGHOajKb7XhhhtWfyOl9Nxzz6WhQ4fm64Ea1TbeeOPvlYKM8zoaSc1nST+pAVwaJ510Un6o4aHnuOOOS4cddli+YU8MbmTMy0MRdXrzwEdpvwceeKAyxfi60SVJkiRJktS1xMvj5O0QVCMP6Pnnn08DBgzIeUIE/wheEMQjz4mAGtNRlSZtxjGc+ZiWqjrpnmmmmVLfvn3TvPPOm9vkJY0YMSJNO+20aa655krTTTddDpiwPOYLDQVKmJb1Uc0n7XfffTeXKGTdBBupbpGqRCmBSN4V7eL2FbEs8szIOzv44INTnz59vhe8qUecC/x2NBw3avXSeBwLSopS2o9zf7fddkvnn3++543Uigz6SQ3g0rjyyivTPvvsk9/SoZrPX//61/khinENPTw1hHlefPHFtPzyy+ebPw+Bt912W7V6BEmSJEmSJHUd5PVEEy9y86I3JeMI+JHvE9/kI/DHdCBPiWAZtT0tssgiab755ssBonXXXTeXpCN4N+ecc+ZlMm/ME5i3HCQhr4mAIoGUScXyWVas+5577knvvPNOev/993MVpORvsT72h+1ie5meb7TxHbsDDzwwz0cAMb7RVk8IqBKgxVprrZXuv//+6rGqd08++WQOhHOecg7deOONadNNN83ns8dIah0G/aQGcOO566670tZbb50fXH7605/mj8pOCm5qfLgX1FfNdwIlSZIkSZLU9e23337522QRECuinyDaQgstlFZcccX8YjkBv3IAj+mK8xaDINHN+OgmmMj8xdqjyusOLQmosF1gXwhIxjojIEi1n5Twe/zxx3Opw1GjRuX9Y9zMM8+c87w222yzvIyi4rZ3V7feemvaaqut8nE75JBDckECjhv99e4nP/lJLmTBeUD35ZdfnofXw3khtRfLzarT4qEi2g09rLQl1svDFw9PoC7uEA8+LcHDzlNPPZW7eZPrjDPOyN0TsyxJkiRJkiR1HmeeeWY699xzq/lZ5GXRRLWeePPNN9PgwYPTJZdckvOcUC6xx7QMiyaWE+iO5cXyi9MVpy1rbFxZrD8CVbFOhhHcW3vttXOpRvK1+NYf32aLbwR+8cUXaZtttklLL710/kZhKOeBddc8MX5fcKzmnnvuCY5jPYnzkd+Zhmvj7rvvzscDxdrPDPhJrcegnzotbgY8LMTDUnuLh7J4UypuToibU2NiWubjradDDz00d3OTP+ecc/JHj9m/5ixLkiRJkiRJndeqq66aA18gT2mnnXbKtT0tvPDCOW+JPKbZZputWmVmcwNwzBcBkZgngimdAXldVOdJVZ4PPPBAWnnllfP+k+dFNaBbbLFFDv5R+o08sOJ2d8c8MY4H30QEx4DzIDCunsS5y+9MoQrOh08//TTnmS6++OJp++23r0wpqTUZbVCnRXUAJ598cjr11FPzB4PbGzclqicI//znP1t0cy5Wq/D0009XP8C84IIL5qo9ueHxoMcyO8uDmiRJkiRJklpuueWWS8OGDcuBPtpXX311WmaZZVK/fv1y3g/5TK+99lqHB7paOw+quD9rrrlm/p7htddemxZYYIG83+R9DRkyJFd3edZZZ1UDlt01AMbxeOONN6oBr/i2HwgC1puoQY1v+FElLAE/8kc32WSTPFxS6zPop06Lm8AxxxyTjjjiiGpVmO2NN7TYDt5QimL4zX0o4QGGeT///PN08MEH55scgUy+C8jwIh4CJEmSJEmS1HWRv0PwjwAHCHhRui/ykp577rncbkwExaLp7Njn3r1753wvtpeX4CndN3To0Pwy/6KLLlot3UgtWIzrzsjzGzlyZA7+rbDCCnkYx4hjw+d+6k2cw5wfFIrgWHA9rLLKKtWAoKTWZdBPnVYExrg5/P73v8/9lJZrT9NNN12aa6658rqpdx0teSOLaX/729/mNje0JZdcMq200kqVsZIkSZIkSeou4vt6xbyj+HYfXn311UpX818AZ7rWblobeXfxmZzAy/OHHXZY/u7f5ptvnocR5OEbf1tuuWXuL2IZESDqym677bZ8LMhLJC+wvF/dYR9bImo543x48skn8zCuD0r6RQELSa3LoJ86LQJua6yxRu7moeEXv/hFtW709kLJPN7Oiao6iw9tTWHeq666Kl1xxRXVN7rOP//83C5W/dkWD1uSJEmSJEnqeGuttVYO9JD/88ILL1SG1tYdA0KUerz++uvTH/7wh3wMaP72t7/loA/5ZfHSP8PJS+vq2B+q8aRUH9831Pj8VAK+nAvRPXr06MpYSa3NoJ86LW4CBxxwQO7mIeCaa67JAbj2wsMGb+bwXb94AGkJ3lY599xzq0XVd91119S/f//vFV1nPZIkSZIkSep+5p577pzHRYmnL7744nslv0JXDvhFMK8o9pNauxh3+OGHp1NPPTUP42X4QYMG5e/8BYZ3h5Jf99xzTzWwRVWv9Sp+f5oo6ff666/nwB/dUSWspNZn0E+dGsX9eSOKG8GoUaNyNZ/tiYeSOeaYo1pSryUGDhyYBg8enLt5sKPecvaj+ADDjU+SJEmSJEndEzVZgRfKqd4zAiFF3TF/KIKA1NpFvhov1v/qV79Kp59+ej4WjKfEH/lnKAcNu6rnn38+7wu/aT2X9OMYREMQ9Msvv8xBPtrzzTdfPge6Q5BX6owM+qnTigeegw46qPrmB9Vl8lZUe2G98fFlbkbvvvtugwHA8gPaGWecUX1g2WWXXdICCyyQb3JFMV6SJEmSJEldW0P5PJGXRJWGlHIjfyjykbpjwC/E8Sgel/322y+dfPLJeb8Zzkvyb775ZmVs18X+0Lz44os5D5Fu8gLN+xt//v/rX//Kx4LjUjz/JbU+g37qtLgh8PbHpptumt+M4e2P4cOHpyOOOKIyRdtjnfPPP3/uZnsoht6cm9I//vGPNGTIkPwgxw3tvPPOy6X8JEmSJEmSVD8IcMw000z5e3W8XD5s2LA8PIJB9RQUIk+NvLYDDzwwbbjhhrn/s88+S/vss08+NuS9dbVgEAE+vuHH70hgK7Z/mWWWyW2NP8ejEAd5pQsttFAeFsFwSa3LoJ86rXjzCccee2y+EfBgcMEFF+SqPtsbJf64kbNNtMviIY26ynfffffcz01/7733rpYWlCRJkiRJUn1ZfPHFq8Ggl156qVqjVb0GPcgnO/7441Pfvn1z/wMPPJDzzyIfsCthm/msD78v+YU07B/5mhqPPNJ33nknd8e5j674e0tdgVeWOrUI/A0YMCCtsMIKueQfD0TtWdqPeqbBet94443c3dhN6Ze//GUu6cfNfsUVV0znn39+ZYwkSZIkSZLqDYGgCPrxbTsaRP5SvEjeXbF/0QRKwj399NO5m+Nw5ZVX5u/hdTWxT+QbEtClTWDLkn4TihKu/NYLLrhgo3mrXV1c61JHMeinTi1uALwx87vf/S7fSEk4zzrrrPxgMG7cuDy+NRNTllVspp9++hx8pBqGMWPGfO8hpejZZ59NV1xxRbUkIgHAhqaVJEmSJElS90eeUuCF9loiv6ncdBeRz1ZENY8bbbRRdT8fe+yx3O6K2IdBgwZV+lJaaaWVau5zvYn979mzZ25znCjh2V3O7WLJRX9vdRYG/dRl8G2/1VdfvRoIPOOMM/INo5i4tgZuOjTxQMYDCEE/3sKiKDpVdjaUgJ999tn5jR7m5zuE2267bbe5iUmSJEmSJKllyCeaZ555cnc95xFFflvZ+uuvn48ReW/FoFlXw75FSUW6u1Nga1KQj4p//vOfuVAHpV7nn3/+CQLhXRmfoioqBv44r6WOYNBPXQY3BUr7RcJ5yy23VKsBaIubKIk2iTNBRm5QBBfjIYT1lQN/zzzzTBo4cGCenoYAYLzFIkmSJEmSpPpDHtEss8xSzS/ShHbeeed8XMh3+/TTTytDx2vopfvOJAoHkFcYgSz6l1hiidxd7/i+IceIhlKu5LfSEADsDqIwyssvv5z3ddppp82FRuKckDqCdxp1GSSUvP2z22675YcBbhYnnHBCHtfapf2KFl544bxugn3vvvtuXm8tVOXJdjHdT3/607TccsvlICHb1hUeUiRJkiRJktS6yBMiEEAeUZT8MRjwPzPPPHPq3bt37n7uuedyuyshgBX5flHSj35Kd5ofOB4BvmKQj7zSCJZ2dfH777vvvrmfwCYFV7jGvc7VUQz6qcuIhPKcc87JgTXccccdbfZAEDcegn50k2DzTb9evXrl4cUbE9/yi1KHOO+88/J4migZKEmSJEmSpPpCnlDUBEU+0eeff17NM9L4IMmaa65ZDQo9+uijuR0B0s6O7eQ3fvvtt3M3v/Wyyy6b8wO7SxWWk4pznSAfx4ljxCeU0B3yS8kvPuuss/L3KOleaqml8qei1DaK6Wa5oE1XSTPag0E/dTm8HbXBBhvkhwEu7BNPPLF6s2hLlOL78MMPq4kJCXlYZZVV8vaQuFDKL7YNBvwkSZIkSZLqF4EAkLfEi+PmFf0PwbHVV189Z+CT18aL9OhKATN+Tz77A/YjCitQCkzjj8/YsWNzN3mn/M7d5Rrgt/7b3/5WLfFHvvCwYcMqY9XaiucNx5zzady4cbmf9FXjeSTUZXBRR8SeItPc/ElMb7vttvTCCy/k4W2J9Y8cObL60BE37pVWWim/lcQbKwT//vKXv+TtZNuYp7vcxCRJkiRJktQy5BH94x//yBnSdEdASONxPNZZZ52cj8bx4dM6BIiK+YCdWWwneYOge5lllpmgsEDkD0YBgXo0/fTTV7rGF6RoywIcE3ucJ2a+gQMHpoceeijnF/Mdx/333z/17du3S5y7XRHHlSZK+d10001p0KBB3aa62NZi0E9dBjcEHpC48W+00Ub5gYAPpOK3v/1tbqM1L/BywI4bVDyccTPfa6+90osvvpinY/gpp5wywVsF5fklSZIkSZJUXwgGkEfEC+QjRozIw8i4jtJP9Y4AUOSn0c2ndchn6woBUn5Xtj1K+tG99NJLTxD0U0qzzjprpWt83m1nzDOdmDzlSy+9NLeZd/vtt89tA35th+uL5tZbb81xgV122SVtt912uVCQx/1/DPqpy4gbPTd+Lu7jjz8+F9/lgenvf/97jurHxd0agb/izWfBBRfM7Xfeeada0u+BBx5IV199dQ7+sT0777xzGjBgQHXdDDPoJ0mSJEmSVL/IH5phhhmqQaAPPvggtxlOHle9I++sf//+1e8efvzxxzmvLYIntFsjn6+tsP1sH9/0o5ttJh+R4CXDi3mD9ZxPWAzIUJNaexgzZkyl63+faWLd/C5RMox2UUvPtSeeeCK3CUBFoRR+53r+rVtb+Tf61a9+lQN9lPYjn572k08+aaC9gnPYoJ+6FE7aaJZbbrm03nrrVYvznnbaafmBie7WSlhjOfGNPm5QPHzgT3/6Uw46MmzHHXdMl112WR4OA36SJEmSJElCZFqTQT3ddNPl7mIQpN5xXAjQ8GL/8OHDJyg11xUCKPyWb775Zu4m/3CuuebK7eiP7lDuV+uK86V37965zfX3k5/8JAeW+/TpUw3Eb7bZZtXfDQxvDn5vAkx//vOfq78ln3yq9Vtr0nA8SRdoc8xvuOGGdNZZZ+VxxZcm+E3Iv9d4Bv3UpcSNnoaL+bDDDssXNP33339/uvfee5udQDeF5cdNYs4556wm2lTDsNtuu+WSfpQ+ZNzee++d18s0sW2SJEmSJEkSeUeRxxSlnFor/6o7IH8tAjS8bL/AAgt0iao9A9sagV0CEXPPPXf+vYtNvQaDivvdVseg1nLjG4sUEuEbezfeeGO+5gj88XsQZL7rrrvS4osvnv7whz+kYcOGVUsGNradjGM5BKqPPfbYnAfM56BYBssNxW5NvLh+OM5U4UkJP7oJBFI9cvweBF3RVudYV+PdRV0WJfzWWGONtOGGG+abKxf7cccd12oBt+LDV5T0Yx18nJVqPUlweMPg1FNPzQlLcb1xY5EkSZIkSVJ9m3feeXPeElU+fvTRRzlPK/KV6h3HgTw4AqMcF/L4qCqRbo4P+XFdISM/SoxRgiz2qYhhxbbaFiXCOKd+/etf5zxb8moJEvXr1y/NNNNME9TqxiekKODBeddUvnL8fs8991z67LPPcvdiiy2W84YJ6LfF71vvgSyCsQTVt95669zPMSboSlrBdUZtgNtss03dH6fA8THopy6LByWCcAceeGBOkGkee+yxnOi2JhKMtdZaK7+pw8PGeeedly8ebg477LBDbiKRCdbJLkmSJEmSJJBnFEEs2pGHRH6SxiOfDRyjd999N+f5cXzIg2uLQEprev311ytd47c/9qUh7E+9BCgiiBbnPQ2fS+I4TQzm5dgRxGOZiHxhvPzyy2nNNddM++yzT/5+JseaaQkYMd/zzz+fPvnkk3ThhRfmc4xAHwGkO+64o5rnG79PQ78R28D3+2I6AoaIqnsZ3ppYXhyvKGgS+14PKAV8xBFHVI/riiuumH83jgnHnwI6iHOgod+tnhj0U5dFgoy11147bbrpprmfi/uoo45q1ZJ2JCg0sfxXXnmlmtByg4gEBa2dqEuSJEmSJKn7IO8ogn4TG/jojt57771K1/igSlfyxhtv5DbBhlVXXTWXKCvmF9ZSL3mIBG4JUC244IL5mNBQIo5rYGLyb6N6TgJ2NFxDNOTbbr755mmJJZbIQSB+A9a9zDLL5EAf1XsWg0HbbrttOvPMM/O2sU1szwEHHJCGDBmSRo0alaep9RuxDH7vhx9+OBdImXnmmXOAMca1FfaF7STYBfa9npx++umVrpSefPLJfKz5zQi+EmSnJCDHqC1/g67EoJ+6rEjkSPBuvfXWnNByYQ8aNCg9+OCDedykYFmRUJBocAOJxJ6SfJdddlnehnhQM1GRJEmSJElSEflF5F0FAgrRHy+015Na+WcXXXRRGj58eO7mG2uLLrpoPkZdJa/t7bffrpsg3sQgQBWlIcm/pQpUflvyVSf2NyY/NgI9gwcPzsu6/fbbJ1geQb1nnnkmn1OI34hpKD32i1/8Ipcgi+1gWXvvvXce19B2sYxrrrkmr5+A4X777ZeHF/ONWxtB8Jdeeim98MILeX/CxB67roYqWiPIy2/EsSdgvPTSS+eqWelneDGdrXcG/dTlRdBt3333zW0SPL6z15pYBwlHrGv99devVuvpW1mSJEmSJElqCkGBESNGVKvma6oayHpAftuVV16ZjwWZ+jvuuGOafvrpu0xAlHxB8gvZfpqVVlopFxaIPMR6F/mms8wySz4m9FPSD5OSp0og7MMPP0zrrbdezqfl2iKflnPoD3/4Qw4I/vKXv8zTMryIaeMa/NWvfpW/B8cw8pT5bNQll1ySx9UKqrHcc845pxpgOuSQQ3J3rKO1A39//vOf08Ybb5yWWmqpXGpx+eWXz0FKCqOw3tiO7hwA5Bjwe3Hs2U8ajvd9992X959Sna193Ls6Ux91GzvttFN+UwT3339/uvvuu3M3SACam/hF4kFiEQn+pZdeWhk7vpQfJQsjUY1pTFwkSZIkSZJUFPlMkTdFm8AE3fWM40BGPlX1Pf744zlDn/4IohBA6wrHKIIPlDxiHwjKEJCKfMPOiO0MEUhBWx7vWWedNbdZx1tvvZW7m5OXyvTRBM4Tgl4LLLBAuvfee/OxJ6BI1apPPfVU+s1vfpOvseJ+ljEe0047bTr00EPTZpttltfB70k1nywvtq8YnORTT2PGjMnjV1tttVxycVLzhONcYb9ocO6556bFFlssHXTQQfn6iHQD7Neee+6Zrr322mq+dHfD/tJcffXV1cA6+xr7S2nLKJFJWjGpv0F3Y9BP3cYKK6yQdtlll5wIkOCedtppeTgJRCQMJATRNCQSkEhkL7744vwdP7Ac3q6IZcS0kiRJkiRJUkPImK5nxTy5yKsjiPHoo49WgyqUZuI4MQ7R7szYn8h3pJlnnnk6ZX5hHHtE0JmGPNTQFtscy+QYxfpbivliOVdddVVad911c9WcDGdfOG8oDXbHHXek/v37V681SsQ1hSAf3wE8/PDDc3WRLJMg4vbbb5/H0880nLO47bbb8jo5Z7fccsvcHdvGtNG0RJznLItqPCnRd+CBB6ahQ4fm4ezTiSeemO68885cMIVCL6xz1113zSUTCTK3dJ2dVexHBPrOO++83M3x5/fkGPFbbb311t9LHzgm8VvUO4N+6ja4qKmrmYSYgB2l/f7+979XbyrlxK/WMMQwlkPxYJbJDTAScbpJaIoJiQmKJEmSJEmSysiXIi9pmmmmqQYONN6QIUOqVSlio402ygEX8ubI6I9gYGfG9harF5x33nlznmJnzSvkHIw80cgDbcttjXxZ8lVjfS3BtsV8BIAo4fbwww/nfvaFQB2l+/baa69cai/W1xKsY8UVV8yl+GJ9f/vb33JAjX7ymVku5yP5zVFQhKpB49hNzL6VsX/LLrtsevHFF/O6fvCDH+Rt4puFrItg53TTTZeGDRtWXd/++++f0xe2D62xHR0pjj/nC9cWJYFjOCUc+Z1POOGE3F9sNCGDfuo24iInESShI3E49thjcwIxMd599920++67p9deey3fvKlLnMRl9OjRE9y8TVgkSZIkSZLUEPKOiiX96jEvKfaZYAb5dgRsKLn0+uuv5+GMn2mmmaqls8h7o+nsevbsmfMQQ63ftjMEYtiuaCgZ9pe//CVtvvnmOYjEuUng6KSTTqpM3br4rSMoNTGYf5111snf6IuAG+cJ39Z74okn8j6x/RznOLeaK6oA5bykxOAf//jH3M8yyFdGBCwplco5Sffaa69dDUpPyu8b+0Ohk1//+te5m+VRvee///3vXJqPbeE3Iii47bbb5n1lm0DAc+DAgdX871rnX1fCMWUf2J+tttoq7yv4XffYY490+umn5/H009Ad+xzd0V/PDPqpWyFRJNpPgkCiScLPGxiNJb4NjaP+57/+9a+VvvFINOImIkmSJEmSJLUEpXQCL5jXmwj+8F206667rppBTxBj5ZVXzt1dLdOeAgIEZsgvJD+yHKws5yPST37lGWecUe1vbQSzCKDEsulmfXxzcPrpp0/77bdfDrpS0IFxbP9RRx2V5pxzzrxtRS0JotXC8WjOuR7bG4Ewuk855ZQc8HrsscdyoI9hAwYMSF988UXad99983RxvkS7JcHiCMYzDw1VR3KOsi2URA1s/zHHHJO3jW044ogjqucy/TRgG5pz/sb0nPerr756LsQSgTuqKaX6UoKzLIvtIgDG9y5j3+IY0U/+dXOqMm1I7NNFF12US96yHex/iG1tbXHcYvnRZt18Y5HvNXIecwx+9rOfpQsuuKAa7Cxq7jGvJwb91O2Q4HKTihvFkUceWRlTWyQKI0aMyPPQv8oqq6Tbb789J/wM23vvvauJUCSEkiRJkiRJUktEZjr5T5GBXw8iX419JqhAtYX/+te/KmPHBx5WWmmlSl/XESXFyI+cbbbZ8v5FMAiMZ79jOj5FtMIKK6T11lsvFzjgW3QRwGkNsSzyNDnH6Kd0FNXLUpLs2WefreZ/Rp5olCQjsPXBBx/kUnXbbLNNHse2sz8Tmxfa1HysO7aZY8c2Edh56KGH8rf2OEbgnFlwwQXzvtxzzz25hGVMH2JdE7utiPXg/fffz9sBtumZZ57J6+vdu3f+7l6sm3ZxO5ojtpHlUIUl/SyD4B3fCqTUIVWOUqVnr169cj41+C2KAVR+S4JjHEea5hzvIqa/7LLL8nr32WefHFxba621qtdpW4rjFseO9l133ZWraaUKV/rppk3AunhdqXEeKXUbkTiCtyOWW265nCDzVsbvf//7PLwxvOXy4Ycf5rcrKBoNbsiXX355Lj4MEjxufiYykiRJkiRJaiky7CPwVy/5S+TZRTAiAkzXX399LiFH3h1BDUqgRb5eaCqA0RmwP2+//XauGawc8APDmYbfnSoc+W4hgbcYRoApqjCcmP0tHltwPOln+RxjSu5RQowADsM4xmzjj3/84wmCRTfddFMezvwEgAgylQNbTDexap3rLJOG4xbY9lNPPTWtueaa6eWXX65OQwDshRdeSAceeGAO+DEM0W4tnJs777xz7mZbCNKC4N+oUaPyMILTffr0ycMR29icbYnfhkAn3yMk35rzgONDusDvRH700KFD00svvZSDX5T4i3HMxzJoEL/3DTfcUF1/jKuF9cTvSHWh7AelPhnG78C81JwXgcCWamzdDYntue2223LAk/3lGHBdcMwpnMN+1tLav393YeRC3QqJJAkFiX8UeSZRpI7nprz66qvpoIMOSo888kheBokLid9uu+2W5ptvvjwNy4q3TyRJkiRJkqSWIG9pYjLGu7piUIRq+qLqRPLfaM4666wumYFPHiTBEfIkCV7WQr4kJZYOPvjg/NvTkGdJkGPDDTesBnxaCwGg2WefPZfaohpMEDTh+31U3cm6mIbv0oHjTjCSb9YtueSS1eDS888/n/r375+nYZtrBe5aovz7xjLZHvJiCYYSaKQGN44rATiCUlQ7SWm4CKrGdrTFtcQ28q1D1kH3LbfckreN4BvYJgKSE4tlsmwCh6+88kpeHv0nn3xyOvvss9Of/vSndOKJJ6Zll1027280zFc+fvTzWzH/Agss8L3xjR0bSppSaIagGr81AbZVV121GoDj3InuIpZZbFoD1cxyDRGIjnWybKqe5fiwLVxfaj6DfupWuIFFwr/DDjukxRZbLCcaJGCXXnrp9xLISJxoUxrw1ltvrb45QGL705/+NCcqM8wwQy66Dd4yAYkQTdyYok3TmgmfJEmSJEmSujYy5RF5R/WEPLLIkyPARyZ/8aX6TTfdtGbVnuUgRktF/lxb5tNRKikCEuXSSHfffXeuKpPgSqyfmsZ23XXXPM/GG29c3ccIMk0MlsVxfeONN/Kx3H777dPIkSNzfij5ldSG9pe//CX95z//aTBgFYEoajyjVF1s7+uvv57nIQA4MQUhivtEN9WMkldb/D3oPvfcc/N2vvjiizmQRUMVlwQt99xzz8qUEyIYVsTyo5lYXJuslwAuy3/ttdfy8GuvvTa3Oc4c4+bi+JcRbKUUH8eT9Z100km56tX9998/F2Lh25YEORnH/DR805DfmWNFCVkCk7GfAwcOzMcuMA3z0o4mPPjggzmQRinPCBgS6H3ggQfyuEUWWSQHXBlO4JHzuzh/UfE4l9eD6I92+VhQAIdjyb5wXCNd3GmnnXK+PvNxjOaaa65qaVg1j0E/dRvlBJ2E66qrrsptxu2111755hcYFgFC6tLm7RoSHxKT448/Pt+QSQS5YZPIrLHGGnkehkX1n5EYlROxaEuSJEmSJEmIvCsyuOtFOY+Mb3YR9ItjQT7bLrvskrsjn60lWH4ER1BcBusgn4+8QQJgw4cPz8OZhuGRD0hgY2KNGDGi0pVyqTjWRcCNwBul+KKEGNvC99mocpMgDYpBqzgeE4PlUHKSYNH/+3//Lw9jnwje/Pa3v81VNfLpIvqb8qMf/Sidf/75uVQieaIcH6p7PPzww78X1GwJ9o+G0lssE+TL8vv94he/SAcccEAeFr8f1WkS+GquSTl+RZFXHIEoEHAj+BfroFrO5ioHJtdff/0cYGM9NMcee2w+1nEOEgDkm3qxrr59++Zzit82to2CKREkZ7rPP//8e3nSMS2Yhn1h2ayfaWL9xx13XM7nZvlcD5Q+ZFv4Hei++OKLv7esaGqJ6xFMQz8Nv3kcC85VtoMAY6QFNJTqpATq1VdfnQOczTlfVdv/fjGpm+GhgbeoSKRJXEg8KCJOwkM/CeagQYNy0XY+xBoJzx//+Md8QwTDmJabGolfJFL//ve/qwlYsR3LliRJkiRJkmopBoq6O/LjImhA4OGKK67IpXbIPyMfjQDHNttsk8cXgwvNFcsnv47gDAELglyUpmLZBBKiIYBCKbbTTz89lzIiAEWgg+BCS/PzYvp33nknd7Md5CMS1BswYED1G3mMo3QfJcUIcBDsKGvpuovYB/Ix2S9KxXFMWW9U13nCCSekRRddtMl1MD72g6AWx4hAHPvE70a1oH/+858rU4/X0u1mevJrQb4sn1jiXKB2NrDdlDobNmxYDmo1NzjONreW2KcNNtggt8HnoOK4sn2xXRFobkwEOJlnq622Svfcc081mEo1nr/5zW/yMWYY66QmutgfquD87LPPJrheaJiXc4zponAKw1lHlAYE6QylAgnaLr744ul3v/tdHs+0/MZjxozJ5078JmwHy+acYToaSh9yLnCegWVHU8S20HCMaMA0/M40BBC5zinpybo5N2M/mZ6COx9//HE1LeAcmJRgfL0z6KduKxIa6l7mxk5Cw1s9JJj/+Mc/cqCPIsQkfkxHosZHaklcSfwi4QHjSchpM5yi5ogEjumLygmfJEmSJEmS6k+tPCIywesNGfiUeqPKS/LRCDRwbAheoLkBnlpuvvnmHFDZbLPNclBh7733ziXFWB/HmmXH7/D000/n4McSSyyRq63ke3vk+ZHf15L8vJiWfSFgwzIombbbbrvlAAd5iIzj00EE47bbbrscvOE4lH//Yh5kS1FV6CmnnJK3IfInjzjiiJwfSnCFfWf5zd2/4nSnnnpqOu+88/Iw9o8SaZOC5bA97D/VWRKUZV00nA98047v+lFAg/1pTpWOLLO1cRwXXnjhvA147rnncptjQF4y28p+ECRrCstg/ziW5DuDbSawdthhh+XzhEAg33ykyk2mZf1815DpGU8D2mwDyyQoynQcS0rGcR6zXRHAYzoC2xRi4Rp79913q8f6yCOPzAFylsP5WDyGzE/td5RAjP2nylFKrlLVa3OwDn5Hgu9cl/yenIsEwiN4yPYxHTXzkSdPlZ6x7ewTQUFNvMn+7+A2PzWTuhBObRINEigSZ6rwDIyLBI02NxFK/XGzL14SjItpeSihWD4J0KGHHpqOPvroylTjxXTFxDjWIUmSJEmSpPpE5jyleMjUJ69o8ODBOegUAYGi7paXRCY/30cjk59gG8EP9pl959tp1113XfrhD3+Y97u5+x75fZRwIq+OUkHk11FiL0rvxXFlmQQd5phjjvTWW2/lPDvm57tyBDxiWwicUaIL/F4RYInATvF3im6moZRafHMutp/hlKz605/+lIMzBCIZx3Jjmubua0NY1rbbbpvuuOOOamCPY3HyySfngBX7x36yLTSMLx6TsuL+BaYjABPVlLLOoUOH5uWzTOYpL4tt4beIoFgcP879KOVYXhfH6PHHH6/0/Q/TsZ72VPzN2TcatiGGs518647uWvsPhhe3naAe1z/DOEepUvPAAw/M5x2/F6XtGBcIflLCDsXhoPQd84GA7H777VedZuutt87bRmEXSpUSbEbsD9tDYRfWxzJqbTtYHr/faaedlmvEo5v9B/NQcpVA4swzz5yrtCVfnQI3VGtLsJ1gJedKEdOwTq455iOo+LOf/awy9vvnJP1sN8uhOtTVV1+9we3V9xn0U7fHKU6i8Le//S3fDONGGAk2CRV1escDQ4j5AnVib7HFFnmeTTbZJL+dUBTTs1za0UiSJEmSJKl+kWdEKTQy4kHQj0/QRFCgHlDyh2/aEaALlHSiisPIP6uVj0YVhHzDrIgX94855pgc9OMYRjCN48xL/7POOms+3nQvtthiE+T3EbwiGEewLLAMghLzzjtv/oYZQSjmIeBF8Kwo8v9YJ6WRdtxxx/TBBx/k6clbxLnnnpv23Xff7/2+5bzGScH+EUxiGwmO8M29P/zhD9V1sq6iOD611l+cttY0BJr4DiFViFJVKOuIIBDdtZbJ8YltIS+WKiIJNkWwLMZTQu3nP/95PnYRnEJsbyyjvURwj+2Zc84506effpqHxzHiWMT+0i7vO/tK0JPfJcZHCTa6OQYE0u67775qPjPTRtD6X//6Vw6glcX6i+c620mJSYJzcf6xnDgPEfPx/Tx+Q142YL7isW4I23XhhRfmACViWaw/gubFfvad7auFwD/XOgVuqCK1KTPMMENOK1i2Qb+Wq587i+oWCQKJDt/2e/7553Od3iBR5QZJwC8SpGKiWE5IeIOBeZiWh4ui9r4BSZIkSZIkqWsgj4nSZoHAQb3lJfHyfGTigwDHaqut9r38twgshGLQjU/1UOqMKgMJ+IHpObY33nhj7mY4JY2o4pOShMWAHwgeMJ7g3nLLLZfXz7aQ5/fGG2/k8bvvvnve1nLAD+Qdvvzyy7mUEiXX+A5ZDI/vvUXJP7BNxWDJpKLq0C233DLddddd1QAT1XlScirOqeIxbOk6y9PTzzFknyjVxToiMEZTnp51R0CP7aOfkmtUV8m0zItVVlkll8ok4IcIsjJNeZntKY4h+0Zgvoj+CJaxb7VEgI9zh+7itwE53/mGH4EvCpSQDsRyOKfJoy4G/DiO0QSODdsY20HJWY4v0zAuzjcalkVJQtZB6T/Od45zzNsUtp8Sh1x3BG3XWGON6vqjWlCCeREAZNnF7eMTW2wb6yZ4SvCQa4RtQ3H/OC+ioZ/qQJu7nfo+S/qpLkQwL+qCfv/993PRet4aCHEpkDiRuJBAMYx+0M0bSXy4NhI30A3mAf3ME40kSZIkSZLq209+8pNc0gZ8Tyu+ZdfdkV/2z3/+M+2yyy75ZfwIchC44rtzZZEnV0ZQ5LbbbpugJBPfQSMYUQyyNSQCVWAd9BPYu+GGG9Jf/vKXHExjfOTv0U2VlARqiij5REnBN998M/czHcsCAZYDDjggBxHbCoUaCFoSYOE4UGqMKhvBsY2gEyJfs5jnWUuMR2N5mUwXDftNkK4YGGU4xy+OI8eIbw4SNIrflXF8v+2iiy7K3fFbsy/sE8uIbSh2t5fYTtoEJPm9i/2U4oztaup4DhkyJC2//PLV40KQmNKZYJkM5xzmHCSgVivIXMY8xSo+we9AAJVvSjKOkrGMj3M39qms/PuheJ2A/G/OZ5aBUaNG5WWThvGNP6aPa4na9PhOI6UJGRbXapyrsc1xfKKN8m++ww47pOuvvz53W9Kv5b7/a0vdEIkKDYkDzVxzzTVBwA8xjsQlEsJiYkJ3JJZMQx3FJFhxIwPzxXKK80qSJEmSJEn1hryySy65JAd+IuDHsOL3vIoiEEBAIpDhT8k2xpEXR5sX8ykZVQ74MR6xHAIhu+22W/7+WSyT9ZNP2Ldv3/SLX/wiVz1K1YOxbAIWbCvrJeBAN0EOSkrxDbX33nsvL4e8PwIcYZZZZsn5hLHu1lBcFoHTqCKWvEi2nQYEZ4oBP0TeZDGfsrxtHMMYH9OA6crTMj7yPlEO+MV4jh+lvPr165eefvrpvK1xXOjme4dMw7QhAkIso9a620txmzbaaKNK13gEosA2xjEoi21n/F577ZX3M/KN//73v1fHM5zvSH7yySc5GMixbO4+x7EKzMu5TCnYTTfdNNdyVw5W11IryFgM+CEC2BwXGgJ7lO7j+uPcoyQg38Kkut1f/epX1RJ6cS7Gtpa3GXEc41jSZh20OT6gAE9xGjWPQT+ppLFEJBIZEmESuEi0EYlSNJIkSZIkSVI9oypMXpwvBnkIDBDoqIWSSiAgQck+AgiPPPJINWC4zjrr5OXdfffd1QBfUTF4tM022+RqJK+88sr8zTvWGzV3BfL4mIfvC44cOTIH1gLLIIDy2muv5RJrzz33XF4ny2D72AY+HRTfHKSa0XLQZFJFHiPbT8kntpfj+OMf/zh/H45CDWxPY+tlnmjKeZZsM78N+xX5nPQzXXla1FoGYhi/EyUn+c3AsWXc9ttvn/sJ4nDsiqXHilh+R4rzLIJObHtsE+cPau1/iOlpKD2KyDOO/aZEKOc5QTKOTxz7xpY7KdpquROroe2J40Yz44wz5uPGsXnwwQfz+Frni2oz6Ce1AG8pRBWh3FQjsTHgJ0mSJEmSpOYgU7teUELviSeeqOaXrbzyyvn7buXgWyAw8uqrr6aNN944V+lZzHu74oor0t/+9rdqKaZapYciEEgpLaoP5Viz7jFjxuTg3eWXX57Hg0AZ4wjwMB1VLbKOwYMH5+8Bsk6moZTi22+/XS11tPXWW+ftJwBJUJBlY7755svt1sY30QgUsW+sn9JW9FOTWQT8ah0LFM+1+A2KGMb8lPij6skomRfHsYzpay0n8PtRdS3LpKFaWwJcdPOpJYJqP/rRj3Kb49tZxHEqlpZkmxke21n8LmdjOJ8IIFOylN+FZdAmSDt69OgcYA4ca8ZxTCPgWM84ZhwLgvVx7Z9wwglp0KBBuVvNY9BPaiYSmn322Sff9Ej0eTODRLv49ktjNz1JkiRJkiSpntx3332VrvEBI0rG0VCDVi0E/JZccslcFSLTExChqkgCIjvuuGPOkyMvjnw6GvLmImCDd955JwfFqJaT+QnUUeKPYBTTU7oqRDCHZSICXVTjSfCLb/dRfejOO++cl0fpOto33nhjno5gFkFMSnQRGFx22WXz8NbGOmJb+/Tpk7dtnnnmyf3kT0bAr3gcyselKMbREFBZbLHF0qyzzpo22WST/E02glNxTCYGJeIonfXUU0/lb/fxOxBwJTjKthJYoyluX2xPR4k83QgAc9589NFH+TjQ/cMf/jCPj+kaw75xDnJOcHxPOumkHJw98sgjq/PTponjTHdzgn7NWX/ZxMzT1hrapigBSslaStAyHYFAqi2N0qNq2mT/dxJ33NWkusHHRMENtjO9xdESXCokOjwAcFPn7ZR4wOCGxfjOmIhKkiRJkiSpY1HiaeDAgbn74YcfrpZW6275SeSTxT5Rqo4X6AmkgCoeL7zwwhwQYTryCJmWYAd5a+S3EXTiO3wgIELwb4011pjgGMW8Ifoff/zxXEKIZTGMhlJ7BOP49h5VjbK+U089NR1yyCGVucdrrd+B5WBSl8UxY/8JdN500015XxjG/hCULB+DouK+kI8Zx4PpCT7R//vf/z5/U47pGMewcuk+qhOlVGND62kJtvn555/P28bvzHppWut4tTa2i2/4UcUsx2XRRRdNL730UmXspCnuc3SHznYc2kvxONDNOcd3OH/5y1/m64Bzn2Dy3nvvnb8Hyvi4RvR9XTP6oi6heLHy9g5Na9wkOgqJLgkJN0H2hf1jGG97lBNoSZIkSZIkqTnIV+oueUuRGU+g5NJLL83dWGmllXLgk4BfcV/JW4tCAttuu20O+DGeEj///ve/cyk3gkQEq2JZxWAJw5iX7+1R1SaYHlQruvjii+dtOeecc3KeHg499NDqsjobAnAgD5Kg23XXXZf3h3189tlnc/AMjQWHiuPKwbxbb7019e3bN1cPyjGM9RHUIkBbtN122+Xfgd+R6Zi+2DQX00a1jWUMa2xfOgL7yjZxXsa+zjTTTJWxky72tyXHsJ5wfHgRYPXVV0+LLLJIvlYZRtD+z3/+c7r44ovzdFwjHsPaDPqpRVpyITEtiWTxphDDuzISFBputjSd7cYkSZIkSZKkzol8pO6SR9YQqjekdBol76KfKjb5zl7kExbz0+jnW300jMeQIUPSbLPNlgMvBK4IPsWxox3zk0eHAw44IAeWyKtjGtZNgCyqkSSAQGArlkEQsKi4PZOiuG2TgkBdVGdKgYOjjz46LbPMMjWPX2OYnuNHiUkCKLvsskv+rhw4ViuuuGIOpnC8L7jgglyaLaop5dizHZSuYjv4hiGlr6jOtCXfn2Nb33rrrU4baC1jeznGn3zySXWbF1544TxMbSOuG85X2ly3/fv3z+deoApaqonlPKXEcKQV+j6Dfmoz3Dgee+yxXGXBQw89lOtypk1/V0ok2damGhIjSZIkSZIkSSn95S9/yW0y76meM6rTLL5ET54a3n777bTFFlvkwBLD+abcggsuWB0fgZeYr4iM/w022CBXexkBPr4lt8IKK1QDggwHwQICaAQQ2Z7GglCx7vYW+3fNNddUt4FvIFIdJ4G2WsegMbfccksOdvK9vjfeeKO6zxwfvg1IyUoCWuBYEmjhW3QcT76tyDGMQAz5ugcffHCet7isphCMpaRmV8G+0nz66aeVISmX9GvJcW9KrEPjca7TcH7TjnNr3333raYZ0003XZpvvvlygPrMM8/M1zPHMObV/xj0U4tE8XgupCgaTqJN4g1uqry5w0dluRh5i4a6uHmTh7dB1lxzzfzx3RjHjYJgYFyYXNCd7SJtKBGO4TGu1jSSJEmSJElSPaE02COPPJLzyvhEDt+OA0GryE8sVjlJEIm8QvIFCeAdccQRlTHjRfCuFoJZ9957b14289PN8oqiRBDDCaAxLcP4xmBsB3mbzB8l2DoykMC2/eIXv8jdbNNvfvOb3B3By9g2posmtpXpaU477bQ8Pfm0//znP/N4hvfu3Ttde+21uSQkJQcZTiAU/F6xHEpJEuS75557cuAlvsPI8Ro7dmwOJjb2uxSNGTMm/74gX7grYF//8Y9/5GPGMZlzzjkrY1pX5C1HU6/K+8+5Fefi7rvvnn+HV199NQdiCcAOHTo0nXjiiemSSy6pzstvpvHpg0E/NRsnTNR9zQ0wukm0+QAuif+AAQPS7bffnkaOHJnHhUgguQAjcMjNn4eA9ddfPzc33HBDvmnEBd3ZRAISjSRJkiRJkqT/oXDA1VdfnfPOyIT/+c9/npZaaqk8jiBUBH8INDENBQU+//zz3E1G/3HHHZcDS7XyBxkWeY50822++++/P1dDiTvvvLP6XT/yIiMIEPl4zEO1ozGc79tRoo1+lsH6I7DG/B2R/8c6OUY0bO8MM8yQq9ssBjSYpjgdDf0jRoxIf/rTn9I000yTjw3HkeHkxTLstttuS8OGDcvBToYVl1nEemkoEUlhjrPPPjv95z//yYHRG2+8MQcNf/e73+VpmoOSWXE8qbK1K4nAJsFStT9eGiCAHd+bHDVqVC6BShyCb37++te/zoE/zkWuA1XSkEq31CROmEjMaXPj4MOZJNbHHntsTrzBdJh22mlzMI+bN7hpMh8N3XxIl2lZDlV+8nFY3rbhw7tx04n1SZIkSZIkSepY5by6Yj8Z8pdeeml64oknclCPAgNHHnlkNc8Q5PlFAIg8wEGDBuXhZNhTZR8BLjL0I5BVRvCFwggnn3xyOuuss/L6CUZR8ox8SLB8gjUsg/Hl5fA9P4azjQS1CBxSOIGGGskInkVhh45w/fXX531ku6k5LfYFcbyjukyOJ/uz0kor5QAhVaMyb+w3x/Kvf/1r3qfNN9887xfjIsgZxyaWW8QwjmX8luTn/vjHP0477LBDNRjWHFQFyvQsj+AjWG/UHNeZRR71Vlttldtqe8XrleNPjYJ//OMf06677prPR0rzrrzyyrnEHy8BcM6T7uh/DPqpSSTINFxkcQOgWDg3HaLsvCHCBUcz88wz5wAg03Izufvuu/NbJHzg9aCDDso3KCL03HwoIs2bPltvvXW+eEGxcW5S9913X+6XJEmSJEmSuiMyt4tNV1Tc7jfffDOXvCH/kJf8L7roopwPSMCHfhA8op98xP333786jPzA/fbbr9HjwDjmPemkk3JGP8tgueeee26u5jPyMGMZBJXIo4zATQz/5S9/mfMiKe1GHiVVTvLdQT5FRH4n+ZsEACMftD2xztdeey1vWxyXwP4wnOoyCZBuueWW+XhwHPkOH2If+f4ZwUzybQnUFY8r3SyL49cU8nIjABnob4ko6Qe+LxiihGZnxv4TcOrbt28+7mpbxfMMEeyeccYZ08CBA3McgWn+/ve/53OK9IWSwlHiT+MZ9FOTuDFyMXGR0VCnNKX0uPmBtzy4KRLse+utt9Jhhx1WvaHScPNZYIEF0gknnJCDf9TLTTWgjOMbgLyJQ7FcvvcXN2fq7yZqj464wUqSJEmSJEmtheAL+WpRrWUEQbpKvlfk2dFEAI9u8vfYl2OOOSZ/I46gFAhIUY1kZOKz32BaAk588ufZZ5/N4wki/fnPf87jm0IJv6OPPrpaDSel3Pbcc8+c/wi2iWXSJmgW6y+766678jYxH9NEACr2h4ZltDfWv9hii+Vt47gcddRRuXQc39hbddVVczCP2tU4BhS0iOPA9rIvlHb8f//v/6Xhw4fnvFbUOgZR0i+OV7EpKwbnGB/rrDVtGfvw9ttvV4M388wzT+6Oc6izYhtHjx6dz+ff//73eV+t4rN9Fc+vuL4p0UepS85b0lSmYRzn+wEHHJBrJfziiy/ytPVssv87QEZU1Cx33HFHrq+Zt03ixkcR8cMPPzzXEx2Jd1OYl2LdLI+Gqj3jNOSmRVUAXLD9+/dPzz///AQ3IEmSJEmSJKmzqpWHxTA+f0ONWOSf0aZEGbpaflfsH20a8vkuu+yy9LOf/SyPZxyBp9tvv70a4CyjdjBKTjGe4M+BBx6YS+8RpOP41JqHdVFije/wheOPPz795je/yfMwPtqh2B35lgTVGE5+IwUaqPKS4AFiGr5hR2nAjsC2sf+UYOLYEnSK/WA4Df0xjGNGFaXk2VIoI45dcZ6OxLcA+TQUx5vgJcGZQEAwAohSS2y77bb5+5LguuW6pk2sghcBdt555zyuXlnST42Km8jjjz+eb4Ivv/xyTpAZtu6666Z33nmnenNtLhL5+eefPxe7feCBB/JDwGqrrZbHjR07Ni+L5bMu3vpBR9+gJEmSJEmSpJYicEO+VuSdkTnNS+8M6wr5XRE8CmxzDKN91VVX5Vq/QJ4fwUzy+horZUeAink5NpSeoqrKnj175mNUax6m3XDDDXPJNpYLqlykIALrZJ44vk0dU0oZMi3rJj+SUkEECVgebYZTy1lH+/DDD3PgkZJ9UdKO4xBBS2pJ43uI8XklAn4MB3m3HAdKqnU08pTBdlPzW6A/fkupJTjPb7jhhnTdddfl6j45lzjfSUsIKu+yyy5pm222qX73sh5Z0k9N4uax4IILpk8++ST3r7DCCunEE09Ma6+9du7nAuLGDG6cTdXHHKccFyPzksBzg6YuXt6koR3jwXqJ0kuSJEmSJEldEd+322effXJ+16uvvpoWXnjhypjOjXy8yKMLlM4jo53P/BDIidJbfBsv8vWYplZQh/nIR4xqQCltx3fryBtkXATviiiIQICLZTIdnxgi0FhePuOjGlEUt724D+X8y/K21trn9sK6aYpBYvppU/saJeeotrN4nBo6bh25H4HvrO299965mwDxTjvt1OD2Sk2JayHSC85vgtu/+tWvchrLeRXXz5/+9Kd08MEHV+asL15dahQXCSXyPv3003wxzT777Pk7fNzQGYcI+KGpgB/iZsP8TE8/N1eK/lPd55133pnrqOatFIbHh2glSZIkSZKkroT8L/K3dt111/TRRx/lDOoFFligMrbzI2Od7S8iQPbkk0+m3XffPX+mByuvvHI644wzcndkyrPvlJwD3TRkxJMXSPcaa6yRFl988TxtEeNAtaEzzzxzLjnIMvv06ZOrASWvEgxjWtqxzqKGAl6Rf8k8KAcPG5qvrbEvrLsYEKOb/WIb+RQShTDKAbNyf+io/SiiSlYCfVT/ShsNba/UFM7puM45j+in5PSFF16Yr5/NNtusmn7MMcccuV2PLOmnRj322GP5ZsINmuall17KNxhuilxULb15NHW68ZYPNzEeJo444ohcLJcP1naGm5QkSZIkSZLUUuSH1QpKdQXk0ZWDYgT6Nt5441xKDzPNNFMu4bfMMstUA1codgeqpbznnnvyOD4ZRBAPHJ84TqzvyiuvzEHF4rG76aabcjWfjG8oX5LpazFvsWNQqCN+L6k9fPzxx/mbmHwvslhYqZ4Y9FODuKESKafIO6cJxWRPOeWUytjxN8uWJthNnW7l5UXVobUeMCRJkiRJkqSugHy2rl7CiXw9SiputdVW6f77768Oe+KJJ/LngJrKJ2Ra8vkiEPTiiy+mfv365eE0Edyj6s7TTjstL4/p+OwP3/Nbfvnl83KowrO8LuZvTEvzMNW6+H38DaT2YVlaNYiPxY4dOzZ3c1M99dRTq8VmJzaRjnnL8ze0zIjGG/CTJEmSJElSV0MgC7XyvboSgjYE6bbeeut077335v2i4TtalPBrCoG+9957L9fyRf7isssum79rGME6lkX3uuuum84999ycF0hJnXXWWSeX3OFTQwwjKBjHMraBJjQ3z1Hty99A7alcJXG9Meinmp5++un0l7/8pfoG0tlnn53baOrNmeaKmy4Ny2yt5UpK1TrzJUmSJElSx+mKpftq5dENHz48rbXWWrkaT5CfRwGBzTffPJe8awy1iBHsI1gIgnR9+/atBgBpjj/++Fwl34MPPpgz7GkIAN5xxx3VeYrBvRDzB7a9mOcoqf7UewEig36aQNxAKUbPmzN077nnnmnJJZesTNE2at2IDQJKLRfXDdcub9FRRS5tSZIkSZKk5ijn0Z1wwglpxhlnzDWCkV9IzVynn3562n///dPMM8/cZB4eQUHmoeReGDRoULrhhhvSpZdemsf94Q9/yMshgMeLzIcffniu0rOlDPRJqnd+0081RcAPvI1TvCkXTxlvpOoonIeefxMqHpObb745bbvttvnNlocffjjXrS9JkiRJktQU8hcohUeeAtVrPvDAAzm/gfxCqvI85ZRT0sorr1wtTUMeIuObyqd55ZVXUv/+/St9E2JZlO6j2s/LL788T9dQtnWsx7whSfo+S/rpe5599tnc5ka+2mqrTRDwk9R5xYMuD+PbbLNNfvglaL/++uvn4ZIkSZIkSU0hf+GZZ55Jq6yySnrooYeqwTXyF5588sm0+uqrT1ClJt3NCb4ttthiabPNNsvdTB/LoN2vX7909913p8cffzwH/MjPiAIJkqTms6SfJsAN9corr0z77rtvLkq/0047pauvvjrfZLkBF0+X5tzMpdbC217xBhnVVXL+Rb/G4/rkOPXp0ydX6xk4VrfeemuuZ59jZyBfkiRJkiQVkQ9IAQBcfPHF+dM/X3zxRe6fdtpp07HHHpt+9atf5f7IH5zYvMHTTjstvffeezmvcdZZZ03rrbdeLkFYxDpYfq2s61hvTCNJ+h+Dfvoebux777137ubNmpdeeqnmjdabqtpT8RwcPXp0fhjF9NNPn9v1fj5yXAjO33777WmrrbbKw3gop7599O7dO3322We5Hn2vXUmSJEmSVES+wr333pvuuuuudNZZZ1WH8eLwcccdlw499NCcnxCl76KU3qSIvJ6yhoZLkppm9Z76nnfeeSe3uXm//PLLaejQoflGyw1X6mg8XD7//PNpttlmSwsssEB6//33cz3z9Y5rlEDoBhtskLtpolQfw0eOHJmPkw/NkiRJkiQpUGPQxx9/nEvxbb311uncc8/Nw8kHXHHFFfMnRCj1B/JkyFeYlIBfBA1Zb608CgN+kjRpDPrpe959993Uo0ePfIOloaSf1NHigY+HQz78TFW0I0aMyCXXaOKhsZ4R4OPa3WSTTfJDMkE+SvrxME5VqFTVK0mSJEmSFAjqbbfddunMM8/MLwzz4jB5ClS3+eCDD6bll18+Txf5hJE/M7EiYNjQJ1smdfmSVO8M+qlago+gCQ2lgwioUI83N1oCLFJHi/OUh0K+OXnttdemwYMH57rfiw+dMV1HYzuiqYU32tpiW3l4porPnj17VgOh0X7iiSdyW5IkSZIkdR4E2uIzJu2BfL9rrrkmrbHGGrnGoIcffji/SEzeygorrJDzXJ588smct1AMzhmQk6TOz6CfqjdsggU0SyyxRA74EZQgWPDUU0/l8VJHKj9Y7rDDDmnJJZesviGGCKK1RTCtpdjeYnWajz32WDrxxBPTRRddlD799NP80Bzjxo0bl9ut6bLLLqseG9pcz7Tb80+EJEmSJElqGvlwNG2JQB/uvvvudPjhh6dddtklB/sCeSkHHHBAfmGYPJeGSuJJkjo3g36qitJA6623Xq4ukYAEDTf7YhWfnSGg0hHaar/r9Xi2pjh3QwTTOtKYMWNykI0gX58+fdJaa62VP3y93377pVlmmSXdf//9ebsJxvHmXGujao6f/vSnlb6U10E1HayTKj8lSZIkSVLn0B4l/cinOOSQQ6pVeRbzTjbbbLN0ww03pNNPP70yRJLUVU32XyMOquBUiBv+4osvnv7xj39UgylXXnll2nnnnfN4htHuDIGV9lQ8Pq2prZbbHB257tbCPlCiLqqj7Sz7Q4Bt8803z/XfF0UJPx7mR40alYNxVKlLNRqtKa7d3XbbbYJv+fEm3xVXXDFBCUlJkiRJktRxvvjii9yeYYYZcrs1kT9xzz33pFNOOSU988wzOT+CPAHyU3jpf+DAgWnLLbfM+RVtXdpQktT2zPVVVQRLuOlTbSJtEIzgu36Mj2HRHf31pLF9Jnjz8ssv5wemHXfcMW299dZp/fXXTxtuuGHadttt08knn5weeuihPG0EZTpSMUBGACr2rSOqgGTd5fWWh9Efxy22lX0oBrBieLTbG9v3wgsvpOmnn776W8dx5nyYZppp8nnCfj399NN5OA/ZrYX9ponjwjcPiwgAsh1FneFclCRJkiSpHt12221pttlmSzPOOGOaeeaZ88u6fBak/F+92F/rfzx5ATGcWoXId7juuuvS6quvnvOo+HxPVNlJPsQRRxyRPzdCyb8ePXr4crAkdROm5poADwQEC7bZZpvqzZ4Axeuvvz5BEIV6wDsqqNKZcLwI8lEtAiW2evfunZZddtlcreLNN9+cbrnlllyNI29U8RBHnelrrrlmfnNq//33nyCg1VHie3LTTjttNTjF9sXDYnv+zvFGWayT9RffMisG+IrbxTTlh9PYl/Z2wQUXpKWWWiqvn21k284+++zcfeONN6aDDz64TR+kWW80HL/PP/+8Opz1sh1/+9vf8nkaOsN5KEmSJElSPSLfgP/svHQ/YsSIHKjjsyAzzTRTOuecc9Kbb76Z8+Hivzv/9SNfgW4aPP/88+niiy/OL5337ds3B/Z22mmn/GIyQUAwLS8Ds7yjjz46L4cm8hEkSV2f1Xuqihs+b/bg1VdfzR/t5cEACy+8cBo8eHAODLVlwKKzIwAKgqAnnnhiuuOOO/IDWeDYxMMWImDFg1Y8YIHLjmn32GOPdO655+b+1q7esSlU78CbY/PNN98E1UsWtxNs+8Q8+LFPLZ0vjh3HJubnoZbhnH9U4/niiy/mkqcEs9iHjTbaKJdc44G4oRJz7fXgev7556eDDjoobzvHkd//z3/+c9p3333zNrAfRx55ZDrhhBPy9JQE5I07hrfFdcVy4y0+rm3e7Lv88surx5ng5OOPP55/e7avnq9tSZIkSZI6AnkI1Bh16aWXpocffjjnJfC/neGIPI2VV1459enTJ+eBMG7QoEE5L4/PivDtfvJPmJeGPAnmYzoaagE644wzchAwpivmA0qSug+DfqriVIgHCR4W/vjHP+YSbHzol1JslFpbccUV26R+8a6CY0Q953feeWfujuAJeGDiwYkHJkrzUaUnD2TguHJM33jjjfwQ9+STT+b5cd9996W11lqreuzbC1VHEPRje3nQo5QiVU8ussgiae65504bbLBB6t+/f1piiSUmatuK51NzUBryww8/zME8zjeqG+W7ku+8806ugoLzECwzjh3HnEAVx53Sa1SlWivw1x7H9rTTTkuHHnpo7o5tpITfL3/5yzwMDN94443TvffemwOYPJi3VdCPB3yWz3nItvDHgG8EEIQ88MAD8zDWSSD/ueeeS/POO28+npIkSZIkqf1EEA6ffPJJ2meffdIjjzySPvvsszyMvAQapolgHg15CfESL93kM0R+Caabbrqc30Sgjxq94P9+Ser+DPqp+kDAQ0LRkCFD0m677Zarr2Sao446Kv3617/OQSJKD5Wn7854eLr77rtztZ08gEWgiYclqkxYZ511cqBv+eWXT8stt1w+XtFEQCcerHhA22STTXKQi2N53nnnpd13373djyfrY5tiP2jYNn5b2rGPBOAWWmihXKc8b5MtsMACeXyxBGDMF8uinzbL4BgU940AI0FTGqpAHT58eB7PcaId3WD+cn/xmMZwpuFBl9+Gh1q2g/FFTNOaonQk+0pw77DDDsvbw3Hg2PCBbAJ+8eYcD98MJ5hKMI5+xjF9W71dR738N910U94uqhbl92O7Oe6cy2w762U/CJquuuqq1ePU2sdLkiRJkiR9XzHfpJjfwv94quskr4Maj/g/z7SR/1LMEwEv+26xxRZp3XXXzXk4TSnn10iSugeDfmoQDxC/+93v0qmnnpofJCj1RSCQYE49iAAWpaD4DhtVLBQfhk4//fRcYgo8eDE9D140PKQhglbF+bjkCPxQwo/uK6+8slkPY62NwM9ll12W3n///fTBBx/kUmBsdwSy+M1juwn88e0/tpc65fkeHNVqUgXs7LPPnqcpi+MX3QQ3eWB94oknqg+mDI/gXCRFtNkGjmlgO9Zbb71cHcWAAQPSggsumIcRLPv5z3+e3nvvvRy8ot57HnBjWUXF36A1xDr4hh/bEEFIgsCUkiXgxz7wsM44pmcbqIY03tZj/5mnLa4pgqkcL9bBx8D/85//VMaMr9p16NChaaWVVqruB9vAtc453drHSpIkSZIkNS3+o0eeB3kKvDQM8mX++c9/5vwpuqmxp1+/fmnJJZfMeQAE/ZiPPB3ypsiTIH8lFPNKmC7yKSRJ3YtBPzWIU4M3iaLkGg8Nw4YNS9NPP31liu6P6k1/9atf5W4CNwRQqAaT6iYJgpYfoMA0IYJ+RQTXCMJEsIsHNR7GOgK/KcGeCFg988wz6e23386BTh4iqY6U7SXox0Mm+8v+UA3o6NGj83mx2Wabpb/+9a/5QTT2g2PAcqmek9KhVGfJuoriuBBEXHzxxfPDKVVdsgy2h3WyTKoXXWyxxfK0sXzWy/wskxJ1xx13XN62k046Ka8P5eNe7p9UbAPfYzzggAMmCOydddZZ+Rt+UXovrh3OE97OIxAHjk88uLeFvffeO11yySX5mO288865Wlm2ie2IY0GVs8sss0z+hic45n/605/SnnvumXr16pWHSZIkSZKkjkW+AvkO5CWQ/8F/ff7bR/5ItMnbIU+GfIrojzyAhjQ1XpLUtRj0U6N4ONhxxx3T9ddfn/sJqlCNIbr7QwHBm0MOOSQfAx6seGiiZNRVV12V5pprrmp1jDx4cRmVH7jKmI5lULruF7/4RZ6GYMwVV1yRl4+4HDvy2LKdPESyDXR/9NFH6cUXX0z/7//9v3T//fent956K+9HPDiyzRwLSohRwo3jQOlBqpYkeBj7zTKZh8ASgSZKN1KvPN+Ui3XFMSwqHk/mRxwvULqPc5RpKHHHN+siAFdUXu6k4lhQ+pD18DDN9vNRbEr4xTnD/jCefvafUp1U5crxoLoNqnhtLcXjBNbP70JQmT8ErJ9hbGc8/MfvQmCVwB/jmOY3v/lNOv7441v9mEmSJEmSpObjfzvi/zn/2eO/fFnk0xT/y8ewxvjfX5K6lwk/eiWV8CBx+eWX54cKHHnkkWngwIHVB4IIwsRDSFfCthPkKCN4ssYaa6SDDjqoMmT8/lHFJ0Ga+eefPwdTYt8J7NR62CpjOkpOEhTi+HFM+WZiHFswvKMftthOtontoFTYPPPMkzbddNMcTKNKSIJI7AdBvQisEVSixB3TU/Um81BqkGnj3OB7cgToxowZkx599NFcGo5So8V11dr34jCmLR4vzDzzzJWulEaNGlXparuH1vjdCTCy/zScRxdddFEOfEbgsnhOxLY8/vjj1ePBb9/aYtu23XbbHNijn+POtrANbCvDQTfHkvYLL7yQtt9++zyceU488cS066671rw+JEmSJElS++D/PE0xP6ShPKhyfgkYRn5AY40kqXv5/t1AKogAECWyeKggCPDTn/40f88O8UDRFR8SCL6wfwQ5aAh+UJUl1ZnG9/vYP4ZTgo3vnVG1J/1gXARZIqiCho4F6yPYxfwEuCgtSEkxdObgCtsbx4d9YL8XXnjhXKUn1UX+5Cc/mWDf+T5glHwjOEqgj3mZnkBhW2vo+E+qCNax/3yTkapP2S/OCb7rR5WYse4oSRei+8EHH8zVZtJP6brWxrZRPevtt9+et5fqQ6n6tDkohUjJU7aN5VxzzTVp8803z9//kyRJkiRJkiR1fgb91KAI9hC44Xtg66+/fu4mKHD00UenG264oVqyqhjg6Coi4EeAg2bw4MFp+eWXz9+hA4G5WWaZJQd0fv/731enowl0R+CvKQQGqS4ULJsSlIFt6awiCMT200TgD2w3342jZBnnBucMgUACfkxD6TdKkPHtODAv45iuq4nA52233ZZLfHJc+B2pBnafffaZ4BqI7uJ+cgxef/313OabiHxou7WxjVS/y/rp5ndZZJFFKmMbx7ZS1ezFF19cvS7Yz7nnnrsa8JQkSZIkSZ1XMW9CklSfDPqpQfGgQJCGkkt33nlnWnnllfOw0aNH58AfpYrQVR8qIigzZMiQtP/+++fv1VElJcEtgjKnnXZa2nvvvfM0TEvwg4bqLGPeCPwVAzy18A07puFYUYJqzTXXzPN1FQTzwP7H/jKM7xxSii9KO9LEsSIYtvjii+fv+IFpCBR2xfOF7b777rvTVlttlfePY0AVn3vttVcezzkRx6XW/nGtcB1xDOadd97K0NbDOilVecstt+TtIAhLdbwEGSNI25j47Si5yfcbKZHIvhDYn3POOStTSZIkSZIkSZI6K4N+alAELwh2RPett976/9l7D2ipim0Nt+4b592jZHNOgCigqASJoqiASFSRpIIBMAsKijnrQY6CAVBRMCCKIiaQJEqSKFGigjkrKEnw3HvGeO9+0559Fu3emx269+7u/X9jrF55rapatVZX1V9zVihfvryJCIzvdu6554Z169bZ8QgN7qaS49MdwkiYEaduvPHGsGjRIhNkgDH9Hn/8cRsPzSH+7GdKHH+O9IiuA9d2uNcrr7xicyYfLzA/Ykw6QJgRkYC44zaSZ41lJGP3sQ0B8PLLL7d9jRo1iouhWLchcv3000+W1sD1HE+TTKBVq1Zx150I4IjChB3Bj+3AevTZO1iSchz5x8XzouL38TnuOUljng3iZM2aNe25sX936cw+nhnhO+uss+x5+fvwyy+/WJw/+OADW08kr+sKIYQQQgghhBBCCCGEKB4k+ond4mIAMH4Z7v+wAmLb559/bpZOCH+su5vKRAEsnXnuuefCjBkzTOAgrggyCH61a9e2+OQk4OQHTzNgTESugzB00kkn2biBmUTi82Rsuv33398sI4knQh9WZk8++aTtnzt3rq0jciFAff311+Hggw8215ikcfR6LDOlu3DEGHdAXPfee+8wZ84cyzOE3QW/vHBXuKQJeSsZkPZuyXfGGWfYNsLUtGnTuMhM+Njv6ZwXHO/PgbxPWCtVqhR/B7jHxIkTbdlhXyY8PyGEEEIIIYQQQgghhMh2JPqJfOEN+lgRdezY0cZqA7YvWLAg3H333WH9+vW2LVMg7IhTuKBEtGGqX7++iTlYSLFOfHcnlOQG10c0GTp0qI1/CAgyL774om3PNNyKc/bs2TZO37Zt20xwQgheuXKl5QuHYxlPbtWqVaFcuXImEhN3jpk1a1bsqF0pbDoXF4xd6GF86aWX4qKui167Y/Xq1XYO6YBwWFRciMN16vDhw+NWeIh1iLLujrUw6cq1CSv59OeffzbLP7dubdu2bbjmmmtiR/75TfB7CSGEEEIIIYQQQgghhCg5JPqJfEPjPq4Cafjv0qVL6NOnjwlbCASM6fbAAw/YMS5GpDtYKZ555pkm7iHC4NITEZA4EC/iiUCD+FGYOHENXFviytMtwR588MFw9NFH23UzDcI8ZsyYcPrpp4ctW7ZY+mC1iPhXo0aN2FHBxkR0i89q1aqFrVu32phwCIGkSbNmzeLLmQR5gzBXrFjRRDDiQL4gHfIj4n744Yc2J38lw9LTRcelS5daHiPNEeZwUwv+DKCgIrPnfRf6cOvbvn37+PZhw4aF5s2b27Gsk79JC9In056rEEIIIYQQQgghhBBCZAsS/USu0MAfnWjcZ+4MHjw4dO/ePb7thRdesDH+3ELIcQux3ChukYCwIbxgiQaEDyFqypQpth4VSxwXWAoC4tcJJ5xg9wKEHsQZhFPSMt1xAcen0aNHhwsvvDC+D6Fv4cKFcaHXj/Ox/8DTEivQ6tWrx9PxyiuvjOeRoorEWBEC9/Iw+ORE821BwZqRsfKwZuM6jJUHCGLEh20uhkenRLCGJEykW4MGDWJbCw7p5Wm2YsUKy1fkYYTrTp06hWOPPdb2RfMsYYXEMOY1OSwTP6wbsYrluqT1+++/b+8NeB4Ajvc8L4QQQgghhBBCCCGEEKL4kOgnigRC31VXXRVbC2Hy5MmhQ4cOcZGBxn8Egt0Jf8WBhwFRAvECwQQYX23atGm2HCUqGhUExCzOZVw1LKAQSbiHW2BBOqRHfiG95s+fHy655BJbJ25Yei5ZssTWETARnDjOp5x44403Ykt/uspcvHixLUfFqYJCWBDlgLzm4lsyQOTbsWOHiYqMj+diF+5anYLkEbeaw1KyMHnLzyGenmb16tWLL2OByPvo4qfjy0VJF67BdXEj6uM2sg1XrVjLso/JBUnCFA2DEEIIIYQQQgghhBBCiNQj0U8UGrfmeeyxx8LVV19tyzT2T5o0yVwBImyx7sJfbiRLpNkdHgbEiOeeey4etiuuuCJupZQMEHd69eplohgCIPFjDETmHte80iOdILxr16615+lh7tq1a3j55Zdt2bflx3LxmGOOMUtQrsl5o0aNiu0pHDxHrrVp06a4yFS2bNl4GjuJ6/kFARHBb/z48bZOHsGqLvrsCnLthx9+2PIa70th4F7EkfsjSLqLUcK51157hd9++83SAZKZnx3uz3TppZfaGJWEg/DMmDEjNGnSJC72cQwiMPuYhBBCCCGEEEIIIYQQQhQPEv1EoXGhh4Z+FzQQIxAi3nnnHbMMo/E/nVxZIkxgmeiCxPHHH28CXW5hLIho4cdiCfb8889buiDIPProo3GXi5lk4cezQ/DCYhFhDQGzXbt24amnnood8adVI3FC6Nmd0MQx99xzjy1zzieffGKWdEUFN6pA+pPeyYQw49bUny3jWPJcc4orx+bFNddcY2PhuTBXUBCouQfvGC5Gp0+fbutYOjLeIHj+8rAw31248gPXcHesLLdq1cryuF973rx5oX79+pYupJULowV5f4QQQgghhBBCCCGEEEIUDYl+Iinsscce5voPt43O66+/Hlq0aGFuNBMb/0tSDPAwIlAMGDAgbrGYiAsmOYWVbUwu/rggw7ht1157ra0jJD700EM2fh1wLO4+05VEIWvDhg1mwblx40aL64knnhjGjh0bypUrF08T4uzWXcw9XXKD8ex8bD+EIvJNYfFnE7Uq8+uxLzovDB6PmTNnxkWsQw45xJ5rYYS7aFjyE67EdPR7Mr4gbnRdYCMdq1SpYvs8nJ42yQQLVq7JfbkPY2I+++yzFi72LV26dBd3o8w9DC7MCiGEEEIIIYQQQgghhEgdEv1E0kAMwPUfQgBgdYRg0qhRo7BmzRqzSEoUloqb1157zeaIItWqVTMBZXeWiDkJNGxDbELYwAKKORZYJ5xwgu1HBEHgIj3Yx8Q5OV0rXYiKNDy7zp07h59//tnCfMABB4QFCxZYvFxsAo+bk584Igz5NSZOnGjp59crKNxr69at8fMrVapkz6Gw10uEPIs1IiIurj7Jy8m8fm749f19YZ24Ml7mW2+9ZeIm2xBhGzZsGBfkouzuORQGrun5hIn3Z8SIEbadsCLwYwWYSFHEXSGEEEIIIYQQQgghhBD5Q6KfSBqIZ4hFl112mVnTIUQgBmDlU6dOndC3b9+4xU8qBIn84C4RAQs8xJzCCpFRq6ply5aZ+IIQgotJxq9bvnx5KF++fFwQKak45xcPI3Ho3r27WS1imYjYhZjjzxPRx63dmNiW37hxjzPPPNOWuQb5wa9bGLheoqUm6Z8ogBWWN9980/I092nbtq2Fk+u7q8tEChuPRPw6Lqgyhh7Lb7/9tq0Tpt69e5u1ncc1eu9khSM3CAt5g7QgrzBmJZBOU6dODW3atLFw8YyL8o4JIYQQQgghhBBCCCGEyB+0yUr0E0mDhn2EMBr5Gc/vpZdeCscdd1xcgMAiqEePHiUmAGC1NWrUKAsP4WzdurWJElhuFQXOR/jAmpFrY+H34osvWjq4OOTiTTrj4hliEtZkQLjfe+89s/SDqJhE2hVUXOJ67777bmztPxZgiFiFFeq2bdtmc8KCpR/x8HAVVfxDwPJnR552XPBNJcQBMRmLy65du8bjxL15txhbsaDpn0z83oh/Xbp0MaHft33wwQcmmPKuFyafCCGEEEIIIYQQQgghhMg/3hYu0U8kDRdHaOSH8847z6zdcPdH4z8CD5ZKWAE999xzcZGpuMBiDYGCzF+hQoVw6KGHxsOVHziPCYHKQfBr166dCX4sY7X2wgsv2Ph3wDqko+jhHwGPF5x99tkm3iBWIi4NGzbMXFqSTsShqPHgOky+fPDBB9tyUUQ03KwC+Y/n6/nPicavoEStBskzuBIFz+s54elUkLTye3j6TJkyJVx44YVmPYqVn+9DREc0RWQrzH1SAffn+eHKtmXLlhYX8g/v/+zZs+PHCCGEEEIIIYQQQgghhEgN3gYr0U+kBM9gzBH6xowZY64cEcwQNHABOnToUDsGCivKFIS5c+eaQIQw1LhxYxN0PJz5ub+LSy5QIVqeccYZYdasWXZNBD7idPzxx9v+RPEp3SDuCEmeBsOHDw/Tpk2LpwWCHxZmkJfIVRC4F+MEAulIfiiKlV+UaBg9TkUFK0IPG6Iu7lohKvzmBeHwKTe4PiIZ7wd56t5777V0f+WVV+ye7GeqXbt2mDRpUmjSpEnszJIlMU6EffLkyeHUU0+NC/rt27e3MRGFEEIIIYQQQgghhBBCpB6JfiKlII4gxmD18+yzz5pVHQIG266//nobV2/Lli1JE2nyAkGL+yB0NW/evMD3RMRzd50zZ84MZcuWDR999JHFB5GD+PXs2TMueGQCPAfCv3r1ahtzkbAjXmJJ1qtXr1CmTBlLr2RBmmMVCaRlgwYNTPwrjudfGKICG65h3ZVoUSwTHU9XrokA/frrr4eqVauGe+65J2zevNmeC5DvcC06Z84cs05169F0w5/hxIkT44L69u3bw7nnnmvvuBBCCCGEEEIIIYQQQojUItFPpBQXKBCXsO5DBDjttNNsHeGEcclwH7lx40Y7LpUgbHFPhK2aNWsWWGgizEwIe82aNTMrLKz/mjZtauMVXnTRRXZculv4OS4qIT4xJqGnxzHHHGNjEgLH+HFFxa+DpR/3Ip1IPxdS05Gzzjor/jwRs8qVK5dvK7/dQV6CL774IrRo0cLGu/z222/jgiLphUiO5d8TTzxhAqw/o2Q9k2RC2Egb0ohxIH0bYvuSJUtsXQghhBBCCCGEEEIIIUTqkOgnip0ZM2aEM88808QeBA4sv0455ZQwcODAuCtAhLlkCxu4TyyIwBQ9FjED0QeBD4svF1+wVHvooYdM0HTSUZDJi06dOtnYi8QJMRTBz4Uu4uJxLQpch4n7uOCLBVhRBFK/ZjLClxtHHXWUTcB4fozXyD0dhN/cIM/4sTlZfyJ+IhQz/uP06dPjrlZdVKxcubJZ/9188802HmWUVMa5oPhzABcseZ/PP/98W0b4J485CP9CCCGEEEIIIYQQQgghko9EP1GsIPggbkyYMMHEsgMPPNC2f/LJJ+GWW24Jt912m4ltiEHJFjZwj8g1CUN+rLVcwAAsra677rq4xRIix+mnnx4GDx4c6tevH9/m4kcmwHNYv359eOONN2ydsPfr189EKF8nvZLxHLgG11u5cqWtk/48Y551urqrBPLKXXfdZeEnvIi7uHR115x5hZ1xHv04zvW8gXj4wAMPmEXlq6++avnMRT2OwaIP17cLFy4MrVu3Tnt3sbnlERePeca//fabjRFJemAJKIQQQgghhBBCCCGEECL5SPQTxQqN/rh0RCS46aabwjvvvBNOOukkGwMMHn30UXOpmIgLJkWBeyPSMMdtYpScRAvCicjHuIO33nqruWFkG2IOloqTJ08OJ598sokyLszkJoCkK1hjuZvJdu3a2dhxyST63Eh3XKOyjal///5/eQ7phD/Hbt262fN2yz3yJ9aeO3fujG/LyeKP8xG93Gr1u+++Cw8//LBZi95+++02zh15iWtwLZ4DzwNrSMTkvffe266DKJhJecoh3HfeeactE/9rrrnG4ko+EEIIIYQQQgghhBBCCJF8JPqJYoOGf0QQhDcXmrAqW7p0qbk5xMIJcP9Zq1Yt2x6F84vC77//bi4+sarKj/XU/PnzzfoQgQexwoUXXBVOmjTJ4uHCDlOmCTOIWbhWJdzHHXecCTTRNGa7T8ngggsuMKsv7nHeeefZM04WqUp7BCryKm42Dz74YHvO5KM+ffqYtR75iHsjWieKWZ7HOP/tt982K0HE4xUrVsS3I/ZxPmlBvh87dmyoWrVqfD/XLGq+Ly4SnwHrCMn77befrSMCYt1LvHgPhRBCCCGEEEIIIYQQQiSX//r/MqVFWWQ9WD89+OCDtoxggNvMO+64I2755wIM+3y5IERFiblz54aGDRv+5VoINQg7WGQ999xzYd26dbYdsMq67777zEKtoPdOB/xVR3jbtm1bXIxBvBw+fLhZmZUvX36XdCoKfj8EnvHjx4eLL77Y0hfRFdeVCI1FuRfX59nhfpN8w/MZOXKkCci+P0pR7/XZZ5/ZWHU//fST3QurT0Rr8umxxx4bqlevbuIfArELzL/88ou5TyW/sd0t+7Bw5DlUqVLFXNoiwDKeZcWKFWN3/JNoHJL1XIoLf5eGDh0arr32WhP9SJ9Nmzbl6RZVCCGEEEIIIYQQQgghRMGhPVmin0gbcJE4ZMgQE6C++eYbEwgQR2688UazuENoQ+RB/CiMAIK7xM2bN1vG//DDD0O9evVse9R94oIFC2wssieffNLWHcSdgQMHhmbNmmWsu0VwgROhCaGMeLRp08bcrKYC0prxGkk/hB7ERqy/sGjzcewKC9cuLtHP2b59u4mjU6ZMiW3Zdbw+5tH7ck/Cxdxdw+6///5mLYq1I4Ih57tABonhdjIxz/FO8x5XqFDB0o64TZ06NbRo0SJ2hBBCCCGEEEIIIYQQQohkQPur3HuKtAFxoF+/fuHrr782yykyKOOe4XZy9uzZdgyCVWHFj6hlGSILy1GLIyySGL/PBT/2MzHOHfsQ/DgeC61Mg7RkIj4bN260sRNZJj2xXkwVa9euNQtOxB8EP54xzzPZY/kRt+KgXLlyNpYj+YH0Iz7kJe6PAMmcNPXJ05ipd+/e5sITQfuf//xnaNSoUVzo83k2QXqQPsxxhcq7w3NHPC+u5yWEEEIIIYQQQgghhBClCVn6ibSC7IhQ8ttvv4VWrVqZG0jAug5BcMCAAaFSpUpxi7WCgGUVY6sh0sycOTOceuqp5mpx69atYdiwYeH+++83a6woCH5Yj3GOk4kCTfQ1xyoO4Q1wL4klHmmeCrBow7Un98fKrW3btmHcuHEFfnY5wTXd0g9RiTySaku/KF988YW5f0VE3bBhQ/jyyy9N3CQciIMHHnhgKFu2rIl7J510kglehIm8xDFREJIRxRLDHCVVzyhVuJWfQ/h5d3hmWNxi/SeEEEIIIYQQQgghhBAiOdC+LNFPpA2WIWPChi83adIkzJs3z9YRShCsGFOvMFx66aXmujMq+iE+4Oryqaeeigsufu+nn3469OjRIy7GMCVDrCopCD+CS/PmzS3+QLyxQEsGnm6kL+IOrlpvuOEGSz+2k3aLFy82K85kpSPxYdxH8kVxi36iYDA257Rp0+zZv/fee2Y5K4QQQgghhBBCCCGEECI5mIYRWxaixImKMr48Z84cs5QCrPJuuummcOutt9pyQalRo0ZcmJo1a5YJD4iKjCHo2+GEE06wMdsuvvhis05DWGJfJgt+QByxaly2bJnFh/XOnTubSMdyUfH0Q/BbtWqVjcUIXBurrxEjRoTDDjss49NRFA7GL3R27NgRWxJCCCGEEEIIIYQQQgiRLNT6LtIWF+IQ/k4++eTY1mBjgs2dOze2ln8Q8RDwEJ1wCdmiRYuwZs0a28c27sdYa8uXL7d9WI5x/6hrz0wGoXTMmDFm3QgdOnQIFStWtDRJFtzjjz/+CDfffLOlJ+mKy1RctXbr1i2UL18+dqQozeAWVQghhBBCCCGEEEIIIURykegnMoJJkyaFBg0amJDEhIiUG+zPiX333ddcTSLiMdaYW5wx1hpuPHfu3Bmuv/5628YYa07i+GuZCnFH9APS6KGHHrLlZMaPayGu4sYRiz/uc9ppp4WHH344bgkIqRBSkyleiuRTu3bt2FKIj9UphBBCCCGEEEIIIYQQInlI9BNpi4tEzPfZZ58wf/78uHtIRKPzzjvP9kdB+HFhkMndgK5cudLEJ1/H3STH1qpVK0ydOtXGtkMUcyGQ5WyDdMTtpi8ffvjhtlxYEEmBdPY56Thu3Diz7iOtcY/KGHu4Vo2Kfp7OyYTnyXPzZy/SB/KC5z2eU7Vq1WxZCCGEEEIIIYQQQgghRPKQ6CcyBqzvnn32WROSEP3efvttG5/O97HNBUFEH0Sm1157LTRs2NDG6cNNaFQMwqqP85s2bRp35ZkT2SIgMYahC3W49cTCsSjsueeeNvf0efHFF8Mdd9wRF15J0y5duoRLLrkkLraynSm3tC4K2fKcsgl/JuSFH374wZ47wuxRRx1l24UQQgghhBBCCCGEEEIkD4l+ImNAODj11FND165dTfhDUBgwYICJfLiSZNqxY0fYsmWLubGsVKmSWZktWLDAhAbEKERBtzJ77rnnUiI+pSvff/+9pRWccsopNncRrqBwDunpQuvSpUvDW2+9FTZu3Gj7SVcsK4cOHWrrUJj77A7uk4rriuSARa3De8g7jAB86KGHxrYKIYQQQgghhBBCCCGESAa0l0v0ExmDWwk99thjZtmH6LRo0aK44Ld+/frQvXv3sN9++9l8+/btcUGI45988kmbn3zyybZt8+bN4ZZbbrFliIpHvsw9mbIBt8wjPuXKlSuSWGYfj//n/7F0B8YHxPKSde7Ttm1be04VKlQwYRCxB7IpPcXu4bmTz2677bbw8ccfx9/bMmXKxI4QQgghhBBCCCGEEEIIkSwk+omMAsEIIaly5cq2vHXr1tCpU6dQu3ZtGyfsjTfeiItKiA1YBo4aNcqEp8suu8xEqZ49e5pghTj1+OOPm3DIsUzumjIbhSlETiBue++9ty07RYnvBRdcYOP4kaaIPB07dgz3339/OOKIIywtXRhMdpr6c2Iu0gfeISbg2d96661h4MCB9g7yrG644YbQuHFj2y+EEEIIIYQQQgghhBAieUj0ExkHQk/VqlVNQEBoev311+Nj+/m2Bg0ahBdeeCFMnTrVxpTjHLc2Q/xr3ry5jW+HO1DG9nOxj3OTLU6lC4zhR9yIa926dWNb848LOcxx0cj8H//4R3j55Zct7Vj3dK9Zs+ZfxvwT2Q3P+Y8//rB3iIk8cs0115jgR95AAEScHzRokPKEEEIIIYQQQgghhBBCpACJfiKjwD0gQt6sWbNsHTHBBYS///3voUOHDmHdunVh7ty54cILL7RtUdzaaNiwYSaAIUQwHt3777+/i9jHcdnGwQcfHBc+J0+ebHPIr8jpQg6sWrXKxuy766674uc3atTI0hE4triQgFRyRNOefED+4h1lQkznPXPIO2eddVZWC+tCCCGEEEIIIYQQQghRkkj0ExkDogFj+v3rX/+yCf72t7/Z+HQvvviiWe69+eab4ZBDDjFRISoIumWaCw5HHnlkGDBggK0j8DEG3T333GPHIlj4+dlEkyZNwr///W9bxjqysMLL4MGDQ506dcKcOXPsegg9nTt3DrNnz95F0GHuU3FTEvcUf7rzxNqvb9++ccHP8wRWoJdeeqnlGbYJIYQQQgghhBBCCCGESC5qeRUZA+ISIh4uOX2cOMS8efPmhYsuuigu9OBWkuWoAMW5UaGB83FNiRtKRAiEPsahu/32201Y5D7R47PBmgyrx7Jly9oyQiciXV7xiu4jnVevXh2aNm0abrrpptjWP48ZMmRI3MVnceKiLM/Sn/PixYttng3PKxPwdPZnwbuImD5y5EhbB382N998c6hSpUrc2lQIIYQQQgghhBCZB21ETA5tA945P9s60AshRCYi0U9kFLj1vPPOO20ZMQGB7/jjj7f1wgg9WCOdeOKJtsz1HnjggXDttdeG9evXW0GFCcslFy4yGeLQvXv3uACKK1QH0ROiaehxRiC8++67w3HHHRcWLFgQd5nasmXLsHz58nDVVVfZsS7EpgrCFg2f34/nT5iIkz+zbHhe6QzPgXT254FwTt5gPEcmz088o0qVKoXXXnsttG/f3rYJIYQQQgghhBAic6FdyT1J0WbEsrcVRTvQCyGEKBn0JRYZxXPPPRc+++wzExwoSMyfP996EyE+FEboadiwoV3jgAMOsGvCk08+GR577DETMbgHln/ZwhNPPGFCDHH97bffdhFQvZcWIifLmzZtCgMHDgxlypQJDz74oO2jYEd633fffWHKlCmhevXqtt2JinLJhjDm9IzPOeccCy/3rl27dsrFR/Hns+Dd8LR+7733zAJ0xIgR5mbXofCPiN6xY8fYFiGEEEIIIYQQQmQ6dMJnop1o6dKlsa1CCCHSgf/6/1LZSi9EEsGFJ24kGccPS6KxY8faWHIIC4URehCv6ImEAPbhhx+GPn36hBUrVpiYwT0QkHBdyTybXBIy3hqiJpQvXz40btzY3HYS748++ij88MMPNidd/fNAepBO5557rlltRUFw41wX5XIS5pIBYUm8tou/a9asMbGJsQYJD/khlWERf0L6T5061Vzj4lqV95K0J+/stddeYejQoaFbt27x5ySEEEIIIYQQQojMZ+XKlaFu3bpm5demTZvwyiuvWKdxIYQQJY9EP5ERNGvWLMycOdOWsbw7//zzTZDbb7/9bFthiWb/hQsXhksuucQsCREtEASrVatmY/+deeaZuwh/UaGxsIJG4quXaoGK+1EYIx6IpYh3hJvt0bBExTK37Dv11FPj6Z8TpIGfky5CG3GKhiVxXRQMzyOkIcIqeWPGjBnhnnvuMbe7bPc0Zt6/f/8waNAgW098R/QshBBCCCGEEEKIzIQ6PW1oeM+ibo8HpnHjxtmy6vpCCFHyyPRCpBUUHBAIgPno0aNtzLZ58+bZNgQ/rM1eeumlIgt+EC2QNGjQwMao69Wrl61jObZq1arQunVrs2ICxA5wwY/wImb4gMV5wbE+Ja77tlSDxR6QfogyiRaMnhakPRaOt9xyi1lBvv/++7Y9N0iDdCzYRdNXBc+iEU0/8s2ECRPMpSfvJvs8D3fq1ClMmjQp3HvvvbZ9x44dhRLFhRBCCCGEEEIIkX5E2wByIq99QgghUo8s/UTaELUGQii4/PLLzZ2nW5sB48g1b97cChhREaKouNDI64Cgh3Uf4weuX78+fp9y5cqZ6wLGt0MgdKLhzg8cz31yOieZccoLDzPj+iHaIHbiix33mPTU8nEMSXeEQhc5M43o56240jZbIc/4e/fwww+HBx54IGzdujX+7mCN27t379ClS5e4JSAkvh/+TPQ8hBBCCCGEEEKIzIS6Pe1FzLH0e/311207dX22qc4vhBAlh0Q/kXZMnDjRxp3DzaaLDFWrVg3Dhg0zYQFBYY899ogdnXyigliLFi1sQGJeEyZcfnJ/wnTeeeeZAIlFHNaIiVZziSxZsiR88803Ye7cuTZnLLQov/76a7EWihh/zcU9xz8H0XAkijaZCnErzvTNNrB8RRiGihUrhm3btsXTtH79+ibIsz0novkqpzwmhBBCCCGEEEKIzIG6PW1F1O0l+gkhRHoh0U8UG9Fx8JzEgsDdd99tVnYIUl5QqFmzZli0aFFccHCKowCBpdvw4cPNzSXLLn75a8OcbQhjiIBYAGINuGbNGhvnjP1vvfWWjaXn5zikBWni4EIUS7t0wsOswpqIWu/xLrJetmzZMHDgwNCzZ097D7zAL4QQQgghhBBCiOyFdjDatWgDoN1u5cqVtp12JLULCCFEySLRTxQ7FAyiBQCW33jjDRPWNmzYYAUEJqznGL/vrrvuMtHMx6NzUl2ISLRww9UnPZduvfVWu3diHBBE/vjjD1svU6aMuSiNEhX5XCjkvBNOOCHcfvvtJhpC4n2FSAcQvbEMJc+OHTs2bNy4MVxzzTW2T3lWCCGEEEIIIYQoPdAO4KLfiSeeaF6yhBBClDzW+UKinyguou4kt2/fbmPkAeOD3XjjjbbMfiyIsJjDXWCFChXivYQSsyrbUg1hRszz+yN8sDx48OC420/ckXoYKfQ40WVgHQspXIKecsopoVatWracCPGn4CQRRaQT5EvyMC5uhRBCCCGEEEIIUXqJin41atQIq1at2sVDkBBCiJJDop8oNvzPn/lXX30V/vnPf4Zx48bZ2HkUEhC5KChg3XfnnXf+RfRKzKqck2qiQiUFGu7JlFNBZs6cOVbImT59eqhXr56NO8hYZ7///ru5QWzYsGHc0o+CEdeLxtHXPZ7FET8hCkpivlWhXgghhBBCCCGEKF1ERT86uNP2JYQQIj2Q6CdSRk7i1csvv2yuASdMmBDb8qcABghkWPeVL1/e1tMBCXBC/BXeC70TQgghhBBCCCFE6cPbyipWrGhiH+0DdJpP7LwvhBCiZNDXWKQM/vRdGGA8vLPPPjtcdNFFJvhREGAfc6z7ZsyYYRMuP3PSoXPaVhxI2BDir+i9EEIIIYQQQgghSie0CWDpV7lyZZsLIYRILyT6iZSASLdu3bpw9dVXm+Ve9erVzYoP3LVlr169wkcffRQ+/vjj0KRJE3Oj+e9//9uO4fzoVNIkhicdwiSEEEIIIYQQQgghRHFCmxhte3/7299k3SeEEGmI3HuKIuNZiDnTiy++GEaPHh1mz55tY9hREPD5vvvuG84555zw5JNP2jk+Phj7cQWAH3DIKVuWpHVRMl4TWUcJIYQQQgghhBBCiEyGtjza8erVqxfWrFlj63LvKYQQ6YNEvyzChTVfdheaufG///u/4f/9f//f8K9//Sv8/e9/j23dFbIHU05/3Pypcy5C3WuvvRaeeeaZMGvWLAvDH3/8ETsq2LVbtmwZzj//fJtYj4bV4T4e3sRsKcFMCCGEEEIIIYQQQoiSwdvqvI3upJNOCitWrLDtiH/HHHOMhD8hhEgD9CXOQPgzTRTFENEef/xxGzsPENSiQhkCXSIIfuB/yBwTvS6iINdgP8vg1+F+CxYsCNdee22oVKlS6Ny5c3j//fdtnwt+nHvhhReGxYsXh7ffftuWEfy4B/sS4+HhTYybEEIIIYQQQgghhBCi5KDdjinaNkiboQ/Xwzr7cmqDFEIIUXzI0i/D4Y8UE/pnn302XHfddbatY8eO4dZbbw0nnniirfOIXVCLwrku+LnVXyKcu3bt2jB37lwT+T755JOwYcOGsHnz5rgoyHU4jmsxb926dejevbuFgz99tuHn28PAnG2Ob2db4j7HjxFCCCGEEEIIIYQQQpQsvXv3Nq9ftNlh6XfsscfG9gghhChJJPplIP7ImNOLBoYNGxZuuukmE9kAkQ1Xmv369Qu1a9c2gY5tkCiy7dixw/6cP/300/DDDz+Ejz76yOaLFi2y/Tt37oy74nSBj+3M2c42XHwOGTLE/vAhegwkLkfDA9H9DtuEEEIIIYQQQgghhBDpRc+ePcPIkSOt/W706NHhggsuiO0RQghRkkj0y3B4fD516NAhTJw4MbbnT/jjrVGjRjjqqKPsGIQ2hMHPP/88/Pjjj2HLli123B577BG3yuMct9rzOeIiAh9WhcwPP/zw0KhRo9C8efPQoEGDcOSRR+5izZcTfu2cYB/kdb4QQgghhBBCCCGEEKLk8DZChvx5+umnrT0Ri7/LLrssdoQQQoiSRKJflsBj5E+WcfNee+21uFiHX+1//etfZomHxR7bGVePbVjoucjGHPeeWOCx3WG8vnr16oWqVauGZs2ambDIdf14v0YyxDq/rhBCCCGEEEIIIYQQIj2h/XD48OGhb9++1pbHcq9eveKewoQQQpQcEv2yCIQ8BD3A1ebMmTPD9OnTTQxkwhKP3jjeIweYV6xYMZx00kkmDO63336hZcuW5hK0cuXKeQpx0awjsU4IIYQQQgghhBBCiOzG2wqx7rviiitsHfFv8ODBsSOEEEKUJBL9shT/A4Z169bFx+IrU6ZM3OLPB9h1yz62+XE59cxx157qtSOEEEIIIYQQQgghROmDdsPt27eHMWPGhKuvvtrWmT/yyCPmFUyGAUIIUbJI9MsyeJzJ/HP17JHTNaP3SvZ9hRBCCCGEEEIIIYRIFnR0p8N7dDm6TeQPbwN89913Q7t27cw4oEWLFuHtt9+2tFT7oBBClCz6VxN5wh+1/qyFEEIIIYQQQgghRCazbNkyGxoHXOhj7h3eRf6gnZA0Y1ggRFOGEWJIIXkGE0KI9ECinyg0UTFQwqAQQgghhBBCCCGESDcQqJYsWRLq1asX9thjjzBjxozYHlEYEPpoB8SVJ0If6//+97/j20XpQGK5EOmLRD8hhBBCCCGEEEIIIURWghC1ceNGEykQqYYOHWrWaY6EqoKDwPe///u/ZinJ9Pnnn8etJ4UQQpQs+hpnGSqoCCGEEEIIIYQQQgjxpzUSAp+79WR9+/btJv6xLROslRDXAKHNKYlwc0+fEPiqVKkSF/p27Nhhc98vspedO3fqOQuR5kj0E0IIIYQQQgghhBBCZCUIU23btjV3lAhnixYtsu1///vfbZ7uEG6Ey6glHYJLVAQsDjA0YHIrSe6PcMq8fPnyts2PEZlLTmLepk2bwp577mnPlnwYzQdCiPRDop8QQgghhBBCCCGEEKJUgKXSggULYmvpD6IalomILFj9DRgwIEydOjW2t/ghLID489///d8237Ztm22T9Vd2EH2O5L/BgwebwIvYN2/ePNvmIroQIv2Q6CeEEEIIIYQQQgghhMhaECuw9oN///vf4dtvv427zUx33MIPgaV169Zh0KBBoX379mHhwoUlIrog+iEKIfocdNBBNv/xxx8tPTMlTUXu8K4wObwvP/zwQ1wIZJ/nSZ8LIdILvZlCCCGEEEIIIYQQQoisIypeVKpUydYRyl599VUTq9KVnMS8yy67LEyfPt1EN8S1iRMnlpjoQvhIS9KQsPzP//yPbf/b3/5m4pAs/rIHrDmjYzYiAvrz1XMWIj2R6CeEEEIIIYQQQgghRCkFAQfRZvTo0WHjxo2xrdkBooQLf9dcc43No6SjaMHzSBTzbrjhBns+bPex1Bo1amTz4gYByMNHvkGEROxzAVBkHzxff4+ignRUVBdCpA8S/YQQQgghhBBCCCGEKKUg4pQpUyZ079499OzZM7Y1O4iKEscdd5yJVWzDSg5KylIuL6JhQuC78847w+OPPx4f1w84JidrwOKAvEIaIphiBUaYsP5ijvAn66/sAmH3xBNPjD/XlStX2jyTIOzKl6I0IdFPCCGEEEIIIYQQQohSyqGHHhoXkypUqGDzbARByuPn8U1nCOPcuXPD/fffb8tMNWvWNMEPAbBcuXKxI4sXwoGAgvBXuXJlEx9Z//777y1sTLIAyx4QdslvwLPNRNFPiNKGRD8hhBBCCCGEEEIIIUoh5513Xti6dauJNK1atQrPP/98bE/mk2jds2XLllCvXj0TqZhYT0fcgo/x+04//fS4wIZ70lNOOcX2YVnnQkxxw32jln4sIwb961//ih0hso369evbnGfugnni+5XOeFjd/ay/Y3/88YcJ6y+99FJ47rnnwurVq+OiNnM/DjIpvkJI9BNCCCGEEEIIIYQQopRBo/bbb79tog0T7j0Rb7KVihUrhvLly8fWQpg8eXJsKb3gWezcudNEWEQHhLWuXbuGBx54wKzpShoXQpiThzzPrF+/fheRRGQPtWvXji2F8NNPP8WW0ntMv0Shj2V3Pztq1KjQrFmzsOeee4YmTZqEiy++OFx66aUWz7Jly4bzzz8/fPnll5a3Od6FTiEyBYl+QgghhBBCCCGEEEKUErBugXPOOcdEGqY2bdqEzp07WwN3tuBiJhAvLNF69eoVXx87dqwtpxvbt28PJ5xwgoWdcNatW9cskXBNiuBS0kKLi3xY/DVo0MAEEZajAqDILvbYY494fvz4449tW7p/K/z9R+gjX77wwgsm9LHMd2DmzJl2nOddjmX8Qr4T48ePD8cff3wYNmyYWdW6+AfpHm8hQF9iIYQQQgghhBBCCCFKCViO4dpywoQJ1oBNo3iPHj3ijeTZBnH0xv8yZcrYNoTOdHXv2bRp07BhwwYLI2PmzZkzJ/5cSsqlZ5SoNZ8vM8fST2QfLnL9/e9/N/EraumXLpD/ovkyyvDhw81676qrrjJXnnwHmIBxMVu3bh06deoUunXrFk499VT7RvC+YW3br1+/cOWVV5rwB9n4fRTZiUQ/IYQQQgghhBBCCCFKCVi19OzZ0xrwacSm0btDhw62LxutWLyhnvj6mHgIGMuWLbPldAELzObNm4cVK1bYc8Da76233ort/ZN0Eh0QWQ499FBLV5bTwfWoSD6e52rWrGlzh+dekvCO+EQYCQ+WerBjxw6zXmbb1VdfbetY8OHqEwHvtNNOC0uWLAnbtm0zF8evvvqqWdNi/Yfrz4YNG5rAzvVGjhy5i6CdTu+gEDnBOyHRTwghhBBCCCGEEEKIUsKCBQvCxIkTrWHwb3/7W+jbt2+8Ab80NGgzth8CwNatW8Pq1atjW0sGFy0QYtu2bRumT59u2/fZZ59w//33h2OOOcbWnZIWWiAahmrVqpk4Qhw+/fRTm4vMJrdniItP4Pm7CJabdV1xwLeKCRGPOQLd+++/b+PxMXbnpEmTzKrZ8yvuOh9//PGwcuXKMHXq1F3GKQTiTXw6duxo4t9xxx1n2zn/3nvvtXlJxleIgiDRTwghhBBCCCGEEEKILAdhCaFr0KBBZvFCI3eLFi3MqoX10sKZZ55pln7Ef968ebGtxYsLKy5aPPTQQ2HGjBm2jhCL4MezcWEDsWH58uW2nC4Qllq1alnecUEkncInkkuTJk1sznNeunRp2ozhyPvy22+/hfbt25vVMpZ7hJGwIe4zJibj+WHNd+2115pQ7fmUOPAuMrGNc5gQsvv06WPbuNZrr70WJk+enBbxFSI/KKcKIYQQQgghhBBCCJHl/P7772bZ9t5771lDOdCwjTUMY1y5EJXtYAmEGADPP/+8zYubaFqPGDEi3HbbbbaN53L33XeHzp0723Px5+Skk6hGWKLhw9JPZD655bE6derYnP1Y+rmFZ0lzxx13hAMOOCBMmTLF1hHyYK+99gpDhgwJCxcuDN27dw/HHnusCdR867yTA3EgPtE4s4y4d8kll4QTTzzR1onn+PHjY0cIkf5I9BNCCCGEEEIIIYQQIsspW7ZseOCBB8wNHqLXeeedF5o2bRrbm16CUipBvHCLHQQBiIoXxSFkuDCxePFisz4CLIqw7rvmmmtChQoVbJs/k3QQV3KiXLlyFka3rErXcKYLmWxRS9gRyXjOuM5knecdnVIF36vo9bn34MGDw/777x8efPBBy39AXmR8UsbC/PHHH8N1111n24F9CH7g891xxRVXmFUwfP311zYXIhOQ6CeEEEIIIYQQQgghRJYzd+5ca6wHGr1p0E60JCsN7LfffmZFxxhliG/r1q0zQcCt/1xoSzW4DGzVqpWJGdwTwQ/XhAh+HoZEIaW4wlYQCCNCEGmZjuEraaLPMJMsaglnNKzdunUzV7T+nIkLz51ln1IBYUB4494O1ro333xz+OWXXywMTHRiQOx75ZVXbHxMFyiLAh0EiCdxw0JaiExBop8QQgghhBBCCCGEEFnO1KlT4w35p59+uo1tVxxEhYPdUZBjC0vFihVDvXr1zOKRxvyPP/7YLIXcoicVJMZr586d4eqrrw7btm2zdcLzxBNPmFBBWKICSnGkSVHAbSJh/uyzz+IWV2JXyGukjQvLmUBUyCP8W7ZssWVEsPnz51t8isNy0cPAe8C4emXKlDEBDhHQ35eXX345vP7666Fly5YWvmRRu3btcPbZZ8ffQcYGFCITkOgnhBBCCCGEEEIIIUSWQoM1jfOMb+WWL/3797fG8qJawmQqRx55pKULgsKbb75ZrOmwdOnS0KhRo7B9+3YTU4Bx/apVq2bLhIVw8Xyiwku64uH0udgV0gRxauzYsWHMmDG2nu5CbiIIaYjlp5xyiolt5FGm4rAUJq2YsOTDgo93BtGc+9etW9fCwz6+cYSH9PX8mAxOO+202FIImzdvji0Jkd5I9BNCCCGEEEIIIYQQIkuhARzBj4ZyGsIZhw0rPxeXvFE9WUKEN7bjBtDH/XL++OOP2NKu+DnJaqjPC+7Rpk2buDjwzTff2HYfZy/V9O3b11yK+jhl77zzTjjuuONie/8DzycTiAo/pKf4E7eC69y5czj44IPDBRdcEC677LLw6quv7uKqMlPA0s/fZd6hNWvW2HIq4D7+Pr7xxhsmvL377rvx+zM+6X333Wcui4HwIKx6/mOerPdnxYoVsaU/XQMLkQlI9BNCCCGEEEIIIYQQIouZMWNGbCmExo0bx5b+xMWvZAk23thOI7wLQjTgb9q0ycbcwkUewgcWb46LIMUhvBE+RDYXBhYsWGDbCW9uomQyWLZsWWjYsGGYN2+eiRTc+/nnnzf3gdwbogJpplC5cuXYUghfffVVbKl0Qz5evHixuaJk7Maff/457LnnnvHx4XjemfSsCTNxQXzzcC9ZsiRp3wyHa/vEN+GZZ54JHTt2DLNnz7b3hfth7Td69Ggb04/3iGPZnuywOIwb6HA/ITIBiX5CCCGEEEIIIYQQQmQpWPhNmTLFGs0RG9y1pzfeJxvc73FthA8a4q+77rqw7777hoMOOih07do1XHrppaFLly6hTp06FiZEr88//9zOLQ53gcS9Ro0a4b//+7/NGot1BAzSKVXj+iEmXnXVVeGjjz6y+xHv4cOHhx49esQFP0iVcJFKEIOcH374IbZUuuH5DhgwILb253Nt0qRJGDduXOjQoUN8W3GI3MnCx8ojbnvssUdYu3Zt0kUw0oSJ93LQoEGhd+/edj/uzb0uvPBC+37wzeA4vhfsZzlVRJ/RUUcdFVsSIr2R6CeEEEIIIYQQQgghRJbywAMP2JxGc8Q4d+3p48klG8Q07kXjPI3yw4YNs7GwaMjnvuyLCgiTJ08O1atXN+ud4sAFAiyGgLB8/PHHFtZUiAcLFy4MnTp1srlbeI0cOdIEDSA9mDKVqKVfKl0+ZgqIRLfeemuYM2eOCcmAxdrEiRND+/btLQ+Q71MluqcKwourUs+vCOXEIxU89dRT4c4777Rl3skKFSqEO+64w94b3lu+Mb4vcUo2WCg7meiWVZROJPoJIYQQQgghhBBCCJElJIoJ0TGpsJABhAlvOC8q3M/vyXzq1KlmMffSSy/ZugsDFStWtPHs+vXrF6644orQrFmzXYS27t27mzWU41Z4kBinouD3Y1w/BD/Ez/Hjx8eFyKLilkGEnXD36dPH0oRlRIOnn346XHTRRXYM2whPqsST4qBq1aqxpRA++eST2FLpwS1bnZtuuikMHDgwbsE5atSo0K1bN3vfOM4Fv1SJVKmCsNasWdOWifPvv/9uy8nm7rvvtu+Ep0+LFi3C2LFjbbunXTS9Uw0WjcC9DzjgAFsWIt2R6CeEEEIIIYQQQgghRJYQtRpDgMLCCAECIa5Xr162LZkiE+IcjfDMzznnnNCqVau4Oz7AsvDNN98MX375ZXjwwQfNbd/jjz8eJk2aZOP6sd8FN8bXY+wzdx3oAloqoAGfMAPWhtF0Kwou5Lz77rtmocRYfoh9iD5PPvmkuXf09P/Xv/6VUcJPTri4SR7bunVrbGvpgefqz3DmzJlh8ODBtkya3HDDDWYdR55mPWopxnomPvty5crZ+8qYhcQh2dx7771xcY+OAYz/SWcA0srTqzjTzcVN8vmBBx5oy0KkOxL9hBBCCCGEEEIIIYTIEqIN4hMmTLAGesQzBKbTTz/dGtSjDehFBbEH8W7//fc3IY/GesawQ+h47733zMoNoatSpUomPLrgxbhgVapUMXHs+eefj4eHc0844YSwbt26lI7xx5iChIHwE+ZkWakRv3feeces+RAMuPY+++wTHnvssXDJJZdYOjncf3f4s/KJ60WnksYt/RBFNm7caMulDSzfZs+ebQI2IIxdf/314ZFHHomPecizS7QmZVumgbUfz5rviVvBJRPyNNc/99xzw/Tp0+0diVolF3ea8T0CvhN8w4RId3hHJPoJIYQQQgghhBBCCJEluKgGNJpjzUaDddOmTUPZsmWT3mjO2GX169e3cfvcMg+LQgQvREYnarXny4iACHu4P8QNKaIIDfyE+eSTTw6vvPKKHZdMXChDiGvYsKGFhW2M61dYouIbgl/Hjh3Djh077FmQ5m+88Ya5NI2KPn7f6LmZyNFHHx13XYkQVBrhnWIMOs/Xxx57rFmsOW5Ryjz6vDPx2ZOnPZ6JYzgmIz5Yi/Lu4HKXdOWd8W+a37c44d5MiYKtEOmMRD8hhBBCCCGEEEIIIbKEaMP7s88+aw3niH5nnXVWUgU/FzJ8bD7ACggh4IknnrB7IQLRUI/lDmFwossepuOPP96OP/HEE22d87CWW7lypZ2frAZ/vx/3at68ebwxHzeohYGwAenevn17m0gbpsaNG4dVq1aFGjVq/EUQIRycy/a8pnRn3333tWfDM/38889jW7Ob6DMn7iNGjAgffvihpQEC0ZQpU+IWfuB5zAUsnr1PJY2/xznh8YxCnnaWLFkSW/rzOjkdX1DKly9vVsI54eJfcUFHBM/btWrVim0VIr3hPZToJ4QQQgghhBBCCCFElhAVEmiIR5jAoq5Tp06xrUXDrbkQMBDquB/3qV69uo1fx5z7ARZgLoTkF8b1O+mkk2yZsNetW9euwZRMCOPhhx9ujfosf/XVV4USFj1uWPPhzpT0IKyIFx988IGJP1w/J4GHbTltzyTcRSlpl5eAlC1Yg/r/PXPmxJdx+vr06RPf9+ijj9qzz4l0FHGjFmw8QxfuiFtO7+0ZZ5wR3441HhAvruPnZjr+Hfjoo49szjrfOiEyBYl+QgghhBBCCCGEEEJkETRST5s2LW6BV61aNRs/LxmiAwIW41xdfvnlYfXq1SYAYJmDW8tEYa6wgtbChQtD5cqVLbyIKuecc07YsmVLbG/R4brEATeMCBVMc+fOzVHkyA/Ek7ELd+7cadc+//zzzU0h6bHXXnvZGG9Ros+B5cQp0yC/kQafffZZbEv2Qh4hvswRtTt37mzr5CGsPK+99tqUjkWZbAg74J533Lhx4fXXX7f17du3xzsNRMHSz+P3yy+/2Nzf86iAmAqKSyD375iLmjzbCy64wJaFyAQk+gkhhBBCCCGEEEIIkUW4eOWWV0cccYTNk9Vo/uuvv5rrUBr5EQ3GjBkTqlatGhcQigrXdUGRBve33nrLRMVk4MIaFmq4Eq1UqZIJiwgZuPMrLE8//XR44YUXTGxlTrgT8XtHJ9IscVumgftS0i+TxK7CEn2uo0aNCm+//ba9Vzw3F8xyE4+LS7QqCIybSXhx09q1a1ebCOeNN96YYzwQOhnHERDi169fb8uZmG9zwuOB5S9uWv2Zyb2nyCQk+gkhhBBCCCGEEEIIkSUgSiD2zZw5M95gzbh7yYLr9+vXz6xhuA/j7nXo0MH2JVr6FZRE4QBhEXGOeFx22WVxEbMoeJpwL0SNhg0bmsj4P//zP+ae1OFeOQl3ucF1u3fvbuMEIozkJvx4HDmeiTTzZZ+i+zMB0ioZzyad8efGc/V8ftVVV9mzZmJcv6Lm/1RAuKPvFcsIzWPHjjWRlveXfEZe9zzLfOTIkeHUU0/9Sx7E0heBH9jnQqeTeL9Mw+M7e/ZsmxMXxirdZ599bF2ITECinxBCCCGEEEIIIYQQWQIN9ogQNF5747uPw5eMxngEg+nTp5tIwPXuvvtuu34yrPyiAgNCXI8ePULTpk1tnX24zSyIEJcb0fu0bdvWBD8EmzfffNOuz+RWjMmGe+dnyiTIb7h4RfgjLbMRfyaeJ8477zzL98S3UaNGoVevXrY93eAdJew8G5aZ+vfvH7p162Zx8XgxDuGVV14Z6tWrF3/HcHl7+umn23G4+3Tq168fFwgnT55sc/8eZGL+jeJx5xvnnHzyybElITIDiX5CCCGEEEIIIYQQQmQJbnGFaOWN77/99pvNcWNZVD7++OOwceNGa+DHAoax97AYKmpDvwsS0esgLDzyyCM2R1yZMGFCPH4cmwyBCStIrAkRNhiXj3sxufCXTPKbRsQtUyDdcPfIeIbkg88//9yWcyKT4pWIhx1xePny5eGNN96IP88PPvggLqynG+Rl3hn/Hpx22mnh0UcftfgQFyxdcVPKOz1kyJCwYMGC8OKLL8bz/owZM8K55567i+vWNm3a2PvB9XCJ60JofvN3OuPP+YcffjAxG7BszOS8K0ofEv2EEEIIIYQQQgghhMgSvHEe6yNvhI9a+vlUWB588MG4KNa3b9+4lRzbkoELCG5xg7B49tln2zJg/Qfs90b5ghIVJ4499li7DiIHoiiCDqSqkZ9752fKFHj2pB/CKXlh06ZNaSuAJYsBAwbYnOc0bNgwW8btZbrCM8J1bdmyZc16j3eV/P7UU0/ZepcuXWzdhT6sAJ9//vn4+8V4mg899JC9m7wXxx9/vL2XrG/dujVs27bN0iIZInxJQ1pt2LAhvPfee/H4YOlX1O+mEMWJRD8hhBBCCCGEEEIIIbIMH8ePxvg5c+bEl53CNGJzvLvAxJ1jz549Cy28JULYmGh0h6iI+Pbbb9s+7v/qq6+GL774In4ceFzyGx+O8/vRsN+gQYO4+8NPP/00dtSf5PeapRXS59BDD7V0JD0ZS9ItS13AddifqXg+WLx4sVm/Ae8BAhmkWz5xi1hYuXKldQLYsWOHrfPuMF4m7y9EBUviwX6s+5544gl7v5kQ+3l+COPE+5BDDjGhF55++mnbx3Gcn25pUVDIw0CcEDjPOOOMeEeHTCLx/ROlB4l+QgghhBBCCCGEEEJkCe7CkwZfF8ZWr15tc7fkcfIjwrjVFvPvv//eljmPRv+osJAquBcTbj6BxnfGHiN+PhWUaLwRKlq2bBlb+9OqCdGCY7yRP9NFjFRz0EEHxZb+FJQqVKhgaRcVZjMVnj15jPcK0ey+++6zdYSyCy64IFSqVMmOi+apkobw8a7zDFi+7LLLwh9//GHvDs8EC7+uXbvGjt4VjweCXvfu3UOTJk3sGrzrt99+u+0D3IRyTViyZImdx3HM0yktCgrfuWnTpsXzbuvWrS0+5INkuEcuTrLh/ROFQ6KfEEIIIYQQQgghhBBZAo39NNAjSvTr188arLdv3x4GDhxojfJQkIZ5t97h+L333tuWcROIKBAd5yuZJIpsrF9//fV2P5YZe2/t2rUWpqhFYGFp2rRp/DqMSefXZSpIWpVGSJsTTjjBlnk2S5cuDT///HNSnks64OIlAteaNWtMFGYb7xiuPRPzajpAeHnXeQannnqqiXLuvhMLv4suusiWcyIaH95x3HpyHbY//PDD9g6yfsUVV8RFpenTp9s8G0Qm0oVnDMT5/PPPt2dNPk9nF65RssHNqigaEv2EEEIIIYQQQgghhMgiaJinkRprHLdWmzhxojXKF1TA4ngmrokACDt37jSrl4JeK78kXpd14uGuFBEdiE+yqFu3bihfvrw18i9cuDDrx6RLNlj6+TMj7UjHqHiUybh4iQB2xx13xJfbtWsXKlasmLJ3oLC44INAec4559iYfQhZvK8Ifljv5Sb4AfHxZ8ecd6NMmTKWDuybP3++7cOas1q1arbN3blmA1hFk4beQQJB2/OAf0vTmXfffTdMmTIlqd9HkXlI9BNCCCGEEEIIIYQQIotwIaJ58+Ym9NHIv2DBgviYXoWBhm+35EEM2Lhxoy1HQTjjuK+++sqsY6ICkE+FBdGib9++dg0a3xEziGfiVFC4HmE99thjbZ1ruDtUb/gXeXPcccfFloKNicgYf6RjNoinnqe+/PJLE1OAeA0YMCAtLaoQ5sm3jz32WHjrrbfs3eedHDt2bLjwwgtjR+WNx9nnderUsTnvyaRJk2yZb0GVKlVsGbACzAYY/9DBSpI0YOI74eJfusGYp61atTJLxDZt2oT27duHtm3bxp+fk/j9zQQRUxQOiX5CCCGEEEIIIYQQQmQhNPri4hPBjAbfSy65JClCBUJConXPqFGjTFTkPhMmTLBjkun+k+vVqFEj3pCNi8/ERu3C4Nc48sgjbY5ggqAI2eCusLjxvIag4K5hE8WGTOT999+PC9/lypULDRo0iFu+phOk+8cffxxGjhxp7wzwbp599tmFEmE55+67744/Q64LCICIYr79gw8+sHmmw3fF082FM59KGtLcIZwdOnSwcDF/77337NvOelScHDp0aLzzRWIc0lXEFEVHT1YIIYQQQgghhBBCiCzlvvvuiwsvr7322i7WHd5gXxCwiKMRmeswrh4w3tns2bNtGw3Jv//+u107mY3KNFgjsiA0QLQBvChwHRr5W7ZsGdsSwuTJk+NpVpg0Ks2QXri9BNKW55YoNmQS/r7ceuuttowozPiY0fconcCtZ5MmTeKCZO/evUPXrl1NqCzMmHScU69ePXtHeJ9//PHHsGrVKlvv379/XCD74YcfbJ7pYKWMeEb6MZ5fuuRfvrkzZ84MnTp1MuH5rLPOMgs/4Bm4VTLiLm5dgWfH+8j+nL5j6WipKooO+VWinxBCCCGEEEIIIYQQWYoLZS7ADR482OZQGOGCxmVvBGdsPxqjaVR+88037V40Lq9fv972p6KxfP/997c514664issLlpgLUP4aVDfunWrxSNxKgm4bzqIDvnl66+/tvQjv7nwlMmQ/i+//LJZsRIn8gvj3CVT0E4m1157rb2X5OPTTz/dLL2iFCYfIx5h2ejv/nfffRfb82cnAEjGu5gOzJo1y+KIIHb44YfHtpYcL774YmjRooW5TkboGzdunH23eb6Ek3eM54x1NZ0vGMsPy8699trLvs2eb3PKr9nwfoqckegnhBBCCCGEEEIIIUQW88ADD1iDPYLFbbfdZhZYNP7TcFxQTjjhBGts5nws4hAE3n33XRN6uB7bN23aZMckWuOxrajQ+A3c5/vvv7flokC6bN++3RrJ99xzT7su7j29kZw54U5G2AuD3/eoo44yC8p0pXr16jYnPUnDbIH0/+abb0wEQmxp3LixWb6lI7h8xBqMMCP8vfTSS7E9hcff4VNOOcXmgLDkVK5c2d4RnjuWxJnM8uXLLe3IvyeffHKRxkDNC7ew8/ck2vliw4YNoUePHqFSpUoWlksvvdSESLdIBr6zjNeKIIiwx1iTjOXnlpy4VeYbNn/+fDs/CvfMpvdT/BWer0Q/IYQQQgghhBBCCCGyjGjjLkIF4/kx3hrWHdGxuArK5Zdfbo3RNPT72HcXXHBBKFOmjAkNNExPmjRpl0bqZPLzzz/bnPsTr6LCdQg7okXDhg3jDfCLFi2yfekA6V2hQgUTAtIVwggIDhs3bjQxginTQaDBnSd5mfzQvXv3eB4hz6QLvBe4o3QYh2+fffaxZX82hYF4cz7fDMQmnu/06dPt+0E6XHTRRbaNY9zdZKbyyiuv2JznjFWdi2jJwsU+t7Dz5/Lss8/G71etWrUwevTosG3bNjuOdOa7TZgQ9uhowXeWjhYXXnihnZ8InReOOeYYEy7322+/2Nb/iIwi+5HoJ4QQQgghhBBCCCFElkGDcrSxn4ZlGn1peF62bJmJd4mWeLk1Cke340rOG/9pgB4wYIA1QuNajkZrt/TC4sgbuYtK9P7vvfeezbkX45QVFdLIxb3TTjvNRA4a25cuXZo2og5pyzPDIhHSRYx0eM5HHnmkLfOsEIN4PskWTUoChCAsvhBeiBsCN3mG5cJYyqYC3mPG1yOchA3x+o477tjl/S8sbu2GZRnvA+nA++7fjvPOOy9+n0x18Ul+JT7PPPOMPVcmvmsu7gLbovP8Ev3GYqmLEP7555+HO++801ymknZXXHGFWWlyLNdnG/dGvEPI9X2vv/66iYMuxOYG+/hGRL8THq/ESWQf9vxjy0IIIYQQQgghhBBCiCyFBmAs8GgwpuGZcZ9uuumm2N78w3X22GMPa/yHRx55xBqoaUB+9NFH4w3o99xzT7xRmUbIvBqpC4JbjxGPZImKgICDSEXYidu8efPSRtRxix9El2g6JitNi4pbLgHph5VktjBt2rR4Pm7Xrp3FNd1EVwR4rMMIJ2FjHL/cwljQPIMVrMO5XPerr76ydGCde1atWtXmq1evjh2ZORBu3nfyrI9FiYUc8eYbU1T8GgsWLDDB+KCDDgpVqlQxl8sfffSR7Ys+K4TAe++9N6xatSps3rw5jB07NjRt2jSe1k5UkNwdnBedRHZj72lsWQghhBBCCCGEEEIIkcW0atXKXBV6AzIi3bXXXptrA3JiIzEiG+u33HJLbMufYhnbsEjBevDggw+26zOeFMIZy8kCixcEDhrJW7RoYcvJAms6runQ4F6QhvVU4s+BtCZMzBHX0okaNWrEltJHjCwsnueZ4zbTxdaoO8V0iiNWvE79+vXDiSeeGFsrGsTfhXUs/o477jhbRsjydwMRnvcGEZBtgwYNsu2ARWAmQHz4pvGcebfOPfdc207co+8Z6RH9JkTd1yZ+K7gW31dcEPOdwj0qltF8V/h+cbwLglhRMv4i2/hmEhbGyPR86N+5aJ4jnODH5Be/RkHPE5mFRD8hhBBCCCGEEEIIIUoJN9xwg1nnAQ3Aw4cPD02aNPmLFRmwHm0kdosuLAS9kRsrmX333dcsUjh22LBh1qjN8ViscF1gvaAigDdMc11EubfeesuuTSN45cqVd7GQKSpci2sC96Nx3q0ZSxLSmQZ+wlS2bFlLk+gzKWk8H7gYy7Rhwwbblg7hKyievsSLZR+3kmdwzjnn2HI6wXvRr18/WybMffr0sWUEKX82hYV0IA24jj9fQAhjmf1Y/SJauTj42muvhd9++82OwT1lusM7Thp6BwUmvm/Ehzi7MOf7PE3Zj2Uw53p6EPe+ffuGI444ws7ludD5AatB1slDHIdb4m7duoUlS5bY95HvGlaApLXnPyYnugx+nB+bFxzj5HVNkV1I9BNCCCGEEEIIIYQQopRAo/WVV14ZnnjiCVun8XfhwoXWKI3LTyx6aIimsdgFO+A4GrgZ665Ro0a2DRGQRnEs/LwRuUOHDqFSpUp2Pcb1e/jhh+1aNJInigDecJ0b0YZpGsiffvrpeLhwtZhMazfigoABXH/OnDlp0TDuQgthIe4IB4SvQoUKRRZ1kkmtWrVsTpgYf5AwpkP6FYUVK1aYeEY8EGrcuiqdQKzatm1bbC2ESy65xIQmBCnPO0XBr+OWfMC6C/hsw4KYd4d04vux1157xcWydId3io4PxINlt1glvonpx/fG48V+XIIistasWdPi3rVr1/D444+Hr7/+2o7xbxvvApZ+jz32mKXPli1bwpgxY+w87uFuhblG9J3xZd/O9fyaBSV6bZ+L7EWinxBCCCGEEEIIIYQQpQQamRHkrr766jBjxgxr7GZC0EAMRNy45pprwvvvv2+CAsIdxz3zzDPh7LPPDg0bNgyLFy+Oi080VuPSD6EH2DZixIh4I/Ydd9wRhgwZkqMIkJ8GbD+mffv28UbvLl26hLp166ZEWMBqEUiHxEb/kuTQQw8NP/30U1yEwY2qizAliacRYgnh4Zlg6ef5I9MgzxIP4rVy5Urbxjr5LR3SO5H777/fwkq6I0SR5lEXm0UlKqxjscb1eQdnzZpl2/z9xEqWMHz22Wdh+vTpti1TePnll+Oi5T/+8Y/Y1j/x+NHh4dtvvzVLZjo9cCwW0nwXye+8l+R55sD7cP3115vF8O+//27jqfbs2dOeUSKkaWG/jwVFgl/pQKKfEEIIIbKaVBSUhRBCCCGEyGTcYgnrE9zbMUc4wBqPRuGnnnoqnHXWWaFp06Y2Xhfu+3r37m3inws5zDkGIQRhgGOA62Dtxxh/NIBzXP/+/cPo0aNtv7sB9HI650fHxgIXGnx7p06dwqZNm2wZMY7xr3JqPE8GPh4aDfVYeqULCLWIfqQXAgUiYDrVddxK0oUxz0uEMTplAuRhworQQxyYDjzwwHjeL2k8HFiN4X6UsPIek+ZMWJr5e1ZU/FvBc8Ui2EVnrPnY5s+bDgGEg7BlkujHdwRxl/Qi/LjQZey9u+++276LWOPx7mGljJCHZR8WfqQLceccroHoyViAr7zyigl9q1evNjfK5cuXt2P8uJzwNAbPbz5xnpO4j2l35HROdBLZiUQ/IYQQQmQ1KsgKIYQQQgiROzTgI+a9++674eSTT46Xn9kOCHA0SrOONQrLCIE0kk+cONFEONi6dWt48sknbRkBgsbvM888M27B0qtXr7jFHw3Zfh9EAreOcfwctnPeuHHj7Hju9eOPP9q+VJXzPT6IWLjhSxcQWUg3hAbCxnJULChp3HUr4eL5IXDwjBKndIf86PnzxRdfjIeZPI/4kw74c582bZqFifAC6c6EC17miWJ6YSD+27dvt/cZuOYxxxwTateubd8EFyAR+oFtb7zxhi37vnQG0dTjQZrR0QEB88EHHwyzZ88Oa9eujccDEZhl3kHm1apVM8s/OgisWbPGxjUlHSpWrGjHJ4NMeGdE+iHRTwghhBBCCCGEEEKIUgwiHZZ6uPNkGZd1V111lQlurVu3NsHjnHPOCRMmTDCxD1d1NJSz/Oabb9o1EAePPfZYG+sLwQdhYvz48eH00083UYL9/fr1C926dbPjOZdrcKxbC3EcExZtDz30kAldI0eOjIuOXI/jXeSgET7ZIHxyD66NqOJwT7fs8fsXJzwbBACeD24WobCiXyrCv88++9icNOLZ8rwzUbAgTT3cbnFKenXs2DHt4oP1LPmBMHv+ZJ13hbHlEsX0wkCcEcIZT5PrwgMPPBAXFf0evDdVqlSx5fXr15sVor/X6Uzjxo1jS//p4MDEMt8B4kxc3ZLvhhtuMFGV78OCBQtsPFOOd2GQ80rqGyGE81//lwGVA4UQQmQU/teViRUIIYQQQgghhEgnEutXrOdV1/L9PkfgQWhgLC8sgGgg9/Np9KcR/OKLLzYrmCgIihdccIE1qnM+Dey4D5wyZYo1qv/22292HNfiGASOzp072zbYXTgLC5Y71113nYWd8OFKFLgf21z4SMW98wJrTIRZxIXjjjvOXI96WApKNB7JwJ+FT1j9bdu2Lan3KC48bci3FSpUiLv4JN2L+5nnBeHBKs3FYJ4BLimZeAcR6jZu3JiUZ8Cz3H///e1dB9KEezj+/BHAXnjhhXhnACzmoselK7gjxQUxz568S9rVr18/NGvWzFx8Yk3p6UhcfQK2e/oz5xp55ZO89gmRLCT6CSGEyCiif1sUlihMMqcQxpyCuS/7sSpUCSGEEEIIIURy8Ubu3YE4gSXMoEGDwoABA+L1N+puuKlkTkO5b2M/QgHXd+HltddeM4tBr+ulkiVLlliDP+FGZHNrP8ITrWOmOhyJrFq1ylwqkiakBeEiXRPJz3NJtujn12PMM9whgqdVpsFzdyEHIRpB2l29ppOA5fmB8CJS3XzzzeHaa6+1MeQctv3jH/+wZfINcXE3rLmRmH+w3K1Vq5aJ+uy7/vrrw+DBg22fv9vA9RHP2rZta9svu+wysw7MKY9mE4nplex3S4jCoBwohBAiY/BKA3MmCpVU+ihQ4WqGZQrlbAcKXrur7AghhBBCCCGESB3e6N+7d2+z4Gvfvr2JDw71OepxNJYDdT0XJ6ZOnWpiS8uWLeNCTKopW7asiRa4LVy2bFls63/ql8UVjkTo8EoacW/EJw+D14998m3FhVvCAXVxFzxw8Vic4UgW5FfSmrB7Pm3QoEHaCH4+Th/WqISPcJHmt9xyi4l/uOBlG/HARS6WquRntvGe7Q6epbepwMCBA8NXX30Vf66IiP5c/d3262MVxzIsWrSoRN6TkqY0xlmkHxL9hBBCZAzRSg0FTsaRoPKH2Mcyc5g5c6bNwd1PiMwkmZXExGuxnszrCyGEEEIIUZooaOM2gsMJJ5xgbv8Q0xATEAAZnw5rPuZYCT344INxsY+xBB0EBhcGUwnjEhIe4vf777+bAOL3LckGfSyu3IoIcQe8PhOt2+S0zWEdUYZ4cK1kpCdWcFyPdEL44Zqs+30yDcKN4PvNN9/E2xgOOeQQm6cDpPG7775r7l5Je9Kb94RwM9FGctNNN9kyeeWiiy6yZZ6Pi3S7g3sgLmKtx/h9nMc1XnnlFUsbzzuev/y6vMPVq1e35XXr1oWtW7facjaTmMczMc+L7EOinxBCiIwDP/F77723WffhPgIowFIoPf/888OZZ54Zr8zkpyebyBwSK635IbdzCnMtIYQQQgghRMGg3E1dDUEAEYK6G8Iarj7HjBkTNm/eHH7++eewadOm8M4775jFEnU6x4UpF5NSDeFt1KhRvI6JNRV1y5LGrc8AUcbTwtOHdY4hvB7u3NKL42bNmhV++eWX2JbCEw1T5cqVbRk+/fTT2FJmEbVeIw2JHwJgusA7dOGFF5rg58/7lFNOsWdN2HkOt99+ezjrrLPsWNpEOJZxNQvCVVddFcaNG2ciH/e54YYbQqdOnWwf9+HaOeUvDwvvz5AhQ2JbhRDFiUQ/IYQQaYFXFByvuLCdyh8VPwaOpqfdqFGj4oO6e2GzXbt2VmlhcHgKmJzHdpF5RPMCy1S2yA9MrDNnG25kdgfH51bRzasSLIQQQgghhEgeCAcOooSvu8ACbM8Jr9flJjIkG+6B6Oh1kNtuuy3XsCUbxDrwezM5CC9AHYf0I5yeHp42HO/bo2nLdTlv4sSJoU2bNuY6lXEBDz74YLMgBPZHp/ziYQAs4vy+jDmXiXg9k7gccMABtozFZ0kRFZxZpu1j27Ztlh98X506dSwP8NzIAwh99913nwlvzssvv2zPho7SP/300y7XJQ9wLNd84403LH/R7rJ9+3bb/thjj4VHHnkkX20sCOaeB+fMmRPbKoQoLvgOqDVUCCFEWkCBMFqhwf87vuJxTXHQQQeZL/qNGzfacV4Bad26tQ3oTmH17bffDk2bNrXtBamgiPQj+vx4tl5ppILBOnO2UZFhPXGiokLlZMeOHeG9996zuVd+o8gKVAghhBBCCJETdevWjddLEHxcjEtVXdOvi9hC3YV16j1MXk92N5qsM+6g4/sJI2IeuKjKGIovvPCCuVHlWsypI7EM3OfDDz+ML3vHyMS6U36pVatWPC64Z81ESGegw7HHZcmSJTYvCaLi7YIFC8KUKVOs3uvbCWOVKlVsmefm+YZnMX/+fHP9yTEcT754/fXXw4EHHhj22Wef0LFjx9ClS5dw3nnnWf0Yt7FY81Gn5hpsQ/BjPE7u6emRFz169LA5x3700Ue2LIQoPuwb/n8vYGr+rYQQQoh84H9DzBH1nnzySRP7qLBEKyJABYZC6rnnnhueffbZ+PZohST6t1bYioooWai08vypIKxYscK2UenYsGGDzb/44guriP3444/hk08+2aX3IpBvON8KOv83eSUYAfnKK6+0OedTaeFY5RMhhBBCCCFEFMSVJk2aWJ0BqF+kqtMgdVjqJMyp2yCWMccKj7oP1ma4Rp08eXI4++yz7ViGuujXr5+Fa+3atWaphYtU6kyfffZZvB7FsdShsV5D9PH4UA/q2rVr6N69+y7jJhaV2bNnh1NPPdWuj6D06quvxvZkHqQtYtp3331nafjVV1/FLf9KCtpEyBtYnrpFImntz9VhPSoWIv4xViaWnsA5Xk8GzxtsJx8y5zm+//77tp99HJ9fi1esSOfOnWthZfzBVq1a2XauwbWFEKlFop8QQogShwLk559/bn7poz3o+IuiUEgBtHnz5uGaa66JV3LAC7tROIeJY/w4kXl4ZYNnmFhU8coLz56KWOL+xAqMX8PnnTt3NtcmfpwqHUIIIYQQQogo1FGx9ALqEQhuCBmpcPNJnQZRiQ6OP/zwQ1i3bp2NIYfYhOiHK0c6O65Zs8bC4nUdBCDOZd3rOtE6jluquWCDaEkH2gsuuMBcfDpcg2OpZ+VUxy4IDLlx2mmn2f1xkTp16tTYnszB0xO6detm3oVYHzFihFmxRcW04oJnyBiYgwcPjou4zHl2lSpVCr/++ms8zA7nsI1n4XmAsNMRFjGWfMU6+7Hw5Jjy5cubCMz4f3SW5RzuUxDIc48++mjo37+/rXO/oUOH2rLnTSFEapHoJ4QQotjwvxwqElQ4WPdlBpmePn26FTSpZFAQvOeee8xlJ4XMGjVqxN1sgF8rsWCb23aRWfCsqfTyPHmWPgfmXmEhvyRWusg/DCDPGAxUgqjMLFu2zPZxLvkNFybPP/+8bRNCCCGEEEKIKNQ3ELAQyahTYK3UrFmz2N6C4/WZTz/91Oo5uN1kSALqKcuXLzdRz4clcJHG6zussx1Yjop5zJm8ThQ9njpR1apVzToNl41RoS+K3xOi9a7CgEjJfQnPySefHObNmxfbkzl4epAWEyZMCB06dLB16pCjR48uUvoUFH8eK1euDCeddJI9X8BDEp2iWUdknTFjhm2PiracCx5eX/drYsVHvBo2bGj1b7YhJvr5rPtUEAgT4wKS58gHl112mbkIBdp2Cno9IUTBkegnhBAi5Xih0qEQ7dsoZN57773hrrvusn34kGeg9JtvvjleYGVOxYbj/W8rp4JiXvtEZoErkIULF8afJXmAvHHUUUeFihUrmghMj8bc4Hgg/1BJp3JBb8aLLrrIKiHkQXpsMqZFqtz0CCGEEEIIITITr68iplCfoJNqQZg2bVqYNGmSWVBRr0Hgw4LP67f5gfszUXfxehHn77///la/qVmzps3r169vdRzqSrijrF27tt3DxSvOYRn8Og7rXo+GxP0FZfPmzSYyImweeuih5hKTMGQSpAfPzZ+V1xePP/54E2iLIz7kOe7P88BlKsIeIKK1bt06vPnmm3HxFwtUBDzygIu/ic/U11nm2Xgn7Jyed/RcKEie8Gtu3brV6u2Eh3ggaLMv0/KCEJmKRD8hhBDFhhcA/a+HOYVZBiGnIEghdeDAgeHaa6+1yksiHO8Vl8SCZ/TvrCCFUpGeuDDHRF7wHodUvliPVmjyC9caO3asubOBvfbaK2zatEn5RQghhBBCCBGHuoaLE9QzWff6an7qIBzjggyiUbQOzHWjdVdgnToOx2Jxddxxx9lUoUIFmx999NFmjQWEw+vE3rnR4Trcy/c7uws3x3udqDB1I7+vw7245oEHHmiiX6Z2suR5kN6IV4hYpOlPP/0U9t1339gRqYXnO2rUKLPoI42ZcL2JmIyQ3LhxY0t3LDjfeecdS3PY3TNkvz8zFwCB+LKd50dcd3ednIjmBfIslqzEg0mdbYUoPiT6CSGEKDEolN55553hH//4hy2ff/754cUXX7SKDn9PTNHKSl5E/84KUzgV6YVXsPKCZ57bsyY/RfMO6xzLhMhMpYNtjItx7LHHxo4SQgghhBBCiF2Fsmi9IyqS5Ab7/XjOpeOi123LlCljlnBY4+HJBJeN1EeqV69ulnHg9/Y6TbRuw7KHJ1rf4Rxgm987Cudwrh8Hfhz38uWczt0d0fSBgw46yMQx0mHnzp2FumZJ4mIqdVLS89JLL7V2CtJp+PDhoXfv3rEjkw9pCaQZ4+DhBQnBEbwzLHh+4rhBgwbZ+Hn+HPwaueHPw/NZ9J5Fxa/FHAtErBQJJ+4+27VrZ/uEEKlHop8QQogSg0LmPvvsY4VYekIyaDm9GRF7+HvKb6GzIMeKzCG/zzWnokxe51144YVhzJgxtozLT8YaEEIIIYQQQojdERXgcuOGG26w46jXnnrqqeGYY44xLyPUfSGZTbHUe6LX83WvD/m+xONyI1qPii7nRfR+4KIfkA6ZCHHyePn4ecA4hQhZiGVMySAx/Wgnefrpp8PVV19t92Adgfizzz4z164uSi5evDjMnz/fwsb5pHV+nlniMYn3LyzR6yCYvvDCC6FXr172HlxyySUmmCYrzYQQeSPRTwghRLHhfzleEKRQ6m5PGJ/t559/tkIg+5NR6BTZQbTykAyuu+668MQTT9gy7lKogAghhBBCCCFEqojWhdO5KbYw9a7E+hpCJ+4nEacQ/xCqMhXihnUdoi3tF4hZjKfXoUOH2BHJwa3usCQ999xzbUxI7gWIZozZ16hRo11EM/b7ekGeW+Kxyapve74mnbBuJd0QumnzwVry0UcftfBG4yCESA3585kmhBBCFBEvSEYLk4sWLTJXixT6mjZtaj0m3UWFEE6y80PdunVjS3+6bhFCCCGEEEKIZEHd1wUQxJyc6sLZDPGlnkXdfvXq1bGtmQnPbM899wxXXHGFiVnE6cYbbzRvRQh0jj/vvMjrGK69bt260LlzZxuzzwW9jh07mmUh4/dFxTKORwxMx3xFGhE23Lvu2LHDRFI63bIuwU+I4kGinxBCiGKBgiiFXAqnUbZv327bKRRSAMxPYVmIouA9JuGLL76ILQkhhBBCCCFE0Yl2LKSOmyjKuFCTjlMyiFr2ZUsnS6zU6tSpY2n01Vdfhauuumq3YzsWBOqlt99+e3jrrbfiYh7XZ0y/evXqmZDmICSzzjwZzyxZz92vw5zw7bHHHhaHVq1axcOf2B4khEgNEv2EEEIUG174c5YsWWLrCH0UoCFZBU4hcoOems6mTZtiS0IIIYQQQghRdBA7SlO9NjGuhx12WGwphLVr18aWMp9Zs2ZZ2wWdSF955ZUwYsQIE95wY5kXO3futHlugteyZcts/L7x48fbOq4xy5cvby5STzzxxF2s47i/t6F42wrpX5AplUSvn9O9POxMQojUIdFPCCFEysmtQFezZk319BLFDhUoJ2r1J4QQQgghhBCiaBxyyCE2px3gu+++s+Vs4O9//3t4+umnTdSlHePyyy8PI0eOtPW88E6n3vbBHLGQacOGDaF27dphxowZtg+Bj/0IfkcddZRtywYSxcBUi49ClHYk+gkhhCgWosKf9+zKdP/+IjM56KCDYkvBxhgQQgghhBBCCJEcKleuHBd1PvvsM5tnA7Rh9OzZM7Rv3z5uZXfllVeGoUOH2nJucB5CHm47o51OsRSsVq2aCX0IgHDmmWeapR+CX5kyZWwbRNtTXDSTcCaEyA2JfkIIIVJOYoGUAivrFHx9uwqs6QHPxqdspVy5crElWfoJIYQQQgghRDKJDqewO9eXmYTHZezYseH888+PW/z16dMnnHzyyWHUqFE2hmFiXRoRz91afvnll+GJJ54wAbB///623wW/f/7zn2Hy5Ml2LGPh0UaS7XVzIURqkOgnhBCi2HGBj8KvF2D/9re/qTBbglBZAZ4By9n8LMh3zueffx5bEkIIIYQQQghRVA488MDYUgg//vhjbCnziVreIfzh3tPdcS5evDhcccUV5lUG8c6FPEDgmzp1qlnxYdnXt29fq2+715mmTZuGX3/9Ndxwww27dIpOnHy7EELkBd8XiX5CCCFKDBeavBAr0a9k4DnQm5CKSWkQ/apXrx6vLNGDUgghhBBCCCFEcthvv/1iSyH88ssvsaXswevKjzzySLjnnntsGfAis2XLljBgwAAT+hhLHgEUYfCss84KH3zwgS2zj/ooloLPPfecbd9rr73iLkMl7AkhigLfEIl+QgghRBaTX/Huf/7nf8wVyfLly8OaNWvC9u3brdLCPNugouUQbyGEEEIIIYQQyeGAAw6ILWWXpZ8TFeVuu+22sG3btnDHHXeEfffd1+rfiHd///vfrS79008/7dLRlLpoy5Ytw5QpU8LOnTvDhRdeuEv91DtGCyFEUZDoJ4QQQpRyEPo6dOhgY90xFkGdOnVCpUqVQvPmzcP69etjR2UPUVcr69atiy0JIYQQQgghhCgq2S5iecdRxD3iRz363nvvNYFv0KBB4brrrjMrPrfm4/jGjRuH119/3Trajh8/PrRo0cKuEU0rB+EwOgkhREH5r//7eOjrIYQQotjh72fYsGE26DUF5bvvvjvcddddsb2iqFCxoEch6Uxlw+eABR9jKI4cOTL069fPehiyjd6IPt6dC2NUQqJj4GULxN/jqKKQEEIIIYQQQiQH6pbHHHNM+OKLL6w++e2335rLT3M5F3NhmQ3QjkF8vD4ZtQBk34YNG6xefvTRR1vdnP1eF48eGyWnawkhREGRpZ8QQogSgULs4YcfbpUACsDff/+9bc/GnoAlgbsQyUnQevzxx62i0bt377gbT8YVAAYXx8LPxxlAGKNHoh+XLTCAuuNpRFzpeSmEEEIIIYQQonAghO25555W16eu9cknn9i2qMeVbCBRwCSuXrdkH2LfcccdZ51rXcTzenYi0XOFEKKoSPQTQghRIiDu4f6CAi+936gQME8sOIvC4RWGaMWqS5cuVuHo379/XFzlOCoeTz31VPjjjz9sbIFJkyaFxx57LH6Njz/+2Cpt2VIJIU08nxH3L7/80pbZllMFTAghhBBCCCFE/qC+dcQRR1j90YU/Old6R9PSAGlA3ZKOs0w5CZ6ki09CCJFM1LIqhBCiREBgqVmzpgl9gOVZdIBrUXSoPKxatSp07NgxlC1bNrz66qvxygcVLqz65s2bZxWwiy66KHbWn1aYiIPRcQjcxWc2VEjIe7ibAdID8ZmKGHFVHhRCCCGEEEKIwoPQR/2TOif1rU8//TQu/mUj1COjk28D4k/cWafjrYt8eaWFnyuEEIVFop8QQohix63McBnpFleMK5fJlQDvvbe7Anwq4L6AgOr3pqLQrVu3UK9evfDGG29Y+lLZ4NhOnTqFFStWhGnTpoUGDRrYsYm9LrkO14tWOLyykm1g4YjoDJmcB4UQQgghhBAiHTjxxBOtcyn1LOqiXt/yumu2Q72ZuqW79vRpd2RjfVsIUfxI9BNCCFHsIPRRAEZocgFw69atNs9UiAuiGHFjvmTJkmITkLgf+ODgCxcutHC4ZZ9brz3yyCOW3qNHjw7Vq1c3oTInCLc/I46nssbk9xFCCCGEEEIIIXLC68VAnXPZsmW2TF1VdUohhEg9Ev2EEEKUGPvuu29cqPrmm29MZCouoSzZIK4xDh4Qn0WLFhV7XGbPnh06d+4cTj/99Hi6wllnnWW9K/v06WPbXGxNtO5zOOa3336zZSpljOdXoUIFWxdCCCGEEEIIIXKDenCzZs1smAjEvx07dlgd0zuVlgaIr09CCFHcSPQTQghRIlD4Peqoo+LWZlu2bMlYwc9B6EMkoyJz8sknx3s3FgcXX3yxVazefPPNeKWqQ4cOYdasWWHcuHFxgQ+LPdhd2F5++WWbI2Y2b97cloUQQgghhBBCiLygLkp9k3ox9cmopV9x1pGFEKK0oi+tEEKIEqNcuXLhgAMOsML/mjVr4q4+Mk38I7xUXsaPH2/rCGzEC3JzoVkQuH70Oj4OAmPuDR482NLvhRdesG1+3MMPP2zhadq0adz1KDCmwO7YvHlzWLlypS1z7WrVqmW8ICuEEEIIIYQQonhgDD8fxy9aly2N9Urq1PmdhBAiGUj0E0IIUaIceeSRNkeY8nH9Mq2wS3j/+OMPE+HozUil5tBDD7V9ubnQLAj//ve/49dB8GN97ty5oVu3bqFfv34m6Pm4fa1atbKK1NVXX23rueGVrZwqXWPHjrW4QMuWLUOZMmVUARFCCCGEEEIIkS+oD+OBBn7//fd4x1XVK4UQIvVI9BNCCFFi/PTTT+ZukoI/Qtb8+fNjezKPL774Ij6OHiJZMkHwc3EOgW/kyJHh1FNPDRMmTLBtCI1t2rQJc+bMCRMnToy78Ewkt16VbPcJcBEKxKVLly5xK8FsQRVNIYQQQgghhEgN1CsZv9+9zGzbti0u+gkhhEg9Ev2EEEKUCFQEcIHZrl07qwDgHnPVqlUZK8hg6YeFHwIcIhnLbi2XDFyQW758edyKz92k/POf/wyjR48O9evXt3SkcuUWh1ExLycS05tjP/roI9vO1KNHj9ie7CSvtBFCCCGEEEIIUXCoHx944IFWp6TO5fXOZNaRhRBC5IxEPyFKEYgA33//vRW2EAa+/vrr2B4hihfyIpZ9iFLNmjWLbQ3h888/jy1lFsTH57xfe++9t1nnJcO1p+MDnmMNiajIer169cLOnTvDddddZ0If21zEYpn7Ex6vYPkcosvA8/AKGGP6cT7xyFaIm7tEjUK6SAgUQgghhBDizw5yKhuLwoD3m4MOOsiW6eT75Zdf2rIQQojUwv+2RD8hSgluSfXMM8/YnIbtjz/+OLZXiOKFPIhwFXXxgUC1dOnS2Fpmk2z3noCgyB937969wyOPPBKGDh0aFi5caGIfA6STpoWF74GLlP6N4NkgyEafUTYhcU8IIYQQQoi8oczMJERBca8z1DGZ//LLL7Zd+UkIIVIL31mJfkKUIiho4WLBofAlREmAgIWYtMcee9jYdIhM5E0XtjIdxi+AZApLfi3E0j59+oSePXvaerKuj5Ufz2HcuHH2HBAT+/Xrl3Xj+TmJorMqn0IIIYQQQghRdKhb0d5Up04dq2dSZ129erXVv7K1fimEEOmERD8hSgkUrCh40ZjvwsrWrVtje4UoXtzSz3HBZcmSJUkTsUqSPffcM7b0H9efRYE0IY2i1nwss83TrihwfZ4H34QPPvjA1suVKxdOOumk2BHZhacnJCP9hBBCCCGEEEL8BwQ+6l3UW5lj6cc21b+EECL1SPQTopRAIQsYD8wLWXvttZfNhSgJogLWCSecEBcBv/32W5tnMlFBM7pcWPKqGLEvccovfBeYECYJ56uvvmoWflyjUaNGWWsNTPwOO+wwmxP/zz77LLbnTwqShkIIIYQQQpRm/vWvf8WWhPgP1DFbt24d7wS7Zs2aHMdUF0IIkXwk+gkhhEgLGJeOnn+ffPJJbItINYhbPlEZGz9+fNi5c6ft69atm82jLjCzBYQ+F/Y87kIIIYQQQojcccutROg0KEQU6lfkl6jIh5tP8HqYEEKI1CHRTwghRImDpV+mk8mVF6wut23bFqZOnWrWfVTOunTpYvuysVJGYwVxdrGPQeYl/AkhhBBCCJE7Xn5GvHniiSfCk08+GZ566qnYXiH+A3mF8ftPO+20eH3SvavkJBwLIUR+0Pcj/0j0E0IIUeJQIfj3v/+dFFeYJUWmi2OjRo2yyhkC2Kmnnhrb+meFLRshXm7xR+OFCo9CCCGEEELkDuVmrLfKly8frrvuunD11VeHK6+8MixYsCB2hBB/4t5i6FDq9WTEYu9oqbqXEEKkFol+Qoi0xAuBUdeCssTJXhBg/Fknjq+WCUQFP/Lu119/HV+OTunMuHHj4qJru3btbF5aIO/xDNP9GQkhhBBCCFGcJNZlEG6YvOyMqONuG4VwvONotHPl2rVrraNvtO4sRGmFztZ8O/G4BP6dZXtB8HY0f8/ArwV+vei2KGxL17ZWD5ePGxuNQ25hjrYhl3b+6/8S669PXAiRdfCqU7hq2rRp+PDDD23btGnTwplnnmnL6c6ECRPCSy+9FC6//PJw+umnx7aKbAG3MPQU5Y/76aefDr17947tyQx4v1atWhVq1apl61WrVg2ffvppxlRoNmzYEI4++mhb3nPPPcNPP/1kPXizFfLZ4MGDw4033mhC58MPP2y9lbPVqlEIIYQQQoii4O0JsGzZsvDRRx+ZgFO/fv1Qp04d2y5EFMQGRGHqmZ9//rnlH/IMjfJe75IAKMR/iH5nwSWbnN4T2jR4n6LjZsLOnTvteM6lbSc3eD9///13mzZu3GjnIa7l5530e/s5Hs78wr3Lli0b9t5771CmTJlw0kknxfb8iRsFJHoC415/+9vf4tv/+OMPW+Y7I/6KRD8hSgm86ny8M03048/grbfesvHFCD8f/19//TWUK1cudoTIBh555JHQv39/e8YIu4wPkUnwflEAOf74401AIx4UgDJlUPuBAweGW2+91cLbsmVLs/qj4JRTQSsbiIp+fFP++c9/hr59+0r0E0IIIYQQIgcoP2OVQgMzdR0afL2hlX0qR4tEvA2qdu3a1kGWth1vtAf2RedClBZ4N/wbGm1zSZRodvduIHphKbhjx47w7bffhtWrV4etW7fa93jFihV2Xd676dOnm8jG8pYtW2xiH+8i32+2s16cVnLR99/j7XMPC/ODDjoo7L///hZW0ozvCf9D7Dv00ENte+PGjS0dmjVrZnHXN+VPJPoJUUrgVefDlymin1coCDdCBH9ChJ+eKqNHjw7nnntu7EiRDUyZMsVcSvKcr7rqqjBs2LDYnsyAfBoV/Sho0PuVAkkmUK9evbB06VIrdL799tsm/Hkhy78d2QRxQmh20W/QoEHhhhtuUOFQCCGEEEKICJSbgXIyjcNA+ZnlnKxMhADvAEteoY6M6AcMg3HYYYfF8xWoDiZKI9988421ezLnW8oceEeYaF9CyPJjeKd++eUXs8zz7zHvF204HIP4xXtFmxpwDOvs5/r+zvHN9mOA42j38WPyeh+j761T1Pc38Xzu4fdx8Y84RIVJ4s0y21gm7t6G3KNHjzBixAg7v7Qj0U+IUgKvOh/TTLP0mzhxYmjbtm3YY4894qbbo0aNCt27d48dIbKBmTNnhlatWtkzxrQfASoTOeecc0w0412bP3++xYUCSjrihcQlS5aEunXrWpixoKVnmH8vshXihzVjt27dbPn66683a79sjrMQQgghhBBCFAfR+iSdehnCg/rn+++/Hx+uxY/J9rpnNpFuzyq3PORtHbQv0ZYIHIOwRZsi+8CPA7dyY39ucA3EJffoxDk//PBDXLj74osvwm+//Ra+/PLL8Mknn9i277//3izrOJdjuWc0zAhWfm/2QTQuHJcI+6NiF8uE25ej5/h9fNlFPwwqDjnkEBMRsQI86qijLLzefuXh5PgKFSrYdTmPuLOP4ypWrBjv+OHpCNHwO9zbw8X9Nm/ebJaJBx54oLVJsY/4MBEOxgAlPi74OVzbj0MYBeJOGvo+OngzfFBpR6KfEKUEXnU+gJki+vmnqWvXrnFXg3zwicOFF14YXnjhBdsvsoMff/wxHHnkkfan3bBhwzBv3rzYnszAC4u4ybzllltsGREJ67F0hnC3b98+TJ482ZYR0xHVec+YshnifPbZZ1s8L7300vDMM89kfZyFEEIIIYQQItV4Yz31qwEDBljdmDaeIUOGhD59+qjeJYqEu4lF7PG2zpxw4Yo5ohDnuDjlbThci7m3Of70008m2CE0fffdd7ZtzZo1JuQh6nE9zmEf1neIihxLOLg+x7u3Mt/GMvfw8ICH2+8LHjZgvxNdhmOPPdbiw70R6xgXD/DgxLEIelWrVg1VqlSxezJmX82aNePenYDzcYuJwMY5jLtJOE844QRzDco1aKPjfO7j6QTEibDTYRwBj+2kBdt8iuJWjB4Pro1rTndFynYm0s0FVVyWch22cz8EXJ4D4SC9eBaEl7DRfog1MeEmvO+991448cQTTZQszUj0E6KUwKvOBzOTLP0Ic6VKlcL27dvjH3vo2LFjePXVV21ZZA8UVCgo8KfvPZ0yjQULFtg7Rvg7dOgQxo8fH9uTnlCQoiCHmwigEIh1on8vspm5c+eGU045xeJKb1P83Gd7nIUQQgghhBCiOHBRZdasWTbWFvWuSy65JIwcOVL1rgyjsO0DqWxXQPCh3QURi7lbnCEIsexzwGoM0e6rr74yoZC6vwtHiEiIfAhLXId8yzW5flS8YwLfF7UuA+acyzlck/3kf0Q14HzWOebwww83CzvawA444ABr99x3331DjRo1wn777RcX8tiGqIZFXhSu7e+Xzz2tc0pzPyaKpw/7iA/7XcxjG3O/DvvZB379xHvkhaedz7kX13QBkvtBYhijuNUmc8LN/VlGQOS6fm22065IeLl+QcKZbUj0E6KUkSmiHx99XD+0aNHC1v3jzyfrjDPOsJ4bIrvgGfOnTKGIwlMmsnLlylCrVi2LC64+x4wZE++plI7gghThizDWr18/fPDBB7ad9yzbC0f0AqP3F9SpU8fGYCzNBUIhhBBCCCGESCY0ylPPOvXUU62OieiHZxmRWRS2fSCV7QoIdox9R9vL8uXLTUTC2guBD0ENkQ9hC4GMzs60NblYRrhod+Jcb3vycHqYmbOfuW8H9jFxHa6HgIfwhHhHu8rRRx9t2/bee2/rYM19mXPOQQcdZNf06wDh5tpciyk3/P7gy5yb2N7EPr92XnAc57swCqQFk29zoS2R/N6jMLgAyPUT78F9Pe4QfT5+LOH35+x4mpc2JPoJUcpARKNXC6ST6MefMH8m/jFmvUmTJuHjjz+2jzY+mW+88Ubbxx+l/7lHe4eIzIVnjLXVnDlz7M8aUdd9/WcahJ+8jKCEqEZhI10LGZdddpm5yiWMuFq57rrrbHti4Spb8UIibi/Wr19fauIthBBCCCGEEMWF17Patm0b3nnnHVsW2UEq2jto71u2bJkJWsxxD8n02WefmZDHHGGHdiSv00NU4vA8xzaWOY7jHda5Bm2KwL2wsGNOnOrWrWvH0EEY0Y5x7Rh/rly5cuY2kuv6/bgG9+DcnNono2FM5zaH4mq78mdSGIpybmnC0un/fiT6CVGKSFfRj0+RT/zJYI7Nnymm7Lj35I+dP1D28UetT1f2gdtW3GHyB/7AAw/Y2HiZQlR8ppcX7hzKly9vgzgXR6GpIPi7wxx/7QyejEj566+/2jydRcpkQvz5xtDBAHcZVCJUeBRCCCGEEEKI5EI9i4nx+xlmQWQWtMG5FZq7hYzi4lu0Pk19m3VvX2B927Zt1taHhyTGzmP+448/hoULF9p1f/jhB5tzTl5wLa7Jcd5OyDLWe8z9voSZsFarVs32kf/Yzth3iHq043AM634812bZBUKWge3sx21kYnuJxzXTyYR4ZEtaFwcS/YQoRfC6t2zZ0kQ/lrGmSif3ntGPd/fu3cPo0aPtT7VHjx7h2WefNTN5TPSBAV/xcc0fcOIfrsg8KNi9/fbboVOnTraOOD1lypSM/DOvXbu29UZDQEP0Y55uUICdPXu2WVPyjh1zzDEm/kFpeKf41lDA55tCL0KEWlyAqPAohBBCCCGEEMnF65eMUfbzzz/bsvgr0TaxglDY8/ILbh65B88RkQ3hjjnQ4XnDhg3WmXbjxo22D3ebeNLxfVjmUf92cZA2iChspx3COyED9wPWWfZ1IK5Y5XEtrPAYE+/ggw8OJ510klnjYYmHe0220W7IcdyD+0Y7bHu6+dzDB3mlp4clp2Oi4XTyupb4K/48RNGQ6CdEKYLXPZ1FP/8TRjChp40XBhiDEJP6448/3nx0w9KlS+0P3f+U9YeQ2fAcGTz5uOOOs7zJOHMzZ86MF7jSHcLsebBx48Y2bgFxYk6cEnvClTSEbd68eTbGJwVrerwxhiZxKC2iHxUQviHr1q2Lx1sIIYQQQgghRHJxkYd6GHVRtd/kTGHr4tH2iFRAB+EtW7ZYh9nvvvsuzJo1y8KKsIegx/2jeDzcKo5O3l7nTjzW4Tj2cxzDb3Au7YLMTz75ZGtTYfthhx0WKleuHL9HfuPuxzt+LybaBhAx/VoIg+x3YZN14PzoNXK6b07xy0/4xH/wNFS6FQ2JfkKUIvjTuvTSS8OLL75oH1F8qbdp0yZtPqQUBAhXq1at4oWIiy66yMILPXv2DM8//7wVEh9//PFwzTXX2HbCz3n6Q8hc6Dm2Zs0aK9TxLPfZZ5/wyy+/xPZmBvRow2KsXbt2YcKECbZt6tSpNmi5FxbTiV69epkFLVx99dVh6NChtsz7ldjzLtvw78U555wT3nrrLVvGzYy7+4gW5IUQQgghhBBCFJ79998/bNq0yYQb6s1iV2gLI22oi0JifZT91NFzq6cXtA7PfTiH6fvvvzdrvE8//dSWscREzGOdcOCoQEhmAACe0klEQVSGk+OAda8vU4f2ZSaEMd9PXKhzcx5zJveAdPjhh5uQV7NmTevYzzLekmgzOeKII8xSj23Eh+slC28DiJK4LadjciK/xwlRkkj0E6IUwet++eWXW0M/yzR2t2/fPrY3PcCXd4MGDWyZgsKCBQts3DH8byOgIKhgin/WWWfFB4BGMKKAoD/dzCVaWKSAx7PEPUQmiU+8U8RjyJAh4cYbb7RtgwcPDtdff70tpxMUvnGhO3bsWEvrhx9+OPTp08eW2ZdJ6V5QeE4+DRw4MNx+++0W78ceeyxce+219gyj35LoshBCCCGEEEKIgkHn3iVLllgdjGEVcLko/kq0Lu5CW251c9LSQXCj/cxhvHqGxMEqj3H0sNRDvFuxYoWJegxDsn37drsHbW20w3A9rwszsRzF68XMaZOLWu8RRqzvaJdjfuKJJ5qLTUS8vfbay1xxIvb5+XmJeVwvmWKfEKUViX5ClDL69etnogR/tK+99lo477zzYntKHgoqWNrgwpMCBC4esfjjM8WEX3AG24XmzZuHSZMmxQtA7PdCiMhMKHBSIKRQCoh+FBrJC+k4Ll4U8i4FXwqouM1FlCY/4k538uTJsaPSCwrS3gNv0aJFoUaNGnHf9tmOVyQeeeSR0L9/f3tWgwYNsu9j4rdE3xUhhBBCCCGEKDwdOnSwMfxh8eLFNnxLSZBu7UaEh8mXad/KSfRiWxQEvR9//DF8/PHHJuJNmzbNzvn888/Nao82FM7xawPx9rizj7YABL/oMd7+wn7aBtytJUOWVK1a1ZaZM6RJhQoVbCpXrlw49thjbV9OYc8vnhaFPT8/cH3V70VpQaKfEKWMW265JTz00EP2R/rKK6+E888/P7an5HErRKBX0Kuvvmrinv8xU+CgEOIFAQoobMfSL91FIbF7KCAyxuTs2bNtnQIsQlSmFcwogJN/gcLxypUrbTmdQFj1MFJQx5Wqi5a8V9FegtkIeYqJvHb66afbNr6FfHOKUlERQgghhBBCCLErXbt2DePGjbOOvmPGjAndunWL7Sle0rVtweugzBHuPvnkE0srLPMYBoU5naJxkcqc46JEBTpIjCPxjsLxXJ/r7LvvvuHoo48O1apVCwcffLC5Ym3WrFmoVKmSjZ/Hud7ZPlpXjqYl14paJBYknRPDBpnU/iNEuqJWLZG18MfBH4//8bHu24oLv2f0z9fJbXtxQTr4HylhKUkYNBf3gs8880y8Z9MVV1xhAlA0nBRMTjrppHhhCLEPEAJF5oPYxFh+wHPfvHmzLbM9k0BE8wIvBfac8G9DSYE7FXrj8W7h1sPH8+Pd4j0DD19uYy74t7Qg31SvnPDu+jI9CR3fJoQQQgghhBCi5NtrkgHuPb2u9/XXX9u8OMktDaN1Wm9firK7+qnX65mix7Icbe/DvSbedfAC9I9//MM64zO+fPXq1cMxxxxjQ5xQF2eO+Na2bVuzjrzrrrusY+q6dess3ai7J4aJOr3Hw9shsMbjurSptWjRwobyGDFiRJg/f3746KOPzP0nHYEJNx2A582bF55//vnw4IMPhr59+9oQO7jmJExRMc8FP/B2OogeA9F9u4NjC3K8ECJ/yNJPZC38wXrjdUnB64VgQTgoQGBV4stly5a1P+vTTjvN5tE/TxrBU2Vp45Z+hI2eVh07drTlkvqTJa6kC1Z+X375pRVyCA9j+yHwJYI7UsYi5Ji5c+eaWwjSVIWEzIbnydSpU6cwfvx4KzSOHDky9OjRI3ZEZnHqqadagZrvEL7z6S0XpSTfOeD+FPYbNWoUryAwiPbTTz9tLnbZxjcpMYzRb1VB4pB4Pa5DL0XG1OMdpqdn4ncwlXh+k6WfEEIIIYQQQqQWOnjT5kMdrH379tamU5xwX+p51EejdT2vF7ItWg+kY7p3Lt9d2+IXX3xhLjbpLEsbAB6LqP+uX78+PqcN0IUxr39H4fpsJwxAOAmX4+t0MGZIFI6lvYxrMmcMvUMPPdTa15gzcXx+6uvR++RGfq5TVHIKR3HcV4hsRa1aImvxP2X+OHwqbrgngxQ3bdrULGsY54upTZs25rYSk3n+xCjw8OfuvrN9nK1sh7giPNx8883hq6++sm2kwYUXXhgX/OjJ5FBQQiQF0gdhkLRSQSDz4RlSwEZ4AvLGt99+a8uZCKK+i9GI646/1yWdZ7k/Ytull15qy1QWGEsTEXC//fYLjz76qFVuEiskPCPiwLvoceBZ7e57xbX8eIS2Cy64IBx44IFh8ODBtuxjEAAVLCGEEEIIIYQQ2UGDBg2szkidsCQ8+Xid1+uc4OHxOi5z6raA4IcFHOMPLliwwIaheeCBB6yTMm1StFvQFsU1q1SpYh1nad+79dZbw9ixY60NYPny5WbhRxsX16ZuzcRy4kR9mSFrcKeJpR+d3bnX/fffb+2FXIcx/OhQjLtPrP5ef/318Oabb4Y777wztGvXLtSuXdumgw46yOJB3BLr81GIs8dXCJF9yNJPZC2IRa+99lqYMmWK/dnRAD9gwAAbYwvYlkowlUe8euedd+xPnFfNXze/N3P/MyZ8EydONDEQODYVYUw3Sz9EB9wIUKiisR9rG3qBse69nbD+I3w80xkzZpibAwpXFGwo6Oyu55XIHJ566qlw5ZVX2jIFXARhnj3vUCbBe08hnTwd7clYku9aFL47nqbTp08PV199tQ34zbtGJcwL/4T15JNPtopHzZo1rSKCmxB6FyLMU9Hx9y+3uM2cOdMqOhMmTAjDhg2LHxOtYPCdbtmyZWwt9RBWJln6CSGEEEIIIURqYdgLxuun7kineNp1ihs6FeMm87vvvgu//vprWLp0qdX9mHsdGLeXtEF5nZB2J9apO+YEdVsm9nv9lnV310l7AHOEOAwBEOW4JmPoMdyGD7mR2E6ZON8dXhdPrMt6XT26PRrO/FKQYwtLTmlcHPcVIluR6CeyDixQ/vnPf5pgwB+3u4tkmcZ3hMBUC0RDhgwJN9xwg/2Zu3AF9P6hhxMN51ipES4a3P2PjOMRC/C5DWznGP6oi+rukzDwJ49PcEQ/GuFfeukls7IpDoiHx9PD8txzz4VevXrZPt9P4Q/XiKw7fh7PlrRjnbQC0oZCi6+LzObdd981//U8f+a8D5nI1q1bw9577215HcFs7dq1luc9X3ueLiz+vjheiOe9Lsy3gnDy7uHrn56DDvdg4vp8y7zSwNzjw5yejlg3AtfCgpdzEO+Zs83fe9aB69KDsXfv3qFx48ZWCYLCxqEgEG4miX5CCCGEEEIIkTde/6SuRF3QXV/mBPu9Hc7rVdQFvW5Yrlw5qy8nklM9jPNo6/G6ZLQOjFtN7oWguHHjRvNcQ0dxOrNiEQeIeAwr4fVQvxZhod7pYWRfItG6cGK4fBvnM/4d1z344IND3bp1wyGHHGIdZjmXZQS/xLALIUSqkegnsgoaq2k8xqUmf8L8mfPH6n/kTz75ZOjZs2f8zzuZcA+ued1114UnnnjClr3h+tprr7UBcTmGbYSL8DExYK43OjtYvWDx54UICjLJagQfOnSohZHwIQDiCiDqrzzVeOEI8RWrQ8bxo4BEHEk3xnBDPIg+H18mLTh/zz33tOMRH/CbLsEve4jmddxmlEQPwGTAO44QhthHPqVCkWy4B5UaF0axLCzse+zfGcK6ZMmS8OKLL4b33nsvfPrpp/bOOf4uMmciDDnBO+7vup9P5Y7w4laUb9DZZ59tFoPAO+zHc81Uv9PEl0minxBCCCGEEEIUDG+bidbb2BZtx3G8UydCIOcw37Jli53rdX86eEfHwEPEY3w82ns4H2GPc3/44Qc7l2XuxbXo4M+9wTuoss/rlo7vo87M3MPPOm1iHMs5HFe5cmXrcO5zLPM456ijjrJlzsOtZ8WKFeP3Yls0PbgmFFdbmxBCRJHoJzIeL1hQSKAHzY4dO+zP+IwzzjBBjWX+iO+++25zYQds4488meDOE3eTNCJTeADGx0LYatWqVbwgkIj3LsJlJWIfUPBhjKuoxRvnJwOs63CpCbhOvPfee61gkupGbuLhhSriTNogLhAv4ourQJ5XTkTjHj2XZ4h/dVwkiMyG/OET+YE5g0/jq57lZOX/4gTL4g8++MCELtzQYsFbvnz52N7kgDtUvmukDz0bcQ9SEEjbRKicULHhfeVbyTvGu8b1+U4wngAVKwYop4MFc9ajEB7Ox7KZOb0fu3XrZu9vvXr14mKfV6w43p8zxxfH94hJop8QQgghhBBC5A/qStThvD0tsa7OPtY/++wzs7Kj/sf8559/tk7nLsJRL2aZ+iZ1Sb8G1wfWEfTYD3iFYZlzOMbFNdapuxEe7sUy+zjfzwW873AMgh3tDdRTObZ69epWh+Ze3KNChQp2PNeNCniJ5KfO6HFR3VIIURJI9BMZjxcy7rvvPpsoMJx55pk24O7mzZvDPvvsE2688cZw0003xc5IDVj10CgOFA4YBwsXn7gopGePFwooeHgBCfwVJNyIhgh/7GcQ4MmTJye9gOCWftz3jjvuMNGvOKHwhMDJ+IXEjbShsX3EiBHxHlbMo58mni/rPmEN+Morr9j2UaNG2diJKkhlPjxb3hMK3LwDvEf07Et8ZzKFRYsWWWWCfNqkSROznKOCkZ8KQn6gIkWlxStDK1eujI8FUBi8wkR4oxBevk/MEQOj+DvJuH0eJyw0HcLFc/R9fg+ux9wrUlTQgPQpDjzcEv2EEEIIIYQQIm98qBXqbYyNR10UrzDUqRgnj+FrqLtjkcfc23B8Tn2eehb1wSjUuzjGt7POcQ7nuXjn9VSs7/D+RNsRXmTwKFOrVi3zGEVncqYoXNvrnR4mzuXafr+c6n8cy5TTPtUZhRDpjkQ/kbG4EMCfLT2H6LnDnzmN7FimAOuMr9e3b19bTwUIiwh8FHq8sELDO2NaET4vXOSFFzyY07uIAhWMHTs2dO7c2ZaTxbJly+KWcV26dDHxzO+fSnhONPT3798/DBs2zO5J+jCI8/jx462gBl5wyi1MXOeFF14Il112mR3L+IT9+vWL7RWZDs/9yCOPNB/8PGsqFdFCeqZAPMAFf9yAUCkC3gPyfkHw6/k7wXeHMQP4VrDt4osvNuGcdMpUkbQ48e8LQh9WmEAni7POOsuelypwQgghhBBCiOLCOz9H6yKJdUDH6zK57Y/ixySS2znUvZcvXx6mT59uywzHgsiHW028auGJhzoo9U72gy8Tbpap73Jfr8Ozj/sxUU91wc3jWqlSJWtDI/60C9ERlE7wHM/YeEw+fnxBicYztzgLIUQ2ItFPZDwUILBWe+CBB+IN3p6thw8fbmP4paIBnPtyvxNPPDGsWLEitjWYAPj+++9bQYX7FqRgQSEKoa9Xr1527ZYtW4Zx48b9xbqmsFCoQvRjcGE477zzTPTDUqg4CkCMz4bbVZ4PccLd4ZtvvhkXKXbX0E74OXfSpEnmOhG6d+8enn/+eVsWmUu0coPoR2WCdXfRkYmQV7Hww20tcfjwww9Dw4YNbXtR3zdEvpdeesmuy/uLm01VYvIP+Y3vDp0qJkyYYN9bvitYiQshhBBCCCFESeDimdftqDsiouXWZpNb3ZK6DnUcr0tz3d9++y1899131u40Z84cq3Nv2LDB5mxD3KOexL04Pgr3YcLCjvBwnB/DPVjnfhzD8gEHHGB1+UMOOcQ6wO6///52r1mzZtk5TzzxhLXl4OaT8OcWj0Q4Lj8kXi8/1xZCiGxCop/ISPwPnB5CFGb23ntvK3B4dqZ3EEIgY12xLRku4/yeDvdF8FuzZo0JVtz/tttuC9dff72NV5V4fH5h0GKsFjmXcFP4Ai+sFRbCRyEM1wu4PvDwIwJSKCvq9XcH6YEP94cfftjcPVDAw2LPn5mnVeJ6FMIJFFb3228/O4axwpYuXWrbReYSzYMIuu+88449XyoFp5xyim3PJMjjvG+4jzz77LPtfWMMzX/84x+xIwoOacQ3D5H7mmuuib8PCOe4zBUFg7T0DhX8Z/zyyy/WuxRy+v4IIYQQQgghRCqIinTuSpP6CsIZ2/EIBdQzEd3Ytm3bNuu4SB2Gcde3bNliAh7ztWvXWn2R6zL3+qkLdsA9uBftTtyHOhDtMdSNGJc+CuGinQvRD8s8xsHjerTH1KhRw8JXpUoV68DrIiVtUC5WEo5LL73UOq4CHrlor+O67E9sjypse1oqSccwCSFEbkj0ExkJ2ZaCCoUMCguM2ccyBRUKLIztl+wx/BL/4K+66qrw5JNP2jYKMoh999xzT1Ks8rgehR4KRrgEZNyuZEAcSCMKZKQfhbMlS5ZYIbE4Ci/c87HHHrP7YsWYE/5Jyik8pIdbbZI+pBOuHhAuRWYTfb8QzwcOHGj5JdXueVOFv2tU1CpWrGhxw2XJxx9/bNtcXCoIpAd5vU2bNuHHH3+0bVgyY9HM+8A3UOQfLJ0RTEm7c845x6yqhRBCCCGEEKKkoM6HS028xHzxxRc2wSeffGIT7SEbN26041woYzk3/Jic4DzqkIhz1FcPO+wwc6N56KGH2jLtNnTA3XfffU3M4zhvj8kJ6sBer2fi+qz7PV5++eXQo0cP29exY0cbT93xMOQV3pKGuADhFEKIdEein8hYXOCjQX3r1q22jT/fBx980CxqkoUXWpjTY4lCzsyZM3dxA3fdddeF+++/38Q0D1dRwAXmBx98YMtY9VAwKirRQiHxYaJ3FpaK6YKndX4gLhx7zDHHpFUcROGIvjeMH8DYahT877jjDrPazUTIzwjVWNQy5idx/Pnnn81KtTDwDuM+2K1zW7dubeNhIiAW5N0pjfj3j+dBZ4FOnTpZ2gH5DvGPbzrf92R8w4UQQgghhBDpBfXLaGdxiHYsBupVTN52Qj3C20+icAywnWVvKwKvmzHnfCzypk6dalZ1n3/+uY2PN3fuXAsD90fYo2Mo4QO/N+f7fRLx8ETDRdy4nsM67jO5D9Z7RxxxRNwaj3UEPdxv4oozWXjcE5eBoWy6detm2/Hu89Zbb8WfSeKxQgghioZEP5HRjBw50ixdKBSRlfELjouAVOCFEQpsuDVwKCgxVh0QBiYvpBUG7nPllVda3CggImAyXmFRrpkIhT6uDRROgXBnUiGLAisCCgV2LxyLzIX8SB7kHWN8gdNOO83EmVatWlllIFMgDtE57xSWxwiX5FPG+zz99NNtX0EgfXDp+dRTT9m1EQ4RrRo3bpzUb0O2EP2e+bcbsDTGzTAubzzd6GWKm5m8eq0KIYQQQggh0p9oPSA/cDyTu6TcXd2KYxHvqNfR+Zx6GgIenli+//57s8KjUyYemzws3l7hdZJo+wXbWOcc2jY4xyEs1FG4hoeN45kj3NEBnnYR5vXr17frNGjQwMLEds7jeOaJacIxXMfnycLjnLgMeJnycOL5ibHViR/rnjZCCCGSg0Q/kbFQMMDSBasgwNLOLfySZamRWEihQIQg98wzz9g6+yjc0QDPPSmIsS16TkHhHv369QuPPvqorRd1HLAoHh/GDKSHGQUrepQlxjMTwK0n4x+SDyh0q8E+s/EeluT/RYsWhYYNG5qr3ObNm9v4fplC4l8q79XmzZutowDLuPfEOrWg+RWxD5fCXINpzJgxoXPnzrG9Ijc8X5GnsAInL/GMvGLLOv8jQgghhBBClDYysR1gd0TrY4l1syjUB6LtRhyLaIcwRRsP430j3FE/ZY7AR72O7bRBcD7nRO+RmJa+j3sgKnItiIpsbKO+gitNjsECD2s8JoZ5YTvtNniP4XocwzwZ7V3cO5mCHxA2T4foMvWyVatWhTp16tg96Qg7bdo02yeEECL5SPQTGQsFFO8NxNwt1pIl+EG0kII4hsVR165dbTvgehCrkWT0SoqGm7ECaeCHDh06mOu5ZFKrVi0rcFHYwi88BcpM44ILLjCf8EBcEAFF5uPvnFeiGBh8+fLlsb2ZBeFnIi47duywsRmotBUG8re7scUyTePP7Z4XXnjBvhGzZ8+2irlXkF1cZh9uPiGZ/xtCCCGEEEJkAl73ykZcZFq5cqXVBfDOxDYEPObUDegI7fUA2nuAuhtpQtpQZ8ACjznn5ATn+jWYA9fA+g7XmnQQP/DAA22MPDqCIt5hhVe3bl1rR+K6zDnHcTEur+fDPseXiad3Ls3pXA8n9/TjWKbz+u4oaj4hTtSJK1SoYOukDd5XCCfhKsyY90IIIXJHop/IWDZs2GA9nygM1a5dO3z00Ud5FooKir8aPuc++++/v/XuooBIYW3evHlmjZQsuBeFIcbsqlevnm1jbLPJkyfbcjLg+k2aNAkLFy60+2EtV7ly5aSlW3Fx+eWXh+eee84KqVjrtG3bNrZHZAPkRyo/vONr166NbS2d8A1gjE/eXdKDymsyOhqkGsLLc/Rvy6ZNm0KlSpXiYfcesvmtaDr+nQTO9+stXbo0zJo1K0yaNMmEPiqP0XvRa5Y540d4h4EomfYNFEIIIYQQoiBQFqbMSxkaKFOz7GJQdBvHRqFcTbkdEIwok3MtPx58WxS2OdF90e2O749eh3Bwj3Xr1lk7DO0+zL0T8/z5822+c+dOO4Zwcr6f56Kdx4d90XtzPPuIE9dB/PP4+D7OZ5k5XlvYdvDBB4dDDz3U6jFnnHGGiVktWrSwcOfURpQY38R0ynZIO/IPaRN9RsByaUsPIYRINRL9RMbCOHe33367LT/++OM2lp8XzpIFr4cXbHEfythc3IMCCa4IcElA4SVZ9+V+XA8Llcsuu8y23XTTTeGhhx6y5WRAwerhhx+Ou0JlMOVMdBPIsycPUIjH2vKWW26J7RHZQLTQT8XLK6GlBb4DwLft+uuvt0oolVu+DRdddJHtywT43lAB32effWx5zz33tDkdNeg4QYcD5gX9hq5YscJEPL7D3333nY2jwTU83aKQd7jfOeecY2NEHn/88btUulXBFEIIIYQQ2U603cKXfe7tEIgxBcHPd9GQ61C2pg2FZa7n1+SYr7/+2kQf5rjSxNIO8IjC/i+++MK2U/dB1HOiZXeH+9AW4MOVAPdyIYlrEA6fe9w51sPGsWw/6qijzPLMO5Uj7DF2OmFl7LwDDjjA7kenbzoPDho0yDozcp3EeqtbrJE2Ufy46PGlDdKLNOVZA/XbguY5IYQQ+UOin8hYcJeAX3UKZT/99FPYd999Y3uSCwVBCmYUAmm8picXghwuOCnIsS9ZBTdeR65JDzEsewDXhrg4TAZeGEf0u/HGG60AjOjXpk2bjBNVpkyZEs4++2xLe6z+hg8fHtsjsgEqWljz8j6U1r+pzz77zCxY3dKxV69eYcSIEbacKfD9HD9+fOjSpYt9O73CzXP1ijbfIa+c5xfO90q+w7eAa5NfWG7atGno1q1b6NmzZ+yIP8kpPyXrGy6EEEIIIUo30bJmTmVML6v6vDihDA3RMjPbWAe2RdejcCyiHAIdMFY5ZXHqbLQzMM7+V199Zedz3O+//27LlP+Ze7q4OMg92AfsdzGIZU+fRBLTy6/DduoUhIE6BsOZcB3qGA0aNLBlPCkddNBB1hkQKz2Oo32HTok5wTmeDi4e+v255ocffmj7uSdxkni1e3gedNwk35B2CLvHHnvsLmkthBAiOUj0ExkLBS4mCm+4qkwFFEoogNx6660mlAHiH4JTo0aNbD2Z8DpyPwqjDBANrCcWbguDF1S5x4MPPmiWchRMx4wZk5GWfrglpYAIWO5k6rhvImd4plQCyLNYc5122mmxPaUD3vv69euHxYsX2/rJJ5+csu9cKuA7w+SVN6wT6dFL5dj38V1j7uJfQeF88gfftr333tsq8Oeee66N90llMqfvplcouW+UZHxjhRBCCCGEiJZ1IbGcGS0HF2cZlHIwY4Qj1mFhtXr1ahPZEO1chPnxxx/Dtm3brM3DxxN3XKBzOJ5rRsvyvs3j59ui+HafO9HrsMx1ypYta+X8MmXKmPtMPIQQ1pNOOsnCWKdOHRsznTpBbnj5Pzfy2k942Ed8EAgJBx0PSQssErEABMaqY5/YPdTrGYqB509e5PnxvIUQQiQXiX5ZBo+zJAqQxYUXIHGpQCMyy+eff34YPXp0ngW9wkJhjp5bFDC5FxMuJXG5mVfBsTD4M6NgSVxYZuw9xqhKJlx/yJAhFgfugevQPn36pCT9Ugm9CHG1wXNA/EMg4nnRy444quCY2WDt+v7779vy9OnTQ7NmzWw5G+HdZyLfUgGnt+ljjz0Wd+tJvsadJUJotoArn2+++SYsWbLELAF3B+8z7zkVfyr6hx9+uA2Kz7eZ/wBPQ+C7VlSScQ0hhBBCCFH68HIpE2XKxHYD386csn9iPdyFJq/bgp/jVmXAMYhNWN4xrh3nUW9ClML1vZ/Pfu5BGdrv6/O88HqIw/1oj6Fc7uEDrhW9LhNhcfbff39bp1Oej4FXpUoVi0vDhg1NeMStJuIe5x522GF2XFHhWsmEcF5yySXWFsW16WhIO9TuREXxH8gjrVu3DpMnT7b1cePGhY4dO9qyEEKI5CLRL8vwglY2Qxyx7qOxGJYuXWo9vZKN99a69tprw7Bhw2wbBdGNGzfaslPUNI+eT0Fy1KhR4corr7TCeu/evU2goxCZjOfK9Sn4Dx06NFx33XV2b0RMLBkzDQrXuAAhXahwsF4a8n9poTSJfo5XGD/99NNw3HHHWb5mnfeVb0I2QaMDvWUZCyPamJAbNDrw/eI8GgoQRjmP7d744e9+fr4BfCvyQt8RIYQQQghRFLy86eVKyvpRfDvHUeb3umy0Trtu3TobR45y88yZM+MdXakH4/mGYxHUmEfPi14rCoIdx9PWgODo4lxOohVlbjwQYVHHsCp0uGM8bsrdlMtxpc/5bKtataodz1jb1GOwEmQ/5XTuw/04luELcPvJ0CyIgMC1qBNwvpfr09FqjvBPmDDBRCqWa9asGX8eLoSKvCE/MlTOc889Z+n1/PPPm3iqtBNCiOQj0U9kJBQKKXiSfb3w7AXcZMK1aVT2e8yYMcMKr+D3K+p9/RX06+Af/qOPPrJ74mqDQjQk8z64Kh0wYIAVrBH9brjhhowsaFWvXj188sknFnYqPQzATTyLmlai5Cmtoh8V5Hbt2tk4GORr3FXSm5TvUGmHRgAaDHJ7v5NZnNE3RAghhBBCJAPK+JQtE8uXeL5AREIweuedd0wMY3nBggVWD+C8nDrHuXAHXJNjmdjm7RascxxgOUc5Ga8ZdJyjzoxoSF2a80844QQTsBJBjKMO4uHmGm6Z6J3vfHs0btF1XyZcnEv7A9s8bNG08Tj5vnQD4ZWwkV6IsYiTL774YkYOlVJS8LzxaOPtT4xXjwiYmIeEEEIUHYl+ImOgEEjBAEu7atWqhS1btljj+BtvvGHbkw0FkqlTp4azzz7bCiD77LNPfJy9ZOOFHArPFB6JDwXi7du32zwZBSB/1bkWvQQRUbhXhw4dwquvvmr7MgmeT8+ePa2XGIVvXESceeaZf0krFSAzE0Q/xD5A/Cstoh+Vb8R+QPDH6i9b82/0m7Q73Eo5J7yxIJnomyGEEEIIIaIkNp3lt7xIOwZlWaya3n77bWtj8I7F1GPZx7X8+uzjHObsYzvtAxwPWMEdcsghJkLRIY5x7thPfYljGQscd5kVK1a044Htfo/oPC+iwh5wf+7j4qLv8+1O4nlRuC/4vaPhSLxOOsLzoN2BNhTCypyhCvKqq4j/wDMeO3asWfcBQ/YgnAohhEg+sqHOMrwQxZ9ptkGBmN5h9AZC8KNwiGuFVBYMceuJ2wnu0b9//9jW5ODPyisB8NJLL9m9PG7JEvyi+H0hupyJ0GuR9CEeWAGxTHoy4Z41N3YX72x8fzIN8r6TrRUoXFUC+ZE8i8tdF/xwJTxy5Mh4ns5GCvJt210e4FrJnIQQQgghROklp/qilxMRtXxOnZOyutcfKd+vXr06DB48OLRt29bcWFKvYVzqa665JkybNs2OA85zwc/Ln7R5UA+gMysehrp37x6eeeaZ8Morr4S1a9fa9ekYjFtJLAXZxr4xY8ZYh9hevXqZJRrCIOHzsHl8/D4+z4tofQy83YUwRvcltscg+OVV3+beieGBVLbrFBbC6ZM/YwRV0oBtv/76q22T4Ld7SC+eMeM5Ot4OJoQQIvlI9MsyClKIy0QoQGL144WuNm3a2HIq2LZtW3j33XetIE/hJNmin0OBkR56wNhdXmDs2rWrPcdsbfAvKqQNE8+fCbeIwLMiTX0cgGj+8GXOo8LEOpUh8EI8PSb79u1r4rITvYYoHhD4HZ5nNuI9YMmPffr0iY8dCsOHDw+nnHKK5UvP50IIIYQQQojUQ/kbvK7oUDf3Mjxz6pwrV64MTz/9tHkqwW3m8ccfH/r16xcmTpwYNm3aZMciklGu93PpWNy8efNw6aWXWr1z0qRJVt6nDsS4eFiTTZkyxbza4P6wU6dO5p6TtgLCxpxr7W6iHkX9uLgFNU+/3Njd/nSBcPpEGpLuPIcKFSrY88KDEu0HYveQXrw/0Xqtd3gVQgiRfCT6ZRH0ksmtwJEtDcYUlBlXDxjXjwnf96mIX3Scu9NPPz3eSy4VIED17t07LFu2zCoWDH6NoAmpLBCnKj7JYHfPlHShouSFcNwgRiFuTDzDRGHvt99+s3eFvIRrCSpouD+hUsSc3pSXX355eOKJJ+z4VD4DkTNekWKiJ2s24r1vqdQj+JHPiO/VV18dzj///Pi6z8V/8PTw9BFCCCGEECIvClOeRjiDrVu3xsuddEJmHLfGjRtb/bF+/fpmxffee+/ZsRzj5VPm1Efr1q0bunXrZq49uQ4WYlj94dkDUY/6KFBf9Q6PXo9FCPR6bKZ3CM70cjvpz3OpV69evK0Icdefj8gb0glLVCD9vKNvYd5NIYQQeSPRL4vAjQQDCkOmF6ZyY/78+XGrOHzXA73kkhVfChte4MA3O9elYILlFwV+CibJKNB5hQFwS0nvQMYv4x4UJB9++OH4fbywL3LGn9d+++1naUa6kl6km6cdPcjuvPPOcOGFF1q+wWXKXnvtFc4666zw+uuvWwUNNyme5jwTevEdeOCBtq5CaPHToEGD2FIwYT/TySkP8b57owFwDA0GDG7ueTFbrRydwn67Oc+/o4W9hhBCCCGEELnhdXDKnFju0REYSz4EOtoKaJugPE/na6+HUielHkP5/p133rHt7J83b56NXXbqqafaNb2sD9HyLPVXn3Nf6qRurQfZXjdINxLrcKQ/HbZbtmxp6zwf2hNE/uB92bhxoy2T59evX2/LiekshBCi6Ej0ywJefvllcxdRu3btUKdOHSsQIm5E/ziz5U+U3nAUsgD/+JCsuFGo9wI3lkWMG8i1EYco4CcWxJMFIiaN/F988YX1dDrppJPMh3/0PhSOioqHH4444gibU9nAyigdSHyOrEfFTsLqE8IoE4OUA/m/fPnyFkesJYcMGWKVMQQ+0hcXKw8++GB49dVXw8cff2yFdbZzfb8vabznnnuaEEiPy82bN5u1FUTDIURR8Uo+YjNug3ElDPQSvuuuuywf+/vv+ZNtie9IaSf6TRNCCCGEEGJ3eHk6cSyxqAUd+1gfMGBAqFmzppXLn332WXPl6GVyL6szb926tXmKWbJkiXXmnTt3ro2zx5h+4EIdcy+/Ruv6TmJZP69ji4O8ytqlpRyeUzxpNzjvvPPseZJXvvrqqxJ7RpmEp+Vhhx1mc94x2vZIQ6Vf5qG2CSHSH31ZMxA+rkwufn3wwQfxHmC+b+zYsdYLDReFy5cvj3+Q/U81UyEuzhlnnGFzLzx4HAtLVFjDf75fF7cdiYNYF5Vo4ZFn8tJLL8W3DRw4MF7pKGqccgMh06GA5SJESUL8o/ElDaLPhHD6RF5nWrx4cbjoootC5cqVw+OPPx4Xv2+99VYTVFasWBG/Jtdj2SfGX6Cw/uSTT4a3337b3gvGb3zrrbfCxRdfbO+PH5sM0VWUbshHDnmY3r433nijNQyQl/mGP/roo7u8m9FzeD+i3w0hhBBCCCFEwfBOn5S9HeqBbKe+iIcfOuFSr6RjLuPGUwanwyhleI5t1aqVdRLlHDySTJgwIfTs2dPOO+CAA2JXLTgq62cG5AOEK9oLeGbubUvkjLepgLc7IaYDaUlna5G+8Oy8rSyKvldCpD//9X8v8H9aFUVGwaPjQ4srwnHjxpl/eIQMeqGxnYk/UcC9RJ8+fUKtWrV2KeBmEsQXVxmLFi2ydQoHjL8WxdOkqGBF6INur127NlSpUiWpwg/h5I+Ta+Lfn8oE61QUELKw+EuV0OSvPGmHS0vWqeB4Xikp/NmRDi7q+TKFQ3pWfvLJJ+YmhYL1t99+G48LcFw0HlyL9Ro1aoTq1atb3mnYsKGJuA7X5XiEV3cb6/i1k5GfRMHBxS2iGCCG8f3KVDwveX5jvUmTJmHBggWWv9jO+JK4+2GZvBzN29maB4mj3i8hhBBCCFHceLkcwY4JbzF0xqNeSHsJ5VTvNHrMMceEZs2ahV69ell9PXq+KL0wrh/WnbTb0EZFW5vqNrnDO0P7E2J506ZN44I6aejvlUgt0fp3furiHAMcx5A5VatWtfX8nCuEKHlUSslg/CNLobRLly5mLUZvNCxIsFSiEOoFUdxL0MiMBWCmQgE8aumHaOV/QkXBr+Fz7sFA3TS8V6pUKVSrVi0lAhz3GzVqlFmjETfW//nPf9o8VYJflKj45QJnSYLAR0GQfP3GG2/YgOZY4tHLkjH48Jt/3XXX2diHUcEPl5ycQ6UMiz/cq9x9992WrlyPsS7xs48bxWicuZ+/H4mCH3BNFWREMvC8xDcFwRo3zIwBwrd7n332Ca+99prlTY4hT3rehmzOg3q/hBBCCCFEcUI5m2E8evfubfX8c845x6z2GAKCOjkgShx11FHhkksuCT///LN1Ah4+fLiJOg7lWI5jipbdi4uSuKfYlQsuuMDmtCvMmTPHlnNCz+rPNKCeW65cOWvb8fYXtidakIniIa986fv4ztGeNnr0aMvnDu1sQoj0R6JfBsOHmIkPMcIIy7gYYFworP2wHMH1oe/juB49eoRLL700doX/4B/1dGbnzp32R0M8fDw/lh2Pw+7iEt3v6QI+x7Unlnb8keGmg+VkpA/X80oB90IAYEBw/8Ok4nHKKadYYSiVf6Lcm2n//fe3sBAOhOKSxl2mEK5OnTqZIDpx4kTbR0GQMBNeTz9EX4TAW265xXpmYvH62WefmSXgHXfcYeMWclxuZKrFa2mBnpOO54NMhw4F7du3N0GavI64T2cNxo50od/fT18WQgghhBBCFB6vQwLla0SH5557Lqxfvz7e4Y56+nHHHWfeRaj/42GGNhXaHfx8jnW4DuV3ppIos6ueUPJg/enQBkEeoSOy4/lGz+o/+ZV3iGWsZx3ackRqibYvkicdX6YtDWhvxeKZzhC0z+FJjs4OdIDAa9aIESPsOAm1QmQGEv2yED7cfNRpNB86dKiN+cdH2ntmUMBF+OMYpuhHP52hwZwCAuE98cQTY1v/xOPA/twKVcT1xRdftIIGf2D08KNAn8igQYNsjih02223xd17FBUKgN6wT6WC8Ra3bdtm4cGnOc/K90crFKmC3oukFeFKh4IWaYzFYU4+3Xl2Z599tonWkyZNskIGx7GMwIf7zmhvMSZ6kYnMBVeXjr8XmQwumLt3725uMcif5OkXXnghNG/ePHbEruT2HRNCCCGEEELkn2gbgZfD6fhKnfvII48MV1xxhbUN0N6A5x2O5Rjqycwheg0hgPYU8hP56KOPPrJl8hVzJuWZnKENzNPN30PWRXLxNPW0jsI2JvKnG1a0a9cu7LXXXtbW+vbbb1ubJe2l7ONY2tdc1MawRAiR/kj0y0K8cIFYxceYscyefPJJcwHqjecIf5ho8yEHjk93/M8GvPANvm13ceA4hDYg3rjoSPzzw8f4b7/9ZulG+uHeM1m4xSVuQ3CzyuRhp5Doz8bdiqQahEbuz30pbJU0PD9cHdJLjryK5SN5lOdB4WL8+PHmeoWB013g4/mRXpzrlTJPU58LkQ7Q0YJec/7Offjhh6Ft27a7/W4JIYQQQgghkgNlb+qPeBKh/vjpp59auwB1derEzDmGxm7qmkwqr4ucwMsW7UW0QdAhmfzERH5Rnskd0sbHsie9fJx7kVzcwCGntGUb3zva184991zLy4xtyjk8l2j7IG0XbPv+++/D77//blaBDLEjhEh/JPplKXzE+TD7B57CK+4ScSNHwZWPOmOmZdKfK38wTtmyZW3uwk5+4vH888/bHxTx5zz8rlPIANKKbe+//76tIwpiWebLnFMUuLY/E8aXozch7koBCz/+NNkHLmilGhd8+WNPB/N80ogJIYQxKJ9++ulw4YUXWkGatPOKGHhacTzp5cJltGKWSXlb/BXPnzBz5szYUuZChwI6EpAv6UXMGH7k2ahvfCGEEEIIIURqoO4I1CvPOOMMW/Z6ZbQ+Dl5uFyI3yB8+JAXLb7311i5iifgTb+dxsBjzNi9vwxHJhzayxLYGOjwg9HXo0MHSHaOId9991/bxTGiDOeuss8LDDz9sbaec/+CDD9o+8riLfkKIzEBf1wyGj25+Jj+WD/VTTz1lf7h8qCnU4u7Sj4Hon3G6gT9pD+tpp51m893hVnP0vGJ8Pu+lAozd56IfcO1FixbF1v4cU4zzOaeoeLo+88wz4eKLLzbBj4rF1VdfbeIrlERhhzxBheabb76JbfkT0sgLZz6lGn+2Od2LfdH08eVo3hXZBe9d69atbZn3Zfbs2fH3OROFsldffTXUqFHDrP1wR+v5nPdPCCGEEEIIkVq87uh1S8rj0Tooy15GZ+7LQuQEglWvXr1ia38O5wDRNibx5/vm7xnQFkm9GEirhQsX2rIoGqRltOMC0Nbg+RHvb7SpYoCA+06+b9HjXeibPHly6Nu3r53LfkRab4fp1q2bzYUQmYFEv1JAtODKB5vBVynkMiECRj/00T/jdIM/GsJHuPPbuwRRiz85BqIF4sqfl/dUwc0p6eIiEm42vbcRA9V6g7z/yRUG7ulpfeWVV1p4uDfu/rDyK6nKRIUKFUw8IW5bt27dJR94ehBOn4qD4ryXSG94L3hPHayTWWc7giDzknp3CgOWw1RocKtLHifs/p4JIYQQQgghigevc0brnrmtC5Eb1OWqVq0azyc///yzzVXHyxusydyNLvV76vmi6LgVnrfrrV+/PixevNjaPBmnD4MD2iBcBIT27duHVatWmZEEAnaiwQN5edq0abbMM8NwQZ2Whcgc9G9UCkhsGMdlItsQt5YsWRLWrl0b25PerFixwv7AouJUfsB1Je4BiS/nDhkyJD4g7e23375LYd7FLyZEP99XFHGBP1WE1muuuSa2JYQePXqEwYMHm+BWUn+aWFF5gRST/kmTJtkyFDSNhUg25MFGjRrZO0g+dRefvLtFeR9LCjpcUFDme8B7r8qgEEIIIYQQ6UW0bUCI3XHwwQdbnqF+umbNmthWkRvU8RGWDjroIJvTCZ32uujQHqJw0KkfS74vvvjCOhvffffdYcyYMeGmm26ytlRvA6YdAg9krOONiE7JnOuGEYltLVOnTrXte+21lw29wz2EEOkP77JaHUsJ/LnywJnoSYOVmcMfLI3QiR/3dIM48CcF/DHlB+LUrl07O4/lxx9/PHTv3t3+6Ljeb7/9Zj6qPe5Y+nmvo2iBv7C9j0hXrPsQ/Lgf973kkkvMj3bU4pDjihvu66InYWNyCGc0/kIUN7yzderUib+rFFwR5f1dJn9mWh4lLoQ/asEohBBCCCGEECLzOOCAA6xzJ3W8jRs3xraK3KA+TNvagQceaO2Q1Ou//vrrv1iYicLBUCIIegh+uOl88803zYqvbt261nYyfPhwswakTRRId/dE5u2B0TYWnhGdrmHLli2W14UQ6Y9rHBL9shz/YPPnysecOR9ueiHRq6ZatWqWGVx8SmfWrVsXb+ynJ8ruIL4IBW7lx3mYrPNHhZUd12L7bbfdZlZu27Ztsz860qcgf2Zch3MSYSBnzN8R+Hx/165dbZ1zokJbSYkAxJ2eQBs2bDBxVIh0gXeDsTuZ892iwHrDDTdYLzXeW4d3y98j3ismx7c7ieuOnxc9NxWk+vpCCCGEEEIIIYoH6qK0qXk9c9asWXGRROQO9fn99tvP5nSA//7772N7RCLeTpHTEEe06cKPP/4YevfuHRo3bhwGDRoU3nvvvbB9+3ZzOUtH6gceeMDO5xiEPm9PoY00upzISy+9FL+vt80IIdIf3mcmiX5ZDh9lGszBe88w9481fwQff/xxmDFjhglk/Fkkks4N1Z6Rc4I/L8bRQnjjmIceesjmFMyuuuoq82mNMAgIXvPnz7dl0uv444+35fzANT1t/XqdOnWyibRjP1Z9jN/37LPPWiGQe/hUkhDuI444IlSpUiW2RYj0gHeD92fAgAG2zjKCOYXWvffe28bpvPnmm8Ndd90VXnjhBXNdweDpn3zySfx43j3eSb530W8h+3wbk6/nJN4nE8IjhBBCCCGEECKzQayiPQWhxeuZiC3eNiTypmLFiuZli7r4V199FdsqEqENgQkLSdIq2mbx66+/hs6dO4dDDjkkvPjii2bIABxHuwmGCHPmzAnNmzffZVghF/o4zqec2iqw7gP2n3LKKbYshMgc/uv/Xt6sMD3I7SNVmvE0odHbP+r4y+aPlT8MrMv4w2jSpIn1EKEhnbHmzj//fDsX/BrpkLaEjZ4mhOn9998PzZo1i+35K4iZiAFY9PHnhoi3aNGiXUQ2Gvlr1aplVo/EjzH8EP64/hlnnGEFtrzwdI3OMaFnzETcEHJN7kE4x48fbz6wHU/XdMSffbqGT5QeeH94r3DBe99999kyUJHanUDHO0mvS975o48+2gavPuyww+x7wLl8C6Pwzbj88svNT306v59CCCGEEEIIIUoW6qZ06HZRBRBaFi9ebMsib+jEiyhF3X7evHnmglLkjrc7AsMU0TkaoY82E9ouaOMoW7ZsOPPMM22IoRYtWtg+70zt+PEQbfPIqf0DT0tDhgyxZdpgTz/9dFsWQmQGWSP6+cdM/AdvuEbs4o902rRp4Z133gkLFiywhm+EP/w708OGHhzly5c3d4/8eUT/CBLJbXuqcdEPpk+fnqfot3z58nDSSSdZPPlzpOBFo79nd48D8catAIU19vEnyoTpOgPW5gXHM3ENBsDlD5F0Y+IPl/z42GOPmVUh10ds9T9cjvE/7JJC74zIFMiry5YtCy+//HJ47rnn7LvF+8S7TecF9vOOuSjIu0XeZqIHJnOO4b33bwBEv2Usd+vWzawG9V4IIYQQQgghhMgNF2HoPEqbGvVM2pwQsGhrE3lz8cUXW/se9XQ89px33nmxPSIv8GB2xx13xDtB49ls586d4aKLLgoXXHBBaNq0qeVL2kLJkxznbZEQbQ+JklM772WXXWbtL5xDezKCYk7HCSHSk4xs2eSDw8Sfg3+wmPOn6x8+n6cTHlYgrNH1wkIaOLjnfOSRR0yw8g89H2Qs+ehxhKBHAYRzsOzDN/NRRx1lhZR99tnHXFzWrl3brpXY6M11fCop+KNiyk+6IfgB8UTErFmzpq0nxoHC2SuvvLJLPkI8qFGjhokFQDr5fvIV18Rs/vnnn7ceXVhI9unTx/ZzDs/WBdVrrrnG0hLR1dO0pNPRkbAhMgXyKt8wvm+4IGYMSioICHQ33XRTuP76620699xz7RvGsbzHTLxrfPO4Bss+93eQd5uJY3yAayGEEEIIIYQQIje8La5cuXJxkY96qgS//OGdd8Hb3kTufP3119ZewRAntEvSxkgaHnvssWHSpEnhmWeeCS1btjQR0NOVtg3EP+be7hFtC/FlX0+E5+JtoXkd59f2SQiRHmSNpR9CjPdkYKJhF/GFj1KqxI3EpMvtAxiFjy/h4gOdF/6RJuy//PKLFR5WrlxpDd5YvPz000/2oV+9erWFwwVPrsvcw8I+xD+/J8s+ECuFkfbt21sjOSIX8Cdy4IEHmntKLP+c/MQt1dATiEZ+woILBXynR/Fnzzh+H3zwgaUd8cJlJ/EvU6ZM7MhdIa0HDhxovWU4n+szUXjD/ScCAq4/MZVftWqVWUvyLH7//ff4c3JXqYiIWPdhMURaOxwXzYd+HyFE/uCd4T3y7xnvj3/n/V2LHuOsX7/evpNYPEfBwjdK/fr1rbMA30W9m0IIIYQQQggh8oJ2SOqetBnRRkRdlA7itCWJvGE4HobwoA7PcB633HJLbI+IQp6irfGAAw6wdlqgHYShTBjOCJeb7uEMvC0j2v4IpHOU/LR5jBgxwoZAQUhEAMQda5s2bexcb9P0uRAi/ch40Y8PINYc/MHi0pHx6Gi05Y+XD49PqYB7e/L5PXydfXxk2e4fWxcmmTOeFC4nEe9czNu4caN9xBnEljmFBeLBNd1iBXJ7ZGyPxpdz+XNAHOP8Ll262HXvvfdeC1/Xrl1D//7941ZxDtfB+i9aUPFrliS4z3z00UfN2g8BkD+gKIT7nnvusfgRXtY/+eQTG8/L08bn4GIBceVPDLEQk3W2+R+mwzlRgcH3+7PF4m/MmDE2Hpg/s3RIMyGyjei7FV32Tg+J8K4y8e0VQgghhBBCCCGSAXVQwPPTk08+ae1KU6ZMMc9bIm8QrG688UZrm7ziiiss/cRfIX3IZ3vttZcZcNBOi1Vf586dbT3RspQ2Ethde+Tu2iwR+RjK6Pjjjw+bNm2yNhXuNXr0aPOw5II37bM5XUdtokKUPBkt+hF0rN7wM7xu3bq4wIVLRT4uCF00AmOxlooGXz58URDr+Ch+8cUX5trx+++/t48wy8z5SDLn4wh8vB3Cm9uj8A9ldI7Y5I3cWOphxUZ8zzjjDPOzzLVx68mxHMeHmG2IUzNmzLCPMyIVfxSE68svvwxVqlSx66frxxlLHaxxAHGNwWujPPzww/HxCGHo0KHh0ksvjZu3E6ec4sU+0pMeLPx5AulKevq12M820pJrkGb0qOHPjjTExacLgA7pyMR2T9PoNiFE/vECLe8e74+/h3zL+Kb6O8s+toG/dwWhMOcIIYQQQgghhCg9RAUXOp9jrUZ9FIu1+++/37aL3KE9skePHlanP+uss8LkyZNje0RO0PbNcE1XXnnlLu2JLr4B7RjJamukLZRnw3BIvXr1svv49Vu3bm1uRjEgwetZTu0nalcRouTJaNEPq7V9993XlvlzzS0qfGiYUhXVxOsm3q+g96XxmsIDriKZDjvsMJtjvn3kkUeGU0891eb+Yd8d3J8P9hNPPGEfZnpsIJ4tWLAgdkRmQBwQ1xBWiTsWfQhvwHiFuPR0cNVJXBFDXRjYHYwJ9vjjj9vys88+a+mO9SUiLnnt119/NbERc/ZTTjnFjoOcnq8/f+ZCCCGEEEIIIYQQIjvYuXOndTBHDHnooYfMVSWCCB3Phw8fHjtK5MaSJUusXY32Oow3ou15ouTxdlTmH374YWjRooXlb8Ru3w6tWrUyIbJt27ZxwxRQe6gQJU9Gi34///yzCWG4wUyMRlR0c5IV1eiHK6f78CHEss7x4xGMEKEQrpgfeuih5pf5hBNOsHmDBg1su7sATbRO5D55fTSj4YiGC0GU8CAWMhYe++iFhCiWSRCfCRMmhHPOOceWmShk8afDMumOMMg4hfiadtjGPo7JK/1IE8RDwL/43XffbcuOXycRrrs78rqvEEIIIYQQQgghhMgMaB/ydqj58+fHXXoiYM2aNcuWRe7gKa1y5cqWjkcddVT4/PPPY3tESUO+9skFPto0aYvFIpM2ZtaZfB/HYrGJMUWzZs3svXDjCxcQOYbnzfE5ta0KIZJLxo/p9/XXX5u7Slxt8tFALGOMNuaYGTNHFGSe7Kjut99+saU/wRqPbTVq1LA5f1wOHzXHP3I+RSGcfAz9g8h+D7fPEz+OifGKHs/5XBN/2YhYfJz5APOhzrQxrogHYWZswnHjxsXjF43vnXfeaVP0j8mn3cF4fozrBzfddJOJgLnh9/bl3ZGf+wshhBBCCCGEEEKI9Cdq2UQ7HVOtWrXC0qVLbZvInW+++caGGCIN8bJF265IP1ywox2b9mTyO+3LtLti7QrePuoT4w7yHtAuftFFF5kYiDc7juM6XE8IkXoyWvTzP1iPgs/9Q8M681QSTT6/X7LumVf4o/fNDc4ljfioMpbf3LlzbXnIkCGhb9++saMyD+KAefmwYcPCL7/8EipUqGDuSvGdzj4XfwsqaiKEuuhH+gwcONAsJPP6Q8rPc4BU50MhhBBCCCGEEEIIUTzQHsTEEDp47QLaofBGpTag3cNwTRhw0KbHMD4iffD2dtpYHfJ6tH0UA5sRI0aYAcV7771n28j3TBwbPZdrnXbaaaFdu3bh8ssvj4vlQojUkfGWftkEjyJaMEhcTySnR8dH1T/C7Gd90aJFoVGjRvEPb07niT/xHiz9+/c30S9ZPVB29yyFEEIIIYQQQgghRPqT2K6Gpy9cVtIJ/ffffzfLJpE3iH6bN2+2ZazI1G6WXnj7MXnal71d2fHnRTvqoEGDwvTp0218xmhbavR4BwEQowsMLri+Xzfapi2EKBoS/dIYHk1ef3iJj+7/b+9O4K0c9///X+ecjuaRROKISho1HGkyhBRlKHNSDhkylESZK3OkHCGSzBRKo0pEhpQo0UCTIURFMznnd/7/7/vT+qxzt8/eu9p7rb3XWr2ej8f9uO91r+le97qH67o+1+AXRzW/Fr9Qli5d2ro8lSFDhoSrrrqKi2g2VDvrnXfesf7Xr7/++lC+fPnYMwAAAAAAAMD/lsc1atQofPHFF9ZCSkE/b/mH7Gk/HX744WHlypW2LxX0U/BH5ZoqB82tLBQFz493D845/5/U1Wfx4sXt//MArnqbu++++6ynNj3v71N5tJb1Xv3naiV4zDHH2HOiz9B6APnDWZTCdnaT0/PRyQN+mmvSBbZFixaW4BAlQrp27UrALwcaA7J169Y2ll/JkiVjawEAAAAAAIDsaRwzBbJU3qYgB3Kn7h0VJPJAkIbucTsrC0XB83JnX47Oxcfs0zp1cavy1VatWtkwShs3brRAnoZo0vh+WvbAnsqw1epP3YSqW1wh4AckBmdShtLAwTfffLMF/nThVcJj6NChoWzZsrFXIDt+09rd8QABAAAAAACw52nevHk8iLFw4cLYWuRE5ZTeu5bK4TS2n9YR8EkP0YCf07qs6/XYG5507949TJ482VoCqhc6nSsK/snVV18dnn32WVsGkBhcTTOMLpq6UWo8OnVTKaph8cILL4T69evbcwAAAAAAAAB2nwc4fKpYsWI8uFGkSBGbI2faZ9WrV48vqzWY5n/88YetQ3rRf5edrOv1WIHda665xsqvzz77bDtv9L9fdtll1uIPQGIQ9Msg6kpALdTOPPPM8Morr1hzeTnjjDPCOeecY03nc7oQAwAAAAAAANg9ClyoTE4BDc2RO+2jgw46yJa1z9Q6Uo0UVI5JY4XM52XTI0aMCMOGDYu38Jw0aVK89R+AvLOW07FlZIANGzaEMWPGhLFjx1rwTxfRc889Nzz99NNWg8KbTnMDBQAAAAAAAPJPPWyJyuGWLFliy8hd5cqVba5ySo3pp32nYCCNFTKfl0urVSz/N5B4Oq8I+mWQadOmhY4dO9rFU02jNbVr1y6e+CDgBwAAAAAAACROvXr1rLWSKtt7r1vImfaRt4hUWWW0pR8tvTKf/msP8F566aXx//yUU06Jt/oDkD+cSRngt99+C6NHjw6dO3eO15DQRfL555+3rj6d1vnzBP8AAAAAAACA/NGYdCpnU5nb559/HluL3DRu3Nj2l/abGi1oWRNBn8ym/1r/uSb1Thctn1YAEEBicCVNY9u2bbO5uvR88cUX4zUj1LXnqaeeagG/aCs/D/r5BAAAAAAAACDvihcvbsELdVdYs2bN2FrkRGWUf/vb3+Jlk8uWLbNgEDKfyqzVIlbj+b3++utWVq1JQ1PRyhNIHIJ+aUzN3keNGmVBv3Hjxtk6XSjbt2+/Q8DPuxcg2AcAAAAAAAAkjleyV/nb8uXLY2uRm0qVKsWWtrf+UjBIgVPv9hOZJdqd6znnnBO6d+9uj3XOnHzyyaFLly7890ACEfRLY7oYPvPMMxbw8wSGbpC6UCropwunXvOXv/wl9g4AAAAAAAAAieTj0UW7K0T2VIapfeUtu7TvROWavozMofJpDUulYJ/KqFWO7WXVZ511VpgwYYIdC954BUD+/en/bkbcjdKIgni//vprKFWqVLj44ovtoqmboi6W+ivVyu+FF14IxYoVswumbqQAAAAAAAAAEm/JkiWhdu3aVg530EEHhW+++Sb2DKKyFkGrW1SVc2q/+XOa00tZ6tP/ljVA6/+dnvvqq6/Ce++9FyZNmhQmT55sz2nyFp2ioaleffVVW47iGADyj6BfGtm8ebMF+5YuXRqmTJkSevbsaTdGXWR1Qe3QoUN47bXXYq8GAAAAAAAAkEw///xzvLtKgn677rDDDrPgkHjxNAGf1Key6BdffNECdlpW96wzZ860/02t+rIbn1H/qwJ+eu6UU04J48ePt/U0VgGSg6BfGlmzZk3Ytm1bePTRR8NTTz0V1q5dG+/WUwG/kSNHWgu/rVu3hhIlSsTeBQAAAAAAACBZDjzwwLBq1apQtWrVsGLFitha5KZBgwZh/vz5tqzgkco3CfqlvtNPPz1MnDjRep0rUqRI+O2332y9uuf8/fffbVnl1WqkonJsLbdr186mCy+8MN6Np/5rvV4tPgEkFuH0NFKxYsUwa9asMHbsWKtFpIurt/DzgJ8Q8AMAAAAAAACST4ELBa3khx9+sDltLHKmfaNJjRayYr+lPnXLKWq15/+h/je18pO2bduGli1bhjZt2oQnn3zS1mscv27dullrP9HrFdz1xwASi5Z+KUxj95UpU8aCe6o1MXjw4DB9+vTw7rvvxhMT2XXpGf1LqR0DAAAAAAAAJIeCGgpyqKK+WjW99dZb9ljlefhfKtNUI4ZOnTqFMWPGWNnl7NmzQ+PGjePBIKS2lStXxsf1q1Klyg7j++3uf8h/DiQeLf1SWPny5S2BsHr16vDll19awG/evHl2MdTFtGPHjtbCTzUrPNDnc+GCCQAAAAAAABQsr6yP/6XySnXxqLJNlWNqX6mxQ3ZjwSE1Va5cOdSoUcO6s40G/GR3y6MpvwYSj6BfilNrv8mTJ4cnnnjCWvht2LAhHHzwwRbwGz16dChdurQ1hdYNMhrwAwAAAAAAAFDwKKPLmQd5VL7pvvnmm9gS0oGCthzjQOoi6Jfi1q5da4Pazpw50wJ7GiC1SZMm4eSTT7YuA/7973/bei0DAAAAAAAAKFi0Vto9atV3wAEH2LJaiqmXMzVqUJeRSA/btm2LLf2XAoE+ASg8RIpSjA96qoujboAar2/o0KFh4cKFtr5Fixbh6quvDp07d7bXKAiogJ8SF1knAAAAAAAAAMmjMjgfv49gx65RgO/YY4+1ZQX6Fi9ebPuOcRDTR7FixWJL/0W5NFD4dC0l6JdivMWebngPP/xwuOWWW+IXyhNOOCEMHDgwNGrUyB4LF1EAAAAAAACg8FA+t/uKFy9uc5WFrlq1ynoyU49mAID8IeiXIhSB9Unj9g0aNCj069cvvk61XwYMGBDq168fHyCVBAUAAAAAAACAdLPPPvvYXME+tfxTKz8v8wQA5B1BvxSgoF50/sUXX4SbbropbN261W58qvmigJ/G8tPNj/H7AAAAAAAAAKQjL+8UNWpQSz+hpR8A5I+uqUSPUoC32NN81qxZ4bjjjrPH0rJlyzBz5szQuHFjgn0AAAAAAABAilHPXEWLFrUK/SrfU8u1//f//l+8By+v6I/tQxqpjFP7yMs6N2/ebPMiRYrYHACQd0SRCpFu/lF33nlnaNGihdV20U1Prfruuuuu0LBhw3jtFwAAAAAAAACpo0SJEmHbtm2xR9tbsqm7SgUAfRKCf8HKO30/HHzwwTZftmyZzQEA+UfQrxDp5i/r16+3Mfz69+9vjxUM1Bh+b7/9tgUBPWEAAAAAAAAAIHWoHK9169axR9sfq+VadgE+yvi28/1Ar2YAkHhcWQvR77//bvPHHnssXH/99ZYo0E2vTZs24ZZbbglNmza157X+jz/+sGUAAAAAAAAAqUFdUqoMT0P09OjRI7Rq1SqUKVOGAN8uqFq1amwphOXLl8eWAAD5QdCvgKnfalesWLHwwAMPhH79+sVb/amFnwJ+GtdPiQPVCtJc/VwDAAAAAAAASB0qt9OwPDNnzgxDhgyJrcXOeJmnz9UTGi3/ACD/uJIWIAX8ov1WK+B3ww03WCs+9fV9zDHHWBefzZs3t37AtU644QEAAAAAAADIBB7oq1atmpV7avrss8/iZaYAgLwjmlSAPOCnfr2vuOKKcPPNN8dvZscff3x48803rSsAKVq0qM0J+AEAAAAAAADIFN7C75BDDrFGDxrayIdBAgDkDxGlAqabmlr3DRs2LD6G3wknnBAmTJgQ7+LTEfADAAAAAAAAkCnU45moRzSVjYq39Pv3v/9tjwEAeUdUKYlUY8VvXqKaK5deeqkF/BTs0w3NW/hpfD+tAwAAAAAAAIBMtNdee8XnLVq0sGU1hPjhhx9CkSJF7DEAIO8I+iWRgny6aWl8PtViufzyy8MzzzxjzykgqDH8pkyZYsuaCPoBAAAAAAAAyFQqL/V5yZIl48tff/01ZaMAkAAE/ZLIA35q0derV68wfPjweBP2bt26WQs/PUfTdQAAAAAAAACZTg0fRGWiBx10kC2rpzRNHhAEAOTdn/7vQrv9SoukUJBPAb8nnnjCgnva3Qr46bH47qcmCwAAAAAAAIA9iZeJlihRImzZssWWAQB5R9AvyVauXBlq164d/vrXv4ZDDjkk7LPPPqFu3brh0EMPDfvuu2+oVq1aqFy5cihbtqy9Rq0DRS0EixYtassAAAAAAAAAkGk0/NH7779vywsXLgw1a9a0ZQDA7lO4j+49k2jTpk3ht99+C6VLlw4bN24M8+fPD9OnTw+PPPJIePfdd8Ntt90Wjj322LD//vtbbZaHHnoo9s5gAT/isQAAAAAAAAAylco/1a1nkSJFrMtPAED+cCVNIgX7atWqZS381IrPzZkzJ4wePTosXrw4bNiwwW5susH17ds3DBkyJHz//ff2OoJ+AAAAAAAAADJVo0aNLNinMf3mzp0bWwsAyCuCfkm0evVqm6vrzn/961+hWLFiYdasWaF+/fq2Pqvx48eHm2++OYwdO9ZudLrhEfgDAAAAAAAAkIkaN25sjSUI+gFA/mmcVIJ+SbTffvvZDatJkyZhr732Cu+991446qijYs/+L/Vh/cEHH4QbbrghPPbYYxbw88FsFTQEAAAAAAAAgEzRrFmzsG3bNluePXu2zQEAeUfQL4kUtPvLX/5iLf0U+FPNFacAX7ly5UKdOnVC3bp1bd0333wTjjjiiLBgwYJw0003hYEDB9p6iXYPCgAAAAAAAADprmrVqtbooWjRovHGDwCAvCPol0R+o6pRo0bYsmWLLbvly5eHxx9/PIwYMSIMHz48dOvWLRx99NFh3bp1oVq1atYN6J133hkGDx4cewcAAAAAAAAAZBY1nPjjjz/Cxx9/HFsDAMgrgn4FYO+99w7fffdd7NF2xYsXD0ceeaS1AFSXn0888US4+OKLQ82aNcPmzZtD7dq1w0cffRQGDBgQ7r77bsb2AwAAAAAAAJBRNDSSykbVeEKBPwBA/hD0SwIF6HwSBfDWrFljy+63336zm1rUPffcEy644IJw6KGHhg0bNtj73n///XDfffeFQYMGEfgDAAAAAAAAkDE0NNJ//vMfmyvwt3DhQluvAKDKTqNlrACAnSPolwS6QXnXnropqVWfWvtpXqJEiVCmTJnw/fff7zBmn1N3nl27drUuQTdt2hQP/N1xxx1hyJAhYfXq1fY6bnYAgHRFpg0AAAAA4Bo1ahT+9a9/2fJnn31m87322iseCPRyVgDAzhH0SyLdkFSo+de//jXccMMNdvMaNWqUBe7U3efUqVPD1VdfHXv1f6ll3/nnnx+qV68e1q5dG+rWrRs+/PDDcOONN9r7AQBIZ2TaAAAAAACuWLFiFuRTOeqcOXPCunXrYs8AAHYXQb8k27Ztm80V9Lv11ltDly5dwqpVq0KVKlXCV199FSZPnhy6d+9ur4lSi7/OnTuHOnXqxFv8KfB3/fXXW1efAAAAAAAAAJDu1NLPx/ObO3eu9ZimLj810VMMAOwegn5Jpi493e233x769OljN7JPP/00FC1aNCxZsiRMmzYt3HLLLbFX/df9998fzj777FCzZk0bE7Bhw4Zh8eLFFvjT+H8+LmD0JggAAAAAAAAA6aJatWrx3mC8AcWf//zneC8x/hxlnwCwc3/6v4slV8sC9MMPP4SXX3453HTTTWH27Nmhfv36FrxTF54nnnhieOyxx2Kv/K9LLrkkvPnmm9an9bx580Lbtm3Dv//979C/f/9w8803W00YbwLv6DYNALCn0P2P+x4AAAAApCc1aihSpIgtK9i3YcOGUKJECVsGAOwegn6FROP23X333WHmzJkW+NN4f4cffnho3bp1ePTRR2Ov+q9u3bqFGTNmWNeget8nn3wSJkyYYEE/dR0aLez0v5QCUABApooG+hIV9EvU5wAAAAAAdo+Cfgr+KU+2aNEi6/lMPZt5Ho28GgDsGqpLFALdwHr16hUGDBgQjj76aGvB99e//jUsW7YsTJo0KVx11VWxV/5Xp06dwooVK0LPnj1tQNsXXnghPP300+HGG2+0loJRuglyIwQAZKqs9ZW45wEAAABA+lJwr3Hjxras/J4CgJpHu/j05wAAuSPoVwj+8pe/WJDvmmuusVZ6TZo0CV999ZU9p8DexIkTQ/fu3e2xTJ8+PZx++unhtttus8CgugfV6y677DJbp+buohtfdAIAIBVF71F5uV95pi+nz4kuqyW9+DpVvMlJXrYFAAAAAJB3yodt3bo1HvSTBQsW2NBGys9F82lU+ASAnSPoV4h0o1L3nHfddVeoV69e+O677ywguHTp0vDOO+9YUFABQI31d/3114cvvvgiPPfcc9bF51FHHRWuvPLK0LdvXxvTj4JKAEC6iGbU8ppp030vp/dqvWqKKsCnSjbeRYzmus9qYPiVK1eGDz74ILz33nth06ZN9hzjRQAAAABAwStVqlR8TD9R3kx5OU3IbMqLK4+u/Pmnn34aWwsgPyjdSgHXXXdduPXWW8Nhhx0Wli9fbjc0jdn34osvhvbt29sYfurL+tVXXw3r1q2zmi8XXnhh6NevnxVeqiCToB8AIF3onqUKK3mttOIBv+jn6PH69evteT1WjVDVFlXw78svvwyjRo0Kl19+ubWu33fffcOhhx4aWrRoYRVrypQpE/r06RN+/fVX7qcAAAAAUIhU1vn+++9bvk75OWS+YcOGWd5cjVzmzZsXWwsgr/70/1G6VWCy7urff/89FC9e3Jb13MCBA63V38KFC8P3338fWrVqFXr37m1deY4cOdJaAurip4DfAw88YO8TvXfLli2hZMmSsTXbqQAUAIBUo4Dczz//bMsKwOW19qYygRs3brSKMZ9//nmYP39++Pbbb8MPP/wQ1q5dG1avXh175fZ7ou6XykCqJmF21MpeQcFixYrF1gAAAAAAkkn5NE3jx48PZ5xxhuXd1EBC5aSUbWY+5evPO++8MGbMGMuvz5gxI7Rs2TL+3F577WXLAHYdQb8U8/DDD1trA13k1KWnajeMHTvWCkfVElDj+N17772xV2+/MaqPa2/xF8WNEQCQihRUU41NBf90/1I3Lgr8ab2W999/f1uvxL3meq5o0aIWrPvtt9+sa05VnNmwYUN8zL7doc+sUqVKOOigg+xeOXPmTFt/2mmnhddff92WAQAAAADJEy2S1vKbb74Z2rZta8u1atWySp3q5lP5N2Q2lQPof9ekCr3VqlWzMgAAeUPQL8WoEPPBBx+0sf7Utecrr7xiY/gdd9xxVutB3YCqn2vRX6dCUxVYZhfgI+gHAEglCtqtWbPGgnoK5OmxEvfe8i6nrls8qaIMn9/3fF1O9z+9rmzZsqFChQqhcuXKlmk4+eSTbd6wYUN7nQcOtT36vKpVq1pXoHlteQgAAAAA2H3KE6pCp3pEU36sZs2aYcGCBZZnoyeWzKbgroay8nJuz+sDyDuCfilGf4emwYMH25h9Tz/9tI1B1KVLlx269NRNTzVdNHnhZ9aCz+wKQgEAKGwjRoywcWvVak/j6GlSJk9dd6j1usbii1KmL2uLPlWAqVSpks3r1atn3YTWr1/f1qllfPny5W2svuzuj1HKVBx44IHWJagyk2phrwwmAAAAACD5lBf0iqAK+imPpjyZhj9SXo7yzcymnnc0xJX+93bt2sV73+G/B/KOoF+K2bZtmzVfVlBv+PDh1od13759w4ABA+x5XQD1Gr8J6uLnf2HWCyEXRgBAKojWzlRmToE976ojt6CcAn261ykgp7H7Nm/ebK39FNxTpZf8dPcR/d6OHTuGCRMm2Pe99dZbluEAAAAAABQc5cd8/DblH70yKOWbmW3o0KGhZ8+elvc/5ZRTbGw/5dcZyw/Iuz/H5kgBfkHTXAWZV111lQX4+vfvb+u8gFI3Pl8WzbO7Afp7cpoAIF1kd93K63WM61/Bi3bHkjVYl1sGzsfyU7ebCvQ1b948NG3aNJQoUSJfAT+Jfq+6GFUGU5+Z388FAAAAAOwe5ceU/2vQoIE9VmXPnMo7kVlU8VZUVqMxHYUhN4D8IegHAEh5SuhHg3Va9sS/lnc2qRtJ8RbSovXqTlJz7NkqVqxox4UymhpzEAAAAABQMNQbjII8mnv+XL3FkFffM2zZssX+a+XJ1buPKuV6uQ2AvCHoBwBIeZ4AjC4rgOdBPPUBn9s0Z86c8MEHH4Tp06eHRx99NAwbNsy6UPZxUbFnq1KlitUk1fG0atWq2FoAAAAAQLIpL6Z8vubNmjWzdcqbTZkyxZaR2Ty4q7mG2qCMBsg/xvRLIQX9V3ARBZBu1DLPuz5etGhRWLBggY0Pt7PrZ/R5ZSRUi1Dve/jhh8Mll1xC1xF7uMGDB9sYurovDhw40JYBAAAAAMmn/L2GWVB+v0ePHlZJV3n0q6++OgwaNCj2KmQq5cNVIVstPT/88EMb0gNA/tDSL4XoIleQEwCkC9Xye+yxx0Lx4sXDSy+9FJ599tkwb948SxR6a7/cJvFWfQoAKuCnTIXeqyDgnkJdpESpO0ts705GY+rqeNBxAgAAAACZwivBaq48jyYF2Fz0+cIQzZN37NjR5sq7k1/NbNHjzStiH3XUUTYHkD+09AMApDz16166dOl40E68JlidOnXCEUccYeuy40E/nx9yyCGhXLly1m1E3bp17fP8uT2RD5i+J1OLz549e9qxcM8994Q+ffrEngEAAACAzKT8dLTSYypUilUwslSpUlZRt169emH+/PmxZ5ApvAxGc7XyVOVuHXd6rGMQQP4R9AMApLw2bdqEqVOnWkJQNf8uuugiW3/cccdZi72d3cr0PmVolLAs7ExMYdHvX7Fihf3+Qw891NZ5pk77b08OfI4bNy6cfvrpluG97LLLwiOPPBJ7BgAAAADSm+f3lP+L5vt8nXqEUb6wWLFiKZE39O9XBd/PP//clpF5dOwtWbLEgrvKi6t8Z8KECQy/AiQA3XsCAFKeAn6e8Ff3nm3btg2tW7e2xOCuZkiUiYkG/JSx2ZO6C/n666+tZaMyTtSW3FGlSpXs2FCm46effoqtBQAAAID099tvv4XZs2eHV199NZx55pnhyCOPjAf5lKdWrzrqDefYY4+11xYm5dFr1KhhywsXLrQ5MouXw+gYVK9OqqCsdSrbKVKkiD0HIH8I+gEAUpInBHv37m2JP9U47Nu3b7z7Ec09iKd5bpNkDQ56Bmd3absUHPLtSwfad2rNpq5SFOxUiz/RvtHjXQ2cZiplcvWf6nhYuXJlbC0AAAAApAflZ5Tf27Bhgz1WRU8NYaCKnyVLlgwtW7YM55xzTnjjjTfC3Llz7TXqWlF5RU3qTvPdd98NZcqUseEPfv31V3tNQVOerHr16vEygGeeeSb2DDJFNLCnln7+Xzdr1myPL5sAEoWgHwAg5SjDoqCeanwpEShK/Kubz8LmgcK8BAwLUzSYpYycI1EdrCapjjdlkhUMBgAAAIBUprxy1HfffRfGjBljeeYqVaqEBg0ahGHDhoWvvvrKnvd8nyp9ilemPfroo8PJJ59sQRfPg19zzTX2XGFp166dzZU3029CZvFjUflvVUjea6+97PEhhxySVpWrgVRG0A8AkHK8hZ4yHDNmzLAMiBJ/jRo1ir1iu4IKWOn7vRakZ5LSLTGq/eiqVq1qcwVXNSbink7Hmmd6v/nmG5sDAAAAQCpQPjQ7GzdutDxzr169bNz2Tp06hY8++ij8+OOP9ryCKppEgRUNkzFo0KDwzjvvWMs+5QeVTxw/frzlb5s0aRIPwLz88sv/E1gsKN26dbNKttr2wmpxiORRmYqOaR1rOu5U1uI9MRVW5eqczjEgXRH0AwCkLA3avXXr1njCTwEqZUwKOkGmDJH6mh8+fHg444wzwimnnBL+8Y9/hKeeeir2itQXbemn8RpEvwvbg8faF5qT2AcAAACQ6lRp8bbbbrMWfYMHDw4lSpSIV4pV94mHH364tdhTl50Knm3atClMmDAhXHvtteGYY46x1+n1mlQJUvnuc889116rdbNmzYpXjCxo+l71TqNuSd97773YWmQKBfg83+1lPQoE0soPSByCfgCAlOEJP801KbGvDIcSf8rE6LEyJJ6ZKSj77rtvqFy5crjiiivC1KlTbXrhhRdCnz59wumnn77DdqeiNWvWxAdk177TvpTCqrmZarRP9ttvP5v/8MMPsbXp15oTAAAAQOZbvHhxqF27dnjiiSfCwoULrcWUgnq1atUKzz77bFi7dm1YtGhRGDJkSGjevHm8Fx3ld3KqRFuqVKlQr149W9bzq1evtuXCoO9XMHPLli32WL83VfPa2HX6DzXpGHTeEjVVcJwhUxD0AwCkDA/m+Vy1DZVBEa+NWBgUMFNiVIlT1Zps0aKFbZcyU+PGjQunnnqq1Uzz16Qa1dJU4tX3q8v6eE/l+8ET+N9++60tq9YhiX4AAAAAqUDj8zVs2NCCewrqecCkbt26YdSoUWHBggWhc+fOoXTp0rZeVHHWJ+Vhd6USbSrkEytVqhRbChbYJO+KZPJyHI4zZAqCfgCAlONdiqgrEm+Npn7eCyugdvfdd1v3IqLtUhcjGg/hpJNOskzTG2+8YWMjKEjkQcpU8v3338eWQqhTp479BgWzUnFbC8vf/va32FIIX3/9NYl+AAAAAClBeRKN29e+ffswb968+Drl7dSyb+7cuaFjx4459uSivJ9P6aJ+/fqxpWCVbemlBsmiHn6KFy9uw8nceOONsbVAeqO0DwCQctQ9iTIk6s7DA1Nq6VdYQaoePXpY4EyBPdWs1PZNnDjRgpNly5a1DMgtt9xirf1SkcYjdGqp6EE/Alrb6X/0oJ+OMe0j1YQFAAAAgMKm8eSHDh0ali5davkVVTbt3r17mDNnTujUqZO9xlvzSdbgnvJ9PqULDbHhv0Mt/XL6bUB+vf/++1bpV+P8v/3227G1QHoj6AcgT7wVTGG1vELmU2L+yy+/tIyJBnpWSz8F1wrjmFMGQ2Mc9OzZMwwbNix06NDB1s+YMWOHgJq6VElV2o/ap5q0rH1JYGs7BXFVs0/7RcdX1lqkZCwBAAAAFBTPf2iYBuVRRo4caa2RFPA7/PDDw+zZs8PgwYMtH5OTvORh/D2pMMyBfpu2Q3z4BdH+QObRf53b8ZxsOr488AdkAoJ+AHaLboSalNjUnC4WkCw6xpSx0TGmFnRNmjSxIJXWFwY/7tXNiAZMf+6552ysBA+cKfMxefJkW041armm7dc2arwH8cfYLnpceYtN7SP2EwAAAICC9vnnn4fWrVvHHgWrhNq/f39b36BBg3hALDvKv+QlD6PWhKJ8+Nlnn23LhUUBIPXIovz2lClTwquvvhp7BplI5T6q6K1jrzAo4FeYQUcg0Qj6Adgt0cSj5rklNIG8UqBFib5p06bFjzG19iss2h4lPjUXBfvUjcrGjRtt7AQ/J1atWhV/TSpRi0mnhKy2l2DWf2lfKDPp/53+V6ElMwAAAIDC8Pzzz8fzI2rdt3jx4tC3b1977AGSRPNebJQvOuuss2y5MOj7vXcd/VYF/0aMGJGU34zUoGN92bJlhVLGOGnSJJsXVsARSAaCfgDyRIkw3ZR1U/zkk09ia4HEUDBKQRh1reDdK5QrV87mhcED3NEgmS+rqxWdD2pNpzEWUrE7CA9mCYG+7HmLTfHMpK5x0X0HAAAAAAVBgS7PiwwYMCBUrlzZeidRflN5l6JFi9pzotclIt/yzjvvWH7R84wKuBUG//7777/flvW7tT9UgZWKmekveoxF+ZAuBU1j+rmWLVvGloD0RtAPQJ7oBq3EphJdRx55ZLjssstizwCJsXbt2njrOiXyf/vtt0LLdEh2iVJRMNC7hly3bp0F/1KNByy1L6tXrx5bC6f9cvDBB8czyuvXr7e5/lf/bwEAAACgIKis5YILLogHuI4++mibS3YtoXIKouwOBVz0ffqc2rVr21x5ocJo/eT5st69e9tcXZtecskl8W1CesruONWx5grq//XjS3MFk+fOnWuPJRXLc4C84EoJIE90Y3z33XdtWTfm1atX2zKQKIsWLYothbD33nuHI444YofWWKmkQoUKKV3j0LtpEbqs+F+6hkX779f1TbJmSAAAAAAg2RR4aNSoUZg1a1aYN29e2GeffWx9MvMnCnx4rzUaM7Bs2bKFlh9S4Mcr/P70009W9nT88cfbY2SurVu3xpaSy3v28YYMQCYi6AcgT5T4U7/Xmqt2TNWqVWPPFF4XEMgs0QxGzZo1rX/3VA1YHXroofHjvrAyRrlRzUglZnWupmrgtLCVKVMm/t9t2rTJ5tQiBQAAAFDQlC9RpdL69etb5VdJZt5EQZB+/frFy3dOPfXUeGuowhhjTXwfqIJt3bp1Q6VKlWLPIN1lV2ai41s9JxUE7xpXx7a6tAUyEaVZAPJEN8eNGzdaQlAJsaZNm8ae2XFsLCCvlixZEs/YKKFfokQJq/GoY86nVFG+fPnYUmrSOaqMnM5NuvfMXnRMDO9WFgAAAAAKgwIjnh9OdmVEtaSbPn265RsbNmwYOnTokG1gpiB5AFJ5WE3kzzKb/mMN6VKQVHG7T58+sUdAZiHoByBPdHNUUMabwh933HE2BxJFXcYq0yHqWuTwww+3ZSX+fUoV3g2K+HhwqcT3lYL1avUnie7GQteDdKX9Ew36qQsZrdN1zrv6BAAAAIBMdM8999hceSAF/JIdZNwV2pZohXLP0yKzVKxY0eaqeKsyoIII7noeX8OgfPzxxzv0Vta6devYEpDeCPoByBMlvtasWWM3RyW+9t1339gzQGJEu/I87LDDrMvFVE3oKyDpQbT58+fbPJWolZ/2neYvvviitZjM775UYlzTV199ZZ9Vp06dUKxYsbBw4cLYK9JLtAWkgn4KOOs6Rx//AAAAAApaQeR9lZ/79NNPrYtDBfo05MGNN94YexZIHg/uKcimY08VlDWuZEEEnFXhV2WZV111lZWNAJmIoB+APFGBuCbdKFOhFhgyz48//hhvfXXQQQdZ956pauXKlVZbLFoTMZV06tTJEtXKOGYN+Hlie3f4+T9nzhwbX0H0X+n3p2LQc2d0HdO2a18os/HNN9/sUNsPAAAAADLNli1bwl133WXLyiMee+yxBRJsxJ5NFbxVjujlCiqjUO9J0R6Ukkl5fXVpO2rUqP8p01R5AJAJKKkHkCe6Ga9atcoKyvfee+/YWiBxFESLBqSUGEw1vn0++LNqRjZv3tyWU0njxo2txZq2d+TIkbG1eadE8dKlS0OzZs1sWdPvv/8etm7dmpY15bT93tJPiX79Fv8dBP8AAAAAZCJVdtRYfsorKt9zyy23MLwBkk7liB7406RxJL313WuvvRZ7VfLo+6+77jor11QZiZc1eeAbyAQE/QDkiW6OuknrpkyhOBJNx9ayZcvsOFOXkdWqVbPEYDQIWJh8O5Qo/Pzzz60veC0fcsghKVkzTMFIT1Br2/OakfP3qQvPBg0aWOJYATL9di3r89OxZqi22feP89+hDAEAAAAAZBLlC8eMGRPPz6mbxXr16sWeBZJH+W6Vm6gMQcehutnUcShvvfWWzV0iy4D8++677754D0V6XLNmzXiZhiYgExD0A5Ana9eutZujCsQrVKgQWwskhhKAGzdutBqHCjSVKlUqPsZfKiTClCBUqzbxMezUMkxj+6UiBeY1ILv2nWrQjR07Nh6s35X96a/x8e0uueQSGx9QtC/UklAJd+2DRCbKC5J+o4K2mq9YsSJ+vAEAAABApvn555/D66+/bvlC5e06duxo66n0iILilYbPOussO+40Pfnkk7FnE1v24y0L77nnntCvXz/7XpVvTJs2zb5XZRkqh+L4R6Yg6AcgT1avXh1bCmG//faLLQGJo/EFlAFRQq9SpUqWKEsVCmwVL17clocOHWpzbafGzktFSrh27drVtluJ3csuuywetNuVlrp6zfr16+0zlFDWYO+lS5e2/2TevHmhadOmsVemLwVDlejXvtI+8pqHvp8AAAAAIN0pT6h8zujRo8OiRYssr1euXLlw8cUXx/NDQEHScdeyZUs7FpUXVwtUUdlDoioVK3+vrmzVha23bu3fv39o1aqVVejWce/dfQKZgKAfgDzRzVg3Sc3TcQwvpD4dX0rwKfGlAJMSglqnhF9hU2JQFAhTRsnPBfVFn6qJxBNPPDEeqNy0aVOoUqWKjUWo/bozqnlXvnz58Mwzz9j5rt+rz3j66adD/fr17TOUcfT9km70nynhr1alOr6UIfD1CgYCAAAAQCZQHkfDU9x2222Wh5UBAwZYHo/x/FAYdNxpSBfPh99///1W3iCJKv9RCz+ViYjKmNq1axeuvPJK++5vv/02HghM1zINICuCfgDyROOYOfp9R6IpE6IuFpXo23///W1cPyXAUoUnPLVN6oZUc23rvvvum7JBPwXlNCi2gnZa/u2336xWmx4rwXvttdeGN9980yYNan366adbwEu/9Y033rDfqGUlgtWyb8GCBeHCCy+0z1aiWc/7lG70m3SMKWir7VfCf+rUqbZe+woAAAAAMoV6q1HPOsrv1K1b13qCUV6PVn4oDKpE/Oijj1qlb/noo48sP747ovl2D2arbEafeffdd4fbb789vk5j+Kk1ob5XFaP1eh37Gq4lUUFGoLBxJAPIE7VwcgoeAImkMfw8wOSt01KJJwS/+OILS1wqUNSsWbOUDhApIdu2bVsbt0Hdtyiw5a10J0+eHIYMGWKDt5900knhwQcfDBMnTrTXKJipuYJi//jHP+x8nzFjRqhVq5a9V7Q/lHj2/yzdeI1CdSPrGQ39Tv+f9dtSNZgLAAAAAFl5HkaThizw/Izm9913n+V7lI+96KKLLPih/KLycv46oKDomNPx17x5c3usfLjKJzxvvjMqh/EyCfF8vPTo0SPcfPPN8bKaxo0bh88++8yCfF4O4FK5PAfYXQT9AOTJ8uXLY0shHHroobElIDGiY0Z6La3CpgRkdFIGSZkizZVJ8lphqbK9WWlblWhWUG/dunXWsq9EiRLxhK0SvdGanfodeqzfdMkll1jry2HDhtlvFU9U63Xe5ac+K1V//87otxx88ME2l7Vr18Z/FwAAAACkE+VjfFIPLporP6hxzNRbjaiVn7o4VB4uHStvIjOoHEHH5/vvv2/lDHr8ySefhCuuuCL2itx52YQ+Q+9VkHvcuHHWk8+TTz5p61WZ/Jxzzgkff/yxPRbNVcFZ9BlZy0SAdEbQD0CeKFjgypQpE1sCEkOZDiXWFHTZb7/9YmsLlxKEPilBKJ4gVaJSLeHUOixrbbFUoUSutk3brOmBBx4Iq1atCrNmzbLuPDVwe5s2baympx5PmTIl/Pjjj9bty/Dhw+OJYE8gi5a1Tv3v67/S/xatEJBO9Fu8G1lN+i/9t/o6AAAAAEhHyrcqsPfQQw9ZRU7l75QHVD5HeTqt00S+BwVNx5/KKhSUfumll2ydxtgbOXJkfBy+ndFxq2P83XfftdZ8Gq5k0aJFdsyrrKJ3797hhRdesNfq2Hf6Xk0qy6hatWraVmIGsiLoByBPlixZElsKoXTp0rGl5PNWOLoRa1k3dSUMNPf1oueiE9LL119/bYk2/bfVq1ePrU093s+8jj9tbzTxqG13Wk7F41DdqDZp0sQGyn788cetS88RI0ZYQFAtAitWrLjDb8qJAv/6jXqtAqDpRtcN1fCrUKFCPJOrDILWkekFAAAAkM68XET5PLXyUz7n+OOPD1dddVXKVlrFnkVlCToWzz777HDppZfaOpWzTJ8+3YYW8dapXvaXVZcuXez9rVq1CkuXLrXWrTrO69WrZ+U2ffv2jb83+hmq7KzHqgBctmxZ8v/IGAT9AOSJWv+4vffeO7aUfLoBK7GqBMErr7wSSpYsabXRvOUhTfEzQ7R7z10JOhU07wJi69atdvzpuNN4eEpYioJISnD661SzLJMp0OfnZioGN3dG265J/5m2X8t+bQEAAACAdKY8jvKsquwpKj9RJU/Pu6VjHg6Za9CgQdY9pyhvvnjx4rDPPvtYd7Tnn3++DT/StWvX0KhRIwvWqczo2WefteCdl8PUqFEjjB492roMPeKII6ysxo9zvd4rZuuzVX6jx3pdKpY/AXnBkQxkkIJMqEX7e9fNN9miv003/fbt21t/3Gryr8Srgg7jx4+3Lvm8tR/Sl/5Xp8RaqokGg5Sg1DF3yimnhKOPPjr06tUr3HTTTWHMmDHWtcQ777xjCUglQHUc+5RJateubb9J5+bMmTNja9OHtluBWbV81O9QRsEDz1xPAAAAAKQzBTLee++9sGnTJsv7qAxFQzpo2fOmWtYEFDYF6E499dTw8ssv2zHpQToF6F599VXrnej5558Pn3/+uZUFeh5erz3ssMPCa6+9FubNmxfOOussK7spX768fa6Wlb/Xe/SZ/tke6FOl7kwrq8Gei6AfkEGiTdSTzVs0FRTdjP3mW6dOnfDGG2/YcjT4ohu3xi0joZr+fvrpp7RIbHXq1Cm2tP0YnTt3bhg8eHAYOHBgOO+886z133HHHWfHZeXKlS0g+NFHH2XcMRoN0hbkdShR9H9o8uuariX777+//RZaDwMAAABIdxobTXkblaEMGTLE8jqUnSAVKYCn41MV/RWki5a7RCvletmDWuipBaC6AP34449Dhw4d4vl4fVaU1ivfryCipk8++cQ+x1v6cU4gUxD0A3KggIPfQJzGrlPTcbUoS7bsAh5+c1NLmiuuuCI0b97c+qVev369vV43p6zbnCy6mfo2qjZMsul36ftatGgRFi5caMuqjaObtf9mb3HFTTr9eU0riQZ2U41qkb355psW3NOxp5amOia1/Toe/XfoeP35558tc6XzVut1PWnXrl148sknw4oVKyzQlCz+2c8995zVeNM1w68nfm7lR8OGDeOJ6k8//dQSzC66nMr03+k/c/q/AAAAACDdafw+Ly854YQTwplnnrlDnhtINdHjU113fvPNN2HGjBnWXedbb71lvSqpBzId0yrjePrpp63nHpXZRuVUPqjXqQxj3bp19l163cknn5zvshEgVXCFB3KgC74u/B5QuuOOO+yGogLsl156ydYli3+nF8qLbjwffvhhaNKkSTj22GPD448/bi2G7rvvPmuqfs0119j2ZUrCzROk0Rtu27ZtbR/4b1Qf9NHEqoIt+t+yTkCyaCwEZaAmTpwYfv311zBt2jRLbA4bNixcdNFFVtvstNNO2+FY1DGtY3bz5s1h0qRJNki1ujB96KGH7Plk0Lnh26QAnVrm+fUlUdcMH9tT169obbqsNetSlVpj+rVXypQpkzHXUwAAAAB7FuU7VX6lsqy3337bHiuPo6EoNHeUmSAdHHjggVaBWlOrVq1snl/K70fLAIBMQmkWkAMPNukm8NVXX4W77rrLCsk17pO67UsmJbr0/ap1ou9UC5R7773Xgn1z5syx5zTp5uTBhKFDh1rXgQXR6q4geOsu/TYFANUXtwIqvl80jqD68l6zZk08eKGEKwlWFCQPCimwpQCgukxRFxQaWFr9zKtG2uuvv24BeZ2vo0aNskB1yZIl7Vj141zHsDJfCuB/9tlndh4nMvGpzN6DDz4YP3+2bNmyw+fn97zR56rVo1+XvHVfNLiYDqK1AjXeRSL/AwAAAAAoKMrjacwzDT2hPKAqgl544YXhqKOOir1iR8rLaQJSgR+PfkzqeM5aKVdlDXkpy4j28KPWg0AmIugH5MBvHCr0VXee3spPtUk0oGwy6bu90FyJM7Vou/32221bvDWbAgkKgnXv3t0eK+jwyCOPhAEDBtj7MoFu4JrGjBkTxo0bF/+dmo8ePdoK6NUFnx6LAii+HJXdOqSHVP3vsguY6VzNylus6vVKrCp4rcGoN2zYYOf4ww8/HJo2bWrHtV6nIJn6kZ8wYcIO4+Tl15dffmldiHqCWd/ty4mgz6pQoULsUQhLly61uXeZkS5UsUJ0Lfn+++/t/yPwBwAAACDdaIiHW265JV6hVHkd5T9F+bdofpAyE6QaHZM+ZUfHt4KAXraxO1O0jELlMEAmIugH5EIFvrqJ9O/f3x5rWS15dJNIJn2+gnui1j/qs1o3Ot2YWrZsacEAdRmobVELvz59+tiNTq+5//77wxtvvGHvFX2WBxySvd2JplaVGoT37rvvtsfafv1OdVOoBKu6R1TLR/3uihUrhmOOOSb+G9Ptt2JH+u9F/6Na0KUar2EWPc6yC24peKTX+utFy3qf5t26dbPz+7333rNWfrrm6HhWa+Lhw4cnLOA0a9Ys+05N5cqVCzVr1oy3MkwUXZv0+dr+KVOm2Dr/znTh+1u/QUFSXYd1zQEAAACAdOBBEHXrqXyZ8qnKe9522232vOdNleeJ0mNN6ZR/w57LG0TsbrmGjm+dE573V9DPyy20Put5AaQrgn5ADlT4rpvHsmXLrAaJ6OJ/xhlnJP0moM/XjUet9tStp24+SrjdfPPNYezYsTsEF/ScgmI9evSwx7pxaXw/bb9Ex/lLp5uXfoe2XWP4LVy40H6nqGaad6+qQInvi8aNG9t7/Dem02/F/1LAxY9bDcacqnZ2nOn5XZk0Vucvv/xi1xdPcF577bXh3HPPjX1S/syePTu2FELlypVtru9NtGR8ZjL5vvYWfTrmKlWqZI91DGrc1EQHRwEAAAAg0TyIoV5kNETME088Yfkzlat07drVykzEK4znJN3ydMCu8vy/zgFv4ef5fTUs0HNApiDoB+RAF34lmj799NP4DaF06dLWQkbrk3EziH6mgnv9+vWzdUq03XrrrdbiUAGQaCLMlwcPHhyqVq1qj1euXGm1uLTNHjiRdLqB+XarOwrfbnWNePHFF1uXgWrt+Mwzz9hv1P9x6aWX7hAMRXrzoLWO5z0p6PLSSy/ZuazfrHNA41bqfM4vZfT8PKpSpYrNk5WZy/q5yfqeRNI11mmAcO0rXU90HKbD9gMAAADYs3nZiOb//Oc/w7p16+JlV08++WS8vMR71QH2RCpn0TngZQAq7wUyEUE/IBe6GaiVmQp91XT8hBNO2OGGkMwgmgJcXtjcvn37eBejSrR5QEyJOfHt0Jh+fuPSshJ1eq2eT7eCa22zAq6qoaZt1+NevXqF4sWLx4OZq1evtrl+s7r2FN8nSG/6v3Wsi1pepRMdrz7tjH5n9Lcq8dmzZ8/QokWL+DrvKjMv9NmibnDdAQccYHM/rxLNr0/pIPpfabu1z71rZe2bkiVL2jIAAAAApCrlXVQuovKQt99+O9x+++3xsqMZM2bYsiavXAvsiaL5f4n2KqZzxdcDmYCgH7ATGm9LF38lji644AJLSPlNIVk3BAW3vABagUa19nFa77ymlt+0WrduHerVq2fbp8GaNbafP5dMyagppm3+4osv4q28Ro4cGWrVqmXL+t3aN+r6U3O1/CtTpkz8OaQ/da0oOg78fMtE0fNTx7J3JdyuXbv4b9f6vPLP9pZ+ehzN6Pnz+aXPad68eexRsHNT8rPtBcmPMV1ffT9p21XpIJOPPwAAAADpS3kVz78o4PfQQw+FNm3axPN8KltSt4VeOZpWfshEOv53ZYrSObFhw4bYo/+WCQCZgqAfkAMV+CropFpRuhnoBlCjRg17LuvNIlH0nbNmzQqPPvqoBbsUYBw4cOAufZ/foFTwrmV9Vp8+fZJ244pukwKMyXDJJZeE0047zVotaqwztbrx36OxtlRAryBfs2bNCPYhrelY1qQA9nfffRd69+4dD5gdccQRNt8d0fNe16+lS5faOav1OqeSoWLFivHvVeJZy+l6Xkb3X7Ku9wAAAACQH8qreH5Flb69hyjlLdUb0r333muPRXkzrSd/A2w/HzSEk1NA3IPjQCYg6AfkQIW+X375ZTxBpJvBvvvuazcBtZpJdEJJBfy66UydOtU+X2PWNWrUKNSpU2eHAuicaHuUgNN4YJoraLhkyRLrInNX3r+7vBtR+eWXX2JLieMBj9GjR4fLL7/cWvLpd7m77rrLulrVb7vyyitja4H0pWuLpuuvv97OZ53Dxx13nAW1d5dfn3R+fP/997bs508yrgdy0EEHxZa2B+UdCWcAAAAASKxovk4V1jt37hw2b95sj9ULlMqWvBKmB/wKW2550WTlU4GcqGc3pxayfr4AmYCgH5AL3QAUfFLhe5cuXUL58uXtJhANeCWKEmD6rokTJ8YTOyNGjIgHGXfHZZddZt05qOB/8eLFSUk8RROMW7ZsiS0llgf+nH6PBzPUfaCWVRtH458B6U7n+vz588OoUaPsnNU5rIybH/N5off6tcCvA4cddpjNE03XRbVU1HepW0zvH5+BsQEAAAAgea677rqwfv16G59cQ76MHTs2Xmaj/FgqBPyAwhYtW1E5yZQpU2KPtgfGqbCMTMJVH8jF8uXLba6bgcbW+/XXX+1xsmzatCl88skntqxWhRrDTgFHFZxnnXJz/PHH21yvmz17dvzGFr3B5ZcH5IoXL57QQv3o78spYar95K38FPRTMBZIJ36M+1zGjRsX/v73v9uyAmhHHXVUuPDCC+1xXvhnL1q0yOY6Z5WQrVatmj1OJL+2nHTSSfFKCj/++KOtVyAw+jtTkbbTt7FEiRI2F68pCwAAAACpRnm8jh07hmnTptlj5cWGDx8ez595HrCgKXiiMht9v/JZntfKLl/oZUuiHq9E66KTf0b0c7KuA3aVynhV1qrjVHOdL02bNqWlHzIKQT8gB7roq4s6zXXhb9eunXUx6c8lmhIynjhTIKtbt27xWibZtSzMLnGjx3q/+m4XfaYHERNNN0kF5ZSo/OGHH2Jr80/b71N29BvHjBkTDywowLlt2zZbBtKNH+fqSuKCCy6wZTnyyCNtfM/81MjUZyuj5RknPT788MOTVstT56auVbrueGJZ1wk9zul8TiV+PVXLZf0O1ZItW7asXV/0nD8PAAAAAIVJeRPls/r162e9RTkF/xo0aGBlSsr36XWFkRdTflB5KpVpRb8/uzxVNH+q8e3VLamGeYlOqsjqeTL9bpcO+UykHi9j9eC0jiMNrwRkEoJ+QA6U8FCLMilVqlQ80ZIs+r6NGzda4kwF5eXKlbPv1PpdSchEE3N77723zbVOn5Vdwiq/vGBfN8lktIbJ6TfreydMmBB//vzzz7fCeSAdPfXUUxZYevPNNy2xqVpmCgCqOxbZlXM/N7qe6HM1F7W603ckmgJj2taGDRvaNUvXnQ8++CB+DUsHfp1URlP7TBUL1PIyGfsLAAAAAPJKeZf+/fuHu+66y/ItyovdfvvtoVWrVva8Hmva1fKkRFN+UHkqL0PzvJbyh1q/dOlSG9aia9eu1luM8sTKq9aoUSO0bdvWynk0derUySZVil22bJn9nuhvSkZZFzKfyhVVhvH222/b8aTjVMdlsspPgcJA0A/IhbeQUY0Pb3WXLLrpqFs5zXXDqV69euyZ3BMy/lxOCTm19EtGobs+U4lLJdpKly4dW5s8+p26Aev7pk+fbvtJjjvuOJsD6UTH82mnnRYuvvjieNBc6+67774wfvx4C9zr+qOE5+7ya4Lmui5o/EtR4E8t/ZLBg4sKWPq5eccdd9jYfulC+0r7bN26dfa4cuXK8X0JAAAAAKnirLPOsryjqIzkzjvvDDfddJPlX/TYFUbAT9asWRM+/fTTMHjw4HDttddauc0+++xjFSo1RIzGmT/vvPPCs88+a60TfQiXaEBPlLfUFM1X6jeST0N+6BzRsaZyXk0qe1E5rNYX1jkDJBpBPyAH8+fPjy0F69YzmnBKBt1o5s6da4kXBdMOOOCAeELGC9F3R/PmzWNLyXHQQQfZ9mm7fcywZNI+8VaQHoxVwrFChQq2nEieiPT9L9FlJJ+OKyW2NEXHWEtX0WPqoYcesgSlumHx36jzVZmiHj16xGtDqqajL+8ufY8nVv180T5VC+Jk0PVR21qnTh0LLCpoqRbS+s50OXeU6P/iiy/iGcratWvHW0iK708AAAAAKEgKiHm+qnXr1tYzjMpGVFakLj579eplATUf+sTzmTnRZ3k5U3YVTX2IA6d8XXSu9yjv9Morr4QRI0aELl26hMaNG4dDDjnEemKqUqWKjZHWu3fv8M9//tN6gfnll1+sXEf02Zp8G/271KKvSZMm4frrr7fphhtusOnjjz+2VoC+rf5+f58HB6NT1tcATseEB/103qg8RmUaXu7LMYNMQNAPyMGqVatiS8ESLMmmG44Kyv3msnLlyngCSAmW3VWxYkWb6zMUTEy0aGG4J/ySSQEF7ZvJkyfHE3pKTPr6RNNn+uSP9b3eTQWSS/+tjjEdW55xSWee6XrttddCz5497XjydUOHDrXWq0cccUSezvVdpQRsrVq1Yo+SQ+ejMnTqWka1NlVhQr8xHeg4u/nmm+PbqwCprsuSLr8BAAAAQOZRPkv5FXXfqbyj5yc19Ila+KnCqPLO0crqO8vDeF5Hny3RvKjy49H3f/XVV2HkyJGhe/fulm/V99WtWzece+654dJLLw3PPfec9TKlciwvH/L3R4NwauWn4KAqcCuYp3Hs/Tm9T4/VU80999yzw+TjramMILpduf1GfSaQHQWfdfzr2PfzAMg0HNlAilDirGbNmnbDUeLEu5gTT4TtDn2GEk9677fffhtbmziHHnpobCmE5cuXx5aSR79H+0ZdH2pfablbt2723M4Ss7tLn+f/g7qZePDBB0P58uUtgaogxuOPPx57JZJFGRoFV3X8/vTTT7G16U9jF4iOsWbNmlnrvssvv9we+zGeH/qM7GhfKhOVzIC1vlvfofEYrr766tC+ffuEn5vJov2yYsUKq1SgjKSuMS+99JI9ly6/AQAAAEBmUu8tLVu2DDNmzLDHyjeOHj06tGvXzh7reZX/RCtn50Z5HM8bbt261eb6TOXnpkyZYkM16LOVt1M5iHp00dAUTz75ZPj888+zzbvqM5V/12douBr1AKP3PPbYY+Hdd9+1shUNbaFljaWmYJ5a9mm7/f16r392dHLRvFnW5ewmfw6I0nH60Ucf2TmQCZXMgewQ9ANy4K37lECItvpLJvVx7gkajZOXUwH+rmjRooXdyNQyTTWuEs23U/tHCbNk0/dof0yaNCmeONUAz8n6btViO/roo+0/ue6668LGjRvt+7U/VfsMyVW/fn0LvKgGlmcCMoFqMz711FPhkUceCTNnzrTakTquPJCdiN+aXaZG1wJ1W5HMfRn9HaK5ztX8XMcKgrZP3dKotqm2X9us8Rb9OQAAAAAoTOrJyXtwUh5Fwb8zzzzTHiuP50NDeF4wuzxhlAJwb731lgXe1FpPeUV9hoKGp5xySujfv7+VvagcRGUu+o5o3kjLJUuWtFZ7nTp1spZ+8+bNswrheq1aBqqCq7r2vOyyyyxg6cN2qBWh3u/5RuXBRO/z5ZyoPEay/j49jk7RdUB2dPzpnPHjEMg0HNlADjwxIR5kSrYGDRrEEznjxo3LVwJFQRPfbtXESjSvQabEmsbA0jyaCEwG3Yy9BaQShKpxlluiMBoQ1Osluo163veRasY9//zzVtiv/f6Pf/zDgnt63v+H/fbbLwwaNMheh+TSmJH+n61fv97mmUDH60UXXWSt+0THdDQzkogEp47x6LVDNdcUPNXxrkRtsmS37dGMZ2HTfsl6HdB1vmvXruGCCy6wFqX+XwwYMMCeT5VtBwAAAJC5fFzxaJ5F+bclS5bE8yQ+V+VRVVB2yodFyzmiVJ7hn6myFA3DoECdWvCpErUeq4tQPe9lH3q9l6XosT5f71EZiYamWLhwobUO3LBhQ5g9e7YN66DAX7169eKV5/UZygsqwOeP/bM1+broY38+NwpO6jV6bXTKKrt1gNMxpONXx4mOdXVZG8Xxg0xA0A/IQbR13652kZAfSmAdfPDBFnxSQkZjf6Wy6DiHy5Ytiye2dpZIyyslQhUI1VyJzmOOOSb2TM6iAcFoQMITsAsWLAjnnXeeddmpAGLnzp2tNpv2v36LEqgaZ/H888+3Qaq//PLL0KNHj3gCQL81Wb93T6dag9q3OvfWrl0bW4tdFa20EK1JqdqWeyqdt9oHOv+1rBbQlSpVCqNGjbLjTM9pPynYX7t27di7AAAAACC5VB4hnmcRlX+oi0yt27Jli81/+eUXazXnQULx/I2Xc3jFZnWjee+994YTTjjBAnBqLahuO9UiT/kevUevVQs8/06Na66WfnfffXeYOnWqfa/KqD7++OMwYsSI0KVLFxuWRtur94vKaDQ5rc9tysrX5fQ8kAzvvPNO/LgvVapU/LyJlqUA6YygH5ADb6GixItaySSbvk83GiWwdLNRIbQCTZKKgaUDDzzQgmPaP54w84RjMuhm/OKLL9p36Dtvu+222DM585u2z9UFxp133hlOPPFE+zwNBv36669bLTUFCLVOn6//+6STTrJ+5hVwUs01BQGUGCYRWjAU9HM//PBDbClz6bhK5Hnu56bo2NWxrRZ/+g7PDGaq3PajznVlnps3b261VdWKVIl67Z+zzjrL9pHGlQAAAACAZPE8SzTv4vk05U8UnFMFZVehQgUL9KmFnniQ0PN8qtB41113hWOPPdbKatRVp4YvUPmHyjX8deLLKg+56qqrwpgxY8Kbb75peSUFFVVG0rdv39C6dev49zjvolN825WXjU7JVhDfgT2LWr2qTFZUlgJkAoJ+QA6qVq0aT0z4wMYFoVWrVrGl7UEq1aoqiKDj7qpWrZolRrWPVGCuwIwH13IrdM8rfebYsWNtWd+p2m25mThxYrj11lvt5q0EsrZRgTwFC33wa32OPlfPqTXU8ccfb11laH+/8cYb/1P4r9dFE5hajj5G4lSuXNn2rf6LFStWxNZiVykj5+eht/TT/txTW/p5xlY1VtWiV93QOLUanj9/fnjhhRfsMec0AAAAgILkFREV+Hvssces3ELlK8qbtGvXziojKxih8qH33nsv3HLLLVaZWZVlld9ThUblddS6T8MWZFfhU10Y6jVq4aTn1XrvwQcftECh8kT6HMlpCBV9nrbJ85meb9J8V/NQ/trolFV264BE0jGmc0Pnkz92fnwD6e5P/3cwczQD2VCgoUaNGnYj2GeffcKaNWtizySHTkXdaNSvtMaOUy2TU0891caP29lpml2iSMEr7wJTLVhGjx5ty4mkRKGCMto+DdSsQKASgV5DJtH8d5YuXdr2iway1nfpO5Xw1X/1/vvvWytJT9xqWc97AlrbrMeq+aZuLjp06GDjeTn/Ds19WQEDvR8FR4F2tXx1fnzxX+TOrxXRa4K6361evbod+6qp+euvv8aeyUx+LfW5aID6IUOGWGZZx5DW6zqisfvUZe/mzZt3ON4AAAAAIFk8r+L5WwX9tO60006zbjVFzyuwpy46VSlZPZZoiBK91vM0nv9z+iyVgeg1Kg9q1qyZzTUGoLfaU7mIXud5pexE81JAJurdu7cFvXWsK1ju42Ry7CNTEPQDcqGaVAoQKXGUrNZ+fgr6TUWJt0ceecRuOmqpVr9+fXtNbjee7NarCwe1XBMFthI9RqASinXq1LFgjKgFkbY1WUEZJXLPPvtsK5zPKvr7fX/qP1NCV7St6tpClGi+8cYbbVnP70rT/dz2PZJHNQ4VzNUxpXHXzjjjDFufrKByJvDjX6LHrF/LRGM4ZB2oOhP4eRqdaxzOa6+9NkyZMiW+PxTwV4vqBx54wCp2EEQGAAAAUJCy5l0mTZoUOnbsGC/DEK3XpPywV2b29c5fo+ELVOahfI56RfLXeHDQRZdF3x+l532dvza6rdnJ+plAOtD5olavQtAPmYiSLiAXSlTpYh9NeCWLbiya1JXCNddcY7WxPOCXFwr6OfXVnmjaTrW88u3TAM+SrAJ0tcrzgJ9aLGnSf6Pt8H0nWqeb9VFHHRVuuukm6/dek/aH+qlXAMB5wM/f75+BwqfMyZVXXmnLOqZGjhxpGR0CfrtGx7JnCkUBetG+9FawmUrXAB0/quiga6gH/HS+awwMZajV/e8hhxxi6wEAAACgIHnZg7rZPP30060LT+XflN/Vc5or/+vlK55v0fzvf/+7VRBXPkdlHXqfhjDp16+fBf88L6jP1vtzyvNQ/oE9lcpEdI6psQBlTMhUBP2AXJQvX94KipOZGFICzCe1llMwS4EsD9rpu/353aEWUk6JwmTQNmn7NEUDCdFgQ6LoRqxuCV955ZVw9dVXWx/3Gqj69ttvD+PHjw+TJ0+2gn59t2rpaP+p6z7tS7XsES1HW/bp9eL7N6d9vLv7HvmnzIm6pRXt/2nTptm4a5LpQatE0P7zgLhogHbxzGOm0e/081mD3uvafc4551iFDe0HJeZ79epl1xC1IBXtBx1b/j4AAAAASAbPlznl11599dVQokSJeCVF5Us0fIrn45SXUfmG8i0KDGrIFuWFP/roI+u9SBXFVb6h9+rz9B6918svVLbk36t1mvTYp+xE10dfl9PrxV8XnYBUpvNE55aXIQKZiO49gVwcfvjh1j2cTpNZs2ZZizkvTE803WieffbZcOmll1qirm3bttZSRd/nibOc+POeuJPosmp4RYNdiaDEZqdOncLrr79uj9X9phKd2l79llSpLZN1v2S1s+dRePTf9O3bNwwcONCOpzJlytig5Pq/dJzpuFZGBjmLHt+qVCANGza0ebrRNSe7a6//Rg1mP3ToUBsXVXTNU0ZZ19JBgwZZyz6OFwAAAACFafHixeGSSy4Js2fPtryMROfK+yrP1rp1a3vdfvvtZ895PljTzkTzgc4f+3dFZX0tkOlUGVgNBnQ+qaWsusUVzgVkClr6AbkoV65cbCmE0qVLWzAuGQE/UcJOwTIlwDTX4M1eS2tXWjZFb0was0s3LhVwK1CSjJY92jbVivHaZ3rsic9UCfjtCm7oqUv/TdeuXW1Zx9i6detChQoVwsKFC21dslvhZprq1avblK50jfH/22vk6fHNN99sLfnU8tcDftKiRQsbC3Ls2LEW8Et0xQcAAAAAyCq3POqmTZtCrVq1rFK5ynn0WuVtlPc95ZRTrFK1yljUmu+6664LBx10kL1PeSEvj9JrdzapbCbrOpd1ffQ5YE+j419lp97SFsgUBP2AXPztb3+zRJgSTL///rvdBHJLwOWXbjAKmOk7lAA8++yz4+tzkl0CTWOh6TPUEqpNmzbxYFyiqSDdE6nffPONzVMNCdj0peOpZs2a4YUXXoitCWHjxo3hyCOPtG5e9bz+X2WKkD0//nWelipVyqZ0pt+j/33JkiXhwgsvtO5w1IpP12c9p8e65qnrm7feesuuofrtSsRzLQAAAACQbLnlO1RuovIZ5VEUwFPlxeeff97G5pswYUJo3769lQVpUsVzvU5lRB7sA5AYqjysisE615o0aWLnmJfHApmAoB+Qi7Jly9pciavvvvsu6Qmtm266yQIY+g61YhkzZox1/bA7N50+ffqEOXPmxN8zfPhwmydDtWrVbK5E6/Lly22bJRWDf0gvOg+8dmKHDh3C3Llz4+ejAjxqAajzQ2jBlTtdC7QffUpXSoyrxqv++zp16lgrPh0L/v+ffPLJFiCeNGmSjQfp16OsxwfXJwAAAACFwfMxasW3YMGCsGXLlnDeeedZWZMoD+zLmZCHA1LV8ccfby1vVV7igXaVFeixT0A6I+gH5EAX+AYNGlgCSxf/8ePH2zwZ9F0K1G3dujUUK1YsHuzQ9ymwoXVZeSsnL9gWdQWh8c/0PrVs6dKlS7x2WDIccMABtg3aFvVH7+NlafuB/IgGanT8azzNX375JVStWtVamOpcOffcc0Pnzp1jr0JO0iWT6NfXrNcrrVflhzPOOMPGDX3uuediz2x31FFHWR/8av2pwJ9ff7yb4azXI65PAAAAAArLmWeeGR544AHr5lOUP8kpz0LgAUgOnWNe7qRAuyY/F1WGki7lKEBO/vR/NxDuIEA2FExTFwsaQ0yniWqBTJw40QqS1W1mdoG4vFLQrHHjxjYWn240amY+YMCA2LPbC72z3nCyPv7www9tIFp1Beo3KHVvp0JyfX7WRGQirF27NlSpUsU+X9+rKev3aN9xs0Qi1atXL3zxxRfxDFDHjh3Dq6++aueJ14pE+vHrnE9q7anr2qOPPmoBPdH1RddgXZ9PPfXUcP3114emTZvaNUj/PccAAAAAgHSTtdzE87qUpQAA8oLq7kAuypQpEy9AVgDNA2qJ6E5QgUNRIfWTTz5pAT+NR7X33nuH/v3723d7LZNhw4bZa6Oi45ipwLtHjx72WSVLlrTHrVq1soCfaJuVaPSEY3745+j7tY3169ePr9c4Wvpuf40mfw5IBAXiP/vsM+vi0TNAY8eODeXKlbNzNNryFenFr1O6NqrV8mmnnWbXMS2Lrru6Hp900klh+vTp1uKvWbNm8YCf3kvADwAAAEC6yRrcy/oYAIDdQUs/IAc6NTRe1H777Rc2btxorUvU37oCa/lt5eenneYKJGrwZiXq9NlDhgyxAN6gQYPCjTfeaEEMBf70uihPBOr5fv36hXvuucc+TwXj6nbzk08+sUBIVolOPM6aNSs0b948FClSxPaL9lV2lxUSrUgUnSdy7733hjvuuCMeQJc2bdqEK664wlqBIf2oBWffvn1tXD5d9xTQ07VD1xT9t+oGp0aNGrFX/7cLTx0DOXXnCQAAAAAAAOwpKBkDslDhsrdWUwDthBNOsLkKkidMmJCQAmUVYus7VFB9//332zp9X6lSpSzgp1Z0Gtj5yCOPjD+n7502bZoF/7w1k4KSGmtQBeHihePPP/+8fVZ29Hxe6H1Z36vHaumncda0TRpn7YMPPrBlf622iYAfEkmtuXRMqRvc1157zc5PBXx0jqi1n8Z+UytUnRvZHbdITbom/v3vf7eAn1839J9qnL5FixaFcePGhdq1a9s6/d8e5BONJ6r1mgAAAAAAAIA9FS39gByoAFoFyBor7KyzzrJ1rVu3DlOnTo0/lx869T799FMby8+7ppszZ05o1KiRtWTSOhV0N2jQIN6VpwrBNZ7ZeeedF0qXLm3dGs6cOTMeZNN73njjDesSL6ftS0YAToEXDUat79cYXB6sBJLJA+fqGlcBeQXQ/Zbmc50HHTp0CL1797ZzSYEivS96HiTjnMDu0TVOlQbKly9v/5n+I11vR4wYER83VOv1v/J/AQAAAAAAANkj6AfkIFq4rLH2NJaYHq9Zs8YCbmpdlJtdKZxWAff69eutW0y1KFTgwimQp1Z9S5YsCVdeeaV1o6nWLApy6HM1qSBcgTZ1ramWfVOmTLHAhj+fnZ1t0+5QcFKT9sXatWvDihUrCPihQKm1q84Bb/X12GOPWXe3Ok/9HNRcr3n//fdDkyZN7HVRiTwnkDe6run6pvEaVXFA4/YdeOCB9t/p+uKBWv4rAAAAAAAAIGf0gwXkIFq43L59+9hSCN27d7cAQn6pFYvGCPSCbHVdp4JtTQqkKYihYJ6CeCoEHz58+A7d2el1rnPnzhbkUCtAbVvWVn7+HdHflAj6Lg9+VqhQgYAfCpwC5jpPnMbz++mnnywAfuKJJ9o6Hfc6VvW6rGNjIjXoOqIAn7oL1n948MEH2/XO10evaXoMAAAAAAAA4H/R0g/IgU6NaJBMhc8KGChwoNZF4gXR2bVCyfr+qI4dO1rXnHpenzd79mwL2EnWgF1W6gL0k08+sa7wSpYsGS6++OL4e6LByOipndN2AOkqt/NLdE7qvNDr1AWuAunqSldj/akVrc47zovC59cp/RfR5ez4f76z/x4AAAAAAADYUxH0A3aRxqwbM2aMLXft2jU89dRTthwNLkQLovVYkwIM6rZOyxs3brQu69SVndbr9f/85z+tZYvsLODnFMDQa/Xd2bU6zHpaU0COPZGfk5orUK/Avc4bX8d5kVr4TwAAAAAAAID8IegH7CIF7MqVK2cBPAXsFLgTFVIrCJe15ZCfWv78ww8/HHr16mVd1ilQpzECBw0aZOv0fHbBuyh9Z7R7zz/++MMe6/OjheXZndLR7QL2JNFzQ/xx1vUofPwnAAAAAAAAQP7sWrMiANYtoMbhU4shBenOPfdcC9Sp5ZAH38SDbl6AvWnTpnDCCSdYcE+v9RZ+6qKzZ8+e9tqdBfwkGvATvce/M+t363F0AvDfc1LnIFIP1yoAAAAAAAAgf2jpB+winSqbN28O5cuXj3evWbZs2fDtt9+GUqVKxV61o4EDB4a+fftaYbZaAuoz1FJw6tSpoVatWhZIdPo8D0r4PD8S8RkAAAAAAAAAACA9EPQDdtPLL78czj//fFv2wFqnTp3CGWecYQFBdfv5888/h6uuuspa+SmYp4CfuuPs169fuP32221Z66L0OgAAAAAAAAAAgLwg6AfsIh93T0G9t99+O5xzzjnxrj5Fp5ICef/5z3/ir/XnFAycNGlSaNq06Q6t+aJolQcAAAAAAAAAAPKKpkXALvJx9/baa69w/PHHh40bN4Y2bdrEg3UK4ing58E8BfxatWoVhgwZEtauXWsBP/GAn0++DgAAAAAAAAAAIK9o6QfshuxOly1btoTJkyeHGTNmxNZspyBfhw4dQvHixS0YqFaABPcAAAAAAAAAAEAyEPQDEuBf//rX/4zRpwCfugItWrRobA0AAAAAAAAAAEByEPQDdpFOlawt9bROAT91+ZmVWvf9+c/0oAsAAAAAAAAAAJKPiASwi6IBv12JlSvgR0wdAAAAAAAAAAAUBFr6AfmkFn3OA4OM3QcAAAAAAAAAAAoSLf2AfPIuPBXo8wkAAAAAAAAAAKAg0dIPAAAAAAAAAAAASHO09AMAAAAAAAAAAADSHEE/AAAAAAAAAAAAIM0R9AMAAAAAAAAAAADSHEE/AAAAAAAAAAAAIM0R9AMAAAAAAAAAAADSHEE/AAAAAAAAAAAAIM0R9AMAAAAAAAAAAADSHEE/AAAAAAAAAAAAIM0R9AMAAAAAAAAAAADSHEE/AAAAAAAAAAAAIM0R9AMAAAAAAAAAAADSHEE/AAAAAAAAAAAAIM0R9AMAAAAAAAAAAADSHEE/AAAAAAAAAAAAIM0R9AMAAAAAAAAAAADSHEE/AAAAAAAAAAAAIM0R9AMAAAAAAAAAAADSHEE/AAAAAAAAAAAAIM0R9AMAAAAAAAAAAADSHEE/AAAAAAAAAAAAIM0R9AMAAAAAAAAAAADSHEE/AAAAAAAAAAAAIM0R9AMAAAAAAAAAAADSHEE/AAAAAAAAAAAAIM0R9AMAAAAAAAAAAADSHEE/AAAAAAAAAAAAIM0R9AMAAAAAAAAAAADSHEE/AAAAAAAAAAAAIM0R9AMAAAAAAAAAAADSHEE/AAAAAAAAAAAAIM0R9AMAAAAAAAAAAADSHEE/AAAAAAAAAAAAIM0R9AMAAAAAAAAAAADSHEE/AAAAAAAAAAAAIM0R9AMAAAAAAAAAAADSHEE/AAAAAAAAAAAAIM0R9AMAAAAAAAAAAADSHEE/AAAAAAAAAAAAIK2F8P8DZz3cHf1BOBoAAAAASUVORK5CYII=)"
      ],
      "metadata": {
        "id": "rvtI0FLh_WFb"
      }
    },
    {
      "cell_type": "code",
      "source": [
        "d = {'col1': [1, 2], 'col2': [3, 4]}\n",
        "\n",
        "df = pd.Series(d)\n",
        "print(df)\n"
      ],
      "metadata": {
        "colab": {
          "base_uri": "https://localhost:8080/"
        },
        "id": "Tl65Tr-d_YAW",
        "outputId": "cabadfee-36ec-435e-a262-ae63ec16e1ab"
      },
      "execution_count": null,
      "outputs": [
        {
          "output_type": "stream",
          "name": "stdout",
          "text": [
            "col1    [1, 2]\n",
            "col2    [3, 4]\n",
            "dtype: object\n",
            "1 (2,)\n"
          ]
        }
      ]
    },
    {
      "cell_type": "code",
      "source": [
        "print(df.ndim, df.shape, type(df) )"
      ],
      "metadata": {
        "colab": {
          "base_uri": "https://localhost:8080/"
        },
        "id": "wqezyXqx_6wz",
        "outputId": "cd86cd6d-8bb6-4aa2-d871-b2a01d87b1b5"
      },
      "execution_count": null,
      "outputs": [
        {
          "output_type": "stream",
          "name": "stdout",
          "text": [
            "1 (2,) <class 'pandas.core.series.Series'>\n"
          ]
        }
      ]
    },
    {
      "cell_type": "code",
      "source": [
        "d = {'col1': [1, 2], 'col2': [3, 4]}\n",
        "\n",
        "df = pd.DataFrame(d)\n",
        "print(df)"
      ],
      "metadata": {
        "colab": {
          "base_uri": "https://localhost:8080/"
        },
        "id": "HIM8Smpn-iqN",
        "outputId": "b196bce2-25bc-46f5-b975-750dda6face2"
      },
      "execution_count": null,
      "outputs": [
        {
          "output_type": "stream",
          "name": "stdout",
          "text": [
            "   col1  col2\n",
            "0     1     3\n",
            "1     2     4\n"
          ]
        }
      ]
    },
    {
      "cell_type": "code",
      "source": [
        "df.ndim\n"
      ],
      "metadata": {
        "colab": {
          "base_uri": "https://localhost:8080/"
        },
        "id": "mIYg_rui--CY",
        "outputId": "520cc564-e560-4d85-d22d-849dc61ba308"
      },
      "execution_count": null,
      "outputs": [
        {
          "output_type": "execute_result",
          "data": {
            "text/plain": [
              "2"
            ]
          },
          "metadata": {},
          "execution_count": 31
        }
      ]
    },
    {
      "cell_type": "code",
      "source": [
        "df.shape"
      ],
      "metadata": {
        "colab": {
          "base_uri": "https://localhost:8080/"
        },
        "id": "0m-RMXBh_Cl0",
        "outputId": "f3e5ad8e-ed6c-4843-dca8-6492887bd488"
      },
      "execution_count": null,
      "outputs": [
        {
          "output_type": "execute_result",
          "data": {
            "text/plain": [
              "(2, 2)"
            ]
          },
          "metadata": {},
          "execution_count": 32
        }
      ]
    },
    {
      "cell_type": "code",
      "source": [
        "type(df)"
      ],
      "metadata": {
        "colab": {
          "base_uri": "https://localhost:8080/",
          "height": 203
        },
        "id": "ufE3fzva_DzL",
        "outputId": "445ea3c5-862a-41e4-e3a7-79d912a14496"
      },
      "execution_count": null,
      "outputs": [
        {
          "output_type": "execute_result",
          "data": {
            "text/plain": [
              "pandas.core.frame.DataFrame"
            ],
            "text/html": [
              "<div style=\"max-width:800px; border: 1px solid var(--colab-border-color);\"><style>\n",
              "      pre.function-repr-contents {\n",
              "        overflow-x: auto;\n",
              "        padding: 8px 12px;\n",
              "        max-height: 500px;\n",
              "      }\n",
              "\n",
              "      pre.function-repr-contents.function-repr-contents-collapsed {\n",
              "        cursor: pointer;\n",
              "        max-height: 100px;\n",
              "      }\n",
              "    </style>\n",
              "    <pre style=\"white-space: initial; background:\n",
              "         var(--colab-secondary-surface-color); padding: 8px 12px;\n",
              "         border-bottom: 1px solid var(--colab-border-color);\"><b>pandas.core.frame.DataFrame</b><br/>def __init__(data=None, index: Axes | None=None, columns: Axes | None=None, dtype: Dtype | None=None, copy: bool | None=None) -&gt; None</pre><pre class=\"function-repr-contents function-repr-contents-collapsed\" style=\"\"><a class=\"filepath\" style=\"display:none\" href=\"#\">/usr/local/lib/python3.10/dist-packages/pandas/core/frame.py</a>Two-dimensional, size-mutable, potentially heterogeneous tabular data.\n",
              "\n",
              "Data structure also contains labeled axes (rows and columns).\n",
              "Arithmetic operations align on both row and column labels. Can be\n",
              "thought of as a dict-like container for Series objects. The primary\n",
              "pandas data structure.\n",
              "\n",
              "Parameters\n",
              "----------\n",
              "data : ndarray (structured or homogeneous), Iterable, dict, or DataFrame\n",
              "    Dict can contain Series, arrays, constants, dataclass or list-like objects. If\n",
              "    data is a dict, column order follows insertion-order. If a dict contains Series\n",
              "    which have an index defined, it is aligned by its index. This alignment also\n",
              "    occurs if data is a Series or a DataFrame itself. Alignment is done on\n",
              "    Series/DataFrame inputs.\n",
              "\n",
              "    If data is a list of dicts, column order follows insertion-order.\n",
              "\n",
              "index : Index or array-like\n",
              "    Index to use for resulting frame. Will default to RangeIndex if\n",
              "    no indexing information part of input data and no index provided.\n",
              "columns : Index or array-like\n",
              "    Column labels to use for resulting frame when data does not have them,\n",
              "    defaulting to RangeIndex(0, 1, 2, ..., n). If data contains column labels,\n",
              "    will perform column selection instead.\n",
              "dtype : dtype, default None\n",
              "    Data type to force. Only a single dtype is allowed. If None, infer.\n",
              "copy : bool or None, default None\n",
              "    Copy data from inputs.\n",
              "    For dict data, the default of None behaves like ``copy=True``.  For DataFrame\n",
              "    or 2d ndarray input, the default of None behaves like ``copy=False``.\n",
              "    If data is a dict containing one or more Series (possibly of different dtypes),\n",
              "    ``copy=False`` will ensure that these inputs are not copied.\n",
              "\n",
              "    .. versionchanged:: 1.3.0\n",
              "\n",
              "See Also\n",
              "--------\n",
              "DataFrame.from_records : Constructor from tuples, also record arrays.\n",
              "DataFrame.from_dict : From dicts of Series, arrays, or dicts.\n",
              "read_csv : Read a comma-separated values (csv) file into DataFrame.\n",
              "read_table : Read general delimited file into DataFrame.\n",
              "read_clipboard : Read text from clipboard into DataFrame.\n",
              "\n",
              "Notes\n",
              "-----\n",
              "Please reference the :ref:`User Guide &lt;basics.dataframe&gt;` for more information.\n",
              "\n",
              "Examples\n",
              "--------\n",
              "Constructing DataFrame from a dictionary.\n",
              "\n",
              "&gt;&gt;&gt; d = {&#x27;col1&#x27;: [1, 2], &#x27;col2&#x27;: [3, 4]}\n",
              "&gt;&gt;&gt; df = pd.DataFrame(data=d)\n",
              "&gt;&gt;&gt; df\n",
              "   col1  col2\n",
              "0     1     3\n",
              "1     2     4\n",
              "\n",
              "Notice that the inferred dtype is int64.\n",
              "\n",
              "&gt;&gt;&gt; df.dtypes\n",
              "col1    int64\n",
              "col2    int64\n",
              "dtype: object\n",
              "\n",
              "To enforce a single dtype:\n",
              "\n",
              "&gt;&gt;&gt; df = pd.DataFrame(data=d, dtype=np.int8)\n",
              "&gt;&gt;&gt; df.dtypes\n",
              "col1    int8\n",
              "col2    int8\n",
              "dtype: object\n",
              "\n",
              "Constructing DataFrame from a dictionary including Series:\n",
              "\n",
              "&gt;&gt;&gt; d = {&#x27;col1&#x27;: [0, 1, 2, 3], &#x27;col2&#x27;: pd.Series([2, 3], index=[2, 3])}\n",
              "&gt;&gt;&gt; pd.DataFrame(data=d, index=[0, 1, 2, 3])\n",
              "   col1  col2\n",
              "0     0   NaN\n",
              "1     1   NaN\n",
              "2     2   2.0\n",
              "3     3   3.0\n",
              "\n",
              "Constructing DataFrame from numpy ndarray:\n",
              "\n",
              "&gt;&gt;&gt; df2 = pd.DataFrame(np.array([[1, 2, 3], [4, 5, 6], [7, 8, 9]]),\n",
              "...                    columns=[&#x27;a&#x27;, &#x27;b&#x27;, &#x27;c&#x27;])\n",
              "&gt;&gt;&gt; df2\n",
              "   a  b  c\n",
              "0  1  2  3\n",
              "1  4  5  6\n",
              "2  7  8  9\n",
              "\n",
              "Constructing DataFrame from a numpy ndarray that has labeled columns:\n",
              "\n",
              "&gt;&gt;&gt; data = np.array([(1, 2, 3), (4, 5, 6), (7, 8, 9)],\n",
              "...                 dtype=[(&quot;a&quot;, &quot;i4&quot;), (&quot;b&quot;, &quot;i4&quot;), (&quot;c&quot;, &quot;i4&quot;)])\n",
              "&gt;&gt;&gt; df3 = pd.DataFrame(data, columns=[&#x27;c&#x27;, &#x27;a&#x27;])\n",
              "...\n",
              "&gt;&gt;&gt; df3\n",
              "   c  a\n",
              "0  3  1\n",
              "1  6  4\n",
              "2  9  7\n",
              "\n",
              "Constructing DataFrame from dataclass:\n",
              "\n",
              "&gt;&gt;&gt; from dataclasses import make_dataclass\n",
              "&gt;&gt;&gt; Point = make_dataclass(&quot;Point&quot;, [(&quot;x&quot;, int), (&quot;y&quot;, int)])\n",
              "&gt;&gt;&gt; pd.DataFrame([Point(0, 0), Point(0, 3), Point(2, 3)])\n",
              "   x  y\n",
              "0  0  0\n",
              "1  0  3\n",
              "2  2  3\n",
              "\n",
              "Constructing DataFrame from Series/DataFrame:\n",
              "\n",
              "&gt;&gt;&gt; ser = pd.Series([1, 2, 3], index=[&quot;a&quot;, &quot;b&quot;, &quot;c&quot;])\n",
              "&gt;&gt;&gt; df = pd.DataFrame(data=ser, index=[&quot;a&quot;, &quot;c&quot;])\n",
              "&gt;&gt;&gt; df\n",
              "   0\n",
              "a  1\n",
              "c  3\n",
              "\n",
              "&gt;&gt;&gt; df1 = pd.DataFrame([1, 2, 3], index=[&quot;a&quot;, &quot;b&quot;, &quot;c&quot;], columns=[&quot;x&quot;])\n",
              "&gt;&gt;&gt; df2 = pd.DataFrame(data=df1, index=[&quot;a&quot;, &quot;c&quot;])\n",
              "&gt;&gt;&gt; df2\n",
              "   x\n",
              "a  1\n",
              "c  3</pre>\n",
              "      <script>\n",
              "      if (google.colab.kernel.accessAllowed && google.colab.files && google.colab.files.view) {\n",
              "        for (const element of document.querySelectorAll('.filepath')) {\n",
              "          element.style.display = 'block'\n",
              "          element.onclick = (event) => {\n",
              "            event.preventDefault();\n",
              "            event.stopPropagation();\n",
              "            google.colab.files.view(element.textContent, 490);\n",
              "          };\n",
              "        }\n",
              "      }\n",
              "      for (const element of document.querySelectorAll('.function-repr-contents')) {\n",
              "        element.onclick = (event) => {\n",
              "          event.preventDefault();\n",
              "          event.stopPropagation();\n",
              "          element.classList.toggle('function-repr-contents-collapsed');\n",
              "        };\n",
              "      }\n",
              "      </script>\n",
              "      </div>"
            ]
          },
          "metadata": {},
          "execution_count": 40
        }
      ]
    },
    {
      "cell_type": "markdown",
      "source": [
        "**2. Create DataFrame using Nested List**\n",
        "\n",
        "- A list which can be converted to 2D array, that particular list can be converted to a DataFrame\n",
        "- A list which can't be converted to 2D array, that list can't be converted to a DataFrame"
      ],
      "metadata": {
        "id": "4Xl8nzLTAdHP"
      }
    },
    {
      "cell_type": "code",
      "source": [
        "l = [[1,2,3], [4, 5, 6]]\n",
        "\n",
        "a = np.array(l)\n",
        "print(a)"
      ],
      "metadata": {
        "colab": {
          "base_uri": "https://localhost:8080/"
        },
        "id": "t_z4Coi-AH2R",
        "outputId": "8af30fb8-0c83-4f05-94a5-cd41fbbf4feb"
      },
      "execution_count": null,
      "outputs": [
        {
          "output_type": "stream",
          "name": "stdout",
          "text": [
            "[[1 2 3]\n",
            " [4 5 6]]\n"
          ]
        }
      ]
    },
    {
      "cell_type": "code",
      "source": [
        "l = [[1,2,3], [4,5,6]]\n",
        "df = pd.DataFrame(l,index=[\"a\",\"b\"], columns=[\"s\",\"r\",\"k\"])\n",
        "print(df)"
      ],
      "metadata": {
        "colab": {
          "base_uri": "https://localhost:8080/"
        },
        "id": "91TMZAXhAsze",
        "outputId": "38fadad1-c530-4b19-8aa5-555ca596a285"
      },
      "execution_count": null,
      "outputs": [
        {
          "output_type": "stream",
          "name": "stdout",
          "text": [
            "   s  r  k\n",
            "a  1  2  3\n",
            "b  4  5  6\n"
          ]
        }
      ]
    },
    {
      "cell_type": "markdown",
      "source": [
        "**3. Create DataFrame using 2-D Array**"
      ],
      "metadata": {
        "id": "JtiY4-UmA26I"
      }
    },
    {
      "cell_type": "code",
      "source": [
        "arr_2d = np.array([[1, 2, 3], [4,5, 6]])\n",
        "\n",
        "df2 = pd.DataFrame(arr_2d,index=[\"a\",\"b\"],columns=[\"i\",\"j\",\"k\"])\n",
        "print(df2)"
      ],
      "metadata": {
        "colab": {
          "base_uri": "https://localhost:8080/"
        },
        "id": "wJtGMcWwAuWq",
        "outputId": "3f39167b-a36c-4b37-dabd-d55b9e6bdf5b"
      },
      "execution_count": null,
      "outputs": [
        {
          "output_type": "stream",
          "name": "stdout",
          "text": [
            "   i  j  k\n",
            "a  1  2  3\n",
            "b  4  5  6\n"
          ]
        }
      ]
    },
    {
      "cell_type": "markdown",
      "source": [
        "# **How to access data in pandas**"
      ],
      "metadata": {
        "id": "s2WmdItcBFOk"
      }
    },
    {
      "cell_type": "code",
      "source": [
        "d = {'Age': [22, 30, 23, 25, 24],\n",
        "'Salary':[17000,17000,46000,42000, 55000],\n",
        "'Gender' : [\"M\", \"F\", \"M\",\"M\", \"F\"]}\n",
        "\n",
        "df = pd.DataFrame(d)\n",
        "print(df)"
      ],
      "metadata": {
        "colab": {
          "base_uri": "https://localhost:8080/"
        },
        "id": "zMUo2m6RBDh_",
        "outputId": "05ec86ab-5e56-4016-eecf-45f657272a88"
      },
      "execution_count": null,
      "outputs": [
        {
          "output_type": "stream",
          "name": "stdout",
          "text": [
            "   Age  Salary Gender\n",
            "0   22   17000      M\n",
            "1   30   17000      F\n",
            "2   23   46000      M\n",
            "3   25   42000      M\n",
            "4   24   55000      F\n"
          ]
        }
      ]
    },
    {
      "cell_type": "code",
      "source": [
        "# Options to extract a single column with all rows\n",
        "\n",
        "df.iloc[2,1]"
      ],
      "metadata": {
        "colab": {
          "base_uri": "https://localhost:8080/"
        },
        "id": "Lnyguf00A9Jw",
        "outputId": "6d85efff-f209-43d3-99da-af452afe2c4d"
      },
      "execution_count": null,
      "outputs": [
        {
          "output_type": "execute_result",
          "data": {
            "text/plain": [
              "46000"
            ]
          },
          "metadata": {},
          "execution_count": 45
        }
      ]
    },
    {
      "cell_type": "code",
      "source": [
        "df.iloc[:, [1,2]]"
      ],
      "metadata": {
        "colab": {
          "base_uri": "https://localhost:8080/",
          "height": 206
        },
        "id": "VElP26FuC3ZU",
        "outputId": "8e2d9af8-806c-4369-f6cd-41877bcfc86f"
      },
      "execution_count": null,
      "outputs": [
        {
          "output_type": "execute_result",
          "data": {
            "text/plain": [
              "   Salary Gender\n",
              "0   17000      M\n",
              "1   17000      F\n",
              "2   46000      M\n",
              "3   42000      M\n",
              "4   55000      F"
            ],
            "text/html": [
              "\n",
              "  <div id=\"df-05d04d34-f9d3-48d0-8119-9f572f46ef6e\" class=\"colab-df-container\">\n",
              "    <div>\n",
              "<style scoped>\n",
              "    .dataframe tbody tr th:only-of-type {\n",
              "        vertical-align: middle;\n",
              "    }\n",
              "\n",
              "    .dataframe tbody tr th {\n",
              "        vertical-align: top;\n",
              "    }\n",
              "\n",
              "    .dataframe thead th {\n",
              "        text-align: right;\n",
              "    }\n",
              "</style>\n",
              "<table border=\"1\" class=\"dataframe\">\n",
              "  <thead>\n",
              "    <tr style=\"text-align: right;\">\n",
              "      <th></th>\n",
              "      <th>Salary</th>\n",
              "      <th>Gender</th>\n",
              "    </tr>\n",
              "  </thead>\n",
              "  <tbody>\n",
              "    <tr>\n",
              "      <th>0</th>\n",
              "      <td>17000</td>\n",
              "      <td>M</td>\n",
              "    </tr>\n",
              "    <tr>\n",
              "      <th>1</th>\n",
              "      <td>17000</td>\n",
              "      <td>F</td>\n",
              "    </tr>\n",
              "    <tr>\n",
              "      <th>2</th>\n",
              "      <td>46000</td>\n",
              "      <td>M</td>\n",
              "    </tr>\n",
              "    <tr>\n",
              "      <th>3</th>\n",
              "      <td>42000</td>\n",
              "      <td>M</td>\n",
              "    </tr>\n",
              "    <tr>\n",
              "      <th>4</th>\n",
              "      <td>55000</td>\n",
              "      <td>F</td>\n",
              "    </tr>\n",
              "  </tbody>\n",
              "</table>\n",
              "</div>\n",
              "    <div class=\"colab-df-buttons\">\n",
              "\n",
              "  <div class=\"colab-df-container\">\n",
              "    <button class=\"colab-df-convert\" onclick=\"convertToInteractive('df-05d04d34-f9d3-48d0-8119-9f572f46ef6e')\"\n",
              "            title=\"Convert this dataframe to an interactive table.\"\n",
              "            style=\"display:none;\">\n",
              "\n",
              "  <svg xmlns=\"http://www.w3.org/2000/svg\" height=\"24px\" viewBox=\"0 -960 960 960\">\n",
              "    <path d=\"M120-120v-720h720v720H120Zm60-500h600v-160H180v160Zm220 220h160v-160H400v160Zm0 220h160v-160H400v160ZM180-400h160v-160H180v160Zm440 0h160v-160H620v160ZM180-180h160v-160H180v160Zm440 0h160v-160H620v160Z\"/>\n",
              "  </svg>\n",
              "    </button>\n",
              "\n",
              "  <style>\n",
              "    .colab-df-container {\n",
              "      display:flex;\n",
              "      gap: 12px;\n",
              "    }\n",
              "\n",
              "    .colab-df-convert {\n",
              "      background-color: #E8F0FE;\n",
              "      border: none;\n",
              "      border-radius: 50%;\n",
              "      cursor: pointer;\n",
              "      display: none;\n",
              "      fill: #1967D2;\n",
              "      height: 32px;\n",
              "      padding: 0 0 0 0;\n",
              "      width: 32px;\n",
              "    }\n",
              "\n",
              "    .colab-df-convert:hover {\n",
              "      background-color: #E2EBFA;\n",
              "      box-shadow: 0px 1px 2px rgba(60, 64, 67, 0.3), 0px 1px 3px 1px rgba(60, 64, 67, 0.15);\n",
              "      fill: #174EA6;\n",
              "    }\n",
              "\n",
              "    .colab-df-buttons div {\n",
              "      margin-bottom: 4px;\n",
              "    }\n",
              "\n",
              "    [theme=dark] .colab-df-convert {\n",
              "      background-color: #3B4455;\n",
              "      fill: #D2E3FC;\n",
              "    }\n",
              "\n",
              "    [theme=dark] .colab-df-convert:hover {\n",
              "      background-color: #434B5C;\n",
              "      box-shadow: 0px 1px 3px 1px rgba(0, 0, 0, 0.15);\n",
              "      filter: drop-shadow(0px 1px 2px rgba(0, 0, 0, 0.3));\n",
              "      fill: #FFFFFF;\n",
              "    }\n",
              "  </style>\n",
              "\n",
              "    <script>\n",
              "      const buttonEl =\n",
              "        document.querySelector('#df-05d04d34-f9d3-48d0-8119-9f572f46ef6e button.colab-df-convert');\n",
              "      buttonEl.style.display =\n",
              "        google.colab.kernel.accessAllowed ? 'block' : 'none';\n",
              "\n",
              "      async function convertToInteractive(key) {\n",
              "        const element = document.querySelector('#df-05d04d34-f9d3-48d0-8119-9f572f46ef6e');\n",
              "        const dataTable =\n",
              "          await google.colab.kernel.invokeFunction('convertToInteractive',\n",
              "                                                    [key], {});\n",
              "        if (!dataTable) return;\n",
              "\n",
              "        const docLinkHtml = 'Like what you see? Visit the ' +\n",
              "          '<a target=\"_blank\" href=https://colab.research.google.com/notebooks/data_table.ipynb>data table notebook</a>'\n",
              "          + ' to learn more about interactive tables.';\n",
              "        element.innerHTML = '';\n",
              "        dataTable['output_type'] = 'display_data';\n",
              "        await google.colab.output.renderOutput(dataTable, element);\n",
              "        const docLink = document.createElement('div');\n",
              "        docLink.innerHTML = docLinkHtml;\n",
              "        element.appendChild(docLink);\n",
              "      }\n",
              "    </script>\n",
              "  </div>\n",
              "\n",
              "\n",
              "<div id=\"df-45904061-9d8e-44d3-8afb-a3251c0bf746\">\n",
              "  <button class=\"colab-df-quickchart\" onclick=\"quickchart('df-45904061-9d8e-44d3-8afb-a3251c0bf746')\"\n",
              "            title=\"Suggest charts\"\n",
              "            style=\"display:none;\">\n",
              "\n",
              "<svg xmlns=\"http://www.w3.org/2000/svg\" height=\"24px\"viewBox=\"0 0 24 24\"\n",
              "     width=\"24px\">\n",
              "    <g>\n",
              "        <path d=\"M19 3H5c-1.1 0-2 .9-2 2v14c0 1.1.9 2 2 2h14c1.1 0 2-.9 2-2V5c0-1.1-.9-2-2-2zM9 17H7v-7h2v7zm4 0h-2V7h2v10zm4 0h-2v-4h2v4z\"/>\n",
              "    </g>\n",
              "</svg>\n",
              "  </button>\n",
              "\n",
              "<style>\n",
              "  .colab-df-quickchart {\n",
              "      --bg-color: #E8F0FE;\n",
              "      --fill-color: #1967D2;\n",
              "      --hover-bg-color: #E2EBFA;\n",
              "      --hover-fill-color: #174EA6;\n",
              "      --disabled-fill-color: #AAA;\n",
              "      --disabled-bg-color: #DDD;\n",
              "  }\n",
              "\n",
              "  [theme=dark] .colab-df-quickchart {\n",
              "      --bg-color: #3B4455;\n",
              "      --fill-color: #D2E3FC;\n",
              "      --hover-bg-color: #434B5C;\n",
              "      --hover-fill-color: #FFFFFF;\n",
              "      --disabled-bg-color: #3B4455;\n",
              "      --disabled-fill-color: #666;\n",
              "  }\n",
              "\n",
              "  .colab-df-quickchart {\n",
              "    background-color: var(--bg-color);\n",
              "    border: none;\n",
              "    border-radius: 50%;\n",
              "    cursor: pointer;\n",
              "    display: none;\n",
              "    fill: var(--fill-color);\n",
              "    height: 32px;\n",
              "    padding: 0;\n",
              "    width: 32px;\n",
              "  }\n",
              "\n",
              "  .colab-df-quickchart:hover {\n",
              "    background-color: var(--hover-bg-color);\n",
              "    box-shadow: 0 1px 2px rgba(60, 64, 67, 0.3), 0 1px 3px 1px rgba(60, 64, 67, 0.15);\n",
              "    fill: var(--button-hover-fill-color);\n",
              "  }\n",
              "\n",
              "  .colab-df-quickchart-complete:disabled,\n",
              "  .colab-df-quickchart-complete:disabled:hover {\n",
              "    background-color: var(--disabled-bg-color);\n",
              "    fill: var(--disabled-fill-color);\n",
              "    box-shadow: none;\n",
              "  }\n",
              "\n",
              "  .colab-df-spinner {\n",
              "    border: 2px solid var(--fill-color);\n",
              "    border-color: transparent;\n",
              "    border-bottom-color: var(--fill-color);\n",
              "    animation:\n",
              "      spin 1s steps(1) infinite;\n",
              "  }\n",
              "\n",
              "  @keyframes spin {\n",
              "    0% {\n",
              "      border-color: transparent;\n",
              "      border-bottom-color: var(--fill-color);\n",
              "      border-left-color: var(--fill-color);\n",
              "    }\n",
              "    20% {\n",
              "      border-color: transparent;\n",
              "      border-left-color: var(--fill-color);\n",
              "      border-top-color: var(--fill-color);\n",
              "    }\n",
              "    30% {\n",
              "      border-color: transparent;\n",
              "      border-left-color: var(--fill-color);\n",
              "      border-top-color: var(--fill-color);\n",
              "      border-right-color: var(--fill-color);\n",
              "    }\n",
              "    40% {\n",
              "      border-color: transparent;\n",
              "      border-right-color: var(--fill-color);\n",
              "      border-top-color: var(--fill-color);\n",
              "    }\n",
              "    60% {\n",
              "      border-color: transparent;\n",
              "      border-right-color: var(--fill-color);\n",
              "    }\n",
              "    80% {\n",
              "      border-color: transparent;\n",
              "      border-right-color: var(--fill-color);\n",
              "      border-bottom-color: var(--fill-color);\n",
              "    }\n",
              "    90% {\n",
              "      border-color: transparent;\n",
              "      border-bottom-color: var(--fill-color);\n",
              "    }\n",
              "  }\n",
              "</style>\n",
              "\n",
              "  <script>\n",
              "    async function quickchart(key) {\n",
              "      const quickchartButtonEl =\n",
              "        document.querySelector('#' + key + ' button');\n",
              "      quickchartButtonEl.disabled = true;  // To prevent multiple clicks.\n",
              "      quickchartButtonEl.classList.add('colab-df-spinner');\n",
              "      try {\n",
              "        const charts = await google.colab.kernel.invokeFunction(\n",
              "            'suggestCharts', [key], {});\n",
              "      } catch (error) {\n",
              "        console.error('Error during call to suggestCharts:', error);\n",
              "      }\n",
              "      quickchartButtonEl.classList.remove('colab-df-spinner');\n",
              "      quickchartButtonEl.classList.add('colab-df-quickchart-complete');\n",
              "    }\n",
              "    (() => {\n",
              "      let quickchartButtonEl =\n",
              "        document.querySelector('#df-45904061-9d8e-44d3-8afb-a3251c0bf746 button');\n",
              "      quickchartButtonEl.style.display =\n",
              "        google.colab.kernel.accessAllowed ? 'block' : 'none';\n",
              "    })();\n",
              "  </script>\n",
              "</div>\n",
              "\n",
              "    </div>\n",
              "  </div>\n"
            ],
            "application/vnd.google.colaboratory.intrinsic+json": {
              "type": "dataframe",
              "summary": "{\n  \"name\": \"df\",\n  \"rows\": 5,\n  \"fields\": [\n    {\n      \"column\": \"Salary\",\n      \"properties\": {\n        \"dtype\": \"number\",\n        \"std\": 17444,\n        \"min\": 17000,\n        \"max\": 55000,\n        \"num_unique_values\": 4,\n        \"samples\": [\n          46000,\n          55000,\n          17000\n        ],\n        \"semantic_type\": \"\",\n        \"description\": \"\"\n      }\n    },\n    {\n      \"column\": \"Gender\",\n      \"properties\": {\n        \"dtype\": \"category\",\n        \"num_unique_values\": 2,\n        \"samples\": [\n          \"F\",\n          \"M\"\n        ],\n        \"semantic_type\": \"\",\n        \"description\": \"\"\n      }\n    }\n  ]\n}"
            }
          },
          "metadata": {},
          "execution_count": 52
        }
      ]
    },
    {
      "cell_type": "code",
      "source": [
        "df.iloc[[0,1,4], :]"
      ],
      "metadata": {
        "colab": {
          "base_uri": "https://localhost:8080/",
          "height": 143
        },
        "id": "JuaPQ441BjqN",
        "outputId": "fd9681d3-77a3-4cb2-f976-4385c1535153"
      },
      "execution_count": null,
      "outputs": [
        {
          "output_type": "execute_result",
          "data": {
            "text/plain": [
              "   Age  Salary Gender\n",
              "0   22   17000      M\n",
              "1   30   17000      F\n",
              "4   24   55000      F"
            ],
            "text/html": [
              "\n",
              "  <div id=\"df-42dc4c19-4070-4660-891e-baafea0f60df\" class=\"colab-df-container\">\n",
              "    <div>\n",
              "<style scoped>\n",
              "    .dataframe tbody tr th:only-of-type {\n",
              "        vertical-align: middle;\n",
              "    }\n",
              "\n",
              "    .dataframe tbody tr th {\n",
              "        vertical-align: top;\n",
              "    }\n",
              "\n",
              "    .dataframe thead th {\n",
              "        text-align: right;\n",
              "    }\n",
              "</style>\n",
              "<table border=\"1\" class=\"dataframe\">\n",
              "  <thead>\n",
              "    <tr style=\"text-align: right;\">\n",
              "      <th></th>\n",
              "      <th>Age</th>\n",
              "      <th>Salary</th>\n",
              "      <th>Gender</th>\n",
              "    </tr>\n",
              "  </thead>\n",
              "  <tbody>\n",
              "    <tr>\n",
              "      <th>0</th>\n",
              "      <td>22</td>\n",
              "      <td>17000</td>\n",
              "      <td>M</td>\n",
              "    </tr>\n",
              "    <tr>\n",
              "      <th>1</th>\n",
              "      <td>30</td>\n",
              "      <td>17000</td>\n",
              "      <td>F</td>\n",
              "    </tr>\n",
              "    <tr>\n",
              "      <th>4</th>\n",
              "      <td>24</td>\n",
              "      <td>55000</td>\n",
              "      <td>F</td>\n",
              "    </tr>\n",
              "  </tbody>\n",
              "</table>\n",
              "</div>\n",
              "    <div class=\"colab-df-buttons\">\n",
              "\n",
              "  <div class=\"colab-df-container\">\n",
              "    <button class=\"colab-df-convert\" onclick=\"convertToInteractive('df-42dc4c19-4070-4660-891e-baafea0f60df')\"\n",
              "            title=\"Convert this dataframe to an interactive table.\"\n",
              "            style=\"display:none;\">\n",
              "\n",
              "  <svg xmlns=\"http://www.w3.org/2000/svg\" height=\"24px\" viewBox=\"0 -960 960 960\">\n",
              "    <path d=\"M120-120v-720h720v720H120Zm60-500h600v-160H180v160Zm220 220h160v-160H400v160Zm0 220h160v-160H400v160ZM180-400h160v-160H180v160Zm440 0h160v-160H620v160ZM180-180h160v-160H180v160Zm440 0h160v-160H620v160Z\"/>\n",
              "  </svg>\n",
              "    </button>\n",
              "\n",
              "  <style>\n",
              "    .colab-df-container {\n",
              "      display:flex;\n",
              "      gap: 12px;\n",
              "    }\n",
              "\n",
              "    .colab-df-convert {\n",
              "      background-color: #E8F0FE;\n",
              "      border: none;\n",
              "      border-radius: 50%;\n",
              "      cursor: pointer;\n",
              "      display: none;\n",
              "      fill: #1967D2;\n",
              "      height: 32px;\n",
              "      padding: 0 0 0 0;\n",
              "      width: 32px;\n",
              "    }\n",
              "\n",
              "    .colab-df-convert:hover {\n",
              "      background-color: #E2EBFA;\n",
              "      box-shadow: 0px 1px 2px rgba(60, 64, 67, 0.3), 0px 1px 3px 1px rgba(60, 64, 67, 0.15);\n",
              "      fill: #174EA6;\n",
              "    }\n",
              "\n",
              "    .colab-df-buttons div {\n",
              "      margin-bottom: 4px;\n",
              "    }\n",
              "\n",
              "    [theme=dark] .colab-df-convert {\n",
              "      background-color: #3B4455;\n",
              "      fill: #D2E3FC;\n",
              "    }\n",
              "\n",
              "    [theme=dark] .colab-df-convert:hover {\n",
              "      background-color: #434B5C;\n",
              "      box-shadow: 0px 1px 3px 1px rgba(0, 0, 0, 0.15);\n",
              "      filter: drop-shadow(0px 1px 2px rgba(0, 0, 0, 0.3));\n",
              "      fill: #FFFFFF;\n",
              "    }\n",
              "  </style>\n",
              "\n",
              "    <script>\n",
              "      const buttonEl =\n",
              "        document.querySelector('#df-42dc4c19-4070-4660-891e-baafea0f60df button.colab-df-convert');\n",
              "      buttonEl.style.display =\n",
              "        google.colab.kernel.accessAllowed ? 'block' : 'none';\n",
              "\n",
              "      async function convertToInteractive(key) {\n",
              "        const element = document.querySelector('#df-42dc4c19-4070-4660-891e-baafea0f60df');\n",
              "        const dataTable =\n",
              "          await google.colab.kernel.invokeFunction('convertToInteractive',\n",
              "                                                    [key], {});\n",
              "        if (!dataTable) return;\n",
              "\n",
              "        const docLinkHtml = 'Like what you see? Visit the ' +\n",
              "          '<a target=\"_blank\" href=https://colab.research.google.com/notebooks/data_table.ipynb>data table notebook</a>'\n",
              "          + ' to learn more about interactive tables.';\n",
              "        element.innerHTML = '';\n",
              "        dataTable['output_type'] = 'display_data';\n",
              "        await google.colab.output.renderOutput(dataTable, element);\n",
              "        const docLink = document.createElement('div');\n",
              "        docLink.innerHTML = docLinkHtml;\n",
              "        element.appendChild(docLink);\n",
              "      }\n",
              "    </script>\n",
              "  </div>\n",
              "\n",
              "\n",
              "<div id=\"df-b02333fd-a571-4e1b-b19b-0c8ad890ccf9\">\n",
              "  <button class=\"colab-df-quickchart\" onclick=\"quickchart('df-b02333fd-a571-4e1b-b19b-0c8ad890ccf9')\"\n",
              "            title=\"Suggest charts\"\n",
              "            style=\"display:none;\">\n",
              "\n",
              "<svg xmlns=\"http://www.w3.org/2000/svg\" height=\"24px\"viewBox=\"0 0 24 24\"\n",
              "     width=\"24px\">\n",
              "    <g>\n",
              "        <path d=\"M19 3H5c-1.1 0-2 .9-2 2v14c0 1.1.9 2 2 2h14c1.1 0 2-.9 2-2V5c0-1.1-.9-2-2-2zM9 17H7v-7h2v7zm4 0h-2V7h2v10zm4 0h-2v-4h2v4z\"/>\n",
              "    </g>\n",
              "</svg>\n",
              "  </button>\n",
              "\n",
              "<style>\n",
              "  .colab-df-quickchart {\n",
              "      --bg-color: #E8F0FE;\n",
              "      --fill-color: #1967D2;\n",
              "      --hover-bg-color: #E2EBFA;\n",
              "      --hover-fill-color: #174EA6;\n",
              "      --disabled-fill-color: #AAA;\n",
              "      --disabled-bg-color: #DDD;\n",
              "  }\n",
              "\n",
              "  [theme=dark] .colab-df-quickchart {\n",
              "      --bg-color: #3B4455;\n",
              "      --fill-color: #D2E3FC;\n",
              "      --hover-bg-color: #434B5C;\n",
              "      --hover-fill-color: #FFFFFF;\n",
              "      --disabled-bg-color: #3B4455;\n",
              "      --disabled-fill-color: #666;\n",
              "  }\n",
              "\n",
              "  .colab-df-quickchart {\n",
              "    background-color: var(--bg-color);\n",
              "    border: none;\n",
              "    border-radius: 50%;\n",
              "    cursor: pointer;\n",
              "    display: none;\n",
              "    fill: var(--fill-color);\n",
              "    height: 32px;\n",
              "    padding: 0;\n",
              "    width: 32px;\n",
              "  }\n",
              "\n",
              "  .colab-df-quickchart:hover {\n",
              "    background-color: var(--hover-bg-color);\n",
              "    box-shadow: 0 1px 2px rgba(60, 64, 67, 0.3), 0 1px 3px 1px rgba(60, 64, 67, 0.15);\n",
              "    fill: var(--button-hover-fill-color);\n",
              "  }\n",
              "\n",
              "  .colab-df-quickchart-complete:disabled,\n",
              "  .colab-df-quickchart-complete:disabled:hover {\n",
              "    background-color: var(--disabled-bg-color);\n",
              "    fill: var(--disabled-fill-color);\n",
              "    box-shadow: none;\n",
              "  }\n",
              "\n",
              "  .colab-df-spinner {\n",
              "    border: 2px solid var(--fill-color);\n",
              "    border-color: transparent;\n",
              "    border-bottom-color: var(--fill-color);\n",
              "    animation:\n",
              "      spin 1s steps(1) infinite;\n",
              "  }\n",
              "\n",
              "  @keyframes spin {\n",
              "    0% {\n",
              "      border-color: transparent;\n",
              "      border-bottom-color: var(--fill-color);\n",
              "      border-left-color: var(--fill-color);\n",
              "    }\n",
              "    20% {\n",
              "      border-color: transparent;\n",
              "      border-left-color: var(--fill-color);\n",
              "      border-top-color: var(--fill-color);\n",
              "    }\n",
              "    30% {\n",
              "      border-color: transparent;\n",
              "      border-left-color: var(--fill-color);\n",
              "      border-top-color: var(--fill-color);\n",
              "      border-right-color: var(--fill-color);\n",
              "    }\n",
              "    40% {\n",
              "      border-color: transparent;\n",
              "      border-right-color: var(--fill-color);\n",
              "      border-top-color: var(--fill-color);\n",
              "    }\n",
              "    60% {\n",
              "      border-color: transparent;\n",
              "      border-right-color: var(--fill-color);\n",
              "    }\n",
              "    80% {\n",
              "      border-color: transparent;\n",
              "      border-right-color: var(--fill-color);\n",
              "      border-bottom-color: var(--fill-color);\n",
              "    }\n",
              "    90% {\n",
              "      border-color: transparent;\n",
              "      border-bottom-color: var(--fill-color);\n",
              "    }\n",
              "  }\n",
              "</style>\n",
              "\n",
              "  <script>\n",
              "    async function quickchart(key) {\n",
              "      const quickchartButtonEl =\n",
              "        document.querySelector('#' + key + ' button');\n",
              "      quickchartButtonEl.disabled = true;  // To prevent multiple clicks.\n",
              "      quickchartButtonEl.classList.add('colab-df-spinner');\n",
              "      try {\n",
              "        const charts = await google.colab.kernel.invokeFunction(\n",
              "            'suggestCharts', [key], {});\n",
              "      } catch (error) {\n",
              "        console.error('Error during call to suggestCharts:', error);\n",
              "      }\n",
              "      quickchartButtonEl.classList.remove('colab-df-spinner');\n",
              "      quickchartButtonEl.classList.add('colab-df-quickchart-complete');\n",
              "    }\n",
              "    (() => {\n",
              "      let quickchartButtonEl =\n",
              "        document.querySelector('#df-b02333fd-a571-4e1b-b19b-0c8ad890ccf9 button');\n",
              "      quickchartButtonEl.style.display =\n",
              "        google.colab.kernel.accessAllowed ? 'block' : 'none';\n",
              "    })();\n",
              "  </script>\n",
              "</div>\n",
              "\n",
              "    </div>\n",
              "  </div>\n"
            ],
            "application/vnd.google.colaboratory.intrinsic+json": {
              "type": "dataframe",
              "summary": "{\n  \"name\": \"df\",\n  \"rows\": 3,\n  \"fields\": [\n    {\n      \"column\": \"Age\",\n      \"properties\": {\n        \"dtype\": \"number\",\n        \"std\": 4,\n        \"min\": 22,\n        \"max\": 30,\n        \"num_unique_values\": 3,\n        \"samples\": [\n          22,\n          30,\n          24\n        ],\n        \"semantic_type\": \"\",\n        \"description\": \"\"\n      }\n    },\n    {\n      \"column\": \"Salary\",\n      \"properties\": {\n        \"dtype\": \"number\",\n        \"std\": 21939,\n        \"min\": 17000,\n        \"max\": 55000,\n        \"num_unique_values\": 2,\n        \"samples\": [\n          55000,\n          17000\n        ],\n        \"semantic_type\": \"\",\n        \"description\": \"\"\n      }\n    },\n    {\n      \"column\": \"Gender\",\n      \"properties\": {\n        \"dtype\": \"string\",\n        \"num_unique_values\": 2,\n        \"samples\": [\n          \"F\",\n          \"M\"\n        ],\n        \"semantic_type\": \"\",\n        \"description\": \"\"\n      }\n    }\n  ]\n}"
            }
          },
          "metadata": {},
          "execution_count": 46
        }
      ]
    },
    {
      "cell_type": "code",
      "source": [
        "df.iloc[[0,1,4], 1 ]"
      ],
      "metadata": {
        "colab": {
          "base_uri": "https://localhost:8080/"
        },
        "id": "csa-m1SXBtok",
        "outputId": "9b1d4c90-6e0c-42fb-8e33-279d35dbfa33"
      },
      "execution_count": null,
      "outputs": [
        {
          "output_type": "execute_result",
          "data": {
            "text/plain": [
              "0    17000\n",
              "1    17000\n",
              "4    55000\n",
              "Name: Salary, dtype: int64"
            ]
          },
          "metadata": {},
          "execution_count": 47
        }
      ]
    },
    {
      "cell_type": "code",
      "source": [
        "df.iloc[[-5,-4,-1], -2 ]"
      ],
      "metadata": {
        "colab": {
          "base_uri": "https://localhost:8080/"
        },
        "id": "2jSOyoU8B9I1",
        "outputId": "cc3fdd75-e5c7-4142-a8c1-f45561b67bb6"
      },
      "execution_count": null,
      "outputs": [
        {
          "output_type": "execute_result",
          "data": {
            "text/plain": [
              "0    17000\n",
              "1    17000\n",
              "4    55000\n",
              "Name: Salary, dtype: int64"
            ]
          },
          "metadata": {},
          "execution_count": 48
        }
      ]
    },
    {
      "cell_type": "code",
      "source": [
        "# For .loc we use row name, column name only\n",
        "\n",
        "df.loc[[0,1,4], \"Salary\" ]"
      ],
      "metadata": {
        "colab": {
          "base_uri": "https://localhost:8080/"
        },
        "id": "H1_dW86WCKIZ",
        "outputId": "000c9a4b-90bd-4a69-9a5a-3c7bade03b94"
      },
      "execution_count": null,
      "outputs": [
        {
          "output_type": "execute_result",
          "data": {
            "text/plain": [
              "0    17000\n",
              "1    17000\n",
              "4    55000\n",
              "Name: Salary, dtype: int64"
            ]
          },
          "metadata": {},
          "execution_count": 50
        }
      ]
    },
    {
      "cell_type": "code",
      "source": [
        "df.info()"
      ],
      "metadata": {
        "colab": {
          "base_uri": "https://localhost:8080/"
        },
        "id": "8ioEEcFICayY",
        "outputId": "7d3f2241-8a13-4930-d394-fd22f9af4491"
      },
      "execution_count": null,
      "outputs": [
        {
          "output_type": "stream",
          "name": "stdout",
          "text": [
            "<class 'pandas.core.frame.DataFrame'>\n",
            "RangeIndex: 5 entries, 0 to 4\n",
            "Data columns (total 3 columns):\n",
            " #   Column  Non-Null Count  Dtype \n",
            "---  ------  --------------  ----- \n",
            " 0   Age     5 non-null      int64 \n",
            " 1   Salary  5 non-null      int64 \n",
            " 2   Gender  5 non-null      object\n",
            "dtypes: int64(2), object(1)\n",
            "memory usage: 248.0+ bytes\n"
          ]
        }
      ]
    },
    {
      "cell_type": "markdown",
      "source": [
        "**How to select/extract a single column with all rows**"
      ],
      "metadata": {
        "id": "TsLRIShIDHMg"
      }
    },
    {
      "cell_type": "code",
      "source": [
        "# Option-1\n",
        "\n",
        "df.iloc[:,1]"
      ],
      "metadata": {
        "colab": {
          "base_uri": "https://localhost:8080/"
        },
        "id": "kfFxMFNjCl8F",
        "outputId": "cddc2ff0-6a6f-4d93-cd75-54320265d743"
      },
      "execution_count": null,
      "outputs": [
        {
          "output_type": "execute_result",
          "data": {
            "text/plain": [
              "0    17000\n",
              "1    17000\n",
              "2    46000\n",
              "3    42000\n",
              "4    55000\n",
              "Name: Salary, dtype: int64"
            ]
          },
          "metadata": {},
          "execution_count": 53
        }
      ]
    },
    {
      "cell_type": "code",
      "source": [
        "# Option-2\n",
        "df.loc[:, \"Salary\"]"
      ],
      "metadata": {
        "colab": {
          "base_uri": "https://localhost:8080/"
        },
        "id": "5iumEKzRFI1i",
        "outputId": "0c21837a-9cc5-4175-f5ae-cfa26d5827f8"
      },
      "execution_count": null,
      "outputs": [
        {
          "output_type": "execute_result",
          "data": {
            "text/plain": [
              "0    17000\n",
              "1    17000\n",
              "2    46000\n",
              "3    42000\n",
              "4    55000\n",
              "Name: Salary, dtype: int64"
            ]
          },
          "metadata": {},
          "execution_count": 56
        }
      ]
    },
    {
      "cell_type": "code",
      "source": [
        "# Option-3\n",
        "df[\"Salary\"]"
      ],
      "metadata": {
        "colab": {
          "base_uri": "https://localhost:8080/"
        },
        "id": "8qYK-seYFLST",
        "outputId": "3c27133e-ceaf-45af-acc1-ebed66fd47b4"
      },
      "execution_count": null,
      "outputs": [
        {
          "output_type": "execute_result",
          "data": {
            "text/plain": [
              "0    17000\n",
              "1    17000\n",
              "2    46000\n",
              "3    42000\n",
              "4    55000\n",
              "Name: Salary, dtype: int64"
            ]
          },
          "metadata": {},
          "execution_count": 57
        }
      ]
    },
    {
      "cell_type": "code",
      "source": [
        "# Option-4\n",
        "df.Salary"
      ],
      "metadata": {
        "colab": {
          "base_uri": "https://localhost:8080/"
        },
        "id": "IyJjzC7YFMj6",
        "outputId": "65030d94-3bcd-4d5f-cdad-6d2e365ccef6"
      },
      "execution_count": null,
      "outputs": [
        {
          "output_type": "execute_result",
          "data": {
            "text/plain": [
              "0    17000\n",
              "1    17000\n",
              "2    46000\n",
              "3    42000\n",
              "4    55000\n",
              "Name: Salary, dtype: int64"
            ]
          },
          "metadata": {},
          "execution_count": 58
        }
      ]
    },
    {
      "cell_type": "markdown",
      "source": [
        "**How to select/extract a Multiple column with all rows**"
      ],
      "metadata": {
        "id": "-xg1ANouFh0O"
      }
    },
    {
      "cell_type": "code",
      "source": [
        "# Option-1\n",
        "df.iloc[:,[1,2]]"
      ],
      "metadata": {
        "colab": {
          "base_uri": "https://localhost:8080/",
          "height": 206
        },
        "id": "zLKLUeF8Faea",
        "outputId": "e91a78d7-fa65-408a-fe43-b6c4d1f54934"
      },
      "execution_count": null,
      "outputs": [
        {
          "output_type": "execute_result",
          "data": {
            "text/plain": [
              "   Salary Gender\n",
              "0   17000      M\n",
              "1   17000      F\n",
              "2   46000      M\n",
              "3   42000      M\n",
              "4   55000      F"
            ],
            "text/html": [
              "\n",
              "  <div id=\"df-55ae6fe3-673a-4ffd-ba7e-5cdaf20bdaf9\" class=\"colab-df-container\">\n",
              "    <div>\n",
              "<style scoped>\n",
              "    .dataframe tbody tr th:only-of-type {\n",
              "        vertical-align: middle;\n",
              "    }\n",
              "\n",
              "    .dataframe tbody tr th {\n",
              "        vertical-align: top;\n",
              "    }\n",
              "\n",
              "    .dataframe thead th {\n",
              "        text-align: right;\n",
              "    }\n",
              "</style>\n",
              "<table border=\"1\" class=\"dataframe\">\n",
              "  <thead>\n",
              "    <tr style=\"text-align: right;\">\n",
              "      <th></th>\n",
              "      <th>Salary</th>\n",
              "      <th>Gender</th>\n",
              "    </tr>\n",
              "  </thead>\n",
              "  <tbody>\n",
              "    <tr>\n",
              "      <th>0</th>\n",
              "      <td>17000</td>\n",
              "      <td>M</td>\n",
              "    </tr>\n",
              "    <tr>\n",
              "      <th>1</th>\n",
              "      <td>17000</td>\n",
              "      <td>F</td>\n",
              "    </tr>\n",
              "    <tr>\n",
              "      <th>2</th>\n",
              "      <td>46000</td>\n",
              "      <td>M</td>\n",
              "    </tr>\n",
              "    <tr>\n",
              "      <th>3</th>\n",
              "      <td>42000</td>\n",
              "      <td>M</td>\n",
              "    </tr>\n",
              "    <tr>\n",
              "      <th>4</th>\n",
              "      <td>55000</td>\n",
              "      <td>F</td>\n",
              "    </tr>\n",
              "  </tbody>\n",
              "</table>\n",
              "</div>\n",
              "    <div class=\"colab-df-buttons\">\n",
              "\n",
              "  <div class=\"colab-df-container\">\n",
              "    <button class=\"colab-df-convert\" onclick=\"convertToInteractive('df-55ae6fe3-673a-4ffd-ba7e-5cdaf20bdaf9')\"\n",
              "            title=\"Convert this dataframe to an interactive table.\"\n",
              "            style=\"display:none;\">\n",
              "\n",
              "  <svg xmlns=\"http://www.w3.org/2000/svg\" height=\"24px\" viewBox=\"0 -960 960 960\">\n",
              "    <path d=\"M120-120v-720h720v720H120Zm60-500h600v-160H180v160Zm220 220h160v-160H400v160Zm0 220h160v-160H400v160ZM180-400h160v-160H180v160Zm440 0h160v-160H620v160ZM180-180h160v-160H180v160Zm440 0h160v-160H620v160Z\"/>\n",
              "  </svg>\n",
              "    </button>\n",
              "\n",
              "  <style>\n",
              "    .colab-df-container {\n",
              "      display:flex;\n",
              "      gap: 12px;\n",
              "    }\n",
              "\n",
              "    .colab-df-convert {\n",
              "      background-color: #E8F0FE;\n",
              "      border: none;\n",
              "      border-radius: 50%;\n",
              "      cursor: pointer;\n",
              "      display: none;\n",
              "      fill: #1967D2;\n",
              "      height: 32px;\n",
              "      padding: 0 0 0 0;\n",
              "      width: 32px;\n",
              "    }\n",
              "\n",
              "    .colab-df-convert:hover {\n",
              "      background-color: #E2EBFA;\n",
              "      box-shadow: 0px 1px 2px rgba(60, 64, 67, 0.3), 0px 1px 3px 1px rgba(60, 64, 67, 0.15);\n",
              "      fill: #174EA6;\n",
              "    }\n",
              "\n",
              "    .colab-df-buttons div {\n",
              "      margin-bottom: 4px;\n",
              "    }\n",
              "\n",
              "    [theme=dark] .colab-df-convert {\n",
              "      background-color: #3B4455;\n",
              "      fill: #D2E3FC;\n",
              "    }\n",
              "\n",
              "    [theme=dark] .colab-df-convert:hover {\n",
              "      background-color: #434B5C;\n",
              "      box-shadow: 0px 1px 3px 1px rgba(0, 0, 0, 0.15);\n",
              "      filter: drop-shadow(0px 1px 2px rgba(0, 0, 0, 0.3));\n",
              "      fill: #FFFFFF;\n",
              "    }\n",
              "  </style>\n",
              "\n",
              "    <script>\n",
              "      const buttonEl =\n",
              "        document.querySelector('#df-55ae6fe3-673a-4ffd-ba7e-5cdaf20bdaf9 button.colab-df-convert');\n",
              "      buttonEl.style.display =\n",
              "        google.colab.kernel.accessAllowed ? 'block' : 'none';\n",
              "\n",
              "      async function convertToInteractive(key) {\n",
              "        const element = document.querySelector('#df-55ae6fe3-673a-4ffd-ba7e-5cdaf20bdaf9');\n",
              "        const dataTable =\n",
              "          await google.colab.kernel.invokeFunction('convertToInteractive',\n",
              "                                                    [key], {});\n",
              "        if (!dataTable) return;\n",
              "\n",
              "        const docLinkHtml = 'Like what you see? Visit the ' +\n",
              "          '<a target=\"_blank\" href=https://colab.research.google.com/notebooks/data_table.ipynb>data table notebook</a>'\n",
              "          + ' to learn more about interactive tables.';\n",
              "        element.innerHTML = '';\n",
              "        dataTable['output_type'] = 'display_data';\n",
              "        await google.colab.output.renderOutput(dataTable, element);\n",
              "        const docLink = document.createElement('div');\n",
              "        docLink.innerHTML = docLinkHtml;\n",
              "        element.appendChild(docLink);\n",
              "      }\n",
              "    </script>\n",
              "  </div>\n",
              "\n",
              "\n",
              "<div id=\"df-5617c3f7-f9dc-48fc-8660-3dbc1240c015\">\n",
              "  <button class=\"colab-df-quickchart\" onclick=\"quickchart('df-5617c3f7-f9dc-48fc-8660-3dbc1240c015')\"\n",
              "            title=\"Suggest charts\"\n",
              "            style=\"display:none;\">\n",
              "\n",
              "<svg xmlns=\"http://www.w3.org/2000/svg\" height=\"24px\"viewBox=\"0 0 24 24\"\n",
              "     width=\"24px\">\n",
              "    <g>\n",
              "        <path d=\"M19 3H5c-1.1 0-2 .9-2 2v14c0 1.1.9 2 2 2h14c1.1 0 2-.9 2-2V5c0-1.1-.9-2-2-2zM9 17H7v-7h2v7zm4 0h-2V7h2v10zm4 0h-2v-4h2v4z\"/>\n",
              "    </g>\n",
              "</svg>\n",
              "  </button>\n",
              "\n",
              "<style>\n",
              "  .colab-df-quickchart {\n",
              "      --bg-color: #E8F0FE;\n",
              "      --fill-color: #1967D2;\n",
              "      --hover-bg-color: #E2EBFA;\n",
              "      --hover-fill-color: #174EA6;\n",
              "      --disabled-fill-color: #AAA;\n",
              "      --disabled-bg-color: #DDD;\n",
              "  }\n",
              "\n",
              "  [theme=dark] .colab-df-quickchart {\n",
              "      --bg-color: #3B4455;\n",
              "      --fill-color: #D2E3FC;\n",
              "      --hover-bg-color: #434B5C;\n",
              "      --hover-fill-color: #FFFFFF;\n",
              "      --disabled-bg-color: #3B4455;\n",
              "      --disabled-fill-color: #666;\n",
              "  }\n",
              "\n",
              "  .colab-df-quickchart {\n",
              "    background-color: var(--bg-color);\n",
              "    border: none;\n",
              "    border-radius: 50%;\n",
              "    cursor: pointer;\n",
              "    display: none;\n",
              "    fill: var(--fill-color);\n",
              "    height: 32px;\n",
              "    padding: 0;\n",
              "    width: 32px;\n",
              "  }\n",
              "\n",
              "  .colab-df-quickchart:hover {\n",
              "    background-color: var(--hover-bg-color);\n",
              "    box-shadow: 0 1px 2px rgba(60, 64, 67, 0.3), 0 1px 3px 1px rgba(60, 64, 67, 0.15);\n",
              "    fill: var(--button-hover-fill-color);\n",
              "  }\n",
              "\n",
              "  .colab-df-quickchart-complete:disabled,\n",
              "  .colab-df-quickchart-complete:disabled:hover {\n",
              "    background-color: var(--disabled-bg-color);\n",
              "    fill: var(--disabled-fill-color);\n",
              "    box-shadow: none;\n",
              "  }\n",
              "\n",
              "  .colab-df-spinner {\n",
              "    border: 2px solid var(--fill-color);\n",
              "    border-color: transparent;\n",
              "    border-bottom-color: var(--fill-color);\n",
              "    animation:\n",
              "      spin 1s steps(1) infinite;\n",
              "  }\n",
              "\n",
              "  @keyframes spin {\n",
              "    0% {\n",
              "      border-color: transparent;\n",
              "      border-bottom-color: var(--fill-color);\n",
              "      border-left-color: var(--fill-color);\n",
              "    }\n",
              "    20% {\n",
              "      border-color: transparent;\n",
              "      border-left-color: var(--fill-color);\n",
              "      border-top-color: var(--fill-color);\n",
              "    }\n",
              "    30% {\n",
              "      border-color: transparent;\n",
              "      border-left-color: var(--fill-color);\n",
              "      border-top-color: var(--fill-color);\n",
              "      border-right-color: var(--fill-color);\n",
              "    }\n",
              "    40% {\n",
              "      border-color: transparent;\n",
              "      border-right-color: var(--fill-color);\n",
              "      border-top-color: var(--fill-color);\n",
              "    }\n",
              "    60% {\n",
              "      border-color: transparent;\n",
              "      border-right-color: var(--fill-color);\n",
              "    }\n",
              "    80% {\n",
              "      border-color: transparent;\n",
              "      border-right-color: var(--fill-color);\n",
              "      border-bottom-color: var(--fill-color);\n",
              "    }\n",
              "    90% {\n",
              "      border-color: transparent;\n",
              "      border-bottom-color: var(--fill-color);\n",
              "    }\n",
              "  }\n",
              "</style>\n",
              "\n",
              "  <script>\n",
              "    async function quickchart(key) {\n",
              "      const quickchartButtonEl =\n",
              "        document.querySelector('#' + key + ' button');\n",
              "      quickchartButtonEl.disabled = true;  // To prevent multiple clicks.\n",
              "      quickchartButtonEl.classList.add('colab-df-spinner');\n",
              "      try {\n",
              "        const charts = await google.colab.kernel.invokeFunction(\n",
              "            'suggestCharts', [key], {});\n",
              "      } catch (error) {\n",
              "        console.error('Error during call to suggestCharts:', error);\n",
              "      }\n",
              "      quickchartButtonEl.classList.remove('colab-df-spinner');\n",
              "      quickchartButtonEl.classList.add('colab-df-quickchart-complete');\n",
              "    }\n",
              "    (() => {\n",
              "      let quickchartButtonEl =\n",
              "        document.querySelector('#df-5617c3f7-f9dc-48fc-8660-3dbc1240c015 button');\n",
              "      quickchartButtonEl.style.display =\n",
              "        google.colab.kernel.accessAllowed ? 'block' : 'none';\n",
              "    })();\n",
              "  </script>\n",
              "</div>\n",
              "\n",
              "    </div>\n",
              "  </div>\n"
            ],
            "application/vnd.google.colaboratory.intrinsic+json": {
              "type": "dataframe",
              "summary": "{\n  \"name\": \"df\",\n  \"rows\": 5,\n  \"fields\": [\n    {\n      \"column\": \"Salary\",\n      \"properties\": {\n        \"dtype\": \"number\",\n        \"std\": 17444,\n        \"min\": 17000,\n        \"max\": 55000,\n        \"num_unique_values\": 4,\n        \"samples\": [\n          46000,\n          55000,\n          17000\n        ],\n        \"semantic_type\": \"\",\n        \"description\": \"\"\n      }\n    },\n    {\n      \"column\": \"Gender\",\n      \"properties\": {\n        \"dtype\": \"category\",\n        \"num_unique_values\": 2,\n        \"samples\": [\n          \"F\",\n          \"M\"\n        ],\n        \"semantic_type\": \"\",\n        \"description\": \"\"\n      }\n    }\n  ]\n}"
            }
          },
          "metadata": {},
          "execution_count": 63
        }
      ]
    },
    {
      "cell_type": "code",
      "source": [
        "# Option-2\n",
        "df.loc[:, [\"Salary\",\"Gender\"]]"
      ],
      "metadata": {
        "colab": {
          "base_uri": "https://localhost:8080/",
          "height": 206
        },
        "id": "Fe1m-5xTFtEt",
        "outputId": "8e0ab0bc-e689-429d-a278-54fbe98327eb"
      },
      "execution_count": null,
      "outputs": [
        {
          "output_type": "execute_result",
          "data": {
            "text/plain": [
              "   Salary Gender\n",
              "0   17000      M\n",
              "1   17000      F\n",
              "2   46000      M\n",
              "3   42000      M\n",
              "4   55000      F"
            ],
            "text/html": [
              "\n",
              "  <div id=\"df-855075ca-7084-4884-adf8-99f0ddafba27\" class=\"colab-df-container\">\n",
              "    <div>\n",
              "<style scoped>\n",
              "    .dataframe tbody tr th:only-of-type {\n",
              "        vertical-align: middle;\n",
              "    }\n",
              "\n",
              "    .dataframe tbody tr th {\n",
              "        vertical-align: top;\n",
              "    }\n",
              "\n",
              "    .dataframe thead th {\n",
              "        text-align: right;\n",
              "    }\n",
              "</style>\n",
              "<table border=\"1\" class=\"dataframe\">\n",
              "  <thead>\n",
              "    <tr style=\"text-align: right;\">\n",
              "      <th></th>\n",
              "      <th>Salary</th>\n",
              "      <th>Gender</th>\n",
              "    </tr>\n",
              "  </thead>\n",
              "  <tbody>\n",
              "    <tr>\n",
              "      <th>0</th>\n",
              "      <td>17000</td>\n",
              "      <td>M</td>\n",
              "    </tr>\n",
              "    <tr>\n",
              "      <th>1</th>\n",
              "      <td>17000</td>\n",
              "      <td>F</td>\n",
              "    </tr>\n",
              "    <tr>\n",
              "      <th>2</th>\n",
              "      <td>46000</td>\n",
              "      <td>M</td>\n",
              "    </tr>\n",
              "    <tr>\n",
              "      <th>3</th>\n",
              "      <td>42000</td>\n",
              "      <td>M</td>\n",
              "    </tr>\n",
              "    <tr>\n",
              "      <th>4</th>\n",
              "      <td>55000</td>\n",
              "      <td>F</td>\n",
              "    </tr>\n",
              "  </tbody>\n",
              "</table>\n",
              "</div>\n",
              "    <div class=\"colab-df-buttons\">\n",
              "\n",
              "  <div class=\"colab-df-container\">\n",
              "    <button class=\"colab-df-convert\" onclick=\"convertToInteractive('df-855075ca-7084-4884-adf8-99f0ddafba27')\"\n",
              "            title=\"Convert this dataframe to an interactive table.\"\n",
              "            style=\"display:none;\">\n",
              "\n",
              "  <svg xmlns=\"http://www.w3.org/2000/svg\" height=\"24px\" viewBox=\"0 -960 960 960\">\n",
              "    <path d=\"M120-120v-720h720v720H120Zm60-500h600v-160H180v160Zm220 220h160v-160H400v160Zm0 220h160v-160H400v160ZM180-400h160v-160H180v160Zm440 0h160v-160H620v160ZM180-180h160v-160H180v160Zm440 0h160v-160H620v160Z\"/>\n",
              "  </svg>\n",
              "    </button>\n",
              "\n",
              "  <style>\n",
              "    .colab-df-container {\n",
              "      display:flex;\n",
              "      gap: 12px;\n",
              "    }\n",
              "\n",
              "    .colab-df-convert {\n",
              "      background-color: #E8F0FE;\n",
              "      border: none;\n",
              "      border-radius: 50%;\n",
              "      cursor: pointer;\n",
              "      display: none;\n",
              "      fill: #1967D2;\n",
              "      height: 32px;\n",
              "      padding: 0 0 0 0;\n",
              "      width: 32px;\n",
              "    }\n",
              "\n",
              "    .colab-df-convert:hover {\n",
              "      background-color: #E2EBFA;\n",
              "      box-shadow: 0px 1px 2px rgba(60, 64, 67, 0.3), 0px 1px 3px 1px rgba(60, 64, 67, 0.15);\n",
              "      fill: #174EA6;\n",
              "    }\n",
              "\n",
              "    .colab-df-buttons div {\n",
              "      margin-bottom: 4px;\n",
              "    }\n",
              "\n",
              "    [theme=dark] .colab-df-convert {\n",
              "      background-color: #3B4455;\n",
              "      fill: #D2E3FC;\n",
              "    }\n",
              "\n",
              "    [theme=dark] .colab-df-convert:hover {\n",
              "      background-color: #434B5C;\n",
              "      box-shadow: 0px 1px 3px 1px rgba(0, 0, 0, 0.15);\n",
              "      filter: drop-shadow(0px 1px 2px rgba(0, 0, 0, 0.3));\n",
              "      fill: #FFFFFF;\n",
              "    }\n",
              "  </style>\n",
              "\n",
              "    <script>\n",
              "      const buttonEl =\n",
              "        document.querySelector('#df-855075ca-7084-4884-adf8-99f0ddafba27 button.colab-df-convert');\n",
              "      buttonEl.style.display =\n",
              "        google.colab.kernel.accessAllowed ? 'block' : 'none';\n",
              "\n",
              "      async function convertToInteractive(key) {\n",
              "        const element = document.querySelector('#df-855075ca-7084-4884-adf8-99f0ddafba27');\n",
              "        const dataTable =\n",
              "          await google.colab.kernel.invokeFunction('convertToInteractive',\n",
              "                                                    [key], {});\n",
              "        if (!dataTable) return;\n",
              "\n",
              "        const docLinkHtml = 'Like what you see? Visit the ' +\n",
              "          '<a target=\"_blank\" href=https://colab.research.google.com/notebooks/data_table.ipynb>data table notebook</a>'\n",
              "          + ' to learn more about interactive tables.';\n",
              "        element.innerHTML = '';\n",
              "        dataTable['output_type'] = 'display_data';\n",
              "        await google.colab.output.renderOutput(dataTable, element);\n",
              "        const docLink = document.createElement('div');\n",
              "        docLink.innerHTML = docLinkHtml;\n",
              "        element.appendChild(docLink);\n",
              "      }\n",
              "    </script>\n",
              "  </div>\n",
              "\n",
              "\n",
              "<div id=\"df-67fc1800-4c9e-44e4-997a-d94484f08620\">\n",
              "  <button class=\"colab-df-quickchart\" onclick=\"quickchart('df-67fc1800-4c9e-44e4-997a-d94484f08620')\"\n",
              "            title=\"Suggest charts\"\n",
              "            style=\"display:none;\">\n",
              "\n",
              "<svg xmlns=\"http://www.w3.org/2000/svg\" height=\"24px\"viewBox=\"0 0 24 24\"\n",
              "     width=\"24px\">\n",
              "    <g>\n",
              "        <path d=\"M19 3H5c-1.1 0-2 .9-2 2v14c0 1.1.9 2 2 2h14c1.1 0 2-.9 2-2V5c0-1.1-.9-2-2-2zM9 17H7v-7h2v7zm4 0h-2V7h2v10zm4 0h-2v-4h2v4z\"/>\n",
              "    </g>\n",
              "</svg>\n",
              "  </button>\n",
              "\n",
              "<style>\n",
              "  .colab-df-quickchart {\n",
              "      --bg-color: #E8F0FE;\n",
              "      --fill-color: #1967D2;\n",
              "      --hover-bg-color: #E2EBFA;\n",
              "      --hover-fill-color: #174EA6;\n",
              "      --disabled-fill-color: #AAA;\n",
              "      --disabled-bg-color: #DDD;\n",
              "  }\n",
              "\n",
              "  [theme=dark] .colab-df-quickchart {\n",
              "      --bg-color: #3B4455;\n",
              "      --fill-color: #D2E3FC;\n",
              "      --hover-bg-color: #434B5C;\n",
              "      --hover-fill-color: #FFFFFF;\n",
              "      --disabled-bg-color: #3B4455;\n",
              "      --disabled-fill-color: #666;\n",
              "  }\n",
              "\n",
              "  .colab-df-quickchart {\n",
              "    background-color: var(--bg-color);\n",
              "    border: none;\n",
              "    border-radius: 50%;\n",
              "    cursor: pointer;\n",
              "    display: none;\n",
              "    fill: var(--fill-color);\n",
              "    height: 32px;\n",
              "    padding: 0;\n",
              "    width: 32px;\n",
              "  }\n",
              "\n",
              "  .colab-df-quickchart:hover {\n",
              "    background-color: var(--hover-bg-color);\n",
              "    box-shadow: 0 1px 2px rgba(60, 64, 67, 0.3), 0 1px 3px 1px rgba(60, 64, 67, 0.15);\n",
              "    fill: var(--button-hover-fill-color);\n",
              "  }\n",
              "\n",
              "  .colab-df-quickchart-complete:disabled,\n",
              "  .colab-df-quickchart-complete:disabled:hover {\n",
              "    background-color: var(--disabled-bg-color);\n",
              "    fill: var(--disabled-fill-color);\n",
              "    box-shadow: none;\n",
              "  }\n",
              "\n",
              "  .colab-df-spinner {\n",
              "    border: 2px solid var(--fill-color);\n",
              "    border-color: transparent;\n",
              "    border-bottom-color: var(--fill-color);\n",
              "    animation:\n",
              "      spin 1s steps(1) infinite;\n",
              "  }\n",
              "\n",
              "  @keyframes spin {\n",
              "    0% {\n",
              "      border-color: transparent;\n",
              "      border-bottom-color: var(--fill-color);\n",
              "      border-left-color: var(--fill-color);\n",
              "    }\n",
              "    20% {\n",
              "      border-color: transparent;\n",
              "      border-left-color: var(--fill-color);\n",
              "      border-top-color: var(--fill-color);\n",
              "    }\n",
              "    30% {\n",
              "      border-color: transparent;\n",
              "      border-left-color: var(--fill-color);\n",
              "      border-top-color: var(--fill-color);\n",
              "      border-right-color: var(--fill-color);\n",
              "    }\n",
              "    40% {\n",
              "      border-color: transparent;\n",
              "      border-right-color: var(--fill-color);\n",
              "      border-top-color: var(--fill-color);\n",
              "    }\n",
              "    60% {\n",
              "      border-color: transparent;\n",
              "      border-right-color: var(--fill-color);\n",
              "    }\n",
              "    80% {\n",
              "      border-color: transparent;\n",
              "      border-right-color: var(--fill-color);\n",
              "      border-bottom-color: var(--fill-color);\n",
              "    }\n",
              "    90% {\n",
              "      border-color: transparent;\n",
              "      border-bottom-color: var(--fill-color);\n",
              "    }\n",
              "  }\n",
              "</style>\n",
              "\n",
              "  <script>\n",
              "    async function quickchart(key) {\n",
              "      const quickchartButtonEl =\n",
              "        document.querySelector('#' + key + ' button');\n",
              "      quickchartButtonEl.disabled = true;  // To prevent multiple clicks.\n",
              "      quickchartButtonEl.classList.add('colab-df-spinner');\n",
              "      try {\n",
              "        const charts = await google.colab.kernel.invokeFunction(\n",
              "            'suggestCharts', [key], {});\n",
              "      } catch (error) {\n",
              "        console.error('Error during call to suggestCharts:', error);\n",
              "      }\n",
              "      quickchartButtonEl.classList.remove('colab-df-spinner');\n",
              "      quickchartButtonEl.classList.add('colab-df-quickchart-complete');\n",
              "    }\n",
              "    (() => {\n",
              "      let quickchartButtonEl =\n",
              "        document.querySelector('#df-67fc1800-4c9e-44e4-997a-d94484f08620 button');\n",
              "      quickchartButtonEl.style.display =\n",
              "        google.colab.kernel.accessAllowed ? 'block' : 'none';\n",
              "    })();\n",
              "  </script>\n",
              "</div>\n",
              "\n",
              "    </div>\n",
              "  </div>\n"
            ],
            "application/vnd.google.colaboratory.intrinsic+json": {
              "type": "dataframe",
              "summary": "{\n  \"name\": \"df\",\n  \"rows\": 5,\n  \"fields\": [\n    {\n      \"column\": \"Salary\",\n      \"properties\": {\n        \"dtype\": \"number\",\n        \"std\": 17444,\n        \"min\": 17000,\n        \"max\": 55000,\n        \"num_unique_values\": 4,\n        \"samples\": [\n          46000,\n          55000,\n          17000\n        ],\n        \"semantic_type\": \"\",\n        \"description\": \"\"\n      }\n    },\n    {\n      \"column\": \"Gender\",\n      \"properties\": {\n        \"dtype\": \"category\",\n        \"num_unique_values\": 2,\n        \"samples\": [\n          \"F\",\n          \"M\"\n        ],\n        \"semantic_type\": \"\",\n        \"description\": \"\"\n      }\n    }\n  ]\n}"
            }
          },
          "metadata": {},
          "execution_count": 64
        }
      ]
    },
    {
      "cell_type": "code",
      "source": [
        "# Option-3\n",
        "df[[\"Salary\",\"Gender\"]]"
      ],
      "metadata": {
        "colab": {
          "base_uri": "https://localhost:8080/",
          "height": 206
        },
        "id": "aA5rNrQKFtz0",
        "outputId": "5488acd3-9170-492d-c7f1-9870ad02b845"
      },
      "execution_count": null,
      "outputs": [
        {
          "output_type": "execute_result",
          "data": {
            "text/plain": [
              "   Salary Gender\n",
              "0   17000      M\n",
              "1   17000      F\n",
              "2   46000      M\n",
              "3   42000      M\n",
              "4   55000      F"
            ],
            "text/html": [
              "\n",
              "  <div id=\"df-e8641fac-5cf9-49b8-965a-aa653c8f08c5\" class=\"colab-df-container\">\n",
              "    <div>\n",
              "<style scoped>\n",
              "    .dataframe tbody tr th:only-of-type {\n",
              "        vertical-align: middle;\n",
              "    }\n",
              "\n",
              "    .dataframe tbody tr th {\n",
              "        vertical-align: top;\n",
              "    }\n",
              "\n",
              "    .dataframe thead th {\n",
              "        text-align: right;\n",
              "    }\n",
              "</style>\n",
              "<table border=\"1\" class=\"dataframe\">\n",
              "  <thead>\n",
              "    <tr style=\"text-align: right;\">\n",
              "      <th></th>\n",
              "      <th>Salary</th>\n",
              "      <th>Gender</th>\n",
              "    </tr>\n",
              "  </thead>\n",
              "  <tbody>\n",
              "    <tr>\n",
              "      <th>0</th>\n",
              "      <td>17000</td>\n",
              "      <td>M</td>\n",
              "    </tr>\n",
              "    <tr>\n",
              "      <th>1</th>\n",
              "      <td>17000</td>\n",
              "      <td>F</td>\n",
              "    </tr>\n",
              "    <tr>\n",
              "      <th>2</th>\n",
              "      <td>46000</td>\n",
              "      <td>M</td>\n",
              "    </tr>\n",
              "    <tr>\n",
              "      <th>3</th>\n",
              "      <td>42000</td>\n",
              "      <td>M</td>\n",
              "    </tr>\n",
              "    <tr>\n",
              "      <th>4</th>\n",
              "      <td>55000</td>\n",
              "      <td>F</td>\n",
              "    </tr>\n",
              "  </tbody>\n",
              "</table>\n",
              "</div>\n",
              "    <div class=\"colab-df-buttons\">\n",
              "\n",
              "  <div class=\"colab-df-container\">\n",
              "    <button class=\"colab-df-convert\" onclick=\"convertToInteractive('df-e8641fac-5cf9-49b8-965a-aa653c8f08c5')\"\n",
              "            title=\"Convert this dataframe to an interactive table.\"\n",
              "            style=\"display:none;\">\n",
              "\n",
              "  <svg xmlns=\"http://www.w3.org/2000/svg\" height=\"24px\" viewBox=\"0 -960 960 960\">\n",
              "    <path d=\"M120-120v-720h720v720H120Zm60-500h600v-160H180v160Zm220 220h160v-160H400v160Zm0 220h160v-160H400v160ZM180-400h160v-160H180v160Zm440 0h160v-160H620v160ZM180-180h160v-160H180v160Zm440 0h160v-160H620v160Z\"/>\n",
              "  </svg>\n",
              "    </button>\n",
              "\n",
              "  <style>\n",
              "    .colab-df-container {\n",
              "      display:flex;\n",
              "      gap: 12px;\n",
              "    }\n",
              "\n",
              "    .colab-df-convert {\n",
              "      background-color: #E8F0FE;\n",
              "      border: none;\n",
              "      border-radius: 50%;\n",
              "      cursor: pointer;\n",
              "      display: none;\n",
              "      fill: #1967D2;\n",
              "      height: 32px;\n",
              "      padding: 0 0 0 0;\n",
              "      width: 32px;\n",
              "    }\n",
              "\n",
              "    .colab-df-convert:hover {\n",
              "      background-color: #E2EBFA;\n",
              "      box-shadow: 0px 1px 2px rgba(60, 64, 67, 0.3), 0px 1px 3px 1px rgba(60, 64, 67, 0.15);\n",
              "      fill: #174EA6;\n",
              "    }\n",
              "\n",
              "    .colab-df-buttons div {\n",
              "      margin-bottom: 4px;\n",
              "    }\n",
              "\n",
              "    [theme=dark] .colab-df-convert {\n",
              "      background-color: #3B4455;\n",
              "      fill: #D2E3FC;\n",
              "    }\n",
              "\n",
              "    [theme=dark] .colab-df-convert:hover {\n",
              "      background-color: #434B5C;\n",
              "      box-shadow: 0px 1px 3px 1px rgba(0, 0, 0, 0.15);\n",
              "      filter: drop-shadow(0px 1px 2px rgba(0, 0, 0, 0.3));\n",
              "      fill: #FFFFFF;\n",
              "    }\n",
              "  </style>\n",
              "\n",
              "    <script>\n",
              "      const buttonEl =\n",
              "        document.querySelector('#df-e8641fac-5cf9-49b8-965a-aa653c8f08c5 button.colab-df-convert');\n",
              "      buttonEl.style.display =\n",
              "        google.colab.kernel.accessAllowed ? 'block' : 'none';\n",
              "\n",
              "      async function convertToInteractive(key) {\n",
              "        const element = document.querySelector('#df-e8641fac-5cf9-49b8-965a-aa653c8f08c5');\n",
              "        const dataTable =\n",
              "          await google.colab.kernel.invokeFunction('convertToInteractive',\n",
              "                                                    [key], {});\n",
              "        if (!dataTable) return;\n",
              "\n",
              "        const docLinkHtml = 'Like what you see? Visit the ' +\n",
              "          '<a target=\"_blank\" href=https://colab.research.google.com/notebooks/data_table.ipynb>data table notebook</a>'\n",
              "          + ' to learn more about interactive tables.';\n",
              "        element.innerHTML = '';\n",
              "        dataTable['output_type'] = 'display_data';\n",
              "        await google.colab.output.renderOutput(dataTable, element);\n",
              "        const docLink = document.createElement('div');\n",
              "        docLink.innerHTML = docLinkHtml;\n",
              "        element.appendChild(docLink);\n",
              "      }\n",
              "    </script>\n",
              "  </div>\n",
              "\n",
              "\n",
              "<div id=\"df-99a8fe00-ea84-4916-8741-61f70c796288\">\n",
              "  <button class=\"colab-df-quickchart\" onclick=\"quickchart('df-99a8fe00-ea84-4916-8741-61f70c796288')\"\n",
              "            title=\"Suggest charts\"\n",
              "            style=\"display:none;\">\n",
              "\n",
              "<svg xmlns=\"http://www.w3.org/2000/svg\" height=\"24px\"viewBox=\"0 0 24 24\"\n",
              "     width=\"24px\">\n",
              "    <g>\n",
              "        <path d=\"M19 3H5c-1.1 0-2 .9-2 2v14c0 1.1.9 2 2 2h14c1.1 0 2-.9 2-2V5c0-1.1-.9-2-2-2zM9 17H7v-7h2v7zm4 0h-2V7h2v10zm4 0h-2v-4h2v4z\"/>\n",
              "    </g>\n",
              "</svg>\n",
              "  </button>\n",
              "\n",
              "<style>\n",
              "  .colab-df-quickchart {\n",
              "      --bg-color: #E8F0FE;\n",
              "      --fill-color: #1967D2;\n",
              "      --hover-bg-color: #E2EBFA;\n",
              "      --hover-fill-color: #174EA6;\n",
              "      --disabled-fill-color: #AAA;\n",
              "      --disabled-bg-color: #DDD;\n",
              "  }\n",
              "\n",
              "  [theme=dark] .colab-df-quickchart {\n",
              "      --bg-color: #3B4455;\n",
              "      --fill-color: #D2E3FC;\n",
              "      --hover-bg-color: #434B5C;\n",
              "      --hover-fill-color: #FFFFFF;\n",
              "      --disabled-bg-color: #3B4455;\n",
              "      --disabled-fill-color: #666;\n",
              "  }\n",
              "\n",
              "  .colab-df-quickchart {\n",
              "    background-color: var(--bg-color);\n",
              "    border: none;\n",
              "    border-radius: 50%;\n",
              "    cursor: pointer;\n",
              "    display: none;\n",
              "    fill: var(--fill-color);\n",
              "    height: 32px;\n",
              "    padding: 0;\n",
              "    width: 32px;\n",
              "  }\n",
              "\n",
              "  .colab-df-quickchart:hover {\n",
              "    background-color: var(--hover-bg-color);\n",
              "    box-shadow: 0 1px 2px rgba(60, 64, 67, 0.3), 0 1px 3px 1px rgba(60, 64, 67, 0.15);\n",
              "    fill: var(--button-hover-fill-color);\n",
              "  }\n",
              "\n",
              "  .colab-df-quickchart-complete:disabled,\n",
              "  .colab-df-quickchart-complete:disabled:hover {\n",
              "    background-color: var(--disabled-bg-color);\n",
              "    fill: var(--disabled-fill-color);\n",
              "    box-shadow: none;\n",
              "  }\n",
              "\n",
              "  .colab-df-spinner {\n",
              "    border: 2px solid var(--fill-color);\n",
              "    border-color: transparent;\n",
              "    border-bottom-color: var(--fill-color);\n",
              "    animation:\n",
              "      spin 1s steps(1) infinite;\n",
              "  }\n",
              "\n",
              "  @keyframes spin {\n",
              "    0% {\n",
              "      border-color: transparent;\n",
              "      border-bottom-color: var(--fill-color);\n",
              "      border-left-color: var(--fill-color);\n",
              "    }\n",
              "    20% {\n",
              "      border-color: transparent;\n",
              "      border-left-color: var(--fill-color);\n",
              "      border-top-color: var(--fill-color);\n",
              "    }\n",
              "    30% {\n",
              "      border-color: transparent;\n",
              "      border-left-color: var(--fill-color);\n",
              "      border-top-color: var(--fill-color);\n",
              "      border-right-color: var(--fill-color);\n",
              "    }\n",
              "    40% {\n",
              "      border-color: transparent;\n",
              "      border-right-color: var(--fill-color);\n",
              "      border-top-color: var(--fill-color);\n",
              "    }\n",
              "    60% {\n",
              "      border-color: transparent;\n",
              "      border-right-color: var(--fill-color);\n",
              "    }\n",
              "    80% {\n",
              "      border-color: transparent;\n",
              "      border-right-color: var(--fill-color);\n",
              "      border-bottom-color: var(--fill-color);\n",
              "    }\n",
              "    90% {\n",
              "      border-color: transparent;\n",
              "      border-bottom-color: var(--fill-color);\n",
              "    }\n",
              "  }\n",
              "</style>\n",
              "\n",
              "  <script>\n",
              "    async function quickchart(key) {\n",
              "      const quickchartButtonEl =\n",
              "        document.querySelector('#' + key + ' button');\n",
              "      quickchartButtonEl.disabled = true;  // To prevent multiple clicks.\n",
              "      quickchartButtonEl.classList.add('colab-df-spinner');\n",
              "      try {\n",
              "        const charts = await google.colab.kernel.invokeFunction(\n",
              "            'suggestCharts', [key], {});\n",
              "      } catch (error) {\n",
              "        console.error('Error during call to suggestCharts:', error);\n",
              "      }\n",
              "      quickchartButtonEl.classList.remove('colab-df-spinner');\n",
              "      quickchartButtonEl.classList.add('colab-df-quickchart-complete');\n",
              "    }\n",
              "    (() => {\n",
              "      let quickchartButtonEl =\n",
              "        document.querySelector('#df-99a8fe00-ea84-4916-8741-61f70c796288 button');\n",
              "      quickchartButtonEl.style.display =\n",
              "        google.colab.kernel.accessAllowed ? 'block' : 'none';\n",
              "    })();\n",
              "  </script>\n",
              "</div>\n",
              "\n",
              "    </div>\n",
              "  </div>\n"
            ],
            "application/vnd.google.colaboratory.intrinsic+json": {
              "type": "dataframe",
              "summary": "{\n  \"name\": \"df[[\\\"Salary\\\",\\\"Gender\\\"]]\",\n  \"rows\": 5,\n  \"fields\": [\n    {\n      \"column\": \"Salary\",\n      \"properties\": {\n        \"dtype\": \"number\",\n        \"std\": 17444,\n        \"min\": 17000,\n        \"max\": 55000,\n        \"num_unique_values\": 4,\n        \"samples\": [\n          46000,\n          55000,\n          17000\n        ],\n        \"semantic_type\": \"\",\n        \"description\": \"\"\n      }\n    },\n    {\n      \"column\": \"Gender\",\n      \"properties\": {\n        \"dtype\": \"category\",\n        \"num_unique_values\": 2,\n        \"samples\": [\n          \"F\",\n          \"M\"\n        ],\n        \"semantic_type\": \"\",\n        \"description\": \"\"\n      }\n    }\n  ]\n}"
            }
          },
          "metadata": {},
          "execution_count": 65
        }
      ]
    },
    {
      "cell_type": "markdown",
      "source": [
        "**Converting a Series to 1-D array**"
      ],
      "metadata": {
        "id": "kpwDIqecGbaK"
      }
    },
    {
      "cell_type": "code",
      "source": [
        "a = df[\"Age\"].to_numpy()\n",
        "print(a)"
      ],
      "metadata": {
        "colab": {
          "base_uri": "https://localhost:8080/"
        },
        "id": "hatK-REXFunh",
        "outputId": "720cb129-371e-4ba2-9053-3042c08b424b"
      },
      "execution_count": null,
      "outputs": [
        {
          "output_type": "stream",
          "name": "stdout",
          "text": [
            "[22 30 23 25 24]\n"
          ]
        }
      ]
    },
    {
      "cell_type": "markdown",
      "source": [
        "**Converting a DataFrame to 2-D Array**"
      ],
      "metadata": {
        "id": "iaPD06mFGyjs"
      }
    },
    {
      "cell_type": "code",
      "source": [
        "df\n"
      ],
      "metadata": {
        "colab": {
          "base_uri": "https://localhost:8080/",
          "height": 206
        },
        "id": "XjWv2XexFvdA",
        "outputId": "d43bc6d9-a54e-428d-cf48-699ba42f62bb"
      },
      "execution_count": null,
      "outputs": [
        {
          "output_type": "execute_result",
          "data": {
            "text/plain": [
              "   Age  Salary Gender\n",
              "0   22   17000      M\n",
              "1   30   17000      F\n",
              "2   23   46000      M\n",
              "3   25   42000      M\n",
              "4   24   55000      F"
            ],
            "text/html": [
              "\n",
              "  <div id=\"df-8a2d952f-9f9a-4660-86c3-170776a492b2\" class=\"colab-df-container\">\n",
              "    <div>\n",
              "<style scoped>\n",
              "    .dataframe tbody tr th:only-of-type {\n",
              "        vertical-align: middle;\n",
              "    }\n",
              "\n",
              "    .dataframe tbody tr th {\n",
              "        vertical-align: top;\n",
              "    }\n",
              "\n",
              "    .dataframe thead th {\n",
              "        text-align: right;\n",
              "    }\n",
              "</style>\n",
              "<table border=\"1\" class=\"dataframe\">\n",
              "  <thead>\n",
              "    <tr style=\"text-align: right;\">\n",
              "      <th></th>\n",
              "      <th>Age</th>\n",
              "      <th>Salary</th>\n",
              "      <th>Gender</th>\n",
              "    </tr>\n",
              "  </thead>\n",
              "  <tbody>\n",
              "    <tr>\n",
              "      <th>0</th>\n",
              "      <td>22</td>\n",
              "      <td>17000</td>\n",
              "      <td>M</td>\n",
              "    </tr>\n",
              "    <tr>\n",
              "      <th>1</th>\n",
              "      <td>30</td>\n",
              "      <td>17000</td>\n",
              "      <td>F</td>\n",
              "    </tr>\n",
              "    <tr>\n",
              "      <th>2</th>\n",
              "      <td>23</td>\n",
              "      <td>46000</td>\n",
              "      <td>M</td>\n",
              "    </tr>\n",
              "    <tr>\n",
              "      <th>3</th>\n",
              "      <td>25</td>\n",
              "      <td>42000</td>\n",
              "      <td>M</td>\n",
              "    </tr>\n",
              "    <tr>\n",
              "      <th>4</th>\n",
              "      <td>24</td>\n",
              "      <td>55000</td>\n",
              "      <td>F</td>\n",
              "    </tr>\n",
              "  </tbody>\n",
              "</table>\n",
              "</div>\n",
              "    <div class=\"colab-df-buttons\">\n",
              "\n",
              "  <div class=\"colab-df-container\">\n",
              "    <button class=\"colab-df-convert\" onclick=\"convertToInteractive('df-8a2d952f-9f9a-4660-86c3-170776a492b2')\"\n",
              "            title=\"Convert this dataframe to an interactive table.\"\n",
              "            style=\"display:none;\">\n",
              "\n",
              "  <svg xmlns=\"http://www.w3.org/2000/svg\" height=\"24px\" viewBox=\"0 -960 960 960\">\n",
              "    <path d=\"M120-120v-720h720v720H120Zm60-500h600v-160H180v160Zm220 220h160v-160H400v160Zm0 220h160v-160H400v160ZM180-400h160v-160H180v160Zm440 0h160v-160H620v160ZM180-180h160v-160H180v160Zm440 0h160v-160H620v160Z\"/>\n",
              "  </svg>\n",
              "    </button>\n",
              "\n",
              "  <style>\n",
              "    .colab-df-container {\n",
              "      display:flex;\n",
              "      gap: 12px;\n",
              "    }\n",
              "\n",
              "    .colab-df-convert {\n",
              "      background-color: #E8F0FE;\n",
              "      border: none;\n",
              "      border-radius: 50%;\n",
              "      cursor: pointer;\n",
              "      display: none;\n",
              "      fill: #1967D2;\n",
              "      height: 32px;\n",
              "      padding: 0 0 0 0;\n",
              "      width: 32px;\n",
              "    }\n",
              "\n",
              "    .colab-df-convert:hover {\n",
              "      background-color: #E2EBFA;\n",
              "      box-shadow: 0px 1px 2px rgba(60, 64, 67, 0.3), 0px 1px 3px 1px rgba(60, 64, 67, 0.15);\n",
              "      fill: #174EA6;\n",
              "    }\n",
              "\n",
              "    .colab-df-buttons div {\n",
              "      margin-bottom: 4px;\n",
              "    }\n",
              "\n",
              "    [theme=dark] .colab-df-convert {\n",
              "      background-color: #3B4455;\n",
              "      fill: #D2E3FC;\n",
              "    }\n",
              "\n",
              "    [theme=dark] .colab-df-convert:hover {\n",
              "      background-color: #434B5C;\n",
              "      box-shadow: 0px 1px 3px 1px rgba(0, 0, 0, 0.15);\n",
              "      filter: drop-shadow(0px 1px 2px rgba(0, 0, 0, 0.3));\n",
              "      fill: #FFFFFF;\n",
              "    }\n",
              "  </style>\n",
              "\n",
              "    <script>\n",
              "      const buttonEl =\n",
              "        document.querySelector('#df-8a2d952f-9f9a-4660-86c3-170776a492b2 button.colab-df-convert');\n",
              "      buttonEl.style.display =\n",
              "        google.colab.kernel.accessAllowed ? 'block' : 'none';\n",
              "\n",
              "      async function convertToInteractive(key) {\n",
              "        const element = document.querySelector('#df-8a2d952f-9f9a-4660-86c3-170776a492b2');\n",
              "        const dataTable =\n",
              "          await google.colab.kernel.invokeFunction('convertToInteractive',\n",
              "                                                    [key], {});\n",
              "        if (!dataTable) return;\n",
              "\n",
              "        const docLinkHtml = 'Like what you see? Visit the ' +\n",
              "          '<a target=\"_blank\" href=https://colab.research.google.com/notebooks/data_table.ipynb>data table notebook</a>'\n",
              "          + ' to learn more about interactive tables.';\n",
              "        element.innerHTML = '';\n",
              "        dataTable['output_type'] = 'display_data';\n",
              "        await google.colab.output.renderOutput(dataTable, element);\n",
              "        const docLink = document.createElement('div');\n",
              "        docLink.innerHTML = docLinkHtml;\n",
              "        element.appendChild(docLink);\n",
              "      }\n",
              "    </script>\n",
              "  </div>\n",
              "\n",
              "\n",
              "<div id=\"df-ad8af64b-ab71-4290-abe1-2b799d043fa7\">\n",
              "  <button class=\"colab-df-quickchart\" onclick=\"quickchart('df-ad8af64b-ab71-4290-abe1-2b799d043fa7')\"\n",
              "            title=\"Suggest charts\"\n",
              "            style=\"display:none;\">\n",
              "\n",
              "<svg xmlns=\"http://www.w3.org/2000/svg\" height=\"24px\"viewBox=\"0 0 24 24\"\n",
              "     width=\"24px\">\n",
              "    <g>\n",
              "        <path d=\"M19 3H5c-1.1 0-2 .9-2 2v14c0 1.1.9 2 2 2h14c1.1 0 2-.9 2-2V5c0-1.1-.9-2-2-2zM9 17H7v-7h2v7zm4 0h-2V7h2v10zm4 0h-2v-4h2v4z\"/>\n",
              "    </g>\n",
              "</svg>\n",
              "  </button>\n",
              "\n",
              "<style>\n",
              "  .colab-df-quickchart {\n",
              "      --bg-color: #E8F0FE;\n",
              "      --fill-color: #1967D2;\n",
              "      --hover-bg-color: #E2EBFA;\n",
              "      --hover-fill-color: #174EA6;\n",
              "      --disabled-fill-color: #AAA;\n",
              "      --disabled-bg-color: #DDD;\n",
              "  }\n",
              "\n",
              "  [theme=dark] .colab-df-quickchart {\n",
              "      --bg-color: #3B4455;\n",
              "      --fill-color: #D2E3FC;\n",
              "      --hover-bg-color: #434B5C;\n",
              "      --hover-fill-color: #FFFFFF;\n",
              "      --disabled-bg-color: #3B4455;\n",
              "      --disabled-fill-color: #666;\n",
              "  }\n",
              "\n",
              "  .colab-df-quickchart {\n",
              "    background-color: var(--bg-color);\n",
              "    border: none;\n",
              "    border-radius: 50%;\n",
              "    cursor: pointer;\n",
              "    display: none;\n",
              "    fill: var(--fill-color);\n",
              "    height: 32px;\n",
              "    padding: 0;\n",
              "    width: 32px;\n",
              "  }\n",
              "\n",
              "  .colab-df-quickchart:hover {\n",
              "    background-color: var(--hover-bg-color);\n",
              "    box-shadow: 0 1px 2px rgba(60, 64, 67, 0.3), 0 1px 3px 1px rgba(60, 64, 67, 0.15);\n",
              "    fill: var(--button-hover-fill-color);\n",
              "  }\n",
              "\n",
              "  .colab-df-quickchart-complete:disabled,\n",
              "  .colab-df-quickchart-complete:disabled:hover {\n",
              "    background-color: var(--disabled-bg-color);\n",
              "    fill: var(--disabled-fill-color);\n",
              "    box-shadow: none;\n",
              "  }\n",
              "\n",
              "  .colab-df-spinner {\n",
              "    border: 2px solid var(--fill-color);\n",
              "    border-color: transparent;\n",
              "    border-bottom-color: var(--fill-color);\n",
              "    animation:\n",
              "      spin 1s steps(1) infinite;\n",
              "  }\n",
              "\n",
              "  @keyframes spin {\n",
              "    0% {\n",
              "      border-color: transparent;\n",
              "      border-bottom-color: var(--fill-color);\n",
              "      border-left-color: var(--fill-color);\n",
              "    }\n",
              "    20% {\n",
              "      border-color: transparent;\n",
              "      border-left-color: var(--fill-color);\n",
              "      border-top-color: var(--fill-color);\n",
              "    }\n",
              "    30% {\n",
              "      border-color: transparent;\n",
              "      border-left-color: var(--fill-color);\n",
              "      border-top-color: var(--fill-color);\n",
              "      border-right-color: var(--fill-color);\n",
              "    }\n",
              "    40% {\n",
              "      border-color: transparent;\n",
              "      border-right-color: var(--fill-color);\n",
              "      border-top-color: var(--fill-color);\n",
              "    }\n",
              "    60% {\n",
              "      border-color: transparent;\n",
              "      border-right-color: var(--fill-color);\n",
              "    }\n",
              "    80% {\n",
              "      border-color: transparent;\n",
              "      border-right-color: var(--fill-color);\n",
              "      border-bottom-color: var(--fill-color);\n",
              "    }\n",
              "    90% {\n",
              "      border-color: transparent;\n",
              "      border-bottom-color: var(--fill-color);\n",
              "    }\n",
              "  }\n",
              "</style>\n",
              "\n",
              "  <script>\n",
              "    async function quickchart(key) {\n",
              "      const quickchartButtonEl =\n",
              "        document.querySelector('#' + key + ' button');\n",
              "      quickchartButtonEl.disabled = true;  // To prevent multiple clicks.\n",
              "      quickchartButtonEl.classList.add('colab-df-spinner');\n",
              "      try {\n",
              "        const charts = await google.colab.kernel.invokeFunction(\n",
              "            'suggestCharts', [key], {});\n",
              "      } catch (error) {\n",
              "        console.error('Error during call to suggestCharts:', error);\n",
              "      }\n",
              "      quickchartButtonEl.classList.remove('colab-df-spinner');\n",
              "      quickchartButtonEl.classList.add('colab-df-quickchart-complete');\n",
              "    }\n",
              "    (() => {\n",
              "      let quickchartButtonEl =\n",
              "        document.querySelector('#df-ad8af64b-ab71-4290-abe1-2b799d043fa7 button');\n",
              "      quickchartButtonEl.style.display =\n",
              "        google.colab.kernel.accessAllowed ? 'block' : 'none';\n",
              "    })();\n",
              "  </script>\n",
              "</div>\n",
              "\n",
              "  <div id=\"id_59784b7a-52fd-4737-a400-ff4428f87357\">\n",
              "    <style>\n",
              "      .colab-df-generate {\n",
              "        background-color: #E8F0FE;\n",
              "        border: none;\n",
              "        border-radius: 50%;\n",
              "        cursor: pointer;\n",
              "        display: none;\n",
              "        fill: #1967D2;\n",
              "        height: 32px;\n",
              "        padding: 0 0 0 0;\n",
              "        width: 32px;\n",
              "      }\n",
              "\n",
              "      .colab-df-generate:hover {\n",
              "        background-color: #E2EBFA;\n",
              "        box-shadow: 0px 1px 2px rgba(60, 64, 67, 0.3), 0px 1px 3px 1px rgba(60, 64, 67, 0.15);\n",
              "        fill: #174EA6;\n",
              "      }\n",
              "\n",
              "      [theme=dark] .colab-df-generate {\n",
              "        background-color: #3B4455;\n",
              "        fill: #D2E3FC;\n",
              "      }\n",
              "\n",
              "      [theme=dark] .colab-df-generate:hover {\n",
              "        background-color: #434B5C;\n",
              "        box-shadow: 0px 1px 3px 1px rgba(0, 0, 0, 0.15);\n",
              "        filter: drop-shadow(0px 1px 2px rgba(0, 0, 0, 0.3));\n",
              "        fill: #FFFFFF;\n",
              "      }\n",
              "    </style>\n",
              "    <button class=\"colab-df-generate\" onclick=\"generateWithVariable('df')\"\n",
              "            title=\"Generate code using this dataframe.\"\n",
              "            style=\"display:none;\">\n",
              "\n",
              "  <svg xmlns=\"http://www.w3.org/2000/svg\" height=\"24px\"viewBox=\"0 0 24 24\"\n",
              "       width=\"24px\">\n",
              "    <path d=\"M7,19H8.4L18.45,9,17,7.55,7,17.6ZM5,21V16.75L18.45,3.32a2,2,0,0,1,2.83,0l1.4,1.43a1.91,1.91,0,0,1,.58,1.4,1.91,1.91,0,0,1-.58,1.4L9.25,21ZM18.45,9,17,7.55Zm-12,3A5.31,5.31,0,0,0,4.9,8.1,5.31,5.31,0,0,0,1,6.5,5.31,5.31,0,0,0,4.9,4.9,5.31,5.31,0,0,0,6.5,1,5.31,5.31,0,0,0,8.1,4.9,5.31,5.31,0,0,0,12,6.5,5.46,5.46,0,0,0,6.5,12Z\"/>\n",
              "  </svg>\n",
              "    </button>\n",
              "    <script>\n",
              "      (() => {\n",
              "      const buttonEl =\n",
              "        document.querySelector('#id_59784b7a-52fd-4737-a400-ff4428f87357 button.colab-df-generate');\n",
              "      buttonEl.style.display =\n",
              "        google.colab.kernel.accessAllowed ? 'block' : 'none';\n",
              "\n",
              "      buttonEl.onclick = () => {\n",
              "        google.colab.notebook.generateWithVariable('df');\n",
              "      }\n",
              "      })();\n",
              "    </script>\n",
              "  </div>\n",
              "\n",
              "    </div>\n",
              "  </div>\n"
            ],
            "application/vnd.google.colaboratory.intrinsic+json": {
              "type": "dataframe",
              "variable_name": "df",
              "summary": "{\n  \"name\": \"df\",\n  \"rows\": 5,\n  \"fields\": [\n    {\n      \"column\": \"Age\",\n      \"properties\": {\n        \"dtype\": \"number\",\n        \"std\": 3,\n        \"min\": 22,\n        \"max\": 30,\n        \"num_unique_values\": 5,\n        \"samples\": [\n          30,\n          24,\n          23\n        ],\n        \"semantic_type\": \"\",\n        \"description\": \"\"\n      }\n    },\n    {\n      \"column\": \"Salary\",\n      \"properties\": {\n        \"dtype\": \"number\",\n        \"std\": 17444,\n        \"min\": 17000,\n        \"max\": 55000,\n        \"num_unique_values\": 4,\n        \"samples\": [\n          46000,\n          55000,\n          17000\n        ],\n        \"semantic_type\": \"\",\n        \"description\": \"\"\n      }\n    },\n    {\n      \"column\": \"Gender\",\n      \"properties\": {\n        \"dtype\": \"category\",\n        \"num_unique_values\": 2,\n        \"samples\": [\n          \"F\",\n          \"M\"\n        ],\n        \"semantic_type\": \"\",\n        \"description\": \"\"\n      }\n    }\n  ]\n}"
            }
          },
          "metadata": {},
          "execution_count": 68
        }
      ]
    },
    {
      "cell_type": "code",
      "source": [
        "a = df.to_numpy()\n",
        "print(a)"
      ],
      "metadata": {
        "colab": {
          "base_uri": "https://localhost:8080/"
        },
        "id": "3T2sCRS5G5TA",
        "outputId": "c8388368-11c1-4cec-a501-99933eeaa233"
      },
      "execution_count": null,
      "outputs": [
        {
          "output_type": "stream",
          "name": "stdout",
          "text": [
            "[[22 17000 'M']\n",
            " [30 17000 'F']\n",
            " [23 46000 'M']\n",
            " [25 42000 'M']\n",
            " [24 55000 'F']]\n"
          ]
        }
      ]
    },
    {
      "cell_type": "code",
      "source": [
        "type(df[\"Age\"])"
      ],
      "metadata": {
        "colab": {
          "base_uri": "https://localhost:8080/",
          "height": 203
        },
        "id": "PTRa63tBG7om",
        "outputId": "2314d8ab-131b-4adf-b2c4-a325b45e66c3"
      },
      "execution_count": null,
      "outputs": [
        {
          "output_type": "execute_result",
          "data": {
            "text/plain": [
              "pandas.core.series.Series"
            ],
            "text/html": [
              "<div style=\"max-width:800px; border: 1px solid var(--colab-border-color);\"><style>\n",
              "      pre.function-repr-contents {\n",
              "        overflow-x: auto;\n",
              "        padding: 8px 12px;\n",
              "        max-height: 500px;\n",
              "      }\n",
              "\n",
              "      pre.function-repr-contents.function-repr-contents-collapsed {\n",
              "        cursor: pointer;\n",
              "        max-height: 100px;\n",
              "      }\n",
              "    </style>\n",
              "    <pre style=\"white-space: initial; background:\n",
              "         var(--colab-secondary-surface-color); padding: 8px 12px;\n",
              "         border-bottom: 1px solid var(--colab-border-color);\"><b>pandas.core.series.Series</b><br/>def __init__(data=None, index=None, dtype: Dtype | None=None, name=None, copy: bool | None=None, fastpath: bool=False) -&gt; None</pre><pre class=\"function-repr-contents function-repr-contents-collapsed\" style=\"\"><a class=\"filepath\" style=\"display:none\" href=\"#\">/usr/local/lib/python3.10/dist-packages/pandas/core/series.py</a>One-dimensional ndarray with axis labels (including time series).\n",
              "\n",
              "Labels need not be unique but must be a hashable type. The object\n",
              "supports both integer- and label-based indexing and provides a host of\n",
              "methods for performing operations involving the index. Statistical\n",
              "methods from ndarray have been overridden to automatically exclude\n",
              "missing data (currently represented as NaN).\n",
              "\n",
              "Operations between Series (+, -, /, \\*, \\*\\*) align values based on their\n",
              "associated index values-- they need not be the same length. The result\n",
              "index will be the sorted union of the two indexes.\n",
              "\n",
              "Parameters\n",
              "----------\n",
              "data : array-like, Iterable, dict, or scalar value\n",
              "    Contains data stored in Series. If data is a dict, argument order is\n",
              "    maintained.\n",
              "index : array-like or Index (1d)\n",
              "    Values must be hashable and have the same length as `data`.\n",
              "    Non-unique index values are allowed. Will default to\n",
              "    RangeIndex (0, 1, 2, ..., n) if not provided. If data is dict-like\n",
              "    and index is None, then the keys in the data are used as the index. If the\n",
              "    index is not None, the resulting Series is reindexed with the index values.\n",
              "dtype : str, numpy.dtype, or ExtensionDtype, optional\n",
              "    Data type for the output Series. If not specified, this will be\n",
              "    inferred from `data`.\n",
              "    See the :ref:`user guide &lt;basics.dtypes&gt;` for more usages.\n",
              "name : Hashable, default None\n",
              "    The name to give to the Series.\n",
              "copy : bool, default False\n",
              "    Copy input data. Only affects Series or 1d ndarray input. See examples.\n",
              "\n",
              "Notes\n",
              "-----\n",
              "Please reference the :ref:`User Guide &lt;basics.series&gt;` for more information.\n",
              "\n",
              "Examples\n",
              "--------\n",
              "Constructing Series from a dictionary with an Index specified\n",
              "\n",
              "&gt;&gt;&gt; d = {&#x27;a&#x27;: 1, &#x27;b&#x27;: 2, &#x27;c&#x27;: 3}\n",
              "&gt;&gt;&gt; ser = pd.Series(data=d, index=[&#x27;a&#x27;, &#x27;b&#x27;, &#x27;c&#x27;])\n",
              "&gt;&gt;&gt; ser\n",
              "a   1\n",
              "b   2\n",
              "c   3\n",
              "dtype: int64\n",
              "\n",
              "The keys of the dictionary match with the Index values, hence the Index\n",
              "values have no effect.\n",
              "\n",
              "&gt;&gt;&gt; d = {&#x27;a&#x27;: 1, &#x27;b&#x27;: 2, &#x27;c&#x27;: 3}\n",
              "&gt;&gt;&gt; ser = pd.Series(data=d, index=[&#x27;x&#x27;, &#x27;y&#x27;, &#x27;z&#x27;])\n",
              "&gt;&gt;&gt; ser\n",
              "x   NaN\n",
              "y   NaN\n",
              "z   NaN\n",
              "dtype: float64\n",
              "\n",
              "Note that the Index is first build with the keys from the dictionary.\n",
              "After this the Series is reindexed with the given Index values, hence we\n",
              "get all NaN as a result.\n",
              "\n",
              "Constructing Series from a list with `copy=False`.\n",
              "\n",
              "&gt;&gt;&gt; r = [1, 2]\n",
              "&gt;&gt;&gt; ser = pd.Series(r, copy=False)\n",
              "&gt;&gt;&gt; ser.iloc[0] = 999\n",
              "&gt;&gt;&gt; r\n",
              "[1, 2]\n",
              "&gt;&gt;&gt; ser\n",
              "0    999\n",
              "1      2\n",
              "dtype: int64\n",
              "\n",
              "Due to input data type the Series has a `copy` of\n",
              "the original data even though `copy=False`, so\n",
              "the data is unchanged.\n",
              "\n",
              "Constructing Series from a 1d ndarray with `copy=False`.\n",
              "\n",
              "&gt;&gt;&gt; r = np.array([1, 2])\n",
              "&gt;&gt;&gt; ser = pd.Series(r, copy=False)\n",
              "&gt;&gt;&gt; ser.iloc[0] = 999\n",
              "&gt;&gt;&gt; r\n",
              "array([999,   2])\n",
              "&gt;&gt;&gt; ser\n",
              "0    999\n",
              "1      2\n",
              "dtype: int64\n",
              "\n",
              "Due to input data type the Series has a `view` on\n",
              "the original data, so\n",
              "the data is changed as well.</pre>\n",
              "      <script>\n",
              "      if (google.colab.kernel.accessAllowed && google.colab.files && google.colab.files.view) {\n",
              "        for (const element of document.querySelectorAll('.filepath')) {\n",
              "          element.style.display = 'block'\n",
              "          element.onclick = (event) => {\n",
              "            event.preventDefault();\n",
              "            event.stopPropagation();\n",
              "            google.colab.files.view(element.textContent, 244);\n",
              "          };\n",
              "        }\n",
              "      }\n",
              "      for (const element of document.querySelectorAll('.function-repr-contents')) {\n",
              "        element.onclick = (event) => {\n",
              "          event.preventDefault();\n",
              "          event.stopPropagation();\n",
              "          element.classList.toggle('function-repr-contents-collapsed');\n",
              "        };\n",
              "      }\n",
              "      </script>\n",
              "      </div>"
            ]
          },
          "metadata": {},
          "execution_count": 73
        }
      ]
    },
    {
      "cell_type": "code",
      "source": [
        "type(df[[\"Age\"]])"
      ],
      "metadata": {
        "colab": {
          "base_uri": "https://localhost:8080/",
          "height": 203
        },
        "id": "6z256c_sHGAw",
        "outputId": "9a58c40e-9229-4884-cc0c-0522c268e0c9"
      },
      "execution_count": null,
      "outputs": [
        {
          "output_type": "execute_result",
          "data": {
            "text/plain": [
              "pandas.core.frame.DataFrame"
            ],
            "text/html": [
              "<div style=\"max-width:800px; border: 1px solid var(--colab-border-color);\"><style>\n",
              "      pre.function-repr-contents {\n",
              "        overflow-x: auto;\n",
              "        padding: 8px 12px;\n",
              "        max-height: 500px;\n",
              "      }\n",
              "\n",
              "      pre.function-repr-contents.function-repr-contents-collapsed {\n",
              "        cursor: pointer;\n",
              "        max-height: 100px;\n",
              "      }\n",
              "    </style>\n",
              "    <pre style=\"white-space: initial; background:\n",
              "         var(--colab-secondary-surface-color); padding: 8px 12px;\n",
              "         border-bottom: 1px solid var(--colab-border-color);\"><b>pandas.core.frame.DataFrame</b><br/>def __init__(data=None, index: Axes | None=None, columns: Axes | None=None, dtype: Dtype | None=None, copy: bool | None=None) -&gt; None</pre><pre class=\"function-repr-contents function-repr-contents-collapsed\" style=\"\"><a class=\"filepath\" style=\"display:none\" href=\"#\">/usr/local/lib/python3.10/dist-packages/pandas/core/frame.py</a>Two-dimensional, size-mutable, potentially heterogeneous tabular data.\n",
              "\n",
              "Data structure also contains labeled axes (rows and columns).\n",
              "Arithmetic operations align on both row and column labels. Can be\n",
              "thought of as a dict-like container for Series objects. The primary\n",
              "pandas data structure.\n",
              "\n",
              "Parameters\n",
              "----------\n",
              "data : ndarray (structured or homogeneous), Iterable, dict, or DataFrame\n",
              "    Dict can contain Series, arrays, constants, dataclass or list-like objects. If\n",
              "    data is a dict, column order follows insertion-order. If a dict contains Series\n",
              "    which have an index defined, it is aligned by its index. This alignment also\n",
              "    occurs if data is a Series or a DataFrame itself. Alignment is done on\n",
              "    Series/DataFrame inputs.\n",
              "\n",
              "    If data is a list of dicts, column order follows insertion-order.\n",
              "\n",
              "index : Index or array-like\n",
              "    Index to use for resulting frame. Will default to RangeIndex if\n",
              "    no indexing information part of input data and no index provided.\n",
              "columns : Index or array-like\n",
              "    Column labels to use for resulting frame when data does not have them,\n",
              "    defaulting to RangeIndex(0, 1, 2, ..., n). If data contains column labels,\n",
              "    will perform column selection instead.\n",
              "dtype : dtype, default None\n",
              "    Data type to force. Only a single dtype is allowed. If None, infer.\n",
              "copy : bool or None, default None\n",
              "    Copy data from inputs.\n",
              "    For dict data, the default of None behaves like ``copy=True``.  For DataFrame\n",
              "    or 2d ndarray input, the default of None behaves like ``copy=False``.\n",
              "    If data is a dict containing one or more Series (possibly of different dtypes),\n",
              "    ``copy=False`` will ensure that these inputs are not copied.\n",
              "\n",
              "    .. versionchanged:: 1.3.0\n",
              "\n",
              "See Also\n",
              "--------\n",
              "DataFrame.from_records : Constructor from tuples, also record arrays.\n",
              "DataFrame.from_dict : From dicts of Series, arrays, or dicts.\n",
              "read_csv : Read a comma-separated values (csv) file into DataFrame.\n",
              "read_table : Read general delimited file into DataFrame.\n",
              "read_clipboard : Read text from clipboard into DataFrame.\n",
              "\n",
              "Notes\n",
              "-----\n",
              "Please reference the :ref:`User Guide &lt;basics.dataframe&gt;` for more information.\n",
              "\n",
              "Examples\n",
              "--------\n",
              "Constructing DataFrame from a dictionary.\n",
              "\n",
              "&gt;&gt;&gt; d = {&#x27;col1&#x27;: [1, 2], &#x27;col2&#x27;: [3, 4]}\n",
              "&gt;&gt;&gt; df = pd.DataFrame(data=d)\n",
              "&gt;&gt;&gt; df\n",
              "   col1  col2\n",
              "0     1     3\n",
              "1     2     4\n",
              "\n",
              "Notice that the inferred dtype is int64.\n",
              "\n",
              "&gt;&gt;&gt; df.dtypes\n",
              "col1    int64\n",
              "col2    int64\n",
              "dtype: object\n",
              "\n",
              "To enforce a single dtype:\n",
              "\n",
              "&gt;&gt;&gt; df = pd.DataFrame(data=d, dtype=np.int8)\n",
              "&gt;&gt;&gt; df.dtypes\n",
              "col1    int8\n",
              "col2    int8\n",
              "dtype: object\n",
              "\n",
              "Constructing DataFrame from a dictionary including Series:\n",
              "\n",
              "&gt;&gt;&gt; d = {&#x27;col1&#x27;: [0, 1, 2, 3], &#x27;col2&#x27;: pd.Series([2, 3], index=[2, 3])}\n",
              "&gt;&gt;&gt; pd.DataFrame(data=d, index=[0, 1, 2, 3])\n",
              "   col1  col2\n",
              "0     0   NaN\n",
              "1     1   NaN\n",
              "2     2   2.0\n",
              "3     3   3.0\n",
              "\n",
              "Constructing DataFrame from numpy ndarray:\n",
              "\n",
              "&gt;&gt;&gt; df2 = pd.DataFrame(np.array([[1, 2, 3], [4, 5, 6], [7, 8, 9]]),\n",
              "...                    columns=[&#x27;a&#x27;, &#x27;b&#x27;, &#x27;c&#x27;])\n",
              "&gt;&gt;&gt; df2\n",
              "   a  b  c\n",
              "0  1  2  3\n",
              "1  4  5  6\n",
              "2  7  8  9\n",
              "\n",
              "Constructing DataFrame from a numpy ndarray that has labeled columns:\n",
              "\n",
              "&gt;&gt;&gt; data = np.array([(1, 2, 3), (4, 5, 6), (7, 8, 9)],\n",
              "...                 dtype=[(&quot;a&quot;, &quot;i4&quot;), (&quot;b&quot;, &quot;i4&quot;), (&quot;c&quot;, &quot;i4&quot;)])\n",
              "&gt;&gt;&gt; df3 = pd.DataFrame(data, columns=[&#x27;c&#x27;, &#x27;a&#x27;])\n",
              "...\n",
              "&gt;&gt;&gt; df3\n",
              "   c  a\n",
              "0  3  1\n",
              "1  6  4\n",
              "2  9  7\n",
              "\n",
              "Constructing DataFrame from dataclass:\n",
              "\n",
              "&gt;&gt;&gt; from dataclasses import make_dataclass\n",
              "&gt;&gt;&gt; Point = make_dataclass(&quot;Point&quot;, [(&quot;x&quot;, int), (&quot;y&quot;, int)])\n",
              "&gt;&gt;&gt; pd.DataFrame([Point(0, 0), Point(0, 3), Point(2, 3)])\n",
              "   x  y\n",
              "0  0  0\n",
              "1  0  3\n",
              "2  2  3\n",
              "\n",
              "Constructing DataFrame from Series/DataFrame:\n",
              "\n",
              "&gt;&gt;&gt; ser = pd.Series([1, 2, 3], index=[&quot;a&quot;, &quot;b&quot;, &quot;c&quot;])\n",
              "&gt;&gt;&gt; df = pd.DataFrame(data=ser, index=[&quot;a&quot;, &quot;c&quot;])\n",
              "&gt;&gt;&gt; df\n",
              "   0\n",
              "a  1\n",
              "c  3\n",
              "\n",
              "&gt;&gt;&gt; df1 = pd.DataFrame([1, 2, 3], index=[&quot;a&quot;, &quot;b&quot;, &quot;c&quot;], columns=[&quot;x&quot;])\n",
              "&gt;&gt;&gt; df2 = pd.DataFrame(data=df1, index=[&quot;a&quot;, &quot;c&quot;])\n",
              "&gt;&gt;&gt; df2\n",
              "   x\n",
              "a  1\n",
              "c  3</pre>\n",
              "      <script>\n",
              "      if (google.colab.kernel.accessAllowed && google.colab.files && google.colab.files.view) {\n",
              "        for (const element of document.querySelectorAll('.filepath')) {\n",
              "          element.style.display = 'block'\n",
              "          element.onclick = (event) => {\n",
              "            event.preventDefault();\n",
              "            event.stopPropagation();\n",
              "            google.colab.files.view(element.textContent, 490);\n",
              "          };\n",
              "        }\n",
              "      }\n",
              "      for (const element of document.querySelectorAll('.function-repr-contents')) {\n",
              "        element.onclick = (event) => {\n",
              "          event.preventDefault();\n",
              "          event.stopPropagation();\n",
              "          element.classList.toggle('function-repr-contents-collapsed');\n",
              "        };\n",
              "      }\n",
              "      </script>\n",
              "      </div>"
            ]
          },
          "metadata": {},
          "execution_count": 74
        }
      ]
    },
    {
      "cell_type": "code",
      "source": [
        "df[[\"Age\",\"Gender\"]].to_numpy()"
      ],
      "metadata": {
        "colab": {
          "base_uri": "https://localhost:8080/"
        },
        "id": "_m6BqBYrHHm5",
        "outputId": "05471980-142c-424b-a289-74ba0f6b2582"
      },
      "execution_count": null,
      "outputs": [
        {
          "output_type": "execute_result",
          "data": {
            "text/plain": [
              "array([[22, 'M'],\n",
              "       [30, 'F'],\n",
              "       [23, 'M'],\n",
              "       [25, 'M'],\n",
              "       [24, 'F']], dtype=object)"
            ]
          },
          "metadata": {},
          "execution_count": 75
        }
      ]
    },
    {
      "cell_type": "code",
      "source": [
        "df.index\n"
      ],
      "metadata": {
        "colab": {
          "base_uri": "https://localhost:8080/"
        },
        "id": "GFy653wiHbbf",
        "outputId": "e14b5358-996a-4433-d4fd-2bce0da937f5"
      },
      "execution_count": null,
      "outputs": [
        {
          "output_type": "execute_result",
          "data": {
            "text/plain": [
              "RangeIndex(start=0, stop=5, step=1)"
            ]
          },
          "metadata": {},
          "execution_count": 76
        }
      ]
    },
    {
      "cell_type": "code",
      "source": [
        "df.index.tolist()"
      ],
      "metadata": {
        "colab": {
          "base_uri": "https://localhost:8080/"
        },
        "id": "551NTu2SHj4g",
        "outputId": "0197b523-3211-4e4c-ba1c-05481d0479e8"
      },
      "execution_count": null,
      "outputs": [
        {
          "output_type": "execute_result",
          "data": {
            "text/plain": [
              "[0, 1, 2, 3, 4]"
            ]
          },
          "metadata": {},
          "execution_count": 77
        }
      ]
    },
    {
      "cell_type": "code",
      "source": [
        "df[\"Age\"].to_numpy().tolist()[3]"
      ],
      "metadata": {
        "colab": {
          "base_uri": "https://localhost:8080/"
        },
        "id": "Ay6ZW710Hl90",
        "outputId": "9c0dfeaf-f1ed-49e5-8c49-6237cc8fe102"
      },
      "execution_count": null,
      "outputs": [
        {
          "output_type": "execute_result",
          "data": {
            "text/plain": [
              "25"
            ]
          },
          "metadata": {},
          "execution_count": 79
        }
      ]
    },
    {
      "cell_type": "markdown",
      "source": [
        "**Drop a row or column**"
      ],
      "metadata": {
        "id": "ehSGrB7wIJu6"
      }
    },
    {
      "cell_type": "code",
      "source": [
        "print(df)"
      ],
      "metadata": {
        "colab": {
          "base_uri": "https://localhost:8080/"
        },
        "id": "iWa68i8uITgN",
        "outputId": "dec865ec-c3c2-483f-b692-667549d7e80c"
      },
      "execution_count": null,
      "outputs": [
        {
          "output_type": "stream",
          "name": "stdout",
          "text": [
            "   Age  Salary Gender\n",
            "0   22   17000      M\n",
            "1   30   17000      F\n",
            "2   23   46000      M\n",
            "3   25   42000      M\n",
            "4   24   55000      F\n"
          ]
        }
      ]
    },
    {
      "cell_type": "code",
      "source": [
        "a = df.drop(index=1)\n",
        "print(a)"
      ],
      "metadata": {
        "colab": {
          "base_uri": "https://localhost:8080/"
        },
        "id": "ZXD8h_vcHz9y",
        "outputId": "33d77a1f-e20a-46d0-bbc5-4df512dcde59"
      },
      "execution_count": null,
      "outputs": [
        {
          "output_type": "stream",
          "name": "stdout",
          "text": [
            "   Age  Salary Gender\n",
            "0   22   17000      M\n",
            "2   23   46000      M\n",
            "3   25   42000      M\n",
            "4   24   55000      F\n"
          ]
        }
      ]
    },
    {
      "cell_type": "code",
      "source": [
        "b = df.drop(index = [2,3])\n",
        "print(b)"
      ],
      "metadata": {
        "colab": {
          "base_uri": "https://localhost:8080/"
        },
        "id": "__hvg0lfIIwo",
        "outputId": "1e77b1d9-bcde-44de-8917-4af236dba013"
      },
      "execution_count": null,
      "outputs": [
        {
          "output_type": "stream",
          "name": "stdout",
          "text": [
            "   Age  Salary Gender\n",
            "0   22   17000      M\n",
            "1   30   17000      F\n",
            "4   24   55000      F\n"
          ]
        }
      ]
    },
    {
      "cell_type": "code",
      "source": [
        "c = df.drop(columns=\"Gender\")\n",
        "print(c)"
      ],
      "metadata": {
        "colab": {
          "base_uri": "https://localhost:8080/"
        },
        "id": "aYUwUKymIcQ5",
        "outputId": "de3955ee-44c8-4a9b-e1ee-2a39170d291f"
      },
      "execution_count": null,
      "outputs": [
        {
          "output_type": "stream",
          "name": "stdout",
          "text": [
            "   Age  Salary\n",
            "0   22   17000\n",
            "1   30   17000\n",
            "2   23   46000\n",
            "3   25   42000\n",
            "4   24   55000\n"
          ]
        }
      ]
    },
    {
      "cell_type": "code",
      "source": [
        "d = df.drop(columns=[\"Gender\",\"Age\"])\n",
        "print(d)"
      ],
      "metadata": {
        "colab": {
          "base_uri": "https://localhost:8080/"
        },
        "id": "buehPIsxIlwx",
        "outputId": "06bee781-26d6-48da-c164-01c971d7c19d"
      },
      "execution_count": null,
      "outputs": [
        {
          "output_type": "stream",
          "name": "stdout",
          "text": [
            "   Salary\n",
            "0   17000\n",
            "1   17000\n",
            "2   46000\n",
            "3   42000\n",
            "4   55000\n"
          ]
        }
      ]
    },
    {
      "cell_type": "code",
      "source": [
        "e = df.drop(index = 1, columns = \"Gender\")\n",
        "print(e)"
      ],
      "metadata": {
        "colab": {
          "base_uri": "https://localhost:8080/"
        },
        "id": "E9BMPiJGIvlw",
        "outputId": "223cc4de-0422-41fc-c328-9e2d5fc92dfa"
      },
      "execution_count": null,
      "outputs": [
        {
          "output_type": "stream",
          "name": "stdout",
          "text": [
            "   Age  Salary\n",
            "0   22   17000\n",
            "2   23   46000\n",
            "3   25   42000\n",
            "4   24   55000\n"
          ]
        }
      ]
    },
    {
      "cell_type": "code",
      "source": [
        "f = df.drop(1, axis = 0)\n",
        "print(f)"
      ],
      "metadata": {
        "colab": {
          "base_uri": "https://localhost:8080/"
        },
        "id": "ZvVcuRmBJL4H",
        "outputId": "97401655-27f9-4b7d-e7f6-2aef3e3d7356"
      },
      "execution_count": null,
      "outputs": [
        {
          "output_type": "stream",
          "name": "stdout",
          "text": [
            "   Age  Salary Gender\n",
            "0   22   17000      M\n",
            "2   23   46000      M\n",
            "3   25   42000      M\n",
            "4   24   55000      F\n"
          ]
        }
      ]
    },
    {
      "cell_type": "code",
      "source": [
        "g = df.drop(\"Salary\", axis = 1)\n",
        "print(g)"
      ],
      "metadata": {
        "colab": {
          "base_uri": "https://localhost:8080/"
        },
        "id": "SeR7rbYXJPr_",
        "outputId": "e857bcd5-53f2-4d4a-c4ff-c3d750cee957"
      },
      "execution_count": null,
      "outputs": [
        {
          "output_type": "stream",
          "name": "stdout",
          "text": [
            "   Age Gender\n",
            "0   22      M\n",
            "1   30      F\n",
            "2   23      M\n",
            "3   25      M\n",
            "4   24      F\n"
          ]
        }
      ]
    },
    {
      "cell_type": "code",
      "source": [
        "i = df[df[\"Gender\"] == \"M\"]\n",
        "print(i)"
      ],
      "metadata": {
        "colab": {
          "base_uri": "https://localhost:8080/"
        },
        "id": "Z12PwD8lJTwH",
        "outputId": "fdcd3a70-56f5-42b3-ad1c-6c96d1e38abd"
      },
      "execution_count": null,
      "outputs": [
        {
          "output_type": "stream",
          "name": "stdout",
          "text": [
            "   Age  Salary Gender\n",
            "0   22   17000      M\n",
            "2   23   46000      M\n",
            "3   25   42000      M\n"
          ]
        }
      ]
    },
    {
      "cell_type": "code",
      "source": [],
      "metadata": {
        "id": "CdF40RGhJ4gW"
      },
      "execution_count": null,
      "outputs": []
    }
  ]
}