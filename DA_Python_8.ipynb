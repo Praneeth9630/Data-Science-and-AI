{
  "nbformat": 4,
  "nbformat_minor": 0,
  "metadata": {
    "colab": {
      "provenance": [],
      "authorship_tag": "ABX9TyMa6cZ03KNjjb3gh08oBTxt",
      "include_colab_link": true
    },
    "kernelspec": {
      "name": "python3",
      "display_name": "Python 3"
    },
    "language_info": {
      "name": "python"
    }
  },
  "cells": [
    {
      "cell_type": "markdown",
      "metadata": {
        "id": "view-in-github",
        "colab_type": "text"
      },
      "source": [
        "<a href=\"https://colab.research.google.com/github/Praneeth9630/Data-Science-and-AI/blob/main/DA_Python_8.ipynb\" target=\"_parent\"><img src=\"https://colab.research.google.com/assets/colab-badge.svg\" alt=\"Open In Colab\"/></a>"
      ]
    },
    {
      "cell_type": "markdown",
      "source": [
        "# **Dictionaries**\n",
        "- Dictionary is a unordered collection\n",
        "\n",
        "**Empty dictionary**"
      ],
      "metadata": {
        "id": "b2ZsTdm8Uydk"
      }
    },
    {
      "cell_type": "code",
      "execution_count": null,
      "metadata": {
        "colab": {
          "base_uri": "https://localhost:8080/"
        },
        "id": "mF-a-BiwUtEd",
        "outputId": "b35590ba-de4e-44fb-8aea-314f8f8b0a67"
      },
      "outputs": [
        {
          "output_type": "stream",
          "name": "stdout",
          "text": [
            "{}\n",
            "{}\n"
          ]
        }
      ],
      "source": [
        "emp_dict_1 = {}\n",
        "print(emp_dict_1)\n",
        "\n",
        "emp_dict_2 = {}\n",
        "print(emp_dict_2)"
      ]
    },
    {
      "cell_type": "code",
      "source": [],
      "metadata": {
        "id": "Wjq9MNrxVLiz"
      },
      "execution_count": null,
      "outputs": []
    }
  ]
}