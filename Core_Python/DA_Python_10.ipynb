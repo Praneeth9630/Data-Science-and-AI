{
  "nbformat": 4,
  "nbformat_minor": 0,
  "metadata": {
    "colab": {
      "provenance": []
    },
    "kernelspec": {
      "name": "python3",
      "display_name": "Python 3"
    },
    "language_info": {
      "name": "python"
    }
  },
  "cells": [
    {
      "cell_type": "markdown",
      "source": [
        "# **Decision Making statements**\n",
        "- These are also called as Conditional statements or Control flow statements in python\n",
        " - if\n",
        " - if-else\n",
        " - if-elif\n",
        " - if-elif-else\n",
        " - nested if\n",
        "\n",
        "# **Block Structure**\n",
        "- The code that is executed when a specific condition is met is defined in a \"block.\"\n",
        "- Statements preceding blocks generally end with a colon (:)\n",
        "- In Python, the block structure is signalled by changes in indentation.\n",
        "- Each line of code in a certain block level must be indented equally and indented more than the surrounding scope.\n",
        "- The standard is to use 4 spaces for each level of block indentation.\n",
        "\n",
        "# **if:**\n",
        "-  An if statement consists of a Boolean expression followed by one or more lines of code\n",
        "- only if condition is True, it exectes the lines of code inside the block\n",
        "-  If the text expression is False, the statement(s) is not executed.\n"
      ],
      "metadata": {
        "id": "wFX6uB5leMaG"
      }
    },
    {
      "cell_type": "code",
      "execution_count": null,
      "metadata": {
        "colab": {
          "base_uri": "https://localhost:8080/"
        },
        "id": "viAEaFuqeJTe",
        "outputId": "729f8d92-ef3b-434e-eb09-caca666c2db2"
      },
      "outputs": [
        {
          "output_type": "execute_result",
          "data": {
            "text/plain": [
              "True"
            ]
          },
          "metadata": {},
          "execution_count": 1
        }
      ],
      "source": [
        "1 < 2"
      ]
    },
    {
      "cell_type": "code",
      "source": [
        "if 1<2 :\n",
        "  print(\"Data Science\")\n",
        "  print(\"praneeth\")\n",
        "  print(\"surya\")"
      ],
      "metadata": {
        "colab": {
          "base_uri": "https://localhost:8080/"
        },
        "id": "TYUqSb1khhY7",
        "outputId": "7f85c3a5-824a-4b2e-ffe4-cffcf631e635"
      },
      "execution_count": null,
      "outputs": [
        {
          "output_type": "stream",
          "name": "stdout",
          "text": [
            "Data Science\n",
            "praneeth\n",
            "surya\n"
          ]
        }
      ]
    },
    {
      "cell_type": "code",
      "source": [
        "if 1<2 :\n",
        "\n",
        "print(\"Data Science\")\n",
        "  print(\"praneeth\")"
      ],
      "metadata": {
        "colab": {
          "base_uri": "https://localhost:8080/",
          "height": 106
        },
        "id": "Eh3GgVHqhl0Y",
        "outputId": "a58b2b50-cc2a-4728-d65b-2fc4e3730171"
      },
      "execution_count": null,
      "outputs": [
        {
          "output_type": "error",
          "ename": "IndentationError",
          "evalue": "expected an indented block after 'if' statement on line 1 (<ipython-input-4-bbc884214a3b>, line 3)",
          "traceback": [
            "\u001b[0;36m  File \u001b[0;32m\"<ipython-input-4-bbc884214a3b>\"\u001b[0;36m, line \u001b[0;32m3\u001b[0m\n\u001b[0;31m    print(\"Data Science\")\u001b[0m\n\u001b[0m    ^\u001b[0m\n\u001b[0;31mIndentationError\u001b[0m\u001b[0;31m:\u001b[0m expected an indented block after 'if' statement on line 1\n"
          ]
        }
      ]
    },
    {
      "cell_type": "code",
      "source": [
        "if 1+2 :                               # It will take bool of 1 + 2\n",
        "  print(\"Data Science\")\n",
        "  print(\"praneeth\")\n",
        "  print(\"surya\")"
      ],
      "metadata": {
        "colab": {
          "base_uri": "https://localhost:8080/"
        },
        "id": "VzPY-wTph8yw",
        "outputId": "a5cac9fa-1c65-43d8-8404-881629bb3d88"
      },
      "execution_count": null,
      "outputs": [
        {
          "output_type": "stream",
          "name": "stdout",
          "text": [
            "Data Science\n",
            "praneeth\n",
            "surya\n"
          ]
        }
      ]
    },
    {
      "cell_type": "code",
      "source": [
        "if True :\n",
        "  print(\"Data Science\")\n",
        "  print(\"praneeth\")\n",
        "  print(\"surya\")"
      ],
      "metadata": {
        "colab": {
          "base_uri": "https://localhost:8080/"
        },
        "id": "htgnvqypiGAl",
        "outputId": "ddac9f9d-8136-4d85-f46b-ef5301b43f93"
      },
      "execution_count": null,
      "outputs": [
        {
          "output_type": "stream",
          "name": "stdout",
          "text": [
            "Data Science\n",
            "praneeth\n",
            "surya\n"
          ]
        }
      ]
    },
    {
      "cell_type": "code",
      "source": [
        "if 1>3:\n",
        "  print(\"DS\")    # it will ignore"
      ],
      "metadata": {
        "id": "hEifDJR8iMkQ"
      },
      "execution_count": null,
      "outputs": []
    },
    {
      "cell_type": "code",
      "source": [
        "if 1 < 2:\n",
        "  a = 20\n",
        "  b = 30\n",
        "  c = a + b\n",
        "  print(c)"
      ],
      "metadata": {
        "colab": {
          "base_uri": "https://localhost:8080/"
        },
        "id": "AkYKbCIpifjC",
        "outputId": "8b7899ae-263f-4711-a8a7-eefc31a4f5f1"
      },
      "execution_count": null,
      "outputs": [
        {
          "output_type": "stream",
          "name": "stdout",
          "text": [
            "50\n"
          ]
        }
      ]
    },
    {
      "cell_type": "code",
      "source": [
        "if True :\n",
        "  print(\"Data Science\")\n",
        "  print(\"praneeth\")\n",
        "  print(\"surya\")\n",
        "print(\"Out of IF block\")  # Irrespective of condition in it will run"
      ],
      "metadata": {
        "colab": {
          "base_uri": "https://localhost:8080/"
        },
        "id": "-R_zn0AQisV7",
        "outputId": "cfdb199a-58e4-45a5-d366-08645b59c8bf"
      },
      "execution_count": null,
      "outputs": [
        {
          "output_type": "stream",
          "name": "stdout",
          "text": [
            "Data Science\n",
            "praneeth\n",
            "surya\n",
            "Out of IF block\n"
          ]
        }
      ]
    },
    {
      "cell_type": "code",
      "source": [
        "if False :\n",
        "  print(\"Data Science\")\n",
        "  print(\"praneeth\")\n",
        "  print(\"surya\")\n",
        "print(\"Out of IF block\")  # Irrespective of condition in it will run"
      ],
      "metadata": {
        "colab": {
          "base_uri": "https://localhost:8080/"
        },
        "id": "Lbgsv1RYizVp",
        "outputId": "056d7663-0381-4d1f-f3d9-97df230fd8a3"
      },
      "execution_count": null,
      "outputs": [
        {
          "output_type": "stream",
          "name": "stdout",
          "text": [
            "Out of IF block\n"
          ]
        }
      ]
    },
    {
      "cell_type": "code",
      "source": [
        "name = input(\"Enter your name: \")\n",
        "\n",
        "if name == \"praneeth\":\n",
        "  print(\"Hey Praneeth\")\n",
        "\n"
      ],
      "metadata": {
        "colab": {
          "base_uri": "https://localhost:8080/"
        },
        "id": "FsHwZmA1jBL-",
        "outputId": "c620e38a-a9c3-4f69-8727-e7d12406863b"
      },
      "execution_count": null,
      "outputs": [
        {
          "output_type": "stream",
          "name": "stdout",
          "text": [
            "Enter your name: praneeth\n",
            "Hey Praneeth\n"
          ]
        }
      ]
    },
    {
      "cell_type": "code",
      "source": [
        "x = 9\n",
        "\n",
        "if x > 0 and x < 10:\n",
        "  print(\"Data Science\")\n",
        "  print(\"Python\")\n",
        "\n",
        "print(\"Praneeth\")"
      ],
      "metadata": {
        "colab": {
          "base_uri": "https://localhost:8080/"
        },
        "id": "PqVAvQbIjZz-",
        "outputId": "3935c33d-a4bf-4d47-c831-6d51bf67580c"
      },
      "execution_count": null,
      "outputs": [
        {
          "output_type": "stream",
          "name": "stdout",
          "text": [
            "Data Science\n",
            "Python\n",
            "Praneeth\n"
          ]
        }
      ]
    },
    {
      "cell_type": "code",
      "source": [
        "x = 11\n",
        "\n",
        "if x > 0 and x < 10:\n",
        "  print(\"Data Science\")\n",
        "  print(\"Python\")\n",
        "\n",
        "print(\"Praneeth\")"
      ],
      "metadata": {
        "colab": {
          "base_uri": "https://localhost:8080/"
        },
        "id": "mXpiPkKGj68z",
        "outputId": "aa402cd2-9d47-4b1c-a651-53e68c3ab556"
      },
      "execution_count": null,
      "outputs": [
        {
          "output_type": "stream",
          "name": "stdout",
          "text": [
            "Praneeth\n"
          ]
        }
      ]
    },
    {
      "cell_type": "markdown",
      "source": [
        "# **if - else:**"
      ],
      "metadata": {
        "id": "cFXlc5BnkIUe"
      }
    },
    {
      "cell_type": "code",
      "source": [
        "a,b,c,d = 2,2,3,4\n",
        "\n",
        "if (a==b and c!= d):\n",
        "  print(\"abc\")\n",
        "else:\n",
        "  print(\"def\")\n",
        "\n",
        "print(\"praneeth\")"
      ],
      "metadata": {
        "colab": {
          "base_uri": "https://localhost:8080/"
        },
        "id": "cD5L-sDMj9xf",
        "outputId": "37e8b947-a6fc-4824-872a-31b99a8cf19f"
      },
      "execution_count": null,
      "outputs": [
        {
          "output_type": "stream",
          "name": "stdout",
          "text": [
            "abc\n",
            "praneeth\n"
          ]
        }
      ]
    },
    {
      "cell_type": "code",
      "source": [
        "a,b,c,d = 2,2,3,4\n",
        "\n",
        "if (a==b and c== d):\n",
        "  print(\"abc\")\n",
        "else:\n",
        "  print(\"def\")"
      ],
      "metadata": {
        "colab": {
          "base_uri": "https://localhost:8080/"
        },
        "id": "sgWeMjNike9J",
        "outputId": "09e22231-0b90-47c1-ac16-75800b502572"
      },
      "execution_count": null,
      "outputs": [
        {
          "output_type": "stream",
          "name": "stdout",
          "text": [
            "def\n"
          ]
        }
      ]
    },
    {
      "cell_type": "code",
      "source": [
        "marks = eval(input(\"Enter your marks: \"))\n",
        "\n",
        "if marks >= 70:\n",
        "  print(\"You are qualified\")\n",
        "else:\n",
        "  print(\"you are not qualified\")"
      ],
      "metadata": {
        "colab": {
          "base_uri": "https://localhost:8080/"
        },
        "id": "PZYtRR7Wkya-",
        "outputId": "3fc3b7fc-2e33-4784-9279-c932c040f416"
      },
      "execution_count": null,
      "outputs": [
        {
          "output_type": "stream",
          "name": "stdout",
          "text": [
            "Enter your marks: 80.5\n",
            "You are qualified\n"
          ]
        }
      ]
    },
    {
      "cell_type": "markdown",
      "source": [
        "# **if - elif:**"
      ],
      "metadata": {
        "id": "LMRi3nz5ljOM"
      }
    },
    {
      "cell_type": "code",
      "source": [
        "if 1 > 5:\n",
        "  a = 50\n",
        "  print(a+10)\n",
        "elif 2<3:\n",
        "  print(\"Data\")"
      ],
      "metadata": {
        "colab": {
          "base_uri": "https://localhost:8080/"
        },
        "id": "dA9h_piAlHt5",
        "outputId": "9e7ad663-1285-4953-fcb8-9e20d6014769"
      },
      "execution_count": null,
      "outputs": [
        {
          "output_type": "stream",
          "name": "stdout",
          "text": [
            "Data\n"
          ]
        }
      ]
    },
    {
      "cell_type": "code",
      "source": [
        "marks= eval(input(\"your marks :\"))\n",
        "\n",
        "if marks >=90:\n",
        "  print(\"Grade A\")\n",
        "elif marks>=70:\n",
        "  print(\"Grade B\")\n",
        "elif marks<70:\n",
        "  print(\"Failed\")"
      ],
      "metadata": {
        "colab": {
          "base_uri": "https://localhost:8080/"
        },
        "id": "sQj3mSyIlv95",
        "outputId": "8c843ce7-2ccc-4dce-f4fb-a8c475e73bf7"
      },
      "execution_count": null,
      "outputs": [
        {
          "output_type": "stream",
          "name": "stdout",
          "text": [
            "your marks :70\n",
            "Grade B\n"
          ]
        }
      ]
    },
    {
      "cell_type": "markdown",
      "source": [
        "# **if - elif - else:**"
      ],
      "metadata": {
        "id": "2pny1cfVmfl_"
      }
    },
    {
      "cell_type": "code",
      "source": [
        "x = 1\n",
        "\n",
        "if x > 0:\n",
        "  print(\"Positive\")\n",
        "elif x == 0:\n",
        "  print(\"Zero\")\n",
        "else :\n",
        "  print(\"Negative\")\n"
      ],
      "metadata": {
        "colab": {
          "base_uri": "https://localhost:8080/"
        },
        "id": "nK1kli21mMHK",
        "outputId": "0f25b8c1-f3ff-4794-9548-db14fadac38c"
      },
      "execution_count": null,
      "outputs": [
        {
          "output_type": "stream",
          "name": "stdout",
          "text": [
            "Positive\n"
          ]
        }
      ]
    },
    {
      "cell_type": "code",
      "source": [
        "marks= eval(input(\"your marks :\"))\n",
        "\n",
        "if marks >=90:\n",
        "  print(\"Grade A\")\n",
        "elif marks>=70:\n",
        "  print(\"Grade B\")\n",
        "else:\n",
        "  print(\"Failed\")"
      ],
      "metadata": {
        "colab": {
          "base_uri": "https://localhost:8080/"
        },
        "id": "L0413pedm9Is",
        "outputId": "62dc3d8d-2c06-4221-ffe2-2878335c3551"
      },
      "execution_count": null,
      "outputs": [
        {
          "output_type": "stream",
          "name": "stdout",
          "text": [
            "your marks :65\n",
            "Failed\n"
          ]
        }
      ]
    },
    {
      "cell_type": "markdown",
      "source": [
        "# **Nested if Statements**\n",
        "- We can have a if...elif...else statement inside another if...elif...else statement. This is called nesting in computer programming."
      ],
      "metadata": {
        "id": "uwp3ib7QnkC2"
      }
    },
    {
      "cell_type": "code",
      "source": [
        "if 1<3:\n",
        "  if 2>3:\n",
        "    print(\"srk\")\n",
        "  else:\n",
        "    print (\"python\")\n",
        "else:\n",
        "  print(\"ds\")"
      ],
      "metadata": {
        "id": "bsB3e3qPm_bW",
        "outputId": "d02b14da-cf21-4907-b1f2-15dbdaa58af6",
        "colab": {
          "base_uri": "https://localhost:8080/"
        }
      },
      "execution_count": null,
      "outputs": [
        {
          "output_type": "stream",
          "name": "stdout",
          "text": [
            "python\n"
          ]
        }
      ]
    },
    {
      "cell_type": "code",
      "source": [
        "#atm machine\n",
        "pin=1234\n",
        "balance=50000\n",
        "\n",
        "entered_pin = int(input(\"enter the pin number:\"))\n",
        "if entered_pin == pin:\n",
        "  amount = int(input(\"enter the amount for withdrawl\"))\n",
        "  if amount<=balance:\n",
        "    print(\"transcation completed\")\n",
        "  else:\n",
        "    print(\"insufficient balance\")\n",
        "else:\n",
        "  print(\"invalid pin\")"
      ],
      "metadata": {
        "id": "m7dsm3x90RxY",
        "outputId": "ab545fd1-d472-417d-d0e3-bbc793efbf3c",
        "colab": {
          "base_uri": "https://localhost:8080/"
        }
      },
      "execution_count": null,
      "outputs": [
        {
          "output_type": "stream",
          "name": "stdout",
          "text": [
            "enter the pin number:3456\n",
            "invalid pin\n"
          ]
        }
      ]
    },
    {
      "cell_type": "code",
      "source": [],
      "metadata": {
        "id": "8w5Uqa9h2ELC"
      },
      "execution_count": null,
      "outputs": []
    }
  ]
}