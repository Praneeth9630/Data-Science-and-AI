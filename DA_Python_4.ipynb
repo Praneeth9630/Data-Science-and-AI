{
  "nbformat": 4,
  "nbformat_minor": 0,
  "metadata": {
    "colab": {
      "provenance": [],
      "authorship_tag": "ABX9TyOfqg2e9jjOB/QbCxCUtCHW",
      "include_colab_link": true
    },
    "kernelspec": {
      "name": "python3",
      "display_name": "Python 3"
    },
    "language_info": {
      "name": "python"
    }
  },
  "cells": [
    {
      "cell_type": "markdown",
      "metadata": {
        "id": "view-in-github",
        "colab_type": "text"
      },
      "source": [
        "<a href=\"https://colab.research.google.com/github/Praneeth9630/Data-Science-and-AI/blob/main/DA_Python_4.ipynb\" target=\"_parent\"><img src=\"https://colab.research.google.com/assets/colab-badge.svg\" alt=\"Open In Colab\"/></a>"
      ]
    },
    {
      "cell_type": "markdown",
      "source": [
        "# **String method**\n",
        "**str.upper()**\n",
        "- returns a copy of string with all characters in uppercase"
      ],
      "metadata": {
        "id": "uABgaWcpHp5p"
      }
    },
    {
      "cell_type": "code",
      "execution_count": 1,
      "metadata": {
        "colab": {
          "base_uri": "https://localhost:8080/",
          "height": 36
        },
        "id": "BLhyAXW3Hni2",
        "outputId": "1aa3781b-2ea4-4eaf-f570-a350baca42c9"
      },
      "outputs": [
        {
          "output_type": "execute_result",
          "data": {
            "text/plain": [
              "'HELLO WORLD'"
            ],
            "application/vnd.google.colaboratory.intrinsic+json": {
              "type": "string"
            }
          },
          "metadata": {},
          "execution_count": 1
        }
      ],
      "source": [
        "s = \"hello World\"\n",
        "s.upper()"
      ]
    },
    {
      "cell_type": "markdown",
      "source": [
        "**str.lower()**\n",
        "\n",
        "returns a copy of string with all characters in lowercase"
      ],
      "metadata": {
        "id": "FdGRIYrDI3IQ"
      }
    },
    {
      "cell_type": "code",
      "source": [
        "s = \"HELLO WORLD\"\n",
        "s.lower()"
      ],
      "metadata": {
        "colab": {
          "base_uri": "https://localhost:8080/",
          "height": 36
        },
        "id": "qQwHf8g_Izih",
        "outputId": "0ae05542-80ac-47f9-8358-ae9df0e84ec7"
      },
      "execution_count": 2,
      "outputs": [
        {
          "output_type": "execute_result",
          "data": {
            "text/plain": [
              "'hello world'"
            ],
            "application/vnd.google.colaboratory.intrinsic+json": {
              "type": "string"
            }
          },
          "metadata": {},
          "execution_count": 2
        }
      ]
    },
    {
      "cell_type": "markdown",
      "source": [
        "**str.swapcase()**\n",
        "- returns a copy of string with all uppercase characters converted to lowercase and viceversa"
      ],
      "metadata": {
        "id": "eKE-Q0fYJFw2"
      }
    },
    {
      "cell_type": "code",
      "source": [
        "s = \"hELLo WOrlD\"\n",
        "s.swapcase()"
      ],
      "metadata": {
        "colab": {
          "base_uri": "https://localhost:8080/",
          "height": 36
        },
        "id": "KY6i7iinJCso",
        "outputId": "323519b0-a2d9-4098-e199-31ea2b4bbf28"
      },
      "execution_count": 3,
      "outputs": [
        {
          "output_type": "execute_result",
          "data": {
            "text/plain": [
              "'HellO woRLd'"
            ],
            "application/vnd.google.colaboratory.intrinsic+json": {
              "type": "string"
            }
          },
          "metadata": {},
          "execution_count": 3
        }
      ]
    },
    {
      "cell_type": "markdown",
      "source": [
        "**str.capitalize()**\n",
        "- returns a copy of string with first letter capitalized and remaining all to lowercase"
      ],
      "metadata": {
        "id": "_peOeKCsJg09"
      }
    },
    {
      "cell_type": "code",
      "source": [
        "s = \"hello WORLD\"\n",
        "s.capitalize()"
      ],
      "metadata": {
        "colab": {
          "base_uri": "https://localhost:8080/",
          "height": 36
        },
        "id": "LBG1GHYOJfUN",
        "outputId": "60cc36ae-8cd1-496d-8f0e-3917f1720391"
      },
      "execution_count": 4,
      "outputs": [
        {
          "output_type": "execute_result",
          "data": {
            "text/plain": [
              "'Hello world'"
            ],
            "application/vnd.google.colaboratory.intrinsic+json": {
              "type": "string"
            }
          },
          "metadata": {},
          "execution_count": 4
        }
      ]
    },
    {
      "cell_type": "code",
      "source": [
        "s = \".hello WORLD\"\n",
        "s.capitalize()"
      ],
      "metadata": {
        "colab": {
          "base_uri": "https://localhost:8080/",
          "height": 36
        },
        "id": "_UWWozIlJ8Qm",
        "outputId": "0ed5c4a2-f321-4716-b415-6b1e3f5203ea"
      },
      "execution_count": 5,
      "outputs": [
        {
          "output_type": "execute_result",
          "data": {
            "text/plain": [
              "'.hello world'"
            ],
            "application/vnd.google.colaboratory.intrinsic+json": {
              "type": "string"
            }
          },
          "metadata": {},
          "execution_count": 5
        }
      ]
    },
    {
      "cell_type": "markdown",
      "source": [
        "**str.title()**\n",
        "- returns a copy of string with first letter in each word capitalized and remaining all to lowercase"
      ],
      "metadata": {
        "id": "uSfozr8EKBYs"
      }
    },
    {
      "cell_type": "code",
      "source": [
        "s = \"good mORNING\"\n",
        "s.title()"
      ],
      "metadata": {
        "colab": {
          "base_uri": "https://localhost:8080/",
          "height": 36
        },
        "id": "vLTxtSEPKAe1",
        "outputId": "c7350074-97f6-47dd-e4d1-a0d744f217ba"
      },
      "execution_count": 6,
      "outputs": [
        {
          "output_type": "execute_result",
          "data": {
            "text/plain": [
              "'Good Morning'"
            ],
            "application/vnd.google.colaboratory.intrinsic+json": {
              "type": "string"
            }
          },
          "metadata": {},
          "execution_count": 6
        }
      ]
    },
    {
      "cell_type": "markdown",
      "source": [
        "**str.strip()**\n",
        "- returns a copy of the string with leading and trailing whitespaces removed"
      ],
      "metadata": {
        "id": "vZWHKMABKdav"
      }
    },
    {
      "cell_type": "code",
      "source": [
        "s = \" Python is easy \"\n",
        "s.strip()"
      ],
      "metadata": {
        "colab": {
          "base_uri": "https://localhost:8080/",
          "height": 36
        },
        "id": "blXdQzqfKXQR",
        "outputId": "dad800bc-151e-4ad2-eee2-fa40eae1eb66"
      },
      "execution_count": 7,
      "outputs": [
        {
          "output_type": "execute_result",
          "data": {
            "text/plain": [
              "'Python is easy'"
            ],
            "application/vnd.google.colaboratory.intrinsic+json": {
              "type": "string"
            }
          },
          "metadata": {},
          "execution_count": 7
        }
      ]
    },
    {
      "cell_type": "markdown",
      "source": [
        "**str.lstrip()**\n",
        "- returns a copy of the string with leading whitespaces removed"
      ],
      "metadata": {
        "id": "oUgheBT5LGH8"
      }
    },
    {
      "cell_type": "code",
      "source": [
        "s = \" Python \"\n",
        "s.lstrip()"
      ],
      "metadata": {
        "colab": {
          "base_uri": "https://localhost:8080/",
          "height": 36
        },
        "id": "CQPsZd3eKyQN",
        "outputId": "a144d5a9-d437-4c0b-a542-d9417eb61801"
      },
      "execution_count": 8,
      "outputs": [
        {
          "output_type": "execute_result",
          "data": {
            "text/plain": [
              "'Python '"
            ],
            "application/vnd.google.colaboratory.intrinsic+json": {
              "type": "string"
            }
          },
          "metadata": {},
          "execution_count": 8
        }
      ]
    },
    {
      "cell_type": "markdown",
      "source": [
        "**str.strip()**\n",
        "\n",
        "- returns a copy of the string with trailing whitespaces removed"
      ],
      "metadata": {
        "id": "-DuzdbPjLdKM"
      }
    },
    {
      "cell_type": "code",
      "source": [
        "s = \" Python \"\n",
        "s.rstrip()"
      ],
      "metadata": {
        "colab": {
          "base_uri": "https://localhost:8080/",
          "height": 36
        },
        "id": "VnEvLCIGLXwN",
        "outputId": "af02c2cf-915b-472f-b498-60bbd2a7a05f"
      },
      "execution_count": 9,
      "outputs": [
        {
          "output_type": "execute_result",
          "data": {
            "text/plain": [
              "' Python'"
            ],
            "application/vnd.google.colaboratory.intrinsic+json": {
              "type": "string"
            }
          },
          "metadata": {},
          "execution_count": 9
        }
      ]
    },
    {
      "cell_type": "markdown",
      "source": [
        "**str.replace()**\n",
        "- returns the copy of a string with all the occurences of a specified substring replaced with another substring"
      ],
      "metadata": {
        "id": "mGsh9h-mLrRS"
      }
    },
    {
      "cell_type": "code",
      "source": [
        "s = \"Good Morning\"\n",
        "s.replace(\"Good\",\"Bad\")"
      ],
      "metadata": {
        "colab": {
          "base_uri": "https://localhost:8080/",
          "height": 36
        },
        "id": "v1dJe0uQLl-t",
        "outputId": "0296e28b-926c-4362-bb1c-c05a5ea46c5f"
      },
      "execution_count": 10,
      "outputs": [
        {
          "output_type": "execute_result",
          "data": {
            "text/plain": [
              "'Bad Morning'"
            ],
            "application/vnd.google.colaboratory.intrinsic+json": {
              "type": "string"
            }
          },
          "metadata": {},
          "execution_count": 10
        }
      ]
    },
    {
      "cell_type": "markdown",
      "source": [
        "**str.split()**\n",
        "- splits the string in to list of substrings based on specific delimeter\n",
        "- if no delimeter is selected it will take whitespace will be selected as default delimeter"
      ],
      "metadata": {
        "id": "W7aJLMNXMMUB"
      }
    },
    {
      "cell_type": "code",
      "source": [
        "s = \"my name, is praneeth\"\n",
        "s.split()"
      ],
      "metadata": {
        "colab": {
          "base_uri": "https://localhost:8080/"
        },
        "id": "S4KNgsAwMJYY",
        "outputId": "a649b367-bab5-46b6-b328-c763cebf5a6f"
      },
      "execution_count": 11,
      "outputs": [
        {
          "output_type": "execute_result",
          "data": {
            "text/plain": [
              "['my', 'name,', 'is', 'praneeth']"
            ]
          },
          "metadata": {},
          "execution_count": 11
        }
      ]
    },
    {
      "cell_type": "code",
      "source": [
        "s = \"my name, is praneeth\"\n",
        "s.split(\",\")"
      ],
      "metadata": {
        "colab": {
          "base_uri": "https://localhost:8080/"
        },
        "id": "7Q_CIzXQMl75",
        "outputId": "29eca527-6a03-4c09-cc3f-92590bc5eca9"
      },
      "execution_count": 12,
      "outputs": [
        {
          "output_type": "execute_result",
          "data": {
            "text/plain": [
              "['my name', ' is praneeth']"
            ]
          },
          "metadata": {},
          "execution_count": 12
        }
      ]
    },
    {
      "cell_type": "markdown",
      "source": [
        "**str.join()**\n",
        "- join a list of string into a single string, using a specified delimeter"
      ],
      "metadata": {
        "id": "po0BlqmgMrwu"
      }
    },
    {
      "cell_type": "code",
      "source": [
        "s = [\"my\",\"name\",\"is\",\"Praneeth\"]\n",
        "\"\".join(s)"
      ],
      "metadata": {
        "colab": {
          "base_uri": "https://localhost:8080/",
          "height": 36
        },
        "id": "UvrlE_CgMpds",
        "outputId": "835df709-c230-4901-a9a6-5a9d64d5563b"
      },
      "execution_count": 13,
      "outputs": [
        {
          "output_type": "execute_result",
          "data": {
            "text/plain": [
              "'mynameisPraneeth'"
            ],
            "application/vnd.google.colaboratory.intrinsic+json": {
              "type": "string"
            }
          },
          "metadata": {},
          "execution_count": 13
        }
      ]
    },
    {
      "cell_type": "markdown",
      "source": [
        "**str.index()**\n",
        "- returns the index of first occurence of the string searched for. (raises value error if not found)"
      ],
      "metadata": {
        "id": "aP6t0iNZNGCT"
      }
    },
    {
      "cell_type": "code",
      "source": [
        "s = \"Python is very very easy\"\n",
        "s.index(\"Python\")"
      ],
      "metadata": {
        "colab": {
          "base_uri": "https://localhost:8080/"
        },
        "id": "WByUaxtcNAGm",
        "outputId": "a308c4f1-9be3-480e-ea30-23740f5e5d70"
      },
      "execution_count": 14,
      "outputs": [
        {
          "output_type": "execute_result",
          "data": {
            "text/plain": [
              "0"
            ]
          },
          "metadata": {},
          "execution_count": 14
        }
      ]
    },
    {
      "cell_type": "markdown",
      "source": [
        "**str.find()**\n",
        "- returns the index of first occurence of the substring in the string\n",
        "- returns -1 if substring is not found"
      ],
      "metadata": {
        "id": "N-ebNZYLNb0h"
      }
    },
    {
      "cell_type": "code",
      "source": [
        "s = \"Python is very very easy\"\n",
        "s.find(\"Python\")\n"
      ],
      "metadata": {
        "colab": {
          "base_uri": "https://localhost:8080/"
        },
        "id": "GI3n8sz-NZ00",
        "outputId": "f4656040-94a2-4136-eec8-3c2b66ed5ad7"
      },
      "execution_count": 17,
      "outputs": [
        {
          "output_type": "execute_result",
          "data": {
            "text/plain": [
              "0"
            ]
          },
          "metadata": {},
          "execution_count": 17
        }
      ]
    },
    {
      "cell_type": "code",
      "source": [
        "s = \"Python is very very easy\"\n",
        "s.find(\"very\")"
      ],
      "metadata": {
        "colab": {
          "base_uri": "https://localhost:8080/"
        },
        "id": "5QsQJVLEN-w7",
        "outputId": "686bed22-cc79-4235-aff7-1f396354259d"
      },
      "execution_count": 16,
      "outputs": [
        {
          "output_type": "execute_result",
          "data": {
            "text/plain": [
              "10"
            ]
          },
          "metadata": {},
          "execution_count": 16
        }
      ]
    },
    {
      "cell_type": "markdown",
      "source": [
        "**str.count()**\n",
        "- returns the number of no-overlapping occurences of a substring in the searched string"
      ],
      "metadata": {
        "id": "peYkCyF2OS8o"
      }
    },
    {
      "cell_type": "code",
      "source": [
        "s = \"Good Morning\"\n",
        "s.count(\"o\")"
      ],
      "metadata": {
        "colab": {
          "base_uri": "https://localhost:8080/"
        },
        "id": "nP-_Fup3ORUX",
        "outputId": "a89a3722-52a6-41e0-8225-2cdba591853e"
      },
      "execution_count": 18,
      "outputs": [
        {
          "output_type": "execute_result",
          "data": {
            "text/plain": [
              "3"
            ]
          },
          "metadata": {},
          "execution_count": 18
        }
      ]
    },
    {
      "cell_type": "markdown",
      "source": [
        "**str.startswith()**\n",
        "- returns with a boolean stating whether a string starts with specified prefix"
      ],
      "metadata": {
        "id": "wgDV3o3bOrwI"
      }
    },
    {
      "cell_type": "code",
      "source": [
        "my_str = \"praneeth123\"\n",
        "print(my_str.startswith(\"pr\"))"
      ],
      "metadata": {
        "colab": {
          "base_uri": "https://localhost:8080/"
        },
        "id": "7zUGptOHOrHV",
        "outputId": "b4eea3ce-6106-4924-b202-453dc7dfc298"
      },
      "execution_count": 22,
      "outputs": [
        {
          "output_type": "stream",
          "name": "stdout",
          "text": [
            "True\n"
          ]
        }
      ]
    },
    {
      "cell_type": "code",
      "source": [
        "my_str = \"praneeth123\"\n",
        "print(my_str.startswith(\"su\"))"
      ],
      "metadata": {
        "colab": {
          "base_uri": "https://localhost:8080/"
        },
        "id": "5Yt8Bk73PBvY",
        "outputId": "6740707e-9191-4312-90e8-5c8a8db1a0b4"
      },
      "execution_count": 23,
      "outputs": [
        {
          "output_type": "stream",
          "name": "stdout",
          "text": [
            "False\n"
          ]
        }
      ]
    },
    {
      "cell_type": "markdown",
      "source": [
        "**str.endswith()**\n",
        "- returns with a boolean stating whether a string ends with specified suffix"
      ],
      "metadata": {
        "id": "VMF72TR5POc3"
      }
    },
    {
      "cell_type": "code",
      "source": [
        "my_str = \"praneeth123\"\n",
        "print(my_str.endswith(\"123\"))"
      ],
      "metadata": {
        "colab": {
          "base_uri": "https://localhost:8080/"
        },
        "id": "J4Do_gRJPNbY",
        "outputId": "9e2cbe93-7cc9-498c-8b8e-24b377ea257d"
      },
      "execution_count": 24,
      "outputs": [
        {
          "output_type": "stream",
          "name": "stdout",
          "text": [
            "True\n"
          ]
        }
      ]
    },
    {
      "cell_type": "markdown",
      "source": [
        "**str.isalnum()**\n",
        "- returns a boolean stating whether a string contains only letters and numbers"
      ],
      "metadata": {
        "id": "UQu-QKsePfeJ"
      }
    },
    {
      "cell_type": "code",
      "source": [
        "my_str = \"praneeth123\"\n",
        "print(my_str.isalnum())"
      ],
      "metadata": {
        "colab": {
          "base_uri": "https://localhost:8080/"
        },
        "id": "Gwqb6F7CPeLH",
        "outputId": "8d0626c7-f090-4acc-ce80-119e310e1254"
      },
      "execution_count": 25,
      "outputs": [
        {
          "output_type": "stream",
          "name": "stdout",
          "text": [
            "True\n"
          ]
        }
      ]
    },
    {
      "cell_type": "code",
      "source": [
        "my_str = \"praneeth@123\"\n",
        "print(my_str.isalnum())"
      ],
      "metadata": {
        "colab": {
          "base_uri": "https://localhost:8080/"
        },
        "id": "DFhfoTVCP2aO",
        "outputId": "05000581-043c-4636-d8d7-c1946e722e37"
      },
      "execution_count": 26,
      "outputs": [
        {
          "output_type": "stream",
          "name": "stdout",
          "text": [
            "False\n"
          ]
        }
      ]
    },
    {
      "cell_type": "markdown",
      "source": [
        "**str.isalpha()**\n",
        "- returns a boolean stating whether a string contains only letters"
      ],
      "metadata": {
        "id": "6ed4gkDqP5oB"
      }
    },
    {
      "cell_type": "code",
      "source": [
        "my_str = \"praneeth123\"\n",
        "print(my_str.isalpha())"
      ],
      "metadata": {
        "colab": {
          "base_uri": "https://localhost:8080/"
        },
        "id": "LPjUWITeP5CO",
        "outputId": "ab92041c-e9d5-42f9-a3eb-5ff62e56f62f"
      },
      "execution_count": 27,
      "outputs": [
        {
          "output_type": "stream",
          "name": "stdout",
          "text": [
            "False\n"
          ]
        }
      ]
    },
    {
      "cell_type": "code",
      "source": [
        "my_str = \"praneeth\"\n",
        "print(my_str.isalpha())"
      ],
      "metadata": {
        "colab": {
          "base_uri": "https://localhost:8080/"
        },
        "id": "yJcq1EwQQIfa",
        "outputId": "11ae462e-47fe-48b3-8e81-e46ccec5682c"
      },
      "execution_count": 28,
      "outputs": [
        {
          "output_type": "stream",
          "name": "stdout",
          "text": [
            "True\n"
          ]
        }
      ]
    },
    {
      "cell_type": "markdown",
      "source": [
        "**str.isdigit()**\n",
        "- returns a boolean stating whether a string contains only numbers"
      ],
      "metadata": {
        "id": "RGMQK6HRQLQd"
      }
    },
    {
      "cell_type": "code",
      "source": [
        "my_str = \"praneeth123\"\n",
        "print(my_str.isdigit())"
      ],
      "metadata": {
        "colab": {
          "base_uri": "https://localhost:8080/"
        },
        "id": "I3cfnGntQKhN",
        "outputId": "f744631e-eed6-424c-e81a-6c063af3ecc9"
      },
      "execution_count": 29,
      "outputs": [
        {
          "output_type": "stream",
          "name": "stdout",
          "text": [
            "False\n"
          ]
        }
      ]
    },
    {
      "cell_type": "code",
      "source": [
        "my_str = \"123\"\n",
        "print(my_str.isdigit())"
      ],
      "metadata": {
        "colab": {
          "base_uri": "https://localhost:8080/"
        },
        "id": "aivMsR9oQYKf",
        "outputId": "8a9a49e6-724c-432a-8cca-65ea2a1da8b8"
      },
      "execution_count": 30,
      "outputs": [
        {
          "output_type": "stream",
          "name": "stdout",
          "text": [
            "True\n"
          ]
        }
      ]
    },
    {
      "cell_type": "markdown",
      "source": [
        "**str.islower()**\n",
        "- returns a boolean stating whether a string is in lowercase"
      ],
      "metadata": {
        "id": "ln1ixVQIQi6e"
      }
    },
    {
      "cell_type": "code",
      "source": [
        "my_str = \"praneeth123\"\n",
        "print(my_str.islower())"
      ],
      "metadata": {
        "colab": {
          "base_uri": "https://localhost:8080/"
        },
        "id": "kDHpFSDYQblJ",
        "outputId": "c732a056-4972-4e30-e7b4-203b49b8422b"
      },
      "execution_count": 31,
      "outputs": [
        {
          "output_type": "stream",
          "name": "stdout",
          "text": [
            "True\n"
          ]
        }
      ]
    },
    {
      "cell_type": "markdown",
      "source": [
        "**str.isupper()**\n",
        "- returns a boolean stating whether a string is in uppercase"
      ],
      "metadata": {
        "id": "Sc554LFRQwyd"
      }
    },
    {
      "cell_type": "code",
      "source": [
        "my_str = \"PRANEETH123\"\n",
        "print(my_str.isupper())"
      ],
      "metadata": {
        "colab": {
          "base_uri": "https://localhost:8080/"
        },
        "id": "BMopNz1KQv0Z",
        "outputId": "a6210ce3-f0d6-4462-f7e2-0eb1ca906774"
      },
      "execution_count": 32,
      "outputs": [
        {
          "output_type": "stream",
          "name": "stdout",
          "text": [
            "True\n"
          ]
        }
      ]
    },
    {
      "cell_type": "markdown",
      "source": [
        "**str.isspace()**\n",
        "- returns a boolean stating whether a string contains only whitespaces"
      ],
      "metadata": {
        "id": "q0fGv5jUREDG"
      }
    },
    {
      "cell_type": "code",
      "source": [
        "my_str = \"        \"\n",
        "print(my_str.isspace())"
      ],
      "metadata": {
        "colab": {
          "base_uri": "https://localhost:8080/"
        },
        "id": "UaUA-ieRRDPt",
        "outputId": "5ef3e416-18ba-4df2-9cdb-d28948c96afe"
      },
      "execution_count": 33,
      "outputs": [
        {
          "output_type": "stream",
          "name": "stdout",
          "text": [
            "True\n"
          ]
        }
      ]
    },
    {
      "cell_type": "markdown",
      "source": [
        "**str.istitle()**\n",
        "- returns a boolean stating whether a string is in title case"
      ],
      "metadata": {
        "id": "40pBJUeuRRXt"
      }
    },
    {
      "cell_type": "code",
      "source": [
        "my_str = \"Praneeth123\"\n",
        "print(my_str.istitle())"
      ],
      "metadata": {
        "colab": {
          "base_uri": "https://localhost:8080/"
        },
        "id": "8ibl4lk3RQdi",
        "outputId": "ec70f439-7e7f-4c22-b573-866fe464d7b9"
      },
      "execution_count": 34,
      "outputs": [
        {
          "output_type": "stream",
          "name": "stdout",
          "text": [
            "True\n"
          ]
        }
      ]
    },
    {
      "cell_type": "markdown",
      "source": [
        "**str.removeprefix()**\n",
        "- returns a string with given prefix string removed if present"
      ],
      "metadata": {
        "id": "L6rtqDrORgzp"
      }
    },
    {
      "cell_type": "code",
      "source": [
        "my_str = \"Python\"\n",
        "print(my_str.removeprefix(\"Py\"))"
      ],
      "metadata": {
        "colab": {
          "base_uri": "https://localhost:8080/"
        },
        "id": "vqozom4GRf1F",
        "outputId": "8515b634-f2db-4f4a-cc20-32189996c86c"
      },
      "execution_count": 36,
      "outputs": [
        {
          "output_type": "stream",
          "name": "stdout",
          "text": [
            "thon\n"
          ]
        }
      ]
    },
    {
      "cell_type": "markdown",
      "source": [
        "**str.removesuffix()**\n",
        "- returns a string with given suffix string removed if present"
      ],
      "metadata": {
        "id": "eUsavzjHSHlK"
      }
    },
    {
      "cell_type": "code",
      "source": [
        "my_str = \"Python\"\n",
        "print(my_str.removesuffix(\"on\"))"
      ],
      "metadata": {
        "colab": {
          "base_uri": "https://localhost:8080/"
        },
        "id": "9BYPy4l5SA87",
        "outputId": "c083845c-a3b8-4963-e840-4bc0b0a4e551"
      },
      "execution_count": 37,
      "outputs": [
        {
          "output_type": "stream",
          "name": "stdout",
          "text": [
            "Pyth\n"
          ]
        }
      ]
    },
    {
      "cell_type": "markdown",
      "source": [
        "#\n",
        "#"
      ],
      "metadata": {
        "id": "Z36MSSWFSV7L"
      }
    },
    {
      "cell_type": "code",
      "source": [],
      "metadata": {
        "id": "V2s_xfXYST2K"
      },
      "execution_count": null,
      "outputs": []
    }
  ]
}